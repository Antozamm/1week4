{
 "cells": [
  {
   "cell_type": "code",
   "execution_count": 80,
   "metadata": {},
   "outputs": [],
   "source": [
    "import re\n",
    "import os"
   ]
  },
  {
   "cell_type": "code",
   "execution_count": 81,
   "metadata": {},
   "outputs": [],
   "source": [
    "if 0:\n",
    "    original_file = 'Logistic_Regression_con_Pytorch.ipynb'\n",
    "    picprefix = 'regressione-logistica-Pytorch-'\n",
    "    postid = '17568'\n",
    "\n",
    "if 0:\n",
    "    original_file = 'My_First_Pytorch_NN_2.ipynb'\n",
    "    picprefix = 'primi-passi-Pytorch-'\n",
    "    postid = '7010'\n",
    "    \n",
    "if 0:\n",
    "    original_file = 'LinearRegression_w_Pytorch2.ipynb'\n",
    "    picprefix = 'regressione-lineare-Pytorch-'\n",
    "    postid = '15506'\n",
    "\n",
    "folder_file = 'Database'\n",
    "original_file = 'PostgreSQL.ipynb'\n",
    "picprefix = 'postgreSQL-'"
   ]
  },
  {
   "cell_type": "code",
   "execution_count": 82,
   "metadata": {},
   "outputs": [
    {
     "name": "stdout",
     "output_type": "stream",
     "text": [
      "\n"
     ]
    }
   ],
   "source": [
    "print(os.popen('del \"../' + folder_file + '/' + original_file.split('.')[0] + '.html' + '\"' ).read())"
   ]
  },
  {
   "cell_type": "code",
   "execution_count": 83,
   "metadata": {},
   "outputs": [
    {
     "name": "stdout",
     "output_type": "stream",
     "text": [
      "\n"
     ]
    }
   ],
   "source": [
    "print(os.popen('jupyter nbconvert --to html ../' + folder_file + '/' + original_file ).read())"
   ]
  },
  {
   "cell_type": "code",
   "execution_count": 84,
   "metadata": {},
   "outputs": [
    {
     "data": {
      "text/plain": [
       "'..\\\\..\\\\UNCSS4\\\\PostgreSQL.html'"
      ]
     },
     "execution_count": 84,
     "metadata": {},
     "output_type": "execute_result"
    }
   ],
   "source": [
    "file_to_process = '..\\\\..\\\\UNCSS4\\\\' + original_file.split('.')[0] + '.html'\n",
    "file_to_process"
   ]
  },
  {
   "cell_type": "code",
   "execution_count": 85,
   "metadata": {},
   "outputs": [
    {
     "data": {
      "text/plain": [
       "'copy \"..\\\\Database\\\\PostgreSQL.html\" \"..\\\\..\\\\UNCSS4\\\\PostgreSQL.html\"'"
      ]
     },
     "execution_count": 85,
     "metadata": {},
     "output_type": "execute_result"
    }
   ],
   "source": [
    "string_copy = 'copy \"..\\\\' + folder_file + '\\\\' + original_file.split('.')[0] + '.html' + '\" \"' + file_to_process + '\"'\n",
    "string_copy"
   ]
  },
  {
   "cell_type": "code",
   "execution_count": 86,
   "metadata": {},
   "outputs": [
    {
     "name": "stdout",
     "output_type": "stream",
     "text": [
      "\n",
      "        1 file(s) copied.\n",
      "\n"
     ]
    }
   ],
   "source": [
    "print(os.popen('del \"' + file_to_process + '\"' ).read())\n",
    "print(os.popen(string_copy).read())"
   ]
  },
  {
   "cell_type": "code",
   "execution_count": 87,
   "metadata": {},
   "outputs": [],
   "source": [
    "file = open(file_to_process, encoding=\"latin-1\")"
   ]
  },
  {
   "cell_type": "code",
   "execution_count": 88,
   "metadata": {},
   "outputs": [],
   "source": [
    "txtfile = file.read()"
   ]
  },
  {
   "cell_type": "code",
   "execution_count": 89,
   "metadata": {},
   "outputs": [],
   "source": [
    "txtfile = txtfile.encode('utf8').decode('ascii', 'ignore')"
   ]
  },
  {
   "cell_type": "code",
   "execution_count": 90,
   "metadata": {},
   "outputs": [],
   "source": [
    "file.close()"
   ]
  },
  {
   "cell_type": "markdown",
   "metadata": {},
   "source": [
    "### remove empty cell"
   ]
  },
  {
   "cell_type": "code",
   "execution_count": 91,
   "metadata": {},
   "outputs": [],
   "source": [
    "remove_empty_cell = '<div class=\"cell border-box-sizing text_cell rendered\">\\s*\\n*<div class=\"prompt input_prompt\">\\s*\\n*\\\n",
    "</div>\\s*\\n*<div class=\"inner_cell\">\\s*\\n*<div class=\"text_cell_render border-box-sizing rendered_html\">\\s*\\n*</div>\\s*\\n*\\\n",
    "</div>\\s*\\n*</div>'"
   ]
  },
  {
   "cell_type": "code",
   "execution_count": 92,
   "metadata": {},
   "outputs": [],
   "source": [
    "remove_empty_cell_match = re.findall(remove_empty_cell, txtfile)"
   ]
  },
  {
   "cell_type": "code",
   "execution_count": 93,
   "metadata": {},
   "outputs": [],
   "source": [
    "for empty_cell in remove_empty_cell_match:\n",
    "    txtfile = txtfile.replace(empty_cell,'')"
   ]
  },
  {
   "cell_type": "markdown",
   "metadata": {},
   "source": [
    "### remove not existing css reference"
   ]
  },
  {
   "cell_type": "code",
   "execution_count": 94,
   "metadata": {},
   "outputs": [],
   "source": [
    "code_to_remove_pattern1 = '<!-- Custom stylesheet, it must be in the same directory as the html file -->[\\n*\\t*]*<link href=\"custom.css\" rel=\"stylesheet\" />[\\n]*'\n",
    "code_to_remove_pattern2 = '<!-- Custom stylesheet, it must be in the same directory as the html file -->[\\n*\\t*]*<link rel=\"stylesheet\" href=\"custom.css\">[\\n]*'"
   ]
  },
  {
   "cell_type": "code",
   "execution_count": 95,
   "metadata": {},
   "outputs": [],
   "source": [
    "code_to_remove1 = re.findall(code_to_remove_pattern1, txtfile)\n",
    "code_to_remove2 = re.findall(code_to_remove_pattern2, txtfile)"
   ]
  },
  {
   "cell_type": "code",
   "execution_count": 96,
   "metadata": {},
   "outputs": [],
   "source": [
    "txtfile = txtfile.replace(code_to_remove1[0],'') if code_to_remove1 != [] else txtfile\n",
    "txtfile = txtfile.replace(code_to_remove2[0],'') if code_to_remove2 != [] else txtfile"
   ]
  },
  {
   "cell_type": "markdown",
   "metadata": {},
   "source": [
    "### change notebook container"
   ]
  },
  {
   "cell_type": "code",
   "execution_count": 97,
   "metadata": {},
   "outputs": [],
   "source": [
    "# pattern = '(#notebook-container\\s*{[\\t*\\s*\\W*]*})'\n",
    "# pattern = '(#notebook-container\\s*{[\\t*\\s*\\w*:*;*\\-*#*\\(*\\)*]*)'\n",
    "pattern = '(media not print\\s*{\\n*\\t*\\s*#notebook-container\\s*{[\\t*\\s*\\w*\\D*]*?})'"
   ]
  },
  {
   "cell_type": "code",
   "execution_count": 98,
   "metadata": {},
   "outputs": [],
   "source": [
    "pattern_to_replace = 'media not print {\\n#notebook-container {\\npadding:15px;\\nbackground-color:#fff;\\nmin-height:0;\\nmargin-left:0;\\npadding-left:0;\\nwidth:100%;\\nmargin-right:0;\\npadding-right:0\\n}'"
   ]
  },
  {
   "cell_type": "code",
   "execution_count": 99,
   "metadata": {},
   "outputs": [],
   "source": [
    "match1 = re.findall(pattern, txtfile)"
   ]
  },
  {
   "cell_type": "code",
   "execution_count": 100,
   "metadata": {},
   "outputs": [],
   "source": [
    "if (match1 != []):\n",
    "    txtfile = txtfile.replace(match1[0], pattern_to_replace)"
   ]
  },
  {
   "cell_type": "markdown",
   "metadata": {},
   "source": [
    "## remove input prompt"
   ]
  },
  {
   "cell_type": "code",
   "execution_count": 101,
   "metadata": {},
   "outputs": [],
   "source": [
    "#remove empty div\n",
    "remove_pattern = '<div class=\"jp-InputPrompt jp-InputArea-prompt\">.*</div>\\n*'\n",
    "remove_match = re.findall(remove_pattern, txtfile)\n",
    "for remove_string in remove_match:\n",
    "    txtfile = txtfile.replace(remove_string,'')"
   ]
  },
  {
   "cell_type": "code",
   "execution_count": 102,
   "metadata": {},
   "outputs": [
    {
     "data": {
      "text/plain": [
       "['<div class=\"jp-InputPrompt jp-InputArea-prompt\">In&nbsp;[3]:</div>\\n',\n",
       " '<div class=\"jp-InputPrompt jp-InputArea-prompt\">In&nbsp;[4]:</div>\\n',\n",
       " '<div class=\"jp-InputPrompt jp-InputArea-prompt\">In&nbsp;[27]:</div>\\n',\n",
       " '<div class=\"jp-InputPrompt jp-InputArea-prompt\">In&nbsp;[28]:</div>\\n',\n",
       " '<div class=\"jp-InputPrompt jp-InputArea-prompt\">In&nbsp;[29]:</div>\\n',\n",
       " '<div class=\"jp-InputPrompt jp-InputArea-prompt\">In&nbsp;[30]:</div>\\n',\n",
       " '<div class=\"jp-InputPrompt jp-InputArea-prompt\">In&nbsp;[31]:</div>\\n',\n",
       " '<div class=\"jp-InputPrompt jp-InputArea-prompt\">In&nbsp;[32]:</div>\\n',\n",
       " '<div class=\"jp-InputPrompt jp-InputArea-prompt\">In&nbsp;[33]:</div>\\n',\n",
       " '<div class=\"jp-InputPrompt jp-InputArea-prompt\">In&nbsp;[34]:</div>\\n',\n",
       " '<div class=\"jp-InputPrompt jp-InputArea-prompt\">In&nbsp;[35]:</div>\\n',\n",
       " '<div class=\"jp-InputPrompt jp-InputArea-prompt\">In&nbsp;[36]:</div>\\n',\n",
       " '<div class=\"jp-InputPrompt jp-InputArea-prompt\">In&nbsp;[37]:</div>\\n',\n",
       " '<div class=\"jp-InputPrompt jp-InputArea-prompt\">In&nbsp;[14]:</div>\\n',\n",
       " '<div class=\"jp-InputPrompt jp-InputArea-prompt\">In&nbsp;[15]:</div>\\n',\n",
       " '<div class=\"jp-InputPrompt jp-InputArea-prompt\">In&nbsp;[16]:</div>\\n',\n",
       " '<div class=\"jp-InputPrompt jp-InputArea-prompt\">In&nbsp;[17]:</div>\\n',\n",
       " '<div class=\"jp-InputPrompt jp-InputArea-prompt\">In&nbsp;[38]:</div>\\n',\n",
       " '<div class=\"jp-InputPrompt jp-InputArea-prompt\">In&nbsp;[&nbsp;]:</div>\\n']"
      ]
     },
     "execution_count": 102,
     "metadata": {},
     "output_type": "execute_result"
    }
   ],
   "source": [
    "remove_match"
   ]
  },
  {
   "cell_type": "markdown",
   "metadata": {},
   "source": [
    "## remove input prompt"
   ]
  },
  {
   "cell_type": "code",
   "execution_count": null,
   "metadata": {},
   "outputs": [],
   "source": [
    "#remove empty div\n",
    "remove_pattern = '<div class=\"jp-OutputPrompt jp-OutputArea-prompt\">.*</div>\\n*'\n",
    "remove_match = re.findall(remove_pattern, txtfile)\n",
    "for remove_string in remove_match:\n",
    "    txtfile = txtfile.replace(remove_string,'')"
   ]
  },
  {
   "cell_type": "markdown",
   "metadata": {},
   "source": [
    "### compact div for text"
   ]
  },
  {
   "cell_type": "markdown",
   "metadata": {},
   "source": [
    "pattern_original_file = '(<div class=\\\"cell border-box-sizing text_cell rendered\\\">\\n*<div class=\\\"prompt input_prompt\\\"></div>\\n*<div class=\\\"inner_cell\\\">\\n*<div class=\\\"text_cell_render border-box-sizing rendered_html\\\">\\n*[\\w\\W]+?<\\/div>\\n*<\\/div>\\n*<\\/div>)'"
   ]
  },
  {
   "cell_type": "markdown",
   "metadata": {},
   "source": [
    "block_match = re.findall(pattern_original_file, txtfile)"
   ]
  },
  {
   "cell_type": "markdown",
   "metadata": {},
   "source": [
    "pattern_to_replace = '(?:<div class=\\\"cell border-box-sizing text_cell rendered\\\">\\n*<div class=\\\"prompt input_prompt\\\"></div>\\n*<div class=\\\"inner_cell\\\">\\n*<div class=\\\"text_cell_render border-box-sizing rendered_html\\\">\\n*)([\\w\\W]+?)(?:<\\/div>\\n*<\\/div>\\n*<\\/div>)'"
   ]
  },
  {
   "cell_type": "markdown",
   "metadata": {},
   "source": [
    "for i in range(len(block_match)):\n",
    "#for i in range(2):\n",
    "    #print(i)\n",
    "    string_match = re.search(pattern_to_replace, block_match[i])\n",
    "    #print(\"found \", block_match[i])\n",
    "    string_to_replace = '<div class=\"cell border-box-sizing text_cell rendered inner_cell text_cell_render border-box-sizing rendered_html\">\\n' + \\\n",
    "        string_match.group(1) + \\\n",
    "        '</div>'\n",
    "    #print(\"to replace with\", string_to_replace)\n",
    "    txtfile = txtfile.replace(block_match[i], string_to_replace)"
   ]
  },
  {
   "cell_type": "code",
   "execution_count": 103,
   "metadata": {},
   "outputs": [],
   "source": [
    "#remove empty div\n",
    "remove_pattern = '<div class=\\\"prompt input_prompt\\\">\\s*</div>\\n*'\n",
    "remove_match = re.findall(remove_pattern, txtfile)\n",
    "for remove_string in remove_match:\n",
    "    txtfile = txtfile.replace(remove_string,'')"
   ]
  },
  {
   "cell_type": "code",
   "execution_count": 104,
   "metadata": {},
   "outputs": [],
   "source": [
    "pattern_original_file = '(<div class=\\\"cell border-box-sizing text_cell rendered\\\">\\n*<div class=\\\"inner_cell\\\">\\n*<div class=\\\"text_cell_render border-box-sizing rendered_html\\\">\\n*[\\w\\W]+?<\\/div>\\n*<\\/div>\\n*<\\/div>)'\n",
    "match1 = re.findall(pattern_original_file, txtfile)"
   ]
  },
  {
   "cell_type": "code",
   "execution_count": 105,
   "metadata": {},
   "outputs": [],
   "source": [
    "pattern_to_replace = '(?:<div class=\\\"cell border-box-sizing text_cell rendered\\\">\\n*<div class=\\\"inner_cell\\\">\\n*<div class=\\\"text_cell_render border-box-sizing rendered_html\\\">\\n*)([\\w\\W]+?)(?:<\\/div>\\n*<\\/div>\\n*<\\/div>)'\n",
    "match2 = re.findall(pattern_to_replace, txtfile)"
   ]
  },
  {
   "cell_type": "code",
   "execution_count": 106,
   "metadata": {},
   "outputs": [],
   "source": [
    "for idx, pattern in enumerate(match1):\n",
    "    new = '<div class=\"cell border-box-sizing text_cell rendered inner_cell text_cell_render border-box-sizing rendered_html\">\\n' + match2[idx] + '</div>'\n",
    "    txtfile = txtfile.replace(match1[idx], new)"
   ]
  },
  {
   "cell_type": "code",
   "execution_count": null,
   "metadata": {},
   "outputs": [],
   "source": []
  },
  {
   "cell_type": "markdown",
   "metadata": {},
   "source": [
    "### remove flex-direction: row; from div.text_cell"
   ]
  },
  {
   "cell_type": "code",
   "execution_count": 107,
   "metadata": {},
   "outputs": [],
   "source": [
    "flex_pattern = '(div\\.text_cell {\\n[\\W\\w]*?})'"
   ]
  },
  {
   "cell_type": "code",
   "execution_count": 108,
   "metadata": {},
   "outputs": [],
   "source": [
    "txt_cell_match = re.findall(flex_pattern, txtfile)"
   ]
  },
  {
   "cell_type": "code",
   "execution_count": 109,
   "metadata": {},
   "outputs": [],
   "source": [
    "for i in range(len(txt_cell_match)):\n",
    "    new_text = txt_cell_match[i].replace('flex-direction: row;\\n', '')\n",
    "    txtfile = txtfile.replace(txt_cell_match[i], new_text)"
   ]
  },
  {
   "cell_type": "markdown",
   "metadata": {},
   "source": [
    "### add margin-left to div.text_cell_render"
   ]
  },
  {
   "cell_type": "code",
   "execution_count": 110,
   "metadata": {},
   "outputs": [],
   "source": [
    "# div_pattern = '(div\\.text_cell_render {\\n[\\W\\w]*?})'\n",
    "div_pattern = '(div\\.text_cell_render\\s*{\\n*[\\W\\w]*?})'"
   ]
  },
  {
   "cell_type": "code",
   "execution_count": 111,
   "metadata": {},
   "outputs": [],
   "source": [
    "div_cell_match = re.findall(div_pattern, txtfile)"
   ]
  },
  {
   "cell_type": "code",
   "execution_count": 112,
   "metadata": {},
   "outputs": [
    {
     "data": {
      "text/plain": [
       "[]"
      ]
     },
     "execution_count": 112,
     "metadata": {},
     "output_type": "execute_result"
    }
   ],
   "source": [
    "div_cell_match"
   ]
  },
  {
   "cell_type": "code",
   "execution_count": 113,
   "metadata": {},
   "outputs": [
    {
     "ename": "IndexError",
     "evalue": "list index out of range",
     "output_type": "error",
     "traceback": [
      "\u001b[1;31m---------------------------------------------------------------------------\u001b[0m",
      "\u001b[1;31mIndexError\u001b[0m                                Traceback (most recent call last)",
      "\u001b[1;32m<ipython-input-113-2c3fc459cc55>\u001b[0m in \u001b[0;36m<module>\u001b[1;34m\u001b[0m\n\u001b[1;32m----> 1\u001b[1;33m \u001b[0mend_div_cell\u001b[0m \u001b[1;33m=\u001b[0m \u001b[0mre\u001b[0m\u001b[1;33m.\u001b[0m\u001b[0mfindall\u001b[0m\u001b[1;33m(\u001b[0m\u001b[1;34m'(\\;*\\n*})'\u001b[0m\u001b[1;33m,\u001b[0m \u001b[0mdiv_cell_match\u001b[0m\u001b[1;33m[\u001b[0m\u001b[1;36m0\u001b[0m\u001b[1;33m]\u001b[0m\u001b[1;33m)\u001b[0m\u001b[1;33m\u001b[0m\u001b[1;33m\u001b[0m\u001b[0m\n\u001b[0m",
      "\u001b[1;31mIndexError\u001b[0m: list index out of range"
     ]
    }
   ],
   "source": [
    "# end_div_cell = re.findall('(\\;*\\n*})', div_cell_match[0])"
   ]
  },
  {
   "cell_type": "code",
   "execution_count": 114,
   "metadata": {},
   "outputs": [
    {
     "ename": "IndexError",
     "evalue": "list index out of range",
     "output_type": "error",
     "traceback": [
      "\u001b[1;31m---------------------------------------------------------------------------\u001b[0m",
      "\u001b[1;31mIndexError\u001b[0m                                Traceback (most recent call last)",
      "\u001b[1;32m<ipython-input-114-4ea266290d7e>\u001b[0m in \u001b[0;36m<module>\u001b[1;34m\u001b[0m\n\u001b[1;32m----> 1\u001b[1;33m \u001b[0mdiv_to_replace\u001b[0m \u001b[1;33m=\u001b[0m \u001b[0mdiv_cell_match\u001b[0m\u001b[1;33m[\u001b[0m\u001b[1;36m0\u001b[0m\u001b[1;33m]\u001b[0m\u001b[1;33m.\u001b[0m\u001b[0mreplace\u001b[0m\u001b[1;33m(\u001b[0m\u001b[0mend_div_cell\u001b[0m\u001b[1;33m[\u001b[0m\u001b[1;36m0\u001b[0m\u001b[1;33m]\u001b[0m\u001b[1;33m,\u001b[0m\u001b[1;34m';\\nmargin-left: 1.6em;\\ndisplay:block;\\n}'\u001b[0m\u001b[1;33m)\u001b[0m\u001b[1;33m\u001b[0m\u001b[1;33m\u001b[0m\u001b[0m\n\u001b[0m",
      "\u001b[1;31mIndexError\u001b[0m: list index out of range"
     ]
    }
   ],
   "source": [
    "# div_to_replace = div_cell_match[0].replace(end_div_cell[0],';\\nmargin-left: 1.6em;\\ndisplay:block;\\n}')"
   ]
  },
  {
   "cell_type": "code",
   "execution_count": 115,
   "metadata": {},
   "outputs": [
    {
     "ename": "IndexError",
     "evalue": "list index out of range",
     "output_type": "error",
     "traceback": [
      "\u001b[1;31m---------------------------------------------------------------------------\u001b[0m",
      "\u001b[1;31mIndexError\u001b[0m                                Traceback (most recent call last)",
      "\u001b[1;32m<ipython-input-115-8c0c6bf635d7>\u001b[0m in \u001b[0;36m<module>\u001b[1;34m\u001b[0m\n\u001b[1;32m----> 1\u001b[1;33m \u001b[0mtxtfile\u001b[0m \u001b[1;33m=\u001b[0m \u001b[0mtxtfile\u001b[0m\u001b[1;33m.\u001b[0m\u001b[0mreplace\u001b[0m\u001b[1;33m(\u001b[0m\u001b[0mdiv_cell_match\u001b[0m\u001b[1;33m[\u001b[0m\u001b[1;36m0\u001b[0m\u001b[1;33m]\u001b[0m\u001b[1;33m,\u001b[0m\u001b[0mdiv_to_replace\u001b[0m\u001b[1;33m)\u001b[0m\u001b[1;33m\u001b[0m\u001b[1;33m\u001b[0m\u001b[0m\n\u001b[0m",
      "\u001b[1;31mIndexError\u001b[0m: list index out of range"
     ]
    }
   ],
   "source": [
    "# txtfile = txtfile.replace(div_cell_match[0],div_to_replace)"
   ]
  },
  {
   "cell_type": "markdown",
   "metadata": {},
   "source": [
    "### change p margin"
   ]
  },
  {
   "cell_type": "code",
   "execution_count": 116,
   "metadata": {},
   "outputs": [],
   "source": [
    "p_pattern = 'p\\s*{\\s*margin: 0 0 9px;\\n}'\n",
    "new_p_pattern = 'p{\\nmargin:0 1px 9px;font-size: 16px;line-height: 24px;\\n}'"
   ]
  },
  {
   "cell_type": "code",
   "execution_count": 117,
   "metadata": {},
   "outputs": [],
   "source": [
    "p_match = re.findall(p_pattern, txtfile)"
   ]
  },
  {
   "cell_type": "code",
   "execution_count": 118,
   "metadata": {},
   "outputs": [],
   "source": [
    "try:\n",
    "    txtfile = txtfile.replace(p_match[0], new_p_pattern)\n",
    "except:\n",
    "    pass"
   ]
  },
  {
   "cell_type": "markdown",
   "metadata": {},
   "source": [
    "### change rendered_html ul"
   ]
  },
  {
   "cell_type": "code",
   "execution_count": 119,
   "metadata": {},
   "outputs": [],
   "source": [
    "ul_pattern = '.rendered_html ul\\s*{[\\t*\\s*\\w*\\D*]*?}'\n",
    "new_ul_pattern = '.rendered_html ul {\\nlist-style: disc;\\nfont-size:16px;\\nline-height: 23px;\\n}'"
   ]
  },
  {
   "cell_type": "code",
   "execution_count": 120,
   "metadata": {},
   "outputs": [],
   "source": [
    "ul_match = re.findall(ul_pattern, txtfile)"
   ]
  },
  {
   "cell_type": "code",
   "execution_count": 121,
   "metadata": {},
   "outputs": [
    {
     "ename": "IndexError",
     "evalue": "list index out of range",
     "output_type": "error",
     "traceback": [
      "\u001b[1;31m---------------------------------------------------------------------------\u001b[0m",
      "\u001b[1;31mIndexError\u001b[0m                                Traceback (most recent call last)",
      "\u001b[1;32m<ipython-input-121-8a54781e84da>\u001b[0m in \u001b[0;36m<module>\u001b[1;34m\u001b[0m\n\u001b[1;32m----> 1\u001b[1;33m \u001b[0mtxtfile\u001b[0m \u001b[1;33m=\u001b[0m \u001b[0mtxtfile\u001b[0m\u001b[1;33m.\u001b[0m\u001b[0mreplace\u001b[0m\u001b[1;33m(\u001b[0m\u001b[0mul_match\u001b[0m\u001b[1;33m[\u001b[0m\u001b[1;36m0\u001b[0m\u001b[1;33m]\u001b[0m\u001b[1;33m,\u001b[0m \u001b[0mnew_ul_pattern\u001b[0m\u001b[1;33m)\u001b[0m\u001b[1;33m\u001b[0m\u001b[1;33m\u001b[0m\u001b[0m\n\u001b[0m",
      "\u001b[1;31mIndexError\u001b[0m: list index out of range"
     ]
    }
   ],
   "source": [
    "txtfile = txtfile.replace(ul_match[0], new_ul_pattern)"
   ]
  },
  {
   "cell_type": "markdown",
   "metadata": {},
   "source": [
    "### salva style in un file a parte"
   ]
  },
  {
   "cell_type": "code",
   "execution_count": 122,
   "metadata": {},
   "outputs": [],
   "source": [
    "style_pattern = '(<style type=\\\"text/css\\\">[\\w\\W\\n]*?</style>)' #selecting the complete style css inclusive tag\n",
    "style_match = re.findall(style_pattern, txtfile)"
   ]
  },
  {
   "cell_type": "code",
   "execution_count": 123,
   "metadata": {},
   "outputs": [],
   "source": [
    "css_select_pattern = '(?:<style type=\\\"text/css\\\">)([\\w\\W\\n]*?)(?:</style>)' #selecting the complete style css\n",
    "css_select_match = re.findall(css_select_pattern, txtfile)"
   ]
  },
  {
   "cell_type": "code",
   "execution_count": 124,
   "metadata": {},
   "outputs": [],
   "source": [
    "style_pattern2 = '(<style scoped=\"\" type=\\\"text/css\\\">[\\w\\W\\n]*?</style>)'\n",
    "style_match2 = re.findall(style_pattern2, txtfile)\n",
    "\n",
    "css_select_pattern2 = '(?:<style scoped=\\\"\\\" type=\\\"text/css\\\">)([\\w\\W\\n]*?)(?:</style>)'\n",
    "css_select_match2 = re.findall(css_select_pattern2, txtfile)\n",
    "\n",
    "style_pattern3 = '(<style scoped>[\\w\\W\\n]*?</style>)'\n",
    "style_match3 = re.findall(style_pattern3, txtfile)\n",
    "\n",
    "css_select_pattern3 = '(?:<style scoped>)([\\w\\W\\n]*?)(?:</style>)'\n",
    "css_select_match3 = re.findall(css_select_pattern3, txtfile)\n"
   ]
  },
  {
   "cell_type": "code",
   "execution_count": 125,
   "metadata": {},
   "outputs": [],
   "source": [
    "#select only unique styles\n",
    "for style in zip(css_select_match2,css_select_match3):\n",
    "    if style not in css_select_match:\n",
    "        css_select_match.append(style)"
   ]
  },
  {
   "cell_type": "code",
   "execution_count": 126,
   "metadata": {},
   "outputs": [],
   "source": [
    "# css_to_file = css_select_match[0] + '\\n' + css_select_match[1] + '\\n' + css_select_match[2]"
   ]
  },
  {
   "cell_type": "code",
   "execution_count": 127,
   "metadata": {},
   "outputs": [],
   "source": [
    "css_to_file = ''\n",
    "for css in css_select_match:\n",
    "    css_to_file = css_to_file + css + '\\n'"
   ]
  },
  {
   "cell_type": "markdown",
   "metadata": {},
   "source": [
    "ddd = css_to_file"
   ]
  },
  {
   "cell_type": "markdown",
   "metadata": {},
   "source": [
    "prova = css_to_file.replace('\\ue6c6', ' ').replace('\\ue63e', ' ').replace('\\ue6f9', ' ').replace('\\ue6fa', ' ').replace('\\ue6f8', ' ').replace('\\ue6f7', ' ')"
   ]
  },
  {
   "cell_type": "code",
   "execution_count": 128,
   "metadata": {},
   "outputs": [],
   "source": [
    "# prova = css_to_file[0:213101]\n",
    "\n",
    "f = open(\"../../UNCSS4/jupyter_2021.css\",\"w+\")\n",
    "f.write(css_to_file)\n",
    "f.close()"
   ]
  },
  {
   "cell_type": "code",
   "execution_count": 129,
   "metadata": {},
   "outputs": [
    {
     "name": "stdout",
     "output_type": "stream",
     "text": [
      "4\n",
      "0\n",
      "0\n"
     ]
    }
   ],
   "source": [
    "print(len(style_match))\n",
    "print(len(style_match2))\n",
    "print(len(style_match3))"
   ]
  },
  {
   "cell_type": "markdown",
   "metadata": {},
   "source": [
    "### rimuovi style dal html"
   ]
  },
  {
   "cell_type": "code",
   "execution_count": 131,
   "metadata": {},
   "outputs": [],
   "source": [
    "def remove_style(txtfile, style_match):\n",
    "    for string in style_match:\n",
    "#         print('removing %s' %string)\n",
    "        txtfile = txtfile.replace(string, '')\n",
    "    return txtfile"
   ]
  },
  {
   "cell_type": "code",
   "execution_count": 132,
   "metadata": {},
   "outputs": [],
   "source": [
    "txtfile=remove_style(txtfile, style_match)\n",
    "txtfile=remove_style(txtfile, style_match2)\n",
    "txtfile=remove_style(txtfile, style_match3)"
   ]
  },
  {
   "cell_type": "code",
   "execution_count": 133,
   "metadata": {},
   "outputs": [],
   "source": [
    "# txtfile = txtfile.replace(string_to_remove[0], '/* reinsert css here */')\n",
    "# for string in string_to_remove:\n",
    "#     txtfile = txtfile.replace(string, '')"
   ]
  },
  {
   "cell_type": "code",
   "execution_count": 134,
   "metadata": {},
   "outputs": [],
   "source": [
    "with open(\"../../UNCSS4/temp.html\", 'w', encoding='utf-8') as f:\n",
    "    print(txtfile, file=f)"
   ]
  },
  {
   "cell_type": "markdown",
   "metadata": {},
   "source": [
    "### purifycss"
   ]
  },
  {
   "cell_type": "code",
   "execution_count": 135,
   "metadata": {},
   "outputs": [
    {
     "name": "stdout",
     "output_type": "stream",
     "text": [
      "\n",
      "    ________________________________________________\n",
      "    |\n",
      "    |   PurifyCSS has reduced the file size by ~ 0.0%  \n",
      "    |\n",
      "    ________________________________________________\n",
      "    \n",
      "\n"
     ]
    }
   ],
   "source": [
    "print(os.popen('purifycss ../../UNCSS4/Jupyter.css ../../UNCSS4/temp.html --min --out ../../UNCSS4/Jupyter.css --info').read())"
   ]
  },
  {
   "cell_type": "markdown",
   "metadata": {},
   "source": [
    "### reinserisci css nel html"
   ]
  },
  {
   "cell_type": "markdown",
   "metadata": {},
   "source": [
    "newcssfile = open('./uncss4/Jupyter.css')"
   ]
  },
  {
   "cell_type": "markdown",
   "metadata": {},
   "source": [
    "newcsstxt = newcssfile.read()"
   ]
  },
  {
   "cell_type": "markdown",
   "metadata": {},
   "source": [
    "newcsstxt = '<style type=\"text/css\">' + newcsstxt + '\\n</style>'"
   ]
  },
  {
   "cell_type": "markdown",
   "metadata": {},
   "source": [
    "txtfile = txtfile.replace('/* reinsert css here */', newcsstxt)"
   ]
  },
  {
   "cell_type": "markdown",
   "metadata": {},
   "source": [
    "f = open(\"./UNCSS4/temp.html\",\"w+\")\n",
    "f.write(txtfile)\n",
    "f.close()"
   ]
  },
  {
   "cell_type": "markdown",
   "metadata": {},
   "source": [
    "newcssfile.close()"
   ]
  },
  {
   "cell_type": "markdown",
   "metadata": {},
   "source": [
    "### delete temp.html file + copy to final file"
   ]
  },
  {
   "cell_type": "markdown",
   "metadata": {},
   "source": [
    "print(os.popen('del .\\\\UNCSS4\\\\Jupyter.css').read())"
   ]
  },
  {
   "cell_type": "code",
   "execution_count": 136,
   "metadata": {},
   "outputs": [
    {
     "name": "stdout",
     "output_type": "stream",
     "text": [
      "\n"
     ]
    }
   ],
   "source": [
    "print(os.popen('del \"' + file_to_process + '\"').read())"
   ]
  },
  {
   "cell_type": "code",
   "execution_count": 137,
   "metadata": {},
   "outputs": [
    {
     "name": "stdout",
     "output_type": "stream",
     "text": [
      "        1 file(s) copied.\n",
      "\n"
     ]
    }
   ],
   "source": [
    "print(os.popen('copy ..\\\\..\\\\UNCSS4\\\\temp.html \"' + file_to_process + '\"').read())"
   ]
  },
  {
   "cell_type": "code",
   "execution_count": 138,
   "metadata": {},
   "outputs": [
    {
     "name": "stdout",
     "output_type": "stream",
     "text": [
      "\n"
     ]
    }
   ],
   "source": [
    "print(os.popen('del ..\\\\..\\\\UNCSS4\\\\temp.html').read())"
   ]
  },
  {
   "cell_type": "markdown",
   "metadata": {},
   "source": [
    "### find everything between body tags"
   ]
  },
  {
   "cell_type": "code",
   "execution_count": 139,
   "metadata": {},
   "outputs": [],
   "source": [
    "body_pattern = '(?:<body\\n*\\s*)([\\w\\W\\n]*?)(?:</body>)' \n",
    "body_match = re.findall(body_pattern, txtfile)\n",
    "\n",
    "body = body_match[0]"
   ]
  },
  {
   "cell_type": "markdown",
   "metadata": {},
   "source": [
    "## prepare post\n",
    "### import library - define user"
   ]
  },
  {
   "cell_type": "code",
   "execution_count": null,
   "metadata": {},
   "outputs": [],
   "source": [
    "import requests\n",
    "import json\n",
    "import base64"
   ]
  },
  {
   "cell_type": "code",
   "execution_count": null,
   "metadata": {},
   "outputs": [],
   "source": [
    "user = 'antozamm'\n",
    "pythonapp = input('Input the pythonapp password')\n",
    "url = 'https://www.1week4.com/wp-json/wp/v2'"
   ]
  },
  {
   "cell_type": "markdown",
   "metadata": {},
   "source": [
    "### codify user and password"
   ]
  },
  {
   "cell_type": "code",
   "execution_count": null,
   "metadata": {},
   "outputs": [],
   "source": [
    "token = base64.standard_b64encode((user + ':' + pythonapp).encode(\"utf-8\"))\n",
    "headers = {'Authorization': 'Basic ' + str(token, \"utf-8\")}"
   ]
  },
  {
   "cell_type": "markdown",
   "metadata": {},
   "source": [
    "### find all images stored as base64 image"
   ]
  },
  {
   "cell_type": "code",
   "execution_count": null,
   "metadata": {},
   "outputs": [],
   "source": [
    "img_pattern = '(?:img src=\\\")(data:image[\\/\\w\\W]*?)(?:\\\"\\s*/*>)'\n",
    "img_match = re.findall(img_pattern,txtfile)"
   ]
  },
  {
   "cell_type": "markdown",
   "metadata": {},
   "source": [
    "### save images as jpg"
   ]
  },
  {
   "cell_type": "code",
   "execution_count": null,
   "metadata": {},
   "outputs": [],
   "source": [
    "from PIL import Image\n",
    "from io import BytesIO\n",
    "import random\n",
    "\n",
    "def imsave(pic, picname):\n",
    "#     im = Image.open(BytesIO(base64.b64decode(pic)))\n",
    "#     if im.mode in (\"RGBA\", \"P\"):\n",
    "#         im = im.convert(\"RGB\")\n",
    "#     im.save(picname, 'JPEG', quality='maximum')\n",
    "    im = Image.open(BytesIO(base64.b64decode(pic)))\n",
    "    im.save(picname, 'PNG')"
   ]
  },
  {
   "cell_type": "code",
   "execution_count": null,
   "metadata": {},
   "outputs": [],
   "source": [
    "picname = []\n",
    "for idx,img in enumerate(img_match):\n",
    "    pic = img[:-1].split(',')[1]\n",
    "    picname.append( picprefix + str(random.randint(2e31+1,2e32)) + '.png' )\n",
    "    imsave(pic, picname[idx] )"
   ]
  },
  {
   "cell_type": "markdown",
   "metadata": {},
   "source": [
    "pic = img[:-1].split(',')[1]\n",
    "im = Image.open(BytesIO(base64.b64decode(pic.encode(\"utf-8\"))))\n",
    "# im = Image.open(BytesIO(pic))\n",
    "# if im.mode in (\"RGBA\", \"P\"):\n",
    "#     im = im.convert(\"RGB\")\n",
    "im.save('aaa.png', 'PNG', quality='maximum')"
   ]
  },
  {
   "cell_type": "code",
   "execution_count": null,
   "metadata": {},
   "outputs": [],
   "source": []
  },
  {
   "cell_type": "markdown",
   "metadata": {},
   "source": [
    "### upload pics"
   ]
  },
  {
   "cell_type": "code",
   "execution_count": null,
   "metadata": {},
   "outputs": [],
   "source": [
    "def uploadMedia(imgPath):\n",
    "    data = open(imgPath, 'rb').read()\n",
    "    fileName = os.path.basename(imgPath)\n",
    "    headers = {'Authorization': 'Basic ' + str(token, \"utf-8\"), 'Content-Type': '', \\\n",
    "               'Content-Disposition': 'attachment; filename={}'.format(imgPath)}\n",
    "    r = requests.post(url + '/media', headers=headers, data=data)\n",
    "    print('Your post is published on ' + json.loads(r.content)['link'])\n",
    "    return json.loads(r.content)['guid']['raw']"
   ]
  },
  {
   "cell_type": "code",
   "execution_count": null,
   "metadata": {},
   "outputs": [],
   "source": [
    "picLinkList = []\n",
    "picLinkList = [uploadMedia(picname[idx]) for idx in range(len(img_match))]"
   ]
  },
  {
   "cell_type": "markdown",
   "metadata": {},
   "source": [
    "data = open(imgPath, 'rb').read()\n",
    "fileName = os.path.basename(imgPath)\n",
    "headers = {'Authorization': 'Basic ' + str(token, \"utf-8\"), 'Content-Type': '', \\\n",
    "           'Content-Disposition': 'attachment; filename={}'.format(imgPath)}\n",
    "r = requests.post(url + '/media', headers=headers, data=data)"
   ]
  },
  {
   "cell_type": "markdown",
   "metadata": {},
   "source": [
    "r.reason"
   ]
  },
  {
   "cell_type": "markdown",
   "metadata": {},
   "source": [
    "### replace base64 code with link"
   ]
  },
  {
   "cell_type": "code",
   "execution_count": null,
   "metadata": {},
   "outputs": [],
   "source": [
    "for idx,img in enumerate(img_match):\n",
    "    body = body.replace(img_match[idx],picLinkList[idx])"
   ]
  },
  {
   "cell_type": "markdown",
   "metadata": {},
   "source": [
    "### prepare post"
   ]
  },
  {
   "cell_type": "markdown",
   "metadata": {},
   "source": [
    "with open('prova.txt') as file:\n",
    "    body = file.read()\n"
   ]
  },
  {
   "cell_type": "markdown",
   "metadata": {},
   "source": [
    "body = ' <div> <style scoped=\"\" type=\"text/css\">.dataframe tbody tr th:only-of-type { vertical-align: middle; } </style> </div>'"
   ]
  },
  {
   "cell_type": "code",
   "execution_count": null,
   "metadata": {},
   "outputs": [],
   "source": [
    "# body = ''\n",
    "post = {'date': '2021-06-05T15:12:08',\n",
    "        'title': 'learning PostgreSQL basic usage',\n",
    "        'slug': 'learning-postgresql-basic-usage',\n",
    "        'status': 'draft',\n",
    "        'content': body,\n",
    "        'author': '2',\n",
    "#         'excerpt': '',\n",
    "        'format': 'standard',\n",
    "        'template': 'page-blog-az-jupyter.php',\n",
    "        'categories':'7', #machine-learning=7\n",
    "        'meta':{\n",
    "            'prova_field':'qqualsiasi cosa'\n",
    "        }\n",
    "        }\n",
    "# body"
   ]
  },
  {
   "cell_type": "markdown",
   "metadata": {},
   "source": [
    "### publish new post"
   ]
  },
  {
   "cell_type": "code",
   "execution_count": null,
   "metadata": {},
   "outputs": [],
   "source": [
    "headers = {'Authorization': 'Basic ' + str(token, \"utf-8\")}\n",
    "r = requests.post(url + '/posts', headers=headers, json=post)\n",
    "print('Your post is published on ' + json.loads(r.content, encoding=\"utf-8\")['link'])"
   ]
  },
  {
   "cell_type": "markdown",
   "metadata": {},
   "source": [
    "### update post"
   ]
  },
  {
   "cell_type": "code",
   "execution_count": 140,
   "metadata": {},
   "outputs": [],
   "source": [
    "postid = '44182'\n",
    "updatepost = { 'content': body , 'template': 'page-blog-az-jup-2021.php',}"
   ]
  },
  {
   "cell_type": "code",
   "execution_count": 141,
   "metadata": {},
   "outputs": [
    {
     "name": "stdout",
     "output_type": "stream",
     "text": [
      "The updated post is published on https://www.1week4.com/?p=44182\n"
     ]
    },
    {
     "name": "stderr",
     "output_type": "stream",
     "text": [
      "<ipython-input-141-a51c5a73b0ee>:2: DeprecationWarning: 'encoding' is ignored and deprecated. It will be removed in Python 3.9\n",
      "  print('The updated post is published on ' + json.loads(updatedpost.content, encoding=\"utf-8\")['link'])\n"
     ]
    }
   ],
   "source": [
    "updatedpost = requests.post(url + '/posts/' + postid, headers=headers, json=updatepost)\n",
    "print('The updated post is published on ' + json.loads(updatedpost.content, encoding=\"utf-8\")['link'])"
   ]
  },
  {
   "cell_type": "markdown",
   "metadata": {},
   "source": [
    "### request a post"
   ]
  },
  {
   "cell_type": "code",
   "execution_count": null,
   "metadata": {},
   "outputs": [],
   "source": []
  },
  {
   "cell_type": "code",
   "execution_count": null,
   "metadata": {},
   "outputs": [],
   "source": [
    "import requests"
   ]
  },
  {
   "cell_type": "code",
   "execution_count": null,
   "metadata": {},
   "outputs": [],
   "source": [
    "r = requests.post(url + '/posts/31677', headers=headers)"
   ]
  },
  {
   "cell_type": "code",
   "execution_count": null,
   "metadata": {},
   "outputs": [],
   "source": [
    "parsed = json.loads(r.content)\n",
    "print(json.dumps(parsed, indent=4, sort_keys=True))"
   ]
  },
  {
   "cell_type": "code",
   "execution_count": null,
   "metadata": {},
   "outputs": [],
   "source": [
    "imsave(pic, 'pic1.jpg')"
   ]
  },
  {
   "cell_type": "code",
   "execution_count": null,
   "metadata": {},
   "outputs": [],
   "source": [
    "txt = 'porco cazzo porco'"
   ]
  },
  {
   "cell_type": "code",
   "execution_count": null,
   "metadata": {},
   "outputs": [],
   "source": [
    "txt.replace('porco', 'cane')"
   ]
  },
  {
   "cell_type": "code",
   "execution_count": null,
   "metadata": {},
   "outputs": [],
   "source": [
    "txtfile"
   ]
  },
  {
   "cell_type": "code",
   "execution_count": null,
   "metadata": {},
   "outputs": [],
   "source": []
  }
 ],
 "metadata": {
  "kernelspec": {
   "display_name": "Python 3",
   "language": "python",
   "name": "python3"
  },
  "language_info": {
   "codemirror_mode": {
    "name": "ipython",
    "version": 3
   },
   "file_extension": ".py",
   "mimetype": "text/x-python",
   "name": "python",
   "nbconvert_exporter": "python",
   "pygments_lexer": "ipython3",
   "version": "3.8.0"
  }
 },
 "nbformat": 4,
 "nbformat_minor": 4
}
