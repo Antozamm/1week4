{
 "cells": [
  {
   "cell_type": "markdown",
   "id": "ab281255-8e00-45bb-a611-84c5e4aeb81e",
   "metadata": {},
   "source": [
    "## Tutorial on AWS S3\n",
    "\n",
    "The tutorial of **awswrangler** can be found [here](https://github.com/awslabs/aws-data-wrangler/blob/main/tutorials/003%20-%20Amazon%20S3.ipynb)\n",
    "\n",
    "I wasn't able to run it immediately, so here some more "
   ]
  },
  {
   "cell_type": "code",
   "execution_count": null,
   "id": "9a6dbb2b-35df-43ad-9856-ee3d33e7626e",
   "metadata": {},
   "outputs": [],
   "source": []
  },
  {
   "cell_type": "code",
   "execution_count": 1,
   "id": "317566eb-95c3-4c0c-88c0-f05f53ee7a3c",
   "metadata": {},
   "outputs": [],
   "source": [
    "import awswrangler as wr\n",
    "import pandas as pd\n",
    "import boto3\n",
    "import pytz\n",
    "from datetime import datetime"
   ]
  },
  {
   "cell_type": "markdown",
   "id": "f06ecaba-e545-4d52-b7f9-f7acaf0f58e9",
   "metadata": {},
   "source": [
    "### Create a bucket\n",
    "\n",
    "Using **boto3** to create a bucket, "
   ]
  },
  {
   "cell_type": "code",
   "execution_count": 130,
   "id": "c6f8be4b-b257-4537-95bc-bf23a81fd7ba",
   "metadata": {},
   "outputs": [],
   "source": [
    "bucket='buckaz3'\n",
    "\n",
    "aws_access_key_id     ='XXXXXXXXXXXXXXXXXXXX'\n",
    "aws_secret_access_key ='YYYYYYYYYYYYYYYYYYYYYYYYYYYYYYYYYYYY'\n",
    "\n",
    "# session = boto3.Session(profile_name='default')\n",
    "session = boto3.Session(aws_access_key_id=aws_access_key_id,\n",
    "    aws_secret_access_key=aws_secret_access_key)\n",
    "dev_s3_client = session.client('s3')\n"
   ]
  },
  {
   "cell_type": "code",
   "execution_count": 131,
   "id": "3af60d3f-7732-4643-a9f8-f27a4fa7fa1e",
   "metadata": {},
   "outputs": [
    {
     "name": "stdout",
     "output_type": "stream",
     "text": [
      "{'ResponseMetadata': {'RequestId': 'RMEBABT3F3EKH3T9', 'HostId': 'DXHM/mEKrAZ7+z1hC98BveWg3GiVAfzGQd8MBoBR/+Yixq4z9KGjsEkOEpQ9i9bFNTWSw8Ei8jo=', 'HTTPStatusCode': 200, 'HTTPHeaders': {'x-amz-id-2': 'DXHM/mEKrAZ7+z1hC98BveWg3GiVAfzGQd8MBoBR/+Yixq4z9KGjsEkOEpQ9i9bFNTWSw8Ei8jo=', 'x-amz-request-id': 'RMEBABT3F3EKH3T9', 'date': 'Thu, 05 May 2022 20:39:40 GMT', 'location': '/buckaz3', 'server': 'AmazonS3', 'content-length': '0'}, 'RetryAttempts': 0}, 'Location': '/buckaz3'}\n"
     ]
    }
   ],
   "source": [
    "response = dev_s3_client.create_bucket(Bucket=bucket)\n",
    "print(response)"
   ]
  },
  {
   "cell_type": "markdown",
   "id": "772ef3c2-efa5-4ccc-aa3a-898d31ed7a19",
   "metadata": {},
   "source": [
    "Create 2 Pandas dataframe and save into the bucket as csv file. "
   ]
  },
  {
   "cell_type": "code",
   "execution_count": 132,
   "id": "34124478-1081-4ab7-98d1-5e4ce0b29be9",
   "metadata": {},
   "outputs": [],
   "source": [
    "df1 = pd.DataFrame({\n",
    "    \"id\": [1, 2],\n",
    "    \"name\": [\"foo\", \"boo\"]\n",
    "})\n",
    "\n",
    "df2 = pd.DataFrame({\n",
    "    \"id\": [3],\n",
    "    \"name\": [\"bar\"]\n",
    "})"
   ]
  },
  {
   "cell_type": "code",
   "execution_count": 133,
   "id": "994c9c29-1621-4321-8f55-b3024b275c6b",
   "metadata": {
    "collapsed": true,
    "jupyter": {
     "outputs_hidden": true
    },
    "tags": []
   },
   "outputs": [
    {
     "ename": "ClientError",
     "evalue": "An error occurred (AccessDenied) when calling the PutObject operation: Access Denied",
     "output_type": "error",
     "traceback": [
      "\u001b[1;31m---------------------------------------------------------------------------\u001b[0m",
      "\u001b[1;31mClientError\u001b[0m                               Traceback (most recent call last)",
      "Input \u001b[1;32mIn [133]\u001b[0m, in \u001b[0;36m<cell line: 4>\u001b[1;34m()\u001b[0m\n\u001b[0;32m      1\u001b[0m path1 \u001b[38;5;241m=\u001b[39m \u001b[38;5;124mf\u001b[39m\u001b[38;5;124m\"\u001b[39m\u001b[38;5;124ms3://\u001b[39m\u001b[38;5;132;01m{\u001b[39;00mbucket\u001b[38;5;132;01m}\u001b[39;00m\u001b[38;5;124m/csv/file1.csv\u001b[39m\u001b[38;5;124m\"\u001b[39m\n\u001b[0;32m      2\u001b[0m path2 \u001b[38;5;241m=\u001b[39m \u001b[38;5;124mf\u001b[39m\u001b[38;5;124m\"\u001b[39m\u001b[38;5;124ms3://\u001b[39m\u001b[38;5;132;01m{\u001b[39;00mbucket\u001b[38;5;132;01m}\u001b[39;00m\u001b[38;5;124m/csv/file2.csv\u001b[39m\u001b[38;5;124m\"\u001b[39m\n\u001b[1;32m----> 4\u001b[0m \u001b[43mwr\u001b[49m\u001b[38;5;241;43m.\u001b[39;49m\u001b[43ms3\u001b[49m\u001b[38;5;241;43m.\u001b[39;49m\u001b[43mto_csv\u001b[49m\u001b[43m(\u001b[49m\u001b[43mdf1\u001b[49m\u001b[43m,\u001b[49m\u001b[43m \u001b[49m\u001b[43mpath1\u001b[49m\u001b[43m,\u001b[49m\u001b[43m \u001b[49m\u001b[43mindex\u001b[49m\u001b[38;5;241;43m=\u001b[39;49m\u001b[38;5;28;43;01mFalse\u001b[39;49;00m\u001b[43m)\u001b[49m\n\u001b[0;32m      5\u001b[0m wr\u001b[38;5;241m.\u001b[39ms3\u001b[38;5;241m.\u001b[39mto_csv(df2, path2, index\u001b[38;5;241m=\u001b[39m\u001b[38;5;28;01mFalse\u001b[39;00m)\n",
      "File \u001b[1;32m~\\Anaconda3\\envs\\aws2\\lib\\site-packages\\awswrangler\\_config.py:450\u001b[0m, in \u001b[0;36mapply_configs.<locals>.wrapper\u001b[1;34m(*args_raw, **kwargs)\u001b[0m\n\u001b[0;32m    448\u001b[0m         \u001b[38;5;28;01mdel\u001b[39;00m args[name]\n\u001b[0;32m    449\u001b[0m         args \u001b[38;5;241m=\u001b[39m {\u001b[38;5;241m*\u001b[39m\u001b[38;5;241m*\u001b[39margs, \u001b[38;5;241m*\u001b[39m\u001b[38;5;241m*\u001b[39mkeywords}\n\u001b[1;32m--> 450\u001b[0m \u001b[38;5;28;01mreturn\u001b[39;00m \u001b[43mfunction\u001b[49m\u001b[43m(\u001b[49m\u001b[38;5;241;43m*\u001b[39;49m\u001b[38;5;241;43m*\u001b[39;49m\u001b[43margs\u001b[49m\u001b[43m)\u001b[49m\n",
      "File \u001b[1;32m~\\Anaconda3\\envs\\aws2\\lib\\site-packages\\awswrangler\\s3\\_write_text.py:485\u001b[0m, in \u001b[0;36mto_csv\u001b[1;34m(df, path, sep, index, columns, use_threads, boto3_session, s3_additional_kwargs, sanitize_columns, dataset, filename_prefix, partition_cols, bucketing_info, concurrent_partitioning, mode, catalog_versioning, schema_evolution, database, table, table_type, transaction_id, dtype, description, parameters, columns_comments, regular_partitions, projection_enabled, projection_types, projection_ranges, projection_values, projection_intervals, projection_digits, catalog_id, **pandas_kwargs)\u001b[0m\n\u001b[0;32m    483\u001b[0m     pandas_kwargs[\u001b[38;5;124m\"\u001b[39m\u001b[38;5;124mindex\u001b[39m\u001b[38;5;124m\"\u001b[39m] \u001b[38;5;241m=\u001b[39m index\n\u001b[0;32m    484\u001b[0m     pandas_kwargs[\u001b[38;5;124m\"\u001b[39m\u001b[38;5;124mcolumns\u001b[39m\u001b[38;5;124m\"\u001b[39m] \u001b[38;5;241m=\u001b[39m columns\n\u001b[1;32m--> 485\u001b[0m     \u001b[43m_to_text\u001b[49m\u001b[43m(\u001b[49m\n\u001b[0;32m    486\u001b[0m \u001b[43m        \u001b[49m\u001b[43mfile_format\u001b[49m\u001b[38;5;241;43m=\u001b[39;49m\u001b[38;5;124;43m\"\u001b[39;49m\u001b[38;5;124;43mcsv\u001b[39;49m\u001b[38;5;124;43m\"\u001b[39;49m\u001b[43m,\u001b[49m\n\u001b[0;32m    487\u001b[0m \u001b[43m        \u001b[49m\u001b[43mdf\u001b[49m\u001b[38;5;241;43m=\u001b[39;49m\u001b[43mdf\u001b[49m\u001b[43m,\u001b[49m\n\u001b[0;32m    488\u001b[0m \u001b[43m        \u001b[49m\u001b[43muse_threads\u001b[49m\u001b[38;5;241;43m=\u001b[39;49m\u001b[43muse_threads\u001b[49m\u001b[43m,\u001b[49m\n\u001b[0;32m    489\u001b[0m \u001b[43m        \u001b[49m\u001b[43mpath\u001b[49m\u001b[38;5;241;43m=\u001b[39;49m\u001b[43mpath\u001b[49m\u001b[43m,\u001b[49m\n\u001b[0;32m    490\u001b[0m \u001b[43m        \u001b[49m\u001b[43mboto3_session\u001b[49m\u001b[38;5;241;43m=\u001b[39;49m\u001b[43msession\u001b[49m\u001b[43m,\u001b[49m\n\u001b[0;32m    491\u001b[0m \u001b[43m        \u001b[49m\u001b[43ms3_additional_kwargs\u001b[49m\u001b[38;5;241;43m=\u001b[39;49m\u001b[43ms3_additional_kwargs\u001b[49m\u001b[43m,\u001b[49m\n\u001b[0;32m    492\u001b[0m \u001b[43m        \u001b[49m\u001b[38;5;241;43m*\u001b[39;49m\u001b[38;5;241;43m*\u001b[39;49m\u001b[43mpandas_kwargs\u001b[49m\u001b[43m,\u001b[49m\n\u001b[0;32m    493\u001b[0m \u001b[43m    \u001b[49m\u001b[43m)\u001b[49m\n\u001b[0;32m    494\u001b[0m     paths \u001b[38;5;241m=\u001b[39m [path]  \u001b[38;5;66;03m# type: ignore\u001b[39;00m\n\u001b[0;32m    495\u001b[0m \u001b[38;5;28;01melse\u001b[39;00m:\n",
      "File \u001b[1;32m~\\Anaconda3\\envs\\aws2\\lib\\site-packages\\awswrangler\\s3\\_write_text.py:68\u001b[0m, in \u001b[0;36m_to_text\u001b[1;34m(file_format, df, use_threads, boto3_session, s3_additional_kwargs, path, path_root, filename_prefix, **pandas_kwargs)\u001b[0m\n\u001b[0;32m     66\u001b[0m         df\u001b[38;5;241m.\u001b[39mto_csv(f, mode\u001b[38;5;241m=\u001b[39mmode, \u001b[38;5;241m*\u001b[39m\u001b[38;5;241m*\u001b[39mpandas_kwargs)\n\u001b[0;32m     67\u001b[0m     \u001b[38;5;28;01melif\u001b[39;00m file_format \u001b[38;5;241m==\u001b[39m \u001b[38;5;124m\"\u001b[39m\u001b[38;5;124mjson\u001b[39m\u001b[38;5;124m\"\u001b[39m:\n\u001b[1;32m---> 68\u001b[0m         df\u001b[38;5;241m.\u001b[39mto_json(f, \u001b[38;5;241m*\u001b[39m\u001b[38;5;241m*\u001b[39mpandas_kwargs)\n\u001b[0;32m     69\u001b[0m \u001b[38;5;28;01mreturn\u001b[39;00m [file_path]\n",
      "File \u001b[1;32m~\\Anaconda3\\envs\\aws2\\lib\\contextlib.py:120\u001b[0m, in \u001b[0;36m_GeneratorContextManager.__exit__\u001b[1;34m(self, type, value, traceback)\u001b[0m\n\u001b[0;32m    118\u001b[0m \u001b[38;5;28;01mif\u001b[39;00m \u001b[38;5;28mtype\u001b[39m \u001b[38;5;129;01mis\u001b[39;00m \u001b[38;5;28;01mNone\u001b[39;00m:\n\u001b[0;32m    119\u001b[0m     \u001b[38;5;28;01mtry\u001b[39;00m:\n\u001b[1;32m--> 120\u001b[0m         \u001b[38;5;28;43mnext\u001b[39;49m\u001b[43m(\u001b[49m\u001b[38;5;28;43mself\u001b[39;49m\u001b[38;5;241;43m.\u001b[39;49m\u001b[43mgen\u001b[49m\u001b[43m)\u001b[49m\n\u001b[0;32m    121\u001b[0m     \u001b[38;5;28;01mexcept\u001b[39;00m \u001b[38;5;167;01mStopIteration\u001b[39;00m:\n\u001b[0;32m    122\u001b[0m         \u001b[38;5;28;01mreturn\u001b[39;00m \u001b[38;5;28;01mFalse\u001b[39;00m\n",
      "File \u001b[1;32m~\\Anaconda3\\envs\\aws2\\lib\\site-packages\\awswrangler\\s3\\_fs.py:586\u001b[0m, in \u001b[0;36mopen_s3_object\u001b[1;34m(path, mode, version_id, use_threads, s3_additional_kwargs, s3_block_size, boto3_session, newline, encoding)\u001b[0m\n\u001b[0;32m    584\u001b[0m \u001b[38;5;28;01mfinally\u001b[39;00m:\n\u001b[0;32m    585\u001b[0m     \u001b[38;5;28;01mif\u001b[39;00m text_s3obj \u001b[38;5;129;01mis\u001b[39;00m \u001b[38;5;129;01mnot\u001b[39;00m \u001b[38;5;28;01mNone\u001b[39;00m \u001b[38;5;129;01mand\u001b[39;00m text_s3obj\u001b[38;5;241m.\u001b[39mclosed \u001b[38;5;129;01mis\u001b[39;00m \u001b[38;5;28;01mFalse\u001b[39;00m:\n\u001b[1;32m--> 586\u001b[0m         \u001b[43mtext_s3obj\u001b[49m\u001b[38;5;241;43m.\u001b[39;49m\u001b[43mclose\u001b[49m\u001b[43m(\u001b[49m\u001b[43m)\u001b[49m\n\u001b[0;32m    587\u001b[0m     \u001b[38;5;28;01mif\u001b[39;00m s3obj \u001b[38;5;129;01mis\u001b[39;00m \u001b[38;5;129;01mnot\u001b[39;00m \u001b[38;5;28;01mNone\u001b[39;00m \u001b[38;5;129;01mand\u001b[39;00m s3obj\u001b[38;5;241m.\u001b[39mclosed \u001b[38;5;129;01mis\u001b[39;00m \u001b[38;5;28;01mFalse\u001b[39;00m:\n\u001b[0;32m    588\u001b[0m         s3obj\u001b[38;5;241m.\u001b[39mclose()\n",
      "File \u001b[1;32m~\\Anaconda3\\envs\\aws2\\lib\\site-packages\\awswrangler\\s3\\_fs.py:474\u001b[0m, in \u001b[0;36m_S3ObjectBase.close\u001b[1;34m(self)\u001b[0m\n\u001b[0;32m    472\u001b[0m \u001b[38;5;28;01melif\u001b[39;00m \u001b[38;5;28mself\u001b[39m\u001b[38;5;241m.\u001b[39m_buffer\u001b[38;5;241m.\u001b[39mtell() \u001b[38;5;241m>\u001b[39m \u001b[38;5;241m0\u001b[39m:\n\u001b[0;32m    473\u001b[0m     _logger\u001b[38;5;241m.\u001b[39mdebug(\u001b[38;5;124m\"\u001b[39m\u001b[38;5;124mput_object\u001b[39m\u001b[38;5;124m\"\u001b[39m)\n\u001b[1;32m--> 474\u001b[0m     \u001b[43m_utils\u001b[49m\u001b[38;5;241;43m.\u001b[39;49m\u001b[43mtry_it\u001b[49m\u001b[43m(\u001b[49m\n\u001b[0;32m    475\u001b[0m \u001b[43m        \u001b[49m\u001b[43mf\u001b[49m\u001b[38;5;241;43m=\u001b[39;49m\u001b[38;5;28;43mself\u001b[39;49m\u001b[38;5;241;43m.\u001b[39;49m\u001b[43m_client\u001b[49m\u001b[38;5;241;43m.\u001b[39;49m\u001b[43mput_object\u001b[49m\u001b[43m,\u001b[49m\n\u001b[0;32m    476\u001b[0m \u001b[43m        \u001b[49m\u001b[43mex\u001b[49m\u001b[38;5;241;43m=\u001b[39;49m\u001b[43m_S3_RETRYABLE_ERRORS\u001b[49m\u001b[43m,\u001b[49m\n\u001b[0;32m    477\u001b[0m \u001b[43m        \u001b[49m\u001b[43mbase\u001b[49m\u001b[38;5;241;43m=\u001b[39;49m\u001b[38;5;241;43m0.5\u001b[39;49m\u001b[43m,\u001b[49m\n\u001b[0;32m    478\u001b[0m \u001b[43m        \u001b[49m\u001b[43mmax_num_tries\u001b[49m\u001b[38;5;241;43m=\u001b[39;49m\u001b[38;5;241;43m6\u001b[39;49m\u001b[43m,\u001b[49m\n\u001b[0;32m    479\u001b[0m \u001b[43m        \u001b[49m\u001b[43mBucket\u001b[49m\u001b[38;5;241;43m=\u001b[39;49m\u001b[38;5;28;43mself\u001b[39;49m\u001b[38;5;241;43m.\u001b[39;49m\u001b[43m_bucket\u001b[49m\u001b[43m,\u001b[49m\n\u001b[0;32m    480\u001b[0m \u001b[43m        \u001b[49m\u001b[43mKey\u001b[49m\u001b[38;5;241;43m=\u001b[39;49m\u001b[38;5;28;43mself\u001b[39;49m\u001b[38;5;241;43m.\u001b[39;49m\u001b[43m_key\u001b[49m\u001b[43m,\u001b[49m\n\u001b[0;32m    481\u001b[0m \u001b[43m        \u001b[49m\u001b[43mBody\u001b[49m\u001b[38;5;241;43m=\u001b[39;49m\u001b[38;5;28;43mself\u001b[39;49m\u001b[38;5;241;43m.\u001b[39;49m\u001b[43m_buffer\u001b[49m\u001b[38;5;241;43m.\u001b[39;49m\u001b[43mgetvalue\u001b[49m\u001b[43m(\u001b[49m\u001b[43m)\u001b[49m\u001b[43m,\u001b[49m\n\u001b[0;32m    482\u001b[0m \u001b[43m        \u001b[49m\u001b[38;5;241;43m*\u001b[39;49m\u001b[38;5;241;43m*\u001b[39;49m\u001b[43mget_botocore_valid_kwargs\u001b[49m\u001b[43m(\u001b[49m\n\u001b[0;32m    483\u001b[0m \u001b[43m            \u001b[49m\u001b[43mfunction_name\u001b[49m\u001b[38;5;241;43m=\u001b[39;49m\u001b[38;5;124;43m\"\u001b[39;49m\u001b[38;5;124;43mput_object\u001b[39;49m\u001b[38;5;124;43m\"\u001b[39;49m\u001b[43m,\u001b[49m\u001b[43m \u001b[49m\u001b[43ms3_additional_kwargs\u001b[49m\u001b[38;5;241;43m=\u001b[39;49m\u001b[38;5;28;43mself\u001b[39;49m\u001b[38;5;241;43m.\u001b[39;49m\u001b[43m_s3_additional_kwargs\u001b[49m\n\u001b[0;32m    484\u001b[0m \u001b[43m        \u001b[49m\u001b[43m)\u001b[49m\u001b[43m,\u001b[49m\n\u001b[0;32m    485\u001b[0m \u001b[43m    \u001b[49m\u001b[43m)\u001b[49m\n\u001b[0;32m    486\u001b[0m \u001b[38;5;28mself\u001b[39m\u001b[38;5;241m.\u001b[39m_parts_count \u001b[38;5;241m=\u001b[39m \u001b[38;5;241m0\u001b[39m\n\u001b[0;32m    487\u001b[0m \u001b[38;5;28mself\u001b[39m\u001b[38;5;241m.\u001b[39m_upload_proxy\u001b[38;5;241m.\u001b[39mclose()\n",
      "File \u001b[1;32m~\\Anaconda3\\envs\\aws2\\lib\\site-packages\\awswrangler\\_utils.py:343\u001b[0m, in \u001b[0;36mtry_it\u001b[1;34m(f, ex, ex_code, base, max_num_tries, **kwargs)\u001b[0m\n\u001b[0;32m    341\u001b[0m \u001b[38;5;28;01mfor\u001b[39;00m i \u001b[38;5;129;01min\u001b[39;00m \u001b[38;5;28mrange\u001b[39m(max_num_tries):\n\u001b[0;32m    342\u001b[0m     \u001b[38;5;28;01mtry\u001b[39;00m:\n\u001b[1;32m--> 343\u001b[0m         \u001b[38;5;28;01mreturn\u001b[39;00m \u001b[43mf\u001b[49m\u001b[43m(\u001b[49m\u001b[38;5;241;43m*\u001b[39;49m\u001b[38;5;241;43m*\u001b[39;49m\u001b[43mkwargs\u001b[49m\u001b[43m)\u001b[49m\n\u001b[0;32m    344\u001b[0m     \u001b[38;5;28;01mexcept\u001b[39;00m ex \u001b[38;5;28;01mas\u001b[39;00m exception:\n\u001b[0;32m    345\u001b[0m         \u001b[38;5;28;01mif\u001b[39;00m ex_code \u001b[38;5;129;01mis\u001b[39;00m \u001b[38;5;129;01mnot\u001b[39;00m \u001b[38;5;28;01mNone\u001b[39;00m \u001b[38;5;129;01mand\u001b[39;00m \u001b[38;5;28mhasattr\u001b[39m(exception, \u001b[38;5;124m\"\u001b[39m\u001b[38;5;124mresponse\u001b[39m\u001b[38;5;124m\"\u001b[39m):\n",
      "File \u001b[1;32m~\\AppData\\Roaming\\Python\\Python38\\site-packages\\botocore\\client.py:357\u001b[0m, in \u001b[0;36mClientCreator._create_api_method.<locals>._api_call\u001b[1;34m(self, *args, **kwargs)\u001b[0m\n\u001b[0;32m    354\u001b[0m     \u001b[38;5;28;01mraise\u001b[39;00m \u001b[38;5;167;01mTypeError\u001b[39;00m(\n\u001b[0;32m    355\u001b[0m         \u001b[38;5;124m\"\u001b[39m\u001b[38;5;132;01m%s\u001b[39;00m\u001b[38;5;124m() only accepts keyword arguments.\u001b[39m\u001b[38;5;124m\"\u001b[39m \u001b[38;5;241m%\u001b[39m py_operation_name)\n\u001b[0;32m    356\u001b[0m \u001b[38;5;66;03m# The \"self\" in this scope is referring to the BaseClient.\u001b[39;00m\n\u001b[1;32m--> 357\u001b[0m \u001b[38;5;28;01mreturn\u001b[39;00m \u001b[38;5;28;43mself\u001b[39;49m\u001b[38;5;241;43m.\u001b[39;49m\u001b[43m_make_api_call\u001b[49m\u001b[43m(\u001b[49m\u001b[43moperation_name\u001b[49m\u001b[43m,\u001b[49m\u001b[43m \u001b[49m\u001b[43mkwargs\u001b[49m\u001b[43m)\u001b[49m\n",
      "File \u001b[1;32m~\\AppData\\Roaming\\Python\\Python38\\site-packages\\botocore\\client.py:676\u001b[0m, in \u001b[0;36mBaseClient._make_api_call\u001b[1;34m(self, operation_name, api_params)\u001b[0m\n\u001b[0;32m    674\u001b[0m     error_code \u001b[38;5;241m=\u001b[39m parsed_response\u001b[38;5;241m.\u001b[39mget(\u001b[38;5;124m\"\u001b[39m\u001b[38;5;124mError\u001b[39m\u001b[38;5;124m\"\u001b[39m, {})\u001b[38;5;241m.\u001b[39mget(\u001b[38;5;124m\"\u001b[39m\u001b[38;5;124mCode\u001b[39m\u001b[38;5;124m\"\u001b[39m)\n\u001b[0;32m    675\u001b[0m     error_class \u001b[38;5;241m=\u001b[39m \u001b[38;5;28mself\u001b[39m\u001b[38;5;241m.\u001b[39mexceptions\u001b[38;5;241m.\u001b[39mfrom_code(error_code)\n\u001b[1;32m--> 676\u001b[0m     \u001b[38;5;28;01mraise\u001b[39;00m error_class(parsed_response, operation_name)\n\u001b[0;32m    677\u001b[0m \u001b[38;5;28;01melse\u001b[39;00m:\n\u001b[0;32m    678\u001b[0m     \u001b[38;5;28;01mreturn\u001b[39;00m parsed_response\n",
      "\u001b[1;31mClientError\u001b[0m: An error occurred (AccessDenied) when calling the PutObject operation: Access Denied"
     ]
    }
   ],
   "source": [
    "path1 = f\"s3://{bucket}/csv/file1.csv\"\n",
    "path2 = f\"s3://{bucket}/csv/file2.csv\"\n",
    "\n",
    "wr.s3.to_csv(df1, path1, index=False)\n",
    "wr.s3.to_csv(df2, path2, index=False);"
   ]
  },
  {
   "cell_type": "markdown",
   "id": "27de3b21-f4a7-4e07-b774-e432c66e9353",
   "metadata": {},
   "source": [
    "I get the error PutObject Access Denied\n",
    "\n",
    "So I need to allow the PutObject policy.   \n"
   ]
  },
  {
   "cell_type": "markdown",
   "id": "b4b9806e-9159-41ef-9736-e5c1803702de",
   "metadata": {},
   "source": [
    "## Set policy for the bucket\n",
    "\n",
    "We need to set PutObject policy to Allow"
   ]
  },
  {
   "cell_type": "code",
   "execution_count": 134,
   "id": "f523a008-c3c1-479c-884f-2c0383255070",
   "metadata": {},
   "outputs": [
    {
     "data": {
      "text/plain": [
       "{'ResponseMetadata': {'RequestId': 'M310MCM5GKV3CY1Q',\n",
       "  'HostId': 'eK1trCakIEQ2nxewaGq4ZwXhSVtknuNGxcvKuqZy3BX0qtnc9qe6B/m9pxsCVuMhlB6epeRp6HY=',\n",
       "  'HTTPStatusCode': 204,\n",
       "  'HTTPHeaders': {'x-amz-id-2': 'eK1trCakIEQ2nxewaGq4ZwXhSVtknuNGxcvKuqZy3BX0qtnc9qe6B/m9pxsCVuMhlB6epeRp6HY=',\n",
       "   'x-amz-request-id': 'M310MCM5GKV3CY1Q',\n",
       "   'date': 'Thu, 05 May 2022 20:41:55 GMT',\n",
       "   'server': 'AmazonS3'},\n",
       "  'RetryAttempts': 0}}"
      ]
     },
     "execution_count": 134,
     "metadata": {},
     "output_type": "execute_result"
    }
   ],
   "source": [
    "import json\n",
    "\n",
    "# Create a bucket policy\n",
    "bucket_policy = {\n",
    "    'Version': '2012-10-17',\n",
    "    'Statement': [{\n",
    "        'Effect': 'Allow',\n",
    "        'Principal': '*',\n",
    "        'Action': ['s3:PutObject'],\n",
    "        'Resource': f'arn:aws:s3:::{bucket}/*'\n",
    "        },\n",
    "     ]\n",
    "}\n",
    "\n",
    "# Convert the policy from JSON dict to string\n",
    "bucket_policy = json.dumps(bucket_policy)\n",
    "\n",
    "# Set the new policy\n",
    "\n",
    "dev_s3_client.put_bucket_policy(Bucket=bucket, Policy=bucket_policy)"
   ]
  },
  {
   "cell_type": "markdown",
   "id": "63eef209-b3f7-4a37-9f71-7cefe3e58d62",
   "metadata": {},
   "source": [
    "Writing the file into the bucket. Retry!"
   ]
  },
  {
   "cell_type": "code",
   "execution_count": 135,
   "id": "538d2947-3a37-491c-9862-495a5dd0373b",
   "metadata": {
    "tags": []
   },
   "outputs": [],
   "source": [
    "path1 = f\"s3://{bucket}/csv/file1.csv\"\n",
    "path2 = f\"s3://{bucket}/csv/file2.csv\"\n",
    "\n",
    "wr.s3.to_csv(df1, path1, index=False)\n",
    "wr.s3.to_csv(df2, path2, index=False);"
   ]
  },
  {
   "cell_type": "markdown",
   "id": "38fd0947-ffd2-479d-af02-f385a6876f4d",
   "metadata": {},
   "source": [
    "#### Reading the csv file"
   ]
  },
  {
   "cell_type": "code",
   "execution_count": 136,
   "id": "554f4790-5119-47c6-b6dd-65ba6cb8f8c8",
   "metadata": {},
   "outputs": [
    {
     "data": {
      "text/html": [
       "<div>\n",
       "<style scoped>\n",
       "    .dataframe tbody tr th:only-of-type {\n",
       "        vertical-align: middle;\n",
       "    }\n",
       "\n",
       "    .dataframe tbody tr th {\n",
       "        vertical-align: top;\n",
       "    }\n",
       "\n",
       "    .dataframe thead th {\n",
       "        text-align: right;\n",
       "    }\n",
       "</style>\n",
       "<table border=\"1\" class=\"dataframe\">\n",
       "  <thead>\n",
       "    <tr style=\"text-align: right;\">\n",
       "      <th></th>\n",
       "      <th>id</th>\n",
       "      <th>name</th>\n",
       "    </tr>\n",
       "  </thead>\n",
       "  <tbody>\n",
       "    <tr>\n",
       "      <th>0</th>\n",
       "      <td>1</td>\n",
       "      <td>foo</td>\n",
       "    </tr>\n",
       "    <tr>\n",
       "      <th>1</th>\n",
       "      <td>2</td>\n",
       "      <td>boo</td>\n",
       "    </tr>\n",
       "  </tbody>\n",
       "</table>\n",
       "</div>"
      ],
      "text/plain": [
       "   id name\n",
       "0   1  foo\n",
       "1   2  boo"
      ]
     },
     "execution_count": 136,
     "metadata": {},
     "output_type": "execute_result"
    }
   ],
   "source": [
    "wr.s3.read_csv([path1])"
   ]
  },
  {
   "cell_type": "markdown",
   "id": "5245d037-4dff-4224-8238-fc07570292f2",
   "metadata": {},
   "source": [
    "#### Reading all the file in the directory"
   ]
  },
  {
   "cell_type": "code",
   "execution_count": 137,
   "id": "1f2b5e38-c93c-4777-883d-41eef97676fe",
   "metadata": {
    "collapsed": true,
    "jupyter": {
     "outputs_hidden": true
    },
    "tags": []
   },
   "outputs": [
    {
     "ename": "ClientError",
     "evalue": "An error occurred (AccessDenied) when calling the ListObjectsV2 operation: Access Denied",
     "output_type": "error",
     "traceback": [
      "\u001b[1;31m---------------------------------------------------------------------------\u001b[0m",
      "\u001b[1;31mClientError\u001b[0m                               Traceback (most recent call last)",
      "Input \u001b[1;32mIn [137]\u001b[0m, in \u001b[0;36m<cell line: 1>\u001b[1;34m()\u001b[0m\n\u001b[1;32m----> 1\u001b[0m \u001b[43mwr\u001b[49m\u001b[38;5;241;43m.\u001b[39;49m\u001b[43ms3\u001b[49m\u001b[38;5;241;43m.\u001b[39;49m\u001b[43mread_csv\u001b[49m\u001b[43m(\u001b[49m\u001b[38;5;124;43mf\u001b[39;49m\u001b[38;5;124;43m\"\u001b[39;49m\u001b[38;5;124;43ms3://\u001b[39;49m\u001b[38;5;132;43;01m{\u001b[39;49;00m\u001b[43mbucket\u001b[49m\u001b[38;5;132;43;01m}\u001b[39;49;00m\u001b[38;5;124;43m/csv/\u001b[39;49m\u001b[38;5;124;43m\"\u001b[39;49m\u001b[43m)\u001b[49m\n",
      "File \u001b[1;32m~\\Anaconda3\\envs\\aws2\\lib\\site-packages\\awswrangler\\s3\\_read_text.py:294\u001b[0m, in \u001b[0;36mread_csv\u001b[1;34m(path, path_suffix, path_ignore_suffix, version_id, ignore_empty, use_threads, last_modified_begin, last_modified_end, boto3_session, s3_additional_kwargs, chunksize, dataset, partition_filter, **pandas_kwargs)\u001b[0m\n\u001b[0;32m    288\u001b[0m     \u001b[38;5;28;01mraise\u001b[39;00m exceptions\u001b[38;5;241m.\u001b[39mInvalidArgument(\n\u001b[0;32m    289\u001b[0m         \u001b[38;5;124m\"\u001b[39m\u001b[38;5;124mYou can NOT pass `pandas_kwargs` explicit, just add valid \u001b[39m\u001b[38;5;124m\"\u001b[39m\n\u001b[0;32m    290\u001b[0m         \u001b[38;5;124m\"\u001b[39m\u001b[38;5;124mPandas arguments in the function call and Wrangler will accept it.\u001b[39m\u001b[38;5;124m\"\u001b[39m\n\u001b[0;32m    291\u001b[0m         \u001b[38;5;124m\"\u001b[39m\u001b[38;5;124me.g. wr.s3.read_csv(\u001b[39m\u001b[38;5;124m'\u001b[39m\u001b[38;5;124ms3://bucket/prefix/\u001b[39m\u001b[38;5;124m'\u001b[39m\u001b[38;5;124m, sep=\u001b[39m\u001b[38;5;124m'\u001b[39m\u001b[38;5;124m|\u001b[39m\u001b[38;5;124m'\u001b[39m\u001b[38;5;124m, skip_blank_lines=True)\u001b[39m\u001b[38;5;124m\"\u001b[39m\n\u001b[0;32m    292\u001b[0m     )\n\u001b[0;32m    293\u001b[0m ignore_index: \u001b[38;5;28mbool\u001b[39m \u001b[38;5;241m=\u001b[39m \u001b[38;5;124m\"\u001b[39m\u001b[38;5;124mindex_col\u001b[39m\u001b[38;5;124m\"\u001b[39m \u001b[38;5;129;01mnot\u001b[39;00m \u001b[38;5;129;01min\u001b[39;00m pandas_kwargs\n\u001b[1;32m--> 294\u001b[0m \u001b[38;5;28;01mreturn\u001b[39;00m \u001b[43m_read_text\u001b[49m\u001b[43m(\u001b[49m\n\u001b[0;32m    295\u001b[0m \u001b[43m    \u001b[49m\u001b[43mparser_func\u001b[49m\u001b[38;5;241;43m=\u001b[39;49m\u001b[43mpd\u001b[49m\u001b[38;5;241;43m.\u001b[39;49m\u001b[43mread_csv\u001b[49m\u001b[43m,\u001b[49m\n\u001b[0;32m    296\u001b[0m \u001b[43m    \u001b[49m\u001b[43mpath\u001b[49m\u001b[38;5;241;43m=\u001b[39;49m\u001b[43mpath\u001b[49m\u001b[43m,\u001b[49m\n\u001b[0;32m    297\u001b[0m \u001b[43m    \u001b[49m\u001b[43mpath_suffix\u001b[49m\u001b[38;5;241;43m=\u001b[39;49m\u001b[43mpath_suffix\u001b[49m\u001b[43m,\u001b[49m\n\u001b[0;32m    298\u001b[0m \u001b[43m    \u001b[49m\u001b[43mpath_ignore_suffix\u001b[49m\u001b[38;5;241;43m=\u001b[39;49m\u001b[43mpath_ignore_suffix\u001b[49m\u001b[43m,\u001b[49m\n\u001b[0;32m    299\u001b[0m \u001b[43m    \u001b[49m\u001b[43mversion_id\u001b[49m\u001b[38;5;241;43m=\u001b[39;49m\u001b[43mversion_id\u001b[49m\u001b[43m,\u001b[49m\n\u001b[0;32m    300\u001b[0m \u001b[43m    \u001b[49m\u001b[43mignore_empty\u001b[49m\u001b[38;5;241;43m=\u001b[39;49m\u001b[43mignore_empty\u001b[49m\u001b[43m,\u001b[49m\n\u001b[0;32m    301\u001b[0m \u001b[43m    \u001b[49m\u001b[43muse_threads\u001b[49m\u001b[38;5;241;43m=\u001b[39;49m\u001b[43muse_threads\u001b[49m\u001b[43m,\u001b[49m\n\u001b[0;32m    302\u001b[0m \u001b[43m    \u001b[49m\u001b[43mboto3_session\u001b[49m\u001b[38;5;241;43m=\u001b[39;49m\u001b[43mboto3_session\u001b[49m\u001b[43m,\u001b[49m\n\u001b[0;32m    303\u001b[0m \u001b[43m    \u001b[49m\u001b[43ms3_additional_kwargs\u001b[49m\u001b[38;5;241;43m=\u001b[39;49m\u001b[43ms3_additional_kwargs\u001b[49m\u001b[43m,\u001b[49m\n\u001b[0;32m    304\u001b[0m \u001b[43m    \u001b[49m\u001b[43mchunksize\u001b[49m\u001b[38;5;241;43m=\u001b[39;49m\u001b[43mchunksize\u001b[49m\u001b[43m,\u001b[49m\n\u001b[0;32m    305\u001b[0m \u001b[43m    \u001b[49m\u001b[43mdataset\u001b[49m\u001b[38;5;241;43m=\u001b[39;49m\u001b[43mdataset\u001b[49m\u001b[43m,\u001b[49m\n\u001b[0;32m    306\u001b[0m \u001b[43m    \u001b[49m\u001b[43mpartition_filter\u001b[49m\u001b[38;5;241;43m=\u001b[39;49m\u001b[43mpartition_filter\u001b[49m\u001b[43m,\u001b[49m\n\u001b[0;32m    307\u001b[0m \u001b[43m    \u001b[49m\u001b[43mlast_modified_begin\u001b[49m\u001b[38;5;241;43m=\u001b[39;49m\u001b[43mlast_modified_begin\u001b[49m\u001b[43m,\u001b[49m\n\u001b[0;32m    308\u001b[0m \u001b[43m    \u001b[49m\u001b[43mlast_modified_end\u001b[49m\u001b[38;5;241;43m=\u001b[39;49m\u001b[43mlast_modified_end\u001b[49m\u001b[43m,\u001b[49m\n\u001b[0;32m    309\u001b[0m \u001b[43m    \u001b[49m\u001b[43mignore_index\u001b[49m\u001b[38;5;241;43m=\u001b[39;49m\u001b[43mignore_index\u001b[49m\u001b[43m,\u001b[49m\n\u001b[0;32m    310\u001b[0m \u001b[43m    \u001b[49m\u001b[38;5;241;43m*\u001b[39;49m\u001b[38;5;241;43m*\u001b[39;49m\u001b[43mpandas_kwargs\u001b[49m\u001b[43m,\u001b[49m\n\u001b[0;32m    311\u001b[0m \u001b[43m\u001b[49m\u001b[43m)\u001b[49m\n",
      "File \u001b[1;32m~\\Anaconda3\\envs\\aws2\\lib\\site-packages\\awswrangler\\s3\\_read_text.py:116\u001b[0m, in \u001b[0;36m_read_text\u001b[1;34m(parser_func, path, path_suffix, path_ignore_suffix, ignore_empty, use_threads, last_modified_begin, last_modified_end, boto3_session, s3_additional_kwargs, chunksize, dataset, partition_filter, ignore_index, version_id, **pandas_kwargs)\u001b[0m\n\u001b[0;32m    114\u001b[0m     \u001b[38;5;28;01mraise\u001b[39;00m exceptions\u001b[38;5;241m.\u001b[39mInvalidArgument(\u001b[38;5;124m\"\u001b[39m\u001b[38;5;124mPlease, use the chunksize argument instead of iterator.\u001b[39m\u001b[38;5;124m\"\u001b[39m)\n\u001b[0;32m    115\u001b[0m session: boto3\u001b[38;5;241m.\u001b[39mSession \u001b[38;5;241m=\u001b[39m _utils\u001b[38;5;241m.\u001b[39mensure_session(session\u001b[38;5;241m=\u001b[39mboto3_session)\n\u001b[1;32m--> 116\u001b[0m paths: List[\u001b[38;5;28mstr\u001b[39m] \u001b[38;5;241m=\u001b[39m \u001b[43m_path2list\u001b[49m\u001b[43m(\u001b[49m\n\u001b[0;32m    117\u001b[0m \u001b[43m    \u001b[49m\u001b[43mpath\u001b[49m\u001b[38;5;241;43m=\u001b[39;49m\u001b[43mpath\u001b[49m\u001b[43m,\u001b[49m\n\u001b[0;32m    118\u001b[0m \u001b[43m    \u001b[49m\u001b[43mboto3_session\u001b[49m\u001b[38;5;241;43m=\u001b[39;49m\u001b[43msession\u001b[49m\u001b[43m,\u001b[49m\n\u001b[0;32m    119\u001b[0m \u001b[43m    \u001b[49m\u001b[43msuffix\u001b[49m\u001b[38;5;241;43m=\u001b[39;49m\u001b[43mpath_suffix\u001b[49m\u001b[43m,\u001b[49m\n\u001b[0;32m    120\u001b[0m \u001b[43m    \u001b[49m\u001b[43mignore_suffix\u001b[49m\u001b[38;5;241;43m=\u001b[39;49m\u001b[43m_get_path_ignore_suffix\u001b[49m\u001b[43m(\u001b[49m\u001b[43mpath_ignore_suffix\u001b[49m\u001b[38;5;241;43m=\u001b[39;49m\u001b[43mpath_ignore_suffix\u001b[49m\u001b[43m)\u001b[49m\u001b[43m,\u001b[49m\n\u001b[0;32m    121\u001b[0m \u001b[43m    \u001b[49m\u001b[43mignore_empty\u001b[49m\u001b[38;5;241;43m=\u001b[39;49m\u001b[43mignore_empty\u001b[49m\u001b[43m,\u001b[49m\n\u001b[0;32m    122\u001b[0m \u001b[43m    \u001b[49m\u001b[43mlast_modified_begin\u001b[49m\u001b[38;5;241;43m=\u001b[39;49m\u001b[43mlast_modified_begin\u001b[49m\u001b[43m,\u001b[49m\n\u001b[0;32m    123\u001b[0m \u001b[43m    \u001b[49m\u001b[43mlast_modified_end\u001b[49m\u001b[38;5;241;43m=\u001b[39;49m\u001b[43mlast_modified_end\u001b[49m\u001b[43m,\u001b[49m\n\u001b[0;32m    124\u001b[0m \u001b[43m    \u001b[49m\u001b[43ms3_additional_kwargs\u001b[49m\u001b[38;5;241;43m=\u001b[39;49m\u001b[43ms3_additional_kwargs\u001b[49m\u001b[43m,\u001b[49m\n\u001b[0;32m    125\u001b[0m \u001b[43m\u001b[49m\u001b[43m)\u001b[49m\n\u001b[0;32m    126\u001b[0m path_root: Optional[\u001b[38;5;28mstr\u001b[39m] \u001b[38;5;241m=\u001b[39m _get_path_root(path\u001b[38;5;241m=\u001b[39mpath, dataset\u001b[38;5;241m=\u001b[39mdataset)\n\u001b[0;32m    127\u001b[0m \u001b[38;5;28;01mif\u001b[39;00m path_root \u001b[38;5;129;01mis\u001b[39;00m \u001b[38;5;129;01mnot\u001b[39;00m \u001b[38;5;28;01mNone\u001b[39;00m:\n",
      "File \u001b[1;32m~\\Anaconda3\\envs\\aws2\\lib\\site-packages\\awswrangler\\s3\\_list.py:31\u001b[0m, in \u001b[0;36m_path2list\u001b[1;34m(path, boto3_session, s3_additional_kwargs, last_modified_begin, last_modified_end, suffix, ignore_suffix, ignore_empty)\u001b[0m\n\u001b[0;32m     29\u001b[0m _ignore_suffix: Optional[List[\u001b[38;5;28mstr\u001b[39m]] \u001b[38;5;241m=\u001b[39m [ignore_suffix] \u001b[38;5;28;01mif\u001b[39;00m \u001b[38;5;28misinstance\u001b[39m(ignore_suffix, \u001b[38;5;28mstr\u001b[39m) \u001b[38;5;28;01melse\u001b[39;00m ignore_suffix\n\u001b[0;32m     30\u001b[0m \u001b[38;5;28;01mif\u001b[39;00m \u001b[38;5;28misinstance\u001b[39m(path, \u001b[38;5;28mstr\u001b[39m):  \u001b[38;5;66;03m# prefix\u001b[39;00m\n\u001b[1;32m---> 31\u001b[0m     paths: List[\u001b[38;5;28mstr\u001b[39m] \u001b[38;5;241m=\u001b[39m \u001b[43mlist_objects\u001b[49m\u001b[43m(\u001b[49m\u001b[43m  \u001b[49m\u001b[38;5;66;43;03m# type: ignore\u001b[39;49;00m\n\u001b[0;32m     32\u001b[0m \u001b[43m        \u001b[49m\u001b[43mpath\u001b[49m\u001b[38;5;241;43m=\u001b[39;49m\u001b[43mpath\u001b[49m\u001b[43m,\u001b[49m\n\u001b[0;32m     33\u001b[0m \u001b[43m        \u001b[49m\u001b[43msuffix\u001b[49m\u001b[38;5;241;43m=\u001b[39;49m\u001b[43m_suffix\u001b[49m\u001b[43m,\u001b[49m\n\u001b[0;32m     34\u001b[0m \u001b[43m        \u001b[49m\u001b[43mignore_suffix\u001b[49m\u001b[38;5;241;43m=\u001b[39;49m\u001b[43m_ignore_suffix\u001b[49m\u001b[43m,\u001b[49m\n\u001b[0;32m     35\u001b[0m \u001b[43m        \u001b[49m\u001b[43mboto3_session\u001b[49m\u001b[38;5;241;43m=\u001b[39;49m\u001b[43mboto3_session\u001b[49m\u001b[43m,\u001b[49m\n\u001b[0;32m     36\u001b[0m \u001b[43m        \u001b[49m\u001b[43mlast_modified_begin\u001b[49m\u001b[38;5;241;43m=\u001b[39;49m\u001b[43mlast_modified_begin\u001b[49m\u001b[43m,\u001b[49m\n\u001b[0;32m     37\u001b[0m \u001b[43m        \u001b[49m\u001b[43mlast_modified_end\u001b[49m\u001b[38;5;241;43m=\u001b[39;49m\u001b[43mlast_modified_end\u001b[49m\u001b[43m,\u001b[49m\n\u001b[0;32m     38\u001b[0m \u001b[43m        \u001b[49m\u001b[43mignore_empty\u001b[49m\u001b[38;5;241;43m=\u001b[39;49m\u001b[43mignore_empty\u001b[49m\u001b[43m,\u001b[49m\n\u001b[0;32m     39\u001b[0m \u001b[43m        \u001b[49m\u001b[43ms3_additional_kwargs\u001b[49m\u001b[38;5;241;43m=\u001b[39;49m\u001b[43ms3_additional_kwargs\u001b[49m\u001b[43m,\u001b[49m\n\u001b[0;32m     40\u001b[0m \u001b[43m    \u001b[49m\u001b[43m)\u001b[49m\n\u001b[0;32m     41\u001b[0m \u001b[38;5;28;01melif\u001b[39;00m \u001b[38;5;28misinstance\u001b[39m(path, \u001b[38;5;28mlist\u001b[39m):\n\u001b[0;32m     42\u001b[0m     \u001b[38;5;28;01mif\u001b[39;00m last_modified_begin \u001b[38;5;129;01mor\u001b[39;00m last_modified_end:\n",
      "File \u001b[1;32m~\\Anaconda3\\envs\\aws2\\lib\\site-packages\\awswrangler\\s3\\_list.py:358\u001b[0m, in \u001b[0;36mlist_objects\u001b[1;34m(path, suffix, ignore_suffix, last_modified_begin, last_modified_end, ignore_empty, chunked, s3_additional_kwargs, boto3_session)\u001b[0m\n\u001b[0;32m    356\u001b[0m \u001b[38;5;28;01mif\u001b[39;00m chunked:\n\u001b[0;32m    357\u001b[0m     \u001b[38;5;28;01mreturn\u001b[39;00m result_iterator\n\u001b[1;32m--> 358\u001b[0m \u001b[38;5;28;01mreturn\u001b[39;00m [path \u001b[38;5;28;01mfor\u001b[39;00m paths \u001b[38;5;129;01min\u001b[39;00m result_iterator \u001b[38;5;28;01mfor\u001b[39;00m path \u001b[38;5;129;01min\u001b[39;00m paths]\n",
      "File \u001b[1;32m~\\Anaconda3\\envs\\aws2\\lib\\site-packages\\awswrangler\\s3\\_list.py:358\u001b[0m, in \u001b[0;36m<listcomp>\u001b[1;34m(.0)\u001b[0m\n\u001b[0;32m    356\u001b[0m \u001b[38;5;28;01mif\u001b[39;00m chunked:\n\u001b[0;32m    357\u001b[0m     \u001b[38;5;28;01mreturn\u001b[39;00m result_iterator\n\u001b[1;32m--> 358\u001b[0m \u001b[38;5;28;01mreturn\u001b[39;00m [path \u001b[38;5;28;01mfor\u001b[39;00m paths \u001b[38;5;129;01min\u001b[39;00m result_iterator \u001b[38;5;28;01mfor\u001b[39;00m path \u001b[38;5;129;01min\u001b[39;00m paths]\n",
      "File \u001b[1;32m~\\Anaconda3\\envs\\aws2\\lib\\site-packages\\awswrangler\\s3\\_list.py:110\u001b[0m, in \u001b[0;36m_list_objects\u001b[1;34m(path, s3_additional_kwargs, delimiter, suffix, ignore_suffix, last_modified_begin, last_modified_end, boto3_session, ignore_empty)\u001b[0m\n\u001b[0;32m    107\u001b[0m paths: List[\u001b[38;5;28mstr\u001b[39m] \u001b[38;5;241m=\u001b[39m []\n\u001b[0;32m    108\u001b[0m _validate_datetimes(last_modified_begin\u001b[38;5;241m=\u001b[39mlast_modified_begin, last_modified_end\u001b[38;5;241m=\u001b[39mlast_modified_end)\n\u001b[1;32m--> 110\u001b[0m \u001b[38;5;28;01mfor\u001b[39;00m page \u001b[38;5;129;01min\u001b[39;00m response_iterator:  \u001b[38;5;66;03m# pylint: disable=too-many-nested-blocks\u001b[39;00m\n\u001b[0;32m    111\u001b[0m     \u001b[38;5;28;01mif\u001b[39;00m delimiter \u001b[38;5;129;01mis\u001b[39;00m \u001b[38;5;28;01mNone\u001b[39;00m:\n\u001b[0;32m    112\u001b[0m         contents: Optional[List[Dict[\u001b[38;5;28mstr\u001b[39m, Any]]] \u001b[38;5;241m=\u001b[39m page\u001b[38;5;241m.\u001b[39mget(\u001b[38;5;124m\"\u001b[39m\u001b[38;5;124mContents\u001b[39m\u001b[38;5;124m\"\u001b[39m)\n",
      "File \u001b[1;32m~\\AppData\\Roaming\\Python\\Python38\\site-packages\\botocore\\paginate.py:255\u001b[0m, in \u001b[0;36mPageIterator.__iter__\u001b[1;34m(self)\u001b[0m\n\u001b[0;32m    253\u001b[0m \u001b[38;5;28mself\u001b[39m\u001b[38;5;241m.\u001b[39m_inject_starting_params(current_kwargs)\n\u001b[0;32m    254\u001b[0m \u001b[38;5;28;01mwhile\u001b[39;00m \u001b[38;5;28;01mTrue\u001b[39;00m:\n\u001b[1;32m--> 255\u001b[0m     response \u001b[38;5;241m=\u001b[39m \u001b[38;5;28;43mself\u001b[39;49m\u001b[38;5;241;43m.\u001b[39;49m\u001b[43m_make_request\u001b[49m\u001b[43m(\u001b[49m\u001b[43mcurrent_kwargs\u001b[49m\u001b[43m)\u001b[49m\n\u001b[0;32m    256\u001b[0m     parsed \u001b[38;5;241m=\u001b[39m \u001b[38;5;28mself\u001b[39m\u001b[38;5;241m.\u001b[39m_extract_parsed_response(response)\n\u001b[0;32m    257\u001b[0m     \u001b[38;5;28;01mif\u001b[39;00m first_request:\n\u001b[0;32m    258\u001b[0m         \u001b[38;5;66;03m# The first request is handled differently.  We could\u001b[39;00m\n\u001b[0;32m    259\u001b[0m         \u001b[38;5;66;03m# possibly have a resume/starting token that tells us where\u001b[39;00m\n\u001b[0;32m    260\u001b[0m         \u001b[38;5;66;03m# to index into the retrieved page.\u001b[39;00m\n",
      "File \u001b[1;32m~\\AppData\\Roaming\\Python\\Python38\\site-packages\\botocore\\paginate.py:332\u001b[0m, in \u001b[0;36mPageIterator._make_request\u001b[1;34m(self, current_kwargs)\u001b[0m\n\u001b[0;32m    331\u001b[0m \u001b[38;5;28;01mdef\u001b[39;00m \u001b[38;5;21m_make_request\u001b[39m(\u001b[38;5;28mself\u001b[39m, current_kwargs):\n\u001b[1;32m--> 332\u001b[0m     \u001b[38;5;28;01mreturn\u001b[39;00m \u001b[38;5;28;43mself\u001b[39;49m\u001b[38;5;241;43m.\u001b[39;49m\u001b[43m_method\u001b[49m\u001b[43m(\u001b[49m\u001b[38;5;241;43m*\u001b[39;49m\u001b[38;5;241;43m*\u001b[39;49m\u001b[43mcurrent_kwargs\u001b[49m\u001b[43m)\u001b[49m\n",
      "File \u001b[1;32m~\\AppData\\Roaming\\Python\\Python38\\site-packages\\botocore\\client.py:357\u001b[0m, in \u001b[0;36mClientCreator._create_api_method.<locals>._api_call\u001b[1;34m(self, *args, **kwargs)\u001b[0m\n\u001b[0;32m    354\u001b[0m     \u001b[38;5;28;01mraise\u001b[39;00m \u001b[38;5;167;01mTypeError\u001b[39;00m(\n\u001b[0;32m    355\u001b[0m         \u001b[38;5;124m\"\u001b[39m\u001b[38;5;132;01m%s\u001b[39;00m\u001b[38;5;124m() only accepts keyword arguments.\u001b[39m\u001b[38;5;124m\"\u001b[39m \u001b[38;5;241m%\u001b[39m py_operation_name)\n\u001b[0;32m    356\u001b[0m \u001b[38;5;66;03m# The \"self\" in this scope is referring to the BaseClient.\u001b[39;00m\n\u001b[1;32m--> 357\u001b[0m \u001b[38;5;28;01mreturn\u001b[39;00m \u001b[38;5;28;43mself\u001b[39;49m\u001b[38;5;241;43m.\u001b[39;49m\u001b[43m_make_api_call\u001b[49m\u001b[43m(\u001b[49m\u001b[43moperation_name\u001b[49m\u001b[43m,\u001b[49m\u001b[43m \u001b[49m\u001b[43mkwargs\u001b[49m\u001b[43m)\u001b[49m\n",
      "File \u001b[1;32m~\\AppData\\Roaming\\Python\\Python38\\site-packages\\botocore\\client.py:676\u001b[0m, in \u001b[0;36mBaseClient._make_api_call\u001b[1;34m(self, operation_name, api_params)\u001b[0m\n\u001b[0;32m    674\u001b[0m     error_code \u001b[38;5;241m=\u001b[39m parsed_response\u001b[38;5;241m.\u001b[39mget(\u001b[38;5;124m\"\u001b[39m\u001b[38;5;124mError\u001b[39m\u001b[38;5;124m\"\u001b[39m, {})\u001b[38;5;241m.\u001b[39mget(\u001b[38;5;124m\"\u001b[39m\u001b[38;5;124mCode\u001b[39m\u001b[38;5;124m\"\u001b[39m)\n\u001b[0;32m    675\u001b[0m     error_class \u001b[38;5;241m=\u001b[39m \u001b[38;5;28mself\u001b[39m\u001b[38;5;241m.\u001b[39mexceptions\u001b[38;5;241m.\u001b[39mfrom_code(error_code)\n\u001b[1;32m--> 676\u001b[0m     \u001b[38;5;28;01mraise\u001b[39;00m error_class(parsed_response, operation_name)\n\u001b[0;32m    677\u001b[0m \u001b[38;5;28;01melse\u001b[39;00m:\n\u001b[0;32m    678\u001b[0m     \u001b[38;5;28;01mreturn\u001b[39;00m parsed_response\n",
      "\u001b[1;31mClientError\u001b[0m: An error occurred (AccessDenied) when calling the ListObjectsV2 operation: Access Denied"
     ]
    }
   ],
   "source": [
    "wr.s3.read_csv(f\"s3://{bucket}/csv/\")"
   ]
  },
  {
   "cell_type": "markdown",
   "id": "8d659139-c584-4c91-a607-632c4b356bca",
   "metadata": {},
   "source": [
    "**ClientError:** An error occurred (AccessDenied) when calling the ListObjectsV2 operation: Access Denied"
   ]
  },
  {
   "cell_type": "markdown",
   "id": "fc9434b0-3152-4ae1-8c68-c6529caa94ab",
   "metadata": {},
   "source": [
    "I need to set the LIstObject policy for the bucket"
   ]
  },
  {
   "cell_type": "code",
   "execution_count": 138,
   "id": "930f86c0-1aab-4e5c-b2ff-7f3eafd3bc67",
   "metadata": {},
   "outputs": [
    {
     "data": {
      "text/plain": [
       "{'ResponseMetadata': {'RequestId': 'T3KER146GNQTM2KT',\n",
       "  'HostId': 'wsCulBQ2BDwvmNk0cmvSSbW4+crCiKTyjmBDutQ5bUgi6sOLa+lRmcyEk7ovSJUoG7c3xh6CtBA=',\n",
       "  'HTTPStatusCode': 204,\n",
       "  'HTTPHeaders': {'x-amz-id-2': 'wsCulBQ2BDwvmNk0cmvSSbW4+crCiKTyjmBDutQ5bUgi6sOLa+lRmcyEk7ovSJUoG7c3xh6CtBA=',\n",
       "   'x-amz-request-id': 'T3KER146GNQTM2KT',\n",
       "   'date': 'Thu, 05 May 2022 20:42:24 GMT',\n",
       "   'server': 'AmazonS3'},\n",
       "  'RetryAttempts': 0}}"
      ]
     },
     "execution_count": 138,
     "metadata": {},
     "output_type": "execute_result"
    }
   ],
   "source": [
    "# Create a bucket policy\n",
    "bucket_policy = {\n",
    "    'Version': '2012-10-17',\n",
    "    'Statement': [{\n",
    "        'Sid': 'AddPerm',\n",
    "        'Effect': 'Allow',\n",
    "        'Principal': '*',\n",
    "        'Action': ['s3:GetObject'],\n",
    "        'Resource': f'arn:aws:s3:::{bucket}/*'\n",
    "        },\n",
    "        {\n",
    "        'Sid': 'AddPerm',\n",
    "        'Effect': 'Allow',\n",
    "        'Principal': '*',\n",
    "        'Action': ['s3:ListBucket'],\n",
    "        'Resource': f'arn:aws:s3:::{bucket}'\n",
    "        },\n",
    "     ]\n",
    "}\n",
    "\n",
    "# Convert the policy from JSON dict to string\n",
    "bucket_policy = json.dumps(bucket_policy)\n",
    "\n",
    "# Set the new policy\n",
    "dev_s3_client.put_bucket_policy(Bucket=bucket, Policy=bucket_policy)"
   ]
  },
  {
   "cell_type": "markdown",
   "id": "5ae12125-76e9-4795-9b7c-fb972c9a2024",
   "metadata": {},
   "source": [
    "Retry:"
   ]
  },
  {
   "cell_type": "code",
   "execution_count": 139,
   "id": "54743fca-3ad5-4542-acc5-44db2f185279",
   "metadata": {
    "tags": []
   },
   "outputs": [
    {
     "data": {
      "text/html": [
       "<div>\n",
       "<style scoped>\n",
       "    .dataframe tbody tr th:only-of-type {\n",
       "        vertical-align: middle;\n",
       "    }\n",
       "\n",
       "    .dataframe tbody tr th {\n",
       "        vertical-align: top;\n",
       "    }\n",
       "\n",
       "    .dataframe thead th {\n",
       "        text-align: right;\n",
       "    }\n",
       "</style>\n",
       "<table border=\"1\" class=\"dataframe\">\n",
       "  <thead>\n",
       "    <tr style=\"text-align: right;\">\n",
       "      <th></th>\n",
       "      <th>id</th>\n",
       "      <th>name</th>\n",
       "    </tr>\n",
       "  </thead>\n",
       "  <tbody>\n",
       "    <tr>\n",
       "      <th>0</th>\n",
       "      <td>1</td>\n",
       "      <td>foo</td>\n",
       "    </tr>\n",
       "    <tr>\n",
       "      <th>1</th>\n",
       "      <td>2</td>\n",
       "      <td>boo</td>\n",
       "    </tr>\n",
       "    <tr>\n",
       "      <th>2</th>\n",
       "      <td>3</td>\n",
       "      <td>bar</td>\n",
       "    </tr>\n",
       "  </tbody>\n",
       "</table>\n",
       "</div>"
      ],
      "text/plain": [
       "   id name\n",
       "0   1  foo\n",
       "1   2  boo\n",
       "2   3  bar"
      ]
     },
     "execution_count": 139,
     "metadata": {},
     "output_type": "execute_result"
    }
   ],
   "source": [
    "wr.s3.read_csv(f\"s3://{bucket}/csv/\")"
   ]
  },
  {
   "cell_type": "markdown",
   "id": "34bde840-6adc-4caa-a313-814b9979b041",
   "metadata": {},
   "source": [
    "#### Writing JSON"
   ]
  },
  {
   "cell_type": "code",
   "execution_count": 140,
   "id": "176fe0e7-78b5-463f-97a1-b0ceb9e1e4f3",
   "metadata": {
    "collapsed": true,
    "jupyter": {
     "outputs_hidden": true
    },
    "tags": []
   },
   "outputs": [
    {
     "ename": "ClientError",
     "evalue": "An error occurred (AccessDenied) when calling the PutObject operation: Access Denied",
     "output_type": "error",
     "traceback": [
      "\u001b[1;31m---------------------------------------------------------------------------\u001b[0m",
      "\u001b[1;31mClientError\u001b[0m                               Traceback (most recent call last)",
      "Input \u001b[1;32mIn [140]\u001b[0m, in \u001b[0;36m<cell line: 4>\u001b[1;34m()\u001b[0m\n\u001b[0;32m      1\u001b[0m path1 \u001b[38;5;241m=\u001b[39m \u001b[38;5;124mf\u001b[39m\u001b[38;5;124m\"\u001b[39m\u001b[38;5;124ms3://\u001b[39m\u001b[38;5;132;01m{\u001b[39;00mbucket\u001b[38;5;132;01m}\u001b[39;00m\u001b[38;5;124m/json/file1.json\u001b[39m\u001b[38;5;124m\"\u001b[39m\n\u001b[0;32m      2\u001b[0m path2 \u001b[38;5;241m=\u001b[39m \u001b[38;5;124mf\u001b[39m\u001b[38;5;124m\"\u001b[39m\u001b[38;5;124ms3://\u001b[39m\u001b[38;5;132;01m{\u001b[39;00mbucket\u001b[38;5;132;01m}\u001b[39;00m\u001b[38;5;124m/json/file2.json\u001b[39m\u001b[38;5;124m\"\u001b[39m\n\u001b[1;32m----> 4\u001b[0m \u001b[43mwr\u001b[49m\u001b[38;5;241;43m.\u001b[39;49m\u001b[43ms3\u001b[49m\u001b[38;5;241;43m.\u001b[39;49m\u001b[43mto_json\u001b[49m\u001b[43m(\u001b[49m\u001b[43mdf1\u001b[49m\u001b[43m,\u001b[49m\u001b[43m \u001b[49m\u001b[43mpath1\u001b[49m\u001b[43m)\u001b[49m\n\u001b[0;32m      5\u001b[0m wr\u001b[38;5;241m.\u001b[39ms3\u001b[38;5;241m.\u001b[39mto_json(df2, path2)\n",
      "File \u001b[1;32m~\\Anaconda3\\envs\\aws2\\lib\\site-packages\\awswrangler\\s3\\_write_text.py:934\u001b[0m, in \u001b[0;36mto_json\u001b[1;34m(df, path, index, columns, use_threads, boto3_session, s3_additional_kwargs, sanitize_columns, dataset, filename_prefix, partition_cols, bucketing_info, concurrent_partitioning, mode, catalog_versioning, schema_evolution, database, table, table_type, transaction_id, dtype, description, parameters, columns_comments, regular_partitions, projection_enabled, projection_types, projection_ranges, projection_values, projection_intervals, projection_digits, catalog_id, **pandas_kwargs)\u001b[0m\n\u001b[0;32m    931\u001b[0m df \u001b[38;5;241m=\u001b[39m _apply_dtype(df\u001b[38;5;241m=\u001b[39mdf, dtype\u001b[38;5;241m=\u001b[39mdtype, catalog_table_input\u001b[38;5;241m=\u001b[39mcatalog_table_input, mode\u001b[38;5;241m=\u001b[39mmode)\n\u001b[0;32m    933\u001b[0m \u001b[38;5;28;01mif\u001b[39;00m dataset \u001b[38;5;129;01mis\u001b[39;00m \u001b[38;5;28;01mFalse\u001b[39;00m:\n\u001b[1;32m--> 934\u001b[0m     \u001b[38;5;28;01mreturn\u001b[39;00m \u001b[43m_to_text\u001b[49m\u001b[43m(\u001b[49m\n\u001b[0;32m    935\u001b[0m \u001b[43m        \u001b[49m\u001b[43mfile_format\u001b[49m\u001b[38;5;241;43m=\u001b[39;49m\u001b[38;5;124;43m\"\u001b[39;49m\u001b[38;5;124;43mjson\u001b[39;49m\u001b[38;5;124;43m\"\u001b[39;49m\u001b[43m,\u001b[49m\n\u001b[0;32m    936\u001b[0m \u001b[43m        \u001b[49m\u001b[43mdf\u001b[49m\u001b[38;5;241;43m=\u001b[39;49m\u001b[43mdf\u001b[49m\u001b[43m,\u001b[49m\n\u001b[0;32m    937\u001b[0m \u001b[43m        \u001b[49m\u001b[43mpath\u001b[49m\u001b[38;5;241;43m=\u001b[39;49m\u001b[43mpath\u001b[49m\u001b[43m,\u001b[49m\n\u001b[0;32m    938\u001b[0m \u001b[43m        \u001b[49m\u001b[43muse_threads\u001b[49m\u001b[38;5;241;43m=\u001b[39;49m\u001b[43muse_threads\u001b[49m\u001b[43m,\u001b[49m\n\u001b[0;32m    939\u001b[0m \u001b[43m        \u001b[49m\u001b[43mboto3_session\u001b[49m\u001b[38;5;241;43m=\u001b[39;49m\u001b[43msession\u001b[49m\u001b[43m,\u001b[49m\n\u001b[0;32m    940\u001b[0m \u001b[43m        \u001b[49m\u001b[43ms3_additional_kwargs\u001b[49m\u001b[38;5;241;43m=\u001b[39;49m\u001b[43ms3_additional_kwargs\u001b[49m\u001b[43m,\u001b[49m\n\u001b[0;32m    941\u001b[0m \u001b[43m        \u001b[49m\u001b[38;5;241;43m*\u001b[39;49m\u001b[38;5;241;43m*\u001b[39;49m\u001b[43mpandas_kwargs\u001b[49m\u001b[43m,\u001b[49m\n\u001b[0;32m    942\u001b[0m \u001b[43m    \u001b[49m\u001b[43m)\u001b[49m\n\u001b[0;32m    944\u001b[0m compression: Optional[\u001b[38;5;28mstr\u001b[39m] \u001b[38;5;241m=\u001b[39m pandas_kwargs\u001b[38;5;241m.\u001b[39mget(\u001b[38;5;124m\"\u001b[39m\u001b[38;5;124mcompression\u001b[39m\u001b[38;5;124m\"\u001b[39m, \u001b[38;5;28;01mNone\u001b[39;00m)\n\u001b[0;32m    945\u001b[0m df \u001b[38;5;241m=\u001b[39m df[columns] \u001b[38;5;28;01mif\u001b[39;00m columns \u001b[38;5;28;01melse\u001b[39;00m df\n",
      "File \u001b[1;32m~\\Anaconda3\\envs\\aws2\\lib\\site-packages\\awswrangler\\s3\\_write_text.py:68\u001b[0m, in \u001b[0;36m_to_text\u001b[1;34m(file_format, df, use_threads, boto3_session, s3_additional_kwargs, path, path_root, filename_prefix, **pandas_kwargs)\u001b[0m\n\u001b[0;32m     66\u001b[0m         df\u001b[38;5;241m.\u001b[39mto_csv(f, mode\u001b[38;5;241m=\u001b[39mmode, \u001b[38;5;241m*\u001b[39m\u001b[38;5;241m*\u001b[39mpandas_kwargs)\n\u001b[0;32m     67\u001b[0m     \u001b[38;5;28;01melif\u001b[39;00m file_format \u001b[38;5;241m==\u001b[39m \u001b[38;5;124m\"\u001b[39m\u001b[38;5;124mjson\u001b[39m\u001b[38;5;124m\"\u001b[39m:\n\u001b[1;32m---> 68\u001b[0m         df\u001b[38;5;241m.\u001b[39mto_json(f, \u001b[38;5;241m*\u001b[39m\u001b[38;5;241m*\u001b[39mpandas_kwargs)\n\u001b[0;32m     69\u001b[0m \u001b[38;5;28;01mreturn\u001b[39;00m [file_path]\n",
      "File \u001b[1;32m~\\Anaconda3\\envs\\aws2\\lib\\contextlib.py:120\u001b[0m, in \u001b[0;36m_GeneratorContextManager.__exit__\u001b[1;34m(self, type, value, traceback)\u001b[0m\n\u001b[0;32m    118\u001b[0m \u001b[38;5;28;01mif\u001b[39;00m \u001b[38;5;28mtype\u001b[39m \u001b[38;5;129;01mis\u001b[39;00m \u001b[38;5;28;01mNone\u001b[39;00m:\n\u001b[0;32m    119\u001b[0m     \u001b[38;5;28;01mtry\u001b[39;00m:\n\u001b[1;32m--> 120\u001b[0m         \u001b[38;5;28;43mnext\u001b[39;49m\u001b[43m(\u001b[49m\u001b[38;5;28;43mself\u001b[39;49m\u001b[38;5;241;43m.\u001b[39;49m\u001b[43mgen\u001b[49m\u001b[43m)\u001b[49m\n\u001b[0;32m    121\u001b[0m     \u001b[38;5;28;01mexcept\u001b[39;00m \u001b[38;5;167;01mStopIteration\u001b[39;00m:\n\u001b[0;32m    122\u001b[0m         \u001b[38;5;28;01mreturn\u001b[39;00m \u001b[38;5;28;01mFalse\u001b[39;00m\n",
      "File \u001b[1;32m~\\Anaconda3\\envs\\aws2\\lib\\site-packages\\awswrangler\\s3\\_fs.py:586\u001b[0m, in \u001b[0;36mopen_s3_object\u001b[1;34m(path, mode, version_id, use_threads, s3_additional_kwargs, s3_block_size, boto3_session, newline, encoding)\u001b[0m\n\u001b[0;32m    584\u001b[0m \u001b[38;5;28;01mfinally\u001b[39;00m:\n\u001b[0;32m    585\u001b[0m     \u001b[38;5;28;01mif\u001b[39;00m text_s3obj \u001b[38;5;129;01mis\u001b[39;00m \u001b[38;5;129;01mnot\u001b[39;00m \u001b[38;5;28;01mNone\u001b[39;00m \u001b[38;5;129;01mand\u001b[39;00m text_s3obj\u001b[38;5;241m.\u001b[39mclosed \u001b[38;5;129;01mis\u001b[39;00m \u001b[38;5;28;01mFalse\u001b[39;00m:\n\u001b[1;32m--> 586\u001b[0m         \u001b[43mtext_s3obj\u001b[49m\u001b[38;5;241;43m.\u001b[39;49m\u001b[43mclose\u001b[49m\u001b[43m(\u001b[49m\u001b[43m)\u001b[49m\n\u001b[0;32m    587\u001b[0m     \u001b[38;5;28;01mif\u001b[39;00m s3obj \u001b[38;5;129;01mis\u001b[39;00m \u001b[38;5;129;01mnot\u001b[39;00m \u001b[38;5;28;01mNone\u001b[39;00m \u001b[38;5;129;01mand\u001b[39;00m s3obj\u001b[38;5;241m.\u001b[39mclosed \u001b[38;5;129;01mis\u001b[39;00m \u001b[38;5;28;01mFalse\u001b[39;00m:\n\u001b[0;32m    588\u001b[0m         s3obj\u001b[38;5;241m.\u001b[39mclose()\n",
      "File \u001b[1;32m~\\Anaconda3\\envs\\aws2\\lib\\site-packages\\awswrangler\\s3\\_fs.py:474\u001b[0m, in \u001b[0;36m_S3ObjectBase.close\u001b[1;34m(self)\u001b[0m\n\u001b[0;32m    472\u001b[0m \u001b[38;5;28;01melif\u001b[39;00m \u001b[38;5;28mself\u001b[39m\u001b[38;5;241m.\u001b[39m_buffer\u001b[38;5;241m.\u001b[39mtell() \u001b[38;5;241m>\u001b[39m \u001b[38;5;241m0\u001b[39m:\n\u001b[0;32m    473\u001b[0m     _logger\u001b[38;5;241m.\u001b[39mdebug(\u001b[38;5;124m\"\u001b[39m\u001b[38;5;124mput_object\u001b[39m\u001b[38;5;124m\"\u001b[39m)\n\u001b[1;32m--> 474\u001b[0m     \u001b[43m_utils\u001b[49m\u001b[38;5;241;43m.\u001b[39;49m\u001b[43mtry_it\u001b[49m\u001b[43m(\u001b[49m\n\u001b[0;32m    475\u001b[0m \u001b[43m        \u001b[49m\u001b[43mf\u001b[49m\u001b[38;5;241;43m=\u001b[39;49m\u001b[38;5;28;43mself\u001b[39;49m\u001b[38;5;241;43m.\u001b[39;49m\u001b[43m_client\u001b[49m\u001b[38;5;241;43m.\u001b[39;49m\u001b[43mput_object\u001b[49m\u001b[43m,\u001b[49m\n\u001b[0;32m    476\u001b[0m \u001b[43m        \u001b[49m\u001b[43mex\u001b[49m\u001b[38;5;241;43m=\u001b[39;49m\u001b[43m_S3_RETRYABLE_ERRORS\u001b[49m\u001b[43m,\u001b[49m\n\u001b[0;32m    477\u001b[0m \u001b[43m        \u001b[49m\u001b[43mbase\u001b[49m\u001b[38;5;241;43m=\u001b[39;49m\u001b[38;5;241;43m0.5\u001b[39;49m\u001b[43m,\u001b[49m\n\u001b[0;32m    478\u001b[0m \u001b[43m        \u001b[49m\u001b[43mmax_num_tries\u001b[49m\u001b[38;5;241;43m=\u001b[39;49m\u001b[38;5;241;43m6\u001b[39;49m\u001b[43m,\u001b[49m\n\u001b[0;32m    479\u001b[0m \u001b[43m        \u001b[49m\u001b[43mBucket\u001b[49m\u001b[38;5;241;43m=\u001b[39;49m\u001b[38;5;28;43mself\u001b[39;49m\u001b[38;5;241;43m.\u001b[39;49m\u001b[43m_bucket\u001b[49m\u001b[43m,\u001b[49m\n\u001b[0;32m    480\u001b[0m \u001b[43m        \u001b[49m\u001b[43mKey\u001b[49m\u001b[38;5;241;43m=\u001b[39;49m\u001b[38;5;28;43mself\u001b[39;49m\u001b[38;5;241;43m.\u001b[39;49m\u001b[43m_key\u001b[49m\u001b[43m,\u001b[49m\n\u001b[0;32m    481\u001b[0m \u001b[43m        \u001b[49m\u001b[43mBody\u001b[49m\u001b[38;5;241;43m=\u001b[39;49m\u001b[38;5;28;43mself\u001b[39;49m\u001b[38;5;241;43m.\u001b[39;49m\u001b[43m_buffer\u001b[49m\u001b[38;5;241;43m.\u001b[39;49m\u001b[43mgetvalue\u001b[49m\u001b[43m(\u001b[49m\u001b[43m)\u001b[49m\u001b[43m,\u001b[49m\n\u001b[0;32m    482\u001b[0m \u001b[43m        \u001b[49m\u001b[38;5;241;43m*\u001b[39;49m\u001b[38;5;241;43m*\u001b[39;49m\u001b[43mget_botocore_valid_kwargs\u001b[49m\u001b[43m(\u001b[49m\n\u001b[0;32m    483\u001b[0m \u001b[43m            \u001b[49m\u001b[43mfunction_name\u001b[49m\u001b[38;5;241;43m=\u001b[39;49m\u001b[38;5;124;43m\"\u001b[39;49m\u001b[38;5;124;43mput_object\u001b[39;49m\u001b[38;5;124;43m\"\u001b[39;49m\u001b[43m,\u001b[49m\u001b[43m \u001b[49m\u001b[43ms3_additional_kwargs\u001b[49m\u001b[38;5;241;43m=\u001b[39;49m\u001b[38;5;28;43mself\u001b[39;49m\u001b[38;5;241;43m.\u001b[39;49m\u001b[43m_s3_additional_kwargs\u001b[49m\n\u001b[0;32m    484\u001b[0m \u001b[43m        \u001b[49m\u001b[43m)\u001b[49m\u001b[43m,\u001b[49m\n\u001b[0;32m    485\u001b[0m \u001b[43m    \u001b[49m\u001b[43m)\u001b[49m\n\u001b[0;32m    486\u001b[0m \u001b[38;5;28mself\u001b[39m\u001b[38;5;241m.\u001b[39m_parts_count \u001b[38;5;241m=\u001b[39m \u001b[38;5;241m0\u001b[39m\n\u001b[0;32m    487\u001b[0m \u001b[38;5;28mself\u001b[39m\u001b[38;5;241m.\u001b[39m_upload_proxy\u001b[38;5;241m.\u001b[39mclose()\n",
      "File \u001b[1;32m~\\Anaconda3\\envs\\aws2\\lib\\site-packages\\awswrangler\\_utils.py:343\u001b[0m, in \u001b[0;36mtry_it\u001b[1;34m(f, ex, ex_code, base, max_num_tries, **kwargs)\u001b[0m\n\u001b[0;32m    341\u001b[0m \u001b[38;5;28;01mfor\u001b[39;00m i \u001b[38;5;129;01min\u001b[39;00m \u001b[38;5;28mrange\u001b[39m(max_num_tries):\n\u001b[0;32m    342\u001b[0m     \u001b[38;5;28;01mtry\u001b[39;00m:\n\u001b[1;32m--> 343\u001b[0m         \u001b[38;5;28;01mreturn\u001b[39;00m \u001b[43mf\u001b[49m\u001b[43m(\u001b[49m\u001b[38;5;241;43m*\u001b[39;49m\u001b[38;5;241;43m*\u001b[39;49m\u001b[43mkwargs\u001b[49m\u001b[43m)\u001b[49m\n\u001b[0;32m    344\u001b[0m     \u001b[38;5;28;01mexcept\u001b[39;00m ex \u001b[38;5;28;01mas\u001b[39;00m exception:\n\u001b[0;32m    345\u001b[0m         \u001b[38;5;28;01mif\u001b[39;00m ex_code \u001b[38;5;129;01mis\u001b[39;00m \u001b[38;5;129;01mnot\u001b[39;00m \u001b[38;5;28;01mNone\u001b[39;00m \u001b[38;5;129;01mand\u001b[39;00m \u001b[38;5;28mhasattr\u001b[39m(exception, \u001b[38;5;124m\"\u001b[39m\u001b[38;5;124mresponse\u001b[39m\u001b[38;5;124m\"\u001b[39m):\n",
      "File \u001b[1;32m~\\AppData\\Roaming\\Python\\Python38\\site-packages\\botocore\\client.py:357\u001b[0m, in \u001b[0;36mClientCreator._create_api_method.<locals>._api_call\u001b[1;34m(self, *args, **kwargs)\u001b[0m\n\u001b[0;32m    354\u001b[0m     \u001b[38;5;28;01mraise\u001b[39;00m \u001b[38;5;167;01mTypeError\u001b[39;00m(\n\u001b[0;32m    355\u001b[0m         \u001b[38;5;124m\"\u001b[39m\u001b[38;5;132;01m%s\u001b[39;00m\u001b[38;5;124m() only accepts keyword arguments.\u001b[39m\u001b[38;5;124m\"\u001b[39m \u001b[38;5;241m%\u001b[39m py_operation_name)\n\u001b[0;32m    356\u001b[0m \u001b[38;5;66;03m# The \"self\" in this scope is referring to the BaseClient.\u001b[39;00m\n\u001b[1;32m--> 357\u001b[0m \u001b[38;5;28;01mreturn\u001b[39;00m \u001b[38;5;28;43mself\u001b[39;49m\u001b[38;5;241;43m.\u001b[39;49m\u001b[43m_make_api_call\u001b[49m\u001b[43m(\u001b[49m\u001b[43moperation_name\u001b[49m\u001b[43m,\u001b[49m\u001b[43m \u001b[49m\u001b[43mkwargs\u001b[49m\u001b[43m)\u001b[49m\n",
      "File \u001b[1;32m~\\AppData\\Roaming\\Python\\Python38\\site-packages\\botocore\\client.py:676\u001b[0m, in \u001b[0;36mBaseClient._make_api_call\u001b[1;34m(self, operation_name, api_params)\u001b[0m\n\u001b[0;32m    674\u001b[0m     error_code \u001b[38;5;241m=\u001b[39m parsed_response\u001b[38;5;241m.\u001b[39mget(\u001b[38;5;124m\"\u001b[39m\u001b[38;5;124mError\u001b[39m\u001b[38;5;124m\"\u001b[39m, {})\u001b[38;5;241m.\u001b[39mget(\u001b[38;5;124m\"\u001b[39m\u001b[38;5;124mCode\u001b[39m\u001b[38;5;124m\"\u001b[39m)\n\u001b[0;32m    675\u001b[0m     error_class \u001b[38;5;241m=\u001b[39m \u001b[38;5;28mself\u001b[39m\u001b[38;5;241m.\u001b[39mexceptions\u001b[38;5;241m.\u001b[39mfrom_code(error_code)\n\u001b[1;32m--> 676\u001b[0m     \u001b[38;5;28;01mraise\u001b[39;00m error_class(parsed_response, operation_name)\n\u001b[0;32m    677\u001b[0m \u001b[38;5;28;01melse\u001b[39;00m:\n\u001b[0;32m    678\u001b[0m     \u001b[38;5;28;01mreturn\u001b[39;00m parsed_response\n",
      "\u001b[1;31mClientError\u001b[0m: An error occurred (AccessDenied) when calling the PutObject operation: Access Denied"
     ]
    }
   ],
   "source": [
    "path1 = f\"s3://{bucket}/json/file1.json\"\n",
    "path2 = f\"s3://{bucket}/json/file2.json\"\n",
    "\n",
    "wr.s3.to_json(df1, path1)\n",
    "wr.s3.to_json(df2, path2)"
   ]
  },
  {
   "cell_type": "markdown",
   "id": "1f378805-472e-4497-810e-03936b15fbb7",
   "metadata": {},
   "source": [
    "Once again I get an error:\n",
    "\n",
    "**ClientError**: An error occurred (AccessDenied) when calling the PutObject operation: Access Denied\n",
    "\n",
    "This happens because the previous PutObject policy was overwritten.\n",
    "\n",
    "#### Append to the existing policy\n",
    "\n",
    "Ideally I should read the current policy and append the new policy to it.\n",
    "\n",
    "To read the current policy of the bucket "
   ]
  },
  {
   "cell_type": "code",
   "execution_count": 141,
   "id": "2b018819-e0c6-4c40-a83a-866c4137660a",
   "metadata": {},
   "outputs": [],
   "source": [
    "policy = dev_s3_client.get_bucket_policy(Bucket=bucket)"
   ]
  },
  {
   "cell_type": "markdown",
   "id": "c60be428-2059-4796-8d61-6159a81a157f",
   "metadata": {},
   "source": [
    "To print the policy"
   ]
  },
  {
   "cell_type": "code",
   "execution_count": 142,
   "id": "cb2d3583-c8ce-4e31-aeb2-61a887a7a780",
   "metadata": {},
   "outputs": [
    {
     "name": "stdout",
     "output_type": "stream",
     "text": [
      "{'Policy': '{\"Version\":\"2012-10-17\",\"Statement\":[{\"Sid\":\"AddPerm\",\"Effect\":\"Allow\",\"Principal\":\"*\",\"Action\":\"s3:GetObject\",\"Resource\":\"arn:aws:s3:::buckaz3/*\"},{\"Sid\":\"AddPerm\",\"Effect\":\"Allow\",\"Principal\":\"*\",\"Action\":\"s3:ListBucket\",\"Resource\":\"arn:aws:s3:::buckaz3\"}]}',\n",
      " 'ResponseMetadata': {'HTTPHeaders': {'content-length': '259',\n",
      "                                      'content-type': 'application/json',\n",
      "                                      'date': 'Thu, 05 May 2022 20:44:02 GMT',\n",
      "                                      'server': 'AmazonS3',\n",
      "                                      'x-amz-id-2': 'MBnhJgb91HGq7mYn32Lch3euDbPElAufeGp0HVw134+M3LhqY8dPuvPHIvEBLvrnIYBbY7mUHoA=',\n",
      "                                      'x-amz-request-id': 'WD7GV68WTG0PWTP2'},\n",
      "                      'HTTPStatusCode': 200,\n",
      "                      'HostId': 'MBnhJgb91HGq7mYn32Lch3euDbPElAufeGp0HVw134+M3LhqY8dPuvPHIvEBLvrnIYBbY7mUHoA=',\n",
      "                      'RequestId': 'WD7GV68WTG0PWTP2',\n",
      "                      'RetryAttempts': 0}}\n"
     ]
    }
   ],
   "source": [
    "import pprint\n",
    "\n",
    "pprint.pprint(policy)"
   ]
  },
  {
   "cell_type": "markdown",
   "id": "02d06483-c862-4c44-a276-2fc5ea97b39b",
   "metadata": {},
   "source": [
    "The new policy must be added as new element in the *Statement* field"
   ]
  },
  {
   "cell_type": "code",
   "execution_count": 143,
   "id": "ad334b28-bbe2-4a31-9d4a-5d8d00e0fdcd",
   "metadata": {},
   "outputs": [
    {
     "name": "stdout",
     "output_type": "stream",
     "text": [
      "[{'Sid': 'AddPerm', 'Effect': 'Allow', 'Principal': '*', 'Action': 's3:GetObject', 'Resource': 'arn:aws:s3:::buckaz3/*'}, {'Sid': 'AddPerm', 'Effect': 'Allow', 'Principal': '*', 'Action': 's3:ListBucket', 'Resource': 'arn:aws:s3:::buckaz3'}]\n"
     ]
    }
   ],
   "source": [
    "statement = json.loads(policy['Policy'])['Statement']\n",
    "\n",
    "print(statement)"
   ]
  },
  {
   "cell_type": "markdown",
   "id": "6ae8decd-cb82-455a-8ee9-3b02f2c64deb",
   "metadata": {},
   "source": [
    "Define the new policy as json"
   ]
  },
  {
   "cell_type": "code",
   "execution_count": 144,
   "id": "c349edac-f460-44b5-9fe4-1b7fd63eeaed",
   "metadata": {},
   "outputs": [
    {
     "name": "stdout",
     "output_type": "stream",
     "text": [
      "{'Effect': 'Allow', 'Principal': '*', 'Action': ['s3:PutObject'], 'Resource': 'arn:aws:s3:::buckaz3/*'}\n"
     ]
    }
   ],
   "source": [
    "putObjPolicy = {\n",
    "    'Effect': 'Allow',\n",
    "    'Principal': '*',\n",
    "    'Action': ['s3:PutObject'],\n",
    "    'Resource': f'arn:aws:s3:::{bucket}/*'\n",
    "}\n",
    "\n",
    "print(putObjPolicy)"
   ]
  },
  {
   "cell_type": "markdown",
   "id": "720b0aad-d533-4a5e-9938-85560cdda231",
   "metadata": {},
   "source": [
    "Let's append the **putObjPolicy** to the existing policy:"
   ]
  },
  {
   "cell_type": "code",
   "execution_count": 145,
   "id": "388beb6a-dade-40fe-b937-23f8afbe49c7",
   "metadata": {},
   "outputs": [
    {
     "name": "stdout",
     "output_type": "stream",
     "text": [
      "[{'Sid': 'AddPerm', 'Effect': 'Allow', 'Principal': '*', 'Action': 's3:GetObject', 'Resource': 'arn:aws:s3:::buckaz3/*'}, {'Sid': 'AddPerm', 'Effect': 'Allow', 'Principal': '*', 'Action': 's3:ListBucket', 'Resource': 'arn:aws:s3:::buckaz3'}, {'Effect': 'Allow', 'Principal': '*', 'Action': ['s3:PutObject'], 'Resource': 'arn:aws:s3:::buckaz3/*'}]\n"
     ]
    }
   ],
   "source": [
    "statement.append(putObjPolicy)\n",
    "\n",
    "print(statement)"
   ]
  },
  {
   "cell_type": "markdown",
   "id": "9040d98d-9de1-4856-9f66-b09c0148e112",
   "metadata": {
    "tags": []
   },
   "source": [
    "# Create the bucket policy"
   ]
  },
  {
   "cell_type": "code",
   "execution_count": 146,
   "id": "48e106ec-3a45-441a-b918-ac41b7632f62",
   "metadata": {
    "tags": []
   },
   "outputs": [],
   "source": [
    "bucket_policy = {\n",
    "    'Version': '2012-10-17',\n",
    "    'Statement': statement\n",
    "}"
   ]
  },
  {
   "cell_type": "markdown",
   "id": "00731f94-85b7-4122-aa33-afddd502b3ae",
   "metadata": {
    "tags": []
   },
   "source": [
    "Convert the policy from JSON dict to string"
   ]
  },
  {
   "cell_type": "code",
   "execution_count": 147,
   "id": "bf876277-7e64-40d8-84ee-adbca1214852",
   "metadata": {
    "tags": []
   },
   "outputs": [],
   "source": [
    "bucket_policy = json.dumps(bucket_policy)"
   ]
  },
  {
   "cell_type": "markdown",
   "id": "fa13995c-1b25-4c1c-aa78-684099af9c81",
   "metadata": {
    "tags": []
   },
   "source": [
    "Set the new policy"
   ]
  },
  {
   "cell_type": "code",
   "execution_count": 148,
   "id": "7781b889-3d17-452a-b0b5-5f53d6323003",
   "metadata": {
    "tags": []
   },
   "outputs": [
    {
     "data": {
      "text/plain": [
       "{'ResponseMetadata': {'RequestId': 'Q09KFVEWB5VJ7FGN',\n",
       "  'HostId': 'WF+LHx9YiciBVJB9nSnWP4snYabXb3SkIEWqZNg03llHfhlNKLwD0K+mh2EiEWsKP2W6T/cyG88=',\n",
       "  'HTTPStatusCode': 204,\n",
       "  'HTTPHeaders': {'x-amz-id-2': 'WF+LHx9YiciBVJB9nSnWP4snYabXb3SkIEWqZNg03llHfhlNKLwD0K+mh2EiEWsKP2W6T/cyG88=',\n",
       "   'x-amz-request-id': 'Q09KFVEWB5VJ7FGN',\n",
       "   'date': 'Thu, 05 May 2022 20:46:42 GMT',\n",
       "   'server': 'AmazonS3'},\n",
       "  'RetryAttempts': 0}}"
      ]
     },
     "execution_count": 148,
     "metadata": {},
     "output_type": "execute_result"
    }
   ],
   "source": [
    "dev_s3_client.put_bucket_policy(Bucket=bucket, Policy=bucket_policy)"
   ]
  },
  {
   "cell_type": "markdown",
   "id": "bcfbb159-d505-4228-97d0-e2658bef982b",
   "metadata": {},
   "source": [
    "Retry again to write json files"
   ]
  },
  {
   "cell_type": "code",
   "execution_count": 149,
   "id": "60b4292a-e3ae-4bfa-a7aa-812b42293716",
   "metadata": {},
   "outputs": [
    {
     "data": {
      "text/plain": [
       "['s3://buckaz3/json/file2.json']"
      ]
     },
     "execution_count": 149,
     "metadata": {},
     "output_type": "execute_result"
    }
   ],
   "source": [
    "path1 = f\"s3://{bucket}/json/file1.json\"\n",
    "path2 = f\"s3://{bucket}/json/file2.json\"\n",
    "\n",
    "wr.s3.to_json(df1, path1)\n",
    "wr.s3.to_json(df2, path2)"
   ]
  },
  {
   "cell_type": "markdown",
   "id": "c5d614b0-8378-4868-aa35-870e8ac51420",
   "metadata": {},
   "source": [
    "This time worked!"
   ]
  },
  {
   "cell_type": "code",
   "execution_count": null,
   "id": "c85e3355-a741-45d9-9105-acaf9bf3d20b",
   "metadata": {},
   "outputs": [],
   "source": []
  }
 ],
 "metadata": {
  "kernelspec": {
   "display_name": "Python 3 (ipykernel)",
   "language": "python",
   "name": "python3"
  },
  "language_info": {
   "codemirror_mode": {
    "name": "ipython",
    "version": 3
   },
   "file_extension": ".py",
   "mimetype": "text/x-python",
   "name": "python",
   "nbconvert_exporter": "python",
   "pygments_lexer": "ipython3",
   "version": "3.8.13"
  }
 },
 "nbformat": 4,
 "nbformat_minor": 5
}
