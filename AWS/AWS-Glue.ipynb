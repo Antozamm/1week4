{
 "cells": [
  {
   "cell_type": "markdown",
   "id": "0b13380e-527c-4cdb-a193-8c9981321fbf",
   "metadata": {},
   "source": [
    "\n",
    "The steps in this AWS Glue hands-on tutorial are the following:\n",
    "\n",
    "Step 1. Enter credentials\n",
    "\n",
    "Step 2. Create an S3 bucket and load the dataset into the bucket\n",
    "\n",
    "Step 3. Create a database for the crawled data\n",
    "\n",
    "Step 4. Create a service role, that will used to access S3 and use Glue features\n",
    "\n",
    "Step 5. Create the crawler and run the crawl job\n",
    "\n",
    "Step 6. Write a Pyspark file with the operations to be performed on the dataset\n",
    "\n",
    "Step 7. Generate a file with ETL job and load it into the S3 bucket\n",
    "\n",
    "Step 8. Configure the ETL Glue Job and run it manually"
   ]
  },
  {
   "cell_type": "markdown",
   "id": "a8f675fd-a4fd-462f-903f-5157bf563b3f",
   "metadata": {},
   "source": [
    "#### Enter credentials"
   ]
  },
  {
   "cell_type": "code",
   "execution_count": 98,
   "id": "ab062167-27ba-4473-ac6d-841e71983b62",
   "metadata": {},
   "outputs": [],
   "source": [
    "import getpass"
   ]
  },
  {
   "cell_type": "code",
   "execution_count": 99,
   "id": "49f76e1b-4045-461c-81c3-8e16f331c096",
   "metadata": {},
   "outputs": [
    {
     "name": "stdin",
     "output_type": "stream",
     "text": [
      " ····················\n"
     ]
    }
   ],
   "source": [
    "accessKeyID = getpass.getpass()"
   ]
  },
  {
   "cell_type": "code",
   "execution_count": 100,
   "id": "cd3bbee9-ef47-4ac9-a119-7696a558f572",
   "metadata": {},
   "outputs": [
    {
     "name": "stdin",
     "output_type": "stream",
     "text": [
      " ········································\n"
     ]
    }
   ],
   "source": [
    "secretAccessKeyID = getpass.getpass()"
   ]
  },
  {
   "cell_type": "markdown",
   "id": "5b0d23c3-1032-43a9-bdbd-e5455daba85a",
   "metadata": {
    "tags": []
   },
   "source": [
    "#### Create an S3 bucket"
   ]
  },
  {
   "cell_type": "code",
   "execution_count": 101,
   "id": "0842eb7f-b45b-42d1-9504-fd07853436fe",
   "metadata": {},
   "outputs": [
    {
     "name": "stdout",
     "output_type": "stream",
     "text": [
      "{'ResponseMetadata': {'RequestId': 'J2X72G163065Y2EF', 'HostId': 'tWBRZHoQRdfXvESq5uhkeqtpXinAWG4wXwYXzxthCcHGOdTNSw+JndDrX1bfo6DoURD84spjiog=', 'HTTPStatusCode': 200, 'HTTPHeaders': {'x-amz-id-2': 'tWBRZHoQRdfXvESq5uhkeqtpXinAWG4wXwYXzxthCcHGOdTNSw+JndDrX1bfo6DoURD84spjiog=', 'x-amz-request-id': 'J2X72G163065Y2EF', 'date': 'Sun, 22 May 2022 08:11:50 GMT', 'location': '/glue-test-az', 'server': 'AmazonS3', 'content-length': '0'}, 'RetryAttempts': 0}, 'Location': '/glue-test-az'}\n"
     ]
    }
   ],
   "source": [
    "import boto3\n",
    "\n",
    "bucket='glue-test-az'\n",
    "\n",
    "session = boto3.Session(aws_access_key_id=accessKeyID,\n",
    "                        aws_secret_access_key=secretAccessKeyID)\n",
    "\n",
    "dev_s3_client = session.client('s3')\n",
    "\n",
    "response = dev_s3_client.create_bucket(Bucket=bucket)\n",
    "print(response)"
   ]
  },
  {
   "cell_type": "markdown",
   "id": "48e1231b-72e9-4460-bcb3-a0a85c5a6970",
   "metadata": {},
   "source": [
    "#### Upload local file to S3"
   ]
  },
  {
   "cell_type": "code",
   "execution_count": 102,
   "id": "711bbb86-4832-4b70-8d52-acf23434c65d",
   "metadata": {
    "tags": []
   },
   "outputs": [],
   "source": [
    "fileToUpload = 'TSLA.csv'\n",
    "dev_s3_client.upload_file(f'{fileToUpload}', \n",
    "                          bucket,\n",
    "                          f'raw_files/{fileToUpload}')"
   ]
  },
  {
   "cell_type": "markdown",
   "id": "1e28b644-50b3-484b-897f-08aad3c0154f",
   "metadata": {},
   "source": [
    "Verify the file was uploaded."
   ]
  },
  {
   "cell_type": "code",
   "execution_count": 103,
   "id": "d8a98f10-9d0f-4cf8-8268-3a85d62f8d5a",
   "metadata": {
    "tags": []
   },
   "outputs": [],
   "source": [
    "response = dev_s3_client.list_objects(Bucket=f'{bucket}')"
   ]
  },
  {
   "cell_type": "code",
   "execution_count": 104,
   "id": "5d6dc69b-b3ae-4742-af10-00d9684b8412",
   "metadata": {},
   "outputs": [
    {
     "name": "stdout",
     "output_type": "stream",
     "text": [
      "raw_files/TSLA.csv\n"
     ]
    }
   ],
   "source": [
    "for key in response[\"Contents\"]:\n",
    "    print(key['Key'])"
   ]
  },
  {
   "cell_type": "markdown",
   "id": "55c6d6b0-9301-4e35-8818-d495ff129aae",
   "metadata": {},
   "source": [
    "#### Create a database where the crawler can store the results"
   ]
  },
  {
   "cell_type": "code",
   "execution_count": 105,
   "id": "34d5265d-31a5-45c5-970d-763e334501e3",
   "metadata": {},
   "outputs": [],
   "source": [
    "session = boto3.session.Session(aws_access_key_id=accessKeyID, aws_secret_access_key=secretAccessKeyID)\n",
    "glue_client = session.client('glue', region_name='us-east-1')"
   ]
  },
  {
   "cell_type": "code",
   "execution_count": 106,
   "id": "a572194c-8134-4165-87c7-e16f4505e784",
   "metadata": {},
   "outputs": [
    {
     "data": {
      "text/plain": [
       "{'ResponseMetadata': {'RequestId': 'b863a171-8446-467b-84f7-bb4e2d469e78',\n",
       "  'HTTPStatusCode': 200,\n",
       "  'HTTPHeaders': {'date': 'Sun, 22 May 2022 08:11:54 GMT',\n",
       "   'content-type': 'application/x-amz-json-1.1',\n",
       "   'content-length': '2',\n",
       "   'connection': 'keep-alive',\n",
       "   'x-amzn-requestid': 'b863a171-8446-467b-84f7-bb4e2d469e78'},\n",
       "  'RetryAttempts': 0}}"
      ]
     },
     "execution_count": 106,
     "metadata": {},
     "output_type": "execute_result"
    }
   ],
   "source": [
    "dbName = 'mydbaz1'\n",
    "glue_client.create_database(DatabaseInput={'Name': dbName})"
   ]
  },
  {
   "cell_type": "markdown",
   "id": "53b98113-dde4-4da6-8bdc-ce1dd5963a73",
   "metadata": {},
   "source": [
    "#### Create a service role"
   ]
  },
  {
   "cell_type": "code",
   "execution_count": 107,
   "id": "66f2ba21-a6a9-44c7-b829-e8c6f8203bec",
   "metadata": {},
   "outputs": [],
   "source": [
    "import json"
   ]
  },
  {
   "cell_type": "code",
   "execution_count": 108,
   "id": "05402cd5-edbe-4014-9bb1-e74fc57087db",
   "metadata": {},
   "outputs": [],
   "source": [
    "trust_policy={\n",
    "  \"Version\": \"2012-10-17\",\n",
    "  \"Statement\": [\n",
    "    {\n",
    "      \"Sid\": \"\",\n",
    "      \"Effect\": \"Allow\",\n",
    "      \"Principal\": {\n",
    "        \"Service\": \"glue.amazonaws.com\"\n",
    "      },\n",
    "      \"Action\": \"sts:AssumeRole\"\n",
    "    }\n",
    "  ]\n",
    "}"
   ]
  },
  {
   "cell_type": "code",
   "execution_count": 109,
   "id": "3476e34c-13cc-4cbb-8697-f49e5efd7699",
   "metadata": {},
   "outputs": [],
   "source": [
    "iam_client = session.client('iam')"
   ]
  },
  {
   "cell_type": "code",
   "execution_count": 110,
   "id": "f407abe0-6ce2-416c-9c7e-f662de639a03",
   "metadata": {
    "tags": []
   },
   "outputs": [
    {
     "name": "stdout",
     "output_type": "stream",
     "text": [
      "{'Role': {'Path': '/', 'RoleName': 'AWSGlueServiceRole-AZ1', 'RoleId': 'AROASLARW5M7MZJWRKTMZ', 'Arn': 'arn:aws:iam::161098427198:role/AWSGlueServiceRole-AZ1', 'CreateDate': datetime.datetime(2022, 5, 22, 8, 11, 57, tzinfo=tzutc()), 'AssumeRolePolicyDocument': {'Version': '2012-10-17', 'Statement': [{'Sid': '', 'Effect': 'Allow', 'Principal': {'Service': 'glue.amazonaws.com'}, 'Action': 'sts:AssumeRole'}]}}, 'ResponseMetadata': {'RequestId': '237aaeb9-2917-4b75-9aae-9ddbd0ecea2e', 'HTTPStatusCode': 200, 'HTTPHeaders': {'x-amzn-requestid': '237aaeb9-2917-4b75-9aae-9ddbd0ecea2e', 'content-type': 'text/xml', 'content-length': '823', 'date': 'Sun, 22 May 2022 08:11:57 GMT'}, 'RetryAttempts': 0}}\n"
     ]
    }
   ],
   "source": [
    "iam_response = iam_client.create_role(RoleName = 'AWSGlueServiceRole-AZ1', \n",
    "                       AssumeRolePolicyDocument = json.dumps(trust_policy))\n",
    "\n",
    "print(iam_response)"
   ]
  },
  {
   "cell_type": "markdown",
   "id": "a6916ee8-c1f1-42cf-8397-e397bb4f9354",
   "metadata": {},
   "source": [
    "#### Attach the policy AWSGlueServiceRole to the new role"
   ]
  },
  {
   "cell_type": "code",
   "execution_count": 111,
   "id": "0d14c8c6-800c-4680-b52d-8ddf2b24c8f7",
   "metadata": {},
   "outputs": [
    {
     "data": {
      "text/plain": [
       "{'ResponseMetadata': {'RequestId': 'c528e3f9-20ae-4e84-9cc1-c3949a718457',\n",
       "  'HTTPStatusCode': 200,\n",
       "  'HTTPHeaders': {'x-amzn-requestid': 'c528e3f9-20ae-4e84-9cc1-c3949a718457',\n",
       "   'content-type': 'text/xml',\n",
       "   'content-length': '212',\n",
       "   'date': 'Sun, 22 May 2022 08:11:57 GMT'},\n",
       "  'RetryAttempts': 0}}"
      ]
     },
     "execution_count": 111,
     "metadata": {},
     "output_type": "execute_result"
    }
   ],
   "source": [
    "iam_client.attach_role_policy(RoleName=\"AWSGlueServiceRole-AZ1\",\n",
    "                              PolicyArn=\"arn:aws:iam::aws:policy/service-role/AWSGlueServiceRole\")"
   ]
  },
  {
   "cell_type": "code",
   "execution_count": 112,
   "id": "4116dcdd-74d4-4307-9698-a98303591dd6",
   "metadata": {},
   "outputs": [
    {
     "data": {
      "text/plain": [
       "{'ResponseMetadata': {'RequestId': '03048f9f-ac90-4afd-8b91-f8abb1715201',\n",
       "  'HTTPStatusCode': 200,\n",
       "  'HTTPHeaders': {'x-amzn-requestid': '03048f9f-ac90-4afd-8b91-f8abb1715201',\n",
       "   'content-type': 'text/xml',\n",
       "   'content-length': '212',\n",
       "   'date': 'Sun, 22 May 2022 08:11:57 GMT'},\n",
       "  'RetryAttempts': 0}}"
      ]
     },
     "execution_count": 112,
     "metadata": {},
     "output_type": "execute_result"
    }
   ],
   "source": [
    "iam_client.attach_role_policy(RoleName=\"AWSGlueServiceRole-AZ1\",\n",
    "                              PolicyArn=\"arn:aws:iam::aws:policy/AmazonS3FullAccess\")"
   ]
  },
  {
   "cell_type": "markdown",
   "id": "df863340-60b3-40b8-81a6-9bd6d1c25a1a",
   "metadata": {},
   "source": [
    "#### Create the crawler\n",
    "\n",
    "The crawler needs to use the role *AWSGlueServiceRole-AZ1* that was created before."
   ]
  },
  {
   "cell_type": "code",
   "execution_count": 115,
   "id": "79816426-cef9-41d2-bec4-a4bfc217c79f",
   "metadata": {
    "tags": []
   },
   "outputs": [
    {
     "name": "stdout",
     "output_type": "stream",
     "text": [
      "{'ResponseMetadata': {'RequestId': '372bc07b-62fd-4d4b-8533-7ce90036b168', 'HTTPStatusCode': 200, 'HTTPHeaders': {'date': 'Sun, 22 May 2022 08:12:11 GMT', 'content-type': 'application/x-amz-json-1.1', 'content-length': '2', 'connection': 'keep-alive', 'x-amzn-requestid': '372bc07b-62fd-4d4b-8533-7ce90036b168'}, 'RetryAttempts': 0}}\n"
     ]
    }
   ],
   "source": [
    "import json\n",
    "\n",
    "response = glue_client.create_crawler(Name='CrawlerAZ1',\n",
    "                                      Role='AWSGlueServiceRole-AZ1',\n",
    "                                      DatabaseName = dbName,\n",
    "                                      Targets={ \n",
    "                                          'S3Targets': [\n",
    "                                              {\n",
    "                                                  'Path': f's3://{bucket}',\n",
    "                                              },\n",
    "                                          ],\n",
    "                                      },\n",
    "                                      SchemaChangePolicy={\n",
    "                                          'UpdateBehavior': 'UPDATE_IN_DATABASE',\n",
    "                                          'DeleteBehavior': 'DEPRECATE_IN_DATABASE'\n",
    "                                      },\n",
    "                                      RecrawlPolicy={\n",
    "                                          'RecrawlBehavior': 'CRAWL_EVERYTHING'\n",
    "                                      },\n",
    "                                      LineageConfiguration={\n",
    "                                          'CrawlerLineageSettings': 'DISABLE'\n",
    "                                      })\n",
    "\n",
    "print(response)"
   ]
  },
  {
   "cell_type": "markdown",
   "id": "2e65b2af-b6a2-431b-9f13-d1a8b3785de4",
   "metadata": {
    "tags": []
   },
   "source": [
    "#### List crawlers"
   ]
  },
  {
   "cell_type": "code",
   "execution_count": 116,
   "id": "507c4fa8-ab6d-406c-bdc2-3e7dec742a0e",
   "metadata": {},
   "outputs": [
    {
     "data": {
      "text/plain": [
       "{'CrawlerNames': ['CrawlerAZ1'],\n",
       " 'ResponseMetadata': {'RequestId': 'a6830343-1748-4aa4-86a0-8eeeea95f742',\n",
       "  'HTTPStatusCode': 200,\n",
       "  'HTTPHeaders': {'date': 'Sun, 22 May 2022 08:12:15 GMT',\n",
       "   'content-type': 'application/x-amz-json-1.1',\n",
       "   'content-length': '31',\n",
       "   'connection': 'keep-alive',\n",
       "   'x-amzn-requestid': 'a6830343-1748-4aa4-86a0-8eeeea95f742'},\n",
       "  'RetryAttempts': 0}}"
      ]
     },
     "execution_count": 116,
     "metadata": {},
     "output_type": "execute_result"
    }
   ],
   "source": [
    "glue_client.list_crawlers()"
   ]
  },
  {
   "cell_type": "markdown",
   "id": "ab639bde-e8fd-489f-acd7-486fd2484668",
   "metadata": {},
   "source": [
    "The crawler I just created is present in the list\n",
    "\n",
    "If the database doesn't exist it will be created.\n",
    "\n",
    "#### Run the crawler manually"
   ]
  },
  {
   "cell_type": "code",
   "execution_count": 117,
   "id": "d7ef90b5-f49c-4fbe-8393-2ec5cdeaebbf",
   "metadata": {
    "tags": []
   },
   "outputs": [
    {
     "data": {
      "text/plain": [
       "{'ResponseMetadata': {'RequestId': 'd276b65a-49c8-4404-bdc3-c25f84592569',\n",
       "  'HTTPStatusCode': 200,\n",
       "  'HTTPHeaders': {'date': 'Sun, 22 May 2022 08:12:40 GMT',\n",
       "   'content-type': 'application/x-amz-json-1.1',\n",
       "   'content-length': '2',\n",
       "   'connection': 'keep-alive',\n",
       "   'x-amzn-requestid': 'd276b65a-49c8-4404-bdc3-c25f84592569'},\n",
       "  'RetryAttempts': 0}}"
      ]
     },
     "execution_count": 117,
     "metadata": {},
     "output_type": "execute_result"
    }
   ],
   "source": [
    "glue_client.start_crawler(Name = 'CrawlerAZ1')"
   ]
  },
  {
   "cell_type": "markdown",
   "id": "cda02099-e440-4730-a269-ac6d699fe016",
   "metadata": {},
   "source": [
    "#### Check crawler status"
   ]
  },
  {
   "cell_type": "code",
   "execution_count": 119,
   "id": "54838b3e-c38d-45be-a06e-7e20079d9a5c",
   "metadata": {},
   "outputs": [
    {
     "data": {
      "text/plain": [
       "'RUNNING'"
      ]
     },
     "execution_count": 119,
     "metadata": {},
     "output_type": "execute_result"
    }
   ],
   "source": [
    "response = glue_client.get_crawler(Name = 'CrawlerAZ1')\n",
    "response['Crawler']['State']"
   ]
  },
  {
   "cell_type": "markdown",
   "id": "59bd7973-7f10-4168-b5dc-20b44848a139",
   "metadata": {},
   "source": [
    "Wait until it says **STOPPING**."
   ]
  },
  {
   "cell_type": "markdown",
   "id": "097eb859-fae2-44a2-8d32-f5df084252ea",
   "metadata": {},
   "source": [
    "#### See the generated table\n",
    "\n",
    "The table get the name of the bucket it crawled."
   ]
  },
  {
   "cell_type": "code",
   "execution_count": 49,
   "id": "ebbc6696-0c26-4b5f-b4b4-0cabebe9337e",
   "metadata": {},
   "outputs": [],
   "source": [
    "response = glue_client.get_tables(DatabaseName=dbName)"
   ]
  },
  {
   "cell_type": "code",
   "execution_count": 50,
   "id": "972c6caa-2989-4b5b-ac39-9de5e9fade95",
   "metadata": {},
   "outputs": [],
   "source": [
    "response['TableList'][0]"
   ]
  },
  {
   "cell_type": "markdown",
   "id": "82322063-24ed-4d08-842a-a60e86ab87b0",
   "metadata": {},
   "source": [
    "As can be seen above the new table contains the columns corresponding to excel file columns.\n",
    "\n",
    "#### Querying the database with AWS Athena"
   ]
  },
  {
   "cell_type": "code",
   "execution_count": 51,
   "id": "fa24e788-7e45-4868-81c6-06b48bf022bc",
   "metadata": {},
   "outputs": [],
   "source": [
    "athena_client = session.client('athena')"
   ]
  },
  {
   "cell_type": "code",
   "execution_count": 52,
   "id": "7ba25f59-5ffb-48d5-af9b-3ff1f54b96c7",
   "metadata": {
    "tags": []
   },
   "outputs": [
    {
     "data": {
      "text/plain": [
       "{'QueryExecutionId': '33d67d26-506f-4740-8e66-d7990516bd12',\n",
       " 'ResponseMetadata': {'RequestId': '214abe97-732a-4281-aede-2e73b18180c4',\n",
       "  'HTTPStatusCode': 200,\n",
       "  'HTTPHeaders': {'content-type': 'application/x-amz-json-1.1',\n",
       "   'date': 'Sat, 21 May 2022 14:58:52 GMT',\n",
       "   'x-amzn-requestid': '214abe97-732a-4281-aede-2e73b18180c4',\n",
       "   'content-length': '59',\n",
       "   'connection': 'keep-alive'},\n",
       "  'RetryAttempts': 0}}"
      ]
     },
     "execution_count": 52,
     "metadata": {},
     "output_type": "execute_result"
    }
   ],
   "source": [
    "queryStart = athena_client.start_query_execution(\n",
    "    QueryString = 'SELECT count(*) FROM glue_test_az',\n",
    "    QueryExecutionContext = {\n",
    "        'Database': f'{dbName}'\n",
    "    }, \n",
    "    ResultConfiguration = { 'OutputLocation': 's3://glue-test-az'}\n",
    ")\n",
    "\n",
    "queryStart"
   ]
  },
  {
   "cell_type": "code",
   "execution_count": 53,
   "id": "73ad13aa-7f14-4ba9-ac72-879c94630a40",
   "metadata": {
    "tags": []
   },
   "outputs": [
    {
     "data": {
      "text/plain": [
       "{'QueryExecution': {'QueryExecutionId': '33d67d26-506f-4740-8e66-d7990516bd12',\n",
       "  'Query': 'SELECT count(*) FROM glue_test_az',\n",
       "  'StatementType': 'DML',\n",
       "  'ResultConfiguration': {'OutputLocation': 's3://glue-test-az/33d67d26-506f-4740-8e66-d7990516bd12.csv'},\n",
       "  'QueryExecutionContext': {'Database': 'mydbaz1'},\n",
       "  'Status': {'State': 'QUEUED',\n",
       "   'SubmissionDateTime': datetime.datetime(2022, 5, 21, 16, 58, 53, 54000, tzinfo=tzlocal())},\n",
       "  'Statistics': {'TotalExecutionTimeInMillis': 203,\n",
       "   'QueryQueueTimeInMillis': 203},\n",
       "  'WorkGroup': 'primary',\n",
       "  'EngineVersion': {'SelectedEngineVersion': 'AUTO',\n",
       "   'EffectiveEngineVersion': 'Athena engine version 2'}},\n",
       " 'ResponseMetadata': {'RequestId': '8b3e78cb-2cdc-42c4-be20-9a929ae10c60',\n",
       "  'HTTPStatusCode': 200,\n",
       "  'HTTPHeaders': {'content-type': 'application/x-amz-json-1.1',\n",
       "   'date': 'Sat, 21 May 2022 14:58:52 GMT',\n",
       "   'x-amzn-requestid': '8b3e78cb-2cdc-42c4-be20-9a929ae10c60',\n",
       "   'content-length': '1012',\n",
       "   'connection': 'keep-alive'},\n",
       "  'RetryAttempts': 0}}"
      ]
     },
     "execution_count": 53,
     "metadata": {},
     "output_type": "execute_result"
    }
   ],
   "source": [
    "queryExecution = athena_client.get_query_execution(QueryExecutionId=queryStart['QueryExecutionId'])\n",
    "\n",
    "queryExecution"
   ]
  },
  {
   "cell_type": "code",
   "execution_count": 96,
   "id": "37091403-0523-4bfc-916d-a4cae13dcc44",
   "metadata": {
    "tags": []
   },
   "outputs": [
    {
     "ename": "ClientError",
     "evalue": "An error occurred (UnrecognizedClientException) when calling the GetQueryResults operation: The security token included in the request is invalid.",
     "output_type": "error",
     "traceback": [
      "\u001b[1;31m---------------------------------------------------------------------------\u001b[0m",
      "\u001b[1;31mClientError\u001b[0m                               Traceback (most recent call last)",
      "Input \u001b[1;32mIn [96]\u001b[0m, in \u001b[0;36m<cell line: 1>\u001b[1;34m()\u001b[0m\n\u001b[1;32m----> 1\u001b[0m results \u001b[38;5;241m=\u001b[39m \u001b[43mathena_client\u001b[49m\u001b[38;5;241;43m.\u001b[39;49m\u001b[43mget_query_results\u001b[49m\u001b[43m(\u001b[49m\u001b[43mQueryExecutionId\u001b[49m\u001b[38;5;241;43m=\u001b[39;49m\u001b[43mqueryStart\u001b[49m\u001b[43m[\u001b[49m\u001b[38;5;124;43m'\u001b[39;49m\u001b[38;5;124;43mQueryExecutionId\u001b[39;49m\u001b[38;5;124;43m'\u001b[39;49m\u001b[43m]\u001b[49m\u001b[43m)\u001b[49m\n\u001b[0;32m      2\u001b[0m \u001b[38;5;28mprint\u001b[39m(json\u001b[38;5;241m.\u001b[39mdumps(results, indent\u001b[38;5;241m=\u001b[39m\u001b[38;5;241m4\u001b[39m, sort_keys\u001b[38;5;241m=\u001b[39m\u001b[38;5;28;01mTrue\u001b[39;00m))\n",
      "File \u001b[1;32m~\\AppData\\Roaming\\Python\\Python38\\site-packages\\botocore\\client.py:357\u001b[0m, in \u001b[0;36mClientCreator._create_api_method.<locals>._api_call\u001b[1;34m(self, *args, **kwargs)\u001b[0m\n\u001b[0;32m    354\u001b[0m     \u001b[38;5;28;01mraise\u001b[39;00m \u001b[38;5;167;01mTypeError\u001b[39;00m(\n\u001b[0;32m    355\u001b[0m         \u001b[38;5;124m\"\u001b[39m\u001b[38;5;132;01m%s\u001b[39;00m\u001b[38;5;124m() only accepts keyword arguments.\u001b[39m\u001b[38;5;124m\"\u001b[39m \u001b[38;5;241m%\u001b[39m py_operation_name)\n\u001b[0;32m    356\u001b[0m \u001b[38;5;66;03m# The \"self\" in this scope is referring to the BaseClient.\u001b[39;00m\n\u001b[1;32m--> 357\u001b[0m \u001b[38;5;28;01mreturn\u001b[39;00m \u001b[38;5;28;43mself\u001b[39;49m\u001b[38;5;241;43m.\u001b[39;49m\u001b[43m_make_api_call\u001b[49m\u001b[43m(\u001b[49m\u001b[43moperation_name\u001b[49m\u001b[43m,\u001b[49m\u001b[43m \u001b[49m\u001b[43mkwargs\u001b[49m\u001b[43m)\u001b[49m\n",
      "File \u001b[1;32m~\\AppData\\Roaming\\Python\\Python38\\site-packages\\botocore\\client.py:676\u001b[0m, in \u001b[0;36mBaseClient._make_api_call\u001b[1;34m(self, operation_name, api_params)\u001b[0m\n\u001b[0;32m    674\u001b[0m     error_code \u001b[38;5;241m=\u001b[39m parsed_response\u001b[38;5;241m.\u001b[39mget(\u001b[38;5;124m\"\u001b[39m\u001b[38;5;124mError\u001b[39m\u001b[38;5;124m\"\u001b[39m, {})\u001b[38;5;241m.\u001b[39mget(\u001b[38;5;124m\"\u001b[39m\u001b[38;5;124mCode\u001b[39m\u001b[38;5;124m\"\u001b[39m)\n\u001b[0;32m    675\u001b[0m     error_class \u001b[38;5;241m=\u001b[39m \u001b[38;5;28mself\u001b[39m\u001b[38;5;241m.\u001b[39mexceptions\u001b[38;5;241m.\u001b[39mfrom_code(error_code)\n\u001b[1;32m--> 676\u001b[0m     \u001b[38;5;28;01mraise\u001b[39;00m error_class(parsed_response, operation_name)\n\u001b[0;32m    677\u001b[0m \u001b[38;5;28;01melse\u001b[39;00m:\n\u001b[0;32m    678\u001b[0m     \u001b[38;5;28;01mreturn\u001b[39;00m parsed_response\n",
      "\u001b[1;31mClientError\u001b[0m: An error occurred (UnrecognizedClientException) when calling the GetQueryResults operation: The security token included in the request is invalid."
     ]
    }
   ],
   "source": [
    "results = athena_client.get_query_results(QueryExecutionId=queryStart['QueryExecutionId'])\n",
    "print(json.dumps(results, indent=4, sort_keys=True))"
   ]
  },
  {
   "cell_type": "markdown",
   "id": "74e38821-4cca-4ee9-b6e4-ce406b665377",
   "metadata": {},
   "source": [
    "#### The python file for the ETL job\n",
    "\n",
    "The file contains a Pyspark code that load the csv file in a dataframe, create a new column with a moving averange of the specified dataframe column. Finally save the new dataframe in a new csv file."
   ]
  },
  {
   "cell_type": "code",
   "execution_count": 56,
   "id": "f2c04185-7891-4a84-9b73-ba6d4be421d4",
   "metadata": {
    "tags": []
   },
   "outputs": [
    {
     "name": "stdout",
     "output_type": "stream",
     "text": [
      "Overwriting glueETL.py\n"
     ]
    }
   ],
   "source": [
    "%%writefile glueETL.py\n",
    "from pyspark.sql.window import Window\n",
    "from pyspark.sql import functions as f\n",
    "from pyspark.sql import SparkSession\n",
    "\n",
    "spark = SparkSession.builder.appName('ETLjob1').getOrCreate()\n",
    "\n",
    "df = spark.read.option(\"header\", \"true\").csv(\"s3://glue-test-az/raw_files/TSLA.csv\")\n",
    "\n",
    "df_new = df.withColumn(\"Part\", f.lit(1)).withColumn(\"movingAverage\", f.avg(df[\"Adj Close\"]).over(Window.partitionBy(\"Part\").orderBy(\"Date\").rowsBetween(-5,0)))\n",
    "\n",
    "df_new.coalesce(1).write.option(\"header\", \"true\").csv(\"s3://glue-test-az/processed/TSLA.csv\", mode='overwrite')"
   ]
  },
  {
   "cell_type": "markdown",
   "id": "41b9df43-c840-4517-975e-2c4b58ab2d9b",
   "metadata": {},
   "source": [
    "#### Load the file into the bucket"
   ]
  },
  {
   "cell_type": "code",
   "execution_count": 57,
   "id": "22b6d66b-5eee-42d4-8619-b0311976fbca",
   "metadata": {
    "tags": []
   },
   "outputs": [],
   "source": [
    "fileToUpload = 'glueETL.py'\n",
    "dev_s3_client.upload_file(f'{fileToUpload}', \n",
    "                          bucket,\n",
    "                          f'scripts/{fileToUpload}')"
   ]
  },
  {
   "cell_type": "markdown",
   "id": "c7f937a5-9358-436f-b50f-4a9fa6de5bcf",
   "metadata": {},
   "source": [
    "Verify the file was uploaded."
   ]
  },
  {
   "cell_type": "code",
   "execution_count": 58,
   "id": "4cbd6503-366a-4191-8b7b-7d01261e6c5c",
   "metadata": {
    "tags": []
   },
   "outputs": [],
   "source": [
    "response = dev_s3_client.list_objects(Bucket=f'{bucket}')"
   ]
  },
  {
   "cell_type": "code",
   "execution_count": 59,
   "id": "237fc07a-bccc-4937-a968-178b4766099c",
   "metadata": {},
   "outputs": [
    {
     "name": "stdout",
     "output_type": "stream",
     "text": [
      "33d67d26-506f-4740-8e66-d7990516bd12.csv\n",
      "33d67d26-506f-4740-8e66-d7990516bd12.csv.metadata\n",
      "raw_files/TSLA.csv\n",
      "scripts/glueETL.py\n"
     ]
    }
   ],
   "source": [
    "for key in response[\"Contents\"]:\n",
    "    print(key['Key'])"
   ]
  },
  {
   "cell_type": "markdown",
   "id": "682b4ac6-77ed-4d2e-9171-28f8e53e6c80",
   "metadata": {},
   "source": [
    "#### Creating a Glue ETL job"
   ]
  },
  {
   "cell_type": "code",
   "execution_count": 60,
   "id": "d2b4370b-8a54-4013-ae27-7ae84a3f1de7",
   "metadata": {},
   "outputs": [],
   "source": [
    "glue_client = session.client('glue')"
   ]
  },
  {
   "cell_type": "code",
   "execution_count": 65,
   "id": "17f8d7c0-1e92-4e5c-8579-46ada685fe6a",
   "metadata": {},
   "outputs": [
    {
     "name": "stdout",
     "output_type": "stream",
     "text": [
      "{\n",
      "    \"Name\": \"AZJob\",\n",
      "    \"ResponseMetadata\": {\n",
      "        \"HTTPHeaders\": {\n",
      "            \"connection\": \"keep-alive\",\n",
      "            \"content-length\": \"16\",\n",
      "            \"content-type\": \"application/x-amz-json-1.1\",\n",
      "            \"date\": \"Sat, 21 May 2022 15:07:17 GMT\",\n",
      "            \"x-amzn-requestid\": \"19da2578-bc8d-4111-8166-db431ec40d00\"\n",
      "        },\n",
      "        \"HTTPStatusCode\": 200,\n",
      "        \"RequestId\": \"19da2578-bc8d-4111-8166-db431ec40d00\",\n",
      "        \"RetryAttempts\": 0\n",
      "    }\n",
      "}\n"
     ]
    }
   ],
   "source": [
    "import boto3\n",
    "import json\n",
    "\n",
    "\n",
    "response = glue_client.create_job(\n",
    "    Name='AZJob',\n",
    "    Description='Test',\n",
    "    Role='arn:aws:iam::471807755212:role/AWSGlueServiceRole-AZ1',\n",
    "    ExecutionProperty={\n",
    "        'MaxConcurrentRuns': 2\n",
    "    },\n",
    "    Command={\n",
    "        'Name': 'glueetl',\n",
    "        'ScriptLocation': f's3://{bucket}/scripts/glueETL.py',\n",
    "        'PythonVersion': '3'\n",
    "    },\n",
    "    DefaultArguments={\n",
    "      '--TempDir': f's3://{bucket}/temp_dir',\n",
    "      '--job-bookmark-option': 'job-bookmark-disable'\n",
    "    },\n",
    "    MaxRetries=1,\n",
    "    GlueVersion='3.0',\n",
    "    NumberOfWorkers=2,\n",
    "    WorkerType='G.1X'\n",
    ")\n",
    "\n",
    "print(json.dumps(response, indent=4, sort_keys=True, default=str))"
   ]
  },
  {
   "cell_type": "markdown",
   "id": "0384e806-a57a-4945-a7b0-97ee43fb77f3",
   "metadata": {},
   "source": [
    "As a side note, for the role parameter the complete ARN role name must be used... otherwise the parameter is not accepted, with no error message and the ETL job won't run. \n",
    "\n",
    "I spent few hours, to find it out 🤦‍♂️\n",
    "\n",
    "To find the ARN Role, find it in the response when the role was created. Or use the next query:"
   ]
  },
  {
   "cell_type": "code",
   "execution_count": 72,
   "id": "e72dbfce-2916-4345-8647-43623c90c515",
   "metadata": {},
   "outputs": [
    {
     "data": {
      "text/plain": [
       "'arn:aws:iam::471807755212:role/AWSGlueServiceRole-AZ1'"
      ]
     },
     "execution_count": 72,
     "metadata": {},
     "output_type": "execute_result"
    }
   ],
   "source": [
    "response = iam_client.get_role(RoleName = 'AWSGlueServiceRole-AZ1')\n",
    "\n",
    "response['Role']['Arn']"
   ]
  },
  {
   "cell_type": "markdown",
   "id": "20e8bfc3-ff2f-444f-9778-f85cda0064be",
   "metadata": {},
   "source": [
    "#### Delete a Job"
   ]
  },
  {
   "cell_type": "markdown",
   "id": "24b8a1d4-96dc-43ff-bf90-96a22235c596",
   "metadata": {},
   "source": [
    "If something didn't work you can always delete the job with:"
   ]
  },
  {
   "cell_type": "markdown",
   "id": "0928a8e1-ed8d-4869-bdd8-546f77bb7dc4",
   "metadata": {},
   "source": [
    "<code>glue_client.delete_job(JobName='AZJob')</code>"
   ]
  },
  {
   "cell_type": "markdown",
   "id": "dc29d40e-aa51-4b04-b0e4-ebe66104163d",
   "metadata": {},
   "source": [
    "#### Update an ETL job"
   ]
  },
  {
   "cell_type": "code",
   "execution_count": 66,
   "id": "073ab80b-c7a3-4d4a-8736-719c55d4c513",
   "metadata": {},
   "outputs": [
    {
     "name": "stdout",
     "output_type": "stream",
     "text": [
      "{'JobName': 'AZJob', 'ResponseMetadata': {'RequestId': 'd3b7b619-b553-4e52-89e4-a8c856bb0636', 'HTTPStatusCode': 200, 'HTTPHeaders': {'date': 'Sat, 21 May 2022 15:10:01 GMT', 'content-type': 'application/x-amz-json-1.1', 'content-length': '19', 'connection': 'keep-alive', 'x-amzn-requestid': 'd3b7b619-b553-4e52-89e4-a8c856bb0636'}, 'RetryAttempts': 0}}\n"
     ]
    }
   ],
   "source": [
    "response = glue_client.update_job(\n",
    "    JobName='AZJob',\n",
    "    JobUpdate={\n",
    "        'Role': 'arn:aws:iam::471807755212:role/AWSGlueServiceRole-AZ1',\n",
    "        'Description': 'Testing AWS Glue ETL',\n",
    "        'Command': {\n",
    "            'Name': 'glueetl',\n",
    "            'ScriptLocation': f's3://{bucket}/scripts/glueETL.py',\n",
    "            'PythonVersion': '3'\n",
    "        },\n",
    "    }\n",
    ")\n",
    "print(response)"
   ]
  },
  {
   "cell_type": "markdown",
   "id": "2e1af88b-ae40-4fde-979c-dce462f22b49",
   "metadata": {},
   "source": [
    "#### Start a Job"
   ]
  },
  {
   "cell_type": "code",
   "execution_count": 84,
   "id": "604752ed-2385-4702-89c3-3666bef01ea1",
   "metadata": {},
   "outputs": [],
   "source": [
    "start_job_response = glue_client.start_job_run(JobName='AZJob')"
   ]
  },
  {
   "cell_type": "code",
   "execution_count": 85,
   "id": "a888d4df-54c5-4833-be5e-900e1cace5ca",
   "metadata": {},
   "outputs": [
    {
     "data": {
      "text/plain": [
       "{'JobRunId': 'jr_42f838c9e55a3f271f64ac8e6233a07cfbce1fe64134061ed6993a3e89a6fef8',\n",
       " 'ResponseMetadata': {'RequestId': '6fc1945e-33b0-459f-899e-cf3a568c7b25',\n",
       "  'HTTPStatusCode': 200,\n",
       "  'HTTPHeaders': {'date': 'Sat, 21 May 2022 15:31:36 GMT',\n",
       "   'content-type': 'application/x-amz-json-1.1',\n",
       "   'content-length': '82',\n",
       "   'connection': 'keep-alive',\n",
       "   'x-amzn-requestid': '6fc1945e-33b0-459f-899e-cf3a568c7b25'},\n",
       "  'RetryAttempts': 0}}"
      ]
     },
     "execution_count": 85,
     "metadata": {},
     "output_type": "execute_result"
    }
   ],
   "source": [
    "start_job_response"
   ]
  },
  {
   "cell_type": "markdown",
   "id": "0868a674-8e68-4c46-a6dd-9c00ae553536",
   "metadata": {},
   "source": [
    "#### To see the status of the Job"
   ]
  },
  {
   "cell_type": "code",
   "execution_count": 95,
   "id": "69f0c1c9-bb8a-49ce-ba63-b168e5be6802",
   "metadata": {},
   "outputs": [
    {
     "data": {
      "text/plain": [
       "'SUCCEEDED'"
      ]
     },
     "execution_count": 95,
     "metadata": {},
     "output_type": "execute_result"
    }
   ],
   "source": [
    "response = glue_client.get_job_run(\n",
    "    JobName='AZJob',\n",
    "    RunId=start_job_response['JobRunId']\n",
    ")\n",
    "\n",
    "response['JobRun']['JobRunState']"
   ]
  },
  {
   "cell_type": "markdown",
   "id": "8c088665-3491-4c5a-bfd8-6b94c7b0d2a1",
   "metadata": {},
   "source": [
    "Wait until it says **SUCCEEDED**... or, worst case, **FAILED**. In the last case good luck with debugging."
   ]
  },
  {
   "cell_type": "code",
   "execution_count": null,
   "id": "b3ff112b-43d2-498e-9069-1325d184fb74",
   "metadata": {},
   "outputs": [],
   "source": []
  },
  {
   "cell_type": "markdown",
   "id": "719dd3d3-2862-4a2d-bf1f-cf82507c513a",
   "metadata": {},
   "source": [
    "### References"
   ]
  },
  {
   "cell_type": "markdown",
   "id": "ddcb309d-39fe-48f9-811d-eb6a0417e668",
   "metadata": {},
   "source": [
    "https://hands-on.cloud/working-with-aws-glue-in-python-using-boto3/#h-creating-an-aws-glue-crawler\n",
    "\n",
    "Boto3 IAM API: https://boto3.amazonaws.com/v1/documentation/api/latest/reference/services/iam.html\n",
    "\n",
    "JSON policy element reference: https://docs.aws.amazon.com/IAM/latest/UserGuide/reference_policies_elements.html#Principal_specifying\n",
    "\n",
    "AWS services that work with IAM: https://docs.aws.amazon.com/IAM/latest/UserGuide/reference_aws-services-that-work-with-iam.html \n",
    "\n",
    "https://bobbyhadz.com/blog/aws-cli-create-role\n",
    "\n",
    "AWS Glue - Web API reference: https://docs.aws.amazon.com/glue/latest/webapi/web-api.pdf#WebAPI_Welcome"
   ]
  },
  {
   "cell_type": "code",
   "execution_count": null,
   "id": "2eae6985-8d71-400e-8434-b654aab4c05a",
   "metadata": {},
   "outputs": [],
   "source": []
  },
  {
   "cell_type": "code",
   "execution_count": null,
   "id": "82441b9c-fd16-43fe-904e-a9c11f39eab1",
   "metadata": {},
   "outputs": [],
   "source": []
  }
 ],
 "metadata": {
  "kernelspec": {
   "display_name": "Python 3 (ipykernel)",
   "language": "python",
   "name": "python3"
  },
  "language_info": {
   "codemirror_mode": {
    "name": "ipython",
    "version": 3
   },
   "file_extension": ".py",
   "mimetype": "text/x-python",
   "name": "python",
   "nbconvert_exporter": "python",
   "pygments_lexer": "ipython3",
   "version": "3.8.13"
  }
 },
 "nbformat": 4,
 "nbformat_minor": 5
}
