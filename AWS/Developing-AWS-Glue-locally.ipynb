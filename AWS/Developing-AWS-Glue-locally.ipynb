{
 "cells": [
  {
   "cell_type": "markdown",
   "id": "6d685967-0b8b-48ed-8be0-55ca3f309571",
   "metadata": {},
   "source": [
    "# Local dev\n",
    "\n",
    "https://aws.amazon.com/blogs/big-data/building-an-aws-glue-etl-pipeline-locally-without-an-aws-account/\n",
    "\n",
    "https://aws.amazon.com/blogs/big-data/developing-aws-glue-etl-jobs-locally-using-a-container/\n"
   ]
  },
  {
   "cell_type": "markdown",
   "id": "f4f6d06b-b088-46b0-ba95-5ded83339899",
   "metadata": {},
   "source": [
    "docker pull amazon/aws-glue-libs:glue_libs_1.0.0_image_01\n",
    "\n",
    "docker run -itd -p <port_on_host>:<port_on_container_either_8888_or_8080> -p 4040:4040 <credential_setup_to_access_AWS_resources> --name <container_name> amazon/aws-glue-libs:glue_libs_1.0.0_image_01 <command_to_start_notebook_server>\n",
    "\n",
    "docker run -itd -p 8888:8888 -p 4040:4040 -v %UserProfile%\\.aws:/root/.aws:rw --name glue_jupyter amazon/aws-glue-libs:glue_libs_1.0.0_image_01 /home/jupyter/jupyter_start.sh\n"
   ]
  },
  {
   "cell_type": "code",
   "execution_count": null,
   "id": "0c2fe15a-b8ec-4156-9e53-a6dd7f09588e",
   "metadata": {},
   "outputs": [],
   "source": []
  },
  {
   "cell_type": "code",
   "execution_count": null,
   "id": "dcc13d8c-7367-42c3-af22-ea8946386700",
   "metadata": {},
   "outputs": [],
   "source": []
  },
  {
   "cell_type": "code",
   "execution_count": null,
   "id": "ae2f2977-83d8-4a0e-9e20-3b8c33653cf4",
   "metadata": {},
   "outputs": [],
   "source": []
  },
  {
   "cell_type": "markdown",
   "id": "1b3573b3-8b29-47f1-b8d2-46e1a5bc8ccb",
   "metadata": {},
   "source": [
    "# Remote dev\n",
    "\n",
    "Ensure this role has a trust relationship to EC2. The role name must match the EC2 instance profile exactly. Also ensure that this role has permission to your Amazon S3 sources, targets, and any libraries needed when using the notebook server."
   ]
  },
  {
   "cell_type": "code",
   "execution_count": null,
   "id": "73c4ec80-7fa9-4bb1-b3f0-4b8e859a30ff",
   "metadata": {},
   "outputs": [],
   "source": []
  }
 ],
 "metadata": {
  "kernelspec": {
   "display_name": "Python(aws2)",
   "language": "python",
   "name": "aws2"
  },
  "language_info": {
   "codemirror_mode": {
    "name": "ipython",
    "version": 3
   },
   "file_extension": ".py",
   "mimetype": "text/x-python",
   "name": "python",
   "nbconvert_exporter": "python",
   "pygments_lexer": "ipython3",
   "version": "3.8.13"
  }
 },
 "nbformat": 4,
 "nbformat_minor": 5
}
