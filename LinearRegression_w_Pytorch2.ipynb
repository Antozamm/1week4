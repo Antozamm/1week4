{
 "cells": [
  {
   "cell_type": "markdown",
   "metadata": {},
   "source": [
    "## Regressione lineare con Pytorch"
   ]
  },
  {
   "cell_type": "markdown",
   "metadata": {},
   "source": [
    "In questo articolo voglio implementare una regressione lineare con Pytorch."
   ]
  },
  {
   "cell_type": "markdown",
   "metadata": {},
   "source": [
    "Iniziamo con l'inquadrare il problema."
   ]
  },
  {
   "cell_type": "markdown",
   "metadata": {},
   "source": [
    "Ho N variabili di ingresso $x_1,x_2,\\dots,x_N$ ed 1 uscita $y$.<br>\n",
    "Il modello che voglio usare è quello della regressione lineare così definito:\n",
    "\\begin{equation*}\n",
    "y = \\theta_0 + \\theta_1 x_1 + \\theta_2 x_2 + ... + \\theta_N x_N = \\Theta \\cdot X^T\n",
    "\\end{equation*}\n",
    "con:\n",
    "\\begin{equation*}\n",
    "\\Theta =  \n",
    "\\begin{bmatrix}\n",
    "\\theta_0  & \\theta_1  & \\dots & \\theta_N\n",
    "\\end{bmatrix}\n",
    "\\end{equation*}\n",
    "\\begin{equation*}\n",
    "X =  \n",
    "\\begin{bmatrix}\n",
    "x_0  & x_1  & \\dots & x_N\n",
    "\\end{bmatrix}\n",
    "\\end{equation*}\n",
    "\\begin{equation*}\n",
    "x_0 = 1\n",
    "\\end{equation*}"
   ]
  },
  {
   "cell_type": "markdown",
   "metadata": {},
   "source": [
    "Quindi devo trovare i parametri $\\theta_0,\\theta_1,\\dots,\\theta_N$ tali che l'errore $loss(y_{modello}, y_{target})$ sia il minimo."
   ]
  },
  {
   "cell_type": "markdown",
   "metadata": {},
   "source": [
    "### Il modello lineare"
   ]
  },
  {
   "cell_type": "markdown",
   "metadata": {},
   "source": [
    "Importiamo i package necessari:"
   ]
  },
  {
   "cell_type": "code",
   "execution_count": 210,
   "metadata": {},
   "outputs": [],
   "source": [
    "import numpy as np\n",
    "import torch\n",
    "import torch.nn as nn\n",
    "import matplotlib.pyplot as plt"
   ]
  },
  {
   "cell_type": "markdown",
   "metadata": {},
   "source": [
    "Definiamo un modello di regressione lineare con 10 ingressi e 1 uscita, ci serviamo della funzione di PyTorch <strong>torch.nn.Linear()</strong>:"
   ]
  },
  {
   "cell_type": "code",
   "execution_count": 211,
   "metadata": {},
   "outputs": [],
   "source": [
    "model = nn.Linear(10,1)"
   ]
  },
  {
   "cell_type": "markdown",
   "metadata": {},
   "source": [
    "i cui parametri sono i pesi (weight) e il bias, in tutto 11 parametri da ottimizzare:"
   ]
  },
  {
   "cell_type": "code",
   "execution_count": 212,
   "metadata": {},
   "outputs": [
    {
     "data": {
      "text/plain": [
       "(Parameter containing:\n",
       " tensor([[-0.1519, -0.1421, -0.0221,  0.1229, -0.3107, -0.2165, -0.1105,  0.1507,\n",
       "           0.1813, -0.3015]], requires_grad=True), Parameter containing:\n",
       " tensor([-0.0206], requires_grad=True))"
      ]
     },
     "execution_count": 212,
     "metadata": {},
     "output_type": "execute_result"
    }
   ],
   "source": [
    "model.weight, model.bias"
   ]
  },
  {
   "cell_type": "markdown",
   "metadata": {},
   "source": [
    "Definendo un tensore di ingresso con dimensioni 1x10"
   ]
  },
  {
   "cell_type": "code",
   "execution_count": 213,
   "metadata": {},
   "outputs": [],
   "source": [
    "x = torch.randn(1,10)"
   ]
  },
  {
   "cell_type": "markdown",
   "metadata": {},
   "source": [
    "l'uscita è data semplicemente da:"
   ]
  },
  {
   "cell_type": "code",
   "execution_count": 214,
   "metadata": {},
   "outputs": [],
   "source": [
    "y = model(x)"
   ]
  },
  {
   "cell_type": "markdown",
   "metadata": {},
   "source": [
    "Facciamo un controllo degli shape di ingresso e uscita:"
   ]
  },
  {
   "cell_type": "code",
   "execution_count": 215,
   "metadata": {},
   "outputs": [
    {
     "name": "stdout",
     "output_type": "stream",
     "text": [
      "torch.Size([1, 10])\n",
      "torch.Size([1, 1])\n"
     ]
    }
   ],
   "source": [
    "print(x.shape)\n",
    "print(y.shape)"
   ]
  },
  {
   "cell_type": "markdown",
   "metadata": {},
   "source": [
    "Otteniamo quanto atteso, un ingresso 1x10 e un'uscita 1x1 (uno scalare)."
   ]
  },
  {
   "cell_type": "markdown",
   "metadata": {},
   "source": [
    "Ancora una volta voglio verificare che il modelllo di PyTorch faccia quanto atteso, ovvero l'operazione $w \\cdot x^T+b$<br>\n",
    "Definisco un tensore $x$ 1x10 di float"
   ]
  },
  {
   "cell_type": "code",
   "execution_count": 216,
   "metadata": {},
   "outputs": [
    {
     "data": {
      "text/plain": [
       "torch.Size([1, 10])"
      ]
     },
     "execution_count": 216,
     "metadata": {},
     "output_type": "execute_result"
    }
   ],
   "source": [
    "x = torch.tensor([1,23,4,5,6,77,8,9,12,22], dtype=torch.float).view([1,10])\n",
    "x.shape"
   ]
  },
  {
   "cell_type": "markdown",
   "metadata": {},
   "source": [
    "L'uscita del modello è:"
   ]
  },
  {
   "cell_type": "code",
   "execution_count": 217,
   "metadata": {},
   "outputs": [
    {
     "data": {
      "text/plain": [
       "tensor([[-25.4334]], grad_fn=<AddmmBackward>)"
      ]
     },
     "execution_count": 217,
     "metadata": {},
     "output_type": "execute_result"
    }
   ],
   "source": [
    "y1 = model(x)\n",
    "y1"
   ]
  },
  {
   "cell_type": "markdown",
   "metadata": {},
   "source": [
    "Verifichiamo che il  calcolo $w \\cdot x^T+b$ sia giusto. Per fare il prodotto scalare tra i due vettori si usa l'operatore <strong>torch.mm</strong><br>\n",
    "Inoltre occorre che i due tensori di torch.mm siano il primo un vettore riga il secondo un vettore colonna. <br>\n",
    "Il tensore dei pesi è un tensore riga 1x10:"
   ]
  },
  {
   "cell_type": "code",
   "execution_count": 218,
   "metadata": {},
   "outputs": [
    {
     "data": {
      "text/plain": [
       "torch.Size([1, 10])"
      ]
     },
     "execution_count": 218,
     "metadata": {},
     "output_type": "execute_result"
    }
   ],
   "source": [
    "w = model.weight\n",
    "w.shape"
   ]
  },
  {
   "cell_type": "markdown",
   "metadata": {},
   "source": [
    "Poiché x è originariamente un vettore riga 1x10, lo trasformo in un vettore colonna 10x1 usando la funzione <strong>.view()</strong>. In questo caso x.view(10,1). <br>Per fare la cosa più generica posso usare x.view(-1,1). Pytorch capisce che è il secondo argomento (1) della funzione che conta e regola il primo di conseguenza."
   ]
  },
  {
   "cell_type": "code",
   "execution_count": 219,
   "metadata": {},
   "outputs": [
    {
     "data": {
      "text/plain": [
       "tensor([[-25.4334]], grad_fn=<AddBackward0>)"
      ]
     },
     "execution_count": 219,
     "metadata": {},
     "output_type": "execute_result"
    }
   ],
   "source": [
    "y2 = torch.mm(w, x.view(-1,1)) + model.bias # w*x+b\n",
    "y2"
   ]
  },
  {
   "cell_type": "markdown",
   "metadata": {},
   "source": [
    "Il risultato è quello atteso: y1=y2<br>\n",
    "Il modello <strong>torch.nn.Linear</strong> calcola la combinazione lineare degli ingressi come ci attendevamo."
   ]
  },
  {
   "cell_type": "markdown",
   "metadata": {},
   "source": [
    "### Modello lineare, ingresso singolo e training del modello"
   ]
  },
  {
   "cell_type": "markdown",
   "metadata": {},
   "source": [
    "Facciamo il primo esempio più semplice con un solo ingresso e una sola uscita."
   ]
  },
  {
   "cell_type": "markdown",
   "metadata": {},
   "source": [
    "Creiamo un set di dati, costituito da N coppie (x,y), che stanno in una relazione \"abbastanza\" lineare tra di loro.<br>\n",
    "Per fare questo definiamo una relazione lineare tra y e x. E aggiungiamo un rumore per rendere la cosa più realistica."
   ]
  },
  {
   "cell_type": "code",
   "execution_count": 220,
   "metadata": {},
   "outputs": [],
   "source": [
    "x_samples = torch.linspace(0, 100, steps=101).view(-1,1) #l'ingresso deve essere in formato colonna\n",
    "m = 13.5 #coefficiente angolare\n",
    "b = 12 #ordinata all'origine\n",
    "y_samples_lineare = m * x_samples + b  "
   ]
  },
  {
   "cell_type": "code",
   "execution_count": 221,
   "metadata": {},
   "outputs": [
    {
     "data": {
      "text/plain": [
       "torch.Size([101, 1])"
      ]
     },
     "execution_count": 221,
     "metadata": {},
     "output_type": "execute_result"
    }
   ],
   "source": [
    "y_samples_lineare.size()"
   ]
  },
  {
   "cell_type": "code",
   "execution_count": 222,
   "metadata": {},
   "outputs": [
    {
     "data": {
      "text/plain": [
       "torch.Size([101, 1])"
      ]
     },
     "execution_count": 222,
     "metadata": {},
     "output_type": "execute_result"
    }
   ],
   "source": [
    "y_samples_noise = 200 * torch.randn(x_samples.shape[0], 1) #genera un vettore colonna di dati random, con media 0 e varianza 5 \n",
    "y_samples_noise.size()"
   ]
  },
  {
   "cell_type": "markdown",
   "metadata": {},
   "source": [
    "Abbiamo già visto che i vettori y_samples_lineare e y_samples_noise hanno le stesse dimensioni. Possiamo pertanto sommarli:"
   ]
  },
  {
   "cell_type": "code",
   "execution_count": 223,
   "metadata": {},
   "outputs": [],
   "source": [
    "y_samples = y_samples_lineare + y_samples_noise"
   ]
  },
  {
   "cell_type": "markdown",
   "metadata": {},
   "source": [
    "(x_samples, y_samples) è il dataset di punti che devo interpolare (o fittare)."
   ]
  },
  {
   "cell_type": "markdown",
   "metadata": {},
   "source": [
    "Instanzio il modello lineare con un ingresso e una uscita. Il parametro bias=True indica che devo ottimizare il bias (ordinata all'origine) del modello."
   ]
  },
  {
   "cell_type": "code",
   "execution_count": 224,
   "metadata": {},
   "outputs": [],
   "source": [
    "model1 = torch.nn.Linear(1,1, bias=True) "
   ]
  },
  {
   "cell_type": "markdown",
   "metadata": {},
   "source": [
    "Il modello ha solo due parametri da ottimizzare, che in accordo alla letteratura classica chiameremo $m$ e $q$:"
   ]
  },
  {
   "cell_type": "code",
   "execution_count": 225,
   "metadata": {},
   "outputs": [
    {
     "data": {
      "text/plain": [
       "(Parameter containing:\n",
       " tensor([[-0.4014]], requires_grad=True), Parameter containing:\n",
       " tensor([0.1948], requires_grad=True))"
      ]
     },
     "execution_count": 225,
     "metadata": {},
     "output_type": "execute_result"
    }
   ],
   "source": [
    "model1.weight, model1.bias"
   ]
  },
  {
   "cell_type": "markdown",
   "metadata": {},
   "source": [
    "Calcolo le uscite del modello lineare appena definito:"
   ]
  },
  {
   "cell_type": "code",
   "execution_count": 226,
   "metadata": {},
   "outputs": [
    {
     "data": {
      "text/plain": [
       "torch.Size([101, 1])"
      ]
     },
     "execution_count": 226,
     "metadata": {},
     "output_type": "execute_result"
    }
   ],
   "source": [
    "y_linmod = model1(x_samples)\n",
    "y_linmod.size()"
   ]
  },
  {
   "cell_type": "markdown",
   "metadata": {},
   "source": [
    "Mettiamo su grafico le due curve (x_samples, y_samples) e (x_samples, y_linmod).<br>\n",
    "Come si vede il modello lineare non è stato adattato. Pertanto la linea rossa devia nettamente dalla nuvola di punti blu."
   ]
  },
  {
   "cell_type": "code",
   "execution_count": 227,
   "metadata": {},
   "outputs": [
    {
     "data": {
      "image/png": "[encoded data removed]",
      "text/plain": [
       "<Figure size 432x288 with 1 Axes>"
      ]
     },
     "metadata": {
      "needs_background": "light"
     },
     "output_type": "display_data"
    }
   ],
   "source": [
    "plt.scatter(x_samples.numpy(),y_samples.numpy(), label=\"dataset\")\n",
    "plt.plot(x_samples.numpy(),y_linmod.detach().numpy(),'r', label=\"linear model\")\n",
    "plt.legend()\n",
    "plt.show()"
   ]
  },
  {
   "cell_type": "markdown",
   "metadata": {},
   "source": [
    "Calcolo l'errore quadratico medio tra il dataset e il valore corrente dell'uscita. Per qualche motivo la funzione predefinita di PyTorch <strong>nn.MSELoss()</strong> mi da errore, pertanto definisco l'errore quadratico medio esplicitamente."
   ]
  },
  {
   "cell_type": "code",
   "execution_count": 228,
   "metadata": {},
   "outputs": [
    {
     "data": {
      "text/plain": [
       "tensor(729419.8750, grad_fn=<MeanBackward0>)"
      ]
     },
     "execution_count": 228,
     "metadata": {},
     "output_type": "execute_result"
    }
   ],
   "source": [
    "# errore = nn.MSELoss(y_linmod, y_linmod)\n",
    "errore = torch.mean(torch.pow(y_samples-y_linmod, 2))\n",
    "errore"
   ]
  },
  {
   "cell_type": "markdown",
   "metadata": {},
   "source": [
    "Calcolo le derivate parziali dell'errore rispetto ai due parametri m e q, usando la funzione backward()."
   ]
  },
  {
   "cell_type": "code",
   "execution_count": 229,
   "metadata": {},
   "outputs": [],
   "source": [
    "errore.backward()"
   ]
  },
  {
   "cell_type": "markdown",
   "metadata": {},
   "source": [
    "Come ottimizzatore uso lo SGD (Stochastic Gradient Descent):"
   ]
  },
  {
   "cell_type": "code",
   "execution_count": 230,
   "metadata": {},
   "outputs": [],
   "source": [
    "optimizer = torch.optim.SGD(model1.parameters(),1e-4)"
   ]
  },
  {
   "cell_type": "markdown",
   "metadata": {},
   "source": [
    "Itero su un numero basso di iterazioni, poiché la convergenza è veloce."
   ]
  },
  {
   "cell_type": "code",
   "execution_count": 231,
   "metadata": {},
   "outputs": [
    {
     "name": "stdout",
     "output_type": "stream",
     "text": [
      "tensor(729419.8750, grad_fn=<MeanBackward0>)\n"
     ]
    },
    {
     "data": {
      "image/png": "[encoded data removed]",
      "text/plain": [
       "<Figure size 432x288 with 1 Axes>"
      ]
     },
     "metadata": {
      "needs_background": "light"
     },
     "output_type": "display_data"
    },
    {
     "name": "stdout",
     "output_type": "stream",
     "text": [
      "tensor(124687.3438, grad_fn=<MeanBackward0>)\n"
     ]
    },
    {
     "data": {
      "image/png": "[encoded data removed]",
      "text/plain": [
       "<Figure size 432x288 with 1 Axes>"
      ]
     },
     "metadata": {
      "needs_background": "light"
     },
     "output_type": "display_data"
    },
    {
     "name": "stdout",
     "output_type": "stream",
     "text": [
      "tensor(54102.8867, grad_fn=<MeanBackward0>)\n"
     ]
    },
    {
     "data": {
      "image/png": "[encoded data removed]",
      "text/plain": [
       "<Figure size 432x288 with 1 Axes>"
      ]
     },
     "metadata": {
      "needs_background": "light"
     },
     "output_type": "display_data"
    },
    {
     "name": "stdout",
     "output_type": "stream",
     "text": [
      "tensor(46423.1836, grad_fn=<MeanBackward0>)\n"
     ]
    },
    {
     "data": {
      "image/png": "[encoded data removed]",
      "text/plain": [
       "<Figure size 432x288 with 1 Axes>"
      ]
     },
     "metadata": {
      "needs_background": "light"
     },
     "output_type": "display_data"
    },
    {
     "name": "stdout",
     "output_type": "stream",
     "text": [
      "tensor(45587.6250, grad_fn=<MeanBackward0>)\n"
     ]
    },
    {
     "data": {
      "image/png": "[encoded data removed]",
      "text/plain": [
       "<Figure size 432x288 with 1 Axes>"
      ]
     },
     "metadata": {
      "needs_background": "light"
     },
     "output_type": "display_data"
    }
   ],
   "source": [
    "for i in range(5):\n",
    "    y_linmod = model1(x_samples)\n",
    "    errore = torch.mean(torch.pow(y_samples-y_linmod, 2))\n",
    "    errore.backward()\n",
    "    optimizer.step()\n",
    "    optimizer.zero_grad()\n",
    "    print(errore)\n",
    "    plt.scatter(x_samples.numpy(),y_samples.numpy(), label=\"dataset\")\n",
    "    plt.plot(x_samples.numpy(),y_linmod.detach().numpy(),'r', label=\"linear model\")\n",
    "    plt.legend()\n",
    "    plt.show()"
   ]
  },
  {
   "cell_type": "markdown",
   "metadata": {},
   "source": [
    "Come si vede dai grafici sopra la convergenza è velocissima, già alla seconda iterazione la linea rossa si attesta sulla nuvola blu.<br>\n",
    "Un altro paio di iterazioni e il fitting è ottimale."
   ]
  },
  {
   "cell_type": "markdown",
   "metadata": {},
   "source": [
    "I parametri ottimizzati sono:"
   ]
  },
  {
   "cell_type": "code",
   "execution_count": 232,
   "metadata": {},
   "outputs": [
    {
     "data": {
      "text/plain": [
       "[Parameter containing:\n",
       " tensor([[13.9414]], requires_grad=True), Parameter containing:\n",
       " tensor([0.4064], requires_grad=True)]"
      ]
     },
     "execution_count": 232,
     "metadata": {},
     "output_type": "execute_result"
    }
   ],
   "source": [
    "list(model1.parameters())"
   ]
  },
  {
   "cell_type": "markdown",
   "metadata": {},
   "source": [
    "Come si vede il model.weight è molto vicino al valore di $m = 13.5$ che avevamo usato per generare il dataset.<br>\n",
    "Il valore di q invece si discosta abbastanza, 12 contro -0.2154<br>\n",
    "Qualche <strong>ipotesi</strong> sul perché di questa discrepanza?"
   ]
  },
  {
   "cell_type": "markdown",
   "metadata": {},
   "source": [
    "### Modello di regressione lineare multidimensionale"
   ]
  },
  {
   "cell_type": "markdown",
   "metadata": {},
   "source": [
    "Facciamo un esempio con più variabili di ingresso. 4 ingressi per essere precisi.\n",
    "Questi sono gli step:\n",
    "- genero un dataset\n",
    "- creo il modello di regressione lineare\n",
    "- definisco una funzione errore e un ottimizzatore\n",
    "- faccio il training del modello"
   ]
  },
  {
   "cell_type": "markdown",
   "metadata": {},
   "source": [
    "#### Genero un dataset"
   ]
  },
  {
   "cell_type": "markdown",
   "metadata": {},
   "source": [
    "Creo un dataset di 1000 punti $(x_1,x_2,x_3,x_4,y)$. <br>\n",
    "Per i dati di ingresso uso la funzione torch.linspace. <br>\n",
    "I dati di uscita sono una combinazione lineare degli ingressi, i coefficienti $m_i$ sono stati scelti in modo che ogni ingresso contribuisca sull'uscita.   "
   ]
  },
  {
   "cell_type": "code",
   "execution_count": 233,
   "metadata": {},
   "outputs": [],
   "source": [
    "#x1 = torch.linspace(0,100,100).view(-1,1)\n",
    "#x2 = torch.linspace(-1,1,100).view(-1,1)\n",
    "#x3 = torch.linspace(-10,0,100).view(-1,1)\n",
    "#x4 = torch.linspace(75,150,100).view(-1,1)\n",
    "x1 = np.linspace(0,100,50)\n",
    "x2 = np.linspace(-1,1,50)\n",
    "x3 = np.linspace(-10,0,50)\n",
    "x4 = np.linspace(75,150,50)\n",
    "\n",
    "m1, m2, m3, m4 = 0.5, 25, 50, -0.66 #coeff angolare per ogni direzione\n",
    "M = torch.tensor([m1,m2,m3,m4]).view([-1,1]) #combino i coeff angolari in un vettore colonna\n",
    "\n",
    "# X = torch.from_numpy(x_comb).type(torch.float) # setto float altrimenti si setta automaticamente double e da errore\n",
    "\n",
    "\n",
    "# y_samples = m1 * x1 + m2 * x2 + m3 * x3 + m4 * x4 \n",
    "# y_samples = torch.from_numpy(y_samples).type(torch.float)"
   ]
  },
  {
   "cell_type": "markdown",
   "metadata": {},
   "source": [
    "Genero uno spazio a 4 dimensioni, usando le coordinate x1,x2,x3,x4:"
   ]
  },
  {
   "cell_type": "code",
   "execution_count": 234,
   "metadata": {},
   "outputs": [
    {
     "data": {
      "text/plain": [
       "(6250000, 4)"
      ]
     },
     "execution_count": 234,
     "metadata": {},
     "output_type": "execute_result"
    }
   ],
   "source": [
    "x_comb = np.array([[x1[i],x2[j],x3[l],x4[m]] \n",
    "      for i in range(x1.shape[0]) \n",
    "      for j in range(x2.shape[0]) \n",
    "      for l in range(x3.shape[0]) \n",
    "      for m in range(x4.shape[0])])\n",
    "\n",
    "x_comb.shape"
   ]
  },
  {
   "cell_type": "code",
   "execution_count": 235,
   "metadata": {},
   "outputs": [
    {
     "data": {
      "text/plain": [
       "array([[  0.        ,  -1.        , -10.        ,  75.        ],\n",
       "       [  0.        ,  -1.        , -10.        ,  76.53061224],\n",
       "       [  0.        ,  -1.        , -10.        ,  78.06122449],\n",
       "       ...,\n",
       "       [100.        ,   1.        ,   0.        , 146.93877551],\n",
       "       [100.        ,   1.        ,   0.        , 148.46938776],\n",
       "       [100.        ,   1.        ,   0.        , 150.        ]])"
      ]
     },
     "execution_count": 235,
     "metadata": {},
     "output_type": "execute_result"
    }
   ],
   "source": [
    "x_comb"
   ]
  },
  {
   "cell_type": "markdown",
   "metadata": {},
   "source": [
    "Converto x_comb in un tensore e setto il tipo su flot(=float32), poichè il tipo double(=float64) genera un errore: "
   ]
  },
  {
   "cell_type": "code",
   "execution_count": 236,
   "metadata": {},
   "outputs": [],
   "source": [
    "X = torch.from_numpy(x_comb).type(torch.float)"
   ]
  },
  {
   "cell_type": "markdown",
   "metadata": {},
   "source": [
    "Calcolo l'uscita del modello lineare:"
   ]
  },
  {
   "cell_type": "code",
   "execution_count": 237,
   "metadata": {},
   "outputs": [
    {
     "data": {
      "text/plain": [
       "torch.Size([6250000, 1])"
      ]
     },
     "execution_count": 237,
     "metadata": {},
     "output_type": "execute_result"
    }
   ],
   "source": [
    "y_samples = torch.mm(X,M)\n",
    "y_samples.shape"
   ]
  },
  {
   "cell_type": "markdown",
   "metadata": {},
   "source": [
    "Così ho completato la geneerazione del set di dati (x_samples, y_samples)"
   ]
  },
  {
   "cell_type": "code",
   "execution_count": null,
   "metadata": {},
   "outputs": [],
   "source": []
  },
  {
   "cell_type": "code",
   "execution_count": null,
   "metadata": {},
   "outputs": [],
   "source": []
  },
  {
   "cell_type": "code",
   "execution_count": null,
   "metadata": {},
   "outputs": [],
   "source": []
  },
  {
   "cell_type": "code",
   "execution_count": null,
   "metadata": {},
   "outputs": [],
   "source": []
  },
  {
   "cell_type": "markdown",
   "metadata": {},
   "source": [
    "#### Creazione modello Lineare"
   ]
  },
  {
   "cell_type": "markdown",
   "metadata": {},
   "source": [
    "Definiamo il modello:"
   ]
  },
  {
   "cell_type": "code",
   "execution_count": 238,
   "metadata": {},
   "outputs": [],
   "source": [
    "model2 = torch.nn.Linear(4,1)"
   ]
  },
  {
   "cell_type": "markdown",
   "metadata": {},
   "source": [
    "Questi sono i parametri, inizializzati in maniera random:"
   ]
  },
  {
   "cell_type": "code",
   "execution_count": 239,
   "metadata": {},
   "outputs": [
    {
     "data": {
      "text/plain": [
       "(Parameter containing:\n",
       " tensor([[-0.0945,  0.4658, -0.2377,  0.1200]], requires_grad=True),\n",
       " Parameter containing:\n",
       " tensor([0.0227], requires_grad=True))"
      ]
     },
     "execution_count": 239,
     "metadata": {},
     "output_type": "execute_result"
    }
   ],
   "source": [
    "model2.weight, model2.bias"
   ]
  },
  {
   "cell_type": "markdown",
   "metadata": {},
   "source": [
    "Concateniamo i tensori unidimensionali di ingresso per avere un tensore 1000x4 da usare come ingresso del modello.<br> \n",
    "Usiamo <strong>torch.cat</strong>, il secondo parametro fornito indicato che lo stack deve essere fatto mettendo i vettori colonna uno accanto all'altro )"
   ]
  },
  {
   "cell_type": "code",
   "execution_count": 240,
   "metadata": {},
   "outputs": [],
   "source": [
    "# x1 = torch.linspace(0,100,100).view(-1,1)\n",
    "# x2 = torch.linspace(-1,1,100).view(-1,1)\n",
    "# x3 = torch.linspace(-10,0,100).view(-1,1)\n",
    "# x4 = torch.linspace(75,150,100).view(-1,1)"
   ]
  },
  {
   "cell_type": "code",
   "execution_count": 241,
   "metadata": {},
   "outputs": [],
   "source": [
    "# X = torch.cat((x1,x2,x3,x4),1)\n",
    "#X = torch.from_numpy(x_comb).type(torch.float) # setto float altrimenti si setta automaticamente double e da errore\n",
    "#X.shape"
   ]
  },
  {
   "cell_type": "markdown",
   "metadata": {},
   "source": [
    "Verifichiamo il tipo dei dati:"
   ]
  },
  {
   "cell_type": "code",
   "execution_count": 242,
   "metadata": {},
   "outputs": [
    {
     "data": {
      "text/plain": [
       "'torch.FloatTensor'"
      ]
     },
     "execution_count": 242,
     "metadata": {},
     "output_type": "execute_result"
    }
   ],
   "source": [
    "X.type()"
   ]
  },
  {
   "cell_type": "markdown",
   "metadata": {},
   "source": [
    "Calcolo l'uscita del modello lineare, e verifico che lo shape dell'uscita si giusta.<br>\n",
    "1000 punti di ingresso, ne generano altrettanti in uscita, pertanto è corretto."
   ]
  },
  {
   "cell_type": "code",
   "execution_count": 243,
   "metadata": {},
   "outputs": [
    {
     "data": {
      "text/plain": [
       "torch.Size([6250000, 1])"
      ]
     },
     "execution_count": 243,
     "metadata": {},
     "output_type": "execute_result"
    }
   ],
   "source": [
    "y_linmod = model2(X)\n",
    "y_linmod.shape"
   ]
  },
  {
   "cell_type": "markdown",
   "metadata": {},
   "source": [
    "L'errore quadratico medio è:"
   ]
  },
  {
   "cell_type": "code",
   "execution_count": 244,
   "metadata": {},
   "outputs": [
    {
     "data": {
      "text/plain": [
       "tensor(118333.0781, grad_fn=<MeanBackward0>)"
      ]
     },
     "execution_count": 244,
     "metadata": {},
     "output_type": "execute_result"
    }
   ],
   "source": [
    "errore = torch.mean(torch.pow(y_samples-y_linmod,2))\n",
    "errore"
   ]
  },
  {
   "cell_type": "markdown",
   "metadata": {},
   "source": [
    "Plottiamo le uscite generate e confrontiamole con quelle del dataset.<br>\n",
    "Sull'asse x metto l'ordinale del punto."
   ]
  },
  {
   "cell_type": "code",
   "execution_count": 245,
   "metadata": {},
   "outputs": [],
   "source": [
    "asse_x = np.linspace(0, X.shape[0]-1, num=X.shape[0])"
   ]
  },
  {
   "cell_type": "code",
   "execution_count": 246,
   "metadata": {},
   "outputs": [],
   "source": [
    "def downsample_4_plot(asse_x, downsample_factor):\n",
    "    asse_x_dwnsmpl = asse_x[0:-1:downsample_factor]\n",
    "    return asse_x_dwnsmpl"
   ]
  },
  {
   "cell_type": "code",
   "execution_count": null,
   "metadata": {},
   "outputs": [],
   "source": []
  },
  {
   "cell_type": "code",
   "execution_count": 247,
   "metadata": {},
   "outputs": [
    {
     "data": {
      "text/plain": [
       "(250,)"
      ]
     },
     "execution_count": 247,
     "metadata": {},
     "output_type": "execute_result"
    }
   ],
   "source": [
    "downsample_factor = 25000\n",
    "asse_x_dwnsmpl = downsample_4_plot(asse_x,downsample_factor)\n",
    "y_samples_dwnsmpl = downsample_4_plot(y_samples, downsample_factor)\n",
    "y_linmod_dwnsmpl = downsample_4_plot(y_linmod, downsample_factor)\n",
    "asse_x_dwnsmpl.shape"
   ]
  },
  {
   "cell_type": "code",
   "execution_count": 248,
   "metadata": {},
   "outputs": [
    {
     "data": {
      "text/plain": [
       "torch.Size([250, 1])"
      ]
     },
     "execution_count": 248,
     "metadata": {},
     "output_type": "execute_result"
    }
   ],
   "source": [
    "y_linmod_dwnsmpl = downsample_4_plot(y_linmod, downsample_factor)\n",
    "y_linmod_dwnsmpl.shape"
   ]
  },
  {
   "cell_type": "code",
   "execution_count": 249,
   "metadata": {},
   "outputs": [
    {
     "data": {
      "text/plain": [
       "((6250000,),\n",
       " torch.Size([6250000, 4]),\n",
       " torch.Size([6250000, 1]),\n",
       " torch.Size([6250000, 1]))"
      ]
     },
     "execution_count": 249,
     "metadata": {},
     "output_type": "execute_result"
    }
   ],
   "source": [
    "asse_x.shape, X.shape, y_samples.shape, y_linmod.shape"
   ]
  },
  {
   "cell_type": "code",
   "execution_count": 250,
   "metadata": {},
   "outputs": [
    {
     "data": {
      "text/plain": [
       "(250,)"
      ]
     },
     "execution_count": 250,
     "metadata": {},
     "output_type": "execute_result"
    }
   ],
   "source": [
    "asse_x[0:-1:downsample_factor].shape"
   ]
  },
  {
   "cell_type": "code",
   "execution_count": 251,
   "metadata": {},
   "outputs": [
    {
     "data": {
      "text/plain": [
       "25000"
      ]
     },
     "execution_count": 251,
     "metadata": {},
     "output_type": "execute_result"
    }
   ],
   "source": [
    "downsample_factor"
   ]
  },
  {
   "cell_type": "code",
   "execution_count": 252,
   "metadata": {},
   "outputs": [
    {
     "data": {
      "text/plain": [
       "[<matplotlib.lines.Line2D at 0x2280883fac8>]"
      ]
     },
     "execution_count": 252,
     "metadata": {},
     "output_type": "execute_result"
    },
    {
     "data": {
      "image/png": "[encoded data removed]",
      "text/plain": [
       "<Figure size 432x288 with 1 Axes>"
      ]
     },
     "metadata": {
      "needs_background": "light"
     },
     "output_type": "display_data"
    }
   ],
   "source": [
    "plt.plot(asse_x,y_samples.detach().numpy())"
   ]
  },
  {
   "cell_type": "code",
   "execution_count": 253,
   "metadata": {},
   "outputs": [
    {
     "data": {
      "text/plain": [
       "array([[-574.5    ],\n",
       "       [-564.2959 ],\n",
       "       [-554.09186],\n",
       "       [-543.88776],\n",
       "       [-533.6837 ],\n",
       "       [-573.4796 ],\n",
       "       [-563.2755 ],\n",
       "       [-553.0715 ]], dtype=float32)"
      ]
     },
     "execution_count": 253,
     "metadata": {},
     "output_type": "execute_result"
    }
   ],
   "source": [
    "y_samples.numpy()[0:200000:downsample_factor]"
   ]
  },
  {
   "cell_type": "code",
   "execution_count": 254,
   "metadata": {},
   "outputs": [
    {
     "data": {
      "text/plain": [
       "(250, 1)"
      ]
     },
     "execution_count": 254,
     "metadata": {},
     "output_type": "execute_result"
    }
   ],
   "source": [
    "y_linmod.detach().numpy()[0:-1:downsample_factor].shape"
   ]
  },
  {
   "cell_type": "code",
   "execution_count": 255,
   "metadata": {},
   "outputs": [
    {
     "data": {
      "image/png": "[encoded data removed]",
      "text/plain": [
       "<Figure size 432x288 with 1 Axes>"
      ]
     },
     "metadata": {
      "needs_background": "light"
     },
     "output_type": "display_data"
    }
   ],
   "source": [
    "plt.scatter(asse_x[0:-1:downsample_factor],y_samples.numpy()[0:-1:downsample_factor], label=\"dataset\")\n",
    "plt.scatter(asse_x[0:-1:downsample_factor],y_linmod.detach().numpy()[0:-1:downsample_factor],c='r', label=\"linear model\")\n",
    "plt.legend()\n",
    "plt.show()"
   ]
  },
  {
   "cell_type": "markdown",
   "metadata": {},
   "source": [
    "Definiamo il SGD come ottimizzatore, indichiamo che i parametri di ottimizzazione sono quelli di model2, e gli diamo un passo di apprendimento abbastanza piccolo da essere sicuri che converga, ma senza essere troppo lenti, dopo qualche iterazione sono arrivato a 5e-5:"
   ]
  },
  {
   "cell_type": "code",
   "execution_count": 256,
   "metadata": {},
   "outputs": [],
   "source": [
    "model2 = torch.nn.Linear(4,1) #ridefinisco il modello per azzerare i calcoli precedenti\n",
    "optimizer = torch.optim.SGD(model2.parameters(), 5e-5)"
   ]
  },
  {
   "cell_type": "markdown",
   "metadata": {},
   "source": [
    "Adesso sono pronto ad eseguire il training del modello.<br>\n",
    "I passi sono i soliti:<br>\n",
    "-calcolo dell'uscita<br>\n",
    "-calcolo dell'errore<br>\n",
    "-calcolo del gradiente (errore.backward)<br>\n",
    "-aggionamento dei parametri (optimizer.step)<br>\n",
    "-reset del gradiente (optimizer.zero_grad)"
   ]
  },
  {
   "cell_type": "code",
   "execution_count": 257,
   "metadata": {},
   "outputs": [
    {
     "data": {
      "image/png": "[encoded data removed]",
      "text/plain": [
       "<Figure size 432x288 with 1 Axes>"
      ]
     },
     "metadata": {
      "needs_background": "light"
     },
     "output_type": "display_data"
    },
    {
     "data": {
      "image/png": "[encoded data removed]",
      "text/plain": [
       "<Figure size 432x288 with 1 Axes>"
      ]
     },
     "metadata": {
      "needs_background": "light"
     },
     "output_type": "display_data"
    },
    {
     "data": {
      "image/png": "[encoded data removed]",
      "text/plain": [
       "<Figure size 432x288 with 1 Axes>"
      ]
     },
     "metadata": {
      "needs_background": "light"
     },
     "output_type": "display_data"
    },
    {
     "data": {
      "image/png": "[encoded data removed]",
      "text/plain": [
       "<Figure size 432x288 with 1 Axes>"
      ]
     },
     "metadata": {
      "needs_background": "light"
     },
     "output_type": "display_data"
    },
    {
     "data": {
      "image/png": "[encoded data removed]",
      "text/plain": [
       "<Figure size 432x288 with 1 Axes>"
      ]
     },
     "metadata": {
      "needs_background": "light"
     },
     "output_type": "display_data"
    },
    {
     "data": {
      "image/png": "[encoded data removed]",
      "text/plain": [
       "<Figure size 432x288 with 1 Axes>"
      ]
     },
     "metadata": {
      "needs_background": "light"
     },
     "output_type": "display_data"
    }
   ],
   "source": [
    "for itr in range(501):\n",
    "    y_linmod = model2(X)   #calcolo l'uscita con il modello corrente\n",
    "    errore = torch.mean(torch.pow(y_samples-y_linmod,2)) #calcolo l'errore tra l'uscita desiderata e l'uscita corrente\n",
    "    errore.backward()      #applico la funzione backward, le derivate parziali dell'errore vengono calcolate rispetto alle variabili per cui è definito required_grad=True\n",
    "    optimizer.step()       #aggiornamento dei parametri da ottimizzare usando le derivate calcolate nel passo precedente\n",
    "    optimizer.zero_grad()  #azzero i gradienti\n",
    "    if ((itr==0) or (itr==100) or (itr==200) or (itr==300) or (itr==400) or (itr==500)) : #genera il grafico agli step fissati \n",
    "        \n",
    "        plt.scatter(downsample_4_plot(asse_x,downsample_factor),\n",
    "                    downsample_4_plot(y_samples, downsample_factor).numpy(),\n",
    "                    label=\"dataset\", c='g', s=200)\n",
    "        plt.scatter(downsample_4_plot(asse_x,downsample_factor),\n",
    "                    downsample_4_plot(y_linmod, downsample_factor).detach().numpy().reshape(1,-1),\n",
    "                    c='r', label=\"linear model\",s=0.5)\n",
    "        plt.legend()\n",
    "        plt.title('Dopo %d iterazioni - Errore= %1.2f' %(itr,errore))\n",
    "        plt.show()"
   ]
  },
  {
   "cell_type": "markdown",
   "metadata": {},
   "source": [
    "Come si vede dopo 500 iterazioni l'errore è abbastanza alto e la convergenza abbastanza lenta.<br>"
   ]
  },
  {
   "cell_type": "markdown",
   "metadata": {},
   "source": [
    "Se provo ad alzare il learning rate, l'errore inizia a divergere, per cui non è una strada praticabile.<br>\n",
    "La domanda che mi pongo è: come mai con un learning rate così basso (5e-5) la convergenza è così critica che basta alzare il learning rate di poco (per esempio 1e-4) perché la convergenga sia compromessa.<br>\n",
    "La risposta che riesco a darmi è che gli ordini di grandezza delle variabili d'ingresso sono diversi, per cui lo spostamento del punto (dipendente dal learning rate e dal gradiente) deve essere compatibile con tutte le variabili, pertanto deve essere piccolo.<br>\n",
    "Vediamo se riesco a velocizzare la convergenza <strong>normalizzando</strong> le variabili $x_1, x_2, x_3, x_4$."
   ]
  },
  {
   "cell_type": "markdown",
   "metadata": {},
   "source": [
    "Normalizziamo le coordinate."
   ]
  },
  {
   "cell_type": "code",
   "execution_count": 258,
   "metadata": {},
   "outputs": [],
   "source": [
    "m = X.min(dim=0)                     #valore minimo per ogni colonna di X\n",
    "M = X.max(dim=0)                     #valore massimo per ogni colonna\n",
    "u = (M.values+m.values)/2            #valor medio per ogni colonna\n",
    "d = (M.values-m.values).view([1,-1]) #intervallo min-max, per ogni colonna"
   ]
  },
  {
   "cell_type": "markdown",
   "metadata": {},
   "source": [
    "Ad ogni coordinata sottraggo il suo valor medio e divido per l'intervallo di variazione:\n",
    "\\begin{equation*}\n",
    "\\hat{x_i} =  \\frac {x_i - u}{d} \\hspace{1cm} \\forall i=1,2,3,4\n",
    "\\end{equation*}"
   ]
  },
  {
   "cell_type": "markdown",
   "metadata": {},
   "source": [
    "Il nuovo set di coordinate è $\\hat{x_1},\\hat{x_2},\\hat{x_3},\\hat{x_4}$.<br>\n",
    "Per fare questo calcolo uso <strong>torch.mul</strong> che realizza una moltiplicazione elemento-per-elemento tra i due operatori. Es.:<br>\n",
    "\\begin{equation}\n",
    "\\begin{bmatrix}\n",
    "a_{11} & a_{12} \\\\\n",
    "a_{21} & a_{22} \\\\\n",
    "a_{31} & a_{32}\n",
    "\\end{bmatrix}\n",
    "\\begin{bmatrix}\n",
    "b_1 \\\\\n",
    "b_2\n",
    "\\end{bmatrix}\n",
    "=\n",
    "\\begin{bmatrix}\n",
    "a_{11}*b_1 & a_{12}*b_2 \\\\\n",
    "a_{21}*b_1 & a_{22}*b_2 \\\\\n",
    "a_{31}*b_1 & a_{32}*b_2\n",
    "\\end{bmatrix}\n",
    "\\end{equation}"
   ]
  },
  {
   "cell_type": "code",
   "execution_count": 259,
   "metadata": {},
   "outputs": [],
   "source": [
    "X_norm = torch.mul((X-u),1/d)"
   ]
  },
  {
   "cell_type": "markdown",
   "metadata": {},
   "source": [
    "Azzero il modello e ridefinisco l'ottimizzatore con un learning rate di 0.1"
   ]
  },
  {
   "cell_type": "code",
   "execution_count": 260,
   "metadata": {},
   "outputs": [],
   "source": [
    "model2 = torch.nn.Linear(4,1) #ridefinisco il modello per azzerare i calcoli precedenti\n",
    "optimizer = torch.optim.SGD(model2.parameters(), 0.1)"
   ]
  },
  {
   "cell_type": "markdown",
   "metadata": {},
   "source": [
    "Copio il codice di prima per fare il training del modello, cambio solo l'ingresso, stavolta userò X_norm invece di X."
   ]
  },
  {
   "cell_type": "code",
   "execution_count": 261,
   "metadata": {},
   "outputs": [
    {
     "data": {
      "image/png": "[encoded data removed]",
      "text/plain": [
       "<Figure size 432x288 with 1 Axes>"
      ]
     },
     "metadata": {
      "needs_background": "light"
     },
     "output_type": "display_data"
    },
    {
     "data": {
      "image/png": "[encoded data removed]",
      "text/plain": [
       "<Figure size 432x288 with 1 Axes>"
      ]
     },
     "metadata": {
      "needs_background": "light"
     },
     "output_type": "display_data"
    },
    {
     "data": {
      "image/png": "[encoded data removed]",
      "text/plain": [
       "<Figure size 432x288 with 1 Axes>"
      ]
     },
     "metadata": {
      "needs_background": "light"
     },
     "output_type": "display_data"
    },
    {
     "data": {
      "image/png": "[encoded data removed]",
      "text/plain": [
       "<Figure size 432x288 with 1 Axes>"
      ]
     },
     "metadata": {
      "needs_background": "light"
     },
     "output_type": "display_data"
    },
    {
     "data": {
      "image/png": "[encoded data removed]",
      "text/plain": [
       "<Figure size 432x288 with 1 Axes>"
      ]
     },
     "metadata": {
      "needs_background": "light"
     },
     "output_type": "display_data"
    },
    {
     "data": {
      "image/png": "[encoded data removed]",
      "text/plain": [
       "<Figure size 432x288 with 1 Axes>"
      ]
     },
     "metadata": {
      "needs_background": "light"
     },
     "output_type": "display_data"
    }
   ],
   "source": [
    "for itr in range(501):\n",
    "    y_linmod = model2(X_norm)   #calcolo l'uscita con il modello corrente\n",
    "    errore = torch.mean(torch.pow(y_samples-y_linmod,2)) #calcolo l'errore tra l'uscita desiderata e l'uscita corrente\n",
    "    errore.backward()      #applico la funzione backward, le derivate parziali dell'errore vengono calcolate rispetto alle variabili per cui è definito required_grad=True\n",
    "    optimizer.step()       #aggiornamento dei parametri da ottimizzare usando le derivate calcolate nel passo precedente\n",
    "    optimizer.zero_grad()  #azzero i gradienti\n",
    "    if ((itr==0) or (itr==100) or (itr==200) or (itr==300) or (itr==400) or (itr==500)) : #genera il grafico agli step fissati \n",
    "        \n",
    "        plt.scatter(downsample_4_plot(asse_x,downsample_factor),\n",
    "                    downsample_4_plot(y_samples, downsample_factor).numpy(),\n",
    "                    label=\"dataset\", c='g', s=200)\n",
    "        plt.scatter(downsample_4_plot(asse_x,downsample_factor),\n",
    "                    downsample_4_plot(y_linmod, downsample_factor).detach().numpy().reshape(1,-1),\n",
    "                    c='r', label=\"linear model\",s=1)\n",
    "        plt.legend()\n",
    "        plt.title('Dopo %d iterazioni - Errore= %1.2f' %(itr,errore))\n",
    "        plt.show()"
   ]
  },
  {
   "cell_type": "markdown",
   "metadata": {},
   "source": [
    "Sull'asse y abbiamo i valori di uscita, sull'asse x abbiamo l'ordinale del punto (e non la variabile di ingresso, poichè era impossibile riprodurre i 4 ingressi su grafico).<br>\n",
    "Per come sono fatti i dati, 4 assi ridotti ad un ordinale, sembra che ci siano 5 linee diverse in realta è un artefatto, dovuto al fatto he mi sto ostinando a rappresentare una cosa che non dovrei.<br>\n",
    "I valori desiderati li ho rappresentati con un marker molto spesso in modo che la posizione relativa tra le due curve sia ben visibile specialmente nel caso in cui sono vicine o sovrapposte.<br>\n",
    "Come si vede alla 300esima iterazione i due modelli lineare iniziano a sovrapporsi. Alla 500esima iterazione sono praticamente sovrapposti e l'errore è nullo (o molto basso)."
   ]
  },
  {
   "cell_type": "markdown",
   "metadata": {},
   "source": [
    "Il training ci ha consegnato questi valori dei parametri ottimizzati:"
   ]
  },
  {
   "cell_type": "code",
   "execution_count": 262,
   "metadata": {},
   "outputs": [
    {
     "data": {
      "text/plain": [
       "(Parameter containing:\n",
       " tensor([[ 49.9922,  49.9922, 499.9186, -49.4923]], requires_grad=True),\n",
       " Parameter containing:\n",
       " tensor([-299.2499], requires_grad=True))"
      ]
     },
     "execution_count": 262,
     "metadata": {},
     "output_type": "execute_result"
    }
   ],
   "source": [
    "model2.weight, model2.bias"
   ]
  },
  {
   "cell_type": "markdown",
   "metadata": {},
   "source": [
    "I coefficienti angolari così ottenuti devono essere denormalizzati per tornare allo spazio $\\mathbb{R}^4$ originale.<br>\n",
    "Per farlo divido ciascuna coordinata per il delta $d$ che avevo calcolato qualche step sopra."
   ]
  },
  {
   "cell_type": "markdown",
   "metadata": {},
   "source": [
    "Anche in questo caso faccio una moltiplicazione elemento-per-elemento con <strong>torch.mul</strong>"
   ]
  },
  {
   "cell_type": "code",
   "execution_count": 263,
   "metadata": {},
   "outputs": [
    {
     "data": {
      "text/plain": [
       "tensor([[ 0.4999, 24.9961, 49.9919, -0.6599]], grad_fn=<MulBackward0>)"
      ]
     },
     "execution_count": 263,
     "metadata": {},
     "output_type": "execute_result"
    }
   ],
   "source": [
    "torch.mul(model2.weight,1/d)"
   ]
  },
  {
   "cell_type": "markdown",
   "metadata": {},
   "source": [
    "Facciamo un confronto con i valori usati per generare il dataset:<br>\n",
    "m1 = 0.5 vs 0.4999<br>\n",
    "m2 = 25 vs 24.9961<br>\n",
    "m3 = 50 vs 49.9919<br>\n",
    "m4 = -0.66 vs -0.6599<br>\n",
    "Come si vede i valori trovati sono praticamente perfetti"
   ]
  },
  {
   "cell_type": "markdown",
   "metadata": {},
   "source": [
    "Usando i parametri ottimizzati calcolo l'uscita e l'errore: "
   ]
  },
  {
   "cell_type": "code",
   "execution_count": 264,
   "metadata": {},
   "outputs": [
    {
     "data": {
      "text/plain": [
       "tensor(0.0006, grad_fn=<MeanBackward0>)"
      ]
     },
     "execution_count": 264,
     "metadata": {},
     "output_type": "execute_result"
    }
   ],
   "source": [
    "y_linmod = model2(X_norm)\n",
    "errore = torch.mean(torch.pow(y_samples-y_linmod,2))\n",
    "errore"
   ]
  },
  {
   "cell_type": "markdown",
   "metadata": {},
   "source": [
    "Come atteso l'errore è molto basso."
   ]
  }
 ],
 "metadata": {
  "kernelspec": {
   "display_name": "Python 3",
   "language": "python",
   "name": "python3"
  },
  "language_info": {
   "codemirror_mode": {
    "name": "ipython",
    "version": 3
   },
   "file_extension": ".py",
   "mimetype": "text/x-python",
   "name": "python",
   "nbconvert_exporter": "python",
   "pygments_lexer": "ipython3",
   "version": "3.7.4"
  },
  "toc": {
   "base_numbering": 1,
   "nav_menu": {},
   "number_sections": false,
   "sideBar": false,
   "skip_h1_title": false,
   "title_cell": "Table of Contents",
   "title_sidebar": "Contents",
   "toc_cell": false,
   "toc_position": {},
   "toc_section_display": false,
   "toc_window_display": false
  }
 },
 "nbformat": 4,
 "nbformat_minor": 2
}
