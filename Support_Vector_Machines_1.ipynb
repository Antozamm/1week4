{
 "cells": [
  {
   "cell_type": "markdown",
   "metadata": {},
   "source": [
    "# Support Vector Machines (SVM)"
   ]
  },
  {
   "cell_type": "markdown",
   "metadata": {},
   "source": [
    "Oggi implementiamo un programma per la classificazione usando una support vector machine (SVM).\n",
    "\n",
    "Per i dettagli su cosa è una SVM potete vedere i riferimenti alla fine di questo articolo.\n",
    "\n",
    "L'algoritmo di SVM che useremo è già implementato nel package [scikit-learn](https://scikit-learn.org/stable/) (sklearn per gli amici).\n",
    "Nel gergo di sklearn viene sottolineato che si tratta di una classificazione, per cui viene chiamato support vector classifier (SVC)."
   ]
  },
  {
   "cell_type": "markdown",
   "metadata": {},
   "source": [
    "Importiamo la libreria per una SVC lineare, quindi che usa un kernel lineare (o nessun kernel, a seconda della terminologia preferita):"
   ]
  },
  {
   "cell_type": "code",
   "execution_count": 1,
   "metadata": {},
   "outputs": [],
   "source": [
    "from sklearn.svm import LinearSVC"
   ]
  },
  {
   "cell_type": "code",
   "execution_count": 2,
   "metadata": {},
   "outputs": [],
   "source": [
    "import numpy as np\n",
    "import pandas as pd\n",
    "import matplotlib.pyplot as plt\n",
    "import seaborn as sns\n",
    "from sklearn.preprocessing import LabelBinarizer"
   ]
  },
  {
   "cell_type": "code",
   "execution_count": null,
   "metadata": {},
   "outputs": [],
   "source": []
  },
  {
   "cell_type": "code",
   "execution_count": null,
   "metadata": {},
   "outputs": [],
   "source": []
  },
  {
   "cell_type": "markdown",
   "metadata": {},
   "source": [
    "## Load dataset"
   ]
  },
  {
   "cell_type": "markdown",
   "metadata": {},
   "source": [
    "Carico i dati dal foglio Excel"
   ]
  },
  {
   "cell_type": "code",
   "execution_count": 3,
   "metadata": {},
   "outputs": [],
   "source": [
    "exc1 = pd.read_csv('diabetes.csv')"
   ]
  },
  {
   "cell_type": "code",
   "execution_count": 4,
   "metadata": {},
   "outputs": [],
   "source": [
    "exc2 = pd.read_csv('doctors.csv', encoding = \"ISO-8859-1\")"
   ]
  },
  {
   "cell_type": "markdown",
   "metadata": {},
   "source": [
    "Vediamo cosa contengono i due dataframe appena creati:"
   ]
  },
  {
   "cell_type": "code",
   "execution_count": 5,
   "metadata": {},
   "outputs": [
    {
     "data": {
      "text/html": [
       "<div>\n",
       "<style scoped>\n",
       "    .dataframe tbody tr th:only-of-type {\n",
       "        vertical-align: middle;\n",
       "    }\n",
       "\n",
       "    .dataframe tbody tr th {\n",
       "        vertical-align: top;\n",
       "    }\n",
       "\n",
       "    .dataframe thead th {\n",
       "        text-align: right;\n",
       "    }\n",
       "</style>\n",
       "<table border=\"1\" class=\"dataframe\">\n",
       "  <thead>\n",
       "    <tr style=\"text-align: right;\">\n",
       "      <th></th>\n",
       "      <th>PatientID</th>\n",
       "      <th>Pregnancies</th>\n",
       "      <th>PlasmaGlucose</th>\n",
       "      <th>DiastolicBloodPressure</th>\n",
       "      <th>TricepsThickness</th>\n",
       "      <th>SerumInsulin</th>\n",
       "      <th>BMI</th>\n",
       "      <th>DiabetesPedigree</th>\n",
       "      <th>Age</th>\n",
       "      <th>Diabetic</th>\n",
       "    </tr>\n",
       "  </thead>\n",
       "  <tbody>\n",
       "    <tr>\n",
       "      <th>0</th>\n",
       "      <td>1354778</td>\n",
       "      <td>0</td>\n",
       "      <td>171</td>\n",
       "      <td>80</td>\n",
       "      <td>34</td>\n",
       "      <td>23</td>\n",
       "      <td>43.509726</td>\n",
       "      <td>1.213191</td>\n",
       "      <td>21</td>\n",
       "      <td>0</td>\n",
       "    </tr>\n",
       "    <tr>\n",
       "      <th>1</th>\n",
       "      <td>1147438</td>\n",
       "      <td>8</td>\n",
       "      <td>92</td>\n",
       "      <td>93</td>\n",
       "      <td>47</td>\n",
       "      <td>36</td>\n",
       "      <td>21.240576</td>\n",
       "      <td>0.158365</td>\n",
       "      <td>23</td>\n",
       "      <td>0</td>\n",
       "    </tr>\n",
       "    <tr>\n",
       "      <th>2</th>\n",
       "      <td>1640031</td>\n",
       "      <td>7</td>\n",
       "      <td>115</td>\n",
       "      <td>47</td>\n",
       "      <td>52</td>\n",
       "      <td>35</td>\n",
       "      <td>41.511523</td>\n",
       "      <td>0.079019</td>\n",
       "      <td>23</td>\n",
       "      <td>0</td>\n",
       "    </tr>\n",
       "    <tr>\n",
       "      <th>3</th>\n",
       "      <td>1883350</td>\n",
       "      <td>9</td>\n",
       "      <td>103</td>\n",
       "      <td>78</td>\n",
       "      <td>25</td>\n",
       "      <td>304</td>\n",
       "      <td>29.582192</td>\n",
       "      <td>1.282870</td>\n",
       "      <td>43</td>\n",
       "      <td>1</td>\n",
       "    </tr>\n",
       "    <tr>\n",
       "      <th>4</th>\n",
       "      <td>1424119</td>\n",
       "      <td>1</td>\n",
       "      <td>85</td>\n",
       "      <td>59</td>\n",
       "      <td>27</td>\n",
       "      <td>35</td>\n",
       "      <td>42.604536</td>\n",
       "      <td>0.549542</td>\n",
       "      <td>22</td>\n",
       "      <td>0</td>\n",
       "    </tr>\n",
       "  </tbody>\n",
       "</table>\n",
       "</div>"
      ],
      "text/plain": [
       "   PatientID  Pregnancies  PlasmaGlucose  DiastolicBloodPressure  \\\n",
       "0    1354778            0            171                      80   \n",
       "1    1147438            8             92                      93   \n",
       "2    1640031            7            115                      47   \n",
       "3    1883350            9            103                      78   \n",
       "4    1424119            1             85                      59   \n",
       "\n",
       "   TricepsThickness  SerumInsulin        BMI  DiabetesPedigree  Age  Diabetic  \n",
       "0                34            23  43.509726          1.213191   21         0  \n",
       "1                47            36  21.240576          0.158365   23         0  \n",
       "2                52            35  41.511523          0.079019   23         0  \n",
       "3                25           304  29.582192          1.282870   43         1  \n",
       "4                27            35  42.604536          0.549542   22         0  "
      ]
     },
     "execution_count": 5,
     "metadata": {},
     "output_type": "execute_result"
    }
   ],
   "source": [
    "exc1.head()"
   ]
  },
  {
   "cell_type": "code",
   "execution_count": 6,
   "metadata": {},
   "outputs": [
    {
     "data": {
      "text/html": [
       "<div>\n",
       "<style scoped>\n",
       "    .dataframe tbody tr th:only-of-type {\n",
       "        vertical-align: middle;\n",
       "    }\n",
       "\n",
       "    .dataframe tbody tr th {\n",
       "        vertical-align: top;\n",
       "    }\n",
       "\n",
       "    .dataframe thead th {\n",
       "        text-align: right;\n",
       "    }\n",
       "</style>\n",
       "<table border=\"1\" class=\"dataframe\">\n",
       "  <thead>\n",
       "    <tr style=\"text-align: right;\">\n",
       "      <th></th>\n",
       "      <th>PatientID</th>\n",
       "      <th>Physician</th>\n",
       "    </tr>\n",
       "  </thead>\n",
       "  <tbody>\n",
       "    <tr>\n",
       "      <th>0</th>\n",
       "      <td>1000038</td>\n",
       "      <td>Jeanne Vestergaard</td>\n",
       "    </tr>\n",
       "    <tr>\n",
       "      <th>1</th>\n",
       "      <td>1000069</td>\n",
       "      <td>Sheldon Comeaux</td>\n",
       "    </tr>\n",
       "    <tr>\n",
       "      <th>2</th>\n",
       "      <td>1000118</td>\n",
       "      <td>Brain Dulaney</td>\n",
       "    </tr>\n",
       "    <tr>\n",
       "      <th>3</th>\n",
       "      <td>1000183</td>\n",
       "      <td>Alaine Poisson</td>\n",
       "    </tr>\n",
       "    <tr>\n",
       "      <th>4</th>\n",
       "      <td>1000326</td>\n",
       "      <td>Erik Collado</td>\n",
       "    </tr>\n",
       "  </tbody>\n",
       "</table>\n",
       "</div>"
      ],
      "text/plain": [
       "   PatientID           Physician\n",
       "0    1000038  Jeanne Vestergaard\n",
       "1    1000069     Sheldon Comeaux\n",
       "2    1000118       Brain Dulaney\n",
       "3    1000183      Alaine Poisson\n",
       "4    1000326        Erik Collado"
      ]
     },
     "execution_count": 6,
     "metadata": {},
     "output_type": "execute_result"
    }
   ],
   "source": [
    "exc2.head()"
   ]
  },
  {
   "cell_type": "markdown",
   "metadata": {},
   "source": [
    "Nel primo dataframe ho una serie di dati riguardanti i pazienti e la label **Diabetic**, che indica se il paziente è diabetico o meno.\n",
    "Il secondo dataframe contiene l'informazione dottore per ogni paziente.\n",
    "Il modello che vogliamo costruire deve essere in grado di prevedere se il paziente è diabetico, sulla base dei dati anamnesici e delle misure mediche del paziente."
   ]
  },
  {
   "cell_type": "markdown",
   "metadata": {},
   "source": [
    "## Preprocessing dei dati"
   ]
  },
  {
   "cell_type": "markdown",
   "metadata": {},
   "source": [
    "I due dataframe exc1 e exc2 contengono tutti e due un PatientID, per cui devo concatenare i due dataframe orizzontalmente in base al PatientID."
   ]
  },
  {
   "cell_type": "code",
   "execution_count": 7,
   "metadata": {},
   "outputs": [
    {
     "data": {
      "text/html": [
       "<div>\n",
       "<style scoped>\n",
       "    .dataframe tbody tr th:only-of-type {\n",
       "        vertical-align: middle;\n",
       "    }\n",
       "\n",
       "    .dataframe tbody tr th {\n",
       "        vertical-align: top;\n",
       "    }\n",
       "\n",
       "    .dataframe thead th {\n",
       "        text-align: right;\n",
       "    }\n",
       "</style>\n",
       "<table border=\"1\" class=\"dataframe\">\n",
       "  <thead>\n",
       "    <tr style=\"text-align: right;\">\n",
       "      <th></th>\n",
       "      <th>PatientID</th>\n",
       "      <th>Pregnancies</th>\n",
       "      <th>PlasmaGlucose</th>\n",
       "      <th>DiastolicBloodPressure</th>\n",
       "      <th>TricepsThickness</th>\n",
       "      <th>SerumInsulin</th>\n",
       "      <th>BMI</th>\n",
       "      <th>DiabetesPedigree</th>\n",
       "      <th>Age</th>\n",
       "      <th>Diabetic</th>\n",
       "      <th>Physician</th>\n",
       "    </tr>\n",
       "  </thead>\n",
       "  <tbody>\n",
       "    <tr>\n",
       "      <th>0</th>\n",
       "      <td>1354778</td>\n",
       "      <td>0</td>\n",
       "      <td>171</td>\n",
       "      <td>80</td>\n",
       "      <td>34</td>\n",
       "      <td>23</td>\n",
       "      <td>43.509726</td>\n",
       "      <td>1.213191</td>\n",
       "      <td>21</td>\n",
       "      <td>0</td>\n",
       "      <td>Dan Drayton</td>\n",
       "    </tr>\n",
       "    <tr>\n",
       "      <th>1</th>\n",
       "      <td>1147438</td>\n",
       "      <td>8</td>\n",
       "      <td>92</td>\n",
       "      <td>93</td>\n",
       "      <td>47</td>\n",
       "      <td>36</td>\n",
       "      <td>21.240576</td>\n",
       "      <td>0.158365</td>\n",
       "      <td>23</td>\n",
       "      <td>0</td>\n",
       "      <td>Anthony Frizzell</td>\n",
       "    </tr>\n",
       "    <tr>\n",
       "      <th>2</th>\n",
       "      <td>1640031</td>\n",
       "      <td>7</td>\n",
       "      <td>115</td>\n",
       "      <td>47</td>\n",
       "      <td>52</td>\n",
       "      <td>35</td>\n",
       "      <td>41.511523</td>\n",
       "      <td>0.079019</td>\n",
       "      <td>23</td>\n",
       "      <td>0</td>\n",
       "      <td>Gordon Fredrickson</td>\n",
       "    </tr>\n",
       "    <tr>\n",
       "      <th>3</th>\n",
       "      <td>1883350</td>\n",
       "      <td>9</td>\n",
       "      <td>103</td>\n",
       "      <td>78</td>\n",
       "      <td>25</td>\n",
       "      <td>304</td>\n",
       "      <td>29.582192</td>\n",
       "      <td>1.282870</td>\n",
       "      <td>43</td>\n",
       "      <td>1</td>\n",
       "      <td>Chad Corbitt</td>\n",
       "    </tr>\n",
       "    <tr>\n",
       "      <th>4</th>\n",
       "      <td>1424119</td>\n",
       "      <td>1</td>\n",
       "      <td>85</td>\n",
       "      <td>59</td>\n",
       "      <td>27</td>\n",
       "      <td>35</td>\n",
       "      <td>42.604536</td>\n",
       "      <td>0.549542</td>\n",
       "      <td>22</td>\n",
       "      <td>0</td>\n",
       "      <td>Zachary Fellows</td>\n",
       "    </tr>\n",
       "  </tbody>\n",
       "</table>\n",
       "</div>"
      ],
      "text/plain": [
       "   PatientID  Pregnancies  PlasmaGlucose  DiastolicBloodPressure  \\\n",
       "0    1354778            0            171                      80   \n",
       "1    1147438            8             92                      93   \n",
       "2    1640031            7            115                      47   \n",
       "3    1883350            9            103                      78   \n",
       "4    1424119            1             85                      59   \n",
       "\n",
       "   TricepsThickness  SerumInsulin        BMI  DiabetesPedigree  Age  Diabetic  \\\n",
       "0                34            23  43.509726          1.213191   21         0   \n",
       "1                47            36  21.240576          0.158365   23         0   \n",
       "2                52            35  41.511523          0.079019   23         0   \n",
       "3                25           304  29.582192          1.282870   43         1   \n",
       "4                27            35  42.604536          0.549542   22         0   \n",
       "\n",
       "            Physician  \n",
       "0         Dan Drayton  \n",
       "1    Anthony Frizzell  \n",
       "2  Gordon Fredrickson  \n",
       "3        Chad Corbitt  \n",
       "4     Zachary Fellows  "
      ]
     },
     "execution_count": 7,
     "metadata": {},
     "output_type": "execute_result"
    }
   ],
   "source": [
    "lista_pazienti = pd.merge(exc1, exc2, on='PatientID', how='outer')\n",
    "lista_pazienti.head()"
   ]
  },
  {
   "cell_type": "markdown",
   "metadata": {},
   "source": [
    "Vediamo un riassunto delle proprietà statistiche del dataframe."
   ]
  },
  {
   "cell_type": "code",
   "execution_count": 8,
   "metadata": {},
   "outputs": [
    {
     "data": {
      "text/html": [
       "<div>\n",
       "<style scoped>\n",
       "    .dataframe tbody tr th:only-of-type {\n",
       "        vertical-align: middle;\n",
       "    }\n",
       "\n",
       "    .dataframe tbody tr th {\n",
       "        vertical-align: top;\n",
       "    }\n",
       "\n",
       "    .dataframe thead th {\n",
       "        text-align: right;\n",
       "    }\n",
       "</style>\n",
       "<table border=\"1\" class=\"dataframe\">\n",
       "  <thead>\n",
       "    <tr style=\"text-align: right;\">\n",
       "      <th></th>\n",
       "      <th>PatientID</th>\n",
       "      <th>Pregnancies</th>\n",
       "      <th>PlasmaGlucose</th>\n",
       "      <th>DiastolicBloodPressure</th>\n",
       "      <th>TricepsThickness</th>\n",
       "      <th>SerumInsulin</th>\n",
       "      <th>BMI</th>\n",
       "      <th>DiabetesPedigree</th>\n",
       "      <th>Age</th>\n",
       "      <th>Diabetic</th>\n",
       "    </tr>\n",
       "  </thead>\n",
       "  <tbody>\n",
       "    <tr>\n",
       "      <th>count</th>\n",
       "      <td>1.500000e+04</td>\n",
       "      <td>15000.000000</td>\n",
       "      <td>15000.000000</td>\n",
       "      <td>15000.000000</td>\n",
       "      <td>15000.000000</td>\n",
       "      <td>15000.000000</td>\n",
       "      <td>15000.000000</td>\n",
       "      <td>15000.000000</td>\n",
       "      <td>15000.000000</td>\n",
       "      <td>15000.000000</td>\n",
       "    </tr>\n",
       "    <tr>\n",
       "      <th>mean</th>\n",
       "      <td>1.502922e+06</td>\n",
       "      <td>3.224533</td>\n",
       "      <td>107.856867</td>\n",
       "      <td>71.220667</td>\n",
       "      <td>28.814000</td>\n",
       "      <td>137.852133</td>\n",
       "      <td>31.509646</td>\n",
       "      <td>0.398968</td>\n",
       "      <td>30.137733</td>\n",
       "      <td>0.333333</td>\n",
       "    </tr>\n",
       "    <tr>\n",
       "      <th>std</th>\n",
       "      <td>2.892534e+05</td>\n",
       "      <td>3.391020</td>\n",
       "      <td>31.981975</td>\n",
       "      <td>16.758716</td>\n",
       "      <td>14.555716</td>\n",
       "      <td>133.068252</td>\n",
       "      <td>9.759000</td>\n",
       "      <td>0.377944</td>\n",
       "      <td>12.089703</td>\n",
       "      <td>0.471420</td>\n",
       "    </tr>\n",
       "    <tr>\n",
       "      <th>min</th>\n",
       "      <td>1.000038e+06</td>\n",
       "      <td>0.000000</td>\n",
       "      <td>44.000000</td>\n",
       "      <td>24.000000</td>\n",
       "      <td>7.000000</td>\n",
       "      <td>14.000000</td>\n",
       "      <td>18.200512</td>\n",
       "      <td>0.078044</td>\n",
       "      <td>21.000000</td>\n",
       "      <td>0.000000</td>\n",
       "    </tr>\n",
       "    <tr>\n",
       "      <th>25%</th>\n",
       "      <td>1.252866e+06</td>\n",
       "      <td>0.000000</td>\n",
       "      <td>84.000000</td>\n",
       "      <td>58.000000</td>\n",
       "      <td>15.000000</td>\n",
       "      <td>39.000000</td>\n",
       "      <td>21.259887</td>\n",
       "      <td>0.137743</td>\n",
       "      <td>22.000000</td>\n",
       "      <td>0.000000</td>\n",
       "    </tr>\n",
       "    <tr>\n",
       "      <th>50%</th>\n",
       "      <td>1.505508e+06</td>\n",
       "      <td>2.000000</td>\n",
       "      <td>104.000000</td>\n",
       "      <td>72.000000</td>\n",
       "      <td>31.000000</td>\n",
       "      <td>83.000000</td>\n",
       "      <td>31.767940</td>\n",
       "      <td>0.200297</td>\n",
       "      <td>24.000000</td>\n",
       "      <td>0.000000</td>\n",
       "    </tr>\n",
       "    <tr>\n",
       "      <th>75%</th>\n",
       "      <td>1.755205e+06</td>\n",
       "      <td>6.000000</td>\n",
       "      <td>129.000000</td>\n",
       "      <td>85.000000</td>\n",
       "      <td>41.000000</td>\n",
       "      <td>195.000000</td>\n",
       "      <td>39.259692</td>\n",
       "      <td>0.616285</td>\n",
       "      <td>35.000000</td>\n",
       "      <td>1.000000</td>\n",
       "    </tr>\n",
       "    <tr>\n",
       "      <th>max</th>\n",
       "      <td>1.999997e+06</td>\n",
       "      <td>14.000000</td>\n",
       "      <td>192.000000</td>\n",
       "      <td>117.000000</td>\n",
       "      <td>93.000000</td>\n",
       "      <td>799.000000</td>\n",
       "      <td>56.034628</td>\n",
       "      <td>2.301594</td>\n",
       "      <td>77.000000</td>\n",
       "      <td>1.000000</td>\n",
       "    </tr>\n",
       "  </tbody>\n",
       "</table>\n",
       "</div>"
      ],
      "text/plain": [
       "          PatientID   Pregnancies  PlasmaGlucose  DiastolicBloodPressure  \\\n",
       "count  1.500000e+04  15000.000000   15000.000000            15000.000000   \n",
       "mean   1.502922e+06      3.224533     107.856867               71.220667   \n",
       "std    2.892534e+05      3.391020      31.981975               16.758716   \n",
       "min    1.000038e+06      0.000000      44.000000               24.000000   \n",
       "25%    1.252866e+06      0.000000      84.000000               58.000000   \n",
       "50%    1.505508e+06      2.000000     104.000000               72.000000   \n",
       "75%    1.755205e+06      6.000000     129.000000               85.000000   \n",
       "max    1.999997e+06     14.000000     192.000000              117.000000   \n",
       "\n",
       "       TricepsThickness  SerumInsulin           BMI  DiabetesPedigree  \\\n",
       "count      15000.000000  15000.000000  15000.000000      15000.000000   \n",
       "mean          28.814000    137.852133     31.509646          0.398968   \n",
       "std           14.555716    133.068252      9.759000          0.377944   \n",
       "min            7.000000     14.000000     18.200512          0.078044   \n",
       "25%           15.000000     39.000000     21.259887          0.137743   \n",
       "50%           31.000000     83.000000     31.767940          0.200297   \n",
       "75%           41.000000    195.000000     39.259692          0.616285   \n",
       "max           93.000000    799.000000     56.034628          2.301594   \n",
       "\n",
       "                Age      Diabetic  \n",
       "count  15000.000000  15000.000000  \n",
       "mean      30.137733      0.333333  \n",
       "std       12.089703      0.471420  \n",
       "min       21.000000      0.000000  \n",
       "25%       22.000000      0.000000  \n",
       "50%       24.000000      0.000000  \n",
       "75%       35.000000      1.000000  \n",
       "max       77.000000      1.000000  "
      ]
     },
     "execution_count": 8,
     "metadata": {},
     "output_type": "execute_result"
    }
   ],
   "source": [
    "lista_pazienti.describe()"
   ]
  },
  {
   "cell_type": "markdown",
   "metadata": {},
   "source": [
    "Salta subito all'occhio che la funzione ha fatto la statistica anche di PatientID, che è un codice numerico rappresentante il paziente pertanto dovrebbe essere considerato come una stringa piuttosto che un numero.<br>\n",
    "Cambio il tipo dei dati con la funzione astype()"
   ]
  },
  {
   "cell_type": "code",
   "execution_count": 9,
   "metadata": {},
   "outputs": [],
   "source": [
    "lista_pazienti['PatientID'] = lista_pazienti['PatientID'].astype(str)"
   ]
  },
  {
   "cell_type": "markdown",
   "metadata": {},
   "source": [
    "Vediamo quali sono le colonne aventi dati numerici, usiamo la funzione select_dtypes(). Verifichiamo che PatientID non è tra questi."
   ]
  },
  {
   "cell_type": "code",
   "execution_count": 10,
   "metadata": {},
   "outputs": [
    {
     "data": {
      "text/html": [
       "<div>\n",
       "<style scoped>\n",
       "    .dataframe tbody tr th:only-of-type {\n",
       "        vertical-align: middle;\n",
       "    }\n",
       "\n",
       "    .dataframe tbody tr th {\n",
       "        vertical-align: top;\n",
       "    }\n",
       "\n",
       "    .dataframe thead th {\n",
       "        text-align: right;\n",
       "    }\n",
       "</style>\n",
       "<table border=\"1\" class=\"dataframe\">\n",
       "  <thead>\n",
       "    <tr style=\"text-align: right;\">\n",
       "      <th></th>\n",
       "      <th>Pregnancies</th>\n",
       "      <th>PlasmaGlucose</th>\n",
       "      <th>DiastolicBloodPressure</th>\n",
       "      <th>TricepsThickness</th>\n",
       "      <th>SerumInsulin</th>\n",
       "      <th>BMI</th>\n",
       "      <th>DiabetesPedigree</th>\n",
       "      <th>Age</th>\n",
       "      <th>Diabetic</th>\n",
       "    </tr>\n",
       "  </thead>\n",
       "  <tbody>\n",
       "    <tr>\n",
       "      <th>0</th>\n",
       "      <td>0</td>\n",
       "      <td>171</td>\n",
       "      <td>80</td>\n",
       "      <td>34</td>\n",
       "      <td>23</td>\n",
       "      <td>43.509726</td>\n",
       "      <td>1.213191</td>\n",
       "      <td>21</td>\n",
       "      <td>0</td>\n",
       "    </tr>\n",
       "    <tr>\n",
       "      <th>1</th>\n",
       "      <td>8</td>\n",
       "      <td>92</td>\n",
       "      <td>93</td>\n",
       "      <td>47</td>\n",
       "      <td>36</td>\n",
       "      <td>21.240576</td>\n",
       "      <td>0.158365</td>\n",
       "      <td>23</td>\n",
       "      <td>0</td>\n",
       "    </tr>\n",
       "    <tr>\n",
       "      <th>2</th>\n",
       "      <td>7</td>\n",
       "      <td>115</td>\n",
       "      <td>47</td>\n",
       "      <td>52</td>\n",
       "      <td>35</td>\n",
       "      <td>41.511523</td>\n",
       "      <td>0.079019</td>\n",
       "      <td>23</td>\n",
       "      <td>0</td>\n",
       "    </tr>\n",
       "    <tr>\n",
       "      <th>3</th>\n",
       "      <td>9</td>\n",
       "      <td>103</td>\n",
       "      <td>78</td>\n",
       "      <td>25</td>\n",
       "      <td>304</td>\n",
       "      <td>29.582192</td>\n",
       "      <td>1.282870</td>\n",
       "      <td>43</td>\n",
       "      <td>1</td>\n",
       "    </tr>\n",
       "    <tr>\n",
       "      <th>4</th>\n",
       "      <td>1</td>\n",
       "      <td>85</td>\n",
       "      <td>59</td>\n",
       "      <td>27</td>\n",
       "      <td>35</td>\n",
       "      <td>42.604536</td>\n",
       "      <td>0.549542</td>\n",
       "      <td>22</td>\n",
       "      <td>0</td>\n",
       "    </tr>\n",
       "  </tbody>\n",
       "</table>\n",
       "</div>"
      ],
      "text/plain": [
       "   Pregnancies  PlasmaGlucose  DiastolicBloodPressure  TricepsThickness  \\\n",
       "0            0            171                      80                34   \n",
       "1            8             92                      93                47   \n",
       "2            7            115                      47                52   \n",
       "3            9            103                      78                25   \n",
       "4            1             85                      59                27   \n",
       "\n",
       "   SerumInsulin        BMI  DiabetesPedigree  Age  Diabetic  \n",
       "0            23  43.509726          1.213191   21         0  \n",
       "1            36  21.240576          0.158365   23         0  \n",
       "2            35  41.511523          0.079019   23         0  \n",
       "3           304  29.582192          1.282870   43         1  \n",
       "4            35  42.604536          0.549542   22         0  "
      ]
     },
     "execution_count": 10,
     "metadata": {},
     "output_type": "execute_result"
    }
   ],
   "source": [
    "lista_pazienti.select_dtypes(include='number').head()"
   ]
  },
  {
   "cell_type": "markdown",
   "metadata": {},
   "source": [
    "Ci sono elementi non definiti (nan) nelle righe? Possiamo usare la funzione <strong>count</strong>. "
   ]
  },
  {
   "cell_type": "code",
   "execution_count": 11,
   "metadata": {},
   "outputs": [
    {
     "data": {
      "text/plain": [
       "PatientID                 15000\n",
       "Pregnancies               15000\n",
       "PlasmaGlucose             15000\n",
       "DiastolicBloodPressure    15000\n",
       "TricepsThickness          15000\n",
       "SerumInsulin              15000\n",
       "BMI                       15000\n",
       "DiabetesPedigree          15000\n",
       "Age                       15000\n",
       "Diabetic                  15000\n",
       "Physician                 15000\n",
       "dtype: int64"
      ]
     },
     "execution_count": 11,
     "metadata": {},
     "output_type": "execute_result"
    }
   ],
   "source": [
    "lista_pazienti.count()"
   ]
  },
  {
   "cell_type": "markdown",
   "metadata": {},
   "source": [
    "Il dataframe ha 15000 righe ed ogni campo(o colonna) ha 15000 elementi. Quindi apparentemente non ci sono <strong>nan</strong>. Dico apparentemente perché potrebbero essere stati definiti con una codifica particolare, per esempio usando un numero molto negativo (-999) per l'indice di massa corporea (BMI), quando questo può essee un valore solo positivo.<br>\n",
    "Per riconoscere questi casi particolari dovremmo esplorare visualmente il dataframe e in caso scrivere un codice ad hoc."
   ]
  },
  {
   "cell_type": "markdown",
   "metadata": {},
   "source": [
    "Vediamo la distribuzione dei valori per ogni colonna. Per questo userò la funzione <strong>distplot()</strong> del pacchetto seaborn."
   ]
  },
  {
   "cell_type": "code",
   "execution_count": 12,
   "metadata": {},
   "outputs": [
    {
     "data": {
      "image/png": "[encoded data removed]",
      "text/plain": [
       "<Figure size 432x288 with 1 Axes>"
      ]
     },
     "metadata": {
      "needs_background": "light"
     },
     "output_type": "display_data"
    }
   ],
   "source": [
    "sns.distplot(lista_pazienti.Pregnancies)\n",
    "plt.show()"
   ]
  },
  {
   "cell_type": "code",
   "execution_count": 13,
   "metadata": {},
   "outputs": [
    {
     "data": {
      "image/png": "[encoded data removed]",
      "text/plain": [
       "<Figure size 432x288 with 1 Axes>"
      ]
     },
     "metadata": {
      "needs_background": "light"
     },
     "output_type": "display_data"
    }
   ],
   "source": [
    "sns.distplot(lista_pazienti.PlasmaGlucose)\n",
    "plt.show()"
   ]
  },
  {
   "cell_type": "code",
   "execution_count": 14,
   "metadata": {},
   "outputs": [
    {
     "data": {
      "image/png": "[encoded data removed]",
      "text/plain": [
       "<Figure size 432x288 with 1 Axes>"
      ]
     },
     "metadata": {
      "needs_background": "light"
     },
     "output_type": "display_data"
    }
   ],
   "source": [
    "sns.distplot(lista_pazienti.DiastolicBloodPressure)\n",
    "plt.show()"
   ]
  },
  {
   "cell_type": "code",
   "execution_count": 15,
   "metadata": {},
   "outputs": [
    {
     "data": {
      "image/png": "[encoded data removed]",
      "text/plain": [
       "<Figure size 432x288 with 1 Axes>"
      ]
     },
     "metadata": {
      "needs_background": "light"
     },
     "output_type": "display_data"
    }
   ],
   "source": [
    "sns.distplot(lista_pazienti.TricepsThickness)\n",
    "plt.show()"
   ]
  },
  {
   "cell_type": "code",
   "execution_count": 16,
   "metadata": {},
   "outputs": [
    {
     "data": {
      "image/png": "[encoded data removed]",
      "text/plain": [
       "<Figure size 432x288 with 1 Axes>"
      ]
     },
     "metadata": {
      "needs_background": "light"
     },
     "output_type": "display_data"
    }
   ],
   "source": [
    "sns.distplot(lista_pazienti.SerumInsulin)\n",
    "plt.show()"
   ]
  },
  {
   "cell_type": "code",
   "execution_count": 17,
   "metadata": {},
   "outputs": [
    {
     "data": {
      "image/png": "[encoded data removed]",
      "text/plain": [
       "<Figure size 432x288 with 1 Axes>"
      ]
     },
     "metadata": {
      "needs_background": "light"
     },
     "output_type": "display_data"
    }
   ],
   "source": [
    "sns.distplot(lista_pazienti.BMI)\n",
    "plt.show()"
   ]
  },
  {
   "cell_type": "code",
   "execution_count": 18,
   "metadata": {},
   "outputs": [
    {
     "data": {
      "image/png": "[encoded data removed]",
      "text/plain": [
       "<Figure size 432x288 with 1 Axes>"
      ]
     },
     "metadata": {
      "needs_background": "light"
     },
     "output_type": "display_data"
    }
   ],
   "source": [
    "sns.distplot(lista_pazienti.DiabetesPedigree)\n",
    "plt.show()"
   ]
  },
  {
   "cell_type": "code",
   "execution_count": 19,
   "metadata": {},
   "outputs": [
    {
     "data": {
      "image/png": "[encoded data removed]",
      "text/plain": [
       "<Figure size 432x288 with 1 Axes>"
      ]
     },
     "metadata": {
      "needs_background": "light"
     },
     "output_type": "display_data"
    }
   ],
   "source": [
    "sns.distplot(lista_pazienti.Age)\n",
    "plt.show()"
   ]
  },
  {
   "cell_type": "markdown",
   "metadata": {},
   "source": [
    "Poiché il campo dell'età (Age) è piuttosto sbilanciato, il tutorial di Edx suggeriva di usare log(Age) al suo posto.<br>\n",
    "Aggiungiamo una colonna con log(Age):"
   ]
  },
  {
   "cell_type": "code",
   "execution_count": 20,
   "metadata": {},
   "outputs": [],
   "source": [
    "lista_pazienti['logAge'] = np.log10(lista_pazienti['Age'].values)"
   ]
  },
  {
   "cell_type": "code",
   "execution_count": 21,
   "metadata": {},
   "outputs": [
    {
     "data": {
      "image/png": "[encoded data removed]",
      "text/plain": [
       "<Figure size 432x288 with 1 Axes>"
      ]
     },
     "metadata": {
      "needs_background": "light"
     },
     "output_type": "display_data"
    }
   ],
   "source": [
    "sns.distplot(lista_pazienti.logAge)\n",
    "plt.show()"
   ]
  },
  {
   "cell_type": "markdown",
   "metadata": {},
   "source": [
    "Adesso voglio normalizzare i dati perché la convergenza è più facile quando i dati sono normalizzati."
   ]
  },
  {
   "cell_type": "markdown",
   "metadata": {},
   "source": [
    "La normalizzazione avviene per colonna. Per le colonne che hanno una distribuzione simile a quella gaussiana (o normale), posso normalizzare usando lo Z-score, ovvero si calcola la media ($\\mu$) e la varianza ($\\sigma^2$) dei dati in una colonna e poi si normalizza ogni singolo elemento della colonna secondo:\n",
    "\\begin{equation*}\n",
    "\\hat{x_i} = \\frac{(x_i - \\mu)}{\\sigma^2} \\quad \\forall i\n",
    "\\end{equation*}"
   ]
  },
  {
   "cell_type": "markdown",
   "metadata": {},
   "source": [
    "Per le colonne che non hanno una distribuzione simil-gaussiana posso usare una normalizzazione max-min. Ovvero calcolo il max dei dai su una colonna ($M$) e il minimo ($m$) degli stessi. Dopodichè applico la normalizzazione:\n",
    "\\begin{equation*}\n",
    "\\hat{x_i} = \\frac{(x_i - m)}{(M-m)} \\quad \\forall{i}\n",
    "\\end{equation*}"
   ]
  },
  {
   "cell_type": "markdown",
   "metadata": {},
   "source": [
    "Per fortuna non dobbiamo farlo manualmente, ma possiamo usare le funzioni di scikit-learn StandardScaler() e MinMaxScaler()."
   ]
  },
  {
   "cell_type": "code",
   "execution_count": 22,
   "metadata": {},
   "outputs": [],
   "source": [
    "from sklearn.preprocessing import StandardScaler, MinMaxScaler"
   ]
  },
  {
   "cell_type": "markdown",
   "metadata": {},
   "source": [
    "Definisco su quali colonne usare l'algoritmo MinMax e su quali lo Zscore (che in scikit-learn si chiama StandardScaler):"
   ]
  },
  {
   "cell_type": "code",
   "execution_count": 23,
   "metadata": {},
   "outputs": [],
   "source": [
    "columns_minmax = ['Pregnancies','SerumInsulin','BMI','DiabetesPedigree','logAge']\n",
    "columns_zscore = ['PlasmaGlucose','DiastolicBloodPressure','TricepsThickness']"
   ]
  },
  {
   "cell_type": "code",
   "execution_count": 24,
   "metadata": {},
   "outputs": [],
   "source": [
    "mmsc = MinMaxScaler()\n",
    "stsc = StandardScaler()"
   ]
  },
  {
   "cell_type": "code",
   "execution_count": 25,
   "metadata": {},
   "outputs": [],
   "source": [
    "lista_pazienti_norm = pd.DataFrame(index=range(15000))\n",
    "for column in columns_minmax:\n",
    "    lista_pazienti_norm[column + '_norm'] = mmsc.fit_transform(lista_pazienti[column].values.astype(np.float64).reshape(-1, 1))\n",
    "for column in columns_zscore:\n",
    "    lista_pazienti_norm[column + '_norm'] = stsc.fit_transform(lista_pazienti[column].values.astype(np.float64).reshape(-1, 1))\n",
    "\n",
    "lista_pazienti_norm[lista_pazienti.select_dtypes(exclude='number').columns] = lista_pazienti.select_dtypes(exclude='number')   #colonne non mumeriche\n",
    "\n",
    "lista_pazienti_norm['Diabetic'] = lista_pazienti['Diabetic']   #È la label del modello"
   ]
  },
  {
   "cell_type": "code",
   "execution_count": 26,
   "metadata": {},
   "outputs": [
    {
     "data": {
      "text/html": [
       "<div>\n",
       "<style scoped>\n",
       "    .dataframe tbody tr th:only-of-type {\n",
       "        vertical-align: middle;\n",
       "    }\n",
       "\n",
       "    .dataframe tbody tr th {\n",
       "        vertical-align: top;\n",
       "    }\n",
       "\n",
       "    .dataframe thead th {\n",
       "        text-align: right;\n",
       "    }\n",
       "</style>\n",
       "<table border=\"1\" class=\"dataframe\">\n",
       "  <thead>\n",
       "    <tr style=\"text-align: right;\">\n",
       "      <th></th>\n",
       "      <th>Pregnancies_norm</th>\n",
       "      <th>SerumInsulin_norm</th>\n",
       "      <th>BMI_norm</th>\n",
       "      <th>DiabetesPedigree_norm</th>\n",
       "      <th>logAge_norm</th>\n",
       "      <th>PlasmaGlucose_norm</th>\n",
       "      <th>DiastolicBloodPressure_norm</th>\n",
       "      <th>TricepsThickness_norm</th>\n",
       "      <th>PatientID</th>\n",
       "      <th>Physician</th>\n",
       "      <th>Diabetic</th>\n",
       "    </tr>\n",
       "  </thead>\n",
       "  <tbody>\n",
       "    <tr>\n",
       "      <th>0</th>\n",
       "      <td>0.000000</td>\n",
       "      <td>0.011465</td>\n",
       "      <td>0.668952</td>\n",
       "      <td>0.510511</td>\n",
       "      <td>0.000000</td>\n",
       "      <td>1.974401</td>\n",
       "      <td>0.523884</td>\n",
       "      <td>0.356298</td>\n",
       "      <td>1354778</td>\n",
       "      <td>Dan Drayton</td>\n",
       "      <td>0</td>\n",
       "    </tr>\n",
       "    <tr>\n",
       "      <th>1</th>\n",
       "      <td>0.571429</td>\n",
       "      <td>0.028025</td>\n",
       "      <td>0.080352</td>\n",
       "      <td>0.036123</td>\n",
       "      <td>0.070017</td>\n",
       "      <td>-0.495823</td>\n",
       "      <td>1.299626</td>\n",
       "      <td>1.249448</td>\n",
       "      <td>1147438</td>\n",
       "      <td>Anthony Frizzell</td>\n",
       "      <td>0</td>\n",
       "    </tr>\n",
       "    <tr>\n",
       "      <th>2</th>\n",
       "      <td>0.500000</td>\n",
       "      <td>0.026752</td>\n",
       "      <td>0.616137</td>\n",
       "      <td>0.000438</td>\n",
       "      <td>0.070017</td>\n",
       "      <td>0.223356</td>\n",
       "      <td>-1.445306</td>\n",
       "      <td>1.592967</td>\n",
       "      <td>1640031</td>\n",
       "      <td>Gordon Fredrickson</td>\n",
       "      <td>0</td>\n",
       "    </tr>\n",
       "    <tr>\n",
       "      <th>3</th>\n",
       "      <td>0.642857</td>\n",
       "      <td>0.369427</td>\n",
       "      <td>0.300831</td>\n",
       "      <td>0.541848</td>\n",
       "      <td>0.551595</td>\n",
       "      <td>-0.151868</td>\n",
       "      <td>0.404539</td>\n",
       "      <td>-0.262036</td>\n",
       "      <td>1883350</td>\n",
       "      <td>Chad Corbitt</td>\n",
       "      <td>1</td>\n",
       "    </tr>\n",
       "    <tr>\n",
       "      <th>4</th>\n",
       "      <td>0.071429</td>\n",
       "      <td>0.026752</td>\n",
       "      <td>0.645027</td>\n",
       "      <td>0.212047</td>\n",
       "      <td>0.035804</td>\n",
       "      <td>-0.714703</td>\n",
       "      <td>-0.729237</td>\n",
       "      <td>-0.124629</td>\n",
       "      <td>1424119</td>\n",
       "      <td>Zachary Fellows</td>\n",
       "      <td>0</td>\n",
       "    </tr>\n",
       "  </tbody>\n",
       "</table>\n",
       "</div>"
      ],
      "text/plain": [
       "   Pregnancies_norm  SerumInsulin_norm  BMI_norm  DiabetesPedigree_norm  \\\n",
       "0          0.000000           0.011465  0.668952               0.510511   \n",
       "1          0.571429           0.028025  0.080352               0.036123   \n",
       "2          0.500000           0.026752  0.616137               0.000438   \n",
       "3          0.642857           0.369427  0.300831               0.541848   \n",
       "4          0.071429           0.026752  0.645027               0.212047   \n",
       "\n",
       "   logAge_norm  PlasmaGlucose_norm  DiastolicBloodPressure_norm  \\\n",
       "0     0.000000            1.974401                     0.523884   \n",
       "1     0.070017           -0.495823                     1.299626   \n",
       "2     0.070017            0.223356                    -1.445306   \n",
       "3     0.551595           -0.151868                     0.404539   \n",
       "4     0.035804           -0.714703                    -0.729237   \n",
       "\n",
       "   TricepsThickness_norm PatientID           Physician  Diabetic  \n",
       "0               0.356298   1354778         Dan Drayton         0  \n",
       "1               1.249448   1147438    Anthony Frizzell         0  \n",
       "2               1.592967   1640031  Gordon Fredrickson         0  \n",
       "3              -0.262036   1883350        Chad Corbitt         1  \n",
       "4              -0.124629   1424119     Zachary Fellows         0  "
      ]
     },
     "execution_count": 26,
     "metadata": {},
     "output_type": "execute_result"
    }
   ],
   "source": [
    "lista_pazienti_norm.head()"
   ]
  },
  {
   "cell_type": "markdown",
   "metadata": {},
   "source": [
    "Un'ultima considerazione. Il valore di PatientID probabilmente non influisce sul risultato. Cioè non dovrebbe esserci alcuna correlazione tr il PatientID e la label (Diabetic)."
   ]
  },
  {
   "cell_type": "markdown",
   "metadata": {},
   "source": [
    "Invece potrebbe esserci correlazione tra il medico (Physician) e il fatto che il paziente sia diabetico. Un cattivo medico aumenta la probabilità che il paziente si ammali. Per cui decido di usare l'informazione sul nome del medico."
   ]
  },
  {
   "cell_type": "markdown",
   "metadata": {},
   "source": [
    "Come primo passo voglio vedere quanti sono i medici nella lista. Utilizzo la funzione unique() per vedere quali sono i valori unici della colonna Physician. E shape per contarli. "
   ]
  },
  {
   "cell_type": "code",
   "execution_count": 27,
   "metadata": {},
   "outputs": [
    {
     "data": {
      "text/plain": [
       "(109,)"
      ]
     },
     "execution_count": 27,
     "metadata": {},
     "output_type": "execute_result"
    }
   ],
   "source": [
    "lista_pazienti_norm.Physician.unique().shape"
   ]
  },
  {
   "cell_type": "markdown",
   "metadata": {},
   "source": [
    "In tutto ho 109 medici. 109 medici su 15000 dati... può essere che ci sia una correlazione."
   ]
  },
  {
   "cell_type": "markdown",
   "metadata": {},
   "source": [
    "La regressione logistica è un algoritmo puramente matematico, che fa uso di numeri per determinare una uscita. Se voglio usare la colonna Physician, devo trasformare i valori in una informazione numerica che possa essere usata dall'algoritmo. "
   ]
  },
  {
   "cell_type": "markdown",
   "metadata": {},
   "source": [
    "Per fare questo uso il one-hot-encoding. Scikit-learn ha una funzione per realizzare l'encoding, si chiama LabelBinarizer() "
   ]
  },
  {
   "cell_type": "code",
   "execution_count": 28,
   "metadata": {},
   "outputs": [
    {
     "data": {
      "text/plain": [
       "(15000, 109)"
      ]
     },
     "execution_count": 28,
     "metadata": {},
     "output_type": "execute_result"
    }
   ],
   "source": [
    "lb = LabelBinarizer()\n",
    "Phis_ohe = lb.fit_transform(lista_pazienti_norm.Physician)\n",
    "Phis_ohe.shape"
   ]
  },
  {
   "cell_type": "markdown",
   "metadata": {},
   "source": [
    "L'output di LabelBinarizer() è un array bidimensionale. Per comodità voglio mettere tutti i dati in un dataframe, per cui devo dare un nome a ciscuna delle colonne di Phis_ohe."
   ]
  },
  {
   "cell_type": "code",
   "execution_count": 29,
   "metadata": {},
   "outputs": [],
   "source": [
    "columns_name = []\n",
    "for i in range(109):\n",
    "    columns_name += ['phis_ohe' + str(i)]"
   ]
  },
  {
   "cell_type": "markdown",
   "metadata": {},
   "source": [
    "Creo il dataframe con i dati Phis_ohe e i nomi delle colonne columns_name"
   ]
  },
  {
   "cell_type": "code",
   "execution_count": 30,
   "metadata": {},
   "outputs": [],
   "source": [
    "lista_dottori = pd.DataFrame(Phis_ohe, columns=columns_name)"
   ]
  },
  {
   "cell_type": "markdown",
   "metadata": {},
   "source": [
    "Concateno la lista dei pazienti e quella dei dottori, poichè l'ordine delle righe non è cambiato, posso semplicemente accostarle una con l'altra (axis=1):"
   ]
  },
  {
   "cell_type": "code",
   "execution_count": 31,
   "metadata": {},
   "outputs": [],
   "source": [
    "lista_pazienti_e_dottori = pd.concat([lista_pazienti_norm, lista_dottori], axis=1)"
   ]
  },
  {
   "cell_type": "markdown",
   "metadata": {},
   "source": [
    "Dal dataframe devo rimuovere alcune colonne"
   ]
  },
  {
   "cell_type": "code",
   "execution_count": 32,
   "metadata": {},
   "outputs": [],
   "source": [
    "#rimuovo la colonna Physician che è stata rimpiazzata dalla stessa informazione codificata\n",
    "#rimuovo la colonna PatientID perché non è informativa\n",
    "#rimuovo la colonna Diabetic perché costituisce il dato da predire\n",
    "lista_pazienti_e_dottori = lista_pazienti_e_dottori.drop(columns=['Physician','PatientID','Diabetic'])"
   ]
  },
  {
   "cell_type": "code",
   "execution_count": 33,
   "metadata": {},
   "outputs": [
    {
     "data": {
      "text/html": [
       "<div>\n",
       "<style scoped>\n",
       "    .dataframe tbody tr th:only-of-type {\n",
       "        vertical-align: middle;\n",
       "    }\n",
       "\n",
       "    .dataframe tbody tr th {\n",
       "        vertical-align: top;\n",
       "    }\n",
       "\n",
       "    .dataframe thead th {\n",
       "        text-align: right;\n",
       "    }\n",
       "</style>\n",
       "<table border=\"1\" class=\"dataframe\">\n",
       "  <thead>\n",
       "    <tr style=\"text-align: right;\">\n",
       "      <th></th>\n",
       "      <th>Pregnancies_norm</th>\n",
       "      <th>SerumInsulin_norm</th>\n",
       "      <th>BMI_norm</th>\n",
       "      <th>DiabetesPedigree_norm</th>\n",
       "      <th>logAge_norm</th>\n",
       "      <th>PlasmaGlucose_norm</th>\n",
       "      <th>DiastolicBloodPressure_norm</th>\n",
       "      <th>TricepsThickness_norm</th>\n",
       "      <th>phis_ohe0</th>\n",
       "      <th>phis_ohe1</th>\n",
       "      <th>...</th>\n",
       "      <th>phis_ohe99</th>\n",
       "      <th>phis_ohe100</th>\n",
       "      <th>phis_ohe101</th>\n",
       "      <th>phis_ohe102</th>\n",
       "      <th>phis_ohe103</th>\n",
       "      <th>phis_ohe104</th>\n",
       "      <th>phis_ohe105</th>\n",
       "      <th>phis_ohe106</th>\n",
       "      <th>phis_ohe107</th>\n",
       "      <th>phis_ohe108</th>\n",
       "    </tr>\n",
       "  </thead>\n",
       "  <tbody>\n",
       "    <tr>\n",
       "      <th>0</th>\n",
       "      <td>0.000000</td>\n",
       "      <td>0.011465</td>\n",
       "      <td>0.668952</td>\n",
       "      <td>0.510511</td>\n",
       "      <td>0.000000</td>\n",
       "      <td>1.974401</td>\n",
       "      <td>0.523884</td>\n",
       "      <td>0.356298</td>\n",
       "      <td>0</td>\n",
       "      <td>0</td>\n",
       "      <td>...</td>\n",
       "      <td>0</td>\n",
       "      <td>0</td>\n",
       "      <td>0</td>\n",
       "      <td>0</td>\n",
       "      <td>0</td>\n",
       "      <td>0</td>\n",
       "      <td>0</td>\n",
       "      <td>0</td>\n",
       "      <td>0</td>\n",
       "      <td>0</td>\n",
       "    </tr>\n",
       "    <tr>\n",
       "      <th>1</th>\n",
       "      <td>0.571429</td>\n",
       "      <td>0.028025</td>\n",
       "      <td>0.080352</td>\n",
       "      <td>0.036123</td>\n",
       "      <td>0.070017</td>\n",
       "      <td>-0.495823</td>\n",
       "      <td>1.299626</td>\n",
       "      <td>1.249448</td>\n",
       "      <td>0</td>\n",
       "      <td>0</td>\n",
       "      <td>...</td>\n",
       "      <td>0</td>\n",
       "      <td>0</td>\n",
       "      <td>0</td>\n",
       "      <td>0</td>\n",
       "      <td>0</td>\n",
       "      <td>0</td>\n",
       "      <td>0</td>\n",
       "      <td>0</td>\n",
       "      <td>0</td>\n",
       "      <td>0</td>\n",
       "    </tr>\n",
       "    <tr>\n",
       "      <th>2</th>\n",
       "      <td>0.500000</td>\n",
       "      <td>0.026752</td>\n",
       "      <td>0.616137</td>\n",
       "      <td>0.000438</td>\n",
       "      <td>0.070017</td>\n",
       "      <td>0.223356</td>\n",
       "      <td>-1.445306</td>\n",
       "      <td>1.592967</td>\n",
       "      <td>0</td>\n",
       "      <td>0</td>\n",
       "      <td>...</td>\n",
       "      <td>0</td>\n",
       "      <td>0</td>\n",
       "      <td>0</td>\n",
       "      <td>0</td>\n",
       "      <td>0</td>\n",
       "      <td>0</td>\n",
       "      <td>0</td>\n",
       "      <td>0</td>\n",
       "      <td>0</td>\n",
       "      <td>0</td>\n",
       "    </tr>\n",
       "    <tr>\n",
       "      <th>3</th>\n",
       "      <td>0.642857</td>\n",
       "      <td>0.369427</td>\n",
       "      <td>0.300831</td>\n",
       "      <td>0.541848</td>\n",
       "      <td>0.551595</td>\n",
       "      <td>-0.151868</td>\n",
       "      <td>0.404539</td>\n",
       "      <td>-0.262036</td>\n",
       "      <td>0</td>\n",
       "      <td>0</td>\n",
       "      <td>...</td>\n",
       "      <td>0</td>\n",
       "      <td>0</td>\n",
       "      <td>0</td>\n",
       "      <td>0</td>\n",
       "      <td>0</td>\n",
       "      <td>0</td>\n",
       "      <td>0</td>\n",
       "      <td>0</td>\n",
       "      <td>0</td>\n",
       "      <td>0</td>\n",
       "    </tr>\n",
       "    <tr>\n",
       "      <th>4</th>\n",
       "      <td>0.071429</td>\n",
       "      <td>0.026752</td>\n",
       "      <td>0.645027</td>\n",
       "      <td>0.212047</td>\n",
       "      <td>0.035804</td>\n",
       "      <td>-0.714703</td>\n",
       "      <td>-0.729237</td>\n",
       "      <td>-0.124629</td>\n",
       "      <td>0</td>\n",
       "      <td>0</td>\n",
       "      <td>...</td>\n",
       "      <td>0</td>\n",
       "      <td>0</td>\n",
       "      <td>0</td>\n",
       "      <td>0</td>\n",
       "      <td>0</td>\n",
       "      <td>0</td>\n",
       "      <td>0</td>\n",
       "      <td>0</td>\n",
       "      <td>1</td>\n",
       "      <td>0</td>\n",
       "    </tr>\n",
       "  </tbody>\n",
       "</table>\n",
       "<p>5 rows × 117 columns</p>\n",
       "</div>"
      ],
      "text/plain": [
       "   Pregnancies_norm  SerumInsulin_norm  BMI_norm  DiabetesPedigree_norm  \\\n",
       "0          0.000000           0.011465  0.668952               0.510511   \n",
       "1          0.571429           0.028025  0.080352               0.036123   \n",
       "2          0.500000           0.026752  0.616137               0.000438   \n",
       "3          0.642857           0.369427  0.300831               0.541848   \n",
       "4          0.071429           0.026752  0.645027               0.212047   \n",
       "\n",
       "   logAge_norm  PlasmaGlucose_norm  DiastolicBloodPressure_norm  \\\n",
       "0     0.000000            1.974401                     0.523884   \n",
       "1     0.070017           -0.495823                     1.299626   \n",
       "2     0.070017            0.223356                    -1.445306   \n",
       "3     0.551595           -0.151868                     0.404539   \n",
       "4     0.035804           -0.714703                    -0.729237   \n",
       "\n",
       "   TricepsThickness_norm  phis_ohe0  phis_ohe1  ...  phis_ohe99  phis_ohe100  \\\n",
       "0               0.356298          0          0  ...           0            0   \n",
       "1               1.249448          0          0  ...           0            0   \n",
       "2               1.592967          0          0  ...           0            0   \n",
       "3              -0.262036          0          0  ...           0            0   \n",
       "4              -0.124629          0          0  ...           0            0   \n",
       "\n",
       "   phis_ohe101  phis_ohe102  phis_ohe103  phis_ohe104  phis_ohe105  \\\n",
       "0            0            0            0            0            0   \n",
       "1            0            0            0            0            0   \n",
       "2            0            0            0            0            0   \n",
       "3            0            0            0            0            0   \n",
       "4            0            0            0            0            0   \n",
       "\n",
       "   phis_ohe106  phis_ohe107  phis_ohe108  \n",
       "0            0            0            0  \n",
       "1            0            0            0  \n",
       "2            0            0            0  \n",
       "3            0            0            0  \n",
       "4            0            1            0  \n",
       "\n",
       "[5 rows x 117 columns]"
      ]
     },
     "execution_count": 33,
     "metadata": {},
     "output_type": "execute_result"
    }
   ],
   "source": [
    "lista_pazienti_e_dottori.head()"
   ]
  },
  {
   "cell_type": "code",
   "execution_count": 34,
   "metadata": {},
   "outputs": [
    {
     "data": {
      "text/plain": [
       "(15000, 117)"
      ]
     },
     "execution_count": 34,
     "metadata": {},
     "output_type": "execute_result"
    }
   ],
   "source": [
    "lista_pazienti_e_dottori.shape"
   ]
  },
  {
   "cell_type": "markdown",
   "metadata": {},
   "source": [
    "In realtà, rimane aperta una questione. Come trattare i pazienti che hanno più di una riga? Probabilmente si tratta di pazienti che hanno registrato dati in momenti diversi, in due viste diverse. Al momento decido di non riservare a questi pazienti un particolare trattamento, cioè li tratto come se fossero due pazienti diversi con dati diversi. In effetti dando un'occhiata veloce, lo stesso paziente può avere dati molto diversi tra loro. <br>\n",
    "Questi sono i pazienti duplicati:"
   ]
  },
  {
   "cell_type": "code",
   "execution_count": 35,
   "metadata": {},
   "outputs": [
    {
     "data": {
      "text/html": [
       "<div>\n",
       "<style scoped>\n",
       "    .dataframe tbody tr th:only-of-type {\n",
       "        vertical-align: middle;\n",
       "    }\n",
       "\n",
       "    .dataframe tbody tr th {\n",
       "        vertical-align: top;\n",
       "    }\n",
       "\n",
       "    .dataframe thead th {\n",
       "        text-align: right;\n",
       "    }\n",
       "</style>\n",
       "<table border=\"1\" class=\"dataframe\">\n",
       "  <thead>\n",
       "    <tr style=\"text-align: right;\">\n",
       "      <th></th>\n",
       "      <th>PatientID</th>\n",
       "      <th>Pregnancies</th>\n",
       "      <th>PlasmaGlucose</th>\n",
       "      <th>DiastolicBloodPressure</th>\n",
       "      <th>TricepsThickness</th>\n",
       "      <th>SerumInsulin</th>\n",
       "      <th>BMI</th>\n",
       "      <th>DiabetesPedigree</th>\n",
       "      <th>Age</th>\n",
       "      <th>Diabetic</th>\n",
       "      <th>Physician</th>\n",
       "      <th>logAge</th>\n",
       "    </tr>\n",
       "  </thead>\n",
       "  <tbody>\n",
       "    <tr>\n",
       "      <th>72</th>\n",
       "      <td>1912150</td>\n",
       "      <td>8</td>\n",
       "      <td>133</td>\n",
       "      <td>59</td>\n",
       "      <td>12</td>\n",
       "      <td>477</td>\n",
       "      <td>42.477097</td>\n",
       "      <td>0.858930</td>\n",
       "      <td>21</td>\n",
       "      <td>1</td>\n",
       "      <td>Noreen Branch</td>\n",
       "      <td>1.322219</td>\n",
       "    </tr>\n",
       "    <tr>\n",
       "      <th>205</th>\n",
       "      <td>1854671</td>\n",
       "      <td>1</td>\n",
       "      <td>53</td>\n",
       "      <td>78</td>\n",
       "      <td>44</td>\n",
       "      <td>29</td>\n",
       "      <td>18.413402</td>\n",
       "      <td>0.127919</td>\n",
       "      <td>23</td>\n",
       "      <td>0</td>\n",
       "      <td>Demi Vadeboncoeur</td>\n",
       "      <td>1.361728</td>\n",
       "    </tr>\n",
       "    <tr>\n",
       "      <th>377</th>\n",
       "      <td>1192134</td>\n",
       "      <td>0</td>\n",
       "      <td>92</td>\n",
       "      <td>50</td>\n",
       "      <td>31</td>\n",
       "      <td>39</td>\n",
       "      <td>38.658578</td>\n",
       "      <td>0.664133</td>\n",
       "      <td>23</td>\n",
       "      <td>0</td>\n",
       "      <td>Carolos Lamy</td>\n",
       "      <td>1.361728</td>\n",
       "    </tr>\n",
       "    <tr>\n",
       "      <th>417</th>\n",
       "      <td>1366655</td>\n",
       "      <td>5</td>\n",
       "      <td>106</td>\n",
       "      <td>67</td>\n",
       "      <td>44</td>\n",
       "      <td>77</td>\n",
       "      <td>29.835662</td>\n",
       "      <td>0.177607</td>\n",
       "      <td>22</td>\n",
       "      <td>1</td>\n",
       "      <td>Eleanor Bryan</td>\n",
       "      <td>1.342423</td>\n",
       "    </tr>\n",
       "    <tr>\n",
       "      <th>458</th>\n",
       "      <td>1455760</td>\n",
       "      <td>7</td>\n",
       "      <td>121</td>\n",
       "      <td>53</td>\n",
       "      <td>35</td>\n",
       "      <td>312</td>\n",
       "      <td>19.824888</td>\n",
       "      <td>0.114730</td>\n",
       "      <td>21</td>\n",
       "      <td>0</td>\n",
       "      <td>Rocco Yarborough</td>\n",
       "      <td>1.322219</td>\n",
       "    </tr>\n",
       "  </tbody>\n",
       "</table>\n",
       "</div>"
      ],
      "text/plain": [
       "    PatientID  Pregnancies  PlasmaGlucose  DiastolicBloodPressure  \\\n",
       "72    1912150            8            133                      59   \n",
       "205   1854671            1             53                      78   \n",
       "377   1192134            0             92                      50   \n",
       "417   1366655            5            106                      67   \n",
       "458   1455760            7            121                      53   \n",
       "\n",
       "     TricepsThickness  SerumInsulin        BMI  DiabetesPedigree  Age  \\\n",
       "72                 12           477  42.477097          0.858930   21   \n",
       "205                44            29  18.413402          0.127919   23   \n",
       "377                31            39  38.658578          0.664133   23   \n",
       "417                44            77  29.835662          0.177607   22   \n",
       "458                35           312  19.824888          0.114730   21   \n",
       "\n",
       "     Diabetic          Physician    logAge  \n",
       "72          1      Noreen Branch  1.322219  \n",
       "205         0  Demi Vadeboncoeur  1.361728  \n",
       "377         0       Carolos Lamy  1.361728  \n",
       "417         1      Eleanor Bryan  1.342423  \n",
       "458         0   Rocco Yarborough  1.322219  "
      ]
     },
     "execution_count": 35,
     "metadata": {},
     "output_type": "execute_result"
    }
   ],
   "source": [
    "lista_pazienti.loc[lista_pazienti.PatientID.duplicated(),:].head()"
   ]
  },
  {
   "cell_type": "markdown",
   "metadata": {},
   "source": [
    "## Partizionare il dataset"
   ]
  },
  {
   "cell_type": "markdown",
   "metadata": {},
   "source": [
    "Divido i dati di ingresso in un set per il training e un set per il test.<br>\n",
    "Per farlo utilizzo la funzione train_test_split() di scikit-learn"
   ]
  },
  {
   "cell_type": "code",
   "execution_count": 36,
   "metadata": {},
   "outputs": [],
   "source": [
    "from sklearn.model_selection import train_test_split\n",
    "\n",
    "input_data = lista_pazienti_e_dottori.values.astype(np.float32) #le operazioni con i tensori richiedono il tipo float\n",
    "label_data = lista_pazienti.Diabetic.values.astype(np.float32)\n",
    "\n",
    "input_data_train, input_data_test, label_train, label_test = train_test_split(input_data, label_data, test_size=0.3)"
   ]
  },
  {
   "cell_type": "code",
   "execution_count": null,
   "metadata": {},
   "outputs": [],
   "source": []
  },
  {
   "cell_type": "code",
   "execution_count": null,
   "metadata": {},
   "outputs": [],
   "source": []
  },
  {
   "cell_type": "code",
   "execution_count": null,
   "metadata": {},
   "outputs": [],
   "source": []
  },
  {
   "cell_type": "code",
   "execution_count": null,
   "metadata": {},
   "outputs": [],
   "source": []
  },
  {
   "cell_type": "code",
   "execution_count": null,
   "metadata": {},
   "outputs": [],
   "source": []
  },
  {
   "cell_type": "code",
   "execution_count": null,
   "metadata": {},
   "outputs": [],
   "source": []
  },
  {
   "cell_type": "code",
   "execution_count": null,
   "metadata": {},
   "outputs": [],
   "source": []
  },
  {
   "cell_type": "markdown",
   "metadata": {},
   "source": [
    "## Definizione del modello"
   ]
  },
  {
   "cell_type": "markdown",
   "metadata": {},
   "source": [
    "Definisco il modello di SVM (o SVC) lineare. Il parametro più importante del modello e il fattore C che ha lo stesso ruolo dell'inverso del fattore di penalizzazione della **ridge regression** (*l2* penalized logistic regression).\n",
    "Con un valore molto alto di C c'è il rischio di overfitting. Un valore basso di C tende a non considerare gli outliers.\n",
    "\n",
    "Per i dettagli della implementazione nel pacchetto scikit-learn della SVM vedi la documentazione originale del [LinearSVC](https://scikit-learn.org/stable/modules/generated/sklearn.svm.LinearSVC.html)\n",
    "\n",
    "Iniziamo a settare C=1"
   ]
  },
  {
   "cell_type": "code",
   "execution_count": 37,
   "metadata": {},
   "outputs": [],
   "source": [
    "svc = LinearSVC(C=1)"
   ]
  },
  {
   "cell_type": "code",
   "execution_count": 38,
   "metadata": {},
   "outputs": [
    {
     "data": {
      "text/plain": [
       "((10500,), (10500, 117))"
      ]
     },
     "execution_count": 38,
     "metadata": {},
     "output_type": "execute_result"
    }
   ],
   "source": [
    "label_train.shape, input_data_train.shape"
   ]
  },
  {
   "cell_type": "code",
   "execution_count": 39,
   "metadata": {},
   "outputs": [],
   "source": [
    "model = svc.fit(input_data_train, label_train)"
   ]
  },
  {
   "cell_type": "code",
   "execution_count": 40,
   "metadata": {},
   "outputs": [],
   "source": [
    "output_data_train = model.predict(input_data_train)\n",
    "output_data_test = model.predict(input_data_test)"
   ]
  },
  {
   "cell_type": "code",
   "execution_count": null,
   "metadata": {},
   "outputs": [],
   "source": []
  },
  {
   "cell_type": "code",
   "execution_count": null,
   "metadata": {},
   "outputs": [],
   "source": []
  },
  {
   "cell_type": "code",
   "execution_count": null,
   "metadata": {},
   "outputs": [],
   "source": []
  },
  {
   "cell_type": "code",
   "execution_count": null,
   "metadata": {},
   "outputs": [],
   "source": []
  },
  {
   "cell_type": "markdown",
   "metadata": {},
   "source": [
    "Definiamo come funzione errore la funzione Binary Cross Entropy BCELoss(), questa è cosi definita:\n",
    "error(x) = \\sum_{i=1}^n \\left( 2 \\recht)\n",
    "\\begin{equation}\n",
    "error(x) = \\sum_{k=1}^n \\left[ -y \\cdot log(h(x)) - (1-y) \\cdot log(1-h(x)) \\right]\n",
    "\\end{equation}\n",
    "dove:<br>\n",
    "$y$ è la label, cioè il valore vero<br>\n",
    "$h(x)$ è l'uscita del modello di regressione, compreso tra 0 e 1, esprime la probabilità che l'uscita sia 1."
   ]
  },
  {
   "cell_type": "markdown",
   "metadata": {},
   "source": [
    "Una metrica per definire la bontà del modello è la curva ROC.<br>\n",
    "Un'occhiata alla pagina di Wikipedia vi chiarirà tutto sulla [curva ROC](https://en.wikipedia.org/wiki/Receiver_operating_characteristic).<br>\n",
    "Facciamo il grafico della curva ROC, usando la funzione roc_curve() di scikit-learn. Il codice sotto è un adattamento dell'esempio sulla pagina di scikit-learn [Receiver Operating Characteristic (ROC)](https://scikit-learn.org/stable/auto_examples/model_selection/plot_roc.html).  "
   ]
  },
  {
   "cell_type": "code",
   "execution_count": 41,
   "metadata": {},
   "outputs": [],
   "source": [
    "from sklearn.metrics import roc_curve"
   ]
  },
  {
   "cell_type": "code",
   "execution_count": 42,
   "metadata": {},
   "outputs": [],
   "source": [
    "fpr_train, tpr_train, _ = roc_curve(label_train,output_data_train)\n",
    "fpr_test, tpr_test, _   = roc_curve(label_test ,output_data_test)"
   ]
  },
  {
   "cell_type": "code",
   "execution_count": 43,
   "metadata": {},
   "outputs": [
    {
     "data": {
      "image/png": "[encoded data removed]",
      "text/plain": [
       "<Figure size 432x288 with 1 Axes>"
      ]
     },
     "metadata": {
      "needs_background": "light"
     },
     "output_type": "display_data"
    }
   ],
   "source": [
    "fgr1 = plt.figure()\n",
    "lw = 2\n",
    "plt.plot(fpr_test, tpr_test, color='darkorange', label=\"test\", lw=lw)\n",
    "plt.plot(fpr_train, tpr_train, color='darkgreen', label=\"train\", lw=lw)\n",
    "plt.plot([0, 1], [0, 1], color='navy', lw=lw, linestyle='--')\n",
    "plt.xlim([0.0, 1])\n",
    "plt.ylim([0.0, 1.05])\n",
    "plt.xticks(np.arange(0, 1, 0.1))\n",
    "plt.yticks(np.arange(0, 1, 0.1))\n",
    "plt.xlabel('False Positive Rate')\n",
    "plt.ylabel('True Positive Rate')\n",
    "plt.title('Receiver operating characteristic (ROC curve)')\n",
    "plt.legend(loc=\"lower right\")\n",
    "plt.grid(which='both')\n",
    "plt.show()"
   ]
  },
  {
   "cell_type": "markdown",
   "metadata": {},
   "source": [
    "calculate Area under the curve"
   ]
  },
  {
   "cell_type": "markdown",
   "metadata": {},
   "source": [
    "Una metrica più semplice è la **confusion matrix**. Che può essere spiegata con il grafico sotto.<br>\n",
    "Come si vede ho due assi, valore vero e valore predetto.<br>\n",
    "Ogni esempio del dataset può essere inserito in una delle quattro classi:\n",
    "- true positive (tp): il valore vero è 1 e il valore predetto è 1\n",
    "- false positive (fp): il valore vero è 0 ma il valore predetto è 1\n",
    "- true negative (tn): il valore vero è 0 e il valore predetto è 0\n",
    "- false negative (fn): il valore vero è 1 ma il valore predetto è 0\n",
    "\n",
    "Come si intuisce due delle classi sono correttamente classificate (true positive e true negative), mentre le altre due sono classificate erroneamente."
   ]
  },
  {
   "cell_type": "markdown",
   "metadata": {},
   "source": [
    "![title](https://www.1week4.com/wp-content/uploads/2019/07/logistic-regression1-e1562588720843.png)"
   ]
  },
  {
   "cell_type": "markdown",
   "metadata": {},
   "source": [
    "Scikit-learn ci mette a disposizione la funzione confusion_matrix() per fare questo calcolo:"
   ]
  },
  {
   "cell_type": "code",
   "execution_count": 44,
   "metadata": {},
   "outputs": [],
   "source": [
    "from sklearn.metrics import confusion_matrix"
   ]
  },
  {
   "cell_type": "code",
   "execution_count": 45,
   "metadata": {},
   "outputs": [],
   "source": [
    "output_data_train = model.predict(input_data_train)\n",
    "output_data_train = (output_data_train>0.5)"
   ]
  },
  {
   "cell_type": "code",
   "execution_count": 46,
   "metadata": {},
   "outputs": [
    {
     "data": {
      "text/plain": [
       "(6182, 807, 1362, 2149)"
      ]
     },
     "execution_count": 46,
     "metadata": {},
     "output_type": "execute_result"
    }
   ],
   "source": [
    "tn, fp, fn, tp = confusion_matrix(label_train, output_data_train ).ravel()\n",
    "tn, fp, fn, tp"
   ]
  },
  {
   "cell_type": "markdown",
   "metadata": {},
   "source": [
    "Con questi valori posso costruire altre metriche:"
   ]
  },
  {
   "cell_type": "markdown",
   "metadata": {},
   "source": [
    "$\n",
    "\\begin{align}\n",
    "&Accuratezza: \\quad A = \\frac{\\text{nr. di esempi correttamente classificati}}{\\text{nr. totale di esempi}} = \\frac{tp+tn}{tp+tn+fn+fp} \\cr\\\\\n",
    "&Precisione: \\quad P = \\frac{\\text{nr. di true positive}}{\\text{nr. di predizioni positive}} = \\frac{tp}{tp+fp} \\cr\\\\\n",
    "&Recall: \\quad R = \\frac{\\text{nr. di true positive}}{\\text{nr. veri positivi}} = \\frac{tp}{tp+fn} \\cr\\\\\n",
    "&F_1 score: \\quad F_1 = 2 \\frac{P\\cdot R}{P+R}\n",
    "\\end{align}\n",
    "$"
   ]
  },
  {
   "cell_type": "code",
   "execution_count": 47,
   "metadata": {},
   "outputs": [
    {
     "name": "stdout",
     "output_type": "stream",
     "text": [
      "L'accuratezza è 79.3%\n",
      "La precisione è 72.7%\n",
      "Il recall è 61.2%\n",
      "Il punteggio F1 è 66.5%\n"
     ]
    }
   ],
   "source": [
    "A = (tp+tn)/(tp+tn+fn+fp)\n",
    "P = tp/(tp+fp)\n",
    "R = tp/(tp+fn)\n",
    "F1 = 2*(P*R)/(P+R)\n",
    "print('L\\'accuratezza è %0.1f%%' %(A*100))\n",
    "print('La precisione è %0.1f%%' %(P*100))\n",
    "print('Il recall è %0.1f%%' %(R*100))\n",
    "print('Il punteggio F1 è %0.1f%%' %(F1*100))"
   ]
  },
  {
   "cell_type": "code",
   "execution_count": null,
   "metadata": {},
   "outputs": [],
   "source": []
  },
  {
   "cell_type": "markdown",
   "metadata": {},
   "source": [
    "### SVM con kernel non lineare"
   ]
  },
  {
   "cell_type": "markdown",
   "metadata": {},
   "source": [
    "Da scikit-learn importo il modello di SVM con Kernel arbitrario:"
   ]
  },
  {
   "cell_type": "code",
   "execution_count": 48,
   "metadata": {},
   "outputs": [],
   "source": [
    "from sklearn.svm import SVC"
   ]
  },
  {
   "cell_type": "markdown",
   "metadata": {},
   "source": [
    "radial basis function (rbl) kernel. [Link](https://scikit-learn.org/stable/modules/svm.html#kernel-functions) della pagina di scikit-learn\n",
    "\n",
    "simile al kernel gaussiano\n",
    "\n",
    "fare grafico della funzione\n"
   ]
  },
  {
   "cell_type": "code",
   "execution_count": 49,
   "metadata": {},
   "outputs": [],
   "source": [
    "model = SVC(kernel=\"rbf\", C=1.0, gamma='auto')"
   ]
  },
  {
   "cell_type": "code",
   "execution_count": 50,
   "metadata": {},
   "outputs": [
    {
     "data": {
      "text/plain": [
       "SVC(C=1.0, cache_size=200, class_weight=None, coef0=0.0,\n",
       "  decision_function_shape='ovr', degree=3, gamma='auto', kernel='rbf',\n",
       "  max_iter=-1, probability=False, random_state=None, shrinking=True,\n",
       "  tol=0.001, verbose=False)"
      ]
     },
     "execution_count": 50,
     "metadata": {},
     "output_type": "execute_result"
    }
   ],
   "source": [
    "model.fit(input_data_train, label_train)"
   ]
  },
  {
   "cell_type": "code",
   "execution_count": 51,
   "metadata": {},
   "outputs": [],
   "source": [
    "output_data_train = model.predict(input_data_train)\n",
    "output_data_test = model.predict(input_data_test)"
   ]
  },
  {
   "cell_type": "code",
   "execution_count": 52,
   "metadata": {},
   "outputs": [],
   "source": [
    "fpr_train, tpr_train, _ = roc_curve(label_train,output_data_train)\n",
    "fpr_test, tpr_test, _   = roc_curve(label_test ,output_data_test)"
   ]
  },
  {
   "cell_type": "code",
   "execution_count": 53,
   "metadata": {},
   "outputs": [
    {
     "data": {
      "image/png": "[encoded data removed]",
      "text/plain": [
       "<Figure size 432x288 with 1 Axes>"
      ]
     },
     "metadata": {
      "needs_background": "light"
     },
     "output_type": "display_data"
    }
   ],
   "source": [
    "fgr1 = plt.figure()\n",
    "lw = 2\n",
    "plt.plot(fpr_test, tpr_test, color='darkorange', label=\"test\", lw=lw)\n",
    "plt.plot(fpr_train, tpr_train, color='darkgreen', label=\"train\", lw=lw)\n",
    "plt.plot([0, 1], [0, 1], color='navy', lw=lw, linestyle='--')\n",
    "plt.xlim([0.0, 1])\n",
    "plt.ylim([0.0, 1.05])\n",
    "plt.xticks(np.arange(0, 1, 0.1))\n",
    "plt.yticks(np.arange(0, 1, 0.1))\n",
    "plt.xlabel('False Positive Rate')\n",
    "plt.ylabel('True Positive Rate')\n",
    "plt.title('Receiver operating characteristic (ROC curve)')\n",
    "plt.legend(loc=\"lower right\")\n",
    "plt.grid(which='both')\n",
    "plt.show()"
   ]
  },
  {
   "cell_type": "code",
   "execution_count": 54,
   "metadata": {},
   "outputs": [],
   "source": [
    "tn, fp, fn, tp = confusion_matrix(label_test, output_data_test ).ravel()"
   ]
  },
  {
   "cell_type": "code",
   "execution_count": 55,
   "metadata": {},
   "outputs": [
    {
     "name": "stdout",
     "output_type": "stream",
     "text": [
      "L'accuratezza è 79.1%\n",
      "La precisione è 75.2%\n",
      "Il recall è 55.1%\n",
      "Il punteggio F1 è 63.6%\n"
     ]
    }
   ],
   "source": [
    "A = (tp+tn)/(tp+tn+fn+fp)\n",
    "P = tp/(tp+fp)\n",
    "R = tp/(tp+fn)\n",
    "F1 = 2*(P*R)/(P+R)\n",
    "print('L\\'accuratezza è %0.1f%%' %(A*100))\n",
    "print('La precisione è %0.1f%%' %(P*100))\n",
    "print('Il recall è %0.1f%%' %(R*100))\n",
    "print('Il punteggio F1 è %0.1f%%' %(F1*100))"
   ]
  },
  {
   "cell_type": "code",
   "execution_count": null,
   "metadata": {},
   "outputs": [],
   "source": []
  },
  {
   "cell_type": "code",
   "execution_count": null,
   "metadata": {},
   "outputs": [],
   "source": []
  },
  {
   "cell_type": "code",
   "execution_count": null,
   "metadata": {},
   "outputs": [],
   "source": []
  },
  {
   "cell_type": "code",
   "execution_count": 56,
   "metadata": {},
   "outputs": [],
   "source": [
    "model = SVC(kernel=\"rbf\", C=100000, gamma=0.1)"
   ]
  },
  {
   "cell_type": "code",
   "execution_count": 57,
   "metadata": {},
   "outputs": [
    {
     "data": {
      "text/plain": [
       "SVC(C=100000, cache_size=200, class_weight=None, coef0=0.0,\n",
       "  decision_function_shape='ovr', degree=3, gamma=0.1, kernel='rbf',\n",
       "  max_iter=-1, probability=False, random_state=None, shrinking=True,\n",
       "  tol=0.001, verbose=False)"
      ]
     },
     "execution_count": 57,
     "metadata": {},
     "output_type": "execute_result"
    }
   ],
   "source": [
    "model.fit(input_data_train, label_train)"
   ]
  },
  {
   "cell_type": "code",
   "execution_count": 58,
   "metadata": {},
   "outputs": [],
   "source": [
    "output_data_train = model.predict(input_data_train)\n",
    "output_data_test = model.predict(input_data_test)"
   ]
  },
  {
   "cell_type": "code",
   "execution_count": 59,
   "metadata": {},
   "outputs": [],
   "source": [
    "fpr_train, tpr_train, _ = roc_curve(label_train,output_data_train)\n",
    "fpr_test, tpr_test, _   = roc_curve(label_test ,output_data_test)"
   ]
  },
  {
   "cell_type": "code",
   "execution_count": 60,
   "metadata": {},
   "outputs": [
    {
     "data": {
      "image/png": "[encoded data removed]",
      "text/plain": [
       "<Figure size 432x288 with 1 Axes>"
      ]
     },
     "metadata": {
      "needs_background": "light"
     },
     "output_type": "display_data"
    }
   ],
   "source": [
    "fgr1 = plt.figure()\n",
    "lw = 2\n",
    "plt.plot(fpr_test, tpr_test, color='darkorange', label=\"test\", lw=lw)\n",
    "plt.plot(fpr_train, tpr_train, color='darkgreen', label=\"train\", lw=lw)\n",
    "plt.plot([0, 1], [0, 1], color='navy', lw=lw, linestyle='--')\n",
    "plt.xlim([0.0, 1])\n",
    "plt.ylim([0.0, 1.05])\n",
    "plt.xticks(np.arange(0, 1, 0.1))\n",
    "plt.yticks(np.arange(0, 1, 0.1))\n",
    "plt.xlabel('False Positive Rate')\n",
    "plt.ylabel('True Positive Rate')\n",
    "plt.title('Receiver operating characteristic (ROC curve)')\n",
    "plt.legend(loc=\"lower right\")\n",
    "plt.grid(which='both')\n",
    "plt.show()"
   ]
  },
  {
   "cell_type": "code",
   "execution_count": 61,
   "metadata": {},
   "outputs": [],
   "source": [
    "tn, fp, fn, tp = confusion_matrix(label_test, output_data_test ).ravel()"
   ]
  },
  {
   "cell_type": "code",
   "execution_count": 62,
   "metadata": {},
   "outputs": [
    {
     "name": "stdout",
     "output_type": "stream",
     "text": [
      "L'accuratezza è 79.2%\n",
      "La precisione è 68.6%\n",
      "Il recall è 68.4%\n",
      "Il punteggio F1 è 68.5%\n"
     ]
    }
   ],
   "source": [
    "A = (tp+tn)/(tp+tn+fn+fp)\n",
    "P = tp/(tp+fp)\n",
    "R = tp/(tp+fn)\n",
    "F1 = 2*(P*R)/(P+R)\n",
    "print('L\\'accuratezza è %0.1f%%' %(A*100))\n",
    "print('La precisione è %0.1f%%' %(P*100))\n",
    "print('Il recall è %0.1f%%' %(R*100))\n",
    "print('Il punteggio F1 è %0.1f%%' %(F1*100))"
   ]
  },
  {
   "cell_type": "code",
   "execution_count": null,
   "metadata": {},
   "outputs": [],
   "source": []
  },
  {
   "cell_type": "markdown",
   "metadata": {},
   "source": [
    "use gridsearch to find best value of C and gamma of the rbf kernel"
   ]
  },
  {
   "cell_type": "code",
   "execution_count": 63,
   "metadata": {},
   "outputs": [],
   "source": [
    "from sklearn.model_selection import GridSearchCV"
   ]
  },
  {
   "cell_type": "code",
   "execution_count": 64,
   "metadata": {},
   "outputs": [],
   "source": [
    "param = {'C':[1,100,1000,10000,50000,100000,500000,1000000],'gamma': [0.001,0.005,0.01,0.05,0.1,0.5,1,5,10]}"
   ]
  },
  {
   "cell_type": "code",
   "execution_count": 65,
   "metadata": {},
   "outputs": [],
   "source": [
    "svc = SVC(kernel=\"rbf\")"
   ]
  },
  {
   "cell_type": "code",
   "execution_count": 66,
   "metadata": {},
   "outputs": [],
   "source": [
    "gscv = GridSearchCV(svc, param, cv=3, verbose=1, n_jobs=-1)"
   ]
  },
  {
   "cell_type": "code",
   "execution_count": null,
   "metadata": {},
   "outputs": [
    {
     "name": "stdout",
     "output_type": "stream",
     "text": [
      "Fitting 3 folds for each of 72 candidates, totalling 216 fits\n"
     ]
    },
    {
     "name": "stderr",
     "output_type": "stream",
     "text": [
      "[Parallel(n_jobs=-1)]: Using backend LokyBackend with 4 concurrent workers.\n",
      "[Parallel(n_jobs=-1)]: Done  42 tasks      | elapsed: 13.9min\n"
     ]
    }
   ],
   "source": [
    "gscv.fit(input_data_train,label_train)"
   ]
  },
  {
   "cell_type": "code",
   "execution_count": 73,
   "metadata": {},
   "outputs": [
    {
     "data": {
      "text/plain": [
       "{'C': 100000, 'gamma': 0.01}"
      ]
     },
     "execution_count": 73,
     "metadata": {},
     "output_type": "execute_result"
    }
   ],
   "source": [
    "gscv.best_params_"
   ]
  },
  {
   "cell_type": "code",
   "execution_count": null,
   "metadata": {},
   "outputs": [],
   "source": [
    "output_data_train = gscv.best_estimator_.fit(input_data_train, label_train)"
   ]
  },
  {
   "cell_type": "code",
   "execution_count": null,
   "metadata": {},
   "outputs": [],
   "source": []
  },
  {
   "cell_type": "code",
   "execution_count": null,
   "metadata": {},
   "outputs": [],
   "source": []
  },
  {
   "cell_type": "code",
   "execution_count": 64,
   "metadata": {},
   "outputs": [
    {
     "data": {
      "text/plain": [
       "\u001b[1;31mInit signature:\u001b[0m\n",
       "\u001b[0mGridSearchCV\u001b[0m\u001b[1;33m(\u001b[0m\u001b[1;33m\n",
       "\u001b[0m    \u001b[0mestimator\u001b[0m\u001b[1;33m,\u001b[0m\u001b[1;33m\n",
       "\u001b[0m    \u001b[0mparam_grid\u001b[0m\u001b[1;33m,\u001b[0m\u001b[1;33m\n",
       "\u001b[0m    \u001b[0mscoring\u001b[0m\u001b[1;33m=\u001b[0m\u001b[1;32mNone\u001b[0m\u001b[1;33m,\u001b[0m\u001b[1;33m\n",
       "\u001b[0m    \u001b[0mfit_params\u001b[0m\u001b[1;33m=\u001b[0m\u001b[1;32mNone\u001b[0m\u001b[1;33m,\u001b[0m\u001b[1;33m\n",
       "\u001b[0m    \u001b[0mn_jobs\u001b[0m\u001b[1;33m=\u001b[0m\u001b[1;32mNone\u001b[0m\u001b[1;33m,\u001b[0m\u001b[1;33m\n",
       "\u001b[0m    \u001b[0miid\u001b[0m\u001b[1;33m=\u001b[0m\u001b[1;34m'warn'\u001b[0m\u001b[1;33m,\u001b[0m\u001b[1;33m\n",
       "\u001b[0m    \u001b[0mrefit\u001b[0m\u001b[1;33m=\u001b[0m\u001b[1;32mTrue\u001b[0m\u001b[1;33m,\u001b[0m\u001b[1;33m\n",
       "\u001b[0m    \u001b[0mcv\u001b[0m\u001b[1;33m=\u001b[0m\u001b[1;34m'warn'\u001b[0m\u001b[1;33m,\u001b[0m\u001b[1;33m\n",
       "\u001b[0m    \u001b[0mverbose\u001b[0m\u001b[1;33m=\u001b[0m\u001b[1;36m0\u001b[0m\u001b[1;33m,\u001b[0m\u001b[1;33m\n",
       "\u001b[0m    \u001b[0mpre_dispatch\u001b[0m\u001b[1;33m=\u001b[0m\u001b[1;34m'2*n_jobs'\u001b[0m\u001b[1;33m,\u001b[0m\u001b[1;33m\n",
       "\u001b[0m    \u001b[0merror_score\u001b[0m\u001b[1;33m=\u001b[0m\u001b[1;34m'raise-deprecating'\u001b[0m\u001b[1;33m,\u001b[0m\u001b[1;33m\n",
       "\u001b[0m    \u001b[0mreturn_train_score\u001b[0m\u001b[1;33m=\u001b[0m\u001b[1;34m'warn'\u001b[0m\u001b[1;33m,\u001b[0m\u001b[1;33m\n",
       "\u001b[0m\u001b[1;33m)\u001b[0m\u001b[1;33m\u001b[0m\u001b[1;33m\u001b[0m\u001b[0m\n",
       "\u001b[1;31mSource:\u001b[0m        \n",
       "\u001b[1;32mclass\u001b[0m \u001b[0mGridSearchCV\u001b[0m\u001b[1;33m(\u001b[0m\u001b[0mBaseSearchCV\u001b[0m\u001b[1;33m)\u001b[0m\u001b[1;33m:\u001b[0m\u001b[1;33m\n",
       "\u001b[0m    \u001b[1;34m\"\"\"Exhaustive search over specified parameter values for an estimator.\n",
       "\n",
       "    Important members are fit, predict.\n",
       "\n",
       "    GridSearchCV implements a \"fit\" and a \"score\" method.\n",
       "    It also implements \"predict\", \"predict_proba\", \"decision_function\",\n",
       "    \"transform\" and \"inverse_transform\" if they are implemented in the\n",
       "    estimator used.\n",
       "\n",
       "    The parameters of the estimator used to apply these methods are optimized\n",
       "    by cross-validated grid-search over a parameter grid.\n",
       "\n",
       "    Read more in the :ref:`User Guide <grid_search>`.\n",
       "\n",
       "    Parameters\n",
       "    ----------\n",
       "    estimator : estimator object.\n",
       "        This is assumed to implement the scikit-learn estimator interface.\n",
       "        Either estimator needs to provide a ``score`` function,\n",
       "        or ``scoring`` must be passed.\n",
       "\n",
       "    param_grid : dict or list of dictionaries\n",
       "        Dictionary with parameters names (string) as keys and lists of\n",
       "        parameter settings to try as values, or a list of such\n",
       "        dictionaries, in which case the grids spanned by each dictionary\n",
       "        in the list are explored. This enables searching over any sequence\n",
       "        of parameter settings.\n",
       "\n",
       "    scoring : string, callable, list/tuple, dict or None, default: None\n",
       "        A single string (see :ref:`scoring_parameter`) or a callable\n",
       "        (see :ref:`scoring`) to evaluate the predictions on the test set.\n",
       "\n",
       "        For evaluating multiple metrics, either give a list of (unique) strings\n",
       "        or a dict with names as keys and callables as values.\n",
       "\n",
       "        NOTE that when using custom scorers, each scorer should return a single\n",
       "        value. Metric functions returning a list/array of values can be wrapped\n",
       "        into multiple scorers that return one value each.\n",
       "\n",
       "        See :ref:`multimetric_grid_search` for an example.\n",
       "\n",
       "        If None, the estimator's default scorer (if available) is used.\n",
       "\n",
       "    fit_params : dict, optional\n",
       "        Parameters to pass to the fit method.\n",
       "\n",
       "        .. deprecated:: 0.19\n",
       "           ``fit_params`` as a constructor argument was deprecated in version\n",
       "           0.19 and will be removed in version 0.21. Pass fit parameters to\n",
       "           the ``fit`` method instead.\n",
       "\n",
       "    n_jobs : int or None, optional (default=None)\n",
       "        Number of jobs to run in parallel.\n",
       "        ``None`` means 1 unless in a :obj:`joblib.parallel_backend` context.\n",
       "        ``-1`` means using all processors. See :term:`Glossary <n_jobs>`\n",
       "        for more details.\n",
       "\n",
       "    pre_dispatch : int, or string, optional\n",
       "        Controls the number of jobs that get dispatched during parallel\n",
       "        execution. Reducing this number can be useful to avoid an\n",
       "        explosion of memory consumption when more jobs get dispatched\n",
       "        than CPUs can process. This parameter can be:\n",
       "\n",
       "            - None, in which case all the jobs are immediately\n",
       "              created and spawned. Use this for lightweight and\n",
       "              fast-running jobs, to avoid delays due to on-demand\n",
       "              spawning of the jobs\n",
       "\n",
       "            - An int, giving the exact number of total jobs that are\n",
       "              spawned\n",
       "\n",
       "            - A string, giving an expression as a function of n_jobs,\n",
       "              as in '2*n_jobs'\n",
       "\n",
       "    iid : boolean, default='warn'\n",
       "        If True, return the average score across folds, weighted by the number\n",
       "        of samples in each test set. In this case, the data is assumed to be\n",
       "        identically distributed across the folds, and the loss minimized is\n",
       "        the total loss per sample, and not the mean loss across the folds. If\n",
       "        False, return the average score across folds. Default is True, but\n",
       "        will change to False in version 0.21, to correspond to the standard\n",
       "        definition of cross-validation.\n",
       "\n",
       "        .. versionchanged:: 0.20\n",
       "            Parameter ``iid`` will change from True to False by default in\n",
       "            version 0.22, and will be removed in 0.24.\n",
       "\n",
       "    cv : int, cross-validation generator or an iterable, optional\n",
       "        Determines the cross-validation splitting strategy.\n",
       "        Possible inputs for cv are:\n",
       "\n",
       "        - None, to use the default 3-fold cross validation,\n",
       "        - integer, to specify the number of folds in a `(Stratified)KFold`,\n",
       "        - :term:`CV splitter`,\n",
       "        - An iterable yielding (train, test) splits as arrays of indices.\n",
       "\n",
       "        For integer/None inputs, if the estimator is a classifier and ``y`` is\n",
       "        either binary or multiclass, :class:`StratifiedKFold` is used. In all\n",
       "        other cases, :class:`KFold` is used.\n",
       "\n",
       "        Refer :ref:`User Guide <cross_validation>` for the various\n",
       "        cross-validation strategies that can be used here.\n",
       "\n",
       "        .. versionchanged:: 0.20\n",
       "            ``cv`` default value if None will change from 3-fold to 5-fold\n",
       "            in v0.22.\n",
       "\n",
       "    refit : boolean, or string, default=True\n",
       "        Refit an estimator using the best found parameters on the whole\n",
       "        dataset.\n",
       "\n",
       "        For multiple metric evaluation, this needs to be a string denoting the\n",
       "        scorer is used to find the best parameters for refitting the estimator\n",
       "        at the end.\n",
       "\n",
       "        The refitted estimator is made available at the ``best_estimator_``\n",
       "        attribute and permits using ``predict`` directly on this\n",
       "        ``GridSearchCV`` instance.\n",
       "\n",
       "        Also for multiple metric evaluation, the attributes ``best_index_``,\n",
       "        ``best_score_`` and ``best_params_`` will only be available if\n",
       "        ``refit`` is set and all of them will be determined w.r.t this specific\n",
       "        scorer.\n",
       "\n",
       "        See ``scoring`` parameter to know more about multiple metric\n",
       "        evaluation.\n",
       "\n",
       "    verbose : integer\n",
       "        Controls the verbosity: the higher, the more messages.\n",
       "\n",
       "    error_score : 'raise' or numeric\n",
       "        Value to assign to the score if an error occurs in estimator fitting.\n",
       "        If set to 'raise', the error is raised. If a numeric value is given,\n",
       "        FitFailedWarning is raised. This parameter does not affect the refit\n",
       "        step, which will always raise the error. Default is 'raise' but from\n",
       "        version 0.22 it will change to np.nan.\n",
       "\n",
       "    return_train_score : boolean, optional\n",
       "        If ``False``, the ``cv_results_`` attribute will not include training\n",
       "        scores.\n",
       "\n",
       "        Current default is ``'warn'``, which behaves as ``True`` in addition\n",
       "        to raising a warning when a training score is looked up.\n",
       "        That default will be changed to ``False`` in 0.21.\n",
       "        Computing training scores is used to get insights on how different\n",
       "        parameter settings impact the overfitting/underfitting trade-off.\n",
       "        However computing the scores on the training set can be computationally\n",
       "        expensive and is not strictly required to select the parameters that\n",
       "        yield the best generalization performance.\n",
       "\n",
       "\n",
       "    Examples\n",
       "    --------\n",
       "    >>> from sklearn import svm, datasets\n",
       "    >>> from sklearn.model_selection import GridSearchCV\n",
       "    >>> iris = datasets.load_iris()\n",
       "    >>> parameters = {'kernel':('linear', 'rbf'), 'C':[1, 10]}\n",
       "    >>> svc = svm.SVC(gamma=\"scale\")\n",
       "    >>> clf = GridSearchCV(svc, parameters, cv=5)\n",
       "    >>> clf.fit(iris.data, iris.target)\n",
       "    ...                             # doctest: +NORMALIZE_WHITESPACE +ELLIPSIS\n",
       "    GridSearchCV(cv=5, error_score=...,\n",
       "           estimator=SVC(C=1.0, cache_size=..., class_weight=..., coef0=...,\n",
       "                         decision_function_shape='ovr', degree=..., gamma=...,\n",
       "                         kernel='rbf', max_iter=-1, probability=False,\n",
       "                         random_state=None, shrinking=True, tol=...,\n",
       "                         verbose=False),\n",
       "           fit_params=None, iid=..., n_jobs=None,\n",
       "           param_grid=..., pre_dispatch=..., refit=..., return_train_score=...,\n",
       "           scoring=..., verbose=...)\n",
       "    >>> sorted(clf.cv_results_.keys())\n",
       "    ...                             # doctest: +NORMALIZE_WHITESPACE +ELLIPSIS\n",
       "    ['mean_fit_time', 'mean_score_time', 'mean_test_score',...\n",
       "     'mean_train_score', 'param_C', 'param_kernel', 'params',...\n",
       "     'rank_test_score', 'split0_test_score',...\n",
       "     'split0_train_score', 'split1_test_score', 'split1_train_score',...\n",
       "     'split2_test_score', 'split2_train_score',...\n",
       "     'std_fit_time', 'std_score_time', 'std_test_score', 'std_train_score'...]\n",
       "\n",
       "    Attributes\n",
       "    ----------\n",
       "    cv_results_ : dict of numpy (masked) ndarrays\n",
       "        A dict with keys as column headers and values as columns, that can be\n",
       "        imported into a pandas ``DataFrame``.\n",
       "\n",
       "        For instance the below given table\n",
       "\n",
       "        +------------+-----------+------------+-----------------+---+---------+\n",
       "        |param_kernel|param_gamma|param_degree|split0_test_score|...|rank_t...|\n",
       "        +============+===========+============+=================+===+=========+\n",
       "        |  'poly'    |     --    |      2     |       0.80      |...|    2    |\n",
       "        +------------+-----------+------------+-----------------+---+---------+\n",
       "        |  'poly'    |     --    |      3     |       0.70      |...|    4    |\n",
       "        +------------+-----------+------------+-----------------+---+---------+\n",
       "        |  'rbf'     |     0.1   |     --     |       0.80      |...|    3    |\n",
       "        +------------+-----------+------------+-----------------+---+---------+\n",
       "        |  'rbf'     |     0.2   |     --     |       0.93      |...|    1    |\n",
       "        +------------+-----------+------------+-----------------+---+---------+\n",
       "\n",
       "        will be represented by a ``cv_results_`` dict of::\n",
       "\n",
       "            {\n",
       "            'param_kernel': masked_array(data = ['poly', 'poly', 'rbf', 'rbf'],\n",
       "                                         mask = [False False False False]...)\n",
       "            'param_gamma': masked_array(data = [-- -- 0.1 0.2],\n",
       "                                        mask = [ True  True False False]...),\n",
       "            'param_degree': masked_array(data = [2.0 3.0 -- --],\n",
       "                                         mask = [False False  True  True]...),\n",
       "            'split0_test_score'  : [0.80, 0.70, 0.80, 0.93],\n",
       "            'split1_test_score'  : [0.82, 0.50, 0.70, 0.78],\n",
       "            'mean_test_score'    : [0.81, 0.60, 0.75, 0.85],\n",
       "            'std_test_score'     : [0.01, 0.10, 0.05, 0.08],\n",
       "            'rank_test_score'    : [2, 4, 3, 1],\n",
       "            'split0_train_score' : [0.80, 0.92, 0.70, 0.93],\n",
       "            'split1_train_score' : [0.82, 0.55, 0.70, 0.87],\n",
       "            'mean_train_score'   : [0.81, 0.74, 0.70, 0.90],\n",
       "            'std_train_score'    : [0.01, 0.19, 0.00, 0.03],\n",
       "            'mean_fit_time'      : [0.73, 0.63, 0.43, 0.49],\n",
       "            'std_fit_time'       : [0.01, 0.02, 0.01, 0.01],\n",
       "            'mean_score_time'    : [0.01, 0.06, 0.04, 0.04],\n",
       "            'std_score_time'     : [0.00, 0.00, 0.00, 0.01],\n",
       "            'params'             : [{'kernel': 'poly', 'degree': 2}, ...],\n",
       "            }\n",
       "\n",
       "        NOTE\n",
       "\n",
       "        The key ``'params'`` is used to store a list of parameter\n",
       "        settings dicts for all the parameter candidates.\n",
       "\n",
       "        The ``mean_fit_time``, ``std_fit_time``, ``mean_score_time`` and\n",
       "        ``std_score_time`` are all in seconds.\n",
       "\n",
       "        For multi-metric evaluation, the scores for all the scorers are\n",
       "        available in the ``cv_results_`` dict at the keys ending with that\n",
       "        scorer's name (``'_<scorer_name>'``) instead of ``'_score'`` shown\n",
       "        above. ('split0_test_precision', 'mean_train_precision' etc.)\n",
       "\n",
       "    best_estimator_ : estimator or dict\n",
       "        Estimator that was chosen by the search, i.e. estimator\n",
       "        which gave highest score (or smallest loss if specified)\n",
       "        on the left out data. Not available if ``refit=False``.\n",
       "\n",
       "        See ``refit`` parameter for more information on allowed values.\n",
       "\n",
       "    best_score_ : float\n",
       "        Mean cross-validated score of the best_estimator\n",
       "\n",
       "        For multi-metric evaluation, this is present only if ``refit`` is\n",
       "        specified.\n",
       "\n",
       "    best_params_ : dict\n",
       "        Parameter setting that gave the best results on the hold out data.\n",
       "\n",
       "        For multi-metric evaluation, this is present only if ``refit`` is\n",
       "        specified.\n",
       "\n",
       "    best_index_ : int\n",
       "        The index (of the ``cv_results_`` arrays) which corresponds to the best\n",
       "        candidate parameter setting.\n",
       "\n",
       "        The dict at ``search.cv_results_['params'][search.best_index_]`` gives\n",
       "        the parameter setting for the best model, that gives the highest\n",
       "        mean score (``search.best_score_``).\n",
       "\n",
       "        For multi-metric evaluation, this is present only if ``refit`` is\n",
       "        specified.\n",
       "\n",
       "    scorer_ : function or a dict\n",
       "        Scorer function used on the held out data to choose the best\n",
       "        parameters for the model.\n",
       "\n",
       "        For multi-metric evaluation, this attribute holds the validated\n",
       "        ``scoring`` dict which maps the scorer key to the scorer callable.\n",
       "\n",
       "    n_splits_ : int\n",
       "        The number of cross-validation splits (folds/iterations).\n",
       "\n",
       "    refit_time_ : float\n",
       "        Seconds used for refitting the best model on the whole dataset.\n",
       "\n",
       "        This is present only if ``refit`` is not False.\n",
       "\n",
       "    Notes\n",
       "    ------\n",
       "    The parameters selected are those that maximize the score of the left out\n",
       "    data, unless an explicit score is passed in which case it is used instead.\n",
       "\n",
       "    If `n_jobs` was set to a value higher than one, the data is copied for each\n",
       "    point in the grid (and not `n_jobs` times). This is done for efficiency\n",
       "    reasons if individual jobs take very little time, but may raise errors if\n",
       "    the dataset is large and not enough memory is available.  A workaround in\n",
       "    this case is to set `pre_dispatch`. Then, the memory is copied only\n",
       "    `pre_dispatch` many times. A reasonable value for `pre_dispatch` is `2 *\n",
       "    n_jobs`.\n",
       "\n",
       "    See Also\n",
       "    ---------\n",
       "    :class:`ParameterGrid`:\n",
       "        generates all the combinations of a hyperparameter grid.\n",
       "\n",
       "    :func:`sklearn.model_selection.train_test_split`:\n",
       "        utility function to split the data into a development set usable\n",
       "        for fitting a GridSearchCV instance and an evaluation set for\n",
       "        its final evaluation.\n",
       "\n",
       "    :func:`sklearn.metrics.make_scorer`:\n",
       "        Make a scorer from a performance metric or loss function.\n",
       "\n",
       "    \"\"\"\u001b[0m\u001b[1;33m\n",
       "\u001b[0m\u001b[1;33m\n",
       "\u001b[0m    \u001b[1;32mdef\u001b[0m \u001b[0m__init__\u001b[0m\u001b[1;33m(\u001b[0m\u001b[0mself\u001b[0m\u001b[1;33m,\u001b[0m \u001b[0mestimator\u001b[0m\u001b[1;33m,\u001b[0m \u001b[0mparam_grid\u001b[0m\u001b[1;33m,\u001b[0m \u001b[0mscoring\u001b[0m\u001b[1;33m=\u001b[0m\u001b[1;32mNone\u001b[0m\u001b[1;33m,\u001b[0m \u001b[0mfit_params\u001b[0m\u001b[1;33m=\u001b[0m\u001b[1;32mNone\u001b[0m\u001b[1;33m,\u001b[0m\u001b[1;33m\n",
       "\u001b[0m                 \u001b[0mn_jobs\u001b[0m\u001b[1;33m=\u001b[0m\u001b[1;32mNone\u001b[0m\u001b[1;33m,\u001b[0m \u001b[0miid\u001b[0m\u001b[1;33m=\u001b[0m\u001b[1;34m'warn'\u001b[0m\u001b[1;33m,\u001b[0m \u001b[0mrefit\u001b[0m\u001b[1;33m=\u001b[0m\u001b[1;32mTrue\u001b[0m\u001b[1;33m,\u001b[0m \u001b[0mcv\u001b[0m\u001b[1;33m=\u001b[0m\u001b[1;34m'warn'\u001b[0m\u001b[1;33m,\u001b[0m \u001b[0mverbose\u001b[0m\u001b[1;33m=\u001b[0m\u001b[1;36m0\u001b[0m\u001b[1;33m,\u001b[0m\u001b[1;33m\n",
       "\u001b[0m                 \u001b[0mpre_dispatch\u001b[0m\u001b[1;33m=\u001b[0m\u001b[1;34m'2*n_jobs'\u001b[0m\u001b[1;33m,\u001b[0m \u001b[0merror_score\u001b[0m\u001b[1;33m=\u001b[0m\u001b[1;34m'raise-deprecating'\u001b[0m\u001b[1;33m,\u001b[0m\u001b[1;33m\n",
       "\u001b[0m                 \u001b[0mreturn_train_score\u001b[0m\u001b[1;33m=\u001b[0m\u001b[1;34m\"warn\"\u001b[0m\u001b[1;33m)\u001b[0m\u001b[1;33m:\u001b[0m\u001b[1;33m\n",
       "\u001b[0m        \u001b[0msuper\u001b[0m\u001b[1;33m(\u001b[0m\u001b[0mGridSearchCV\u001b[0m\u001b[1;33m,\u001b[0m \u001b[0mself\u001b[0m\u001b[1;33m)\u001b[0m\u001b[1;33m.\u001b[0m\u001b[0m__init__\u001b[0m\u001b[1;33m(\u001b[0m\u001b[1;33m\n",
       "\u001b[0m            \u001b[0mestimator\u001b[0m\u001b[1;33m=\u001b[0m\u001b[0mestimator\u001b[0m\u001b[1;33m,\u001b[0m \u001b[0mscoring\u001b[0m\u001b[1;33m=\u001b[0m\u001b[0mscoring\u001b[0m\u001b[1;33m,\u001b[0m \u001b[0mfit_params\u001b[0m\u001b[1;33m=\u001b[0m\u001b[0mfit_params\u001b[0m\u001b[1;33m,\u001b[0m\u001b[1;33m\n",
       "\u001b[0m            \u001b[0mn_jobs\u001b[0m\u001b[1;33m=\u001b[0m\u001b[0mn_jobs\u001b[0m\u001b[1;33m,\u001b[0m \u001b[0miid\u001b[0m\u001b[1;33m=\u001b[0m\u001b[0miid\u001b[0m\u001b[1;33m,\u001b[0m \u001b[0mrefit\u001b[0m\u001b[1;33m=\u001b[0m\u001b[0mrefit\u001b[0m\u001b[1;33m,\u001b[0m \u001b[0mcv\u001b[0m\u001b[1;33m=\u001b[0m\u001b[0mcv\u001b[0m\u001b[1;33m,\u001b[0m \u001b[0mverbose\u001b[0m\u001b[1;33m=\u001b[0m\u001b[0mverbose\u001b[0m\u001b[1;33m,\u001b[0m\u001b[1;33m\n",
       "\u001b[0m            \u001b[0mpre_dispatch\u001b[0m\u001b[1;33m=\u001b[0m\u001b[0mpre_dispatch\u001b[0m\u001b[1;33m,\u001b[0m \u001b[0merror_score\u001b[0m\u001b[1;33m=\u001b[0m\u001b[0merror_score\u001b[0m\u001b[1;33m,\u001b[0m\u001b[1;33m\n",
       "\u001b[0m            \u001b[0mreturn_train_score\u001b[0m\u001b[1;33m=\u001b[0m\u001b[0mreturn_train_score\u001b[0m\u001b[1;33m)\u001b[0m\u001b[1;33m\n",
       "\u001b[0m        \u001b[0mself\u001b[0m\u001b[1;33m.\u001b[0m\u001b[0mparam_grid\u001b[0m \u001b[1;33m=\u001b[0m \u001b[0mparam_grid\u001b[0m\u001b[1;33m\n",
       "\u001b[0m        \u001b[0m_check_param_grid\u001b[0m\u001b[1;33m(\u001b[0m\u001b[0mparam_grid\u001b[0m\u001b[1;33m)\u001b[0m\u001b[1;33m\n",
       "\u001b[0m\u001b[1;33m\n",
       "\u001b[0m    \u001b[1;32mdef\u001b[0m \u001b[0m_run_search\u001b[0m\u001b[1;33m(\u001b[0m\u001b[0mself\u001b[0m\u001b[1;33m,\u001b[0m \u001b[0mevaluate_candidates\u001b[0m\u001b[1;33m)\u001b[0m\u001b[1;33m:\u001b[0m\u001b[1;33m\n",
       "\u001b[0m        \u001b[1;34m\"\"\"Search all candidates in param_grid\"\"\"\u001b[0m\u001b[1;33m\n",
       "\u001b[0m        \u001b[0mevaluate_candidates\u001b[0m\u001b[1;33m(\u001b[0m\u001b[0mParameterGrid\u001b[0m\u001b[1;33m(\u001b[0m\u001b[0mself\u001b[0m\u001b[1;33m.\u001b[0m\u001b[0mparam_grid\u001b[0m\u001b[1;33m)\u001b[0m\u001b[1;33m)\u001b[0m\u001b[1;33m\u001b[0m\u001b[1;33m\u001b[0m\u001b[0m\n",
       "\u001b[1;31mFile:\u001b[0m           d:\\pycharmprojects\\conda-env\\lib\\site-packages\\sklearn\\model_selection\\_search.py\n",
       "\u001b[1;31mType:\u001b[0m           ABCMeta\n",
       "\u001b[1;31mSubclasses:\u001b[0m     \n"
      ]
     },
     "metadata": {},
     "output_type": "display_data"
    }
   ],
   "source": [
    "??GridSearchCV"
   ]
  },
  {
   "cell_type": "code",
   "execution_count": null,
   "metadata": {},
   "outputs": [],
   "source": []
  },
  {
   "cell_type": "code",
   "execution_count": null,
   "metadata": {},
   "outputs": [],
   "source": []
  },
  {
   "cell_type": "code",
   "execution_count": null,
   "metadata": {},
   "outputs": [],
   "source": []
  },
  {
   "cell_type": "code",
   "execution_count": null,
   "metadata": {},
   "outputs": [],
   "source": []
  },
  {
   "cell_type": "markdown",
   "metadata": {},
   "source": [
    "Un punteggio F1 non molto al di sopra del 50% (probabilità di indovinare il lato di una moneta bilanciata) non è un gran punteggio. Vediamo se riesco a tirarne fuori qualcosa di più."
   ]
  },
  {
   "cell_type": "markdown",
   "metadata": {},
   "source": [
    "Ricordiamo come funziona la regressione logistica. Per semplificare consideriamo il caso di due ingressi $x1$ e $x2$. <br>\n",
    "Gli ingressi sono combinati linearnemente con i pesi $w1$ e $w2$, un fattore bias $b$ viene sommato: $z=w_1 \\cdot x_1 + w_2 \\cdot x_2 + b$<br>\n",
    "La somma viene applicata alla funzione sigmoid $\\sigma(z)$, la cui uscita è compresa tra 0 e 1.<br>\n",
    "Sul risultato della funzione sigmoid viene fatta la decisione:\n",
    "\\begin{equation}\n",
    "\\sigma(z) > 0.5 \\implies y=1\n",
    "\\end{equation}\n",
    "\\begin{equation}\n",
    "\\sigma(z) \\le 0.5 \\implies y=0\n",
    "\\end{equation}"
   ]
  },
  {
   "cell_type": "code",
   "execution_count": 53,
   "metadata": {},
   "outputs": [
    {
     "data": {
      "image/png": "[encoded data removed]",
      "text/plain": [
       "<Figure size 432x288 with 1 Axes>"
      ]
     },
     "metadata": {
      "needs_background": "light"
     },
     "output_type": "display_data"
    }
   ],
   "source": [
    "x = np.arange(-10,10,0.1)\n",
    "x_tens = torch.from_numpy(x)\n",
    "y = torch.sigmoid( x_tens )\n",
    "\n",
    "plt.plot( x,y.numpy() )\n",
    "plt.xticks(np.arange(-10, 10, 2.5))\n",
    "plt.yticks(np.arange(0, 1, 0.1))\n",
    "plt.grid(which='both')\n",
    "plt.xlabel('z')\n",
    "plt.ylabel('sigma(z)')\n",
    "plt.title('funzione Sigmoid')\n",
    "plt.show()"
   ]
  },
  {
   "cell_type": "markdown",
   "metadata": {},
   "source": [
    "Come si vede dal grafico della funzione Sigmoid sopra, $\\sigma(z)$ è maggiore di 0.5 se z > 0. Ovvero se:\n",
    "\n",
    "\\begin{equation}\n",
    "w_1 \\cdot x_1 + w_2 \\cdot x_2 + b > 0\n",
    "\\end{equation}\n",
    "\n",
    "La disequazione sopra definisce una regione dello spazio bidimensionale delimitata dalla retta:\n",
    "$x_2 = -\\frac{w_1}{w_2} x_1 - \\frac{b}{w_2}$\n",
    "\n",
    "Questa divisione dello spazio può andare bene in alcuni casi casi, per esempio nella situazione sotto la retta riesce a classificare abbastanza bene tra punti verdi e punti rossi."
   ]
  },
  {
   "cell_type": "code",
   "execution_count": 54,
   "metadata": {},
   "outputs": [
    {
     "data": {
      "image/png": "[encoded data removed]",
      "text/plain": [
       "<Figure size 432x288 with 1 Axes>"
      ]
     },
     "metadata": {
      "needs_background": "light"
     },
     "output_type": "display_data"
    }
   ],
   "source": [
    "#Questo codice serve solo per la rappresentazione di un concetto\n",
    "fgr2 = plt.figure()\n",
    "x = np.arange(0,10,0.1)\n",
    "y = -5*x + 50\n",
    "# x1 = np.random()\n",
    "x1 = 4 * np.random.randn(500)+5\n",
    "y1 = 20 * np.random.randn(500)+25\n",
    "yn = 5 * np.random.randn(500)\n",
    "plt.plot(x,y, label=\"x2 = -5*x1 + 50\", lw=3)\n",
    "plt.scatter(x1[y1>(-5*x1+50+yn)],y1[y1>(-5*x1+50+yn)],color=\"green\")\n",
    "plt.scatter(x1[y1<=(-5*x1+50+yn)],y1[y1<=(-5*x1+50+yn)],color=\"red\")\n",
    "plt.xlim((0,10))\n",
    "plt.ylim((0,50))\n",
    "plt.xlabel('x1')\n",
    "plt.ylabel('x2')\n",
    "plt.legend()\n",
    "plt.show()"
   ]
  },
  {
   "cell_type": "markdown",
   "metadata": {},
   "source": [
    "Invece nel caso rappresentato sotto, una retta non darebbe buoni risultati nella classificazione tra punti rossi e verdi. Serve invece qualcosa come una circonferenza. Ovvero qualcosa del tipo:\n",
    "\\begin{equation}\n",
    "(x_1-x_{1,0})^2 + (x_2-x_{2,0})^2 = R^2\n",
    "\\end{equation}\n",
    "\n",
    "Quindi occorre che nel modello di regressione compaiano anche i termini al quadrato degli ingressi $x_1$ e $x_2$.<br>\n",
    "Questa tecnica si chiama features mapping, e consiste nel definire (mappare) come nuove features di ingresso le potenze degli ingressi originali e tutti i possibili prodotti. Per esempio, nel caso sotto potrei considerare come features di ingresso i seguenti:\n",
    "\n",
    "\\begin{equation}\n",
    "input =\n",
    "\\begin{bmatrix}\n",
    "x_1\\cr\n",
    "x_2\\cr\n",
    "x_1\\cdot x_2\\cr\n",
    "x_1^2\\cr\n",
    "x_2^2\n",
    "\\end{bmatrix}\n",
    "\\end{equation}\n",
    "\n",
    "Una volta introdotti i termini quadratici tra gli ingressi, l'ottimizzatore riuscirà (speriamo) a trovare la giusta combinazione di questi per ottenere il contorno di decisione di forma circolare come nella figura sottostante."
   ]
  },
  {
   "cell_type": "code",
   "execution_count": 55,
   "metadata": {},
   "outputs": [
    {
     "data": {
      "image/png": "[encoded data removed]",
      "text/plain": [
       "<Figure size 432x432 with 1 Axes>"
      ]
     },
     "metadata": {
      "needs_background": "light"
     },
     "output_type": "display_data"
    }
   ],
   "source": [
    "#Questo codice serve solo per la rappresentazione di un concetto\n",
    "fig, ax = plt.subplots(figsize=(6,6))\n",
    "x = np.arange(0,10,0.1)\n",
    "y = -5*x + 50\n",
    "# x1 = np.random()\n",
    "x1 = 3 * np.random.randn(500)+5\n",
    "y1 = 3 * np.random.randn(500)+5\n",
    "yn = 2 * np.random.randn(500)\n",
    "# plt.plot(x,y, label=\"x2 = -5*x1 + 50\", lw=3)\n",
    "extern = ((x1-5)**2 + (y1-5)**2 -2**2 > yn)\n",
    "intern = ((x1-5)**2 + (y1-5)**2 -2**2 <= yn)\n",
    "plt.scatter(x1[extern],y1[extern],color=\"green\")\n",
    "plt.scatter(x1[intern],y1[intern],color=\"red\")\n",
    "circle1 = plt.Circle((5, 5), 2, color='b', fill=False, lw=2.5)\n",
    "ax.add_artist(circle1)\n",
    "plt.xlim((0,10))\n",
    "plt.ylim((0,10))\n",
    "plt.xlabel('x1')\n",
    "plt.ylabel('x2')\n",
    "# plt.gca().set_aspect('equal', adjustable='box')\n",
    "# plt.legend()\n",
    "plt.show()"
   ]
  },
  {
   "cell_type": "markdown",
   "metadata": {},
   "source": [
    "Per generare i termini non lineari di un numpy array x (ogni colonna una feature diversa) uso il codice sotto. La programmazione di questo mi ha dato abbastanza mal di testa, usatelo con cautela."
   ]
  },
  {
   "cell_type": "code",
   "execution_count": 56,
   "metadata": {},
   "outputs": [],
   "source": [
    "def generateNonLinearFeatures(x,max_exp):\n",
    "#given a marix with features in column, generate a new matrix with all the polynomial combination up to max_exp\n",
    "\n",
    "    import itertools\n",
    "\n",
    "    terms = []\n",
    "    num_feat = x.shape[1]\n",
    "    \n",
    "    #il prossimo comando genera una lista delle possibili combinazioni delle variabili fino al max_exp\n",
    "    #Esempio: num_Feat=2 max_exp=2 genera:\n",
    "    #[(0, 0),  (0, 1), (0, 2), (1, 1), (1, 2), (2, 2)] corrispondenti a:\n",
    "    # x^0 x^0  x^0 x^1 x^0 x^2 x^1 x^1 x^1 x^2 x^2 x^2\n",
    "    terms = list(itertools.combinations_with_replacement(list(range(num_feat+1)), max_exp))\n",
    "    \n",
    "#     for a in itertools.combinations_with_replacement(list(range(num_feat+1)), max_exp): #OLD\n",
    "#         terms.append(a)\n",
    "\n",
    "\n",
    "    if 'pol' in locals(): #rimuove la variabile pol se esiste già\n",
    "        del pol\n",
    "\n",
    "    for i in range(len(terms)): \n",
    "        polcol = np.ones(x.shape[0]).reshape(x.shape[0],1)\n",
    "        sum=0\n",
    "        for j in range(max_exp):\n",
    "#             print(i,j) #for debug only\n",
    "            sum=sum+int(terms[i][j])\n",
    "            if terms[i][j]!=0:\n",
    "                polcol = np.multiply(polcol,x[:,int(terms[i][j])-1].reshape(x.shape[0],1))\n",
    "        if (sum!=0): #exclude case all zeros (0,0), don't add the column\n",
    "            if 'pol' in locals():\n",
    "                pol = np.column_stack([pol, polcol])\n",
    "            else:\n",
    "                pol = polcol\n",
    "\n",
    "    return pol"
   ]
  },
  {
   "cell_type": "markdown",
   "metadata": {},
   "source": [
    "Per generare le features non lineari decido di rinunciare alla codifica dei dottori perché sono 109 colonne che renderebbero il calcolo molto pesante. Potrei concatenare la lista alla fine senza termini non lineari. Per il momento la lascio fuori.  "
   ]
  },
  {
   "cell_type": "markdown",
   "metadata": {},
   "source": [
    "Riparto dal dataframe dei pazienti, normalizzato:"
   ]
  },
  {
   "cell_type": "code",
   "execution_count": 57,
   "metadata": {},
   "outputs": [],
   "source": [
    "lista_pazienti_norm2 = lista_pazienti_norm.drop(columns=['Diabetic','Physician','PatientID'])\n",
    "# lista_pazienti_norm2.values"
   ]
  },
  {
   "cell_type": "markdown",
   "metadata": {},
   "source": [
    "Genero i termini non lineari fino al secondo ordine, si noti che la funzione generateNonLinearFeatures necessita come argomento un array (non un dataframe) per cui devo usare l'attributo <strong>.values</strong>"
   ]
  },
  {
   "cell_type": "code",
   "execution_count": 58,
   "metadata": {},
   "outputs": [],
   "source": [
    "lista_pazient_norm_nl = generateNonLinearFeatures(lista_pazienti_norm2.values,2)"
   ]
  },
  {
   "cell_type": "markdown",
   "metadata": {},
   "source": [
    "Ridefinisco la label e verifico che la lunghezza dei vettori sia corretta"
   ]
  },
  {
   "cell_type": "code",
   "execution_count": 59,
   "metadata": {},
   "outputs": [
    {
     "data": {
      "text/plain": [
       "((15000, 44), (15000,))"
      ]
     },
     "execution_count": 59,
     "metadata": {},
     "output_type": "execute_result"
    }
   ],
   "source": [
    "label = lista_pazienti_norm.Diabetic.values\n",
    "lista_pazient_norm_nl.shape, label.shape"
   ]
  },
  {
   "cell_type": "markdown",
   "metadata": {},
   "source": [
    "Divido il dataset in test e train:"
   ]
  },
  {
   "cell_type": "code",
   "execution_count": 60,
   "metadata": {},
   "outputs": [
    {
     "data": {
      "text/plain": [
       "((10500, 44), (4500, 44), (10500,), (4500,))"
      ]
     },
     "execution_count": 60,
     "metadata": {},
     "output_type": "execute_result"
    }
   ],
   "source": [
    "lista_pazienti_norm_nl_train, lista_pazienti_norm_nl_test, label_train, label_test = train_test_split(lista_pazient_norm_nl, label, test_size=0.3)\n",
    "\n",
    "lista_pazienti_norm_nl_train.shape, lista_pazienti_norm_nl_test.shape, label_train.shape, label_test.shape"
   ]
  },
  {
   "cell_type": "markdown",
   "metadata": {},
   "source": [
    "Converto gli array in tensori con elementi float:"
   ]
  },
  {
   "cell_type": "code",
   "execution_count": 61,
   "metadata": {},
   "outputs": [],
   "source": [
    "input_data_train_tens = torch.from_numpy(lista_pazienti_norm_nl_train).type(dtype=torch.float)\n",
    "input_data_test_tens = torch.from_numpy(lista_pazienti_norm_nl_test).type(dtype=torch.float)\n",
    "label_train_tens = torch.from_numpy(label_train).type(dtype=torch.float).view(-1,1)\n",
    "label_test_tens = torch.from_numpy(label_test).type(dtype=torch.float).view(-1,1)"
   ]
  },
  {
   "cell_type": "markdown",
   "metadata": {},
   "source": [
    "Sono un po' paranoico con le verifiche:"
   ]
  },
  {
   "cell_type": "code",
   "execution_count": 62,
   "metadata": {},
   "outputs": [
    {
     "data": {
      "text/plain": [
       "(torch.Size([10500, 44]), torch.Size([10500, 1]))"
      ]
     },
     "execution_count": 62,
     "metadata": {},
     "output_type": "execute_result"
    }
   ],
   "source": [
    "input_data_train_tens.shape, label_train_tens.shape"
   ]
  },
  {
   "cell_type": "markdown",
   "metadata": {},
   "source": [
    "Ridefinisco il modello sequenziale con il giusto numero di ingressi:"
   ]
  },
  {
   "cell_type": "code",
   "execution_count": 63,
   "metadata": {},
   "outputs": [],
   "source": [
    "model_logreg = nn.Sequential(\n",
    "    nn.Linear(input_data_train_tens.shape[1],1), \n",
    "    nn.Sigmoid()\n",
    ")"
   ]
  },
  {
   "cell_type": "markdown",
   "metadata": {},
   "source": [
    "definisco l'ottimizzatore"
   ]
  },
  {
   "cell_type": "code",
   "execution_count": 64,
   "metadata": {},
   "outputs": [],
   "source": [
    "learning_rate = 0.1\n",
    "optimizer = torch.optim.Adam(model_logreg.parameters(), lr = learning_rate)"
   ]
  },
  {
   "cell_type": "markdown",
   "metadata": {},
   "source": [
    "e il loop di training del modello"
   ]
  },
  {
   "cell_type": "code",
   "execution_count": 65,
   "metadata": {},
   "outputs": [
    {
     "name": "stdout",
     "output_type": "stream",
     "text": [
      "tensor(0.6992, grad_fn=<BinaryCrossEntropyBackward>)\n",
      "tensor(0.4006, grad_fn=<BinaryCrossEntropyBackward>)\n",
      "tensor(0.3841, grad_fn=<BinaryCrossEntropyBackward>)\n",
      "tensor(0.3790, grad_fn=<BinaryCrossEntropyBackward>)\n",
      "tensor(0.3769, grad_fn=<BinaryCrossEntropyBackward>)\n",
      "tensor(0.3758, grad_fn=<BinaryCrossEntropyBackward>)\n",
      "tensor(0.3749, grad_fn=<BinaryCrossEntropyBackward>)\n",
      "tensor(0.3743, grad_fn=<BinaryCrossEntropyBackward>)\n",
      "tensor(0.3737, grad_fn=<BinaryCrossEntropyBackward>)\n",
      "tensor(0.3732, grad_fn=<BinaryCrossEntropyBackward>)\n"
     ]
    }
   ],
   "source": [
    "for i in range(1000):\n",
    "    output_data_train = model_logreg( input_data_train_tens ) #calcolo l'uscita\n",
    "    loss = error(output_data_train, label_train_tens)         #calcolo l'errore\n",
    "    loss.backward()        #calcolo del gradiente\n",
    "    optimizer.step()       #aggiornamento ei parametri\n",
    "    optimizer.zero_grad()  #azzeramento del gradiente\n",
    "    if np.mod(i,100)==0:\n",
    "        print(loss)"
   ]
  },
  {
   "cell_type": "markdown",
   "metadata": {},
   "source": [
    "calcolo l'uscita per il dataset si test, per il dataset di train ce l'ho già dal loop precedente:"
   ]
  },
  {
   "cell_type": "code",
   "execution_count": 66,
   "metadata": {},
   "outputs": [],
   "source": [
    "output_data_test = model_logreg( input_data_test_tens )"
   ]
  },
  {
   "cell_type": "markdown",
   "metadata": {},
   "source": [
    "Calcolo e grafico le curve ROC "
   ]
  },
  {
   "cell_type": "code",
   "execution_count": 67,
   "metadata": {},
   "outputs": [],
   "source": [
    "fpr_train, tpr_train, _ = roc_curve(label_train_tens,output_data_train.detach())\n",
    "fpr_test, tpr_test, _   = roc_curve(label_test_tens ,output_data_test.detach())"
   ]
  },
  {
   "cell_type": "code",
   "execution_count": 68,
   "metadata": {},
   "outputs": [
    {
     "data": {
      "image/png": "[encoded data removed]",
      "text/plain": [
       "<Figure size 432x288 with 1 Axes>"
      ]
     },
     "metadata": {
      "needs_background": "light"
     },
     "output_type": "display_data"
    }
   ],
   "source": [
    "fgr1 = plt.figure()\n",
    "lw = 2\n",
    "plt.plot(fpr_test, tpr_test, color='darkorange', label=\"test\", lw=lw)\n",
    "plt.plot(fpr_train, tpr_train, color='darkgreen', label=\"train\", lw=lw)\n",
    "plt.plot([0, 1], [0, 1], color='navy', lw=lw, linestyle='--')\n",
    "plt.xlim([0.0, 1])\n",
    "plt.ylim([0.0, 1.05])\n",
    "plt.xticks(np.arange(0, 1, 0.1))\n",
    "plt.yticks(np.arange(0, 1, 0.1))\n",
    "plt.xlabel('False Positive Rate')\n",
    "plt.ylabel('True Positive Rate')\n",
    "plt.title('Receiver operating characteristic (ROC curve)')\n",
    "plt.legend(loc=\"lower right\")\n",
    "plt.grid(which='both')\n",
    "plt.show()"
   ]
  },
  {
   "cell_type": "markdown",
   "metadata": {},
   "source": [
    "Applico la funzione di decisione della classe:"
   ]
  },
  {
   "cell_type": "code",
   "execution_count": 69,
   "metadata": {},
   "outputs": [],
   "source": [
    "# output_data_train = model_logreg( input_data_train_tens )\n",
    "# output_data_train_bin = (output_data_train.detach()>0.5).numpy()\n",
    "output_data_test_bin = (output_data_test.detach()>0.5).numpy()"
   ]
  },
  {
   "cell_type": "markdown",
   "metadata": {},
   "source": [
    "calcolo la matrice di confusione:"
   ]
  },
  {
   "cell_type": "code",
   "execution_count": 70,
   "metadata": {},
   "outputs": [],
   "source": [
    "tn, fp, fn, tp = confusion_matrix(label_test_tens, output_data_test_bin ).ravel()"
   ]
  },
  {
   "cell_type": "markdown",
   "metadata": {},
   "source": [
    "e le quantità ad essa connesse:"
   ]
  },
  {
   "cell_type": "code",
   "execution_count": 71,
   "metadata": {},
   "outputs": [
    {
     "name": "stdout",
     "output_type": "stream",
     "text": [
      "L'accuratezza è 82.6%\n",
      "La precisione è 77.2%\n",
      "Il recall è 69.0%\n",
      "Il punteggio F1 è 72.9%\n"
     ]
    }
   ],
   "source": [
    "A = (tp+tn)/(tp+tn+fn+fp)\n",
    "P = tp/(tp+fp)\n",
    "R = tp/(tp+fn)\n",
    "F1 = 2*(P*R)/(P+R)\n",
    "print('L\\'accuratezza è %0.1f%%' %(A*100))\n",
    "print('La precisione è %0.1f%%' %(P*100))\n",
    "print('Il recall è %0.1f%%' %(R*100))\n",
    "print('Il punteggio F1 è %0.1f%%' %(F1*100))"
   ]
  },
  {
   "cell_type": "markdown",
   "metadata": {},
   "source": [
    "Quindi aggiungendo i termini quadratici il punteggio F1 è salito dal 66% al 73%."
   ]
  },
  {
   "cell_type": "markdown",
   "metadata": {},
   "source": [
    "Proviamo ad aggiungere i termini al cubo. Ovviamente una cosa intelligente sarebbe quella di raccogliere tutti gli step in una funzione. Cosa che non farò, affidandomi al più veloce CUT and PASTE di Jupyter."
   ]
  },
  {
   "cell_type": "code",
   "execution_count": 72,
   "metadata": {},
   "outputs": [
    {
     "name": "stdout",
     "output_type": "stream",
     "text": [
      "tensor(0.6846, grad_fn=<BinaryCrossEntropyBackward>)\n",
      "tensor(0.3778, grad_fn=<BinaryCrossEntropyBackward>)\n",
      "tensor(0.3484, grad_fn=<BinaryCrossEntropyBackward>)\n",
      "tensor(0.3257, grad_fn=<BinaryCrossEntropyBackward>)\n",
      "tensor(0.3087, grad_fn=<BinaryCrossEntropyBackward>)\n",
      "tensor(0.2959, grad_fn=<BinaryCrossEntropyBackward>)\n",
      "tensor(0.2858, grad_fn=<BinaryCrossEntropyBackward>)\n",
      "tensor(0.2777, grad_fn=<BinaryCrossEntropyBackward>)\n",
      "tensor(0.2710, grad_fn=<BinaryCrossEntropyBackward>)\n",
      "tensor(0.2656, grad_fn=<BinaryCrossEntropyBackward>)\n"
     ]
    },
    {
     "data": {
      "image/png": "[encoded data removed]",
      "text/plain": [
       "<Figure size 432x288 with 1 Axes>"
      ]
     },
     "metadata": {
      "needs_background": "light"
     },
     "output_type": "display_data"
    },
    {
     "name": "stdout",
     "output_type": "stream",
     "text": [
      "L'accuratezza è 89.2%\n",
      "La precisione è 85.4%\n",
      "Il recall è 80.9%\n",
      "Il punteggio F1 è 83.1%\n"
     ]
    }
   ],
   "source": [
    "lista_pazient_norm_nl = generateNonLinearFeatures(lista_pazienti_norm2.values,3)\n",
    "label = lista_pazienti_norm.Diabetic.values\n",
    "lista_pazienti_norm_nl_train, lista_pazienti_norm_nl_test, label_train, label_test = train_test_split(lista_pazient_norm_nl, label, test_size=0.3)\n",
    "\n",
    "input_data_train_tens = torch.from_numpy(lista_pazienti_norm_nl_train).type(dtype=torch.float)\n",
    "input_data_test_tens = torch.from_numpy(lista_pazienti_norm_nl_test).type(dtype=torch.float)\n",
    "label_train_tens = torch.from_numpy(label_train).type(dtype=torch.float).view(-1,1)\n",
    "label_test_tens = torch.from_numpy(label_test).type(dtype=torch.float).view(-1,1)\n",
    "\n",
    "model_logreg = nn.Sequential(\n",
    "    nn.Linear(input_data_train_tens.shape[1],1), \n",
    "    nn.Sigmoid()\n",
    ")\n",
    "\n",
    "learning_rate = 0.1\n",
    "optimizer = torch.optim.Adam(model_logreg.parameters(), lr = learning_rate)\n",
    "\n",
    "for i in range(1000):\n",
    "    output_data_train = model_logreg( input_data_train_tens ) #calcolo l'uscita\n",
    "    loss = error(output_data_train, label_train_tens)         #calcolo l'errore\n",
    "    loss.backward()        #calcolo del gradiente\n",
    "    optimizer.step()       #aggiornamento ei parametri\n",
    "    optimizer.zero_grad()  #azzeramento del gradiente\n",
    "    if np.mod(i,100)==0:\n",
    "        print(loss)\n",
    "\n",
    "output_data_test = model_logreg( input_data_test_tens )\n",
    "\n",
    "fpr_train, tpr_train, _ = roc_curve(label_train_tens,output_data_train.detach())\n",
    "fpr_test, tpr_test, _   = roc_curve(label_test_tens ,output_data_test.detach())\n",
    "\n",
    "fgr1 = plt.figure()\n",
    "lw = 2\n",
    "plt.plot(fpr_test, tpr_test, color='darkorange', label=\"test\", lw=lw)\n",
    "plt.plot(fpr_train, tpr_train, color='darkgreen', label=\"train\", lw=lw)\n",
    "plt.plot([0, 1], [0, 1], color='navy', lw=lw, linestyle='--')\n",
    "plt.xlim([0.0, 1])\n",
    "plt.ylim([0.0, 1.05])\n",
    "plt.xticks(np.arange(0, 1, 0.1))\n",
    "plt.yticks(np.arange(0, 1, 0.1))\n",
    "plt.xlabel('False Positive Rate')\n",
    "plt.ylabel('True Positive Rate')\n",
    "plt.title('Receiver operating characteristic (ROC curve)')\n",
    "plt.legend(loc=\"lower right\")\n",
    "plt.grid(which='both')\n",
    "plt.show()\n",
    "\n",
    "# output_data_train = model_logreg( input_data_train_tens )\n",
    "# output_data_train_bin = (output_data_train.detach()>0.5).numpy()\n",
    "output_data_test_bin = (output_data_test.detach()>0.5).numpy()\n",
    "\n",
    "tn, fp, fn, tp = confusion_matrix(label_test_tens, output_data_test_bin ).ravel()\n",
    "\n",
    "A = (tp+tn)/(tp+tn+fn+fp)\n",
    "P = tp/(tp+fp)\n",
    "R = tp/(tp+fn)\n",
    "F1 = 2*(P*R)/(P+R)\n",
    "print('L\\'accuratezza è %0.1f%%' %(A*100))\n",
    "print('La precisione è %0.1f%%' %(P*100))\n",
    "print('Il recall è %0.1f%%' %(R*100))\n",
    "print('Il punteggio F1 è %0.1f%%' %(F1*100))"
   ]
  },
  {
   "cell_type": "markdown",
   "metadata": {},
   "source": [
    "Sembra che il gioco funzioni piuttosto bene, sono passato da un F1 di 73% ad uno di 83%. Vediamo fino a dove posso spingermi."
   ]
  },
  {
   "cell_type": "code",
   "execution_count": 73,
   "metadata": {},
   "outputs": [
    {
     "name": "stdout",
     "output_type": "stream",
     "text": [
      "tensor(0.7015, grad_fn=<BinaryCrossEntropyBackward>)\n",
      "tensor(0.3381, grad_fn=<BinaryCrossEntropyBackward>)\n",
      "tensor(0.2934, grad_fn=<BinaryCrossEntropyBackward>)\n",
      "tensor(0.2707, grad_fn=<BinaryCrossEntropyBackward>)\n",
      "tensor(0.2567, grad_fn=<BinaryCrossEntropyBackward>)\n",
      "tensor(0.2471, grad_fn=<BinaryCrossEntropyBackward>)\n",
      "tensor(0.2401, grad_fn=<BinaryCrossEntropyBackward>)\n",
      "tensor(0.2348, grad_fn=<BinaryCrossEntropyBackward>)\n",
      "tensor(0.2306, grad_fn=<BinaryCrossEntropyBackward>)\n",
      "tensor(0.2272, grad_fn=<BinaryCrossEntropyBackward>)\n"
     ]
    },
    {
     "data": {
      "image/png": "[encoded data removed]",
      "text/plain": [
       "<Figure size 432x288 with 1 Axes>"
      ]
     },
     "metadata": {
      "needs_background": "light"
     },
     "output_type": "display_data"
    },
    {
     "name": "stdout",
     "output_type": "stream",
     "text": [
      "L'accuratezza è 89.7%\n",
      "La precisione è 87.3%\n",
      "Il recall è 81.8%\n",
      "Il punteggio F1 è 84.5%\n"
     ]
    }
   ],
   "source": [
    "lista_pazient_norm_nl = generateNonLinearFeatures(lista_pazienti_norm2.values,4)\n",
    "label = lista_pazienti_norm.Diabetic.values\n",
    "lista_pazienti_norm_nl_train, lista_pazienti_norm_nl_test, label_train, label_test = train_test_split(lista_pazient_norm_nl, label, test_size=0.3)\n",
    "\n",
    "input_data_train_tens = torch.from_numpy(lista_pazienti_norm_nl_train).type(dtype=torch.float)\n",
    "input_data_test_tens = torch.from_numpy(lista_pazienti_norm_nl_test).type(dtype=torch.float)\n",
    "label_train_tens = torch.from_numpy(label_train).type(dtype=torch.float).view(-1,1)\n",
    "label_test_tens = torch.from_numpy(label_test).type(dtype=torch.float).view(-1,1)\n",
    "\n",
    "model_logreg = nn.Sequential(\n",
    "    nn.Linear(input_data_train_tens.shape[1],1), \n",
    "    nn.Sigmoid()\n",
    ")\n",
    "\n",
    "learning_rate = 0.1\n",
    "optimizer = torch.optim.Adam(model_logreg.parameters(), lr = learning_rate)\n",
    "\n",
    "for i in range(1000):\n",
    "    output_data_train = model_logreg( input_data_train_tens ) #calcolo l'uscita\n",
    "    loss = error(output_data_train, label_train_tens)         #calcolo l'errore\n",
    "    loss.backward()        #calcolo del gradiente\n",
    "    optimizer.step()       #aggiornamento ei parametri\n",
    "    optimizer.zero_grad()  #azzeramento del gradiente\n",
    "    if np.mod(i,100)==0:\n",
    "        print(loss)\n",
    "\n",
    "output_data_test = model_logreg( input_data_test_tens )\n",
    "\n",
    "fpr_train, tpr_train, _ = roc_curve(label_train_tens,output_data_train.detach())\n",
    "fpr_test, tpr_test, _   = roc_curve(label_test_tens ,output_data_test.detach())\n",
    "\n",
    "fgr1 = plt.figure()\n",
    "lw = 2\n",
    "plt.plot(fpr_test, tpr_test, color='darkorange', label=\"test\", lw=lw)\n",
    "plt.plot(fpr_train, tpr_train, color='darkgreen', label=\"train\", lw=lw)\n",
    "plt.plot([0, 1], [0, 1], color='navy', lw=lw, linestyle='--')\n",
    "plt.xlim([0.0, 1])\n",
    "plt.ylim([0.0, 1.05])\n",
    "plt.xticks(np.arange(0, 1, 0.1))\n",
    "plt.yticks(np.arange(0, 1, 0.1))\n",
    "plt.xlabel('False Positive Rate')\n",
    "plt.ylabel('True Positive Rate')\n",
    "plt.title('Receiver operating characteristic (ROC curve)')\n",
    "plt.legend(loc=\"lower right\")\n",
    "plt.grid(which='both')\n",
    "plt.show()\n",
    "\n",
    "# output_data_train = model_logreg( input_data_train_tens )\n",
    "# output_data_train_bin = (output_data_train.detach()>0.5).numpy()\n",
    "output_data_test_bin = (output_data_test.detach()>0.5).numpy()\n",
    "\n",
    "tn, fp, fn, tp = confusion_matrix(label_test_tens, output_data_test_bin ).ravel()\n",
    "\n",
    "A = (tp+tn)/(tp+tn+fn+fp)\n",
    "P = tp/(tp+fp)\n",
    "R = tp/(tp+fn)\n",
    "F1 = 2*(P*R)/(P+R)\n",
    "print('L\\'accuratezza è %0.1f%%' %(A*100))\n",
    "print('La precisione è %0.1f%%' %(P*100))\n",
    "print('Il recall è %0.1f%%' %(R*100))\n",
    "print('Il punteggio F1 è %0.1f%%' %(F1*100))"
   ]
  },
  {
   "cell_type": "markdown",
   "metadata": {},
   "source": [
    "Da 83% a 84.5%, sono quasi al limite delle possibilità. Proviamo un altro step. "
   ]
  },
  {
   "cell_type": "code",
   "execution_count": 74,
   "metadata": {},
   "outputs": [
    {
     "name": "stdout",
     "output_type": "stream",
     "text": [
      "tensor(0.6947, grad_fn=<BinaryCrossEntropyBackward>)\n",
      "tensor(0.3083, grad_fn=<BinaryCrossEntropyBackward>)\n",
      "tensor(0.2671, grad_fn=<BinaryCrossEntropyBackward>)\n",
      "tensor(0.2478, grad_fn=<BinaryCrossEntropyBackward>)\n",
      "tensor(0.2362, grad_fn=<BinaryCrossEntropyBackward>)\n",
      "tensor(0.2285, grad_fn=<BinaryCrossEntropyBackward>)\n",
      "tensor(0.2229, grad_fn=<BinaryCrossEntropyBackward>)\n",
      "tensor(0.2187, grad_fn=<BinaryCrossEntropyBackward>)\n",
      "tensor(0.2154, grad_fn=<BinaryCrossEntropyBackward>)\n",
      "tensor(0.2127, grad_fn=<BinaryCrossEntropyBackward>)\n"
     ]
    },
    {
     "data": {
      "image/png": "[encoded data removed]",
      "text/plain": [
       "<Figure size 432x288 with 1 Axes>"
      ]
     },
     "metadata": {
      "needs_background": "light"
     },
     "output_type": "display_data"
    },
    {
     "name": "stdout",
     "output_type": "stream",
     "text": [
      "L'accuratezza è 89.4%\n",
      "La precisione è 86.4%\n",
      "Il recall è 82.1%\n",
      "Il punteggio F1 è 84.2%\n"
     ]
    }
   ],
   "source": [
    "lista_pazient_norm_nl = generateNonLinearFeatures(lista_pazienti_norm2.values,5)\n",
    "label = lista_pazienti_norm.Diabetic.values\n",
    "lista_pazienti_norm_nl_train, lista_pazienti_norm_nl_test, label_train, label_test = train_test_split(lista_pazient_norm_nl, label, test_size=0.3)\n",
    "\n",
    "input_data_train_tens = torch.from_numpy(lista_pazienti_norm_nl_train).type(dtype=torch.float)\n",
    "input_data_test_tens = torch.from_numpy(lista_pazienti_norm_nl_test).type(dtype=torch.float)\n",
    "label_train_tens = torch.from_numpy(label_train).type(dtype=torch.float).view(-1,1)\n",
    "label_test_tens = torch.from_numpy(label_test).type(dtype=torch.float).view(-1,1)\n",
    "\n",
    "model_logreg = nn.Sequential(\n",
    "    nn.Linear(input_data_train_tens.shape[1],1), \n",
    "    nn.Sigmoid()\n",
    ")\n",
    "\n",
    "learning_rate = 0.1\n",
    "optimizer = torch.optim.Adam(model_logreg.parameters(), lr = learning_rate)\n",
    "\n",
    "for i in range(1000):\n",
    "    output_data_train = model_logreg( input_data_train_tens ) #calcolo l'uscita\n",
    "    loss = error(output_data_train, label_train_tens)         #calcolo l'errore\n",
    "    loss.backward()        #calcolo del gradiente\n",
    "    optimizer.step()       #aggiornamento ei parametri\n",
    "    optimizer.zero_grad()  #azzeramento del gradiente\n",
    "    if np.mod(i,100)==0:\n",
    "        print(loss)\n",
    "\n",
    "output_data_test = model_logreg( input_data_test_tens )\n",
    "\n",
    "fpr_train, tpr_train, _ = roc_curve(label_train_tens,output_data_train.detach())\n",
    "fpr_test, tpr_test, _   = roc_curve(label_test_tens ,output_data_test.detach())\n",
    "\n",
    "fgr1 = plt.figure()\n",
    "lw = 2\n",
    "plt.plot(fpr_test, tpr_test, color='darkorange', label=\"test\", lw=lw)\n",
    "plt.plot(fpr_train, tpr_train, color='darkgreen', label=\"train\", lw=lw)\n",
    "plt.plot([0, 1], [0, 1], color='navy', lw=lw, linestyle='--')\n",
    "plt.xlim([0.0, 1])\n",
    "plt.ylim([0.0, 1.05])\n",
    "plt.xticks(np.arange(0, 1, 0.1))\n",
    "plt.yticks(np.arange(0, 1, 0.1))\n",
    "plt.xlabel('False Positive Rate')\n",
    "plt.ylabel('True Positive Rate')\n",
    "plt.title('Receiver operating characteristic (ROC curve)')\n",
    "plt.legend(loc=\"lower right\")\n",
    "plt.grid(which='both')\n",
    "plt.show()\n",
    "\n",
    "# output_data_train = model_logreg( input_data_train_tens )\n",
    "# output_data_train_bin = (output_data_train.detach()>0.5).numpy()\n",
    "output_data_test_bin = (output_data_test.detach()>0.5).numpy()\n",
    "\n",
    "tn, fp, fn, tp = confusion_matrix(label_test_tens, output_data_test_bin ).ravel()\n",
    "\n",
    "A = (tp+tn)/(tp+tn+fn+fp)\n",
    "P = tp/(tp+fp)\n",
    "R = tp/(tp+fn)\n",
    "F1 = 2*(P*R)/(P+R)\n",
    "print('L\\'accuratezza è %0.1f%%' %(A*100))\n",
    "print('La precisione è %0.1f%%' %(P*100))\n",
    "print('Il recall è %0.1f%%' %(R*100))\n",
    "print('Il punteggio F1 è %0.1f%%' %(F1*100))"
   ]
  },
  {
   "cell_type": "markdown",
   "metadata": {},
   "source": [
    "Il valore di F1 è rimasto intorno al 84%, quindi nessun miglioramento nel passare dalla quarta potenza alla quinta. Inoltre c'è una certa distanza tra la curva riguardante i dati di train e quella di test. Questo indica che c'è un certo overfitting."
   ]
  },
  {
   "cell_type": "markdown",
   "metadata": {},
   "source": [
    "## Riferimenti\n",
    "\n",
    "1. Coursera.org, [Machine Learning](https://www.coursera.org/learn/machine-learning), in inglese\n",
    "2. "
   ]
  },
  {
   "cell_type": "code",
   "execution_count": null,
   "metadata": {},
   "outputs": [],
   "source": []
  }
 ],
 "metadata": {
  "kernelspec": {
   "display_name": "Python 3",
   "language": "python",
   "name": "python3"
  },
  "language_info": {
   "codemirror_mode": {
    "name": "ipython",
    "version": 3
   },
   "file_extension": ".py",
   "mimetype": "text/x-python",
   "name": "python",
   "nbconvert_exporter": "python",
   "pygments_lexer": "ipython3",
   "version": "3.6.8"
  }
 },
 "nbformat": 4,
 "nbformat_minor": 2
}
