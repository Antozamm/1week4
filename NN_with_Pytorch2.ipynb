{
 "cells": [
  {
   "cell_type": "markdown",
   "metadata": {},
   "source": [
    "# Neural Network with Pytorch"
   ]
  },
  {
   "cell_type": "markdown",
   "metadata": {},
   "source": [
    "L'obbiettivo di questo notebook è di costruire un modello regressivo utilizzando una rete neurale. E confrontare il risultato con il modello di [regressione logistica](https://www.1week4.com/it/machine-learning/regressione-logistica-pytorch/)."
   ]
  },
  {
   "cell_type": "markdown",
   "metadata": {},
   "source": [
    "In un notebook precedente ([implementare una rete neurale](https://www.1week4.com/it/machine-learning/implementare-la-prima-rete-neurale-con-pytorch/)) abbiamo visto alcuni concetti di base di Pytorch e la costruzione di una rete neurale.\n",
    "\n",
    "Adesso procederemo in maniera più sistematica. \n",
    "\n",
    "Questi sono i passi da seguire:\n",
    "\n",
    "- preparare i dati, creare un dataset\n",
    "- definire un modello, con dei parametri da \"imparare\"\n",
    "- definire una funzione errore (o loss, o costo) \n",
    "- definire un ottimizzatore"
   ]
  },
  {
   "cell_type": "code",
   "execution_count": 2,
   "metadata": {},
   "outputs": [],
   "source": [
    "import pandas as pd\n",
    "import numpy as np\n",
    "import torch\n",
    "import matplotlib.pyplot as plt"
   ]
  },
  {
   "cell_type": "markdown",
   "metadata": {},
   "source": [
    "## Il problema"
   ]
  },
  {
   "cell_type": "markdown",
   "metadata": {},
   "source": [
    "Il dataset utilizzato è noto come Pima indian diabetes dataset. Il dataset riporta i dati di 15000 pazienti. Per ogni paziente sono registrati i seguenti dati diagnostici:\n",
    "- l'età del paziente, \n",
    "- il numero di gravidanze, \n",
    "- la concentrazioni di glucosio, \n",
    "- la pressione distolica,\n",
    "- lo spessore piega della pelle del tricipite\n",
    "- livello di insulina\n",
    "- indice di massa corpoea\n",
    "- la storia diabetica (Diabetes pedigree function)\n",
    "- la classe da predire (label): paziente diabetico (label=1) o no (label=0)\n",
    "\n",
    "Il problema è costruire un modello che sulla base dei dati diagnostici preveda se il paziente è diabetico. "
   ]
  },
  {
   "cell_type": "markdown",
   "metadata": {},
   "source": [
    "## Load Dataset"
   ]
  },
  {
   "cell_type": "markdown",
   "metadata": {},
   "source": [
    "Per maneggiare i dati usiamo la classe Dataset e la customizziamo. Precisamente la classe necessita la definizione di tre funzioni:\n",
    "- __init__(self)\n",
    "- __len__(self)\n",
    "- __getitem__(self,idx)\n",
    "\n",
    "Nel costruttore definisco i dati del Dataset e la sua lunghezza: **x**, **y** e **len**.<br>\n",
    "**self.x** contiene i dati diagnostici dei pazienti (esclusa la label).<br>\n",
    "**self.y** contiene la label da predire, paziente diabetico o meno.\n",
    "\n",
    "Dopodiché definisco i getter cioè come interagire con la classe, ottenendo gli elementi x,y e la lunghezza."
   ]
  },
  {
   "cell_type": "code",
   "execution_count": 3,
   "metadata": {},
   "outputs": [],
   "source": [
    "from torch.utils.data import Dataset, DataLoader\n",
    "from sklearn.preprocessing import StandardScaler, MinMaxScaler\n",
    "\n",
    "class DatiMediciDataset(Dataset):\n",
    "    \n",
    "    # Constructor\n",
    "    def __init__(self):\n",
    "        lista_pazienti = pd.read_csv('diabetes.csv')\n",
    "        lista_dottori = pd.read_csv('doctors.csv', encoding = \"ISO-8859-1\") #non utilizzata\n",
    "        \n",
    "        lista_pazienti = dataProcess(lista_pazienti) #la funzione dataProcess realizza un preprocessing dei dati\n",
    "        \n",
    "        #scarto il dato PatientID, che verosimilmente non ha effetto sul modello\n",
    "        self.x = torch.from_numpy(lista_pazienti.drop(columns=['Diabetic','PatientID']).values).type(dtype=torch.float)\n",
    "        self.y = torch.tensor(lista_pazienti.Diabetic.values, dtype=torch.float).view(-1,1)\n",
    "        \n",
    "        self.len = lista_pazienti.shape[0]\n",
    "    \n",
    "    # getter: get length\n",
    "    def __len__(self):\n",
    "        return self.len\n",
    "    \n",
    "    # getter: get single item\n",
    "    def __getitem__(self, idx):\n",
    "        return self.x[idx,:], self.y[idx,:]\n"
   ]
  },
  {
   "cell_type": "markdown",
   "metadata": {},
   "source": [
    "Nella funzione dataProcess il dataframe è preprocessato.<br>\n",
    "I dati con distribuzione normale sono scalati secondo lo z-score (StandardScaler in scikit-learn) per avere una distribuzione normale.<br>\n",
    "I dati con distribuzione non normale sono scalati in modo da avere il dato compreso tra 0 e 1 (MinMaxScaler)."
   ]
  },
  {
   "cell_type": "code",
   "execution_count": 4,
   "metadata": {},
   "outputs": [],
   "source": [
    "def dataProcess(lista_pazienti):\n",
    "        \n",
    "        MmSc = MinMaxScaler()\n",
    "        StSc = StandardScaler()\n",
    "        \n",
    "        lista_pazienti['logAge'] = np.log10(lista_pazienti['Age'].values)\n",
    "\n",
    "        columns_minmax = ['Pregnancies','SerumInsulin','BMI','DiabetesPedigree','logAge']\n",
    "        columns_zscore = ['PlasmaGlucose','DiastolicBloodPressure','TricepsThickness']\n",
    "\n",
    "        lista_pazienti_norm = pd.DataFrame(index=range(lista_pazienti.shape[0]))\n",
    "        for column in columns_minmax:\n",
    "            lista_pazienti_norm[column + '_norm'] = MmSc.fit_transform(lista_pazienti[column].values.astype(np.float64).reshape(-1, 1))\n",
    "        for column in columns_zscore:\n",
    "            lista_pazienti_norm[column + '_norm'] = StSc.fit_transform(lista_pazienti[column].values.astype(np.float64).reshape(-1, 1))\n",
    "        \n",
    "        #aggiunge colonne non mumeriche al nuovo DF\n",
    "        lista_pazienti_norm[['PatientID','Diabetic']] = lista_pazienti[['PatientID','Diabetic']]\n",
    "        \n",
    "        return lista_pazienti_norm"
   ]
  },
  {
   "cell_type": "markdown",
   "metadata": {},
   "source": [
    "Istanzio un membro di questa classe:"
   ]
  },
  {
   "cell_type": "code",
   "execution_count": 5,
   "metadata": {},
   "outputs": [],
   "source": [
    "dat = DatiMediciDataset()"
   ]
  },
  {
   "cell_type": "markdown",
   "metadata": {},
   "source": [
    "Adesso ho un elemento **dat** con le propietà x, y e len. Per esempio posso chiedermi quali sono i dati x di dat:"
   ]
  },
  {
   "cell_type": "code",
   "execution_count": 6,
   "metadata": {},
   "outputs": [
    {
     "data": {
      "text/plain": [
       "tensor([[ 0.0000,  0.0115,  0.6690,  ...,  1.9744,  0.5239,  0.3563],\n",
       "        [ 0.5714,  0.0280,  0.0804,  ..., -0.4958,  1.2996,  1.2494],\n",
       "        [ 0.5000,  0.0268,  0.6161,  ...,  0.2234, -1.4453,  1.5930],\n",
       "        ...,\n",
       "        [ 0.0000,  0.0548,  0.0130,  ..., -0.4646,  1.0609,  0.9746],\n",
       "        [ 0.0000,  0.1873,  0.0421,  ...,  0.7549,  1.5980, -0.7430],\n",
       "        [ 0.2143,  0.6344,  0.4762,  ...,  0.1921, -0.3712,  1.2494]])"
      ]
     },
     "execution_count": 6,
     "metadata": {},
     "output_type": "execute_result"
    }
   ],
   "source": [
    "dat.x"
   ]
  },
  {
   "cell_type": "markdown",
   "metadata": {},
   "source": [
    "Partiziono il dataset in un train dataset ed un test dataset usando la funzione **torch.utils.data.random_split**.<br>\n",
    "Uso il 80% per il training e il restante 20% per la validazione."
   ]
  },
  {
   "cell_type": "code",
   "execution_count": 7,
   "metadata": {},
   "outputs": [],
   "source": [
    "train_size = int(0.8 * dat.len)\n",
    "test_size = dat.len - train_size\n",
    "train_dataset, test_dataset = torch.utils.data.random_split(dat, [train_size, test_size])"
   ]
  },
  {
   "cell_type": "markdown",
   "metadata": {},
   "source": [
    "I risultato di random_split sono due subset, ciascuno che ha come argomenti **dataset** (il dataset completo) e **indices**. Indices è una lista degli indici del sottoinsieme.<br>\n",
    "Per esempio, questi sono gli indici del dataset originali che costituiscono il subset train_dataset:"
   ]
  },
  {
   "cell_type": "code",
   "execution_count": 8,
   "metadata": {},
   "outputs": [
    {
     "data": {
      "text/plain": [
       "[7941, 6739, 9110, 3143, 6334, 5503, 3476, 8736, 5472, 272]"
      ]
     },
     "execution_count": 8,
     "metadata": {},
     "output_type": "execute_result"
    }
   ],
   "source": [
    "train_dataset.indices[0:10] #visualizzo solo i primi indici"
   ]
  },
  {
   "cell_type": "markdown",
   "metadata": {},
   "source": [
    "Infine creo degli oggetti DataLoader, uno per il train_dataset e un altro per il test_dataset.<br>\n",
    "Il DataLoader è molto pratico per fare un training in batch e mischiare i dati (shuffle) senza scrivere una linea di codice.  "
   ]
  },
  {
   "cell_type": "code",
   "execution_count": 9,
   "metadata": {},
   "outputs": [],
   "source": [
    "trainloader      = DataLoader(dataset=train_dataset, batch_size=4000, shuffle=True)\n",
    "validationloader = DataLoader(dataset=test_dataset, batch_size=1000, shuffle=False)"
   ]
  },
  {
   "cell_type": "markdown",
   "metadata": {},
   "source": [
    "## Definizione del modello"
   ]
  },
  {
   "cell_type": "code",
   "execution_count": 10,
   "metadata": {},
   "outputs": [],
   "source": [
    "from torch.nn import Module\n",
    "import torch.nn as nn\n",
    "import torch.nn.functional as F\n",
    "\n",
    "class AZNet(Module):\n",
    "    \n",
    "    #Constructor\n",
    "    def __init__(self):\n",
    "        super(AZNet, self).__init__()\n",
    "        node = 100\n",
    "        self.layer1 = nn.Linear(8,node)\n",
    "        self.layer2 = nn.Linear(node,node)\n",
    "        self.layer3 = nn.Linear(node,1)\n",
    "    \n",
    "    #La funzione forward richiede un tensore x in ingresso e restituisce un tensore y in uscita\n",
    "    def forward(self, x):\n",
    "        x = torch.sigmoid(self.layer1(x))\n",
    "        x = torch.sigmoid(self.layer2(x))\n",
    "        y = torch.sigmoid(self.layer3(x))\n",
    "        return y"
   ]
  },
  {
   "cell_type": "markdown",
   "metadata": {},
   "source": [
    "Nel costruttore __init__(self) posso definire tutte la variabili che verranno usate nella funzione forward() (o eventualmente in altre funzioni). In questo caso ho la definizione dei layer che costituiscono la rete neurale.<br>\n",
    "Il layer di ingresso self.layer1 è costituito da 100 nodi, ciascun nodo riceve il valore di ciascuna delle variabili di ingresso del dataset. Ciascun nodo del layer1 è connesso ai 100 nodi del layer self.layer2, questi confluiscono nel layer di uscita self.layer3 costituito da un singolo nodo.\n",
    "\n",
    "Ogni nodo ha un bias.\n",
    "\n",
    "Ciascun nodo ha una funzione di attivazione, una funzione non lineare, definita in forward(). In questo caso ho usato la funzione **sigmoid()** per tutti i layer.<br>\n",
    "Per come ho costruito la rete, l'uscita è una variabile float, che possiamo confrontare con la soglia 0.5 per decidere se assegnare uno 0 oppure un 1. \n",
    "\n",
    "Definisco un membro della classe AZNet."
   ]
  },
  {
   "cell_type": "code",
   "execution_count": 11,
   "metadata": {},
   "outputs": [],
   "source": [
    "model = AZNet()"
   ]
  },
  {
   "cell_type": "markdown",
   "metadata": {},
   "source": [
    "Rivediamo come è definita la rete:"
   ]
  },
  {
   "cell_type": "code",
   "execution_count": 12,
   "metadata": {},
   "outputs": [
    {
     "data": {
      "text/plain": [
       "AZNet(\n",
       "  (layer1): Linear(in_features=8, out_features=100, bias=True)\n",
       "  (layer2): Linear(in_features=100, out_features=100, bias=True)\n",
       "  (layer3): Linear(in_features=100, out_features=1, bias=True)\n",
       ")"
      ]
     },
     "execution_count": 12,
     "metadata": {},
     "output_type": "execute_result"
    }
   ],
   "source": [
    "model"
   ]
  },
  {
   "cell_type": "markdown",
   "metadata": {},
   "source": [
    "Di quando in quando capita di dover resettare i pesi (weight) dei layers, per esempio perché voglio rifare il training. Posso usare questi comandi per resettare i weigth e i bias"
   ]
  },
  {
   "cell_type": "code",
   "execution_count": 13,
   "metadata": {},
   "outputs": [
    {
     "data": {
      "text/plain": [
       "Parameter containing:\n",
       "tensor([[-0.0976, -0.0709, -0.1470,  0.0958, -0.1809,  0.1630,  0.1714,  0.1110,\n",
       "          0.0395, -0.2339, -0.2279, -0.2232, -0.0744, -0.1288,  0.1471, -0.2016,\n",
       "         -0.0472,  0.1849,  0.1749,  0.2062,  0.1868, -0.0081, -0.0513, -0.2008,\n",
       "         -0.2089,  0.0504,  0.1800,  0.0930,  0.1274, -0.2248, -0.0360, -0.1287,\n",
       "         -0.0601, -0.0317, -0.1936, -0.1355, -0.2331,  0.1518,  0.0674,  0.2326,\n",
       "          0.1816,  0.1813,  0.1253, -0.1106,  0.0592,  0.1446,  0.2275,  0.1636,\n",
       "         -0.1828,  0.1567, -0.0053,  0.2366, -0.0211, -0.1355, -0.1109, -0.1036,\n",
       "         -0.2010,  0.0822,  0.1592, -0.0070, -0.1233, -0.0913, -0.2214,  0.1754,\n",
       "          0.1209, -0.0765, -0.0923,  0.0108,  0.2223,  0.1307, -0.1929,  0.0985,\n",
       "         -0.1618,  0.0996, -0.0062, -0.0856,  0.2002,  0.0194, -0.2387,  0.2177,\n",
       "          0.1387, -0.1305, -0.1288,  0.0187,  0.1619,  0.1136,  0.1684,  0.0125,\n",
       "          0.0733, -0.0237, -0.1455, -0.0631, -0.0348, -0.1728,  0.0015,  0.0154,\n",
       "         -0.0931,  0.0465, -0.1249, -0.1358]], requires_grad=True)"
      ]
     },
     "execution_count": 13,
     "metadata": {},
     "output_type": "execute_result"
    }
   ],
   "source": [
    "torch.nn.init.xavier_uniform_(model.layer1.weight)\n",
    "torch.nn.init.xavier_uniform_(model.layer2.weight)\n",
    "torch.nn.init.xavier_uniform_(model.layer3.weight)"
   ]
  },
  {
   "cell_type": "markdown",
   "metadata": {},
   "source": [
    "Questi sono i dati su cui effettuo il training. Per il training come detto uso il DataLoader e i dati saranno letti in batch. Al momento voglio verificare che il modello creato sia consistente con i dati. "
   ]
  },
  {
   "cell_type": "code",
   "execution_count": 14,
   "metadata": {},
   "outputs": [],
   "source": [
    "xtrain = dat.x[train_dataset.indices,:]\n",
    "ytrain = dat.y[train_dataset.indices,:]"
   ]
  },
  {
   "cell_type": "code",
   "execution_count": 15,
   "metadata": {},
   "outputs": [
    {
     "data": {
      "text/plain": [
       "torch.Size([12000, 8])"
      ]
     },
     "execution_count": 15,
     "metadata": {},
     "output_type": "execute_result"
    }
   ],
   "source": [
    "xtrain.shape"
   ]
  },
  {
   "cell_type": "code",
   "execution_count": 16,
   "metadata": {},
   "outputs": [
    {
     "data": {
      "text/plain": [
       "torch.Size([12000, 1])"
      ]
     },
     "execution_count": 16,
     "metadata": {},
     "output_type": "execute_result"
    }
   ],
   "source": [
    "ypred_train = model( xtrain )\n",
    "ypred_train.shape"
   ]
  },
  {
   "cell_type": "markdown",
   "metadata": {},
   "source": [
    "Questi sono invece i dati per la validazione:"
   ]
  },
  {
   "cell_type": "code",
   "execution_count": 17,
   "metadata": {},
   "outputs": [],
   "source": [
    "xvalid = dat.x[test_dataset.indices,:]\n",
    "yvalid = dat.y[test_dataset.indices,:]"
   ]
  },
  {
   "cell_type": "code",
   "execution_count": 18,
   "metadata": {},
   "outputs": [
    {
     "data": {
      "text/plain": [
       "torch.Size([3000, 8])"
      ]
     },
     "execution_count": 18,
     "metadata": {},
     "output_type": "execute_result"
    }
   ],
   "source": [
    "xvalid.shape"
   ]
  },
  {
   "cell_type": "markdown",
   "metadata": {},
   "source": [
    "## Definisco una funzione di errore e l'ottimizzatore"
   ]
  },
  {
   "cell_type": "markdown",
   "metadata": {},
   "source": [
    "Per il tipo di classificazione, simile ad una regressione logistica, che stiamo facendo la funzione **BCELoss()** -Binary Cross-Entropy Loss- è la più indicata."
   ]
  },
  {
   "cell_type": "code",
   "execution_count": 19,
   "metadata": {},
   "outputs": [],
   "source": [
    "error = nn.BCELoss()"
   ]
  },
  {
   "cell_type": "code",
   "execution_count": 20,
   "metadata": {},
   "outputs": [],
   "source": [
    "learning_rate = 1\n",
    "optimizer = torch.optim.SGD(model.parameters(), lr = learning_rate)"
   ]
  },
  {
   "cell_type": "code",
   "execution_count": 21,
   "metadata": {},
   "outputs": [],
   "source": [
    "def func_accuracy(ypred, ytrue):\n",
    "    ytrue = ytrue.type(dtype=torch.uint8)\n",
    "    accuracy = ((ypred>0.5)==ytrue).sum().item()/ytrue.shape[0]\n",
    "    return accuracy"
   ]
  },
  {
   "cell_type": "markdown",
   "metadata": {},
   "source": [
    "## Training del modello"
   ]
  },
  {
   "cell_type": "markdown",
   "metadata": {},
   "source": [
    "Il training consta di 101 epoch. Ad ogni epoch devo passare tutti gli elementi del train dataset. Ad ogni ciclo del loop un batch viene processato.<br>\n",
    "\n",
    "Per ogni ciclo:\n",
    "- l'uscita del modello viene calcolata\n",
    "- calcolo l'errore tra ypred e ytrue: criterion(ypred, ytrue)\n",
    "- calcolo il gradiente con la funzione backward()\n",
    "- aggiorno i parametri dell'ottimizzazione: optimizer step()\n",
    "- azzero il gradiente\n",
    "\n",
    "inoltre:\n",
    "- calcolo l'accuratezza della previsione\n",
    "- memorizzo i risultati dell'errore e dell'accuratezza\n",
    "- calcolo l'errore e l'accuratezza del dataset di validazione"
   ]
  },
  {
   "cell_type": "code",
   "execution_count": 22,
   "metadata": {},
   "outputs": [
    {
     "name": "stdout",
     "output_type": "stream",
     "text": [
      "Iterazione nr: 0 - Valore della funzione di loss: 0.7177 - Accuratezza: 0.33\n",
      "Iterazione nr: 100 - Valore della funzione di loss: 0.6103 - Accuratezza: 0.67\n",
      "Iterazione nr: 200 - Valore della funzione di loss: 0.5618 - Accuratezza: 0.71\n",
      "Iterazione nr: 300 - Valore della funzione di loss: 0.5026 - Accuratezza: 0.77\n",
      "Iterazione nr: 400 - Valore della funzione di loss: 0.4780 - Accuratezza: 0.77\n",
      "Iterazione nr: 500 - Valore della funzione di loss: 0.4285 - Accuratezza: 0.80\n",
      "Iterazione nr: 600 - Valore della funzione di loss: 0.4260 - Accuratezza: 0.80\n",
      "Iterazione nr: 700 - Valore della funzione di loss: 0.4352 - Accuratezza: 0.79\n",
      "Iterazione nr: 800 - Valore della funzione di loss: 0.4275 - Accuratezza: 0.80\n",
      "Iterazione nr: 900 - Valore della funzione di loss: 0.4405 - Accuratezza: 0.78\n",
      "Iterazione nr: 1000 - Valore della funzione di loss: 0.4193 - Accuratezza: 0.79\n",
      "Iterazione nr: 1100 - Valore della funzione di loss: 0.4327 - Accuratezza: 0.79\n",
      "Iterazione nr: 1200 - Valore della funzione di loss: 0.4341 - Accuratezza: 0.79\n",
      "Iterazione nr: 1300 - Valore della funzione di loss: 0.4112 - Accuratezza: 0.81\n",
      "Iterazione nr: 1400 - Valore della funzione di loss: 0.4157 - Accuratezza: 0.80\n",
      "Iterazione nr: 1500 - Valore della funzione di loss: 0.4182 - Accuratezza: 0.80\n",
      "Iterazione nr: 1600 - Valore della funzione di loss: 0.4358 - Accuratezza: 0.79\n",
      "Iterazione nr: 1700 - Valore della funzione di loss: 0.4303 - Accuratezza: 0.79\n",
      "Iterazione nr: 1800 - Valore della funzione di loss: 0.4147 - Accuratezza: 0.80\n",
      "Iterazione nr: 1900 - Valore della funzione di loss: 0.4290 - Accuratezza: 0.80\n",
      "Iterazione nr: 2000 - Valore della funzione di loss: 0.4179 - Accuratezza: 0.81\n",
      "Iterazione nr: 2100 - Valore della funzione di loss: 0.4127 - Accuratezza: 0.80\n",
      "Iterazione nr: 2200 - Valore della funzione di loss: 0.4131 - Accuratezza: 0.80\n",
      "Iterazione nr: 2300 - Valore della funzione di loss: 0.4259 - Accuratezza: 0.80\n",
      "Iterazione nr: 2400 - Valore della funzione di loss: 0.4255 - Accuratezza: 0.79\n",
      "Iterazione nr: 2500 - Valore della funzione di loss: 0.4142 - Accuratezza: 0.80\n",
      "Iterazione nr: 2600 - Valore della funzione di loss: 0.4086 - Accuratezza: 0.80\n",
      "Iterazione nr: 2700 - Valore della funzione di loss: 0.4141 - Accuratezza: 0.80\n",
      "Iterazione nr: 2800 - Valore della funzione di loss: 0.4160 - Accuratezza: 0.80\n",
      "Iterazione nr: 2900 - Valore della funzione di loss: 0.4010 - Accuratezza: 0.81\n",
      "Wall time: 4min 46s\n"
     ]
    }
   ],
   "source": [
    "%%time\n",
    "LOSS = []\n",
    "ACC = []\n",
    "LOSS_VALID = []\n",
    "ACC_VALID = []\n",
    "i = 0\n",
    "\n",
    "for epoch in range(1000):\n",
    "    for xtrain,ytrain in trainloader:\n",
    "        ypred_train = model( xtrain ) #calcolo l'uscita\n",
    "        loss = error(ypred_train, ytrain)         #calcolo l'errore\n",
    "        loss.backward()        #calcolo del gradiente\n",
    "        optimizer.step()       #aggiornamento ei parametri\n",
    "        optimizer.zero_grad()  #azzeramento del gradiente\n",
    "        accuracy = func_accuracy(ypred_train, ytrain) #calcolo l'accuratezza\n",
    "        if np.mod(i,100)==0:\n",
    "            print(\"Iterazione nr: %i - Valore della funzione di loss: %2.4f - Accuratezza: %2.2f\" %(i,loss.item(), accuracy))\n",
    "        LOSS.append(loss.item()) #memorizzo in una lista. uso item() per avere solo lo scalare invece del tensore\n",
    "        ACC.append(accuracy) #\n",
    "\n",
    "        #validazione\n",
    "        ypred_valid = model(xvalid)\n",
    "        loss_valid = error(ypred_valid,yvalid)\n",
    "        accuracy_valid = func_accuracy(ypred_valid,yvalid)\n",
    "        LOSS_VALID.append(loss_valid.item())\n",
    "        ACC_VALID.append(accuracy_valid)\n",
    "        \n",
    "        i += 1"
   ]
  },
  {
   "cell_type": "code",
   "execution_count": 23,
   "metadata": {},
   "outputs": [
    {
     "data": {
      "image/png": "[encoded data removed]",
      "text/plain": [
       "<Figure size 720x720 with 2 Axes>"
      ]
     },
     "metadata": {
      "needs_background": "light"
     },
     "output_type": "display_data"
    }
   ],
   "source": [
    "# plt.figure(figsize=[8,8])\n",
    "fig1, ax1 = plt.subplots(figsize=(10,10))\n",
    "color = 'tab:red'\n",
    "color2 = 'tab:green'\n",
    "\n",
    "ax1.set_xlabel('iterazione')\n",
    "ax1.set_ylabel('loss', color=color)\n",
    "ax1.plot(range(len(LOSS)),LOSS,color=color, label='loss training' )\n",
    "ax1.plot(range(len(LOSS_VALID)),LOSS_VALID,color=color2, label='loss test')\n",
    "ax1.legend()\n",
    "ax2 = ax1.twinx()\n",
    "\n",
    "color = 'tab:blue'\n",
    "color2 = 'tab:brown'\n",
    "ax2.set_ylabel('accuracy', color=color)\n",
    "ax2.plot(range(len(ACC)),ACC,color=color, label='accuracy training')\n",
    "ax2.plot(range(len(ACC_VALID)),ACC_VALID,color=color2, label='accuracy test')\n",
    "ax2.legend()\n",
    "\n",
    "plt.show()"
   ]
  },
  {
   "cell_type": "markdown",
   "metadata": {},
   "source": [
    "## Qualità del modello"
   ]
  },
  {
   "cell_type": "markdown",
   "metadata": {},
   "source": [
    "Come misura della qualità del modello uso la curva ROC. Genero una curva per il dataset di training e una per quello di validazione (test).\n",
    "\n",
    "Inizio con il definire i dati sui quali calcolare la qualità del modello. Per il dataset di training calcolo la curva sull'intero dataset. Così pure sul dataset di test.\n",
    "\n",
    "Per vedere quali dati fanno parte del dataset di training uso <strong>train_dataset.indices</strong>"
   ]
  },
  {
   "cell_type": "code",
   "execution_count": 24,
   "metadata": {},
   "outputs": [],
   "source": [
    "xtrain = dat.x[train_dataset.indices,:]\n",
    "ytrain = dat.y[train_dataset.indices,:]"
   ]
  },
  {
   "cell_type": "markdown",
   "metadata": {},
   "source": [
    "Calcoliamo l'uscita del modello come model(dati-in-input)"
   ]
  },
  {
   "cell_type": "code",
   "execution_count": 25,
   "metadata": {},
   "outputs": [],
   "source": [
    "ypred_train = model(xtrain)"
   ]
  },
  {
   "cell_type": "markdown",
   "metadata": {},
   "source": [
    "L'uscita del modello è un tensore il cui valore scalare è compreso tra 0 e 1 (funzione sigmoid in uscita). Questo scalare può essere interpretato come la probabilità che la classe di uscita sia 1. \n",
    "\n",
    "Se voglio interpretare l'uscita in maniera binaria devo confrontare l'uscita con la soglia (0.5). Nel caso in cui sia superiore alla soglia la classe predetta è 1. In caso contrario la classe è 0."
   ]
  },
  {
   "cell_type": "code",
   "execution_count": 26,
   "metadata": {},
   "outputs": [],
   "source": [
    "ypred_train_bin = (ypred_train.detach()>0.5).numpy()"
   ]
  },
  {
   "cell_type": "markdown",
   "metadata": {},
   "source": [
    "Analogamente per i dati della validazione usiamo test_dataset.indices:"
   ]
  },
  {
   "cell_type": "code",
   "execution_count": 27,
   "metadata": {},
   "outputs": [],
   "source": [
    "xvalid = test_dataset.dataset.x[test_dataset.indices,:]\n",
    "yvalid = test_dataset.dataset.y[test_dataset.indices,:]"
   ]
  },
  {
   "cell_type": "markdown",
   "metadata": {},
   "source": [
    "Calcoliamo l'uscita del modello con i dati di validazione come ingresso"
   ]
  },
  {
   "cell_type": "code",
   "execution_count": 28,
   "metadata": {},
   "outputs": [],
   "source": [
    "ypred_valid = model(xvalid)\n",
    "ypred_valid_bin = (ypred_valid.detach()>0.5).numpy()"
   ]
  },
  {
   "cell_type": "markdown",
   "metadata": {},
   "source": [
    "Importo la funzione <strong>roc_curve()</strong>."
   ]
  },
  {
   "cell_type": "code",
   "execution_count": 29,
   "metadata": {},
   "outputs": [],
   "source": [
    "from sklearn.metrics import roc_curve"
   ]
  },
  {
   "cell_type": "markdown",
   "metadata": {},
   "source": [
    "La funzione roc_curve() accetta come argomenti sia numpy array che tensori. Se diamo un tensore come input dobbiamo usare il metodo detach(), in quanto il tensore deve avere l'etichetta requires_grad=False.<br>\n",
    "ypred_train di default ha requires_grad=True"
   ]
  },
  {
   "cell_type": "code",
   "execution_count": 30,
   "metadata": {},
   "outputs": [],
   "source": [
    "fpr_train, tpr_train, _ = roc_curve(ytrain,ypred_train.detach())\n",
    "fpr_test, tpr_test, _   = roc_curve(yvalid,ypred_valid.detach())"
   ]
  },
  {
   "cell_type": "code",
   "execution_count": 31,
   "metadata": {},
   "outputs": [
    {
     "data": {
      "image/png": "[encoded data removed]",
      "text/plain": [
       "<Figure size 432x288 with 1 Axes>"
      ]
     },
     "metadata": {
      "needs_background": "light"
     },
     "output_type": "display_data"
    }
   ],
   "source": [
    "fgr1 = plt.figure()\n",
    "lw = 2\n",
    "plt.plot(fpr_test, tpr_test, color='darkorange', label=\"test\", lw=lw)\n",
    "plt.plot(fpr_train, tpr_train, color='darkgreen', label=\"train\", lw=lw)\n",
    "plt.plot([0, 1], [0, 1], color='navy', lw=lw, linestyle='--')\n",
    "plt.xlim([0.0, 1])\n",
    "plt.ylim([0.0, 1.0])\n",
    "plt.xticks(np.arange(0, 1, 0.1))\n",
    "plt.yticks(np.arange(0, 1, 0.1))\n",
    "plt.xlabel('False Positive Rate')\n",
    "plt.ylabel('True Positive Rate')\n",
    "plt.title('Receiver operating characteristic (ROC curve)')\n",
    "plt.legend(loc=\"lower right\")\n",
    "plt.grid(which='both')\n",
    "plt.show()"
   ]
  },
  {
   "cell_type": "markdown",
   "metadata": {},
   "source": [
    "Un'altra metrica è la <strong>confusion matrix</strong>, che si può vedere nella figura sottostante.<br>\n",
    "Come si vede ho due assi, valore vero e valore predetto.<br>\n",
    "Ogni esempio del dataset può essere inserito in una delle quattro classi:\n",
    "\n",
    "- true positive (tp): il valore vero è 1 e il valore predetto è 1\n",
    "- false positive (fp): il valore vero è 0 ma il valore predetto è 1\n",
    "- true negative (tn): il valore vero è 0 e il valore predetto è 0\n",
    "- false negative (fn): il valore vero è 1 ma il valore predetto è 0\n",
    "\n",
    "Come si intuisce due delle classi sono correttamente classificate (true positive e true negative), mentre le altre due sono classificate erroneamente."
   ]
  },
  {
   "cell_type": "markdown",
   "metadata": {},
   "source": [
    "![title](https://www.1week4.com/wp-content/uploads/2019/07/logistic-regression1-e1562588720843.png)"
   ]
  },
  {
   "cell_type": "markdown",
   "metadata": {},
   "source": [
    "Calcolo la matrice di confusione usando la funzione <strong>confusion_matrix()</strong> di sklearn"
   ]
  },
  {
   "cell_type": "code",
   "execution_count": 32,
   "metadata": {},
   "outputs": [],
   "source": [
    "from sklearn.metrics import confusion_matrix"
   ]
  },
  {
   "cell_type": "code",
   "execution_count": 33,
   "metadata": {},
   "outputs": [
    {
     "data": {
      "text/plain": [
       "(6956, 1044, 1325, 2675)"
      ]
     },
     "execution_count": 33,
     "metadata": {},
     "output_type": "execute_result"
    }
   ],
   "source": [
    "tn, fp, fn, tp = confusion_matrix(ytrain, ypred_train_bin ).ravel()\n",
    "tn, fp, fn, tp"
   ]
  },
  {
   "cell_type": "markdown",
   "metadata": {},
   "source": [
    "Infine posso usare questi valori per calcolare Accuratezza, precisione, recall e valore F1."
   ]
  },
  {
   "cell_type": "markdown",
   "metadata": {},
   "source": [
    "\\begin{equation}\n",
    "Accuratezza: \\quad A = \\frac{\\text{nr. di esempi correttamente classificati}}{\\text{nr. totale di esempi}} = \\frac{tp+tn}{tp+tn+fn+fp}\n",
    "\\end{equation}\n",
    "\n",
    "\\begin{equation}\n",
    "Precisione: \\quad P = \\frac{\\text{nr. di true positive}}{\\text{nr. di predizioni positive}} = \\frac{tp}{tp+fp}\n",
    "\\end{equation}\n",
    "\n",
    "\\begin{equation}\n",
    "Recall: \\quad R = \\frac{\\text{nr. di true positive}}{\\text{nr. veri positivi}} = \\frac{tp}{tp+fn}\n",
    "\\end{equation}\n",
    "\n",
    "\\begin{equation}\n",
    "F_1 score: \\quad F_1 = 2 \\frac{P\\cdot R}{P+R}\n",
    "\\end{equation}"
   ]
  },
  {
   "cell_type": "code",
   "execution_count": 34,
   "metadata": {},
   "outputs": [
    {
     "name": "stdout",
     "output_type": "stream",
     "text": [
      "L'accuratezza è 80.3%\n",
      "La precisione è 71.9%\n",
      "Il recall è 66.9%\n",
      "Il punteggio F1 è 69.3%\n"
     ]
    }
   ],
   "source": [
    "A = (tp+tn)/(tp+tn+fn+fp)\n",
    "P = tp/(tp+fp)\n",
    "R = tp/(tp+fn)\n",
    "F1 = 2*(P*R)/(P+R)\n",
    "print('L\\'accuratezza è %0.1f%%' %(A*100))\n",
    "print('La precisione è %0.1f%%' %(P*100))\n",
    "print('Il recall è %0.1f%%' %(R*100))\n",
    "print('Il punteggio F1 è %0.1f%%' %(F1*100))"
   ]
  },
  {
   "cell_type": "markdown",
   "metadata": {},
   "source": [
    "## Fare il training con CUDA"
   ]
  },
  {
   "cell_type": "markdown",
   "metadata": {},
   "source": [
    "L'ultima cosa che voglio vedere in questo post è come fare il training usando la GPU.\n",
    "\n",
    "Voglio confrontare anche il tempo necessario per il training su CPU (AMD Ryzen 7 1800x, 8 core, 16 threads), e una vecchia scheda NVIDIA GeForce 630 ("
   ]
  },
  {
   "cell_type": "markdown",
   "metadata": {},
   "source": [
    "Innanzitutto vediamo se c'è un dispositivo CUDA disponibile."
   ]
  },
  {
   "cell_type": "code",
   "execution_count": 35,
   "metadata": {
    "scrolled": true
   },
   "outputs": [
    {
     "name": "stdout",
     "output_type": "stream",
     "text": [
      "cuda:0\n"
     ]
    }
   ],
   "source": [
    "device = torch.device(\"cuda:0\" if torch.cuda.is_available() else \"cpu\")\n",
    "# Assuming that we are on a CUDA machine, this should print a CUDA device:\n",
    "print(device)"
   ]
  },
  {
   "cell_type": "markdown",
   "metadata": {},
   "source": [
    "Il modello è lo stesso del caso precedente."
   ]
  },
  {
   "cell_type": "code",
   "execution_count": 36,
   "metadata": {},
   "outputs": [],
   "source": [
    "class AZNet2(Module):\n",
    "    \n",
    "    #Constructor\n",
    "    def __init__(self):\n",
    "        super(AZNet2, self).__init__()\n",
    "        node = 100\n",
    "        self.layer1 = nn.Linear(8,node)\n",
    "        self.layer2 = nn.Linear(node,node)\n",
    "        self.layer3 = nn.Linear(node,1)\n",
    "    \n",
    "    #La funzione forward richiede un tensore x in ingresso e restituisce un tensore y in uscita\n",
    "    def forward(self, x):\n",
    "        x = torch.sigmoid(self.layer1(x))\n",
    "        x = torch.sigmoid(self.layer2(x))\n",
    "        y = torch.sigmoid(self.layer3(x))\n",
    "        return y"
   ]
  },
  {
   "cell_type": "markdown",
   "metadata": {},
   "source": [
    "Instanziamo un membro di questa classe:"
   ]
  },
  {
   "cell_type": "code",
   "execution_count": 37,
   "metadata": {},
   "outputs": [],
   "source": [
    "cuda_model = AZNet2()"
   ]
  },
  {
   "cell_type": "markdown",
   "metadata": {},
   "source": [
    "Resettiamo i pesi del modello (utile solo nel caso in cui è un secondo training):"
   ]
  },
  {
   "cell_type": "code",
   "execution_count": 38,
   "metadata": {},
   "outputs": [
    {
     "data": {
      "text/plain": [
       "Parameter containing:\n",
       "tensor([[-0.2416,  0.1008,  0.1836, -0.1861,  0.1791, -0.1879,  0.2328,  0.1858,\n",
       "         -0.1842, -0.0615,  0.2154, -0.0086, -0.1106,  0.0850, -0.2227, -0.1160,\n",
       "         -0.1262,  0.0387, -0.2431,  0.1549, -0.1314, -0.2013,  0.1329, -0.1247,\n",
       "         -0.1091, -0.0989,  0.1233,  0.0408, -0.0260,  0.1177,  0.1796, -0.2313,\n",
       "          0.0276, -0.1589,  0.0690, -0.0184, -0.1843, -0.1813,  0.0551, -0.2373,\n",
       "         -0.2412,  0.1760,  0.1097,  0.2154, -0.0064, -0.0900, -0.1432, -0.0375,\n",
       "         -0.0496,  0.2124,  0.1193, -0.0315,  0.0869, -0.0040, -0.1604,  0.1274,\n",
       "          0.1038, -0.0100, -0.0237,  0.0163, -0.0411,  0.0665,  0.1930, -0.1839,\n",
       "         -0.0424, -0.0065,  0.0483, -0.1841,  0.1435, -0.0724, -0.0772,  0.2331,\n",
       "          0.1949, -0.1099, -0.2122, -0.1167,  0.1043, -0.2175, -0.1506,  0.0138,\n",
       "          0.1059,  0.2028, -0.0372,  0.0043,  0.1434, -0.0141,  0.0494, -0.1278,\n",
       "          0.1883, -0.0641, -0.0805, -0.0722,  0.0282, -0.1704, -0.1487,  0.0252,\n",
       "         -0.0247,  0.1505,  0.0612,  0.0733]], requires_grad=True)"
      ]
     },
     "execution_count": 38,
     "metadata": {},
     "output_type": "execute_result"
    }
   ],
   "source": [
    "torch.nn.init.xavier_uniform_(cuda_model.layer1.weight)\n",
    "torch.nn.init.xavier_uniform_(cuda_model.layer2.weight)\n",
    "torch.nn.init.xavier_uniform_(cuda_model.layer3.weight)"
   ]
  },
  {
   "cell_type": "markdown",
   "metadata": {},
   "source": [
    "Per il modello di rete definiamo che verrà fatto il training sul nostro dispositivo cuda"
   ]
  },
  {
   "cell_type": "code",
   "execution_count": 39,
   "metadata": {},
   "outputs": [
    {
     "data": {
      "text/plain": [
       "AZNet2(\n",
       "  (layer1): Linear(in_features=8, out_features=100, bias=True)\n",
       "  (layer2): Linear(in_features=100, out_features=100, bias=True)\n",
       "  (layer3): Linear(in_features=100, out_features=1, bias=True)\n",
       ")"
      ]
     },
     "execution_count": 39,
     "metadata": {},
     "output_type": "execute_result"
    }
   ],
   "source": [
    "cuda_model.cuda()"
   ]
  },
  {
   "cell_type": "code",
   "execution_count": 40,
   "metadata": {},
   "outputs": [],
   "source": [
    "dtype_ = torch.cuda.FloatTensor"
   ]
  },
  {
   "cell_type": "code",
   "execution_count": 41,
   "metadata": {},
   "outputs": [],
   "source": [
    "xtrain_cuda = xtrain.type(dtype_)"
   ]
  },
  {
   "cell_type": "code",
   "execution_count": 42,
   "metadata": {},
   "outputs": [],
   "source": [
    "criterion = nn.BCELoss()\n",
    "optimizer = torch.optim.SGD(cuda_model.parameters(),lr=1)"
   ]
  },
  {
   "cell_type": "code",
   "execution_count": 43,
   "metadata": {},
   "outputs": [
    {
     "name": "stdout",
     "output_type": "stream",
     "text": [
      "Iterazione nr: 0 - Valore della funzione di loss: 0.6518 - Accuratezza: 0.66\n",
      "Iterazione nr: 100 - Valore della funzione di loss: 0.6197 - Accuratezza: 0.67\n",
      "Iterazione nr: 200 - Valore della funzione di loss: 0.5881 - Accuratezza: 0.71\n",
      "Iterazione nr: 300 - Valore della funzione di loss: 0.5421 - Accuratezza: 0.74\n",
      "Iterazione nr: 400 - Valore della funzione di loss: 0.4960 - Accuratezza: 0.76\n",
      "Iterazione nr: 500 - Valore della funzione di loss: 0.4479 - Accuratezza: 0.78\n",
      "Iterazione nr: 600 - Valore della funzione di loss: 0.4296 - Accuratezza: 0.79\n",
      "Iterazione nr: 700 - Valore della funzione di loss: 0.4228 - Accuratezza: 0.80\n",
      "Iterazione nr: 800 - Valore della funzione di loss: 0.4204 - Accuratezza: 0.80\n",
      "Iterazione nr: 900 - Valore della funzione di loss: 0.4337 - Accuratezza: 0.80\n",
      "Iterazione nr: 1000 - Valore della funzione di loss: 0.4404 - Accuratezza: 0.79\n",
      "Iterazione nr: 1100 - Valore della funzione di loss: 0.4319 - Accuratezza: 0.79\n",
      "Iterazione nr: 1200 - Valore della funzione di loss: 0.4166 - Accuratezza: 0.80\n",
      "Iterazione nr: 1300 - Valore della funzione di loss: 0.4220 - Accuratezza: 0.80\n",
      "Iterazione nr: 1400 - Valore della funzione di loss: 0.4380 - Accuratezza: 0.79\n",
      "Iterazione nr: 1500 - Valore della funzione di loss: 0.4241 - Accuratezza: 0.80\n",
      "Iterazione nr: 1600 - Valore della funzione di loss: 0.4250 - Accuratezza: 0.80\n",
      "Iterazione nr: 1700 - Valore della funzione di loss: 0.4099 - Accuratezza: 0.80\n",
      "Iterazione nr: 1800 - Valore della funzione di loss: 0.4216 - Accuratezza: 0.79\n",
      "Iterazione nr: 1900 - Valore della funzione di loss: 0.4207 - Accuratezza: 0.81\n",
      "Iterazione nr: 2000 - Valore della funzione di loss: 0.4196 - Accuratezza: 0.80\n",
      "Iterazione nr: 2100 - Valore della funzione di loss: 0.4149 - Accuratezza: 0.80\n",
      "Iterazione nr: 2200 - Valore della funzione di loss: 0.4190 - Accuratezza: 0.80\n",
      "Iterazione nr: 2300 - Valore della funzione di loss: 0.4196 - Accuratezza: 0.80\n",
      "Iterazione nr: 2400 - Valore della funzione di loss: 0.4104 - Accuratezza: 0.80\n",
      "Iterazione nr: 2500 - Valore della funzione di loss: 0.4123 - Accuratezza: 0.80\n",
      "Iterazione nr: 2600 - Valore della funzione di loss: 0.4117 - Accuratezza: 0.80\n",
      "Iterazione nr: 2700 - Valore della funzione di loss: 0.4218 - Accuratezza: 0.80\n",
      "Iterazione nr: 2800 - Valore della funzione di loss: 0.4135 - Accuratezza: 0.80\n",
      "Iterazione nr: 2900 - Valore della funzione di loss: 0.4067 - Accuratezza: 0.81\n",
      "Wall time: 3min 33s\n"
     ]
    }
   ],
   "source": [
    "%%time\n",
    "LOSS = []\n",
    "ACC = []\n",
    "LOSS_VALID = []\n",
    "ACC_VALID = []\n",
    "i = 0\n",
    "\n",
    "for epoch in range(1000): #epoch\n",
    "    for xtrain,ytrain in trainloader: #ad ogni ciclo, un batch di 4000 samples viene processato\n",
    "        xtrain = xtrain.type(dtype_)\n",
    "        ytrain = ytrain.type(dtype_)\n",
    "        ypred_train = cuda_model( xtrain )        #calcolo l'uscita\n",
    "        loss = error(ypred_train, ytrain)         #calcolo l'errore\n",
    "        loss.backward()        #calcolo del gradiente\n",
    "        optimizer.step()       #aggiornamento ei parametri\n",
    "        optimizer.zero_grad()  #azzeramento del gradiente\n",
    "        accuracy = func_accuracy(ypred_train, ytrain) #calcolo l'accuratezza\n",
    "        if np.mod(i,100)==0:\n",
    "            print(\"Iterazione nr: %i - Valore della funzione di loss: %2.4f - Accuratezza: %2.2f\" %(i,loss.item(), accuracy))\n",
    "        LOSS.append(loss.item()) #memorizzo in una lista. uso item() per avere solo lo scalare invece del tensore\n",
    "        ACC.append(accuracy) #\n",
    "\n",
    "        #validazione\n",
    "        xvalid = xvalid.type(dtype_)\n",
    "        yvalid = yvalid.type(dtype_)\n",
    "        ypred_valid = cuda_model(xvalid)\n",
    "        loss_valid = error(ypred_valid,yvalid)\n",
    "        accuracy_valid = func_accuracy(ypred_valid,yvalid)\n",
    "        LOSS_VALID.append(loss_valid.item())\n",
    "        ACC_VALID.append(accuracy_valid)\n",
    "        \n",
    "        i += 1"
   ]
  },
  {
   "cell_type": "markdown",
   "metadata": {},
   "source": [
    "Confrontando i due tempi, 4.78min per la CPU e 3.58min per la GPU, si vede che effettivamente la GPU è più veloce, nonostante sia più datata della CPU usata."
   ]
  },
  {
   "cell_type": "markdown",
   "metadata": {},
   "source": [
    "## Modello 2.0\n",
    "\n",
    "Proviamo a migliorare il modello per raggiungere una miglior performance.\n",
    "\n",
    "Proviamo una feature augmentation, usiamo lo stesso metodo usato in precedenza nel notebook sulla regressione logistica, ovvero creiamo tutte le combinazioni tra le features fino ad un certo grado $max\\_exp$.\n",
    "\n",
    "Ripetiamo il mantra delle reti neurali con PyTorch:\n",
    "- definizione del modello\n",
    "- definizione della funzione errore\n",
    "- definizione dell'ottimizzatore\n",
    "- in loop: \n",
    "    - predizione del batch\n",
    "    - calcolo dell'errore sul batch\n",
    "    - calcolo delle derivate parziali\n",
    "    - aggiornamento dei parametri\n",
    "    - azzeramento del gradiente\n"
   ]
  },
  {
   "cell_type": "code",
   "execution_count": 131,
   "metadata": {},
   "outputs": [],
   "source": [
    "def generateNonLinearFeatures(x,max_exp):\n",
    "#given a marix with features in column, generate a new matrix with all the polynomial combination up to max_exp\n",
    "\n",
    "    import itertools\n",
    "\n",
    "    terms = []\n",
    "    num_feat = x.shape[1]\n",
    "    \n",
    "    #il prossimo comando genera una lista delle possibili combinazioni delle variabili fino al max_exp\n",
    "    #Esempio: num_Feat=2 max_exp=2 genera:\n",
    "    #[(0, 0),  (0, 1), (0, 2), (1, 1), (1, 2), (2, 2)] corrispondenti a:\n",
    "    # x^0 x^0  x^0 x^1 x^0 x^2 x^1 x^1 x^1 x^2 x^2 x^2\n",
    "    terms = list(itertools.combinations_with_replacement(list(range(num_feat+1)), max_exp))\n",
    "    \n",
    "#     for a in itertools.combinations_with_replacement(list(range(num_feat+1)), max_exp): #OLD\n",
    "#         terms.append(a)\n",
    "\n",
    "\n",
    "    if 'pol' in locals(): #rimuove la variabile pol se esiste già\n",
    "        del pol\n",
    "\n",
    "    for i in range(len(terms)): \n",
    "        polcol = np.ones(x.shape[0]).reshape(x.shape[0],1)\n",
    "        sum=0\n",
    "        for j in range(max_exp):\n",
    "#             print(i,j) #for debug only\n",
    "            sum=sum+int(terms[i][j])\n",
    "            if terms[i][j]!=0:\n",
    "                polcol = np.multiply(polcol,x[:,int(terms[i][j])-1].reshape(x.shape[0],1))\n",
    "        if (sum!=0): #exclude case all zeros (0,0), don't add the column\n",
    "            if 'pol' in locals():\n",
    "                pol = np.column_stack([pol, polcol])\n",
    "            else:\n",
    "                pol = polcol\n",
    "\n",
    "    return pol"
   ]
  },
  {
   "cell_type": "markdown",
   "metadata": {},
   "source": [
    "La successiva funzione **dataProcess_nonLinear** si occupa di normalizzare i dati del dataframe e generare i dati non lineari (moltiplicazione tra le features). "
   ]
  },
  {
   "cell_type": "code",
   "execution_count": 132,
   "metadata": {},
   "outputs": [],
   "source": [
    "from torch.utils.data import Dataset, DataLoader\n",
    "from sklearn.preprocessing import StandardScaler, MinMaxScaler\n",
    "\n",
    "class DatiMediciDataset(Dataset):\n",
    "    \n",
    "    # Constructor\n",
    "    def __init__(self, max_grad):\n",
    "        lista_pazienti = pd.read_csv('diabetes.csv')\n",
    "        lista_dottori = pd.read_csv('doctors.csv', encoding = \"ISO-8859-1\")\n",
    "        \n",
    "        lista_pazienti = dataProcess(lista_pazienti) #normalizzazione delle feature numeriche [DATAFRAME]\n",
    "        \n",
    "        lista_pazienti_array = lista_pazienti.drop(columns=['Diabetic','PatientID']).values\n",
    "        \n",
    "        lista_pazienti_nonlinear_array = generateNonLinearFeatures(lista_pazienti_array, max_grad)\n",
    "        \n",
    "        self.x = torch.from_numpy(lista_pazienti_nonlinear_array).type(dtype=torch.float)\n",
    "        self.y = torch.tensor(lista_pazienti.Diabetic.values, dtype=torch.float).view(-1,1)\n",
    "        \n",
    "        self.len = lista_pazienti.shape[0]\n",
    "    \n",
    "    # getter: get length\n",
    "    def __len__(self):\n",
    "        return self.len\n",
    "    \n",
    "    # getter: get single item\n",
    "    def __getitem__(self, idx):\n",
    "        return self.x[idx,:], self.y[idx,:]\n"
   ]
  },
  {
   "cell_type": "markdown",
   "metadata": {},
   "source": [
    "Creo il nuovo dataset. Le features vengono combinate fino al terzo grado."
   ]
  },
  {
   "cell_type": "code",
   "execution_count": 133,
   "metadata": {},
   "outputs": [],
   "source": [
    "dat = DatiMediciDataset(3)"
   ]
  },
  {
   "cell_type": "markdown",
   "metadata": {},
   "source": [
    "Sono passato dalle 8 features del datatset originario alle 164 del dataset augmented:"
   ]
  },
  {
   "cell_type": "code",
   "execution_count": 134,
   "metadata": {},
   "outputs": [
    {
     "data": {
      "text/plain": [
       "torch.Size([15000, 164])"
      ]
     },
     "execution_count": 134,
     "metadata": {},
     "output_type": "execute_result"
    }
   ],
   "source": [
    "dat.x.shape"
   ]
  },
  {
   "cell_type": "markdown",
   "metadata": {},
   "source": [
    "Divido il nuovo dataset in train e test:"
   ]
  },
  {
   "cell_type": "code",
   "execution_count": 135,
   "metadata": {},
   "outputs": [],
   "source": [
    "train_size = int(0.8 * dat.len)\n",
    "test_size = dat.len - train_size\n",
    "train_dataset, test_dataset = torch.utils.data.random_split(dat, [train_size, test_size])"
   ]
  },
  {
   "cell_type": "markdown",
   "metadata": {},
   "source": [
    "Creo dei degli oggetti DataLoader "
   ]
  },
  {
   "cell_type": "code",
   "execution_count": 136,
   "metadata": {},
   "outputs": [],
   "source": [
    "trainloader      = DataLoader(dataset=train_dataset, batch_size=4000, shuffle=True)\n",
    "validationloader = DataLoader(dataset=test_dataset, batch_size=1000, shuffle=False)"
   ]
  },
  {
   "cell_type": "markdown",
   "metadata": {},
   "source": [
    "Stabilisco che il modello deve usare la CPU, si noti che questo devo farlo prima della creazione del modello."
   ]
  },
  {
   "cell_type": "code",
   "execution_count": 137,
   "metadata": {},
   "outputs": [
    {
     "data": {
      "text/plain": [
       "device(type='cpu')"
      ]
     },
     "execution_count": 137,
     "metadata": {},
     "output_type": "execute_result"
    }
   ],
   "source": [
    "torch.device(\"cpu\")"
   ]
  },
  {
   "cell_type": "markdown",
   "metadata": {},
   "source": [
    "Dal momento che ho un numero molto maggiore di features di ingresso definisco un modello più complicato, con un layer in più e un numero maggiore di nodi negli hidden layer."
   ]
  },
  {
   "cell_type": "code",
   "execution_count": 138,
   "metadata": {},
   "outputs": [],
   "source": [
    "class AZNet(Module):\n",
    "    \n",
    "    #Constructor\n",
    "    def __init__(self):\n",
    "        super(AZNet, self).__init__()\n",
    "        node = 200\n",
    "        self.layer1 = nn.Linear( dat.x.shape[1] ,node)\n",
    "        self.layer2 = nn.Linear(node,node)\n",
    "        self.layer3 = nn.Linear(node,node)\n",
    "        self.layer4 = nn.Linear(node,1)\n",
    "    \n",
    "    #La funzione forward richiede un tensore x in ingresso e restituisce un tensore y in uscita\n",
    "    def forward(self, x):\n",
    "        x = torch.sigmoid(self.layer1(x))\n",
    "        x = torch.sigmoid(self.layer2(x))\n",
    "        x = torch.sigmoid(self.layer3(x))\n",
    "        y = torch.sigmoid(self.layer4(x))\n",
    "        return y"
   ]
  },
  {
   "cell_type": "markdown",
   "metadata": {},
   "source": [
    "Istanzio un modello della classe definita"
   ]
  },
  {
   "cell_type": "code",
   "execution_count": 139,
   "metadata": {},
   "outputs": [],
   "source": [
    "model = AZNet()"
   ]
  },
  {
   "cell_type": "code",
   "execution_count": 140,
   "metadata": {},
   "outputs": [
    {
     "data": {
      "text/plain": [
       "AZNet(\n",
       "  (layer1): Linear(in_features=164, out_features=200, bias=True)\n",
       "  (layer2): Linear(in_features=200, out_features=200, bias=True)\n",
       "  (layer3): Linear(in_features=200, out_features=200, bias=True)\n",
       "  (layer4): Linear(in_features=200, out_features=1, bias=True)\n",
       ")"
      ]
     },
     "execution_count": 140,
     "metadata": {},
     "output_type": "execute_result"
    }
   ],
   "source": [
    "model"
   ]
  },
  {
   "cell_type": "markdown",
   "metadata": {},
   "source": [
    "Resetto weight e bias della rete:"
   ]
  },
  {
   "cell_type": "code",
   "execution_count": 141,
   "metadata": {},
   "outputs": [
    {
     "data": {
      "text/plain": [
       "Parameter containing:\n",
       "tensor([[ 0.1331, -0.0468, -0.1661, -0.0158,  0.0721,  0.1610,  0.0878,  0.0883,\n",
       "          0.1313,  0.0603,  0.1537,  0.0754, -0.0673, -0.0374,  0.0144,  0.0345,\n",
       "         -0.0560, -0.0107, -0.0487,  0.0257,  0.0216, -0.0608, -0.0648,  0.0291,\n",
       "         -0.0382,  0.1573,  0.1130,  0.1491,  0.1688, -0.0764,  0.0508, -0.0594,\n",
       "          0.0095, -0.1645, -0.1186, -0.1071, -0.1028,  0.0976, -0.1602,  0.0216,\n",
       "         -0.0065, -0.0727, -0.0840,  0.0481, -0.0225,  0.1616,  0.0198, -0.1345,\n",
       "          0.1006,  0.1228,  0.0699,  0.0234, -0.1576, -0.0498, -0.0306,  0.0307,\n",
       "          0.0471, -0.1678,  0.1325, -0.1435, -0.0765,  0.1272,  0.1440,  0.0478,\n",
       "          0.0564, -0.0259, -0.0652, -0.0042, -0.1602,  0.1287, -0.0573, -0.0121,\n",
       "          0.1298,  0.0066,  0.1464, -0.0418, -0.0098,  0.0828,  0.0054, -0.1029,\n",
       "         -0.0312,  0.1471, -0.1056, -0.0067, -0.0831,  0.0856, -0.1636,  0.1271,\n",
       "         -0.0349, -0.0291, -0.0152, -0.1391,  0.0643,  0.0016, -0.0453, -0.1455,\n",
       "         -0.1178,  0.0598, -0.1544,  0.1378, -0.0832,  0.1049, -0.1622,  0.0687,\n",
       "          0.0044, -0.0196, -0.0694, -0.0212,  0.1182, -0.0021,  0.1502,  0.0304,\n",
       "          0.1489, -0.0978, -0.0349, -0.0608, -0.1386, -0.1720,  0.1534,  0.1240,\n",
       "          0.0240, -0.0200,  0.1203,  0.0944,  0.0447, -0.0367, -0.0219, -0.0303,\n",
       "         -0.1221,  0.1339,  0.1665, -0.0204, -0.1399,  0.1478,  0.1673,  0.1365,\n",
       "          0.1475,  0.1076, -0.1308, -0.0367,  0.0004, -0.1277, -0.0443,  0.0731,\n",
       "         -0.0792,  0.0557,  0.0298, -0.1533, -0.0448, -0.0990, -0.1343,  0.1612,\n",
       "         -0.1647,  0.0149, -0.1396, -0.1413, -0.1047, -0.1248, -0.0481,  0.1262,\n",
       "         -0.0343,  0.1623,  0.0524, -0.1163, -0.1389,  0.0865,  0.0071,  0.0595,\n",
       "          0.0755,  0.0563,  0.1173, -0.1423,  0.0224, -0.0294, -0.0303, -0.0307,\n",
       "         -0.0431,  0.1314,  0.1496, -0.1722, -0.0459, -0.0933,  0.0173, -0.1359,\n",
       "          0.1020, -0.0827,  0.0933, -0.1358, -0.0690,  0.1322, -0.0896,  0.0353,\n",
       "          0.0567,  0.1459,  0.1301, -0.1040,  0.1055, -0.0288,  0.0923,  0.1189]],\n",
       "       requires_grad=True)"
      ]
     },
     "execution_count": 141,
     "metadata": {},
     "output_type": "execute_result"
    }
   ],
   "source": [
    "torch.nn.init.xavier_uniform_(model.layer1.weight)\n",
    "torch.nn.init.xavier_uniform_(model.layer2.weight)\n",
    "torch.nn.init.xavier_uniform_(model.layer3.weight)\n",
    "torch.nn.init.xavier_uniform_(model.layer4.weight)"
   ]
  },
  {
   "cell_type": "markdown",
   "metadata": {},
   "source": [
    "LE DUE CELLE SOTTO SONO SPERFLUE"
   ]
  },
  {
   "cell_type": "code",
   "execution_count": 142,
   "metadata": {},
   "outputs": [],
   "source": [
    "xtrain = dat.x[train_dataset.indices,:]\n",
    "ytrain = dat.y[train_dataset.indices,:]"
   ]
  },
  {
   "cell_type": "code",
   "execution_count": 143,
   "metadata": {},
   "outputs": [],
   "source": [
    "xvalid = dat.x[test_dataset.indices,:]\n",
    "yvalid = dat.y[test_dataset.indices,:]"
   ]
  },
  {
   "cell_type": "markdown",
   "metadata": {},
   "source": [
    "Definisco un errore e una funzione di ottimizzazione"
   ]
  },
  {
   "cell_type": "code",
   "execution_count": 148,
   "metadata": {},
   "outputs": [],
   "source": [
    "error = nn.BCELoss()\n",
    "optimizer = torch.optim.SGD(model.parameters(), lr = 1)"
   ]
  },
  {
   "cell_type": "markdown",
   "metadata": {},
   "source": [
    "Inizio il loop di training"
   ]
  },
  {
   "cell_type": "code",
   "execution_count": 145,
   "metadata": {},
   "outputs": [
    {
     "name": "stdout",
     "output_type": "stream",
     "text": [
      "Iterazione nr: 0 - Valore della funzione di loss: 0.7298 - Accuratezza: 0.34\n",
      "Iterazione nr: 100 - Valore della funzione di loss: 0.6269 - Accuratezza: 0.67\n",
      "Iterazione nr: 200 - Valore della funzione di loss: 0.6086 - Accuratezza: 0.66\n",
      "Iterazione nr: 300 - Valore della funzione di loss: 0.5777 - Accuratezza: 0.68\n",
      "Iterazione nr: 400 - Valore della funzione di loss: 0.4827 - Accuratezza: 0.78\n",
      "Iterazione nr: 500 - Valore della funzione di loss: 0.4446 - Accuratezza: 0.79\n",
      "Iterazione nr: 600 - Valore della funzione di loss: 0.4228 - Accuratezza: 0.80\n",
      "Iterazione nr: 700 - Valore della funzione di loss: 0.4064 - Accuratezza: 0.81\n",
      "Iterazione nr: 800 - Valore della funzione di loss: 0.3934 - Accuratezza: 0.82\n",
      "Iterazione nr: 900 - Valore della funzione di loss: 0.3767 - Accuratezza: 0.83\n",
      "Iterazione nr: 1000 - Valore della funzione di loss: 0.3872 - Accuratezza: 0.82\n",
      "Iterazione nr: 1100 - Valore della funzione di loss: 0.4018 - Accuratezza: 0.82\n",
      "Iterazione nr: 1200 - Valore della funzione di loss: 0.3483 - Accuratezza: 0.84\n",
      "Iterazione nr: 1300 - Valore della funzione di loss: 0.3500 - Accuratezza: 0.85\n",
      "Iterazione nr: 1400 - Valore della funzione di loss: 0.3774 - Accuratezza: 0.82\n",
      "Iterazione nr: 1500 - Valore della funzione di loss: 0.3683 - Accuratezza: 0.83\n",
      "Iterazione nr: 1600 - Valore della funzione di loss: 0.3378 - Accuratezza: 0.85\n",
      "Iterazione nr: 1700 - Valore della funzione di loss: 0.3301 - Accuratezza: 0.85\n",
      "Iterazione nr: 1800 - Valore della funzione di loss: 0.3298 - Accuratezza: 0.85\n",
      "Iterazione nr: 1900 - Valore della funzione di loss: 0.3337 - Accuratezza: 0.85\n",
      "Iterazione nr: 2000 - Valore della funzione di loss: 0.3722 - Accuratezza: 0.83\n",
      "Iterazione nr: 2100 - Valore della funzione di loss: 0.3385 - Accuratezza: 0.86\n",
      "Iterazione nr: 2200 - Valore della funzione di loss: 0.3673 - Accuratezza: 0.83\n",
      "Iterazione nr: 2300 - Valore della funzione di loss: 0.3460 - Accuratezza: 0.84\n",
      "Iterazione nr: 2400 - Valore della funzione di loss: 0.3105 - Accuratezza: 0.86\n",
      "Iterazione nr: 2500 - Valore della funzione di loss: 0.3063 - Accuratezza: 0.86\n",
      "Iterazione nr: 2600 - Valore della funzione di loss: 0.3082 - Accuratezza: 0.86\n",
      "Iterazione nr: 2700 - Valore della funzione di loss: 0.3041 - Accuratezza: 0.87\n",
      "Iterazione nr: 2800 - Valore della funzione di loss: 0.3288 - Accuratezza: 0.86\n",
      "Iterazione nr: 2900 - Valore della funzione di loss: 0.2874 - Accuratezza: 0.87\n",
      "Iterazione finale nr: 3000 - Valore della funzione di loss: 0.2960 - Accuratezza: 0.87\n",
      "Wall time: 8min 15s\n"
     ]
    }
   ],
   "source": [
    "%%time\n",
    "LOSS = []\n",
    "ACC = []\n",
    "LOSS_VALID = []\n",
    "ACC_VALID = []\n",
    "i = 0\n",
    "\n",
    "for epoch in range(1000):\n",
    "    for xtrain,ytrain in trainloader:\n",
    "        ypred_train = model( xtrain ) #calcolo l'uscita\n",
    "        loss = error(ypred_train, ytrain)         #calcolo l'errore\n",
    "        loss.backward()        #calcolo del gradiente\n",
    "        optimizer.step()       #aggiornamento ei parametri\n",
    "        optimizer.zero_grad()  #azzeramento del gradiente\n",
    "        accuracy = func_accuracy(ypred_train, ytrain) #calcolo l'accuratezza\n",
    "        if np.mod(i,100)==0:\n",
    "            print(\"Iterazione nr: %i - Valore della funzione di loss: %2.4f - Accuratezza: %2.2f\" %(i,loss.item(), accuracy))\n",
    "        LOSS.append(loss.item()) #memorizzo in una lista. uso item() per avere solo lo scalare invece del tensore\n",
    "        ACC.append(accuracy) #\n",
    "\n",
    "        #validazione\n",
    "        ypred_valid = model(xvalid)\n",
    "        loss_valid = error(ypred_valid,yvalid)\n",
    "        accuracy_valid = func_accuracy(ypred_valid,yvalid)\n",
    "        LOSS_VALID.append(loss_valid.item())\n",
    "        ACC_VALID.append(accuracy_valid)\n",
    "        \n",
    "        i += 1\n",
    "\n",
    "print(\"Iterazione finale nr: %i - Valore della funzione di loss: %2.4f - Accuratezza: %2.2f\" %(i,loss.item(), accuracy))"
   ]
  },
  {
   "cell_type": "code",
   "execution_count": 146,
   "metadata": {},
   "outputs": [
    {
     "data": {
      "image/png": "[encoded data removed]",
      "text/plain": [
       "<Figure size 432x288 with 2 Axes>"
      ]
     },
     "metadata": {
      "needs_background": "light"
     },
     "output_type": "display_data"
    }
   ],
   "source": [
    "fig1, ax1 = plt.subplots()\n",
    "color = 'tab:red'\n",
    "color2 = 'tab:green'\n",
    "\n",
    "ax1.set_xlabel('iterazione')\n",
    "ax1.set_ylabel('loss', color=color)\n",
    "ax1.plot(range(len(LOSS)),LOSS,color=color)\n",
    "ax1.plot(range(len(LOSS_VALID)),LOSS_VALID,color=color2)\n",
    "\n",
    "ax2 = ax1.twinx()\n",
    "\n",
    "color = 'tab:blue'\n",
    "color2 = 'tab:brown'\n",
    "ax2.set_ylabel('accuracy', color=color)\n",
    "ax2.plot(range(len(ACC)),ACC,color=color)\n",
    "ax2.plot(range(len(ACC_VALID)),ACC_VALID,color=color2)\n",
    "\n",
    "plt.show()"
   ]
  },
  {
   "cell_type": "code",
   "execution_count": 180,
   "metadata": {},
   "outputs": [],
   "source": [
    "def performanceModello(model, device=\"cpu\"):\n",
    "    \n",
    "    xtrain = train_dataset.dataset.x[train_dataset.indices,:]\n",
    "    ytrain = train_dataset.dataset.y[train_dataset.indices,:]\n",
    "    xvalid = test_dataset.dataset.x[test_dataset.indices,:]\n",
    "    yvalid = test_dataset.dataset.y[test_dataset.indices,:]\n",
    "    \n",
    "    if ((device==\"gpu\") or (\"cuda\" in device)):\n",
    "        xtrain = xtrain.type(torch.cuda.FloatTensor)\n",
    "#         ytrain = ytrain.type(torch.cuda.FloatTensor)\n",
    "        xvalid = xvalid.type(torch.cuda.FloatTensor)\n",
    "#         yvalid = yvalid.type(torch.cuda.FloatTensor)\n",
    "    \n",
    "    ypred_train = model(xtrain)\n",
    "    ypred_valid = model(xvalid)\n",
    "    \n",
    "    if ((device==\"gpu\") or (\"cuda\" in device)):\n",
    "        ypred_train = ypred_train.cpu()\n",
    "        ypred_valid = ypred_valid.cpu()\n",
    "    \n",
    "    ypred_train_bin = (ypred_train.detach()>0.5).numpy() \n",
    "    ypred_valid_bin = (ypred_valid.detach()>0.5).numpy()\n",
    "\n",
    "    fpr_train, tpr_train, _ = roc_curve(ytrain,ypred_train.detach())\n",
    "    fpr_test, tpr_test, _   = roc_curve(yvalid,ypred_valid.detach())\n",
    "\n",
    "    fgr1 = plt.figure()\n",
    "    lw = 2\n",
    "    plt.plot(fpr_test, tpr_test, color='darkorange', label=\"test\", lw=lw)\n",
    "    plt.plot(fpr_train, tpr_train, color='darkgreen', label=\"train\", lw=lw)\n",
    "    plt.plot([0, 1], [0, 1], color='navy', lw=lw, linestyle='--')\n",
    "    plt.xlim([0.0, 1])\n",
    "    plt.ylim([0.0, 1.0])\n",
    "    plt.xticks(np.arange(0, 1, 0.1))\n",
    "    plt.yticks(np.arange(0, 1, 0.1))\n",
    "    plt.xlabel('False Positive Rate')\n",
    "    plt.ylabel('True Positive Rate')\n",
    "    plt.title('Receiver operating characteristic (ROC curve)')\n",
    "    plt.legend(loc=\"lower right\")\n",
    "    plt.grid(which='both')\n",
    "    plt.show()\n",
    "\n",
    "    from sklearn.metrics import confusion_matrix\n",
    "\n",
    "    tn, fp, fn, tp = confusion_matrix(ytrain, ypred_train_bin ).ravel()\n",
    "    tn, fp, fn, tp\n",
    "\n",
    "    A = (tp+tn)/(tp+tn+fn+fp)\n",
    "    P = tp/(tp+fp)\n",
    "    R = tp/(tp+fn)\n",
    "    F1 = 2*(P*R)/(P+R)\n",
    "    print('L\\'accuratezza è %0.1f%%' %(A*100))\n",
    "    print('La precisione è %0.1f%%' %(P*100))\n",
    "    print('Il recall è %0.1f%%' %(R*100))\n",
    "    print('Il punteggio F1 è %0.1f%%' %(F1*100))"
   ]
  },
  {
   "cell_type": "code",
   "execution_count": 181,
   "metadata": {},
   "outputs": [
    {
     "data": {
      "image/png": "[encoded data removed]",
      "text/plain": [
       "<Figure size 432x288 with 1 Axes>"
      ]
     },
     "metadata": {
      "needs_background": "light"
     },
     "output_type": "display_data"
    },
    {
     "name": "stdout",
     "output_type": "stream",
     "text": [
      "L'accuratezza è 87.0%\n",
      "La precisione è 82.9%\n",
      "Il recall è 76.9%\n",
      "Il punteggio F1 è 79.8%\n"
     ]
    }
   ],
   "source": [
    "performanceModello(model)"
   ]
  },
  {
   "cell_type": "markdown",
   "metadata": {},
   "source": [
    "## Modello CUDA 2.0\n",
    "Comunico che voglio usare il training sulla gpu (\"cuda:0\")"
   ]
  },
  {
   "cell_type": "code",
   "execution_count": 197,
   "metadata": {},
   "outputs": [
    {
     "data": {
      "text/plain": [
       "device(type='cuda', index=0)"
      ]
     },
     "execution_count": 197,
     "metadata": {},
     "output_type": "execute_result"
    }
   ],
   "source": [
    "torch.device(\"cuda:0\")"
   ]
  },
  {
   "cell_type": "markdown",
   "metadata": {},
   "source": [
    "Istanzio il modello:"
   ]
  },
  {
   "cell_type": "code",
   "execution_count": 198,
   "metadata": {},
   "outputs": [],
   "source": [
    "augmented_model = AZNet()"
   ]
  },
  {
   "cell_type": "markdown",
   "metadata": {},
   "source": [
    "Devo spostare tutti i parametri del modello sulla GPU"
   ]
  },
  {
   "cell_type": "code",
   "execution_count": 199,
   "metadata": {},
   "outputs": [
    {
     "data": {
      "text/plain": [
       "AZNet(\n",
       "  (layer1): Linear(in_features=164, out_features=200, bias=True)\n",
       "  (layer2): Linear(in_features=200, out_features=200, bias=True)\n",
       "  (layer3): Linear(in_features=200, out_features=200, bias=True)\n",
       "  (layer4): Linear(in_features=200, out_features=1, bias=True)\n",
       ")"
      ]
     },
     "execution_count": 199,
     "metadata": {},
     "output_type": "execute_result"
    }
   ],
   "source": [
    "augmented_model.cuda()"
   ]
  },
  {
   "cell_type": "markdown",
   "metadata": {},
   "source": [
    "Come in precedenza, definisco la Binary Cross-Entropy come funzione errore, e lo Stochastic Gradient Descent come ottimizzatore"
   ]
  },
  {
   "cell_type": "code",
   "execution_count": 200,
   "metadata": {},
   "outputs": [],
   "source": [
    "error = nn.BCELoss()\n",
    "\n",
    "optimizer = torch.optim.SGD(augmented_model.parameters(), lr=1)"
   ]
  },
  {
   "cell_type": "markdown",
   "metadata": {},
   "source": [
    "Effettuo il training in batch del modello:"
   ]
  },
  {
   "cell_type": "code",
   "execution_count": 201,
   "metadata": {},
   "outputs": [
    {
     "name": "stdout",
     "output_type": "stream",
     "text": [
      "Iterazione nr: 0 - Valore della funzione di loss: 0.7260 - Accuratezza: 0.33\n",
      "Iterazione nr: 100 - Valore della funzione di loss: 0.6305 - Accuratezza: 0.67\n",
      "Iterazione nr: 200 - Valore della funzione di loss: 0.6272 - Accuratezza: 0.66\n",
      "Iterazione nr: 300 - Valore della funzione di loss: 0.5958 - Accuratezza: 0.68\n",
      "Iterazione nr: 400 - Valore della funzione di loss: 0.5549 - Accuratezza: 0.72\n",
      "Iterazione nr: 500 - Valore della funzione di loss: 0.4919 - Accuratezza: 0.76\n",
      "Iterazione nr: 600 - Valore della funzione di loss: 0.4492 - Accuratezza: 0.80\n",
      "Iterazione nr: 700 - Valore della funzione di loss: 0.4316 - Accuratezza: 0.80\n",
      "Iterazione nr: 800 - Valore della funzione di loss: 0.4252 - Accuratezza: 0.80\n",
      "Iterazione nr: 900 - Valore della funzione di loss: 0.3865 - Accuratezza: 0.82\n",
      "Iterazione nr: 1000 - Valore della funzione di loss: 0.3955 - Accuratezza: 0.82\n",
      "Iterazione nr: 1100 - Valore della funzione di loss: 0.3675 - Accuratezza: 0.83\n",
      "Iterazione nr: 1200 - Valore della funzione di loss: 0.3699 - Accuratezza: 0.83\n",
      "Iterazione nr: 1300 - Valore della funzione di loss: 0.3819 - Accuratezza: 0.83\n",
      "Iterazione nr: 1400 - Valore della funzione di loss: 0.3576 - Accuratezza: 0.84\n",
      "Iterazione nr: 1500 - Valore della funzione di loss: 0.3597 - Accuratezza: 0.84\n",
      "Iterazione nr: 1600 - Valore della funzione di loss: 0.3501 - Accuratezza: 0.84\n",
      "Iterazione nr: 1700 - Valore della funzione di loss: 0.3863 - Accuratezza: 0.83\n",
      "Iterazione nr: 1800 - Valore della funzione di loss: 0.3452 - Accuratezza: 0.85\n",
      "Iterazione nr: 1900 - Valore della funzione di loss: 0.3447 - Accuratezza: 0.85\n",
      "Iterazione nr: 2000 - Valore della funzione di loss: 0.3587 - Accuratezza: 0.84\n",
      "Iterazione nr: 2100 - Valore della funzione di loss: 0.3398 - Accuratezza: 0.85\n",
      "Iterazione nr: 2200 - Valore della funzione di loss: 0.3395 - Accuratezza: 0.85\n",
      "Iterazione nr: 2300 - Valore della funzione di loss: 0.3281 - Accuratezza: 0.86\n",
      "Iterazione nr: 2400 - Valore della funzione di loss: 0.3224 - Accuratezza: 0.86\n",
      "Iterazione nr: 2500 - Valore della funzione di loss: 0.3210 - Accuratezza: 0.86\n",
      "Iterazione nr: 2600 - Valore della funzione di loss: 0.3210 - Accuratezza: 0.86\n",
      "Iterazione nr: 2700 - Valore della funzione di loss: 0.3331 - Accuratezza: 0.86\n",
      "Iterazione nr: 2800 - Valore della funzione di loss: 0.3162 - Accuratezza: 0.87\n",
      "Iterazione nr: 2900 - Valore della funzione di loss: 0.3035 - Accuratezza: 0.87\n",
      "Wall time: 5min 42s\n"
     ]
    }
   ],
   "source": [
    "%%time\n",
    "LOSS = []\n",
    "ACC = []\n",
    "LOSS_VALID = []\n",
    "ACC_VALID = []\n",
    "i = 0\n",
    "\n",
    "dtype = torch.cuda.FloatTensor\n",
    "\n",
    "for epoch in range(1000): #epoch\n",
    "    for xtrain,ytrain in trainloader: #ad ogni ciclo, un batch di 4000 samples viene processato\n",
    "        xtrain = xtrain.type(dtype)\n",
    "        ytrain = ytrain.type(dtype)\n",
    "        ypred_train = augmented_model( xtrain )        #calcolo l'uscita\n",
    "        loss = error(ypred_train, ytrain)         #calcolo l'errore\n",
    "        loss.backward()        #calcolo del gradiente\n",
    "        optimizer.step()       #aggiornamento ei parametri\n",
    "        optimizer.zero_grad()  #azzeramento del gradiente\n",
    "        accuracy = func_accuracy(ypred_train, ytrain) #calcolo l'accuratezza\n",
    "        if np.mod(i,100)==0:\n",
    "            print(\"Iterazione nr: %i - Valore della funzione di loss: %2.4f - Accuratezza: %2.2f\" %(i,loss.item(), accuracy))\n",
    "        LOSS.append(loss.item()) #memorizzo in una lista. uso item() per avere solo lo scalare invece del tensore\n",
    "        ACC.append(accuracy) #\n",
    "\n",
    "        #validazione\n",
    "        xvalid = xvalid.type(dtype)\n",
    "        yvalid = yvalid.type(dtype)\n",
    "        ypred_valid = augmented_model(xvalid)\n",
    "        loss_valid = error(ypred_valid,yvalid)\n",
    "        accuracy_valid = func_accuracy(ypred_valid,yvalid)\n",
    "        LOSS_VALID.append(loss_valid.item())\n",
    "        ACC_VALID.append(accuracy_valid)\n",
    "        \n",
    "        i += 1"
   ]
  },
  {
   "cell_type": "markdown",
   "metadata": {},
   "source": [
    "Calcolo le performance:"
   ]
  },
  {
   "cell_type": "code",
   "execution_count": 204,
   "metadata": {},
   "outputs": [
    {
     "data": {
      "image/png": "[encoded data removed]",
      "text/plain": [
       "<Figure size 432x288 with 1 Axes>"
      ]
     },
     "metadata": {
      "needs_background": "light"
     },
     "output_type": "display_data"
    },
    {
     "name": "stdout",
     "output_type": "stream",
     "text": [
      "L'accuratezza è 86.8%\n",
      "La precisione è 83.0%\n",
      "Il recall è 76.2%\n",
      "Il punteggio F1 è 79.5%\n"
     ]
    }
   ],
   "source": [
    "performanceModello(augmented_model,\"gpu\")"
   ]
  },
  {
   "cell_type": "markdown",
   "metadata": {},
   "source": [
    "Come si vede abbiamo guadagnato un 10% nel F1 grazie all'augmentation."
   ]
  }
 ],
 "metadata": {
  "kernelspec": {
   "display_name": "Python 3",
   "language": "python",
   "name": "python3"
  },
  "language_info": {
   "codemirror_mode": {
    "name": "ipython",
    "version": 3
   },
   "file_extension": ".py",
   "mimetype": "text/x-python",
   "name": "python",
   "nbconvert_exporter": "python",
   "pygments_lexer": "ipython3",
   "version": "3.7.4"
  },
  "toc": {
   "base_numbering": 1,
   "nav_menu": {},
   "number_sections": false,
   "sideBar": false,
   "skip_h1_title": false,
   "title_cell": "Table of Contents",
   "title_sidebar": "Contents",
   "toc_cell": false,
   "toc_position": {},
   "toc_section_display": false,
   "toc_window_display": false
  }
 },
 "nbformat": 4,
 "nbformat_minor": 4
}
