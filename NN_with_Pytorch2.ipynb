{
 "cells": [
  {
   "cell_type": "markdown",
   "metadata": {},
   "source": [
    "# Neural Network with Pytorch"
   ]
  },
  {
   "cell_type": "markdown",
   "metadata": {},
   "source": [
    "L'obbiettivo di questo notebook è di costruire un modello regressivo utilizzando una rete neurale. E confrontare il risultato con il modello di regressione logistica del notebook [LINK]"
   ]
  },
  {
   "cell_type": "markdown",
   "metadata": {},
   "source": [
    "In un notebook precedente [LINK] abbiamo visto alcuni concetti di base di Pytorch e la costruzione di una rete neurale.\n",
    "\n",
    "Adesso procederemo in maniera più sistematica. \n",
    "\n",
    "Questi sono i passi da seguire:\n",
    "\n",
    "- preparare i dati, creare un dataset\n",
    "- definire un modello, con dei parametri da \"imparare\"\n",
    "- definire una funzione errore (o loss, o costo) \n",
    "- definire un ottimizzatore"
   ]
  },
  {
   "cell_type": "code",
   "execution_count": 170,
   "metadata": {},
   "outputs": [],
   "source": [
    "import pandas as pd\n",
    "import numpy as np\n",
    "import torch\n",
    "import matplotlib.pyplot as plt"
   ]
  },
  {
   "cell_type": "markdown",
   "metadata": {},
   "source": [
    "## Il problema"
   ]
  },
  {
   "cell_type": "markdown",
   "metadata": {},
   "source": [
    "Ho un dataset costituito da 15000 pazienti. Per ogni paziente sono registrati dei dati medici, inclusa l'età del paziente. Altri dati sono il numero di gravidanze, glucosio, pressione, etc. Infine per ogni paziente è indicato se è diabetico(1) oppure no(0)."
   ]
  },
  {
   "cell_type": "markdown",
   "metadata": {},
   "source": [
    "Il problema è quello di riuscire a prevedere sulla base dei dati medici se il paziente è diabetico. "
   ]
  },
  {
   "cell_type": "markdown",
   "metadata": {},
   "source": [
    "## Load Dataset"
   ]
  },
  {
   "cell_type": "markdown",
   "metadata": {},
   "source": [
    "Usiamo la classe Dataset e la customizziamo. Precisamente la classe necessita la definizione di tre funzioni:\n",
    "- __init__(self)\n",
    "- __len__(self)\n",
    "- __getitem__(self,idx)"
   ]
  },
  {
   "cell_type": "markdown",
   "metadata": {},
   "source": [
    "Nel costruttore definisco i dati del Dataset e la sua lunghezza: x, y e len.<br>\n",
    "Dopodiché definisco i getter cioè come interagire con la classe, ottenendo gli elementi x,y e la lunghezza."
   ]
  },
  {
   "cell_type": "code",
   "execution_count": 171,
   "metadata": {},
   "outputs": [],
   "source": [
    "def dataProcess(lista_pazienti):\n",
    "        \n",
    "        MmSc = MinMaxScaler()\n",
    "        StSc = StandardScaler()\n",
    "        \n",
    "        lista_pazienti['logAge'] = np.log10(lista_pazienti['Age'].values)\n",
    "\n",
    "        columns_minmax = ['Pregnancies','SerumInsulin','BMI','DiabetesPedigree','logAge']\n",
    "        columns_zscore = ['PlasmaGlucose','DiastolicBloodPressure','TricepsThickness']\n",
    "\n",
    "        lista_pazienti_norm = pd.DataFrame(index=range(lista_pazienti.shape[0]))\n",
    "        for column in columns_minmax:\n",
    "            lista_pazienti_norm[column + '_norm'] = MmSc.fit_transform(lista_pazienti[column].values.astype(np.float64).reshape(-1, 1))\n",
    "        for column in columns_zscore:\n",
    "            lista_pazienti_norm[column + '_norm'] = StSc.fit_transform(lista_pazienti[column].values.astype(np.float64).reshape(-1, 1))\n",
    "        \n",
    "        #aggiunge colonne non mumeriche al nuovo DF\n",
    "        lista_pazienti_norm[['PatientID','Diabetic']] = lista_pazienti[['PatientID','Diabetic']]\n",
    "        \n",
    "        return lista_pazienti_norm"
   ]
  },
  {
   "cell_type": "code",
   "execution_count": 172,
   "metadata": {},
   "outputs": [],
   "source": [
    "from torch.utils.data import Dataset, DataLoader\n",
    "from sklearn.preprocessing import StandardScaler, MinMaxScaler\n",
    "\n",
    "class DatiMediciDataset(Dataset):\n",
    "    \n",
    "    # Constructor\n",
    "    def __init__(self):\n",
    "        lista_pazienti = pd.read_csv('diabetes.csv')\n",
    "        lista_dottori = pd.read_csv('doctors.csv', encoding = \"ISO-8859-1\")\n",
    "        \n",
    "        lista_pazienti = dataProcess(lista_pazienti)\n",
    "        \n",
    "        self.x = torch.from_numpy(lista_pazienti.drop(columns=['Diabetic','PatientID']).values).type(dtype=torch.float)\n",
    "        self.y = torch.tensor(lista_pazienti.Diabetic.values, dtype=torch.float).view(-1,1)\n",
    "        \n",
    "        self.len = lista_pazienti.shape[0]\n",
    "    \n",
    "    # getter: get length\n",
    "    def __len__(self):\n",
    "        return self.len\n",
    "    \n",
    "    # getter: get single item\n",
    "    def __getitem__(self, idx):\n",
    "        return self.x[idx,:], self.y[idx,:]\n"
   ]
  },
  {
   "cell_type": "markdown",
   "metadata": {},
   "source": [
    "Istanzio un membro di questa classe:"
   ]
  },
  {
   "cell_type": "code",
   "execution_count": 173,
   "metadata": {},
   "outputs": [],
   "source": [
    "dat = DatiMediciDataset()"
   ]
  },
  {
   "cell_type": "markdown",
   "metadata": {},
   "source": [
    "Adesso ho un elemento dat con le propietà x, y e len. Per esempio posso chiedermi quali sono i dati x di dat:"
   ]
  },
  {
   "cell_type": "code",
   "execution_count": 174,
   "metadata": {},
   "outputs": [
    {
     "data": {
      "text/plain": [
       "tensor([[ 0.0000,  0.0115,  0.6690,  ...,  1.9744,  0.5239,  0.3563],\n",
       "        [ 0.5714,  0.0280,  0.0804,  ..., -0.4958,  1.2996,  1.2494],\n",
       "        [ 0.5000,  0.0268,  0.6161,  ...,  0.2234, -1.4453,  1.5930],\n",
       "        ...,\n",
       "        [ 0.0000,  0.0548,  0.0130,  ..., -0.4646,  1.0609,  0.9746],\n",
       "        [ 0.0000,  0.1873,  0.0421,  ...,  0.7549,  1.5980, -0.7430],\n",
       "        [ 0.2143,  0.6344,  0.4762,  ...,  0.1921, -0.3712,  1.2494]])"
      ]
     },
     "execution_count": 174,
     "metadata": {},
     "output_type": "execute_result"
    }
   ],
   "source": [
    "dat.x"
   ]
  },
  {
   "cell_type": "markdown",
   "metadata": {},
   "source": [
    "Partiziono il dataset in un train dataset ed un test dataset usando la funzione torch.utils.data.random_split.<br>\n",
    "Uso il 80% per il training e il restante 20% per la validazione."
   ]
  },
  {
   "cell_type": "code",
   "execution_count": 175,
   "metadata": {},
   "outputs": [],
   "source": [
    "train_size = int(0.8 * dat.len)\n",
    "test_size = dat.len - train_size\n",
    "train_dataset, test_dataset = torch.utils.data.random_split(dat, [train_size, test_size])"
   ]
  },
  {
   "cell_type": "markdown",
   "metadata": {},
   "source": [
    "I risultato di random_split sono due subset, Ciascuno che ha come argomenti dataset (il dataset completo) e indices. Indices è una lista degli indici del sottoinsieme.<br>\n",
    "Per esempio, questi sono gli indici del dataset originali che costituiscono il subset train_dataset:"
   ]
  },
  {
   "cell_type": "code",
   "execution_count": 176,
   "metadata": {},
   "outputs": [
    {
     "data": {
      "text/plain": [
       "[12036, 8161, 8065, 3990, 6712, 4753, 5231, 6057, 9281, 11198]"
      ]
     },
     "execution_count": 176,
     "metadata": {},
     "output_type": "execute_result"
    }
   ],
   "source": [
    "train_dataset.indices[0:10] #visualizzo solo i primi indici"
   ]
  },
  {
   "cell_type": "markdown",
   "metadata": {},
   "source": [
    "Infine creo degli oggetti DataLoader, uno per il train_dataset e un altro per il test_dataset.<br>\n",
    "Il DataLoader è molto pratico per fare un training in batch e mischiare i dati (shuffle) senza scrivere una linea di codice.  "
   ]
  },
  {
   "cell_type": "code",
   "execution_count": 177,
   "metadata": {},
   "outputs": [],
   "source": [
    "trainloader      = DataLoader(dataset=train_dataset, batch_size=4000, shuffle=True)\n",
    "validationloader = DataLoader(dataset=test_dataset, batch_size=1000, shuffle=False)"
   ]
  },
  {
   "cell_type": "markdown",
   "metadata": {},
   "source": [
    "## Definizione del modello"
   ]
  },
  {
   "cell_type": "code",
   "execution_count": 178,
   "metadata": {},
   "outputs": [],
   "source": [
    "from torch.nn import Module\n",
    "import torch.nn as nn\n",
    "import torch.nn.functional as F\n",
    "\n",
    "class AZNet(Module):\n",
    "    \n",
    "    #Constructor\n",
    "    def __init__(self):\n",
    "        super(AZNet, self).__init__()\n",
    "        node = 100\n",
    "        self.layer1 = nn.Linear(8,node)\n",
    "        self.layer2 = nn.Linear(node,node)\n",
    "        self.layer3 = nn.Linear(node,1)\n",
    "    \n",
    "    #La funzione forward richiede un tensore x in ingresso e restituisce un tensore y in uscita\n",
    "    def forward(self, x):\n",
    "        x = torch.sigmoid(self.layer1(x))\n",
    "        x = torch.sigmoid(self.layer2(x))\n",
    "        y = torch.sigmoid(self.layer3(x))\n",
    "        return y"
   ]
  },
  {
   "cell_type": "markdown",
   "metadata": {},
   "source": [
    "Nel costruttore __init__(self) posso definire tutte la variabili che verranno usate nella funzione forward() (o eventualmente in altre funzioni). In questo caso ho la definizione dei layer che costituiscono la rete neurale.<br>\n",
    "Il layer di ingresso self.layer1 è costituito da 100 nodi, ciascun nodo riceve il valore di ciascuna delle variabili di ingresso del dataset. Ciascun nodo del layer1 è connesso ai 100 nodi del layer self.layer2, questi confluiscono nel layer di uscita self.layer3 costituito da un singolo nodo."
   ]
  },
  {
   "cell_type": "markdown",
   "metadata": {},
   "source": [
    "Ogni nodo ha un bias."
   ]
  },
  {
   "cell_type": "markdown",
   "metadata": {},
   "source": [
    "Ciascun nodo ha una funzione di attivazione, una funzione fortemente non lineare, definita in forward(). In questo caso ho usato la funzione F.relu() per tutti i layer.<br>\n",
    "Per come ho costruito la rete, l'uscita è una variabile float, che possiamo confrontare con la soglia 0.5 per decidere se assegnare uno 0 oppure un 1. "
   ]
  },
  {
   "cell_type": "markdown",
   "metadata": {},
   "source": [
    "Definisco un membro della classe AZNet."
   ]
  },
  {
   "cell_type": "code",
   "execution_count": 179,
   "metadata": {},
   "outputs": [],
   "source": [
    "model = AZNet()"
   ]
  },
  {
   "cell_type": "markdown",
   "metadata": {},
   "source": [
    "Rivediamo come è definita la rete:"
   ]
  },
  {
   "cell_type": "code",
   "execution_count": 180,
   "metadata": {},
   "outputs": [
    {
     "data": {
      "text/plain": [
       "AZNet(\n",
       "  (layer1): Linear(in_features=8, out_features=100, bias=True)\n",
       "  (layer2): Linear(in_features=100, out_features=100, bias=True)\n",
       "  (layer3): Linear(in_features=100, out_features=1, bias=True)\n",
       ")"
      ]
     },
     "execution_count": 180,
     "metadata": {},
     "output_type": "execute_result"
    }
   ],
   "source": [
    "model"
   ]
  },
  {
   "cell_type": "markdown",
   "metadata": {},
   "source": [
    "Di quando in quando capita di dover resettare i pesi (weight) dei layers, per esempio perché voglio rifare il training. Posso usare questi comandi per resettare i weigth e i bias"
   ]
  },
  {
   "cell_type": "code",
   "execution_count": 181,
   "metadata": {},
   "outputs": [
    {
     "data": {
      "text/plain": [
       "Parameter containing:\n",
       "tensor([[ 0.1195, -0.1350,  0.1554, -0.1193, -0.2212,  0.1751, -0.0664, -0.0128,\n",
       "         -0.1324, -0.0271,  0.2334, -0.0988, -0.0994,  0.1366,  0.0868, -0.1882,\n",
       "         -0.0600, -0.0529,  0.0436,  0.2385,  0.1623, -0.1477,  0.0456,  0.0493,\n",
       "         -0.2337, -0.1757, -0.2381,  0.0796, -0.0932,  0.1279,  0.1993, -0.1151,\n",
       "         -0.1282, -0.0136, -0.0136,  0.0741,  0.1485, -0.1511, -0.1671,  0.2047,\n",
       "          0.0252,  0.1775, -0.2106,  0.0813,  0.1924, -0.0844, -0.1749, -0.1350,\n",
       "         -0.2049, -0.0648,  0.0043,  0.1302, -0.0437,  0.1187,  0.0956,  0.1804,\n",
       "         -0.0326, -0.1755, -0.0239, -0.0265, -0.1194,  0.0671,  0.0752,  0.0956,\n",
       "         -0.1023, -0.0200,  0.0476, -0.0308,  0.0620, -0.1456,  0.1328,  0.2436,\n",
       "         -0.2068,  0.1232, -0.1809, -0.1626, -0.0858,  0.1029, -0.0355, -0.0629,\n",
       "         -0.1986, -0.0914, -0.1181, -0.0145, -0.2405, -0.0627,  0.0549,  0.1426,\n",
       "          0.0802,  0.0610, -0.0152,  0.2256,  0.0354,  0.2362,  0.0034,  0.1627,\n",
       "          0.0988,  0.1715, -0.0922,  0.1972]], requires_grad=True)"
      ]
     },
     "execution_count": 181,
     "metadata": {},
     "output_type": "execute_result"
    }
   ],
   "source": [
    "torch.nn.init.xavier_uniform_(model.layer1.weight)\n",
    "torch.nn.init.xavier_uniform_(model.layer2.weight)\n",
    "torch.nn.init.xavier_uniform_(model.layer3.weight)"
   ]
  },
  {
   "cell_type": "markdown",
   "metadata": {},
   "source": [
    "Questi sono i dati su cui effettuo il training. Per il training come detto uso il DataLoader e i dati saranno letti in batch. Al momento voglio fare verificare che il modello creato sia consistente con i dati. "
   ]
  },
  {
   "cell_type": "code",
   "execution_count": 182,
   "metadata": {},
   "outputs": [],
   "source": [
    "xtrain = dat.x[train_dataset.indices,:]\n",
    "ytrain = dat.y[train_dataset.indices,:]"
   ]
  },
  {
   "cell_type": "code",
   "execution_count": 183,
   "metadata": {},
   "outputs": [
    {
     "data": {
      "text/plain": [
       "torch.Size([12000, 8])"
      ]
     },
     "execution_count": 183,
     "metadata": {},
     "output_type": "execute_result"
    }
   ],
   "source": [
    "xtrain.shape"
   ]
  },
  {
   "cell_type": "code",
   "execution_count": 184,
   "metadata": {},
   "outputs": [
    {
     "data": {
      "text/plain": [
       "torch.Size([12000, 1])"
      ]
     },
     "execution_count": 184,
     "metadata": {},
     "output_type": "execute_result"
    }
   ],
   "source": [
    "ypred_train = model( xtrain )\n",
    "ypred_train.shape"
   ]
  },
  {
   "cell_type": "markdown",
   "metadata": {},
   "source": [
    "Questi sono invece i dati per la validazione:"
   ]
  },
  {
   "cell_type": "code",
   "execution_count": 185,
   "metadata": {},
   "outputs": [],
   "source": [
    "xvalid = dat.x[test_dataset.indices,:]\n",
    "yvalid = dat.y[test_dataset.indices,:]"
   ]
  },
  {
   "cell_type": "code",
   "execution_count": 186,
   "metadata": {},
   "outputs": [
    {
     "data": {
      "text/plain": [
       "torch.Size([3000, 8])"
      ]
     },
     "execution_count": 186,
     "metadata": {},
     "output_type": "execute_result"
    }
   ],
   "source": [
    "xvalid.shape"
   ]
  },
  {
   "cell_type": "markdown",
   "metadata": {},
   "source": [
    "## Definisco una funzione di errore e l'ottimizzatore"
   ]
  },
  {
   "cell_type": "markdown",
   "metadata": {},
   "source": [
    "Per il tipo di classificazione, simile ad una regressione logistica, che stiamo facendo la funzione BCELoss() -Binary Cross-Entropy Loss- è la più indicata."
   ]
  },
  {
   "cell_type": "code",
   "execution_count": 187,
   "metadata": {},
   "outputs": [],
   "source": [
    "error = nn.BCELoss()"
   ]
  },
  {
   "cell_type": "code",
   "execution_count": 188,
   "metadata": {},
   "outputs": [],
   "source": [
    "learning_rate = 1\n",
    "optimizer = torch.optim.SGD(model.parameters(), lr = learning_rate)"
   ]
  },
  {
   "cell_type": "code",
   "execution_count": 189,
   "metadata": {},
   "outputs": [],
   "source": [
    "def func_accuracy(ypred, ytrue):\n",
    "    ytrue = ytrue.type(dtype=torch.uint8)\n",
    "    accuracy = ((ypred>0.5)==ytrue).sum().item()/ytrue.shape[0]\n",
    "    return accuracy"
   ]
  },
  {
   "cell_type": "markdown",
   "metadata": {},
   "source": [
    "## Training del modello"
   ]
  },
  {
   "cell_type": "markdown",
   "metadata": {},
   "source": [
    "Il training consta di 101 epoch. Ad ogni epoch devo passare tutti gli elementi del train dataset. Ad ogni ciclo del loop un batch viene processato.<br>\n",
    "\n",
    "Per ogni ciclo:\n",
    "- l'uscita del modello viene calcolata\n",
    "- calcolo l'errore tra ypred e ytrue: criterion(ypred, ytrue)\n",
    "- calcolo il gradiente con la funzione backward()\n",
    "- aggiorno i parametri dell'ottimizzazione: optimizer step()\n",
    "- azzero il gradiente\n",
    "\n",
    "inoltre:\n",
    "- calcolo l'accuratezza della previsione\n",
    "- memorizzo i risultati dell'errore e dell'accuratezza\n",
    "- calcolo l'errore e l'accuratezza del dataset di validazione"
   ]
  },
  {
   "cell_type": "code",
   "execution_count": 190,
   "metadata": {},
   "outputs": [
    {
     "name": "stdout",
     "output_type": "stream",
     "text": [
      "Iterazione nr: 0 - Valore della funzione di loss: 0.6705 - Accuratezza: 0.67\n",
      "Iterazione nr: 100 - Valore della funzione di loss: 0.6214 - Accuratezza: 0.66\n",
      "Iterazione nr: 200 - Valore della funzione di loss: 0.5553 - Accuratezza: 0.70\n",
      "Iterazione nr: 300 - Valore della funzione di loss: 0.4957 - Accuratezza: 0.75\n",
      "Iterazione nr: 400 - Valore della funzione di loss: 0.4953 - Accuratezza: 0.76\n",
      "Iterazione nr: 500 - Valore della funzione di loss: 0.4512 - Accuratezza: 0.78\n",
      "Iterazione nr: 600 - Valore della funzione di loss: 0.4331 - Accuratezza: 0.79\n",
      "Iterazione nr: 700 - Valore della funzione di loss: 0.4357 - Accuratezza: 0.79\n",
      "Iterazione nr: 800 - Valore della funzione di loss: 0.4478 - Accuratezza: 0.78\n",
      "Iterazione nr: 900 - Valore della funzione di loss: 0.4218 - Accuratezza: 0.80\n",
      "Iterazione nr: 1000 - Valore della funzione di loss: 0.4259 - Accuratezza: 0.79\n",
      "Iterazione nr: 1100 - Valore della funzione di loss: 0.4289 - Accuratezza: 0.80\n",
      "Iterazione nr: 1200 - Valore della funzione di loss: 0.4264 - Accuratezza: 0.80\n",
      "Iterazione nr: 1300 - Valore della funzione di loss: 0.4298 - Accuratezza: 0.79\n",
      "Iterazione nr: 1400 - Valore della funzione di loss: 0.4068 - Accuratezza: 0.81\n",
      "Iterazione nr: 1500 - Valore della funzione di loss: 0.4288 - Accuratezza: 0.79\n",
      "Iterazione nr: 1600 - Valore della funzione di loss: 0.4283 - Accuratezza: 0.80\n",
      "Iterazione nr: 1700 - Valore della funzione di loss: 0.4142 - Accuratezza: 0.81\n",
      "Iterazione nr: 1800 - Valore della funzione di loss: 0.4151 - Accuratezza: 0.80\n",
      "Iterazione nr: 1900 - Valore della funzione di loss: 0.4194 - Accuratezza: 0.80\n",
      "Iterazione nr: 2000 - Valore della funzione di loss: 0.4192 - Accuratezza: 0.80\n",
      "Iterazione nr: 2100 - Valore della funzione di loss: 0.4178 - Accuratezza: 0.80\n",
      "Iterazione nr: 2200 - Valore della funzione di loss: 0.4123 - Accuratezza: 0.80\n",
      "Iterazione nr: 2300 - Valore della funzione di loss: 0.4045 - Accuratezza: 0.81\n",
      "Iterazione nr: 2400 - Valore della funzione di loss: 0.4127 - Accuratezza: 0.81\n",
      "Iterazione nr: 2500 - Valore della funzione di loss: 0.4121 - Accuratezza: 0.80\n",
      "Iterazione nr: 2600 - Valore della funzione di loss: 0.4235 - Accuratezza: 0.80\n",
      "Iterazione nr: 2700 - Valore della funzione di loss: 0.4110 - Accuratezza: 0.81\n",
      "Iterazione nr: 2800 - Valore della funzione di loss: 0.4021 - Accuratezza: 0.81\n",
      "Iterazione nr: 2900 - Valore della funzione di loss: 0.4115 - Accuratezza: 0.80\n",
      "Wall time: 5min 21s\n"
     ]
    }
   ],
   "source": [
    "%%time\n",
    "LOSS = []\n",
    "ACC = []\n",
    "LOSS_VALID = []\n",
    "ACC_VALID = []\n",
    "i = 0\n",
    "\n",
    "for epoch in range(1000):\n",
    "    for xtrain,ytrain in trainloader:\n",
    "        ypred_train = model( xtrain ) #calcolo l'uscita\n",
    "        loss = error(ypred_train, ytrain)         #calcolo l'errore\n",
    "        loss.backward()        #calcolo del gradiente\n",
    "        optimizer.step()       #aggiornamento ei parametri\n",
    "        optimizer.zero_grad()  #azzeramento del gradiente\n",
    "        accuracy = func_accuracy(ypred_train, ytrain) #calcolo l'accuratezza\n",
    "        if np.mod(i,100)==0:\n",
    "            print(\"Iterazione nr: %i - Valore della funzione di loss: %2.4f - Accuratezza: %2.2f\" %(i,loss.item(), accuracy))\n",
    "        LOSS.append(loss.item()) #memorizzo in una lista. uso item() per avere solo lo scalare invece del tensore\n",
    "        ACC.append(accuracy) #\n",
    "\n",
    "        #validazione\n",
    "        ypred_valid = model(xvalid)\n",
    "        loss_valid = error(ypred_valid,yvalid)\n",
    "        accuracy_valid = func_accuracy(ypred_valid,yvalid)\n",
    "        LOSS_VALID.append(loss_valid.item())\n",
    "        ACC_VALID.append(accuracy_valid)\n",
    "        \n",
    "        i += 1"
   ]
  },
  {
   "cell_type": "code",
   "execution_count": 191,
   "metadata": {
    "scrolled": true
   },
   "outputs": [
    {
     "data": {
      "image/png": "[encoded data removed]",
      "text/plain": [
       "<Figure size 432x288 with 2 Axes>"
      ]
     },
     "metadata": {
      "needs_background": "light"
     },
     "output_type": "display_data"
    }
   ],
   "source": [
    "fig1, ax1 = plt.subplots()\n",
    "color = 'tab:red'\n",
    "color2 = 'tab:green'\n",
    "\n",
    "ax1.set_xlabel('iterazione')\n",
    "ax1.set_ylabel('loss', color=color)\n",
    "ax1.plot(range(len(LOSS)),LOSS,color=color)\n",
    "ax1.plot(range(len(LOSS_VALID)),LOSS_VALID,color=color2)\n",
    "\n",
    "ax2 = ax1.twinx()\n",
    "\n",
    "color = 'tab:blue'\n",
    "color2 = 'tab:brown'\n",
    "ax2.set_ylabel('accuracy', color=color)\n",
    "ax2.plot(range(len(ACC)),ACC,color=color)\n",
    "ax2.plot(range(len(ACC_VALID)),ACC_VALID,color=color2)\n",
    "\n",
    "plt.show()"
   ]
  },
  {
   "cell_type": "markdown",
   "metadata": {},
   "source": [
    "## Qualità del modello"
   ]
  },
  {
   "cell_type": "markdown",
   "metadata": {},
   "source": [
    "Come misura della qualità del modello uso la curva ROC. Genero una curva per il dataset di training e una per quello di validazione (test)."
   ]
  },
  {
   "cell_type": "markdown",
   "metadata": {},
   "source": [
    "Inizio con il definire i dati sui quali calcolare la qualità del modello. Per il dataset di training calcolo la curva sull'intero dataset. Così pure sul dataset di test."
   ]
  },
  {
   "cell_type": "markdown",
   "metadata": {},
   "source": [
    "Per vedere quali dati fanno parte del dataset di training uso <strong>train_dataset.indices</strong>"
   ]
  },
  {
   "cell_type": "code",
   "execution_count": 192,
   "metadata": {},
   "outputs": [],
   "source": [
    "xtrain = dat.x[train_dataset.indices,:]\n",
    "ytrain = dat.y[train_dataset.indices,:]"
   ]
  },
  {
   "cell_type": "markdown",
   "metadata": {},
   "source": [
    "Calcoliamo l'uscita del modello come model(dati-in-input)"
   ]
  },
  {
   "cell_type": "code",
   "execution_count": 193,
   "metadata": {},
   "outputs": [],
   "source": [
    "ypred_train = model(xtrain)"
   ]
  },
  {
   "cell_type": "markdown",
   "metadata": {},
   "source": [
    "L'uscita del modello è un tensore il cui valore scalare è compreso tra 0 e 1 (funzione sigmoid in uscita). Questo scalare può essere interpretato come la probabilità che la classe di uscita sia 1. "
   ]
  },
  {
   "cell_type": "markdown",
   "metadata": {},
   "source": [
    "Se voglio interpretare l'uscita in maniera binaria devo confrontare l'uscita con la soglia (0.5). Nel caso in cui sia superiore alla soglia la classe predetta è 1. In caso contrario la classe è 0."
   ]
  },
  {
   "cell_type": "code",
   "execution_count": 194,
   "metadata": {},
   "outputs": [],
   "source": [
    "ypred_train_bin = (ypred_train.detach()>0.5).numpy()"
   ]
  },
  {
   "cell_type": "markdown",
   "metadata": {},
   "source": [
    "Analogamente per i dati della validazione usiamo test_dataset.indices:"
   ]
  },
  {
   "cell_type": "code",
   "execution_count": 195,
   "metadata": {},
   "outputs": [],
   "source": [
    "xvalid = test_dataset.dataset.x[test_dataset.indices,:]\n",
    "yvalid = test_dataset.dataset.y[test_dataset.indices,:]"
   ]
  },
  {
   "cell_type": "markdown",
   "metadata": {},
   "source": [
    "Calcoliamo l'uscita del modello con i dati di validazione come ingresso"
   ]
  },
  {
   "cell_type": "code",
   "execution_count": 196,
   "metadata": {},
   "outputs": [],
   "source": [
    "ypred_valid = model(xvalid)\n",
    "ypred_valid_bin = (ypred_valid.detach()>0.5).numpy()"
   ]
  },
  {
   "cell_type": "markdown",
   "metadata": {},
   "source": [
    "Importo la funzione <strong>roc_curve()</strong>."
   ]
  },
  {
   "cell_type": "code",
   "execution_count": 197,
   "metadata": {},
   "outputs": [],
   "source": [
    "from sklearn.metrics import roc_curve"
   ]
  },
  {
   "cell_type": "markdown",
   "metadata": {},
   "source": [
    "La funzione roc_curve() accetta come argomenti sia numpy array che tensori. Se diamo un tensore come input dobbiamo usare il metodo detach(), in quanto il tensore deve avere l'etichetta requires_grad=False.<br>\n",
    "ypred_train di default ha requires_grad=True"
   ]
  },
  {
   "cell_type": "code",
   "execution_count": 198,
   "metadata": {},
   "outputs": [],
   "source": [
    "fpr_train, tpr_train, _ = roc_curve(ytrain,ypred_train.detach())\n",
    "fpr_test, tpr_test, _   = roc_curve(yvalid,ypred_valid.detach())"
   ]
  },
  {
   "cell_type": "code",
   "execution_count": 199,
   "metadata": {},
   "outputs": [
    {
     "data": {
      "image/png": "[encoded data removed]",
      "text/plain": [
       "<Figure size 432x288 with 1 Axes>"
      ]
     },
     "metadata": {
      "needs_background": "light"
     },
     "output_type": "display_data"
    }
   ],
   "source": [
    "fgr1 = plt.figure()\n",
    "lw = 2\n",
    "plt.plot(fpr_test, tpr_test, color='darkorange', label=\"test\", lw=lw)\n",
    "plt.plot(fpr_train, tpr_train, color='darkgreen', label=\"train\", lw=lw)\n",
    "plt.plot([0, 1], [0, 1], color='navy', lw=lw, linestyle='--')\n",
    "plt.xlim([0.0, 1])\n",
    "plt.ylim([0.0, 1.0])\n",
    "plt.xticks(np.arange(0, 1, 0.1))\n",
    "plt.yticks(np.arange(0, 1, 0.1))\n",
    "plt.xlabel('False Positive Rate')\n",
    "plt.ylabel('True Positive Rate')\n",
    "plt.title('Receiver operating characteristic (ROC curve)')\n",
    "plt.legend(loc=\"lower right\")\n",
    "plt.grid(which='both')\n",
    "plt.show()"
   ]
  },
  {
   "cell_type": "markdown",
   "metadata": {},
   "source": [
    "Un'altra metrica è la <strong>confusion matrix</strong>, che si può vedere nella figura sottostante.<br>\n",
    "Come si vede ho due assi, valore vero e valore predetto.<br>\n",
    "Ogni esempio del dataset può essere inserito in una delle quattro classi:\n",
    "\n",
    "- true positive (tp): il valore vero è 1 e il valore predetto è 1\n",
    "- false positive (fp): il valore vero è 0 ma il valore predetto è 1\n",
    "- true negative (tn): il valore vero è 0 e il valore predetto è 0\n",
    "- false negative (fn): il valore vero è 1 ma il valore predetto è 0\n",
    "\n",
    "Come si intuisce due delle classi sono correttamente classificate (true positive e true negative), mentre le altre due sono classificate erroneamente."
   ]
  },
  {
   "cell_type": "markdown",
   "metadata": {},
   "source": [
    "![title](https://www.1week4.com/wp-content/uploads/2019/07/logistic-regression1-e1562588720843.png)"
   ]
  },
  {
   "cell_type": "markdown",
   "metadata": {},
   "source": [
    "Calcolo la matrice di confusione usando la funzione <strong>confusion_matrix()</strong> di sklearn"
   ]
  },
  {
   "cell_type": "code",
   "execution_count": 200,
   "metadata": {},
   "outputs": [],
   "source": [
    "from sklearn.metrics import confusion_matrix"
   ]
  },
  {
   "cell_type": "code",
   "execution_count": 201,
   "metadata": {},
   "outputs": [
    {
     "data": {
      "text/plain": [
       "(7125, 929, 1370, 2576)"
      ]
     },
     "execution_count": 201,
     "metadata": {},
     "output_type": "execute_result"
    }
   ],
   "source": [
    "tn, fp, fn, tp = confusion_matrix(ytrain, ypred_train_bin ).ravel()\n",
    "tn, fp, fn, tp"
   ]
  },
  {
   "cell_type": "markdown",
   "metadata": {},
   "source": [
    "Infine posso usare questi valori per calcolare Accuratezza, precisione, recall e valore F1."
   ]
  },
  {
   "cell_type": "markdown",
   "metadata": {},
   "source": [
    "\\begin{equation}\n",
    "Accuratezza: \\quad A = \\frac{\\text{nr. di esempi correttamente classificati}}{\\text{nr. totale di esempi}} = \\frac{tp+tn}{tp+tn+fn+fp}\n",
    "\\end{equation}\n",
    "\n",
    "\\begin{equation}\n",
    "Precisione: \\quad P = \\frac{\\text{nr. di true positive}}{\\text{nr. di predizioni positive}} = \\frac{tp}{tp+fp}\n",
    "\\end{equation}\n",
    "\n",
    "\\begin{equation}\n",
    "Recall: \\quad R = \\frac{\\text{nr. di true positive}}{\\text{nr. veri positivi}} = \\frac{tp}{tp+fn}\n",
    "\\end{equation}\n",
    "\n",
    "\\begin{equation}\n",
    "F_1 score: \\quad F_1 = 2 \\frac{P\\cdot R}{P+R}\n",
    "\\end{equation}"
   ]
  },
  {
   "cell_type": "code",
   "execution_count": 202,
   "metadata": {},
   "outputs": [
    {
     "name": "stdout",
     "output_type": "stream",
     "text": [
      "L'accuratezza è 80.8%\n",
      "La precisione è 73.5%\n",
      "Il recall è 65.3%\n",
      "Il punteggio F1 è 69.1%\n"
     ]
    }
   ],
   "source": [
    "A = (tp+tn)/(tp+tn+fn+fp)\n",
    "P = tp/(tp+fp)\n",
    "R = tp/(tp+fn)\n",
    "F1 = 2*(P*R)/(P+R)\n",
    "print('L\\'accuratezza è %0.1f%%' %(A*100))\n",
    "print('La precisione è %0.1f%%' %(P*100))\n",
    "print('Il recall è %0.1f%%' %(R*100))\n",
    "print('Il punteggio F1 è %0.1f%%' %(F1*100))"
   ]
  },
  {
   "cell_type": "markdown",
   "metadata": {},
   "source": [
    "## Training on CUDA"
   ]
  },
  {
   "cell_type": "markdown",
   "metadata": {},
   "source": [
    "L'ultima cosa che voglio vedere in questo post è come fare il training usando la GPU."
   ]
  },
  {
   "cell_type": "markdown",
   "metadata": {},
   "source": [
    "Innanzitutto vediamo se c'è un dispositivo CUDA disponibile."
   ]
  },
  {
   "cell_type": "code",
   "execution_count": 203,
   "metadata": {
    "scrolled": true
   },
   "outputs": [
    {
     "name": "stdout",
     "output_type": "stream",
     "text": [
      "cuda:0\n"
     ]
    }
   ],
   "source": [
    "device = torch.device(\"cuda:0\" if torch.cuda.is_available() else \"cpu\")\n",
    "# Assuming that we are on a CUDA machine, this should print a CUDA device:\n",
    "print(device)"
   ]
  },
  {
   "cell_type": "markdown",
   "metadata": {},
   "source": [
    "Il modello è lo stesso del caso precedente."
   ]
  },
  {
   "cell_type": "code",
   "execution_count": 204,
   "metadata": {},
   "outputs": [],
   "source": [
    "class AZNet2(Module):\n",
    "    \n",
    "    #Constructor\n",
    "    def __init__(self):\n",
    "        super(AZNet2, self).__init__()\n",
    "        node = 100\n",
    "        self.layer1 = nn.Linear(8,node)\n",
    "        self.layer2 = nn.Linear(node,node)\n",
    "        self.layer3 = nn.Linear(node,1)\n",
    "    \n",
    "    #La funzione forward richiede un tensore x in ingresso e restituisce un tensore y in uscita\n",
    "    def forward(self, x):\n",
    "        x = torch.sigmoid(self.layer1(x))\n",
    "        x = torch.sigmoid(self.layer2(x))\n",
    "        y = torch.sigmoid(self.layer3(x))\n",
    "        return y"
   ]
  },
  {
   "cell_type": "markdown",
   "metadata": {},
   "source": [
    "Instanziamo un membro di questa classe:"
   ]
  },
  {
   "cell_type": "code",
   "execution_count": 205,
   "metadata": {},
   "outputs": [],
   "source": [
    "cuda_model = AZNet2()"
   ]
  },
  {
   "cell_type": "markdown",
   "metadata": {},
   "source": [
    "Resettiamo i pesi del modello (utile solo nel caso in cui è un secondo training):"
   ]
  },
  {
   "cell_type": "code",
   "execution_count": 206,
   "metadata": {},
   "outputs": [
    {
     "data": {
      "text/plain": [
       "Parameter containing:\n",
       "tensor([[-0.1593,  0.2208,  0.0162, -0.0854,  0.0086, -0.1862, -0.0402, -0.2027,\n",
       "         -0.1645, -0.0944, -0.0943, -0.0090, -0.0008, -0.1584,  0.1360,  0.0070,\n",
       "          0.2302, -0.0985, -0.0456,  0.0205, -0.2079,  0.1289,  0.2026,  0.2421,\n",
       "          0.1877, -0.1899,  0.1783,  0.0349, -0.1904, -0.1317,  0.0422, -0.1449,\n",
       "         -0.0451,  0.0010, -0.0056, -0.0185, -0.0414,  0.0844, -0.0948,  0.1731,\n",
       "         -0.1687, -0.0096,  0.0799,  0.0753,  0.0915, -0.0025, -0.0267,  0.0615,\n",
       "          0.1800,  0.0630, -0.0841,  0.0707, -0.1323,  0.2333, -0.0580, -0.0544,\n",
       "          0.0439, -0.1477, -0.0178, -0.0434, -0.1266,  0.0186,  0.1464, -0.2288,\n",
       "          0.1166,  0.1368, -0.0975, -0.2384, -0.1546, -0.1055, -0.0562, -0.0663,\n",
       "          0.0706, -0.2216, -0.0501,  0.0839,  0.0855,  0.1435,  0.1647,  0.0225,\n",
       "         -0.0305, -0.2213,  0.1150, -0.0058, -0.1140, -0.1727,  0.1174,  0.0179,\n",
       "          0.2331, -0.1048,  0.1922,  0.0639, -0.1833, -0.2329, -0.0708, -0.1361,\n",
       "         -0.0112, -0.2092,  0.2156, -0.2364]], requires_grad=True)"
      ]
     },
     "execution_count": 206,
     "metadata": {},
     "output_type": "execute_result"
    }
   ],
   "source": [
    "torch.nn.init.xavier_uniform_(cuda_model.layer1.weight)\n",
    "torch.nn.init.xavier_uniform_(cuda_model.layer2.weight)\n",
    "torch.nn.init.xavier_uniform_(cuda_model.layer3.weight)"
   ]
  },
  {
   "cell_type": "markdown",
   "metadata": {},
   "source": [
    "Per il modello di rete definiamo che verrà fatto il training sul nostro dispositivo cuda"
   ]
  },
  {
   "cell_type": "code",
   "execution_count": 207,
   "metadata": {},
   "outputs": [
    {
     "data": {
      "text/plain": [
       "AZNet2(\n",
       "  (layer1): Linear(in_features=8, out_features=100, bias=True)\n",
       "  (layer2): Linear(in_features=100, out_features=100, bias=True)\n",
       "  (layer3): Linear(in_features=100, out_features=1, bias=True)\n",
       ")"
      ]
     },
     "execution_count": 207,
     "metadata": {},
     "output_type": "execute_result"
    }
   ],
   "source": [
    "cuda_model.cuda()"
   ]
  },
  {
   "cell_type": "code",
   "execution_count": 208,
   "metadata": {},
   "outputs": [],
   "source": [
    "dtype_ = torch.cuda.FloatTensor"
   ]
  },
  {
   "cell_type": "code",
   "execution_count": 209,
   "metadata": {},
   "outputs": [],
   "source": [
    "xtrain_cuda = xtrain.type(dtype_)"
   ]
  },
  {
   "cell_type": "code",
   "execution_count": 210,
   "metadata": {},
   "outputs": [],
   "source": [
    "criterion = nn.BCELoss()\n",
    "optimizer = torch.optim.SGD(cuda_model.parameters(),lr=1)"
   ]
  },
  {
   "cell_type": "code",
   "execution_count": 211,
   "metadata": {},
   "outputs": [
    {
     "name": "stdout",
     "output_type": "stream",
     "text": [
      "Iterazione nr: 0 - Valore della funzione di loss: 0.6338 - Accuratezza: 0.67\n",
      "Iterazione nr: 100 - Valore della funzione di loss: 0.6686 - Accuratezza: 0.59\n",
      "Iterazione nr: 200 - Valore della funzione di loss: 0.6012 - Accuratezza: 0.68\n",
      "Iterazione nr: 300 - Valore della funzione di loss: 0.5626 - Accuratezza: 0.71\n",
      "Iterazione nr: 400 - Valore della funzione di loss: 0.5156 - Accuratezza: 0.75\n",
      "Iterazione nr: 500 - Valore della funzione di loss: 0.4309 - Accuratezza: 0.80\n",
      "Iterazione nr: 600 - Valore della funzione di loss: 0.4356 - Accuratezza: 0.79\n",
      "Iterazione nr: 700 - Valore della funzione di loss: 0.4331 - Accuratezza: 0.79\n",
      "Iterazione nr: 800 - Valore della funzione di loss: 0.4294 - Accuratezza: 0.79\n",
      "Iterazione nr: 900 - Valore della funzione di loss: 0.4236 - Accuratezza: 0.80\n",
      "Iterazione nr: 1000 - Valore della funzione di loss: 0.4244 - Accuratezza: 0.79\n",
      "Iterazione nr: 1100 - Valore della funzione di loss: 0.4283 - Accuratezza: 0.80\n",
      "Iterazione nr: 1200 - Valore della funzione di loss: 0.4333 - Accuratezza: 0.79\n",
      "Iterazione nr: 1300 - Valore della funzione di loss: 0.4091 - Accuratezza: 0.81\n",
      "Iterazione nr: 1400 - Valore della funzione di loss: 0.4273 - Accuratezza: 0.80\n",
      "Iterazione nr: 1500 - Valore della funzione di loss: 0.4205 - Accuratezza: 0.80\n",
      "Iterazione nr: 1600 - Valore della funzione di loss: 0.4155 - Accuratezza: 0.80\n",
      "Iterazione nr: 1700 - Valore della funzione di loss: 0.4175 - Accuratezza: 0.81\n",
      "Iterazione nr: 1800 - Valore della funzione di loss: 0.4153 - Accuratezza: 0.80\n",
      "Iterazione nr: 1900 - Valore della funzione di loss: 0.4210 - Accuratezza: 0.80\n",
      "Iterazione nr: 2000 - Valore della funzione di loss: 0.4073 - Accuratezza: 0.80\n",
      "Iterazione nr: 2100 - Valore della funzione di loss: 0.4138 - Accuratezza: 0.81\n",
      "Iterazione nr: 2200 - Valore della funzione di loss: 0.4137 - Accuratezza: 0.81\n",
      "Iterazione nr: 2300 - Valore della funzione di loss: 0.4130 - Accuratezza: 0.81\n",
      "Iterazione nr: 2400 - Valore della funzione di loss: 0.4181 - Accuratezza: 0.80\n",
      "Iterazione nr: 2500 - Valore della funzione di loss: 0.4145 - Accuratezza: 0.80\n",
      "Iterazione nr: 2600 - Valore della funzione di loss: 0.4137 - Accuratezza: 0.80\n",
      "Iterazione nr: 2700 - Valore della funzione di loss: 0.4214 - Accuratezza: 0.80\n",
      "Iterazione nr: 2800 - Valore della funzione di loss: 0.4116 - Accuratezza: 0.81\n",
      "Iterazione nr: 2900 - Valore della funzione di loss: 0.3961 - Accuratezza: 0.81\n",
      "Wall time: 3min 49s\n"
     ]
    }
   ],
   "source": [
    "%%time\n",
    "LOSS = []\n",
    "ACC = []\n",
    "LOSS_VALID = []\n",
    "ACC_VALID = []\n",
    "i = 0\n",
    "\n",
    "for epoch in range(1000): #epoch\n",
    "    for xtrain,ytrain in trainloader: #ad ogni ciclo, un batch di 4000 samples viene processato\n",
    "        xtrain = xtrain.type(dtype_)\n",
    "        ytrain = ytrain.type(dtype_)\n",
    "        ypred_train = cuda_model( xtrain )        #calcolo l'uscita\n",
    "        loss = error(ypred_train, ytrain)         #calcolo l'errore\n",
    "        loss.backward()        #calcolo del gradiente\n",
    "        optimizer.step()       #aggiornamento ei parametri\n",
    "        optimizer.zero_grad()  #azzeramento del gradiente\n",
    "        accuracy = func_accuracy(ypred_train, ytrain) #calcolo l'accuratezza\n",
    "        if np.mod(i,100)==0:\n",
    "            print(\"Iterazione nr: %i - Valore della funzione di loss: %2.4f - Accuratezza: %2.2f\" %(i,loss.item(), accuracy))\n",
    "        LOSS.append(loss.item()) #memorizzo in una lista. uso item() per avere solo lo scalare invece del tensore\n",
    "        ACC.append(accuracy) #\n",
    "\n",
    "        #validazione\n",
    "        xvalid = xvalid.type(dtype_)\n",
    "        yvalid = yvalid.type(dtype_)\n",
    "        ypred_valid = cuda_model(xvalid)\n",
    "        loss_valid = error(ypred_valid,yvalid)\n",
    "        accuracy_valid = func_accuracy(ypred_valid,yvalid)\n",
    "        LOSS_VALID.append(loss_valid.item())\n",
    "        ACC_VALID.append(accuracy_valid)\n",
    "        \n",
    "        i += 1"
   ]
  },
  {
   "cell_type": "code",
   "execution_count": null,
   "metadata": {},
   "outputs": [],
   "source": []
  },
  {
   "cell_type": "code",
   "execution_count": null,
   "metadata": {},
   "outputs": [],
   "source": []
  },
  {
   "cell_type": "code",
   "execution_count": null,
   "metadata": {},
   "outputs": [],
   "source": []
  },
  {
   "cell_type": "code",
   "execution_count": null,
   "metadata": {},
   "outputs": [],
   "source": []
  },
  {
   "cell_type": "code",
   "execution_count": null,
   "metadata": {},
   "outputs": [],
   "source": []
  },
  {
   "cell_type": "code",
   "execution_count": null,
   "metadata": {},
   "outputs": [],
   "source": []
  },
  {
   "cell_type": "code",
   "execution_count": 212,
   "metadata": {},
   "outputs": [],
   "source": [
    "def generateNonLinearFeatures(x,max_exp):\n",
    "#given a marix with features in column, generate a new matrix with all the polynomial combination up to max_exp\n",
    "\n",
    "    import itertools\n",
    "\n",
    "    terms = []\n",
    "    num_feat = x.shape[1]\n",
    "    \n",
    "    #il prossimo comando genera una lista delle possibili combinazioni delle variabili fino al max_exp\n",
    "    #Esempio: num_Feat=2 max_exp=2 genera:\n",
    "    #[(0, 0),  (0, 1), (0, 2), (1, 1), (1, 2), (2, 2)] corrispondenti a:\n",
    "    # x^0 x^0  x^0 x^1 x^0 x^2 x^1 x^1 x^1 x^2 x^2 x^2\n",
    "    terms = list(itertools.combinations_with_replacement(list(range(num_feat+1)), max_exp))\n",
    "    \n",
    "#     for a in itertools.combinations_with_replacement(list(range(num_feat+1)), max_exp): #OLD\n",
    "#         terms.append(a)\n",
    "\n",
    "\n",
    "    if 'pol' in locals(): #rimuove la variabile pol se esiste già\n",
    "        del pol\n",
    "\n",
    "    for i in range(len(terms)): \n",
    "        polcol = np.ones(x.shape[0]).reshape(x.shape[0],1)\n",
    "        sum=0\n",
    "        for j in range(max_exp):\n",
    "#             print(i,j) #for debug only\n",
    "            sum=sum+int(terms[i][j])\n",
    "            if terms[i][j]!=0:\n",
    "                polcol = np.multiply(polcol,x[:,int(terms[i][j])-1].reshape(x.shape[0],1))\n",
    "        if (sum!=0): #exclude case all zeros (0,0), don't add the column\n",
    "            if 'pol' in locals():\n",
    "                pol = np.column_stack([pol, polcol])\n",
    "            else:\n",
    "                pol = polcol\n",
    "\n",
    "    return pol"
   ]
  },
  {
   "cell_type": "code",
   "execution_count": 213,
   "metadata": {},
   "outputs": [],
   "source": [
    "def dataProcess_nonLinear(lista_pazienti, max_grad):\n",
    "        \n",
    "        MmSc = MinMaxScaler()\n",
    "        StSc = StandardScaler()\n",
    "        \n",
    "        lista_pazienti['logAge'] = np.log10(lista_pazienti['Age'].values)\n",
    "\n",
    "        columns_minmax = ['Pregnancies','SerumInsulin','BMI','DiabetesPedigree','logAge']\n",
    "        columns_zscore = ['PlasmaGlucose','DiastolicBloodPressure','TricepsThickness']\n",
    "\n",
    "        lista_pazienti_norm = pd.DataFrame(index=range(lista_pazienti.shape[0]))\n",
    "        for column in columns_minmax:\n",
    "            lista_pazienti_norm[column + '_norm'] = MmSc.fit_transform(lista_pazienti[column].values.astype(np.float64).reshape(-1, 1))\n",
    "        for column in columns_zscore:\n",
    "            lista_pazienti_norm[column + '_norm'] = StSc.fit_transform(lista_pazienti[column].values.astype(np.float64).reshape(-1, 1))\n",
    "        \n",
    "        lista_pazient_norm = generateNonLinearFeatures(lista_pazienti_norm.values, max_grad)\n",
    "        \n",
    "        #aggiunge colonne non mumeriche al nuovo DF\n",
    "        lista_pazienti_norm[['PatientID','Diabetic']] = lista_pazienti[['PatientID','Diabetic']]\n",
    "        \n",
    "        return lista_pazienti_norm"
   ]
  },
  {
   "cell_type": "code",
   "execution_count": 214,
   "metadata": {},
   "outputs": [],
   "source": [
    "from torch.utils.data import Dataset, DataLoader\n",
    "from sklearn.preprocessing import StandardScaler, MinMaxScaler\n",
    "\n",
    "class DatiMediciDataset(Dataset):\n",
    "    \n",
    "    # Constructor\n",
    "    def __init__(self, max_grad):\n",
    "        lista_pazienti = pd.read_csv('diabetes.csv')\n",
    "        lista_dottori = pd.read_csv('doctors.csv', encoding = \"ISO-8859-1\")\n",
    "        \n",
    "        lista_pazienti = dataProcess(lista_pazienti) #normalizzazione delle feature numeriche [DATAFRAME]\n",
    "        \n",
    "        lista_pazienti_array = lista_pazienti.drop(columns=['Diabetic','PatientID']).values\n",
    "        \n",
    "        lista_pazienti_nonlinear_array = generateNonLinearFeatures(lista_pazienti_array, max_grad)\n",
    "        \n",
    "        self.x = torch.from_numpy(lista_pazienti_nonlinear_array).type(dtype=torch.float)\n",
    "        self.y = torch.tensor(lista_pazienti.Diabetic.values, dtype=torch.float).view(-1,1)\n",
    "        \n",
    "        self.len = lista_pazienti.shape[0]\n",
    "    \n",
    "    # getter: get length\n",
    "    def __len__(self):\n",
    "        return self.len\n",
    "    \n",
    "    # getter: get single item\n",
    "    def __getitem__(self, idx):\n",
    "        return self.x[idx,:], self.y[idx,:]\n"
   ]
  },
  {
   "cell_type": "code",
   "execution_count": 215,
   "metadata": {},
   "outputs": [],
   "source": [
    "dat = DatiMediciDataset(3)"
   ]
  },
  {
   "cell_type": "code",
   "execution_count": null,
   "metadata": {},
   "outputs": [],
   "source": []
  },
  {
   "cell_type": "code",
   "execution_count": 216,
   "metadata": {},
   "outputs": [
    {
     "data": {
      "text/plain": [
       "torch.Size([15000, 164])"
      ]
     },
     "execution_count": 216,
     "metadata": {},
     "output_type": "execute_result"
    }
   ],
   "source": [
    "dat.x.shape"
   ]
  },
  {
   "cell_type": "code",
   "execution_count": null,
   "metadata": {},
   "outputs": [],
   "source": []
  },
  {
   "cell_type": "code",
   "execution_count": 217,
   "metadata": {},
   "outputs": [],
   "source": [
    "train_size = int(0.8 * dat.len)\n",
    "test_size = dat.len - train_size\n",
    "train_dataset, test_dataset = torch.utils.data.random_split(dat, [train_size, test_size])"
   ]
  },
  {
   "cell_type": "code",
   "execution_count": null,
   "metadata": {},
   "outputs": [],
   "source": []
  },
  {
   "cell_type": "code",
   "execution_count": 218,
   "metadata": {},
   "outputs": [],
   "source": [
    "trainloader      = DataLoader(dataset=train_dataset, batch_size=4000, shuffle=True)\n",
    "validationloader = DataLoader(dataset=test_dataset, batch_size=1000, shuffle=False)"
   ]
  },
  {
   "cell_type": "code",
   "execution_count": null,
   "metadata": {},
   "outputs": [],
   "source": []
  },
  {
   "cell_type": "code",
   "execution_count": 219,
   "metadata": {},
   "outputs": [],
   "source": [
    "class AZNet(Module):\n",
    "    \n",
    "    #Constructor\n",
    "    def __init__(self):\n",
    "        super(AZNet, self).__init__()\n",
    "        node = 200\n",
    "        self.layer1 = nn.Linear( dat.x.shape[1] ,node)\n",
    "        self.layer2 = nn.Linear(node,node)\n",
    "        self.layer3 = nn.Linear(node,node)\n",
    "        self.layer4 = nn.Linear(node,1)\n",
    "    \n",
    "    #La funzione forward richiede un tensore x in ingresso e restituisce un tensore y in uscita\n",
    "    def forward(self, x):\n",
    "        x = torch.sigmoid(self.layer1(x))\n",
    "        x = torch.sigmoid(self.layer2(x))\n",
    "        x = torch.sigmoid(self.layer3(x))\n",
    "        y = torch.sigmoid(self.layer4(x))\n",
    "        return y"
   ]
  },
  {
   "cell_type": "code",
   "execution_count": null,
   "metadata": {},
   "outputs": [],
   "source": []
  },
  {
   "cell_type": "code",
   "execution_count": 220,
   "metadata": {},
   "outputs": [],
   "source": [
    "model = AZNet()"
   ]
  },
  {
   "cell_type": "code",
   "execution_count": 221,
   "metadata": {},
   "outputs": [
    {
     "data": {
      "text/plain": [
       "AZNet(\n",
       "  (layer1): Linear(in_features=164, out_features=200, bias=True)\n",
       "  (layer2): Linear(in_features=200, out_features=200, bias=True)\n",
       "  (layer3): Linear(in_features=200, out_features=200, bias=True)\n",
       "  (layer4): Linear(in_features=200, out_features=1, bias=True)\n",
       ")"
      ]
     },
     "execution_count": 221,
     "metadata": {},
     "output_type": "execute_result"
    }
   ],
   "source": [
    "model"
   ]
  },
  {
   "cell_type": "markdown",
   "metadata": {},
   "source": [
    "Resetto weight e bias della rete:"
   ]
  },
  {
   "cell_type": "code",
   "execution_count": 222,
   "metadata": {},
   "outputs": [
    {
     "data": {
      "text/plain": [
       "Parameter containing:\n",
       "tensor([[-0.0826, -0.1452, -0.1381,  0.0581,  0.1371, -0.1672,  0.0436,  0.0211,\n",
       "          0.0714, -0.1001,  0.0701,  0.0162, -0.0131,  0.1717, -0.1633,  0.0949,\n",
       "         -0.0624,  0.0292,  0.0740, -0.0961, -0.0274,  0.0006,  0.1191,  0.1650,\n",
       "          0.0987, -0.1251,  0.0436,  0.1217,  0.0697, -0.1567, -0.0471, -0.0693,\n",
       "         -0.0183,  0.1297,  0.0197,  0.0457,  0.1044, -0.0308,  0.1152, -0.0340,\n",
       "          0.1497,  0.1583, -0.0795, -0.0594,  0.0070, -0.1128,  0.0532,  0.0658,\n",
       "         -0.1366, -0.1651,  0.0590,  0.1590, -0.0585,  0.0591, -0.0910, -0.0154,\n",
       "          0.1451, -0.0866, -0.0851,  0.1518, -0.0089, -0.0347, -0.0747, -0.0144,\n",
       "          0.1459,  0.0793,  0.1511,  0.0264, -0.0262,  0.0107, -0.1619, -0.1715,\n",
       "         -0.0170,  0.0111,  0.1670, -0.0844, -0.1239, -0.0322,  0.0510,  0.0436,\n",
       "         -0.1215, -0.0035,  0.0658,  0.0558,  0.1529, -0.0996,  0.0620,  0.1067,\n",
       "          0.0675, -0.1259, -0.1603, -0.0693, -0.0018,  0.0235,  0.0012,  0.0881,\n",
       "          0.1334,  0.1205, -0.0872,  0.1267, -0.0041,  0.1147,  0.1290, -0.0475,\n",
       "         -0.1518,  0.1241,  0.0086, -0.0249, -0.0800, -0.0429, -0.1566, -0.0381,\n",
       "          0.0139, -0.1169, -0.1149,  0.1185, -0.1655, -0.0148, -0.0039,  0.0432,\n",
       "         -0.1545,  0.0514,  0.1049, -0.0275, -0.0006,  0.0364, -0.1197,  0.0007,\n",
       "          0.0088,  0.0159, -0.0426,  0.0654, -0.0756,  0.1660, -0.0898, -0.0710,\n",
       "          0.0612,  0.1513, -0.0932,  0.0608,  0.1069,  0.0931,  0.1385, -0.0606,\n",
       "          0.0826, -0.1147,  0.1438,  0.1621, -0.0191,  0.0306,  0.0256, -0.1188,\n",
       "          0.0951, -0.0412,  0.1360,  0.1435,  0.1693, -0.0235,  0.0569, -0.1029,\n",
       "         -0.0602,  0.0573, -0.1719, -0.0076, -0.1496, -0.0435, -0.0589, -0.0138,\n",
       "         -0.1608,  0.1459,  0.1286,  0.0731, -0.0100, -0.1332, -0.1397, -0.0425,\n",
       "          0.1205,  0.0629, -0.1093, -0.0059, -0.0403,  0.0749, -0.1481, -0.1005,\n",
       "         -0.0046,  0.0549, -0.0742, -0.0599, -0.1251, -0.0364, -0.0308, -0.0585,\n",
       "         -0.0425,  0.0358,  0.1004,  0.1634, -0.0753,  0.1088, -0.0475, -0.0628]],\n",
       "       requires_grad=True)"
      ]
     },
     "execution_count": 222,
     "metadata": {},
     "output_type": "execute_result"
    }
   ],
   "source": [
    "torch.nn.init.xavier_uniform_(model.layer1.weight)\n",
    "torch.nn.init.xavier_uniform_(model.layer2.weight)\n",
    "torch.nn.init.xavier_uniform_(model.layer3.weight)\n",
    "torch.nn.init.xavier_uniform_(model.layer4.weight)"
   ]
  },
  {
   "cell_type": "code",
   "execution_count": 223,
   "metadata": {},
   "outputs": [],
   "source": [
    "xtrain = dat.x[train_dataset.indices,:]\n",
    "ytrain = dat.y[train_dataset.indices,:]"
   ]
  },
  {
   "cell_type": "code",
   "execution_count": 224,
   "metadata": {},
   "outputs": [
    {
     "data": {
      "text/plain": [
       "torch.Size([12000, 1])"
      ]
     },
     "execution_count": 224,
     "metadata": {},
     "output_type": "execute_result"
    }
   ],
   "source": [
    "ypred_train = model( xtrain )\n",
    "ypred_train.shape"
   ]
  },
  {
   "cell_type": "code",
   "execution_count": 225,
   "metadata": {},
   "outputs": [],
   "source": [
    "xvalid = dat.x[test_dataset.indices,:]\n",
    "yvalid = dat.y[test_dataset.indices,:]"
   ]
  },
  {
   "cell_type": "code",
   "execution_count": null,
   "metadata": {},
   "outputs": [],
   "source": []
  },
  {
   "cell_type": "code",
   "execution_count": 226,
   "metadata": {},
   "outputs": [],
   "source": [
    "error = nn.BCELoss()"
   ]
  },
  {
   "cell_type": "code",
   "execution_count": 227,
   "metadata": {},
   "outputs": [],
   "source": [
    "learning_rate = 1\n",
    "optimizer = torch.optim.SGD(model.parameters(), lr = learning_rate)"
   ]
  },
  {
   "cell_type": "code",
   "execution_count": 228,
   "metadata": {},
   "outputs": [
    {
     "name": "stdout",
     "output_type": "stream",
     "text": [
      "Iterazione nr: 0 - Valore della funzione di loss: 0.7290 - Accuratezza: 0.33\n",
      "Iterazione nr: 100 - Valore della funzione di loss: 0.6281 - Accuratezza: 0.67\n",
      "Iterazione nr: 200 - Valore della funzione di loss: 0.6035 - Accuratezza: 0.67\n",
      "Iterazione nr: 300 - Valore della funzione di loss: 0.5580 - Accuratezza: 0.70\n",
      "Iterazione nr: 400 - Valore della funzione di loss: 0.5506 - Accuratezza: 0.72\n",
      "Iterazione nr: 500 - Valore della funzione di loss: 0.4083 - Accuratezza: 0.81\n",
      "Iterazione nr: 600 - Valore della funzione di loss: 0.4071 - Accuratezza: 0.81\n",
      "Iterazione nr: 700 - Valore della funzione di loss: 0.4101 - Accuratezza: 0.81\n",
      "Iterazione nr: 800 - Valore della funzione di loss: 0.3780 - Accuratezza: 0.82\n",
      "Iterazione nr: 900 - Valore della funzione di loss: 0.3758 - Accuratezza: 0.82\n",
      "Iterazione nr: 1000 - Valore della funzione di loss: 0.4266 - Accuratezza: 0.79\n",
      "Iterazione nr: 1100 - Valore della funzione di loss: 0.3762 - Accuratezza: 0.83\n",
      "Iterazione nr: 1200 - Valore della funzione di loss: 0.3794 - Accuratezza: 0.83\n",
      "Iterazione nr: 1300 - Valore della funzione di loss: 0.3409 - Accuratezza: 0.85\n",
      "Iterazione nr: 1400 - Valore della funzione di loss: 0.3494 - Accuratezza: 0.85\n",
      "Iterazione nr: 1500 - Valore della funzione di loss: 0.3706 - Accuratezza: 0.83\n",
      "Iterazione nr: 1600 - Valore della funzione di loss: 0.3375 - Accuratezza: 0.85\n",
      "Iterazione nr: 1700 - Valore della funzione di loss: 0.3512 - Accuratezza: 0.84\n",
      "Iterazione nr: 1800 - Valore della funzione di loss: 0.3359 - Accuratezza: 0.85\n",
      "Iterazione nr: 1900 - Valore della funzione di loss: 0.3453 - Accuratezza: 0.85\n",
      "Iterazione nr: 2000 - Valore della funzione di loss: 0.3251 - Accuratezza: 0.85\n",
      "Iterazione nr: 2100 - Valore della funzione di loss: 0.3243 - Accuratezza: 0.85\n",
      "Iterazione nr: 2200 - Valore della funzione di loss: 0.3388 - Accuratezza: 0.85\n",
      "Iterazione nr: 2300 - Valore della funzione di loss: 0.3222 - Accuratezza: 0.86\n",
      "Iterazione nr: 2400 - Valore della funzione di loss: 0.3046 - Accuratezza: 0.87\n",
      "Iterazione nr: 2500 - Valore della funzione di loss: 0.3081 - Accuratezza: 0.87\n",
      "Iterazione nr: 2600 - Valore della funzione di loss: 0.3889 - Accuratezza: 0.82\n",
      "Iterazione nr: 2700 - Valore della funzione di loss: 0.3091 - Accuratezza: 0.86\n",
      "Iterazione nr: 2800 - Valore della funzione di loss: 0.3068 - Accuratezza: 0.86\n",
      "Iterazione nr: 2900 - Valore della funzione di loss: 0.2976 - Accuratezza: 0.87\n",
      "Wall time: 7min 38s\n"
     ]
    }
   ],
   "source": [
    "%%time\n",
    "LOSS = []\n",
    "ACC = []\n",
    "LOSS_VALID = []\n",
    "ACC_VALID = []\n",
    "i = 0\n",
    "\n",
    "for epoch in range(1000):\n",
    "    for xtrain,ytrain in trainloader:\n",
    "        ypred_train = model( xtrain ) #calcolo l'uscita\n",
    "        loss = error(ypred_train, ytrain)         #calcolo l'errore\n",
    "        loss.backward()        #calcolo del gradiente\n",
    "        optimizer.step()       #aggiornamento ei parametri\n",
    "        optimizer.zero_grad()  #azzeramento del gradiente\n",
    "        accuracy = func_accuracy(ypred_train, ytrain) #calcolo l'accuratezza\n",
    "        if np.mod(i,100)==0:\n",
    "            print(\"Iterazione nr: %i - Valore della funzione di loss: %2.4f - Accuratezza: %2.2f\" %(i,loss.item(), accuracy))\n",
    "        LOSS.append(loss.item()) #memorizzo in una lista. uso item() per avere solo lo scalare invece del tensore\n",
    "        ACC.append(accuracy) #\n",
    "\n",
    "        #validazione\n",
    "        ypred_valid = model(xvalid)\n",
    "        loss_valid = error(ypred_valid,yvalid)\n",
    "        accuracy_valid = func_accuracy(ypred_valid,yvalid)\n",
    "        LOSS_VALID.append(loss_valid.item())\n",
    "        ACC_VALID.append(accuracy_valid)\n",
    "        \n",
    "        i += 1"
   ]
  },
  {
   "cell_type": "code",
   "execution_count": 229,
   "metadata": {
    "scrolled": true
   },
   "outputs": [
    {
     "data": {
      "image/png": "[encoded data removed]",
      "text/plain": [
       "<Figure size 432x288 with 2 Axes>"
      ]
     },
     "metadata": {
      "needs_background": "light"
     },
     "output_type": "display_data"
    }
   ],
   "source": [
    "fig1, ax1 = plt.subplots()\n",
    "color = 'tab:red'\n",
    "color2 = 'tab:green'\n",
    "\n",
    "ax1.set_xlabel('iterazione')\n",
    "ax1.set_ylabel('loss', color=color)\n",
    "ax1.plot(range(len(LOSS)),LOSS,color=color)\n",
    "ax1.plot(range(len(LOSS_VALID)),LOSS_VALID,color=color2)\n",
    "\n",
    "ax2 = ax1.twinx()\n",
    "\n",
    "color = 'tab:blue'\n",
    "color2 = 'tab:brown'\n",
    "ax2.set_ylabel('accuracy', color=color)\n",
    "ax2.plot(range(len(ACC)),ACC,color=color)\n",
    "ax2.plot(range(len(ACC_VALID)),ACC_VALID,color=color2)\n",
    "\n",
    "plt.show()"
   ]
  },
  {
   "cell_type": "code",
   "execution_count": null,
   "metadata": {},
   "outputs": [],
   "source": []
  },
  {
   "cell_type": "code",
   "execution_count": 230,
   "metadata": {},
   "outputs": [
    {
     "data": {
      "image/png": "[encoded data removed]",
      "text/plain": [
       "<Figure size 432x288 with 1 Axes>"
      ]
     },
     "metadata": {
      "needs_background": "light"
     },
     "output_type": "display_data"
    },
    {
     "name": "stdout",
     "output_type": "stream",
     "text": [
      "L'accuratezza è 83.5%\n",
      "La precisione è 69.0%\n",
      "Il recall è 92.7%\n",
      "Il punteggio F1 è 79.1%\n"
     ]
    }
   ],
   "source": [
    "xtrain = dat.x[train_dataset.indices,:]\n",
    "ytrain = dat.y[train_dataset.indices,:]\n",
    "\n",
    "ypred_train = model(xtrain)\n",
    "\n",
    "ypred_train_bin = (ypred_train.detach()>0.5).numpy()\n",
    "\n",
    "xvalid = test_dataset.dataset.x[test_dataset.indices,:]\n",
    "yvalid = test_dataset.dataset.y[test_dataset.indices,:]\n",
    "\n",
    "ypred_valid = model(xvalid)\n",
    "ypred_valid_bin = (ypred_valid.detach()>0.5).numpy()\n",
    "\n",
    "fpr_train, tpr_train, _ = roc_curve(ytrain,ypred_train.detach())\n",
    "fpr_test, tpr_test, _   = roc_curve(yvalid,ypred_valid.detach())\n",
    "\n",
    "fgr1 = plt.figure()\n",
    "lw = 2\n",
    "plt.plot(fpr_test, tpr_test, color='darkorange', label=\"test\", lw=lw)\n",
    "plt.plot(fpr_train, tpr_train, color='darkgreen', label=\"train\", lw=lw)\n",
    "plt.plot([0, 1], [0, 1], color='navy', lw=lw, linestyle='--')\n",
    "plt.xlim([0.0, 1])\n",
    "plt.ylim([0.0, 1.0])\n",
    "plt.xticks(np.arange(0, 1, 0.1))\n",
    "plt.yticks(np.arange(0, 1, 0.1))\n",
    "plt.xlabel('False Positive Rate')\n",
    "plt.ylabel('True Positive Rate')\n",
    "plt.title('Receiver operating characteristic (ROC curve)')\n",
    "plt.legend(loc=\"lower right\")\n",
    "plt.grid(which='both')\n",
    "plt.show()\n",
    "\n",
    "from sklearn.metrics import confusion_matrix\n",
    "\n",
    "tn, fp, fn, tp = confusion_matrix(ytrain, ypred_train_bin ).ravel()\n",
    "tn, fp, fn, tp\n",
    "\n",
    "A = (tp+tn)/(tp+tn+fn+fp)\n",
    "P = tp/(tp+fp)\n",
    "R = tp/(tp+fn)\n",
    "F1 = 2*(P*R)/(P+R)\n",
    "print('L\\'accuratezza è %0.1f%%' %(A*100))\n",
    "print('La precisione è %0.1f%%' %(P*100))\n",
    "print('Il recall è %0.1f%%' %(R*100))\n",
    "print('Il punteggio F1 è %0.1f%%' %(F1*100))"
   ]
  },
  {
   "cell_type": "code",
   "execution_count": null,
   "metadata": {},
   "outputs": [],
   "source": []
  }
 ],
 "metadata": {
  "kernelspec": {
   "display_name": "Python 3",
   "language": "python",
   "name": "python3"
  },
  "language_info": {
   "codemirror_mode": {
    "name": "ipython",
    "version": 3
   },
   "file_extension": ".py",
   "mimetype": "text/x-python",
   "name": "python",
   "nbconvert_exporter": "python",
   "pygments_lexer": "ipython3",
   "version": "3.7.3"
  },
  "toc": {
   "base_numbering": 1,
   "nav_menu": {},
   "number_sections": false,
   "sideBar": false,
   "skip_h1_title": false,
   "title_cell": "Table of Contents",
   "title_sidebar": "Contents",
   "toc_cell": false,
   "toc_position": {},
   "toc_section_display": false,
   "toc_window_display": false
  }
 },
 "nbformat": 4,
 "nbformat_minor": 2
}
