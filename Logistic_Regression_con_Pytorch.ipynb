{
 "cells": [
  {
   "cell_type": "markdown",
   "metadata": {},
   "source": [
    "# Regressione logistica con Pytorch"
   ]
  },
  {
   "cell_type": "markdown",
   "metadata": {},
   "source": [
    "In questo articolo voglio impementare un esempio di classificazione per mezzo di una regressione logistica, usando il pacchetto Pytorch per Python."
   ]
  },
  {
   "cell_type": "markdown",
   "metadata": {},
   "source": [
    "La spiegazione di cosa è una regressione logistica la lascio alla pagina di [Wikipedia - Regressione Logistica](https://it.wikipedia.org/wiki/Modello_logit), qui solo un estratto:<br>"
   ]
  },
  {
   "cell_type": "markdown",
   "metadata": {},
   "source": [
    "<em>In statistica e in econometria, il modello logit, noto anche come modello logistico o regressione logistica, è un modello di regressione nonlineare utilizzato quando la variabile dipendente è di tipo dicotomico. L'obiettivo del modello è di stabilire la probabilità con cui un'osservazione può generare uno o l'altro valore della variabile dipendente; può inoltre essere utilizzato per classificare le osservazioni, in base alla caratteristiche di queste, in due categorie.</em>"
   ]
  },
  {
   "cell_type": "markdown",
   "metadata": {},
   "source": [
    "In parole povere: "
   ]
  },
  {
   "cell_type": "markdown",
   "metadata": {},
   "source": [
    "Dati una serie di variabili indipendenti (o di ingresso) voglio predire una variabile di uscita, che può essere 1 o 0 (dicotomica). La variabile di uscita è anche chiamata label."
   ]
  },
  {
   "cell_type": "markdown",
   "metadata": {},
   "source": [
    "Il dataset che uso in questo esempio è preso dal corso di Edx - [Introduction to Artificial Intelligence (AI)](https://www.edx.org/course/introduction-artificial-intelligence-3)"
   ]
  },
  {
   "cell_type": "markdown",
   "metadata": {},
   "source": [
    "Il dataset è costituito dalle informazioni mediche di 15000 paziente. Ogni riga corrisponde ad un paziente. Per ogni paziente ci sono una serie di dati medici, quali età, numero di gravidanze, glucosio, pressione, ed altro.<br>\n",
    "La label, quindi il dato che intendo predire con il mio modello, è costituito dall'essere il paziente diabetico o meno. "
   ]
  },
  {
   "cell_type": "code",
   "execution_count": 1,
   "metadata": {},
   "outputs": [],
   "source": [
    "import numpy as np\n",
    "import pandas as pd\n",
    "import torch\n",
    "import torch.nn as nn\n",
    "import matplotlib.pyplot as plt\n",
    "import seaborn as sns\n",
    "from sklearn.preprocessing import LabelBinarizer"
   ]
  },
  {
   "cell_type": "markdown",
   "metadata": {},
   "source": [
    "## Load dataset"
   ]
  },
  {
   "cell_type": "markdown",
   "metadata": {},
   "source": [
    "Carico i dati dal foglio Excel"
   ]
  },
  {
   "cell_type": "code",
   "execution_count": 2,
   "metadata": {},
   "outputs": [],
   "source": [
    "exc1 = pd.read_csv('diabetes.csv')\n",
    "exc2 = pd.read_csv('doctors.csv', encoding = \"ISO-8859-1\")"
   ]
  },
  {
   "cell_type": "markdown",
   "metadata": {},
   "source": [
    "Vediamo cosa contengono i due dataframe appena creati:"
   ]
  },
  {
   "cell_type": "code",
   "execution_count": 3,
   "metadata": {},
   "outputs": [
    {
     "data": {
      "text/html": [
       "<div>\n",
       "<style scoped>\n",
       "    .dataframe tbody tr th:only-of-type {\n",
       "        vertical-align: middle;\n",
       "    }\n",
       "\n",
       "    .dataframe tbody tr th {\n",
       "        vertical-align: top;\n",
       "    }\n",
       "\n",
       "    .dataframe thead th {\n",
       "        text-align: right;\n",
       "    }\n",
       "</style>\n",
       "<table border=\"1\" class=\"dataframe\">\n",
       "  <thead>\n",
       "    <tr style=\"text-align: right;\">\n",
       "      <th></th>\n",
       "      <th>PatientID</th>\n",
       "      <th>Pregnancies</th>\n",
       "      <th>PlasmaGlucose</th>\n",
       "      <th>DiastolicBloodPressure</th>\n",
       "      <th>TricepsThickness</th>\n",
       "      <th>SerumInsulin</th>\n",
       "      <th>BMI</th>\n",
       "      <th>DiabetesPedigree</th>\n",
       "      <th>Age</th>\n",
       "      <th>Diabetic</th>\n",
       "    </tr>\n",
       "  </thead>\n",
       "  <tbody>\n",
       "    <tr>\n",
       "      <th>0</th>\n",
       "      <td>1354778</td>\n",
       "      <td>0</td>\n",
       "      <td>171</td>\n",
       "      <td>80</td>\n",
       "      <td>34</td>\n",
       "      <td>23</td>\n",
       "      <td>43.509726</td>\n",
       "      <td>1.213191</td>\n",
       "      <td>21</td>\n",
       "      <td>0</td>\n",
       "    </tr>\n",
       "    <tr>\n",
       "      <th>1</th>\n",
       "      <td>1147438</td>\n",
       "      <td>8</td>\n",
       "      <td>92</td>\n",
       "      <td>93</td>\n",
       "      <td>47</td>\n",
       "      <td>36</td>\n",
       "      <td>21.240576</td>\n",
       "      <td>0.158365</td>\n",
       "      <td>23</td>\n",
       "      <td>0</td>\n",
       "    </tr>\n",
       "    <tr>\n",
       "      <th>2</th>\n",
       "      <td>1640031</td>\n",
       "      <td>7</td>\n",
       "      <td>115</td>\n",
       "      <td>47</td>\n",
       "      <td>52</td>\n",
       "      <td>35</td>\n",
       "      <td>41.511523</td>\n",
       "      <td>0.079019</td>\n",
       "      <td>23</td>\n",
       "      <td>0</td>\n",
       "    </tr>\n",
       "    <tr>\n",
       "      <th>3</th>\n",
       "      <td>1883350</td>\n",
       "      <td>9</td>\n",
       "      <td>103</td>\n",
       "      <td>78</td>\n",
       "      <td>25</td>\n",
       "      <td>304</td>\n",
       "      <td>29.582192</td>\n",
       "      <td>1.282870</td>\n",
       "      <td>43</td>\n",
       "      <td>1</td>\n",
       "    </tr>\n",
       "    <tr>\n",
       "      <th>4</th>\n",
       "      <td>1424119</td>\n",
       "      <td>1</td>\n",
       "      <td>85</td>\n",
       "      <td>59</td>\n",
       "      <td>27</td>\n",
       "      <td>35</td>\n",
       "      <td>42.604536</td>\n",
       "      <td>0.549542</td>\n",
       "      <td>22</td>\n",
       "      <td>0</td>\n",
       "    </tr>\n",
       "  </tbody>\n",
       "</table>\n",
       "</div>"
      ],
      "text/plain": [
       "   PatientID  Pregnancies  PlasmaGlucose  DiastolicBloodPressure  \\\n",
       "0    1354778            0            171                      80   \n",
       "1    1147438            8             92                      93   \n",
       "2    1640031            7            115                      47   \n",
       "3    1883350            9            103                      78   \n",
       "4    1424119            1             85                      59   \n",
       "\n",
       "   TricepsThickness  SerumInsulin        BMI  DiabetesPedigree  Age  Diabetic  \n",
       "0                34            23  43.509726          1.213191   21         0  \n",
       "1                47            36  21.240576          0.158365   23         0  \n",
       "2                52            35  41.511523          0.079019   23         0  \n",
       "3                25           304  29.582192          1.282870   43         1  \n",
       "4                27            35  42.604536          0.549542   22         0  "
      ]
     },
     "execution_count": 3,
     "metadata": {},
     "output_type": "execute_result"
    }
   ],
   "source": [
    "exc1.head()"
   ]
  },
  {
   "cell_type": "code",
   "execution_count": 4,
   "metadata": {},
   "outputs": [
    {
     "data": {
      "text/html": [
       "<div>\n",
       "<style scoped>\n",
       "    .dataframe tbody tr th:only-of-type {\n",
       "        vertical-align: middle;\n",
       "    }\n",
       "\n",
       "    .dataframe tbody tr th {\n",
       "        vertical-align: top;\n",
       "    }\n",
       "\n",
       "    .dataframe thead th {\n",
       "        text-align: right;\n",
       "    }\n",
       "</style>\n",
       "<table border=\"1\" class=\"dataframe\">\n",
       "  <thead>\n",
       "    <tr style=\"text-align: right;\">\n",
       "      <th></th>\n",
       "      <th>PatientID</th>\n",
       "      <th>Physician</th>\n",
       "    </tr>\n",
       "  </thead>\n",
       "  <tbody>\n",
       "    <tr>\n",
       "      <th>0</th>\n",
       "      <td>1000038</td>\n",
       "      <td>Jeanne Vestergaard</td>\n",
       "    </tr>\n",
       "    <tr>\n",
       "      <th>1</th>\n",
       "      <td>1000069</td>\n",
       "      <td>Sheldon Comeaux</td>\n",
       "    </tr>\n",
       "    <tr>\n",
       "      <th>2</th>\n",
       "      <td>1000118</td>\n",
       "      <td>Brain Dulaney</td>\n",
       "    </tr>\n",
       "    <tr>\n",
       "      <th>3</th>\n",
       "      <td>1000183</td>\n",
       "      <td>Alaine Poisson</td>\n",
       "    </tr>\n",
       "    <tr>\n",
       "      <th>4</th>\n",
       "      <td>1000326</td>\n",
       "      <td>Erik Collado</td>\n",
       "    </tr>\n",
       "  </tbody>\n",
       "</table>\n",
       "</div>"
      ],
      "text/plain": [
       "   PatientID           Physician\n",
       "0    1000038  Jeanne Vestergaard\n",
       "1    1000069     Sheldon Comeaux\n",
       "2    1000118       Brain Dulaney\n",
       "3    1000183      Alaine Poisson\n",
       "4    1000326        Erik Collado"
      ]
     },
     "execution_count": 4,
     "metadata": {},
     "output_type": "execute_result"
    }
   ],
   "source": [
    "exc2.head()"
   ]
  },
  {
   "cell_type": "markdown",
   "metadata": {},
   "source": [
    "## Preprocessing dei dati"
   ]
  },
  {
   "cell_type": "markdown",
   "metadata": {},
   "source": [
    "I due dataframe exc1 e exc2 contengono tutti e due un PatientID, per cui devo concatenare i due dataframe orizzontalmente in base al PatientID."
   ]
  },
  {
   "cell_type": "markdown",
   "metadata": {},
   "source": [
    "Piccola parentesi su come fare il merge dei due dataframe"
   ]
  },
  {
   "cell_type": "code",
   "execution_count": 5,
   "metadata": {},
   "outputs": [],
   "source": [
    "df1 = pd.DataFrame([['1','antonio'],['2','giuseppe']], columns=['numID','nome'])"
   ]
  },
  {
   "cell_type": "code",
   "execution_count": 6,
   "metadata": {},
   "outputs": [],
   "source": [
    "df2 = pd.DataFrame([['1','verro'],['2','rossi'],['3','Bianchi']], columns=['numID','cognome'])"
   ]
  },
  {
   "cell_type": "code",
   "execution_count": 7,
   "metadata": {},
   "outputs": [
    {
     "data": {
      "text/html": [
       "<div>\n",
       "<style scoped>\n",
       "    .dataframe tbody tr th:only-of-type {\n",
       "        vertical-align: middle;\n",
       "    }\n",
       "\n",
       "    .dataframe tbody tr th {\n",
       "        vertical-align: top;\n",
       "    }\n",
       "\n",
       "    .dataframe thead th {\n",
       "        text-align: right;\n",
       "    }\n",
       "</style>\n",
       "<table border=\"1\" class=\"dataframe\">\n",
       "  <thead>\n",
       "    <tr style=\"text-align: right;\">\n",
       "      <th></th>\n",
       "      <th>numID</th>\n",
       "      <th>nome</th>\n",
       "      <th>cognome</th>\n",
       "    </tr>\n",
       "  </thead>\n",
       "  <tbody>\n",
       "    <tr>\n",
       "      <th>0</th>\n",
       "      <td>1</td>\n",
       "      <td>antonio</td>\n",
       "      <td>verro</td>\n",
       "    </tr>\n",
       "    <tr>\n",
       "      <th>1</th>\n",
       "      <td>2</td>\n",
       "      <td>giuseppe</td>\n",
       "      <td>rossi</td>\n",
       "    </tr>\n",
       "    <tr>\n",
       "      <th>2</th>\n",
       "      <td>3</td>\n",
       "      <td>NaN</td>\n",
       "      <td>Bianchi</td>\n",
       "    </tr>\n",
       "  </tbody>\n",
       "</table>\n",
       "</div>"
      ],
      "text/plain": [
       "  numID      nome  cognome\n",
       "0     1   antonio    verro\n",
       "1     2  giuseppe    rossi\n",
       "2     3       NaN  Bianchi"
      ]
     },
     "execution_count": 7,
     "metadata": {},
     "output_type": "execute_result"
    }
   ],
   "source": [
    "pd.merge(df1, df2, on='numID', how='outer')"
   ]
  },
  {
   "cell_type": "markdown",
   "metadata": {},
   "source": [
    "Quindi la funzione merge() ha bisogno di due argomenti per fare il merge correttamente:\n",
    "- on='chiave per il merge'\n",
    "- how='outer', viene usato un OR di tutte le chiavi, anche se uno dei due dataframe non ha il recordo con la chiave scelta "
   ]
  },
  {
   "cell_type": "code",
   "execution_count": 8,
   "metadata": {},
   "outputs": [
    {
     "data": {
      "text/html": [
       "<div>\n",
       "<style scoped>\n",
       "    .dataframe tbody tr th:only-of-type {\n",
       "        vertical-align: middle;\n",
       "    }\n",
       "\n",
       "    .dataframe tbody tr th {\n",
       "        vertical-align: top;\n",
       "    }\n",
       "\n",
       "    .dataframe thead th {\n",
       "        text-align: right;\n",
       "    }\n",
       "</style>\n",
       "<table border=\"1\" class=\"dataframe\">\n",
       "  <thead>\n",
       "    <tr style=\"text-align: right;\">\n",
       "      <th></th>\n",
       "      <th>PatientID</th>\n",
       "      <th>Pregnancies</th>\n",
       "      <th>PlasmaGlucose</th>\n",
       "      <th>DiastolicBloodPressure</th>\n",
       "      <th>TricepsThickness</th>\n",
       "      <th>SerumInsulin</th>\n",
       "      <th>BMI</th>\n",
       "      <th>DiabetesPedigree</th>\n",
       "      <th>Age</th>\n",
       "      <th>Diabetic</th>\n",
       "      <th>Physician</th>\n",
       "    </tr>\n",
       "  </thead>\n",
       "  <tbody>\n",
       "    <tr>\n",
       "      <th>0</th>\n",
       "      <td>1354778</td>\n",
       "      <td>0</td>\n",
       "      <td>171</td>\n",
       "      <td>80</td>\n",
       "      <td>34</td>\n",
       "      <td>23</td>\n",
       "      <td>43.509726</td>\n",
       "      <td>1.213191</td>\n",
       "      <td>21</td>\n",
       "      <td>0</td>\n",
       "      <td>Dan Drayton</td>\n",
       "    </tr>\n",
       "    <tr>\n",
       "      <th>1</th>\n",
       "      <td>1147438</td>\n",
       "      <td>8</td>\n",
       "      <td>92</td>\n",
       "      <td>93</td>\n",
       "      <td>47</td>\n",
       "      <td>36</td>\n",
       "      <td>21.240576</td>\n",
       "      <td>0.158365</td>\n",
       "      <td>23</td>\n",
       "      <td>0</td>\n",
       "      <td>Anthony Frizzell</td>\n",
       "    </tr>\n",
       "    <tr>\n",
       "      <th>2</th>\n",
       "      <td>1640031</td>\n",
       "      <td>7</td>\n",
       "      <td>115</td>\n",
       "      <td>47</td>\n",
       "      <td>52</td>\n",
       "      <td>35</td>\n",
       "      <td>41.511523</td>\n",
       "      <td>0.079019</td>\n",
       "      <td>23</td>\n",
       "      <td>0</td>\n",
       "      <td>Gordon Fredrickson</td>\n",
       "    </tr>\n",
       "    <tr>\n",
       "      <th>3</th>\n",
       "      <td>1883350</td>\n",
       "      <td>9</td>\n",
       "      <td>103</td>\n",
       "      <td>78</td>\n",
       "      <td>25</td>\n",
       "      <td>304</td>\n",
       "      <td>29.582192</td>\n",
       "      <td>1.282870</td>\n",
       "      <td>43</td>\n",
       "      <td>1</td>\n",
       "      <td>Chad Corbitt</td>\n",
       "    </tr>\n",
       "    <tr>\n",
       "      <th>4</th>\n",
       "      <td>1424119</td>\n",
       "      <td>1</td>\n",
       "      <td>85</td>\n",
       "      <td>59</td>\n",
       "      <td>27</td>\n",
       "      <td>35</td>\n",
       "      <td>42.604536</td>\n",
       "      <td>0.549542</td>\n",
       "      <td>22</td>\n",
       "      <td>0</td>\n",
       "      <td>Zachary Fellows</td>\n",
       "    </tr>\n",
       "  </tbody>\n",
       "</table>\n",
       "</div>"
      ],
      "text/plain": [
       "   PatientID  Pregnancies  PlasmaGlucose  DiastolicBloodPressure  \\\n",
       "0    1354778            0            171                      80   \n",
       "1    1147438            8             92                      93   \n",
       "2    1640031            7            115                      47   \n",
       "3    1883350            9            103                      78   \n",
       "4    1424119            1             85                      59   \n",
       "\n",
       "   TricepsThickness  SerumInsulin        BMI  DiabetesPedigree  Age  Diabetic  \\\n",
       "0                34            23  43.509726          1.213191   21         0   \n",
       "1                47            36  21.240576          0.158365   23         0   \n",
       "2                52            35  41.511523          0.079019   23         0   \n",
       "3                25           304  29.582192          1.282870   43         1   \n",
       "4                27            35  42.604536          0.549542   22         0   \n",
       "\n",
       "            Physician  \n",
       "0         Dan Drayton  \n",
       "1    Anthony Frizzell  \n",
       "2  Gordon Fredrickson  \n",
       "3        Chad Corbitt  \n",
       "4     Zachary Fellows  "
      ]
     },
     "execution_count": 8,
     "metadata": {},
     "output_type": "execute_result"
    }
   ],
   "source": [
    "lista_pazienti = pd.merge(exc1, exc2, on='PatientID', how='outer')\n",
    "lista_pazienti.head()"
   ]
  },
  {
   "cell_type": "markdown",
   "metadata": {},
   "source": [
    "Vediamo un riassunto delle proprietà statistiche del dataframe."
   ]
  },
  {
   "cell_type": "code",
   "execution_count": 9,
   "metadata": {},
   "outputs": [
    {
     "data": {
      "text/html": [
       "<div>\n",
       "<style scoped>\n",
       "    .dataframe tbody tr th:only-of-type {\n",
       "        vertical-align: middle;\n",
       "    }\n",
       "\n",
       "    .dataframe tbody tr th {\n",
       "        vertical-align: top;\n",
       "    }\n",
       "\n",
       "    .dataframe thead th {\n",
       "        text-align: right;\n",
       "    }\n",
       "</style>\n",
       "<table border=\"1\" class=\"dataframe\">\n",
       "  <thead>\n",
       "    <tr style=\"text-align: right;\">\n",
       "      <th></th>\n",
       "      <th>PatientID</th>\n",
       "      <th>Pregnancies</th>\n",
       "      <th>PlasmaGlucose</th>\n",
       "      <th>DiastolicBloodPressure</th>\n",
       "      <th>TricepsThickness</th>\n",
       "      <th>SerumInsulin</th>\n",
       "      <th>BMI</th>\n",
       "      <th>DiabetesPedigree</th>\n",
       "      <th>Age</th>\n",
       "      <th>Diabetic</th>\n",
       "    </tr>\n",
       "  </thead>\n",
       "  <tbody>\n",
       "    <tr>\n",
       "      <th>count</th>\n",
       "      <td>1.500000e+04</td>\n",
       "      <td>15000.000000</td>\n",
       "      <td>15000.000000</td>\n",
       "      <td>15000.000000</td>\n",
       "      <td>15000.000000</td>\n",
       "      <td>15000.000000</td>\n",
       "      <td>15000.000000</td>\n",
       "      <td>15000.000000</td>\n",
       "      <td>15000.000000</td>\n",
       "      <td>15000.000000</td>\n",
       "    </tr>\n",
       "    <tr>\n",
       "      <th>mean</th>\n",
       "      <td>1.502922e+06</td>\n",
       "      <td>3.224533</td>\n",
       "      <td>107.856867</td>\n",
       "      <td>71.220667</td>\n",
       "      <td>28.814000</td>\n",
       "      <td>137.852133</td>\n",
       "      <td>31.509646</td>\n",
       "      <td>0.398968</td>\n",
       "      <td>30.137733</td>\n",
       "      <td>0.333333</td>\n",
       "    </tr>\n",
       "    <tr>\n",
       "      <th>std</th>\n",
       "      <td>2.892534e+05</td>\n",
       "      <td>3.391020</td>\n",
       "      <td>31.981975</td>\n",
       "      <td>16.758716</td>\n",
       "      <td>14.555716</td>\n",
       "      <td>133.068252</td>\n",
       "      <td>9.759000</td>\n",
       "      <td>0.377944</td>\n",
       "      <td>12.089703</td>\n",
       "      <td>0.471420</td>\n",
       "    </tr>\n",
       "    <tr>\n",
       "      <th>min</th>\n",
       "      <td>1.000038e+06</td>\n",
       "      <td>0.000000</td>\n",
       "      <td>44.000000</td>\n",
       "      <td>24.000000</td>\n",
       "      <td>7.000000</td>\n",
       "      <td>14.000000</td>\n",
       "      <td>18.200512</td>\n",
       "      <td>0.078044</td>\n",
       "      <td>21.000000</td>\n",
       "      <td>0.000000</td>\n",
       "    </tr>\n",
       "    <tr>\n",
       "      <th>25%</th>\n",
       "      <td>1.252866e+06</td>\n",
       "      <td>0.000000</td>\n",
       "      <td>84.000000</td>\n",
       "      <td>58.000000</td>\n",
       "      <td>15.000000</td>\n",
       "      <td>39.000000</td>\n",
       "      <td>21.259887</td>\n",
       "      <td>0.137743</td>\n",
       "      <td>22.000000</td>\n",
       "      <td>0.000000</td>\n",
       "    </tr>\n",
       "    <tr>\n",
       "      <th>50%</th>\n",
       "      <td>1.505508e+06</td>\n",
       "      <td>2.000000</td>\n",
       "      <td>104.000000</td>\n",
       "      <td>72.000000</td>\n",
       "      <td>31.000000</td>\n",
       "      <td>83.000000</td>\n",
       "      <td>31.767940</td>\n",
       "      <td>0.200297</td>\n",
       "      <td>24.000000</td>\n",
       "      <td>0.000000</td>\n",
       "    </tr>\n",
       "    <tr>\n",
       "      <th>75%</th>\n",
       "      <td>1.755205e+06</td>\n",
       "      <td>6.000000</td>\n",
       "      <td>129.000000</td>\n",
       "      <td>85.000000</td>\n",
       "      <td>41.000000</td>\n",
       "      <td>195.000000</td>\n",
       "      <td>39.259692</td>\n",
       "      <td>0.616285</td>\n",
       "      <td>35.000000</td>\n",
       "      <td>1.000000</td>\n",
       "    </tr>\n",
       "    <tr>\n",
       "      <th>max</th>\n",
       "      <td>1.999997e+06</td>\n",
       "      <td>14.000000</td>\n",
       "      <td>192.000000</td>\n",
       "      <td>117.000000</td>\n",
       "      <td>93.000000</td>\n",
       "      <td>799.000000</td>\n",
       "      <td>56.034628</td>\n",
       "      <td>2.301594</td>\n",
       "      <td>77.000000</td>\n",
       "      <td>1.000000</td>\n",
       "    </tr>\n",
       "  </tbody>\n",
       "</table>\n",
       "</div>"
      ],
      "text/plain": [
       "          PatientID   Pregnancies  PlasmaGlucose  DiastolicBloodPressure  \\\n",
       "count  1.500000e+04  15000.000000   15000.000000            15000.000000   \n",
       "mean   1.502922e+06      3.224533     107.856867               71.220667   \n",
       "std    2.892534e+05      3.391020      31.981975               16.758716   \n",
       "min    1.000038e+06      0.000000      44.000000               24.000000   \n",
       "25%    1.252866e+06      0.000000      84.000000               58.000000   \n",
       "50%    1.505508e+06      2.000000     104.000000               72.000000   \n",
       "75%    1.755205e+06      6.000000     129.000000               85.000000   \n",
       "max    1.999997e+06     14.000000     192.000000              117.000000   \n",
       "\n",
       "       TricepsThickness  SerumInsulin           BMI  DiabetesPedigree  \\\n",
       "count      15000.000000  15000.000000  15000.000000      15000.000000   \n",
       "mean          28.814000    137.852133     31.509646          0.398968   \n",
       "std           14.555716    133.068252      9.759000          0.377944   \n",
       "min            7.000000     14.000000     18.200512          0.078044   \n",
       "25%           15.000000     39.000000     21.259887          0.137743   \n",
       "50%           31.000000     83.000000     31.767940          0.200297   \n",
       "75%           41.000000    195.000000     39.259692          0.616285   \n",
       "max           93.000000    799.000000     56.034628          2.301594   \n",
       "\n",
       "                Age      Diabetic  \n",
       "count  15000.000000  15000.000000  \n",
       "mean      30.137733      0.333333  \n",
       "std       12.089703      0.471420  \n",
       "min       21.000000      0.000000  \n",
       "25%       22.000000      0.000000  \n",
       "50%       24.000000      0.000000  \n",
       "75%       35.000000      1.000000  \n",
       "max       77.000000      1.000000  "
      ]
     },
     "execution_count": 9,
     "metadata": {},
     "output_type": "execute_result"
    }
   ],
   "source": [
    "lista_pazienti.describe()"
   ]
  },
  {
   "cell_type": "markdown",
   "metadata": {},
   "source": [
    "Salta subito all'occhio che la funzione ha fatto la statistica anche di PatientID, che è un codice numerico rappresentante il paziente pertanto deve essere considerato come una stringa piuttosto che un numero.<br>\n",
    "Cambio il tipo dei dati con la funzione astype()"
   ]
  },
  {
   "cell_type": "code",
   "execution_count": 10,
   "metadata": {},
   "outputs": [],
   "source": [
    "lista_pazienti['PatientID'] = lista_pazienti['PatientID'].astype(str)"
   ]
  },
  {
   "cell_type": "markdown",
   "metadata": {},
   "source": [
    "Vediamo quali sono le colonne aventi dati numerici, usiamo la funzione select_dtypes(). Verifichiamo che PatientID non è tra questi."
   ]
  },
  {
   "cell_type": "code",
   "execution_count": 11,
   "metadata": {},
   "outputs": [
    {
     "data": {
      "text/html": [
       "<div>\n",
       "<style scoped>\n",
       "    .dataframe tbody tr th:only-of-type {\n",
       "        vertical-align: middle;\n",
       "    }\n",
       "\n",
       "    .dataframe tbody tr th {\n",
       "        vertical-align: top;\n",
       "    }\n",
       "\n",
       "    .dataframe thead th {\n",
       "        text-align: right;\n",
       "    }\n",
       "</style>\n",
       "<table border=\"1\" class=\"dataframe\">\n",
       "  <thead>\n",
       "    <tr style=\"text-align: right;\">\n",
       "      <th></th>\n",
       "      <th>Pregnancies</th>\n",
       "      <th>PlasmaGlucose</th>\n",
       "      <th>DiastolicBloodPressure</th>\n",
       "      <th>TricepsThickness</th>\n",
       "      <th>SerumInsulin</th>\n",
       "      <th>BMI</th>\n",
       "      <th>DiabetesPedigree</th>\n",
       "      <th>Age</th>\n",
       "      <th>Diabetic</th>\n",
       "    </tr>\n",
       "  </thead>\n",
       "  <tbody>\n",
       "    <tr>\n",
       "      <th>0</th>\n",
       "      <td>0</td>\n",
       "      <td>171</td>\n",
       "      <td>80</td>\n",
       "      <td>34</td>\n",
       "      <td>23</td>\n",
       "      <td>43.509726</td>\n",
       "      <td>1.213191</td>\n",
       "      <td>21</td>\n",
       "      <td>0</td>\n",
       "    </tr>\n",
       "    <tr>\n",
       "      <th>1</th>\n",
       "      <td>8</td>\n",
       "      <td>92</td>\n",
       "      <td>93</td>\n",
       "      <td>47</td>\n",
       "      <td>36</td>\n",
       "      <td>21.240576</td>\n",
       "      <td>0.158365</td>\n",
       "      <td>23</td>\n",
       "      <td>0</td>\n",
       "    </tr>\n",
       "    <tr>\n",
       "      <th>2</th>\n",
       "      <td>7</td>\n",
       "      <td>115</td>\n",
       "      <td>47</td>\n",
       "      <td>52</td>\n",
       "      <td>35</td>\n",
       "      <td>41.511523</td>\n",
       "      <td>0.079019</td>\n",
       "      <td>23</td>\n",
       "      <td>0</td>\n",
       "    </tr>\n",
       "    <tr>\n",
       "      <th>3</th>\n",
       "      <td>9</td>\n",
       "      <td>103</td>\n",
       "      <td>78</td>\n",
       "      <td>25</td>\n",
       "      <td>304</td>\n",
       "      <td>29.582192</td>\n",
       "      <td>1.282870</td>\n",
       "      <td>43</td>\n",
       "      <td>1</td>\n",
       "    </tr>\n",
       "    <tr>\n",
       "      <th>4</th>\n",
       "      <td>1</td>\n",
       "      <td>85</td>\n",
       "      <td>59</td>\n",
       "      <td>27</td>\n",
       "      <td>35</td>\n",
       "      <td>42.604536</td>\n",
       "      <td>0.549542</td>\n",
       "      <td>22</td>\n",
       "      <td>0</td>\n",
       "    </tr>\n",
       "  </tbody>\n",
       "</table>\n",
       "</div>"
      ],
      "text/plain": [
       "   Pregnancies  PlasmaGlucose  DiastolicBloodPressure  TricepsThickness  \\\n",
       "0            0            171                      80                34   \n",
       "1            8             92                      93                47   \n",
       "2            7            115                      47                52   \n",
       "3            9            103                      78                25   \n",
       "4            1             85                      59                27   \n",
       "\n",
       "   SerumInsulin        BMI  DiabetesPedigree  Age  Diabetic  \n",
       "0            23  43.509726          1.213191   21         0  \n",
       "1            36  21.240576          0.158365   23         0  \n",
       "2            35  41.511523          0.079019   23         0  \n",
       "3           304  29.582192          1.282870   43         1  \n",
       "4            35  42.604536          0.549542   22         0  "
      ]
     },
     "execution_count": 11,
     "metadata": {},
     "output_type": "execute_result"
    }
   ],
   "source": [
    "lista_pazienti.select_dtypes(include='number').head()"
   ]
  },
  {
   "cell_type": "markdown",
   "metadata": {},
   "source": [
    "Ci sono elementi non definiti (nan) nelle righe? Possiamo usare la funzione <strong>count</strong>. "
   ]
  },
  {
   "cell_type": "code",
   "execution_count": 12,
   "metadata": {},
   "outputs": [
    {
     "data": {
      "text/plain": [
       "PatientID                 15000\n",
       "Pregnancies               15000\n",
       "PlasmaGlucose             15000\n",
       "DiastolicBloodPressure    15000\n",
       "TricepsThickness          15000\n",
       "SerumInsulin              15000\n",
       "BMI                       15000\n",
       "DiabetesPedigree          15000\n",
       "Age                       15000\n",
       "Diabetic                  15000\n",
       "Physician                 15000\n",
       "dtype: int64"
      ]
     },
     "execution_count": 12,
     "metadata": {},
     "output_type": "execute_result"
    }
   ],
   "source": [
    "lista_pazienti.count()"
   ]
  },
  {
   "cell_type": "markdown",
   "metadata": {},
   "source": [
    "Il dataframe ha 15000 righe ed ogni campo(o colonna) ha 15000 elementi. Quindi apparentemente non ci sono <strong>nan</strong>. Dico apparentemente perché potrebbero essere stati definiti con una codifica particolare, per esempio usando un numero molto negativo (-999) per l'indice di massa corporea (BMI), quando questo può essee un valore solo positivo.<br>\n",
    "Per riconoscere questi casi particolari dovremmo esplorare visualmente il dataframe e in caso scrivere un codice ad hoc."
   ]
  },
  {
   "cell_type": "markdown",
   "metadata": {},
   "source": [
    "Vediamo la distribuzione dei valori per ogni colonna. Per questo userò la funzione <strong>distplot()</strong> del pacchetto seaborn."
   ]
  },
  {
   "cell_type": "code",
   "execution_count": 13,
   "metadata": {},
   "outputs": [
    {
     "data": {
      "image/png": "[encoded data removed]",
      "text/plain": [
       "<Figure size 432x288 with 1 Axes>"
      ]
     },
     "metadata": {
      "needs_background": "light"
     },
     "output_type": "display_data"
    }
   ],
   "source": [
    "sns.distplot(lista_pazienti.Pregnancies)\n",
    "plt.show()"
   ]
  },
  {
   "cell_type": "code",
   "execution_count": 14,
   "metadata": {},
   "outputs": [
    {
     "data": {
      "image/png": "[encoded data removed]",
      "text/plain": [
       "<Figure size 432x288 with 1 Axes>"
      ]
     },
     "metadata": {
      "needs_background": "light"
     },
     "output_type": "display_data"
    }
   ],
   "source": [
    "sns.distplot(lista_pazienti.PlasmaGlucose)\n",
    "plt.show()"
   ]
  },
  {
   "cell_type": "code",
   "execution_count": 15,
   "metadata": {},
   "outputs": [
    {
     "data": {
      "image/png": "[encoded data removed]",
      "text/plain": [
       "<Figure size 432x288 with 1 Axes>"
      ]
     },
     "metadata": {
      "needs_background": "light"
     },
     "output_type": "display_data"
    }
   ],
   "source": [
    "sns.distplot(lista_pazienti.DiastolicBloodPressure)\n",
    "plt.show()"
   ]
  },
  {
   "cell_type": "code",
   "execution_count": 16,
   "metadata": {},
   "outputs": [
    {
     "data": {
      "image/png": "[encoded data removed]",
      "text/plain": [
       "<Figure size 432x288 with 1 Axes>"
      ]
     },
     "metadata": {
      "needs_background": "light"
     },
     "output_type": "display_data"
    }
   ],
   "source": [
    "sns.distplot(lista_pazienti.TricepsThickness)\n",
    "plt.show()"
   ]
  },
  {
   "cell_type": "code",
   "execution_count": 17,
   "metadata": {},
   "outputs": [
    {
     "data": {
      "image/png": "[encoded data removed]",
      "text/plain": [
       "<Figure size 432x288 with 1 Axes>"
      ]
     },
     "metadata": {
      "needs_background": "light"
     },
     "output_type": "display_data"
    }
   ],
   "source": [
    "sns.distplot(lista_pazienti.SerumInsulin)\n",
    "plt.show()"
   ]
  },
  {
   "cell_type": "code",
   "execution_count": 18,
   "metadata": {},
   "outputs": [
    {
     "data": {
      "image/png": "[encoded data removed]",
      "text/plain": [
       "<Figure size 432x288 with 1 Axes>"
      ]
     },
     "metadata": {
      "needs_background": "light"
     },
     "output_type": "display_data"
    }
   ],
   "source": [
    "sns.distplot(lista_pazienti.BMI)\n",
    "plt.show()"
   ]
  },
  {
   "cell_type": "code",
   "execution_count": 19,
   "metadata": {},
   "outputs": [
    {
     "data": {
      "image/png": "[encoded data removed]",
      "text/plain": [
       "<Figure size 432x288 with 1 Axes>"
      ]
     },
     "metadata": {
      "needs_background": "light"
     },
     "output_type": "display_data"
    }
   ],
   "source": [
    "sns.distplot(lista_pazienti.DiabetesPedigree)\n",
    "plt.show()"
   ]
  },
  {
   "cell_type": "code",
   "execution_count": 20,
   "metadata": {},
   "outputs": [
    {
     "data": {
      "image/png": "[encoded data removed]",
      "text/plain": [
       "<Figure size 432x288 with 1 Axes>"
      ]
     },
     "metadata": {
      "needs_background": "light"
     },
     "output_type": "display_data"
    }
   ],
   "source": [
    "sns.distplot(lista_pazienti.Age)\n",
    "plt.show()"
   ]
  },
  {
   "cell_type": "markdown",
   "metadata": {},
   "source": [
    "Poiché il campo dell'età (Age) è piuttosto sbilanciato, il tutorial di Edx suggeriva di usare log(Age) al suo posto.<br>\n",
    "Aggiungiamo una colonna con log(Age):"
   ]
  },
  {
   "cell_type": "code",
   "execution_count": 21,
   "metadata": {},
   "outputs": [],
   "source": [
    "lista_pazienti['logAge'] = np.log10(lista_pazienti['Age'].values)"
   ]
  },
  {
   "cell_type": "code",
   "execution_count": 22,
   "metadata": {},
   "outputs": [
    {
     "data": {
      "image/png": "[encoded data removed]",
      "text/plain": [
       "<Figure size 432x288 with 1 Axes>"
      ]
     },
     "metadata": {
      "needs_background": "light"
     },
     "output_type": "display_data"
    }
   ],
   "source": [
    "sns.distplot(lista_pazienti.logAge)\n",
    "plt.show()"
   ]
  },
  {
   "cell_type": "markdown",
   "metadata": {},
   "source": [
    "Adesso voglio normalizzare i dati perché la convergenza è più facile quando i dati sono normalizzati."
   ]
  },
  {
   "cell_type": "markdown",
   "metadata": {},
   "source": [
    "La normalizzazione avviene per colonna. Per le colonne che hanno una distribuzione simile a quella gaussiana (o normale), posso normalizzare usando lo Z-score, ovvero si calcola la media ($\\mu$) e la varianza ($\\sigma^2$) dei dati in una colonna e poi si normalizza ogni singolo elemento della colonna secondo:\n",
    "\\begin{equation*}\n",
    "\\hat{x_i} = \\frac{(x_i - \\mu)}{\\sigma^2} \\quad \\forall i\n",
    "\\end{equation*}"
   ]
  },
  {
   "cell_type": "markdown",
   "metadata": {},
   "source": [
    "Per le colonne che non hanno una distribuzione simil-gaussiana posso usare una normalizzazione max-min. Ovvero calcolo il max dei dai su una colonna ($M$) e il minimo ($m$) degli stessi. Dopodichè applico la normalizzazione:\n",
    "\\begin{equation*}\n",
    "\\hat{x_i} = \\frac{(x_i - m)}{(M-m)} \\quad \\forall{i}\n",
    "\\end{equation*}"
   ]
  },
  {
   "cell_type": "markdown",
   "metadata": {},
   "source": [
    "Per fortuna non dobbiamo farlo manualmente, ma possiamo usare le funzioni di scikit-learn StandardScaler() e MinMaxScaler()."
   ]
  },
  {
   "cell_type": "code",
   "execution_count": 23,
   "metadata": {},
   "outputs": [],
   "source": [
    "from sklearn.preprocessing import StandardScaler, MinMaxScaler"
   ]
  },
  {
   "cell_type": "markdown",
   "metadata": {},
   "source": [
    "Prima di lavorare sul mio dataset faccio un esempio di uso di MinMaxScaler():"
   ]
  },
  {
   "cell_type": "code",
   "execution_count": 24,
   "metadata": {},
   "outputs": [
    {
     "name": "stdout",
     "output_type": "stream",
     "text": [
      "1.0\n",
      "0.0\n"
     ]
    }
   ],
   "source": [
    "Mmsc = MinMaxScaler()\n",
    "preg_norm = Mmsc.fit_transform(lista_pazienti.Pregnancies.values.astype(np.float64).reshape(-1,1))\n",
    "print(preg_norm.max())\n",
    "print(preg_norm.min())"
   ]
  },
  {
   "cell_type": "markdown",
   "metadata": {},
   "source": [
    "In questo caso ho usato la funzione fit_transform()"
   ]
  },
  {
   "cell_type": "markdown",
   "metadata": {},
   "source": [
    "Definisco su quali colonne usare l'algoritmo MinMax e su quali il Zscore:"
   ]
  },
  {
   "cell_type": "code",
   "execution_count": 25,
   "metadata": {},
   "outputs": [],
   "source": [
    "columns_minmax = ['Pregnancies','SerumInsulin','BMI','DiabetesPedigree','logAge']\n",
    "columns_zscore = ['PlasmaGlucose','DiastolicBloodPressure','TricepsThickness']"
   ]
  },
  {
   "cell_type": "code",
   "execution_count": 26,
   "metadata": {},
   "outputs": [],
   "source": [
    "lista_pazienti_norm = pd.DataFrame(index=range(15000))\n",
    "for column in columns_minmax:\n",
    "    lista_pazienti_norm[column + '_norm'] = Mmsc.fit_transform(lista_pazienti[column].values.astype(np.float64).reshape(-1, 1))\n",
    "for column in columns_zscore:\n",
    "    lista_pazienti_norm[column + '_norm'] = Mmsc.fit_transform(lista_pazienti[column].values.astype(np.float64).reshape(-1, 1))\n",
    "\n",
    "lista_pazienti_norm[lista_pazienti.select_dtypes(exclude='number').columns] = lista_pazienti.select_dtypes(exclude='number')   #colonne non mumeriche\n",
    "\n",
    "lista_pazienti_norm['Diabetic'] = lista_pazienti['Diabetic']   #È la label del modello"
   ]
  },
  {
   "cell_type": "code",
   "execution_count": 27,
   "metadata": {},
   "outputs": [
    {
     "data": {
      "text/html": [
       "<div>\n",
       "<style scoped>\n",
       "    .dataframe tbody tr th:only-of-type {\n",
       "        vertical-align: middle;\n",
       "    }\n",
       "\n",
       "    .dataframe tbody tr th {\n",
       "        vertical-align: top;\n",
       "    }\n",
       "\n",
       "    .dataframe thead th {\n",
       "        text-align: right;\n",
       "    }\n",
       "</style>\n",
       "<table border=\"1\" class=\"dataframe\">\n",
       "  <thead>\n",
       "    <tr style=\"text-align: right;\">\n",
       "      <th></th>\n",
       "      <th>Pregnancies_norm</th>\n",
       "      <th>SerumInsulin_norm</th>\n",
       "      <th>BMI_norm</th>\n",
       "      <th>DiabetesPedigree_norm</th>\n",
       "      <th>logAge_norm</th>\n",
       "      <th>PlasmaGlucose_norm</th>\n",
       "      <th>DiastolicBloodPressure_norm</th>\n",
       "      <th>TricepsThickness_norm</th>\n",
       "      <th>PatientID</th>\n",
       "      <th>Physician</th>\n",
       "      <th>Diabetic</th>\n",
       "    </tr>\n",
       "  </thead>\n",
       "  <tbody>\n",
       "    <tr>\n",
       "      <th>0</th>\n",
       "      <td>0.000000</td>\n",
       "      <td>0.011465</td>\n",
       "      <td>0.668952</td>\n",
       "      <td>0.510511</td>\n",
       "      <td>0.000000</td>\n",
       "      <td>0.858108</td>\n",
       "      <td>0.602151</td>\n",
       "      <td>0.313953</td>\n",
       "      <td>1354778</td>\n",
       "      <td>Dan Drayton</td>\n",
       "      <td>0</td>\n",
       "    </tr>\n",
       "    <tr>\n",
       "      <th>1</th>\n",
       "      <td>0.571429</td>\n",
       "      <td>0.028025</td>\n",
       "      <td>0.080352</td>\n",
       "      <td>0.036123</td>\n",
       "      <td>0.070017</td>\n",
       "      <td>0.324324</td>\n",
       "      <td>0.741935</td>\n",
       "      <td>0.465116</td>\n",
       "      <td>1147438</td>\n",
       "      <td>Anthony Frizzell</td>\n",
       "      <td>0</td>\n",
       "    </tr>\n",
       "    <tr>\n",
       "      <th>2</th>\n",
       "      <td>0.500000</td>\n",
       "      <td>0.026752</td>\n",
       "      <td>0.616137</td>\n",
       "      <td>0.000438</td>\n",
       "      <td>0.070017</td>\n",
       "      <td>0.479730</td>\n",
       "      <td>0.247312</td>\n",
       "      <td>0.523256</td>\n",
       "      <td>1640031</td>\n",
       "      <td>Gordon Fredrickson</td>\n",
       "      <td>0</td>\n",
       "    </tr>\n",
       "    <tr>\n",
       "      <th>3</th>\n",
       "      <td>0.642857</td>\n",
       "      <td>0.369427</td>\n",
       "      <td>0.300831</td>\n",
       "      <td>0.541848</td>\n",
       "      <td>0.551595</td>\n",
       "      <td>0.398649</td>\n",
       "      <td>0.580645</td>\n",
       "      <td>0.209302</td>\n",
       "      <td>1883350</td>\n",
       "      <td>Chad Corbitt</td>\n",
       "      <td>1</td>\n",
       "    </tr>\n",
       "    <tr>\n",
       "      <th>4</th>\n",
       "      <td>0.071429</td>\n",
       "      <td>0.026752</td>\n",
       "      <td>0.645027</td>\n",
       "      <td>0.212047</td>\n",
       "      <td>0.035804</td>\n",
       "      <td>0.277027</td>\n",
       "      <td>0.376344</td>\n",
       "      <td>0.232558</td>\n",
       "      <td>1424119</td>\n",
       "      <td>Zachary Fellows</td>\n",
       "      <td>0</td>\n",
       "    </tr>\n",
       "  </tbody>\n",
       "</table>\n",
       "</div>"
      ],
      "text/plain": [
       "   Pregnancies_norm  SerumInsulin_norm  BMI_norm  DiabetesPedigree_norm  \\\n",
       "0          0.000000           0.011465  0.668952               0.510511   \n",
       "1          0.571429           0.028025  0.080352               0.036123   \n",
       "2          0.500000           0.026752  0.616137               0.000438   \n",
       "3          0.642857           0.369427  0.300831               0.541848   \n",
       "4          0.071429           0.026752  0.645027               0.212047   \n",
       "\n",
       "   logAge_norm  PlasmaGlucose_norm  DiastolicBloodPressure_norm  \\\n",
       "0     0.000000            0.858108                     0.602151   \n",
       "1     0.070017            0.324324                     0.741935   \n",
       "2     0.070017            0.479730                     0.247312   \n",
       "3     0.551595            0.398649                     0.580645   \n",
       "4     0.035804            0.277027                     0.376344   \n",
       "\n",
       "   TricepsThickness_norm PatientID           Physician  Diabetic  \n",
       "0               0.313953   1354778         Dan Drayton         0  \n",
       "1               0.465116   1147438    Anthony Frizzell         0  \n",
       "2               0.523256   1640031  Gordon Fredrickson         0  \n",
       "3               0.209302   1883350        Chad Corbitt         1  \n",
       "4               0.232558   1424119     Zachary Fellows         0  "
      ]
     },
     "execution_count": 27,
     "metadata": {},
     "output_type": "execute_result"
    }
   ],
   "source": [
    "lista_pazienti_norm.head()"
   ]
  },
  {
   "cell_type": "markdown",
   "metadata": {},
   "source": [
    "Un'ultima considerazione. Il valore di PatientID probabilmente non influisce sul risultato. Cioè non dovrebbe esserci alcuna correlazione tr il PatientID e la label (Diabetic)."
   ]
  },
  {
   "cell_type": "markdown",
   "metadata": {},
   "source": [
    "Invece potrebbe esserci correlazione tra il medico (Physician) e il fatto che il paziente sia diabetico. Un cattivo medico aumenta la probabilità che il paziente si ammali. Per cui decido di usare l'informazione sul nome del medico."
   ]
  },
  {
   "cell_type": "markdown",
   "metadata": {},
   "source": [
    "Come primo passo voglio vedere quanti sono i medici nella lista. Utilizzo la funzione unique() per vedere quali sono i valori unici della colonna Physician. E shape per contarli. "
   ]
  },
  {
   "cell_type": "code",
   "execution_count": 28,
   "metadata": {},
   "outputs": [
    {
     "data": {
      "text/plain": [
       "(109,)"
      ]
     },
     "execution_count": 28,
     "metadata": {},
     "output_type": "execute_result"
    }
   ],
   "source": [
    "lista_pazienti_norm.Physician.unique().shape"
   ]
  },
  {
   "cell_type": "markdown",
   "metadata": {},
   "source": [
    "In tutto ho 109 medici. 109 medici su 15000 dati... può essere che ci sia una correlazione."
   ]
  },
  {
   "cell_type": "markdown",
   "metadata": {},
   "source": [
    "La regressione logistica è un algoritmo puramente matematico, che fa uso di numeri per determinare una uscita. Se voglio usare la colonna Physician, devo trasformare i valori in una informazione numerica che possa essere usata dall'algoritmo. "
   ]
  },
  {
   "cell_type": "markdown",
   "metadata": {},
   "source": [
    "Per fare questo uso il one-hot-encoding. Scikit-learn ha una funzione apposta per realizzare l'encoding, si chiama LabelBinarizer() "
   ]
  },
  {
   "cell_type": "code",
   "execution_count": 29,
   "metadata": {},
   "outputs": [
    {
     "data": {
      "text/plain": [
       "(15000, 109)"
      ]
     },
     "execution_count": 29,
     "metadata": {},
     "output_type": "execute_result"
    }
   ],
   "source": [
    "lb = LabelBinarizer()\n",
    "Phis_ohe = lb.fit_transform(lista_pazienti_norm.Physician)\n",
    "Phis_ohe.shape"
   ]
  },
  {
   "cell_type": "markdown",
   "metadata": {},
   "source": [
    "L'output di LabelBinarizer() è un array bidimensionale. Per comodità voglio mettere tutti i dati in un dataframe, per cui devo dare un nome a ciscuna delle colonne di Phis_ohe."
   ]
  },
  {
   "cell_type": "code",
   "execution_count": 30,
   "metadata": {},
   "outputs": [],
   "source": [
    "columns_name = []\n",
    "for i in range(109):\n",
    "    columns_name += ['phis_ohe' + str(i)]"
   ]
  },
  {
   "cell_type": "markdown",
   "metadata": {},
   "source": [
    "Creo il dataframe con i dati Phis_ohe e i nomi delle colonne columns_name"
   ]
  },
  {
   "cell_type": "code",
   "execution_count": 31,
   "metadata": {},
   "outputs": [],
   "source": [
    "lista_dottori = pd.DataFrame(Phis_ohe, columns=columns_name)"
   ]
  },
  {
   "cell_type": "markdown",
   "metadata": {},
   "source": [
    "Concateno la lista dei pazienti e quella dei dottori, poichè l'ordine delle righe non è cambiato, posso semplicemente accostarle una con l'altra (axis=1):"
   ]
  },
  {
   "cell_type": "code",
   "execution_count": 32,
   "metadata": {},
   "outputs": [],
   "source": [
    "lista_pazienti_e_dottori = pd.concat([lista_pazienti_norm, lista_dottori], axis=1)"
   ]
  },
  {
   "cell_type": "markdown",
   "metadata": {},
   "source": [
    "Dal dataframe devo rimuovere alcune colonne"
   ]
  },
  {
   "cell_type": "code",
   "execution_count": 33,
   "metadata": {},
   "outputs": [],
   "source": [
    "#rimuovo la colonna Physician che è stata rimpiazzata dalla stessa informazione codificata\n",
    "#rimuovo la colonna PatientID perché non è informativa\n",
    "#rimuovo la colonna Diabetic perché costituisce il dato da predire\n",
    "lista_pazienti_e_dottori = lista_pazienti_e_dottori.drop(columns=['Physician','PatientID','Diabetic'])"
   ]
  },
  {
   "cell_type": "code",
   "execution_count": 34,
   "metadata": {},
   "outputs": [
    {
     "data": {
      "text/html": [
       "<div>\n",
       "<style scoped>\n",
       "    .dataframe tbody tr th:only-of-type {\n",
       "        vertical-align: middle;\n",
       "    }\n",
       "\n",
       "    .dataframe tbody tr th {\n",
       "        vertical-align: top;\n",
       "    }\n",
       "\n",
       "    .dataframe thead th {\n",
       "        text-align: right;\n",
       "    }\n",
       "</style>\n",
       "<table border=\"1\" class=\"dataframe\">\n",
       "  <thead>\n",
       "    <tr style=\"text-align: right;\">\n",
       "      <th></th>\n",
       "      <th>Pregnancies_norm</th>\n",
       "      <th>SerumInsulin_norm</th>\n",
       "      <th>BMI_norm</th>\n",
       "      <th>DiabetesPedigree_norm</th>\n",
       "      <th>logAge_norm</th>\n",
       "      <th>PlasmaGlucose_norm</th>\n",
       "      <th>DiastolicBloodPressure_norm</th>\n",
       "      <th>TricepsThickness_norm</th>\n",
       "      <th>phis_ohe0</th>\n",
       "      <th>phis_ohe1</th>\n",
       "      <th>...</th>\n",
       "      <th>phis_ohe99</th>\n",
       "      <th>phis_ohe100</th>\n",
       "      <th>phis_ohe101</th>\n",
       "      <th>phis_ohe102</th>\n",
       "      <th>phis_ohe103</th>\n",
       "      <th>phis_ohe104</th>\n",
       "      <th>phis_ohe105</th>\n",
       "      <th>phis_ohe106</th>\n",
       "      <th>phis_ohe107</th>\n",
       "      <th>phis_ohe108</th>\n",
       "    </tr>\n",
       "  </thead>\n",
       "  <tbody>\n",
       "    <tr>\n",
       "      <th>0</th>\n",
       "      <td>0.000000</td>\n",
       "      <td>0.011465</td>\n",
       "      <td>0.668952</td>\n",
       "      <td>0.510511</td>\n",
       "      <td>0.000000</td>\n",
       "      <td>0.858108</td>\n",
       "      <td>0.602151</td>\n",
       "      <td>0.313953</td>\n",
       "      <td>0</td>\n",
       "      <td>0</td>\n",
       "      <td>...</td>\n",
       "      <td>0</td>\n",
       "      <td>0</td>\n",
       "      <td>0</td>\n",
       "      <td>0</td>\n",
       "      <td>0</td>\n",
       "      <td>0</td>\n",
       "      <td>0</td>\n",
       "      <td>0</td>\n",
       "      <td>0</td>\n",
       "      <td>0</td>\n",
       "    </tr>\n",
       "    <tr>\n",
       "      <th>1</th>\n",
       "      <td>0.571429</td>\n",
       "      <td>0.028025</td>\n",
       "      <td>0.080352</td>\n",
       "      <td>0.036123</td>\n",
       "      <td>0.070017</td>\n",
       "      <td>0.324324</td>\n",
       "      <td>0.741935</td>\n",
       "      <td>0.465116</td>\n",
       "      <td>0</td>\n",
       "      <td>0</td>\n",
       "      <td>...</td>\n",
       "      <td>0</td>\n",
       "      <td>0</td>\n",
       "      <td>0</td>\n",
       "      <td>0</td>\n",
       "      <td>0</td>\n",
       "      <td>0</td>\n",
       "      <td>0</td>\n",
       "      <td>0</td>\n",
       "      <td>0</td>\n",
       "      <td>0</td>\n",
       "    </tr>\n",
       "    <tr>\n",
       "      <th>2</th>\n",
       "      <td>0.500000</td>\n",
       "      <td>0.026752</td>\n",
       "      <td>0.616137</td>\n",
       "      <td>0.000438</td>\n",
       "      <td>0.070017</td>\n",
       "      <td>0.479730</td>\n",
       "      <td>0.247312</td>\n",
       "      <td>0.523256</td>\n",
       "      <td>0</td>\n",
       "      <td>0</td>\n",
       "      <td>...</td>\n",
       "      <td>0</td>\n",
       "      <td>0</td>\n",
       "      <td>0</td>\n",
       "      <td>0</td>\n",
       "      <td>0</td>\n",
       "      <td>0</td>\n",
       "      <td>0</td>\n",
       "      <td>0</td>\n",
       "      <td>0</td>\n",
       "      <td>0</td>\n",
       "    </tr>\n",
       "    <tr>\n",
       "      <th>3</th>\n",
       "      <td>0.642857</td>\n",
       "      <td>0.369427</td>\n",
       "      <td>0.300831</td>\n",
       "      <td>0.541848</td>\n",
       "      <td>0.551595</td>\n",
       "      <td>0.398649</td>\n",
       "      <td>0.580645</td>\n",
       "      <td>0.209302</td>\n",
       "      <td>0</td>\n",
       "      <td>0</td>\n",
       "      <td>...</td>\n",
       "      <td>0</td>\n",
       "      <td>0</td>\n",
       "      <td>0</td>\n",
       "      <td>0</td>\n",
       "      <td>0</td>\n",
       "      <td>0</td>\n",
       "      <td>0</td>\n",
       "      <td>0</td>\n",
       "      <td>0</td>\n",
       "      <td>0</td>\n",
       "    </tr>\n",
       "    <tr>\n",
       "      <th>4</th>\n",
       "      <td>0.071429</td>\n",
       "      <td>0.026752</td>\n",
       "      <td>0.645027</td>\n",
       "      <td>0.212047</td>\n",
       "      <td>0.035804</td>\n",
       "      <td>0.277027</td>\n",
       "      <td>0.376344</td>\n",
       "      <td>0.232558</td>\n",
       "      <td>0</td>\n",
       "      <td>0</td>\n",
       "      <td>...</td>\n",
       "      <td>0</td>\n",
       "      <td>0</td>\n",
       "      <td>0</td>\n",
       "      <td>0</td>\n",
       "      <td>0</td>\n",
       "      <td>0</td>\n",
       "      <td>0</td>\n",
       "      <td>0</td>\n",
       "      <td>1</td>\n",
       "      <td>0</td>\n",
       "    </tr>\n",
       "  </tbody>\n",
       "</table>\n",
       "<p>5 rows × 117 columns</p>\n",
       "</div>"
      ],
      "text/plain": [
       "   Pregnancies_norm  SerumInsulin_norm  BMI_norm  DiabetesPedigree_norm  \\\n",
       "0          0.000000           0.011465  0.668952               0.510511   \n",
       "1          0.571429           0.028025  0.080352               0.036123   \n",
       "2          0.500000           0.026752  0.616137               0.000438   \n",
       "3          0.642857           0.369427  0.300831               0.541848   \n",
       "4          0.071429           0.026752  0.645027               0.212047   \n",
       "\n",
       "   logAge_norm  PlasmaGlucose_norm  DiastolicBloodPressure_norm  \\\n",
       "0     0.000000            0.858108                     0.602151   \n",
       "1     0.070017            0.324324                     0.741935   \n",
       "2     0.070017            0.479730                     0.247312   \n",
       "3     0.551595            0.398649                     0.580645   \n",
       "4     0.035804            0.277027                     0.376344   \n",
       "\n",
       "   TricepsThickness_norm  phis_ohe0  phis_ohe1  ...  phis_ohe99  phis_ohe100  \\\n",
       "0               0.313953          0          0  ...           0            0   \n",
       "1               0.465116          0          0  ...           0            0   \n",
       "2               0.523256          0          0  ...           0            0   \n",
       "3               0.209302          0          0  ...           0            0   \n",
       "4               0.232558          0          0  ...           0            0   \n",
       "\n",
       "   phis_ohe101  phis_ohe102  phis_ohe103  phis_ohe104  phis_ohe105  \\\n",
       "0            0            0            0            0            0   \n",
       "1            0            0            0            0            0   \n",
       "2            0            0            0            0            0   \n",
       "3            0            0            0            0            0   \n",
       "4            0            0            0            0            0   \n",
       "\n",
       "   phis_ohe106  phis_ohe107  phis_ohe108  \n",
       "0            0            0            0  \n",
       "1            0            0            0  \n",
       "2            0            0            0  \n",
       "3            0            0            0  \n",
       "4            0            1            0  \n",
       "\n",
       "[5 rows x 117 columns]"
      ]
     },
     "execution_count": 34,
     "metadata": {},
     "output_type": "execute_result"
    }
   ],
   "source": [
    "lista_pazienti_e_dottori.head()"
   ]
  },
  {
   "cell_type": "code",
   "execution_count": 35,
   "metadata": {},
   "outputs": [
    {
     "data": {
      "text/plain": [
       "(15000, 117)"
      ]
     },
     "execution_count": 35,
     "metadata": {},
     "output_type": "execute_result"
    }
   ],
   "source": [
    "lista_pazienti_e_dottori.shape"
   ]
  },
  {
   "cell_type": "markdown",
   "metadata": {},
   "source": [
    "In realtà, rimane aperta una questione. Come trattare i pazienti che hanno più di una riga? Probabilmente si tratta di pazienti che hanno registrato dati in momenti diversi, in due viste diverse. Al momento decido di non riservare a questi pazienti un particolare trattamento, cioè li tratto come se fossero due pazienti diversi con dati diversi. In effetti dando un'occhiata veloce, lo stesso paziente può avere dati molto diversi tra loro. <br>\n",
    "Questi sono i pazienti duplicati:"
   ]
  },
  {
   "cell_type": "code",
   "execution_count": 36,
   "metadata": {},
   "outputs": [
    {
     "data": {
      "text/html": [
       "<div>\n",
       "<style scoped>\n",
       "    .dataframe tbody tr th:only-of-type {\n",
       "        vertical-align: middle;\n",
       "    }\n",
       "\n",
       "    .dataframe tbody tr th {\n",
       "        vertical-align: top;\n",
       "    }\n",
       "\n",
       "    .dataframe thead th {\n",
       "        text-align: right;\n",
       "    }\n",
       "</style>\n",
       "<table border=\"1\" class=\"dataframe\">\n",
       "  <thead>\n",
       "    <tr style=\"text-align: right;\">\n",
       "      <th></th>\n",
       "      <th>PatientID</th>\n",
       "      <th>Pregnancies</th>\n",
       "      <th>PlasmaGlucose</th>\n",
       "      <th>DiastolicBloodPressure</th>\n",
       "      <th>TricepsThickness</th>\n",
       "      <th>SerumInsulin</th>\n",
       "      <th>BMI</th>\n",
       "      <th>DiabetesPedigree</th>\n",
       "      <th>Age</th>\n",
       "      <th>Diabetic</th>\n",
       "      <th>Physician</th>\n",
       "      <th>logAge</th>\n",
       "    </tr>\n",
       "  </thead>\n",
       "  <tbody>\n",
       "    <tr>\n",
       "      <th>72</th>\n",
       "      <td>1912150</td>\n",
       "      <td>8</td>\n",
       "      <td>133</td>\n",
       "      <td>59</td>\n",
       "      <td>12</td>\n",
       "      <td>477</td>\n",
       "      <td>42.477097</td>\n",
       "      <td>0.858930</td>\n",
       "      <td>21</td>\n",
       "      <td>1</td>\n",
       "      <td>Noreen Branch</td>\n",
       "      <td>1.322219</td>\n",
       "    </tr>\n",
       "    <tr>\n",
       "      <th>205</th>\n",
       "      <td>1854671</td>\n",
       "      <td>1</td>\n",
       "      <td>53</td>\n",
       "      <td>78</td>\n",
       "      <td>44</td>\n",
       "      <td>29</td>\n",
       "      <td>18.413402</td>\n",
       "      <td>0.127919</td>\n",
       "      <td>23</td>\n",
       "      <td>0</td>\n",
       "      <td>Demi Vadeboncoeur</td>\n",
       "      <td>1.361728</td>\n",
       "    </tr>\n",
       "    <tr>\n",
       "      <th>377</th>\n",
       "      <td>1192134</td>\n",
       "      <td>0</td>\n",
       "      <td>92</td>\n",
       "      <td>50</td>\n",
       "      <td>31</td>\n",
       "      <td>39</td>\n",
       "      <td>38.658578</td>\n",
       "      <td>0.664133</td>\n",
       "      <td>23</td>\n",
       "      <td>0</td>\n",
       "      <td>Carolos Lamy</td>\n",
       "      <td>1.361728</td>\n",
       "    </tr>\n",
       "    <tr>\n",
       "      <th>417</th>\n",
       "      <td>1366655</td>\n",
       "      <td>5</td>\n",
       "      <td>106</td>\n",
       "      <td>67</td>\n",
       "      <td>44</td>\n",
       "      <td>77</td>\n",
       "      <td>29.835662</td>\n",
       "      <td>0.177607</td>\n",
       "      <td>22</td>\n",
       "      <td>1</td>\n",
       "      <td>Eleanor Bryan</td>\n",
       "      <td>1.342423</td>\n",
       "    </tr>\n",
       "    <tr>\n",
       "      <th>458</th>\n",
       "      <td>1455760</td>\n",
       "      <td>7</td>\n",
       "      <td>121</td>\n",
       "      <td>53</td>\n",
       "      <td>35</td>\n",
       "      <td>312</td>\n",
       "      <td>19.824888</td>\n",
       "      <td>0.114730</td>\n",
       "      <td>21</td>\n",
       "      <td>0</td>\n",
       "      <td>Rocco Yarborough</td>\n",
       "      <td>1.322219</td>\n",
       "    </tr>\n",
       "  </tbody>\n",
       "</table>\n",
       "</div>"
      ],
      "text/plain": [
       "    PatientID  Pregnancies  PlasmaGlucose  DiastolicBloodPressure  \\\n",
       "72    1912150            8            133                      59   \n",
       "205   1854671            1             53                      78   \n",
       "377   1192134            0             92                      50   \n",
       "417   1366655            5            106                      67   \n",
       "458   1455760            7            121                      53   \n",
       "\n",
       "     TricepsThickness  SerumInsulin        BMI  DiabetesPedigree  Age  \\\n",
       "72                 12           477  42.477097          0.858930   21   \n",
       "205                44            29  18.413402          0.127919   23   \n",
       "377                31            39  38.658578          0.664133   23   \n",
       "417                44            77  29.835662          0.177607   22   \n",
       "458                35           312  19.824888          0.114730   21   \n",
       "\n",
       "     Diabetic          Physician    logAge  \n",
       "72          1      Noreen Branch  1.322219  \n",
       "205         0  Demi Vadeboncoeur  1.361728  \n",
       "377         0       Carolos Lamy  1.361728  \n",
       "417         1      Eleanor Bryan  1.342423  \n",
       "458         0   Rocco Yarborough  1.322219  "
      ]
     },
     "execution_count": 36,
     "metadata": {},
     "output_type": "execute_result"
    }
   ],
   "source": [
    "lista_pazienti.loc[lista_pazienti.PatientID.duplicated(),:].head()"
   ]
  },
  {
   "cell_type": "markdown",
   "metadata": {},
   "source": [
    "## Partizionare il dataset"
   ]
  },
  {
   "cell_type": "markdown",
   "metadata": {},
   "source": [
    "Divido i dati di ingresso in un set per il training e un set per il test.<br>\n",
    "Per farlo utilizzo la funzione train_test_split() di scikit-learn"
   ]
  },
  {
   "cell_type": "code",
   "execution_count": 37,
   "metadata": {},
   "outputs": [],
   "source": [
    "from sklearn.model_selection import train_test_split\n",
    "\n",
    "input_data = lista_pazienti_e_dottori.values.astype(np.float32) #le operazioni con i tensori richiedono il tipo float\n",
    "label_data = lista_pazienti.Diabetic.values.astype(np.float32)\n",
    "\n",
    "input_data_train, input_data_test, label_train, label_test = train_test_split(input_data, label_data, test_size=0.3)"
   ]
  },
  {
   "cell_type": "markdown",
   "metadata": {},
   "source": [
    "So già che mi servono dei tensore di tipo torch.float, quindi faccio la conversione:  "
   ]
  },
  {
   "cell_type": "code",
   "execution_count": 38,
   "metadata": {},
   "outputs": [],
   "source": [
    "input_data_train_tens = torch.from_numpy(input_data_train)\n",
    "input_data_test_tens = torch.from_numpy(input_data_test)\n",
    "label_train_tens = torch.from_numpy(label_train).view(-1,1)\n",
    "label_test_tens = torch.from_numpy(label_test).view(-1,1)"
   ]
  },
  {
   "cell_type": "markdown",
   "metadata": {},
   "source": [
    "Si noti che avrei anche potuto convertire in float in questo punto:<br>\n",
    "label_train_tens = torch.from_numpy(label_train).type(dtype=torch.float).view(-1,1)<br>\n",
    "label_test_tens = torch.from_numpy(label_test).type(dtype=torch.float).view(-1,1)"
   ]
  },
  {
   "cell_type": "markdown",
   "metadata": {},
   "source": [
    "## Definizione del modello"
   ]
  },
  {
   "cell_type": "markdown",
   "metadata": {},
   "source": [
    "Definiamo un modello costituito dalla sequenza di un layer lineare e dalla funzione Sigmoid().\n",
    "Questo realizza il semplice modello della regressione logistica, definito come segue:\n",
    "\\begin{equation}\n",
    "h(\\bar x) = \\sigma (\\bar w \\cdot \\bar x+b)\n",
    "\\end{equation}\n",
    "dove:<br>\n",
    "- $\\bar x$ è l'ingresso pluridimensionale Nx1<br>\n",
    "- $\\bar{w}$ è il vettore 1xN contenente il peso di ciascun ingresso<br>\n",
    "- $b$ è uno scalare<br>\n",
    "- $\\sigma$ è la funzione Sigmoid(), che è una funzione da $\\mathbb{R}$ in $\\Bbb{R}$ definita come segue:\n",
    "\n",
    "\\begin{equation}\n",
    "\\sigma(z) = \\frac{1}{1 + e^{-z}}\n",
    "\\end{equation}\n",
    "- $h(\\bar x)$ è l'uscita del modello, ed esprime la probabilità che che l'uscita sia 1<br>"
   ]
  },
  {
   "cell_type": "markdown",
   "metadata": {},
   "source": [
    "Per implementare questo modello utilizziamo un modello Sequential(), composto da un layer lineare e un layer che implementa la funzione sigmoid.<br>\n",
    "Il modello avrà 117 ingressi (tante sono le variabili di ingresso di lista_pazienti_e_dottori) e 1 uscita:"
   ]
  },
  {
   "cell_type": "code",
   "execution_count": 39,
   "metadata": {},
   "outputs": [],
   "source": [
    "model_logreg = nn.Sequential(\n",
    "    nn.Linear(117,1), \n",
    "    nn.Sigmoid()\n",
    ")"
   ]
  },
  {
   "cell_type": "code",
   "execution_count": 40,
   "metadata": {},
   "outputs": [
    {
     "data": {
      "text/plain": [
       "[Parameter containing:\n",
       " tensor([[ 0.0609, -0.0227,  0.0209, -0.0228,  0.0567,  0.0363,  0.0910,  0.0672,\n",
       "          -0.0488, -0.0206, -0.0035, -0.0726, -0.0577, -0.0013,  0.0887,  0.0720,\n",
       "          -0.0279, -0.0205, -0.0741, -0.0718,  0.0855, -0.0499, -0.0109,  0.0178,\n",
       "           0.0264,  0.0753,  0.0537, -0.0328, -0.0460, -0.0634, -0.0641,  0.0761,\n",
       "          -0.0501, -0.0784, -0.0082,  0.0559,  0.0466,  0.0005, -0.0414, -0.0019,\n",
       "           0.0325,  0.0708, -0.0266, -0.0812,  0.0119, -0.0372, -0.0422,  0.0649,\n",
       "           0.0028, -0.0367, -0.0545, -0.0341,  0.0650, -0.0345, -0.0905, -0.0804,\n",
       "          -0.0542, -0.0861,  0.0616,  0.0859,  0.0780, -0.0573,  0.0135, -0.0007,\n",
       "           0.0327,  0.0412,  0.0179, -0.0397, -0.0749,  0.0221, -0.0516,  0.0275,\n",
       "           0.0825, -0.0694,  0.0656, -0.0064, -0.0496, -0.0532, -0.0735,  0.0903,\n",
       "          -0.0594,  0.0762, -0.0465, -0.0795,  0.0869,  0.0790, -0.0758, -0.0512,\n",
       "          -0.0063,  0.0429, -0.0818, -0.0323, -0.0544,  0.0783,  0.0325, -0.0595,\n",
       "          -0.0231, -0.0921, -0.0039,  0.0530, -0.0526, -0.0644, -0.0356,  0.0633,\n",
       "          -0.0283,  0.0347, -0.0355, -0.0137,  0.0469, -0.0690,  0.0168,  0.0632,\n",
       "          -0.0129,  0.0579, -0.0813,  0.0172,  0.0497]], requires_grad=True),\n",
       " Parameter containing:\n",
       " tensor([-0.0875], requires_grad=True)]"
      ]
     },
     "execution_count": 40,
     "metadata": {},
     "output_type": "execute_result"
    }
   ],
   "source": [
    "list(model_logreg.parameters())"
   ]
  },
  {
   "cell_type": "markdown",
   "metadata": {},
   "source": [
    "Verifichiamo che funzioni, generando una uscita scalare:"
   ]
  },
  {
   "cell_type": "code",
   "execution_count": 41,
   "metadata": {},
   "outputs": [
    {
     "data": {
      "text/plain": [
       "torch.Size([10500, 1])"
      ]
     },
     "execution_count": 41,
     "metadata": {},
     "output_type": "execute_result"
    }
   ],
   "source": [
    "output_data_train = model_logreg( input_data_train_tens )\n",
    "output_data_train.shape"
   ]
  },
  {
   "cell_type": "markdown",
   "metadata": {},
   "source": [
    "Definiamo come funzione errore la funzione Binary Cross Entropy BCELoss(), questa è cosi definita:\n",
    "\n",
    "\\begin{equation}\n",
    "error(x) = \\sum_{k=1}^n \\left[ -y \\cdot log(h(x)) - (1-y) \\cdot log(1-h(x)) \\right]\n",
    "\\end{equation}\n",
    "\n",
    "dove:<br>\n",
    "$y$ è la label, cioè il valore vero<br>\n",
    "$h(x)$ è l'uscita del modello di regressione, compreso tra 0 e 1, esprime la probabilità che l'uscita sia 1."
   ]
  },
  {
   "cell_type": "code",
   "execution_count": 42,
   "metadata": {},
   "outputs": [],
   "source": [
    "error = nn.BCELoss()"
   ]
  },
  {
   "cell_type": "markdown",
   "metadata": {},
   "source": [
    "Definisco un ottimizzatore, precisamente lo stochastic gradient descent SGD, con argomenti i parametri del modello di regressione logistico e il learning rate:"
   ]
  },
  {
   "cell_type": "code",
   "execution_count": 43,
   "metadata": {},
   "outputs": [],
   "source": [
    "learning_rate = 1\n",
    "optimizer = torch.optim.SGD(model_logreg.parameters(), lr = learning_rate)"
   ]
  },
  {
   "cell_type": "markdown",
   "metadata": {},
   "source": [
    "In loop eseguiamo i seguenti step:\n",
    "- calcolo dell'uscita con i parametri correnti\n",
    "- calcolo dell'errore\n",
    "- calcolo del gradiente\n",
    "- aggiornamento dei parametri\n",
    "- azzeramneto del gradiente"
   ]
  },
  {
   "cell_type": "code",
   "execution_count": 44,
   "metadata": {},
   "outputs": [
    {
     "name": "stdout",
     "output_type": "stream",
     "text": [
      "tensor(0.6882, grad_fn=<BinaryCrossEntropyBackward>)\n",
      "tensor(0.4838, grad_fn=<BinaryCrossEntropyBackward>)\n",
      "tensor(0.4561, grad_fn=<BinaryCrossEntropyBackward>)\n",
      "tensor(0.4458, grad_fn=<BinaryCrossEntropyBackward>)\n",
      "tensor(0.4408, grad_fn=<BinaryCrossEntropyBackward>)\n",
      "tensor(0.4380, grad_fn=<BinaryCrossEntropyBackward>)\n",
      "tensor(0.4364, grad_fn=<BinaryCrossEntropyBackward>)\n",
      "tensor(0.4354, grad_fn=<BinaryCrossEntropyBackward>)\n",
      "tensor(0.4347, grad_fn=<BinaryCrossEntropyBackward>)\n",
      "tensor(0.4343, grad_fn=<BinaryCrossEntropyBackward>)\n"
     ]
    }
   ],
   "source": [
    "for i in range(1000):\n",
    "    output_data_train = model_logreg( input_data_train_tens ) #calcolo l'uscita\n",
    "    loss = error(output_data_train, label_train_tens)         #calcolo l'errore\n",
    "    loss.backward()        #calcolo del gradiente\n",
    "    optimizer.step()       #aggiornamento ei parametri\n",
    "    optimizer.zero_grad()  #azzeramento del gradiente\n",
    "    if np.mod(i,100)==0:\n",
    "        print(loss)"
   ]
  },
  {
   "cell_type": "code",
   "execution_count": 45,
   "metadata": {},
   "outputs": [
    {
     "data": {
      "text/plain": [
       "tensor(0.4416, grad_fn=<BinaryCrossEntropyBackward>)"
      ]
     },
     "execution_count": 45,
     "metadata": {},
     "output_type": "execute_result"
    }
   ],
   "source": [
    "output_data_test = model_logreg( torch.from_numpy(input_data_test) )\n",
    "\n",
    "loss = error(output_data_test, label_test_tens)\n",
    "loss"
   ]
  },
  {
   "cell_type": "markdown",
   "metadata": {},
   "source": [
    "Una metrica per definire la bontà del modello è la curva ROC.<br>\n",
    "Un'occhiata alla pagina di Wikipedia vi chiarirà tutto sulla [curva ROC](https://en.wikipedia.org/wiki/Receiver_operating_characteristic).<br>\n",
    "Facciamo il grafico della curva ROC, usando la funzione roc_curve() di scikit-learn. Il codice sotto è un adattamento dell'esempio sulla pagina di scikit-learn [Receiver Operating Characteristic (ROC)](https://scikit-learn.org/stable/auto_examples/model_selection/plot_roc.html).  "
   ]
  },
  {
   "cell_type": "code",
   "execution_count": 46,
   "metadata": {},
   "outputs": [],
   "source": [
    "from sklearn.metrics import roc_curve"
   ]
  },
  {
   "cell_type": "code",
   "execution_count": 47,
   "metadata": {},
   "outputs": [],
   "source": [
    "fpr_train, tpr_train, _ = roc_curve(label_train_tens,output_data_train.detach())\n",
    "fpr_test, tpr_test, _   = roc_curve(label_test_tens ,output_data_test.detach())"
   ]
  },
  {
   "cell_type": "code",
   "execution_count": 48,
   "metadata": {},
   "outputs": [
    {
     "data": {
      "image/png": "[encoded data removed]",
      "text/plain": [
       "<Figure size 432x288 with 1 Axes>"
      ]
     },
     "metadata": {
      "needs_background": "light"
     },
     "output_type": "display_data"
    }
   ],
   "source": [
    "fgr1 = plt.figure()\n",
    "lw = 2\n",
    "plt.plot(fpr_test, tpr_test, color='darkorange', label=\"test\", lw=lw)\n",
    "plt.plot(fpr_train, tpr_train, color='darkgreen', label=\"train\", lw=lw)\n",
    "plt.plot([0, 1], [0, 1], color='navy', lw=lw, linestyle='--')\n",
    "plt.xlim([0.0, 1])\n",
    "plt.ylim([0.0, 1.05])\n",
    "plt.xticks(np.arange(0, 1, 0.1))\n",
    "plt.yticks(np.arange(0, 1, 0.1))\n",
    "plt.xlabel('False Positive Rate')\n",
    "plt.ylabel('True Positive Rate')\n",
    "plt.title('Receiver operating characteristic (ROC curve)')\n",
    "plt.legend(loc=\"lower right\")\n",
    "plt.grid(which='both')\n",
    "plt.show()"
   ]
  },
  {
   "cell_type": "markdown",
   "metadata": {},
   "source": [
    "Una metrica più semplice è la confusion matrix. Che può essere spiegata con il grafico sotto.<br>\n",
    "Come si vede ho due assi, valore vero e valore predetto.<br>\n",
    "Ogni esempio del dataset può essere inserito in una delle quattro classi:\n",
    "- true positive (tp): il valore vero è 1 e il valore predetto è 1\n",
    "- false positive (fp): il valore vero è 0 ma il valore predetto è 1\n",
    "- true negative (tn): il valore vero è 0 e il valore predetto è 0\n",
    "- false negative (fn): il valore vero è 1 ma il valore predetto è 0\n",
    "\n",
    "Come si intuisce due delle classi sono correttamente classificate (true positive e true negative), mentre le altre due sono classificate erroneamente."
   ]
  },
  {
   "cell_type": "markdown",
   "metadata": {},
   "source": [
    "![title](https://www.1week4.com/wp-content/uploads/2019/07/logistic-regression1-e1562588720843.png)"
   ]
  },
  {
   "cell_type": "markdown",
   "metadata": {},
   "source": [
    "Scikit-learn ci mette a disposizione la funzione confusion_matrix() per fare questo calcolo:"
   ]
  },
  {
   "cell_type": "code",
   "execution_count": 49,
   "metadata": {},
   "outputs": [],
   "source": [
    "from sklearn.metrics import confusion_matrix"
   ]
  },
  {
   "cell_type": "code",
   "execution_count": 50,
   "metadata": {},
   "outputs": [],
   "source": [
    "output_data_train = model_logreg( input_data_train_tens )\n",
    "output_data_train = (output_data_train.detach()>0.5).numpy()"
   ]
  },
  {
   "cell_type": "code",
   "execution_count": 51,
   "metadata": {},
   "outputs": [
    {
     "data": {
      "text/plain": [
       "(6152, 811, 1372, 2165)"
      ]
     },
     "execution_count": 51,
     "metadata": {},
     "output_type": "execute_result"
    }
   ],
   "source": [
    "tn, fp, fn, tp = confusion_matrix(label_train, output_data_train ).ravel()\n",
    "tn, fp, fn, tp"
   ]
  },
  {
   "cell_type": "markdown",
   "metadata": {},
   "source": [
    "Con questi valori posso costruire altre metriche:\n",
    "\n",
    "\n",
    "\\begin{equation}\n",
    "Accuratezza: \\quad A = \\frac{\\text{nr. di esempi correttamente classificati}}{\\text{nr. totale di esempi}} = \\frac{tp+tn}{tp+tn+fn+fp}\n",
    "\\end{equation}\n",
    "\n",
    "\n",
    "\\begin{equation}\n",
    "Precisione: \\quad P = \\frac{\\text{nr. di true positive}}{\\text{nr. di predizioni positive}} = \\frac{tp}{tp+fp}\n",
    "\\end{equation}\n",
    "\n",
    "\n",
    "\\begin{equation}\n",
    "Recall: \\quad R = \\frac{\\text{nr. di true positive}}{\\text{nr. veri positivi}} = \\frac{tp}{tp+fn}\n",
    "\\end{equation}\n",
    "\n",
    "\n",
    "\\begin{equation}\n",
    "F_1 score: \\quad F_1 = 2 \\frac{P\\cdot R}{P+R}\n",
    "\\end{equation}"
   ]
  },
  {
   "cell_type": "code",
   "execution_count": 52,
   "metadata": {},
   "outputs": [
    {
     "name": "stdout",
     "output_type": "stream",
     "text": [
      "L'accuratezza è 79.2%\n",
      "La precisione è 72.7%\n",
      "Il recall è 61.2%\n",
      "Il punteggio F1 è 66.5%\n"
     ]
    }
   ],
   "source": [
    "A = (tp+tn)/(tp+tn+fn+fp)\n",
    "P = tp/(tp+fp)\n",
    "R = tp/(tp+fn)\n",
    "F1 = 2*(P*R)/(P+R)\n",
    "print('L\\'accuratezza è %0.1f%%' %(A*100))\n",
    "print('La precisione è %0.1f%%' %(P*100))\n",
    "print('Il recall è %0.1f%%' %(R*100))\n",
    "print('Il punteggio F1 è %0.1f%%' %(F1*100))"
   ]
  },
  {
   "cell_type": "markdown",
   "metadata": {},
   "source": [
    "Un punteggio F1 non molto al di sopra del 50% (probabilità di indovinare il lato di una moneta bilanciata) non è un gran punteggio. Vediamo se riesco a tirarne fuori qualcosa di più."
   ]
  },
  {
   "cell_type": "markdown",
   "metadata": {},
   "source": [
    "Ricordiamo come funziona la regressione logistica. Per semplificare consideriamo il caso di due ingressi $x1$ e $x2$. <br>\n",
    "Gli ingressi sono combinati linearnemente con i pesi $w1$ e $w2$, un fattore bias $b$ viene sommato: $z=w_1 \\cdot x_1 + w_2 \\cdot x_2 + b$<br>\n",
    "La somma viene applicata alla funzione sigmoid $\\sigma(z)$, la cui uscita è compresa tra 0 e 1.<br>\n",
    "Sul risultato della funzione sigmoid viene fatta la decisione:\n",
    "\\begin{equation}\n",
    "\\sigma(z) > 0.5 \\implies y=1\n",
    "\\end{equation}\n",
    "\\begin{equation}\n",
    "\\sigma(z) \\le 0.5 \\implies y=0\n",
    "\\end{equation}"
   ]
  },
  {
   "cell_type": "code",
   "execution_count": 53,
   "metadata": {},
   "outputs": [
    {
     "data": {
      "image/png": "[encoded data removed]",
      "text/plain": [
       "<Figure size 432x288 with 1 Axes>"
      ]
     },
     "metadata": {
      "needs_background": "light"
     },
     "output_type": "display_data"
    }
   ],
   "source": [
    "x = np.arange(-10,10,0.1)\n",
    "x_tens = torch.from_numpy(x)\n",
    "y = torch.sigmoid( x_tens )\n",
    "\n",
    "plt.plot( x,y.numpy() )\n",
    "plt.xticks(np.arange(-10, 10, 2.5))\n",
    "plt.yticks(np.arange(0, 1, 0.1))\n",
    "plt.grid(which='both')\n",
    "plt.xlabel('z')\n",
    "plt.ylabel('sigma(z)')\n",
    "plt.title('funzione Sigmoid')\n",
    "plt.show()"
   ]
  },
  {
   "cell_type": "markdown",
   "metadata": {},
   "source": [
    "Come si vede dal grafico della funzione Sigmoid sopra, $\\sigma(z)$ è maggiore di 0.5 se z > 0. Ovvero se:\n",
    "\n",
    "\\begin{equation}\n",
    "w_1 \\cdot x_1 + w_2 \\cdot x_2 + b > 0\n",
    "\\end{equation}\n",
    "\n",
    "La disequazione sopra definisce una regione dello spazio bidimensionale delimitata dalla retta:\n",
    "$x_2 = -\\frac{w_1}{w_2} x_1 - \\frac{b}{w_2}$\n",
    "\n",
    "Questa divisione dello spazio può andare bene in alcuni casi casi, per esempio nella situazione sotto la retta riesce a classificare abbastanza bene tra punti verdi e punti rossi."
   ]
  },
  {
   "cell_type": "code",
   "execution_count": 54,
   "metadata": {},
   "outputs": [
    {
     "data": {
      "image/png": "[encoded data removed]",
      "text/plain": [
       "<Figure size 432x288 with 1 Axes>"
      ]
     },
     "metadata": {
      "needs_background": "light"
     },
     "output_type": "display_data"
    }
   ],
   "source": [
    "#Questo codice serve solo per la rappresentazione di un concetto\n",
    "fgr2 = plt.figure()\n",
    "x = np.arange(0,10,0.1)\n",
    "y = -5*x + 50\n",
    "# x1 = np.random()\n",
    "x1 = 4 * np.random.randn(500)+5\n",
    "y1 = 20 * np.random.randn(500)+25\n",
    "yn = 5 * np.random.randn(500)\n",
    "plt.plot(x,y, label=\"x2 = -5*x1 + 50\", lw=3)\n",
    "plt.scatter(x1[y1>(-5*x1+50+yn)],y1[y1>(-5*x1+50+yn)],color=\"green\")\n",
    "plt.scatter(x1[y1<=(-5*x1+50+yn)],y1[y1<=(-5*x1+50+yn)],color=\"red\")\n",
    "plt.xlim((0,10))\n",
    "plt.ylim((0,50))\n",
    "plt.xlabel('x1')\n",
    "plt.ylabel('x2')\n",
    "plt.legend()\n",
    "plt.show()"
   ]
  },
  {
   "cell_type": "markdown",
   "metadata": {},
   "source": [
    "Invece nel caso rappresentato sotto, una retta non darebbe buoni risultati nella classificazione tra punti rossi e verdi. Serve invece qualcosa come una circonferenza. Ovvero qualcosa del tipo:\n",
    "\\begin{equation}\n",
    "(x_1-x_{1,0})^2 + (x_2-x_{2,0})^2 = R^2\n",
    "\\end{equation}\n",
    "\n",
    "Quindi occorre che nel modello di regressione compaiano anche i termini al quadrato degli ingressi $x_1$ e $x_2$.<br>\n",
    "Questa tecnica si chiama features mapping, e consiste nel definire (mappare) come nuove features di ingresso le potenze degli ingressi originali e tutti i possibili prodotti. Per esempio, nel caso sotto potrei considerare come features di ingresso i seguenti:\n",
    "\n",
    "\\begin{equation}\n",
    "input =\n",
    "\\begin{bmatrix}\n",
    "x_1\\cr\n",
    "x_2\\cr\n",
    "x_1\\cdot x_2\\cr\n",
    "x_1^2\\cr\n",
    "x_2^2\n",
    "\\end{bmatrix}\n",
    "\\end{equation}\n",
    "\n",
    "Una volta introdotti i termini quadratici tra gli ingressi, l'ottimizzatore riuscirà (speriamo) a trovare la giusta combinazione di questi per ottenere il contorno di decisione di forma circolare come nella figura sottostante."
   ]
  },
  {
   "cell_type": "code",
   "execution_count": 55,
   "metadata": {},
   "outputs": [
    {
     "data": {
      "image/png": "[encoded data removed]",
      "text/plain": [
       "<Figure size 432x432 with 1 Axes>"
      ]
     },
     "metadata": {
      "needs_background": "light"
     },
     "output_type": "display_data"
    }
   ],
   "source": [
    "#Questo codice serve solo per la rappresentazione di un concetto\n",
    "fig, ax = plt.subplots(figsize=(6,6))\n",
    "x = np.arange(0,10,0.1)\n",
    "y = -5*x + 50\n",
    "# x1 = np.random()\n",
    "x1 = 3 * np.random.randn(500)+5\n",
    "y1 = 3 * np.random.randn(500)+5\n",
    "yn = 2 * np.random.randn(500)\n",
    "# plt.plot(x,y, label=\"x2 = -5*x1 + 50\", lw=3)\n",
    "extern = ((x1-5)**2 + (y1-5)**2 -2**2 > yn)\n",
    "intern = ((x1-5)**2 + (y1-5)**2 -2**2 <= yn)\n",
    "plt.scatter(x1[extern],y1[extern],color=\"green\")\n",
    "plt.scatter(x1[intern],y1[intern],color=\"red\")\n",
    "circle1 = plt.Circle((5, 5), 2, color='b', fill=False, lw=2.5)\n",
    "ax.add_artist(circle1)\n",
    "plt.xlim((0,10))\n",
    "plt.ylim((0,10))\n",
    "plt.xlabel('x1')\n",
    "plt.ylabel('x2')\n",
    "# plt.gca().set_aspect('equal', adjustable='box')\n",
    "# plt.legend()\n",
    "plt.show()"
   ]
  },
  {
   "cell_type": "markdown",
   "metadata": {},
   "source": [
    "La cosa che potrebbe non essere immediatamente chiara adesso è: cosa vuol dire aggiungere i termini non lineari agli ingressi?<br>\n",
    "Basta guardare la figura sotto per rendersene conto. Devo aggiungere al np.array() originario le colonne con i termini non lineari."
   ]
  },
  {
   "cell_type": "markdown",
   "metadata": {},
   "source": [
    "![title](https://www.1week4.com/wp-content/uploads/2019/07/genera-termini-non-lineari3-e1562669079419.png)"
   ]
  },
  {
   "cell_type": "markdown",
   "metadata": {},
   "source": [
    "Ovviamente una volta appresa la tecnica del features mapping possiamo sbizzarrirci ad aggiungere potenze di qualsiasi ordine. In questo modo il contorno che definisce la soglia di decisione prenderà le forme più disparate (attenzione all'overfitting!). Facciamo ancora un esempio con le potenze al cubo.<br>\n",
    "In questo caso gli ingressi saranno:\n",
    "\\begin{equation}\n",
    "input =\n",
    "\\begin{bmatrix}\n",
    "x_1\\cr\n",
    "x_2\\cr\n",
    "x_1\\cdot x_2\\cr\n",
    "x_1^2\\cr\n",
    "x_2^2\\cr\n",
    "x_1^2\\cdot x_2\\cr\n",
    "x_1\\cdot x_2^2\\cr\n",
    "x_1^3\\cr\n",
    "x_2^3\n",
    "\\end{bmatrix}\n",
    "\\end{equation}"
   ]
  },
  {
   "cell_type": "markdown",
   "metadata": {},
   "source": [
    "Per generare i termini non lineari di un numpy array x (ogni colonna una feature diversa) uso il codice sotto. La programmazione di questo mi ha dato abbastanza mal di testa, usatelo con cautela."
   ]
  },
  {
   "cell_type": "code",
   "execution_count": 56,
   "metadata": {},
   "outputs": [],
   "source": [
    "def generateNonLinearFeatures(x,max_exp):\n",
    "#given a marix with features in column, generate a new matrix with all the polynomial combination up to max_exp\n",
    "\n",
    "    import itertools\n",
    "\n",
    "    terms = []\n",
    "    num_feat = x.shape[1]\n",
    "    \n",
    "    #il prossimo comando genera una lista delle possibili combinazioni delle variabili fino al max_exp\n",
    "    #Esempio: num_Feat=2 max_exp=2 genera:\n",
    "    #[(0, 0),  (0, 1), (0, 2), (1, 1), (1, 2), (2, 2)] corrispondenti a:\n",
    "    # x^0 x^0  x^0 x^1 x^0 x^2 x^1 x^1 x^1 x^2 x^2 x^2\n",
    "    terms = list(itertools.combinations_with_replacement(list(range(num_feat+1)), max_exp))\n",
    "    \n",
    "    if 'pol' in locals(): #rimuove la variabile pol se esiste già\n",
    "        del pol\n",
    "\n",
    "    for i in range(len(terms)): \n",
    "        polcol = np.ones(x.shape[0]).reshape(x.shape[0],1)\n",
    "        sum=0\n",
    "        for j in range(max_exp):\n",
    "#             print(i,j) #for debug only\n",
    "            sum=sum+int(terms[i][j])\n",
    "            if terms[i][j]!=0:\n",
    "                polcol = np.multiply(polcol,x[:,int(terms[i][j])-1].reshape(x.shape[0],1))\n",
    "        if (sum!=0): #exclude case all zeros (0,0), don't add the column\n",
    "            if 'pol' in locals():\n",
    "                pol = np.column_stack([pol, polcol])\n",
    "            else:\n",
    "                pol = polcol\n",
    "\n",
    "    return pol"
   ]
  },
  {
   "cell_type": "markdown",
   "metadata": {},
   "source": [
    "Per generare le features non lineari decido di rinunciare alla codifica dei dottori perché sono 109 colonne che renderebbero il calcolo molto pesante. Potrei concatenare la lista alla fine senza termini non lineari. Per il momento la lascio fuori.  "
   ]
  },
  {
   "cell_type": "markdown",
   "metadata": {},
   "source": [
    "Riparto dal dataframe dei pazienti, normalizzato:"
   ]
  },
  {
   "cell_type": "code",
   "execution_count": 57,
   "metadata": {},
   "outputs": [],
   "source": [
    "lista_pazienti_norm2 = lista_pazienti_norm.drop(columns=['Diabetic','Physician','PatientID'])\n",
    "# lista_pazienti_norm2.values"
   ]
  },
  {
   "cell_type": "markdown",
   "metadata": {},
   "source": [
    "Genero i termini non lineari fino al secondo ordine, si noti che la funzione generateNonLinearFeatures necessita come argomento un array (non un dataframe) per cui devo usare l'attributo <strong>.values</strong>"
   ]
  },
  {
   "cell_type": "code",
   "execution_count": 58,
   "metadata": {},
   "outputs": [],
   "source": [
    "lista_pazient_norm_nl = generateNonLinearFeatures(lista_pazienti_norm2.values,2)"
   ]
  },
  {
   "cell_type": "markdown",
   "metadata": {},
   "source": [
    "Ridefinisco la label e verifico che la lunghezza dei vettori sia corretta"
   ]
  },
  {
   "cell_type": "code",
   "execution_count": 59,
   "metadata": {},
   "outputs": [
    {
     "data": {
      "text/plain": [
       "((15000, 44), (15000,))"
      ]
     },
     "execution_count": 59,
     "metadata": {},
     "output_type": "execute_result"
    }
   ],
   "source": [
    "label = lista_pazienti_norm.Diabetic.values\n",
    "lista_pazient_norm_nl.shape, label.shape"
   ]
  },
  {
   "cell_type": "markdown",
   "metadata": {},
   "source": [
    "Divido il dataset in test e train:"
   ]
  },
  {
   "cell_type": "code",
   "execution_count": 60,
   "metadata": {},
   "outputs": [
    {
     "data": {
      "text/plain": [
       "((10500, 44), (4500, 44), (10500,), (4500,))"
      ]
     },
     "execution_count": 60,
     "metadata": {},
     "output_type": "execute_result"
    }
   ],
   "source": [
    "lista_pazienti_norm_nl_train, lista_pazienti_norm_nl_test, label_train, label_test = train_test_split(lista_pazient_norm_nl, label, test_size=0.3)\n",
    "\n",
    "lista_pazienti_norm_nl_train.shape, lista_pazienti_norm_nl_test.shape, label_train.shape, label_test.shape"
   ]
  },
  {
   "cell_type": "markdown",
   "metadata": {},
   "source": [
    "Converto gli array in tensori con elementi float:"
   ]
  },
  {
   "cell_type": "code",
   "execution_count": 61,
   "metadata": {},
   "outputs": [],
   "source": [
    "input_data_train_tens = torch.from_numpy(lista_pazienti_norm_nl_train).type(dtype=torch.float)\n",
    "input_data_test_tens = torch.from_numpy(lista_pazienti_norm_nl_test).type(dtype=torch.float)\n",
    "label_train_tens = torch.from_numpy(label_train).type(dtype=torch.float).view(-1,1)\n",
    "label_test_tens = torch.from_numpy(label_test).type(dtype=torch.float).view(-1,1)"
   ]
  },
  {
   "cell_type": "markdown",
   "metadata": {},
   "source": [
    "Sono un po' paranoico con le verifiche:"
   ]
  },
  {
   "cell_type": "code",
   "execution_count": 62,
   "metadata": {},
   "outputs": [
    {
     "data": {
      "text/plain": [
       "(torch.Size([10500, 44]), torch.Size([10500, 1]))"
      ]
     },
     "execution_count": 62,
     "metadata": {},
     "output_type": "execute_result"
    }
   ],
   "source": [
    "input_data_train_tens.shape, label_train_tens.shape"
   ]
  },
  {
   "cell_type": "markdown",
   "metadata": {},
   "source": [
    "Ridefinisco il modello sequenziale con il giusto numero di ingressi:"
   ]
  },
  {
   "cell_type": "code",
   "execution_count": 63,
   "metadata": {},
   "outputs": [],
   "source": [
    "model_logreg = nn.Sequential(\n",
    "    nn.Linear(input_data_train_tens.shape[1],1), \n",
    "    nn.Sigmoid()\n",
    ")"
   ]
  },
  {
   "cell_type": "markdown",
   "metadata": {},
   "source": [
    "definisco l'ottimizzatore"
   ]
  },
  {
   "cell_type": "code",
   "execution_count": 64,
   "metadata": {},
   "outputs": [],
   "source": [
    "learning_rate = 0.1\n",
    "optimizer = torch.optim.Adam(model_logreg.parameters(), lr = learning_rate)"
   ]
  },
  {
   "cell_type": "markdown",
   "metadata": {},
   "source": [
    "e il loop di training del modello"
   ]
  },
  {
   "cell_type": "code",
   "execution_count": 65,
   "metadata": {},
   "outputs": [
    {
     "name": "stdout",
     "output_type": "stream",
     "text": [
      "tensor(0.7127, grad_fn=<BinaryCrossEntropyBackward>)\n",
      "tensor(0.4006, grad_fn=<BinaryCrossEntropyBackward>)\n",
      "tensor(0.3835, grad_fn=<BinaryCrossEntropyBackward>)\n",
      "tensor(0.3781, grad_fn=<BinaryCrossEntropyBackward>)\n",
      "tensor(0.3759, grad_fn=<BinaryCrossEntropyBackward>)\n",
      "tensor(0.3747, grad_fn=<BinaryCrossEntropyBackward>)\n",
      "tensor(0.3739, grad_fn=<BinaryCrossEntropyBackward>)\n",
      "tensor(0.3733, grad_fn=<BinaryCrossEntropyBackward>)\n",
      "tensor(0.3727, grad_fn=<BinaryCrossEntropyBackward>)\n",
      "tensor(0.3722, grad_fn=<BinaryCrossEntropyBackward>)\n"
     ]
    }
   ],
   "source": [
    "for i in range(1000):\n",
    "    output_data_train = model_logreg( input_data_train_tens ) #calcolo l'uscita\n",
    "    loss = error(output_data_train, label_train_tens)         #calcolo l'errore\n",
    "    loss.backward()        #calcolo del gradiente\n",
    "    optimizer.step()       #aggiornamento dei parametri\n",
    "    optimizer.zero_grad()  #azzeramento del gradiente\n",
    "    if np.mod(i,100)==0:\n",
    "        print(loss)"
   ]
  },
  {
   "cell_type": "markdown",
   "metadata": {},
   "source": [
    "calcolo l'uscita per il dataset si test, per il dataset di train ce l'ho già dal loop precedente:"
   ]
  },
  {
   "cell_type": "code",
   "execution_count": 66,
   "metadata": {},
   "outputs": [],
   "source": [
    "output_data_test = model_logreg( input_data_test_tens )"
   ]
  },
  {
   "cell_type": "markdown",
   "metadata": {},
   "source": [
    "Calcolo e grafico le curve ROC "
   ]
  },
  {
   "cell_type": "code",
   "execution_count": 67,
   "metadata": {},
   "outputs": [],
   "source": [
    "fpr_train, tpr_train, _ = roc_curve(label_train_tens,output_data_train.detach())\n",
    "fpr_test, tpr_test, _   = roc_curve(label_test_tens ,output_data_test.detach())"
   ]
  },
  {
   "cell_type": "code",
   "execution_count": 68,
   "metadata": {},
   "outputs": [
    {
     "data": {
      "image/png": "[encoded data removed]",
      "text/plain": [
       "<Figure size 432x288 with 1 Axes>"
      ]
     },
     "metadata": {
      "needs_background": "light"
     },
     "output_type": "display_data"
    }
   ],
   "source": [
    "fgr1 = plt.figure()\n",
    "lw = 2\n",
    "plt.plot(fpr_test, tpr_test, color='darkorange', label=\"test\", lw=lw)\n",
    "plt.plot(fpr_train, tpr_train, color='darkgreen', label=\"train\", lw=lw)\n",
    "plt.plot([0, 1], [0, 1], color='navy', lw=lw, linestyle='--')\n",
    "plt.xlim([0.0, 1])\n",
    "plt.ylim([0.0, 1.05])\n",
    "plt.xticks(np.arange(0, 1, 0.1))\n",
    "plt.yticks(np.arange(0, 1, 0.1))\n",
    "plt.xlabel('False Positive Rate')\n",
    "plt.ylabel('True Positive Rate')\n",
    "plt.title('Receiver operating characteristic (ROC curve)')\n",
    "plt.legend(loc=\"lower right\")\n",
    "plt.grid(which='both')\n",
    "plt.show()"
   ]
  },
  {
   "cell_type": "markdown",
   "metadata": {},
   "source": [
    "Applico la funzione di decisione della classe:"
   ]
  },
  {
   "cell_type": "code",
   "execution_count": 69,
   "metadata": {},
   "outputs": [],
   "source": [
    "# output_data_train = model_logreg( input_data_train_tens )\n",
    "# output_data_train_bin = (output_data_train.detach()>0.5).numpy()\n",
    "output_data_test_bin = (output_data_test.detach()>0.5).numpy()"
   ]
  },
  {
   "cell_type": "markdown",
   "metadata": {},
   "source": [
    "calcolo la matrice di confusione:"
   ]
  },
  {
   "cell_type": "code",
   "execution_count": 70,
   "metadata": {},
   "outputs": [],
   "source": [
    "tn, fp, fn, tp = confusion_matrix(label_test_tens, output_data_test_bin ).ravel()"
   ]
  },
  {
   "cell_type": "markdown",
   "metadata": {},
   "source": [
    "e le quantità ad essa connesse:"
   ]
  },
  {
   "cell_type": "code",
   "execution_count": 71,
   "metadata": {},
   "outputs": [
    {
     "name": "stdout",
     "output_type": "stream",
     "text": [
      "L'accuratezza è 82.6%\n",
      "La precisione è 77.2%\n",
      "Il recall è 68.9%\n",
      "Il punteggio F1 è 72.8%\n"
     ]
    }
   ],
   "source": [
    "A = (tp+tn)/(tp+tn+fn+fp)\n",
    "P = tp/(tp+fp)\n",
    "R = tp/(tp+fn)\n",
    "F1 = 2*(P*R)/(P+R)\n",
    "print('L\\'accuratezza è %0.1f%%' %(A*100))\n",
    "print('La precisione è %0.1f%%' %(P*100))\n",
    "print('Il recall è %0.1f%%' %(R*100))\n",
    "print('Il punteggio F1 è %0.1f%%' %(F1*100))"
   ]
  },
  {
   "cell_type": "markdown",
   "metadata": {},
   "source": [
    "Quindi aggiungendo i termini quadratici il punteggio F1 è salito dal 66% al 73%."
   ]
  },
  {
   "cell_type": "markdown",
   "metadata": {},
   "source": [
    "Proviamo ad aggiungere i termini al cubo. Ovviamente una cosa intelligente sarebbe quella di raccogliere tutti gli step in una funzione. Cosa che non farò, affidandomi al più veloce CUT and PASTE di Jupyter."
   ]
  },
  {
   "cell_type": "code",
   "execution_count": 72,
   "metadata": {},
   "outputs": [
    {
     "name": "stdout",
     "output_type": "stream",
     "text": [
      "tensor(0.7082, grad_fn=<BinaryCrossEntropyBackward>)\n",
      "tensor(0.3818, grad_fn=<BinaryCrossEntropyBackward>)\n",
      "tensor(0.3548, grad_fn=<BinaryCrossEntropyBackward>)\n",
      "tensor(0.3331, grad_fn=<BinaryCrossEntropyBackward>)\n",
      "tensor(0.3163, grad_fn=<BinaryCrossEntropyBackward>)\n",
      "tensor(0.3033, grad_fn=<BinaryCrossEntropyBackward>)\n",
      "tensor(0.2930, grad_fn=<BinaryCrossEntropyBackward>)\n",
      "tensor(0.2846, grad_fn=<BinaryCrossEntropyBackward>)\n",
      "tensor(0.2776, grad_fn=<BinaryCrossEntropyBackward>)\n",
      "tensor(0.2716, grad_fn=<BinaryCrossEntropyBackward>)\n"
     ]
    },
    {
     "data": {
      "image/png": "[encoded data removed]",
      "text/plain": [
       "<Figure size 432x288 with 1 Axes>"
      ]
     },
     "metadata": {
      "needs_background": "light"
     },
     "output_type": "display_data"
    },
    {
     "name": "stdout",
     "output_type": "stream",
     "text": [
      "L'accuratezza è 88.8%\n",
      "La precisione è 84.8%\n",
      "Il recall è 80.6%\n",
      "Il punteggio F1 è 82.6%\n"
     ]
    }
   ],
   "source": [
    "lista_pazient_norm_nl = generateNonLinearFeatures(lista_pazienti_norm2.values,3)\n",
    "label = lista_pazienti_norm.Diabetic.values\n",
    "lista_pazienti_norm_nl_train, lista_pazienti_norm_nl_test, label_train, label_test = train_test_split(lista_pazient_norm_nl, label, test_size=0.3)\n",
    "\n",
    "input_data_train_tens = torch.from_numpy(lista_pazienti_norm_nl_train).type(dtype=torch.float)\n",
    "input_data_test_tens = torch.from_numpy(lista_pazienti_norm_nl_test).type(dtype=torch.float)\n",
    "label_train_tens = torch.from_numpy(label_train).type(dtype=torch.float).view(-1,1)\n",
    "label_test_tens = torch.from_numpy(label_test).type(dtype=torch.float).view(-1,1)\n",
    "\n",
    "model_logreg = nn.Sequential(\n",
    "    nn.Linear(input_data_train_tens.shape[1],1), \n",
    "    nn.Sigmoid()\n",
    ")\n",
    "\n",
    "learning_rate = 0.1\n",
    "optimizer = torch.optim.Adam(model_logreg.parameters(), lr = learning_rate)\n",
    "\n",
    "for i in range(1000):\n",
    "    output_data_train = model_logreg( input_data_train_tens ) #calcolo l'uscita\n",
    "    loss = error(output_data_train, label_train_tens)         #calcolo l'errore\n",
    "    loss.backward()        #calcolo del gradiente\n",
    "    optimizer.step()       #aggiornamento ei parametri\n",
    "    optimizer.zero_grad()  #azzeramento del gradiente\n",
    "    if np.mod(i,100)==0:\n",
    "        print(loss)\n",
    "\n",
    "output_data_test = model_logreg( input_data_test_tens )\n",
    "\n",
    "fpr_train, tpr_train, _ = roc_curve(label_train_tens,output_data_train.detach())\n",
    "fpr_test, tpr_test, _   = roc_curve(label_test_tens ,output_data_test.detach())\n",
    "\n",
    "fgr1 = plt.figure()\n",
    "lw = 2\n",
    "plt.plot(fpr_test, tpr_test, color='darkorange', label=\"test\", lw=lw)\n",
    "plt.plot(fpr_train, tpr_train, color='darkgreen', label=\"train\", lw=lw)\n",
    "plt.plot([0, 1], [0, 1], color='navy', lw=lw, linestyle='--')\n",
    "plt.xlim([0.0, 1])\n",
    "plt.ylim([0.0, 1.05])\n",
    "plt.xticks(np.arange(0, 1, 0.1))\n",
    "plt.yticks(np.arange(0, 1, 0.1))\n",
    "plt.xlabel('False Positive Rate')\n",
    "plt.ylabel('True Positive Rate')\n",
    "plt.title('Receiver operating characteristic (ROC curve)')\n",
    "plt.legend(loc=\"lower right\")\n",
    "plt.grid(which='both')\n",
    "plt.show()\n",
    "\n",
    "# output_data_train = model_logreg( input_data_train_tens )\n",
    "# output_data_train_bin = (output_data_train.detach()>0.5).numpy()\n",
    "output_data_test_bin = (output_data_test.detach()>0.5).numpy()\n",
    "\n",
    "tn, fp, fn, tp = confusion_matrix(label_test_tens, output_data_test_bin ).ravel()\n",
    "\n",
    "A = (tp+tn)/(tp+tn+fn+fp)\n",
    "P = tp/(tp+fp)\n",
    "R = tp/(tp+fn)\n",
    "F1 = 2*(P*R)/(P+R)\n",
    "print('L\\'accuratezza è %0.1f%%' %(A*100))\n",
    "print('La precisione è %0.1f%%' %(P*100))\n",
    "print('Il recall è %0.1f%%' %(R*100))\n",
    "print('Il punteggio F1 è %0.1f%%' %(F1*100))"
   ]
  },
  {
   "cell_type": "markdown",
   "metadata": {},
   "source": [
    "Sembra che il gioco funzioni piuttosto bene, sono passato da un F1 di 73% ad uno di 83%. Vediamo fino a dove posso spingermi."
   ]
  },
  {
   "cell_type": "code",
   "execution_count": 73,
   "metadata": {},
   "outputs": [
    {
     "name": "stdout",
     "output_type": "stream",
     "text": [
      "tensor(0.6963, grad_fn=<BinaryCrossEntropyBackward>)\n",
      "tensor(0.3385, grad_fn=<BinaryCrossEntropyBackward>)\n",
      "tensor(0.2931, grad_fn=<BinaryCrossEntropyBackward>)\n",
      "tensor(0.2704, grad_fn=<BinaryCrossEntropyBackward>)\n",
      "tensor(0.2565, grad_fn=<BinaryCrossEntropyBackward>)\n",
      "tensor(0.2472, grad_fn=<BinaryCrossEntropyBackward>)\n",
      "tensor(0.2404, grad_fn=<BinaryCrossEntropyBackward>)\n",
      "tensor(0.2353, grad_fn=<BinaryCrossEntropyBackward>)\n",
      "tensor(0.2313, grad_fn=<BinaryCrossEntropyBackward>)\n",
      "tensor(0.2286, grad_fn=<BinaryCrossEntropyBackward>)\n"
     ]
    },
    {
     "data": {
      "image/png": "[encoded data removed]",
      "text/plain": [
       "<Figure size 432x288 with 1 Axes>"
      ]
     },
     "metadata": {
      "needs_background": "light"
     },
     "output_type": "display_data"
    },
    {
     "name": "stdout",
     "output_type": "stream",
     "text": [
      "L'accuratezza è 89.9%\n",
      "La precisione è 86.0%\n",
      "Il recall è 82.9%\n",
      "Il punteggio F1 è 84.4%\n"
     ]
    }
   ],
   "source": [
    "lista_pazient_norm_nl = generateNonLinearFeatures(lista_pazienti_norm2.values,4)\n",
    "label = lista_pazienti_norm.Diabetic.values\n",
    "lista_pazienti_norm_nl_train, lista_pazienti_norm_nl_test, label_train, label_test = train_test_split(lista_pazient_norm_nl, label, test_size=0.3)\n",
    "\n",
    "input_data_train_tens = torch.from_numpy(lista_pazienti_norm_nl_train).type(dtype=torch.float)\n",
    "input_data_test_tens = torch.from_numpy(lista_pazienti_norm_nl_test).type(dtype=torch.float)\n",
    "label_train_tens = torch.from_numpy(label_train).type(dtype=torch.float).view(-1,1)\n",
    "label_test_tens = torch.from_numpy(label_test).type(dtype=torch.float).view(-1,1)\n",
    "\n",
    "model_logreg = nn.Sequential(\n",
    "    nn.Linear(input_data_train_tens.shape[1],1), \n",
    "    nn.Sigmoid()\n",
    ")\n",
    "\n",
    "learning_rate = 0.1\n",
    "optimizer = torch.optim.Adam(model_logreg.parameters(), lr = learning_rate)\n",
    "\n",
    "for i in range(1000):\n",
    "    output_data_train = model_logreg( input_data_train_tens ) #calcolo l'uscita\n",
    "    loss = error(output_data_train, label_train_tens)         #calcolo l'errore\n",
    "    loss.backward()        #calcolo del gradiente\n",
    "    optimizer.step()       #aggiornamento ei parametri\n",
    "    optimizer.zero_grad()  #azzeramento del gradiente\n",
    "    if np.mod(i,100)==0:\n",
    "        print(loss)\n",
    "\n",
    "output_data_test = model_logreg( input_data_test_tens )\n",
    "\n",
    "fpr_train, tpr_train, _ = roc_curve(label_train_tens,output_data_train.detach())\n",
    "fpr_test, tpr_test, _   = roc_curve(label_test_tens ,output_data_test.detach())\n",
    "\n",
    "fgr1 = plt.figure()\n",
    "lw = 2\n",
    "plt.plot(fpr_test, tpr_test, color='darkorange', label=\"test\", lw=lw)\n",
    "plt.plot(fpr_train, tpr_train, color='darkgreen', label=\"train\", lw=lw)\n",
    "plt.plot([0, 1], [0, 1], color='navy', lw=lw, linestyle='--')\n",
    "plt.xlim([0.0, 1])\n",
    "plt.ylim([0.0, 1.05])\n",
    "plt.xticks(np.arange(0, 1, 0.1))\n",
    "plt.yticks(np.arange(0, 1, 0.1))\n",
    "plt.xlabel('False Positive Rate')\n",
    "plt.ylabel('True Positive Rate')\n",
    "plt.title('Receiver operating characteristic (ROC curve)')\n",
    "plt.legend(loc=\"lower right\")\n",
    "plt.grid(which='both')\n",
    "plt.show()\n",
    "\n",
    "# output_data_train = model_logreg( input_data_train_tens )\n",
    "# output_data_train_bin = (output_data_train.detach()>0.5).numpy()\n",
    "output_data_test_bin = (output_data_test.detach()>0.5).numpy()\n",
    "\n",
    "tn, fp, fn, tp = confusion_matrix(label_test_tens, output_data_test_bin ).ravel()\n",
    "\n",
    "A = (tp+tn)/(tp+tn+fn+fp)\n",
    "P = tp/(tp+fp)\n",
    "R = tp/(tp+fn)\n",
    "F1 = 2*(P*R)/(P+R)\n",
    "print('L\\'accuratezza è %0.1f%%' %(A*100))\n",
    "print('La precisione è %0.1f%%' %(P*100))\n",
    "print('Il recall è %0.1f%%' %(R*100))\n",
    "print('Il punteggio F1 è %0.1f%%' %(F1*100))"
   ]
  },
  {
   "cell_type": "markdown",
   "metadata": {},
   "source": [
    "Da 83% a 84.5%, sono quasi al limite delle possibilità. Proviamo un altro step. "
   ]
  },
  {
   "cell_type": "code",
   "execution_count": 74,
   "metadata": {},
   "outputs": [
    {
     "name": "stdout",
     "output_type": "stream",
     "text": [
      "tensor(0.6859, grad_fn=<BinaryCrossEntropyBackward>)\n",
      "tensor(0.3103, grad_fn=<BinaryCrossEntropyBackward>)\n",
      "tensor(0.2702, grad_fn=<BinaryCrossEntropyBackward>)\n",
      "tensor(0.2514, grad_fn=<BinaryCrossEntropyBackward>)\n",
      "tensor(0.2401, grad_fn=<BinaryCrossEntropyBackward>)\n",
      "tensor(0.2325, grad_fn=<BinaryCrossEntropyBackward>)\n",
      "tensor(0.2271, grad_fn=<BinaryCrossEntropyBackward>)\n",
      "tensor(0.2229, grad_fn=<BinaryCrossEntropyBackward>)\n",
      "tensor(0.2196, grad_fn=<BinaryCrossEntropyBackward>)\n",
      "tensor(0.2169, grad_fn=<BinaryCrossEntropyBackward>)\n"
     ]
    },
    {
     "data": {
      "image/png": "[encoded data removed]",
      "text/plain": [
       "<Figure size 432x288 with 1 Axes>"
      ]
     },
     "metadata": {
      "needs_background": "light"
     },
     "output_type": "display_data"
    },
    {
     "name": "stdout",
     "output_type": "stream",
     "text": [
      "L'accuratezza è 89.8%\n",
      "La precisione è 86.2%\n",
      "Il recall è 83.0%\n",
      "Il punteggio F1 è 84.5%\n"
     ]
    }
   ],
   "source": [
    "lista_pazient_norm_nl = generateNonLinearFeatures(lista_pazienti_norm2.values,5)\n",
    "label = lista_pazienti_norm.Diabetic.values\n",
    "lista_pazienti_norm_nl_train, lista_pazienti_norm_nl_test, label_train, label_test = train_test_split(lista_pazient_norm_nl, label, test_size=0.3)\n",
    "\n",
    "input_data_train_tens = torch.from_numpy(lista_pazienti_norm_nl_train).type(dtype=torch.float)\n",
    "input_data_test_tens = torch.from_numpy(lista_pazienti_norm_nl_test).type(dtype=torch.float)\n",
    "label_train_tens = torch.from_numpy(label_train).type(dtype=torch.float).view(-1,1)\n",
    "label_test_tens = torch.from_numpy(label_test).type(dtype=torch.float).view(-1,1)\n",
    "\n",
    "model_logreg = nn.Sequential(\n",
    "    nn.Linear(input_data_train_tens.shape[1],1), \n",
    "    nn.Sigmoid()\n",
    ")\n",
    "\n",
    "learning_rate = 0.1\n",
    "optimizer = torch.optim.Adam(model_logreg.parameters(), lr = learning_rate)\n",
    "\n",
    "for i in range(1000):\n",
    "    output_data_train = model_logreg( input_data_train_tens ) #calcolo l'uscita\n",
    "    loss = error(output_data_train, label_train_tens)         #calcolo l'errore\n",
    "    loss.backward()        #calcolo del gradiente\n",
    "    optimizer.step()       #aggiornamento ei parametri\n",
    "    optimizer.zero_grad()  #azzeramento del gradiente\n",
    "    if np.mod(i,100)==0:\n",
    "        print(loss)\n",
    "\n",
    "output_data_test = model_logreg( input_data_test_tens )\n",
    "\n",
    "fpr_train, tpr_train, _ = roc_curve(label_train_tens,output_data_train.detach())\n",
    "fpr_test, tpr_test, _   = roc_curve(label_test_tens ,output_data_test.detach())\n",
    "\n",
    "fgr1 = plt.figure()\n",
    "lw = 2\n",
    "plt.plot(fpr_test, tpr_test, color='darkorange', label=\"test\", lw=lw)\n",
    "plt.plot(fpr_train, tpr_train, color='darkgreen', label=\"train\", lw=lw)\n",
    "plt.plot([0, 1], [0, 1], color='navy', lw=lw, linestyle='--')\n",
    "plt.xlim([0.0, 1])\n",
    "plt.ylim([0.0, 1.05])\n",
    "plt.xticks(np.arange(0, 1, 0.1))\n",
    "plt.yticks(np.arange(0, 1, 0.1))\n",
    "plt.xlabel('False Positive Rate')\n",
    "plt.ylabel('True Positive Rate')\n",
    "plt.title('Receiver operating characteristic (ROC curve)')\n",
    "plt.legend(loc=\"lower right\")\n",
    "plt.grid(which='both')\n",
    "plt.show()\n",
    "\n",
    "# output_data_train = model_logreg( input_data_train_tens )\n",
    "# output_data_train_bin = (output_data_train.detach()>0.5).numpy()\n",
    "output_data_test_bin = (output_data_test.detach()>0.5).numpy()\n",
    "\n",
    "tn, fp, fn, tp = confusion_matrix(label_test_tens, output_data_test_bin ).ravel()\n",
    "\n",
    "A = (tp+tn)/(tp+tn+fn+fp)\n",
    "P = tp/(tp+fp)\n",
    "R = tp/(tp+fn)\n",
    "F1 = 2*(P*R)/(P+R)\n",
    "print('L\\'accuratezza è %0.1f%%' %(A*100))\n",
    "print('La precisione è %0.1f%%' %(P*100))\n",
    "print('Il recall è %0.1f%%' %(R*100))\n",
    "print('Il punteggio F1 è %0.1f%%' %(F1*100))"
   ]
  },
  {
   "cell_type": "markdown",
   "metadata": {},
   "source": [
    "Il valore di F1 è rimasto intorno al 84%, quindi nessun miglioramento nel passare dalla quarta potenza alla quinta. Inoltre c'è una certa distanza tra la curva riguardante i dati di train e quella di test. Questo indica che c'è un certo overfitting."
   ]
  }
 ],
 "metadata": {
  "kernelspec": {
   "display_name": "Python 3",
   "language": "python",
   "name": "python3"
  },
  "language_info": {
   "codemirror_mode": {
    "name": "ipython",
    "version": 3
   },
   "file_extension": ".py",
   "mimetype": "text/x-python",
   "name": "python",
   "nbconvert_exporter": "python",
   "pygments_lexer": "ipython3",
   "version": "3.6.8"
  }
 },
 "nbformat": 4,
 "nbformat_minor": 2
}
