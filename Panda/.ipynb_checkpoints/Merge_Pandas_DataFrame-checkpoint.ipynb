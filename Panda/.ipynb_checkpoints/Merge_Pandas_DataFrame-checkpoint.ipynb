{
 "cells": [
  {
   "cell_type": "markdown",
   "metadata": {},
   "source": [
    "## Unire due Pandas DataFrame\n",
    "In questo articolo voglio vedere come unire 2 DataFrame di Pandas. Il problema è inquadrato nella figura sotto, dati due DataFrame che contengono dati diversi voglio combinare questi due in modo da avere un unico DataFrame alla fine del processo.\n",
    "\n",
    "Pandas mette a disposizione la funzione **merge()** per fare questa unione.\n",
    "\n",
    "L'unione verrà fatta sulla base di una chiave (**id** nell'esempio), gli elementi dei due DataFrame con lo stesso id vengono combinati in una unica riga nel nuovo DataFrame.\n",
    "\n",
    "Se un id non è comune tra i due DataFrame... ci sono diverse possibilità. Nell'esempio sotto ho fatto un **inner** merge in cui ho usato solo gli id comuni ai due DataFrame di partenza. Vedremo più avanti le altre possibilità."
   ]
  },
  {
   "cell_type": "markdown",
   "metadata": {},
   "source": [
    "![title](https://www.1week4.com/wp-content/uploads/2019/11/pandas-dataframe-merge3.jpg)"
   ]
  },
  {
   "cell_type": "markdown",
   "metadata": {},
   "source": [
    "## Unione orizzontale"
   ]
  },
  {
   "cell_type": "markdown",
   "metadata": {},
   "source": [
    "Generiamo 2 DataFrame "
   ]
  },
  {
   "cell_type": "code",
   "execution_count": 1,
   "metadata": {},
   "outputs": [],
   "source": [
    "import pandas as pd\n",
    "\n",
    "primo_df = pd.DataFrame(columns=(\"id_paziente\", \"nome\", \"cognome\"), data=[[1, 'Pippo', 'Baudo'], \n",
    "                                                                          [2, 'Nino', 'Frassica'], \n",
    "                                                                          [3, 'Renzo', 'Arbore']])\n",
    "secondo_df = pd.DataFrame(columns=(\"id_paziente\", \"altezza\", \"peso\"), data=[[2, 173, 97], \n",
    "                                                                            [1, 184, 98]])"
   ]
  },
  {
   "cell_type": "code",
   "execution_count": 2,
   "metadata": {},
   "outputs": [
    {
     "name": "stdout",
     "output_type": "stream",
     "text": [
      "   id_paziente   nome   cognome\n",
      "0            1  Pippo     Baudo\n",
      "1            2   Nino  Frassica\n",
      "2            3  Renzo    Arbore\n",
      "\n",
      "\n",
      "   id_paziente  altezza  peso\n",
      "0            2      173    97\n",
      "1            1      184    98\n"
     ]
    }
   ],
   "source": [
    "print(primo_df.head())\n",
    "print('\\n')\n",
    "print(secondo_df.head())"
   ]
  },
  {
   "cell_type": "markdown",
   "metadata": {},
   "source": [
    "Voglio unire 'orizzontalemente' i due DataFrame creati, per fare questo posso usare il metodo **pd.merge()** e indicando quale chiave usare per il merge usando il parametro **on='nome-colonna'**.\n",
    "\n",
    "Per esempio se uso come chiave **id_paziente**, il sistema cercherà gli elementi con lo stesso **id_paziente** nei due DataFrame e farà il merge orizzontale degli elementi con lo stesso **id_paziente**.\n",
    "\n",
    "Usando il **merge()** senza nessuna specificazione del parametro **'how'**"
   ]
  },
  {
   "cell_type": "code",
   "execution_count": 3,
   "metadata": {},
   "outputs": [
    {
     "data": {
      "text/html": [
       "<div>\n",
       "<style>\n",
       "    .dataframe thead tr:only-child th {\n",
       "        text-align: right;\n",
       "    }\n",
       "\n",
       "    .dataframe thead th {\n",
       "        text-align: left;\n",
       "    }\n",
       "\n",
       "    .dataframe tbody tr th {\n",
       "        vertical-align: top;\n",
       "    }\n",
       "</style>\n",
       "<table border=\"1\" class=\"dataframe\">\n",
       "  <thead>\n",
       "    <tr style=\"text-align: right;\">\n",
       "      <th></th>\n",
       "      <th>id_paziente</th>\n",
       "      <th>nome</th>\n",
       "      <th>cognome</th>\n",
       "      <th>altezza</th>\n",
       "      <th>peso</th>\n",
       "    </tr>\n",
       "  </thead>\n",
       "  <tbody>\n",
       "    <tr>\n",
       "      <th>0</th>\n",
       "      <td>1</td>\n",
       "      <td>Pippo</td>\n",
       "      <td>Baudo</td>\n",
       "      <td>184</td>\n",
       "      <td>98</td>\n",
       "    </tr>\n",
       "    <tr>\n",
       "      <th>1</th>\n",
       "      <td>2</td>\n",
       "      <td>Nino</td>\n",
       "      <td>Frassica</td>\n",
       "      <td>173</td>\n",
       "      <td>97</td>\n",
       "    </tr>\n",
       "  </tbody>\n",
       "</table>\n",
       "</div>"
      ],
      "text/plain": [
       "   id_paziente   nome   cognome  altezza  peso\n",
       "0            1  Pippo     Baudo      184    98\n",
       "1            2   Nino  Frassica      173    97"
      ]
     },
     "execution_count": 3,
     "metadata": {},
     "output_type": "execute_result"
    }
   ],
   "source": [
    "pd.merge(left=primo_df, right=secondo_df, on='id_paziente')"
   ]
  },
  {
   "cell_type": "markdown",
   "metadata": {},
   "source": [
    "Equivale al default **how = 'inner'**. In questo caso verranno usate come chiavi del DataFrame risultate le chiavi comuni tra i due (o l'intersezione delle chiavi se preferite).\n",
    "\n",
    "Come si vede il terzo elemento del primo DateFrame viene eliminato nel DataFrame risultante  "
   ]
  },
  {
   "cell_type": "code",
   "execution_count": 4,
   "metadata": {},
   "outputs": [
    {
     "data": {
      "text/html": [
       "<div>\n",
       "<style>\n",
       "    .dataframe thead tr:only-child th {\n",
       "        text-align: right;\n",
       "    }\n",
       "\n",
       "    .dataframe thead th {\n",
       "        text-align: left;\n",
       "    }\n",
       "\n",
       "    .dataframe tbody tr th {\n",
       "        vertical-align: top;\n",
       "    }\n",
       "</style>\n",
       "<table border=\"1\" class=\"dataframe\">\n",
       "  <thead>\n",
       "    <tr style=\"text-align: right;\">\n",
       "      <th></th>\n",
       "      <th>id_paziente</th>\n",
       "      <th>nome</th>\n",
       "      <th>cognome</th>\n",
       "      <th>altezza</th>\n",
       "      <th>peso</th>\n",
       "    </tr>\n",
       "  </thead>\n",
       "  <tbody>\n",
       "    <tr>\n",
       "      <th>0</th>\n",
       "      <td>1</td>\n",
       "      <td>Pippo</td>\n",
       "      <td>Baudo</td>\n",
       "      <td>184</td>\n",
       "      <td>98</td>\n",
       "    </tr>\n",
       "    <tr>\n",
       "      <th>1</th>\n",
       "      <td>2</td>\n",
       "      <td>Nino</td>\n",
       "      <td>Frassica</td>\n",
       "      <td>173</td>\n",
       "      <td>97</td>\n",
       "    </tr>\n",
       "  </tbody>\n",
       "</table>\n",
       "</div>"
      ],
      "text/plain": [
       "   id_paziente   nome   cognome  altezza  peso\n",
       "0            1  Pippo     Baudo      184    98\n",
       "1            2   Nino  Frassica      173    97"
      ]
     },
     "execution_count": 4,
     "metadata": {},
     "output_type": "execute_result"
    }
   ],
   "source": [
    "pd.merge(left=primo_df, right=secondo_df, how='inner', on='id_paziente')"
   ]
  },
  {
   "cell_type": "markdown",
   "metadata": {},
   "source": [
    "Usando **how='outer'** invece viene fatta una unione delle chiavi. Se un DataFrame non ha alcune delle chiavi gli elementi mancnto vengono riempiti con **NaN**"
   ]
  },
  {
   "cell_type": "code",
   "execution_count": 5,
   "metadata": {},
   "outputs": [
    {
     "data": {
      "text/html": [
       "<div>\n",
       "<style>\n",
       "    .dataframe thead tr:only-child th {\n",
       "        text-align: right;\n",
       "    }\n",
       "\n",
       "    .dataframe thead th {\n",
       "        text-align: left;\n",
       "    }\n",
       "\n",
       "    .dataframe tbody tr th {\n",
       "        vertical-align: top;\n",
       "    }\n",
       "</style>\n",
       "<table border=\"1\" class=\"dataframe\">\n",
       "  <thead>\n",
       "    <tr style=\"text-align: right;\">\n",
       "      <th></th>\n",
       "      <th>id_paziente</th>\n",
       "      <th>nome</th>\n",
       "      <th>cognome</th>\n",
       "      <th>altezza</th>\n",
       "      <th>peso</th>\n",
       "    </tr>\n",
       "  </thead>\n",
       "  <tbody>\n",
       "    <tr>\n",
       "      <th>0</th>\n",
       "      <td>1</td>\n",
       "      <td>Pippo</td>\n",
       "      <td>Baudo</td>\n",
       "      <td>184.0</td>\n",
       "      <td>98.0</td>\n",
       "    </tr>\n",
       "    <tr>\n",
       "      <th>1</th>\n",
       "      <td>2</td>\n",
       "      <td>Nino</td>\n",
       "      <td>Frassica</td>\n",
       "      <td>173.0</td>\n",
       "      <td>97.0</td>\n",
       "    </tr>\n",
       "    <tr>\n",
       "      <th>2</th>\n",
       "      <td>3</td>\n",
       "      <td>Renzo</td>\n",
       "      <td>Arbore</td>\n",
       "      <td>NaN</td>\n",
       "      <td>NaN</td>\n",
       "    </tr>\n",
       "  </tbody>\n",
       "</table>\n",
       "</div>"
      ],
      "text/plain": [
       "   id_paziente   nome   cognome  altezza  peso\n",
       "0            1  Pippo     Baudo    184.0  98.0\n",
       "1            2   Nino  Frassica    173.0  97.0\n",
       "2            3  Renzo    Arbore      NaN   NaN"
      ]
     },
     "execution_count": 5,
     "metadata": {},
     "output_type": "execute_result"
    }
   ],
   "source": [
    "pd.merge(left=primo_df, right=secondo_df, how='outer', on='id_paziente')"
   ]
  },
  {
   "cell_type": "markdown",
   "metadata": {},
   "source": [
    "Specificando il parametro **how='left'** il merge utilizza tutti gli elementi della **chiave** (keys) del DataFrame specificato col parametro **left='nome-dataframe'**, la chiave è sempre specificata con il parametro **on='nome-colonna'**.\n",
    "\n",
    "Se l'altro DataFrame manca di alcuni (o tutti) gli elementi della chiave gli elementi mancanti verranno riempiti con NaN."
   ]
  },
  {
   "cell_type": "code",
   "execution_count": 6,
   "metadata": {},
   "outputs": [
    {
     "data": {
      "text/html": [
       "<div>\n",
       "<style>\n",
       "    .dataframe thead tr:only-child th {\n",
       "        text-align: right;\n",
       "    }\n",
       "\n",
       "    .dataframe thead th {\n",
       "        text-align: left;\n",
       "    }\n",
       "\n",
       "    .dataframe tbody tr th {\n",
       "        vertical-align: top;\n",
       "    }\n",
       "</style>\n",
       "<table border=\"1\" class=\"dataframe\">\n",
       "  <thead>\n",
       "    <tr style=\"text-align: right;\">\n",
       "      <th></th>\n",
       "      <th>id_paziente</th>\n",
       "      <th>nome</th>\n",
       "      <th>cognome</th>\n",
       "      <th>altezza</th>\n",
       "      <th>peso</th>\n",
       "    </tr>\n",
       "  </thead>\n",
       "  <tbody>\n",
       "    <tr>\n",
       "      <th>0</th>\n",
       "      <td>1</td>\n",
       "      <td>Pippo</td>\n",
       "      <td>Baudo</td>\n",
       "      <td>184.0</td>\n",
       "      <td>98.0</td>\n",
       "    </tr>\n",
       "    <tr>\n",
       "      <th>1</th>\n",
       "      <td>2</td>\n",
       "      <td>Nino</td>\n",
       "      <td>Frassica</td>\n",
       "      <td>173.0</td>\n",
       "      <td>97.0</td>\n",
       "    </tr>\n",
       "    <tr>\n",
       "      <th>2</th>\n",
       "      <td>3</td>\n",
       "      <td>Renzo</td>\n",
       "      <td>Arbore</td>\n",
       "      <td>NaN</td>\n",
       "      <td>NaN</td>\n",
       "    </tr>\n",
       "  </tbody>\n",
       "</table>\n",
       "</div>"
      ],
      "text/plain": [
       "   id_paziente   nome   cognome  altezza  peso\n",
       "0            1  Pippo     Baudo    184.0  98.0\n",
       "1            2   Nino  Frassica    173.0  97.0\n",
       "2            3  Renzo    Arbore      NaN   NaN"
      ]
     },
     "execution_count": 6,
     "metadata": {},
     "output_type": "execute_result"
    }
   ],
   "source": [
    "pd.merge(left=primo_df, right=secondo_df, how='left', on='id_paziente')"
   ]
  },
  {
   "cell_type": "markdown",
   "metadata": {},
   "source": [
    "Analogamente se uso come parametro **how='right'** verranno usate le chiavi del DataFrame specificato in **right='nome-datafame'**.\n",
    "\n",
    "Come si vede poichè in questo caso il DataFrame di destra ha meno chiavi del DataFrame di sinistra, le chiavi in eccesso del DataFrame di sinistra verranno eliminate. "
   ]
  },
  {
   "cell_type": "code",
   "execution_count": 7,
   "metadata": {},
   "outputs": [
    {
     "data": {
      "text/html": [
       "<div>\n",
       "<style>\n",
       "    .dataframe thead tr:only-child th {\n",
       "        text-align: right;\n",
       "    }\n",
       "\n",
       "    .dataframe thead th {\n",
       "        text-align: left;\n",
       "    }\n",
       "\n",
       "    .dataframe tbody tr th {\n",
       "        vertical-align: top;\n",
       "    }\n",
       "</style>\n",
       "<table border=\"1\" class=\"dataframe\">\n",
       "  <thead>\n",
       "    <tr style=\"text-align: right;\">\n",
       "      <th></th>\n",
       "      <th>id_paziente</th>\n",
       "      <th>nome</th>\n",
       "      <th>cognome</th>\n",
       "      <th>altezza</th>\n",
       "      <th>peso</th>\n",
       "    </tr>\n",
       "  </thead>\n",
       "  <tbody>\n",
       "    <tr>\n",
       "      <th>0</th>\n",
       "      <td>1</td>\n",
       "      <td>Pippo</td>\n",
       "      <td>Baudo</td>\n",
       "      <td>184</td>\n",
       "      <td>98</td>\n",
       "    </tr>\n",
       "    <tr>\n",
       "      <th>1</th>\n",
       "      <td>2</td>\n",
       "      <td>Nino</td>\n",
       "      <td>Frassica</td>\n",
       "      <td>173</td>\n",
       "      <td>97</td>\n",
       "    </tr>\n",
       "  </tbody>\n",
       "</table>\n",
       "</div>"
      ],
      "text/plain": [
       "   id_paziente   nome   cognome  altezza  peso\n",
       "0            1  Pippo     Baudo      184    98\n",
       "1            2   Nino  Frassica      173    97"
      ]
     },
     "execution_count": 7,
     "metadata": {},
     "output_type": "execute_result"
    }
   ],
   "source": [
    "pd.merge(left=primo_df, right=secondo_df, how='right', on='id_paziente')"
   ]
  },
  {
   "cell_type": "markdown",
   "metadata": {},
   "source": [
    "Un altro modo di usare il metodo **merge()** è quello di usare direttamente il metodo dello specifico DataFrame, per esempio"
   ]
  },
  {
   "cell_type": "code",
   "execution_count": 8,
   "metadata": {},
   "outputs": [
    {
     "data": {
      "text/html": [
       "<div>\n",
       "<style>\n",
       "    .dataframe thead tr:only-child th {\n",
       "        text-align: right;\n",
       "    }\n",
       "\n",
       "    .dataframe thead th {\n",
       "        text-align: left;\n",
       "    }\n",
       "\n",
       "    .dataframe tbody tr th {\n",
       "        vertical-align: top;\n",
       "    }\n",
       "</style>\n",
       "<table border=\"1\" class=\"dataframe\">\n",
       "  <thead>\n",
       "    <tr style=\"text-align: right;\">\n",
       "      <th></th>\n",
       "      <th>id_paziente</th>\n",
       "      <th>nome</th>\n",
       "      <th>cognome</th>\n",
       "      <th>altezza</th>\n",
       "      <th>peso</th>\n",
       "    </tr>\n",
       "  </thead>\n",
       "  <tbody>\n",
       "    <tr>\n",
       "      <th>0</th>\n",
       "      <td>1</td>\n",
       "      <td>Pippo</td>\n",
       "      <td>Baudo</td>\n",
       "      <td>184.0</td>\n",
       "      <td>98.0</td>\n",
       "    </tr>\n",
       "    <tr>\n",
       "      <th>1</th>\n",
       "      <td>2</td>\n",
       "      <td>Nino</td>\n",
       "      <td>Frassica</td>\n",
       "      <td>173.0</td>\n",
       "      <td>97.0</td>\n",
       "    </tr>\n",
       "    <tr>\n",
       "      <th>2</th>\n",
       "      <td>3</td>\n",
       "      <td>Renzo</td>\n",
       "      <td>Arbore</td>\n",
       "      <td>NaN</td>\n",
       "      <td>NaN</td>\n",
       "    </tr>\n",
       "  </tbody>\n",
       "</table>\n",
       "</div>"
      ],
      "text/plain": [
       "   id_paziente   nome   cognome  altezza  peso\n",
       "0            1  Pippo     Baudo    184.0  98.0\n",
       "1            2   Nino  Frassica    173.0  97.0\n",
       "2            3  Renzo    Arbore      NaN   NaN"
      ]
     },
     "execution_count": 8,
     "metadata": {},
     "output_type": "execute_result"
    }
   ],
   "source": [
    "primo_df.merge(secondo_df, how='outer', on='id_paziente')"
   ]
  },
  {
   "cell_type": "markdown",
   "metadata": {},
   "source": [
    "Un caso particolare è quando i due DataFrame hanno chiavi di nomi diversi, per esempio"
   ]
  },
  {
   "cell_type": "code",
   "execution_count": 9,
   "metadata": {},
   "outputs": [],
   "source": [
    "primo_df = pd.DataFrame(columns=(\"id_paziente\", \"nome\", \"cognome\"), data=[[1, 'Pippo', 'Baudo'], \n",
    "                                                                          [2, 'Nino', 'Frassica'], \n",
    "                                                                          [3, 'Renzo', 'Arbore']])\n",
    "\n",
    "secondo_df = pd.DataFrame(columns=(\"dati_paziente\", \"altezza\", \"peso\"), data=[[2, 173, 97],\n",
    "                                                                              [1, 184, 98]])"
   ]
  },
  {
   "cell_type": "markdown",
   "metadata": {},
   "source": [
    "in questo caso posso indicare separatamente quale chiave usare per il DataFrame di sinistra e quale chiave per il DataFrame di destra\n"
   ]
  },
  {
   "cell_type": "code",
   "execution_count": 10,
   "metadata": {},
   "outputs": [
    {
     "data": {
      "text/html": [
       "<div>\n",
       "<style>\n",
       "    .dataframe thead tr:only-child th {\n",
       "        text-align: right;\n",
       "    }\n",
       "\n",
       "    .dataframe thead th {\n",
       "        text-align: left;\n",
       "    }\n",
       "\n",
       "    .dataframe tbody tr th {\n",
       "        vertical-align: top;\n",
       "    }\n",
       "</style>\n",
       "<table border=\"1\" class=\"dataframe\">\n",
       "  <thead>\n",
       "    <tr style=\"text-align: right;\">\n",
       "      <th></th>\n",
       "      <th>id_paziente</th>\n",
       "      <th>nome</th>\n",
       "      <th>cognome</th>\n",
       "      <th>dati_paziente</th>\n",
       "      <th>altezza</th>\n",
       "      <th>peso</th>\n",
       "    </tr>\n",
       "  </thead>\n",
       "  <tbody>\n",
       "    <tr>\n",
       "      <th>0</th>\n",
       "      <td>1</td>\n",
       "      <td>Pippo</td>\n",
       "      <td>Baudo</td>\n",
       "      <td>1.0</td>\n",
       "      <td>184.0</td>\n",
       "      <td>98.0</td>\n",
       "    </tr>\n",
       "    <tr>\n",
       "      <th>1</th>\n",
       "      <td>2</td>\n",
       "      <td>Nino</td>\n",
       "      <td>Frassica</td>\n",
       "      <td>2.0</td>\n",
       "      <td>173.0</td>\n",
       "      <td>97.0</td>\n",
       "    </tr>\n",
       "    <tr>\n",
       "      <th>2</th>\n",
       "      <td>3</td>\n",
       "      <td>Renzo</td>\n",
       "      <td>Arbore</td>\n",
       "      <td>NaN</td>\n",
       "      <td>NaN</td>\n",
       "      <td>NaN</td>\n",
       "    </tr>\n",
       "  </tbody>\n",
       "</table>\n",
       "</div>"
      ],
      "text/plain": [
       "   id_paziente   nome   cognome  dati_paziente  altezza  peso\n",
       "0            1  Pippo     Baudo            1.0    184.0  98.0\n",
       "1            2   Nino  Frassica            2.0    173.0  97.0\n",
       "2            3  Renzo    Arbore            NaN      NaN   NaN"
      ]
     },
     "execution_count": 10,
     "metadata": {},
     "output_type": "execute_result"
    }
   ],
   "source": [
    "pd.merge(left=primo_df, right=secondo_df, left_on=\"id_paziente\", right_on='dati_paziente', how='outer')"
   ]
  },
  {
   "cell_type": "markdown",
   "metadata": {},
   "source": [
    "In questo caso dal momento che, uno dei due tra *id_paziente* e *dati_paziente* è ridondante posso decidere di eliminare una delle due colonne. Usando il metodo **drop()** con parametri il nome della colonna da eliminare e l'asse verticale (axis=1) per indicare si tratta di una colonna  "
   ]
  },
  {
   "cell_type": "code",
   "execution_count": 11,
   "metadata": {},
   "outputs": [
    {
     "data": {
      "text/html": [
       "<div>\n",
       "<style>\n",
       "    .dataframe thead tr:only-child th {\n",
       "        text-align: right;\n",
       "    }\n",
       "\n",
       "    .dataframe thead th {\n",
       "        text-align: left;\n",
       "    }\n",
       "\n",
       "    .dataframe tbody tr th {\n",
       "        vertical-align: top;\n",
       "    }\n",
       "</style>\n",
       "<table border=\"1\" class=\"dataframe\">\n",
       "  <thead>\n",
       "    <tr style=\"text-align: right;\">\n",
       "      <th></th>\n",
       "      <th>id_paziente</th>\n",
       "      <th>nome</th>\n",
       "      <th>cognome</th>\n",
       "      <th>altezza</th>\n",
       "      <th>peso</th>\n",
       "    </tr>\n",
       "  </thead>\n",
       "  <tbody>\n",
       "    <tr>\n",
       "      <th>0</th>\n",
       "      <td>1</td>\n",
       "      <td>Pippo</td>\n",
       "      <td>Baudo</td>\n",
       "      <td>184.0</td>\n",
       "      <td>98.0</td>\n",
       "    </tr>\n",
       "    <tr>\n",
       "      <th>1</th>\n",
       "      <td>2</td>\n",
       "      <td>Nino</td>\n",
       "      <td>Frassica</td>\n",
       "      <td>173.0</td>\n",
       "      <td>97.0</td>\n",
       "    </tr>\n",
       "    <tr>\n",
       "      <th>2</th>\n",
       "      <td>3</td>\n",
       "      <td>Renzo</td>\n",
       "      <td>Arbore</td>\n",
       "      <td>NaN</td>\n",
       "      <td>NaN</td>\n",
       "    </tr>\n",
       "  </tbody>\n",
       "</table>\n",
       "</div>"
      ],
      "text/plain": [
       "   id_paziente   nome   cognome  altezza  peso\n",
       "0            1  Pippo     Baudo    184.0  98.0\n",
       "1            2   Nino  Frassica    173.0  97.0\n",
       "2            3  Renzo    Arbore      NaN   NaN"
      ]
     },
     "execution_count": 11,
     "metadata": {},
     "output_type": "execute_result"
    }
   ],
   "source": [
    "pd.merge(left=primo_df, right=secondo_df, left_on=\"id_paziente\", right_on='dati_paziente', how='outer').drop('dati_paziente', axis=1)"
   ]
  },
  {
   "cell_type": "markdown",
   "metadata": {},
   "source": [
    "## Merge verticale"
   ]
  },
  {
   "cell_type": "markdown",
   "metadata": {},
   "source": [
    "Voglio fare il merge orizzontale ei due DataFrame contenenti lo stesso tipo di dati (aka le stesse colonne)"
   ]
  },
  {
   "cell_type": "code",
   "execution_count": 12,
   "metadata": {},
   "outputs": [],
   "source": [
    "primo_df = pd.DataFrame(columns=(\"id_paziente\", \"nome\", \"cognome\"), data=[[3, 'Pippo', 'Baudo'], \n",
    "                                                                          [1, 'Nino', 'Frassica'], \n",
    "                                                                          [2, 'Renzo', 'Arbore']])\n",
    "secondo_df = pd.DataFrame(columns=(\"id_paziente\", \"nome\", \"cognome\"), data=[[4, 'Gigi', 'D''alessio'],\n",
    "                                                                            [5, 'Massimo', 'Ranieri']])"
   ]
  },
  {
   "cell_type": "markdown",
   "metadata": {},
   "source": [
    "in questo caso è sufficiente non indicare nessuna chiave e specificare che si tratta di un **outer** merge"
   ]
  },
  {
   "cell_type": "code",
   "execution_count": 13,
   "metadata": {},
   "outputs": [
    {
     "data": {
      "text/html": [
       "<div>\n",
       "<style>\n",
       "    .dataframe thead tr:only-child th {\n",
       "        text-align: right;\n",
       "    }\n",
       "\n",
       "    .dataframe thead th {\n",
       "        text-align: left;\n",
       "    }\n",
       "\n",
       "    .dataframe tbody tr th {\n",
       "        vertical-align: top;\n",
       "    }\n",
       "</style>\n",
       "<table border=\"1\" class=\"dataframe\">\n",
       "  <thead>\n",
       "    <tr style=\"text-align: right;\">\n",
       "      <th></th>\n",
       "      <th>id_paziente</th>\n",
       "      <th>nome</th>\n",
       "      <th>cognome</th>\n",
       "    </tr>\n",
       "  </thead>\n",
       "  <tbody>\n",
       "    <tr>\n",
       "      <th>0</th>\n",
       "      <td>3</td>\n",
       "      <td>Pippo</td>\n",
       "      <td>Baudo</td>\n",
       "    </tr>\n",
       "    <tr>\n",
       "      <th>1</th>\n",
       "      <td>1</td>\n",
       "      <td>Nino</td>\n",
       "      <td>Frassica</td>\n",
       "    </tr>\n",
       "    <tr>\n",
       "      <th>2</th>\n",
       "      <td>2</td>\n",
       "      <td>Renzo</td>\n",
       "      <td>Arbore</td>\n",
       "    </tr>\n",
       "    <tr>\n",
       "      <th>3</th>\n",
       "      <td>4</td>\n",
       "      <td>Gigi</td>\n",
       "      <td>Dalessio</td>\n",
       "    </tr>\n",
       "    <tr>\n",
       "      <th>4</th>\n",
       "      <td>5</td>\n",
       "      <td>Massimo</td>\n",
       "      <td>Ranieri</td>\n",
       "    </tr>\n",
       "  </tbody>\n",
       "</table>\n",
       "</div>"
      ],
      "text/plain": [
       "   id_paziente     nome   cognome\n",
       "0            3    Pippo     Baudo\n",
       "1            1     Nino  Frassica\n",
       "2            2    Renzo    Arbore\n",
       "3            4     Gigi  Dalessio\n",
       "4            5  Massimo   Ranieri"
      ]
     },
     "execution_count": 13,
     "metadata": {},
     "output_type": "execute_result"
    }
   ],
   "source": [
    "pd.merge(primo_df, secondo_df, how='outer')"
   ]
  },
  {
   "cell_type": "markdown",
   "metadata": {},
   "source": [
    "oppure"
   ]
  },
  {
   "cell_type": "code",
   "execution_count": 14,
   "metadata": {},
   "outputs": [
    {
     "data": {
      "text/html": [
       "<div>\n",
       "<style>\n",
       "    .dataframe thead tr:only-child th {\n",
       "        text-align: right;\n",
       "    }\n",
       "\n",
       "    .dataframe thead th {\n",
       "        text-align: left;\n",
       "    }\n",
       "\n",
       "    .dataframe tbody tr th {\n",
       "        vertical-align: top;\n",
       "    }\n",
       "</style>\n",
       "<table border=\"1\" class=\"dataframe\">\n",
       "  <thead>\n",
       "    <tr style=\"text-align: right;\">\n",
       "      <th></th>\n",
       "      <th>id_paziente</th>\n",
       "      <th>nome</th>\n",
       "      <th>cognome</th>\n",
       "    </tr>\n",
       "  </thead>\n",
       "  <tbody>\n",
       "    <tr>\n",
       "      <th>0</th>\n",
       "      <td>3</td>\n",
       "      <td>Pippo</td>\n",
       "      <td>Baudo</td>\n",
       "    </tr>\n",
       "    <tr>\n",
       "      <th>1</th>\n",
       "      <td>1</td>\n",
       "      <td>Nino</td>\n",
       "      <td>Frassica</td>\n",
       "    </tr>\n",
       "    <tr>\n",
       "      <th>2</th>\n",
       "      <td>2</td>\n",
       "      <td>Renzo</td>\n",
       "      <td>Arbore</td>\n",
       "    </tr>\n",
       "    <tr>\n",
       "      <th>3</th>\n",
       "      <td>4</td>\n",
       "      <td>Gigi</td>\n",
       "      <td>Dalessio</td>\n",
       "    </tr>\n",
       "    <tr>\n",
       "      <th>4</th>\n",
       "      <td>5</td>\n",
       "      <td>Massimo</td>\n",
       "      <td>Ranieri</td>\n",
       "    </tr>\n",
       "  </tbody>\n",
       "</table>\n",
       "</div>"
      ],
      "text/plain": [
       "   id_paziente     nome   cognome\n",
       "0            3    Pippo     Baudo\n",
       "1            1     Nino  Frassica\n",
       "2            2    Renzo    Arbore\n",
       "3            4     Gigi  Dalessio\n",
       "4            5  Massimo   Ranieri"
      ]
     },
     "execution_count": 14,
     "metadata": {},
     "output_type": "execute_result"
    }
   ],
   "source": [
    "primo_df.merge(secondo_df, how='outer')"
   ]
  },
  {
   "cell_type": "markdown",
   "metadata": {},
   "source": [
    "### Coclusione\n",
    "Ho affrontato un argomento che agli inesperti, come me, da sempre dei grattacapi: il merge di due DataFrame di Pandas.\n",
    "Abbiamo visto come fare un merge orizzontale e un merge verticale. Abbiamo visto le diverse opzioni per specificare come vogliamo fare il merge."
   ]
  },
  {
   "cell_type": "code",
   "execution_count": null,
   "metadata": {},
   "outputs": [],
   "source": []
  }
 ],
 "metadata": {
  "kernelspec": {
   "display_name": "Python 3",
   "language": "python",
   "name": "python3"
  },
  "language_info": {
   "codemirror_mode": {
    "name": "ipython",
    "version": 3
   },
   "file_extension": ".py",
   "mimetype": "text/x-python",
   "name": "python",
   "nbconvert_exporter": "python",
   "pygments_lexer": "ipython3",
   "version": "3.6.8"
  }
 },
 "nbformat": 4,
 "nbformat_minor": 2
}
