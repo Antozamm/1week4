{
 "cells": [
  {
   "cell_type": "code",
   "execution_count": 94,
   "metadata": {},
   "outputs": [],
   "source": [
    "import pandas as pd\n",
    "import numpy as np\n",
    "from sklearn import set_config\n",
    "from sklearn.pipeline import make_pipeline\n",
    "from sklearn.preprocessing import OneHotEncoder, MinMaxScaler\n",
    "from sklearn.impute import SimpleImputer\n",
    "from sklearn.compose import make_column_transformer\n",
    "\n",
    "set_config(display='diagram')"
   ]
  },
  {
   "cell_type": "code",
   "execution_count": 95,
   "metadata": {},
   "outputs": [
    {
     "data": {
      "text/html": [
       "<div>\n",
       "<style scoped>\n",
       "    .dataframe tbody tr th:only-of-type {\n",
       "        vertical-align: middle;\n",
       "    }\n",
       "\n",
       "    .dataframe tbody tr th {\n",
       "        vertical-align: top;\n",
       "    }\n",
       "\n",
       "    .dataframe thead th {\n",
       "        text-align: right;\n",
       "    }\n",
       "</style>\n",
       "<table border=\"1\" class=\"dataframe\">\n",
       "  <thead>\n",
       "    <tr style=\"text-align: right;\">\n",
       "      <th></th>\n",
       "      <th>A</th>\n",
       "      <th>B</th>\n",
       "      <th>C</th>\n",
       "      <th>D</th>\n",
       "    </tr>\n",
       "  </thead>\n",
       "  <tbody>\n",
       "    <tr>\n",
       "      <th>0</th>\n",
       "      <td>936</td>\n",
       "      <td>76</td>\n",
       "      <td>68</td>\n",
       "      <td>859</td>\n",
       "    </tr>\n",
       "    <tr>\n",
       "      <th>1</th>\n",
       "      <td>725</td>\n",
       "      <td>903</td>\n",
       "      <td>732</td>\n",
       "      <td>752</td>\n",
       "    </tr>\n",
       "    <tr>\n",
       "      <th>2</th>\n",
       "      <td>689</td>\n",
       "      <td>617</td>\n",
       "      <td>356</td>\n",
       "      <td>771</td>\n",
       "    </tr>\n",
       "    <tr>\n",
       "      <th>3</th>\n",
       "      <td>182</td>\n",
       "      <td>996</td>\n",
       "      <td>338</td>\n",
       "      <td>290</td>\n",
       "    </tr>\n",
       "    <tr>\n",
       "      <th>4</th>\n",
       "      <td>179</td>\n",
       "      <td>236</td>\n",
       "      <td>191</td>\n",
       "      <td>536</td>\n",
       "    </tr>\n",
       "  </tbody>\n",
       "</table>\n",
       "</div>"
      ],
      "text/plain": [
       "     A    B    C    D\n",
       "0  936   76   68  859\n",
       "1  725  903  732  752\n",
       "2  689  617  356  771\n",
       "3  182  996  338  290\n",
       "4  179  236  191  536"
      ]
     },
     "execution_count": 95,
     "metadata": {},
     "output_type": "execute_result"
    }
   ],
   "source": [
    "df = pd.DataFrame(np.random.randint(0,1000,size=(10000, 4)), columns=list('ABCD'))\n",
    "df.head()"
   ]
  },
  {
   "cell_type": "code",
   "execution_count": 96,
   "metadata": {},
   "outputs": [
    {
     "data": {
      "text/html": [
       "<div>\n",
       "<style scoped>\n",
       "    .dataframe tbody tr th:only-of-type {\n",
       "        vertical-align: middle;\n",
       "    }\n",
       "\n",
       "    .dataframe tbody tr th {\n",
       "        vertical-align: top;\n",
       "    }\n",
       "\n",
       "    .dataframe thead th {\n",
       "        text-align: right;\n",
       "    }\n",
       "</style>\n",
       "<table border=\"1\" class=\"dataframe\">\n",
       "  <thead>\n",
       "    <tr style=\"text-align: right;\">\n",
       "      <th></th>\n",
       "      <th>AxA</th>\n",
       "      <th>AxB</th>\n",
       "      <th>AxC</th>\n",
       "      <th>AxD</th>\n",
       "      <th>BxB</th>\n",
       "      <th>BxC</th>\n",
       "      <th>BxD</th>\n",
       "      <th>CxC</th>\n",
       "      <th>CxD</th>\n",
       "      <th>DxD</th>\n",
       "    </tr>\n",
       "  </thead>\n",
       "  <tbody>\n",
       "    <tr>\n",
       "      <th>0</th>\n",
       "      <td>876096</td>\n",
       "      <td>71136</td>\n",
       "      <td>63648</td>\n",
       "      <td>804024</td>\n",
       "      <td>5776</td>\n",
       "      <td>5168</td>\n",
       "      <td>65284</td>\n",
       "      <td>4624</td>\n",
       "      <td>58412</td>\n",
       "      <td>737881</td>\n",
       "    </tr>\n",
       "    <tr>\n",
       "      <th>1</th>\n",
       "      <td>525625</td>\n",
       "      <td>654675</td>\n",
       "      <td>530700</td>\n",
       "      <td>545200</td>\n",
       "      <td>815409</td>\n",
       "      <td>660996</td>\n",
       "      <td>679056</td>\n",
       "      <td>535824</td>\n",
       "      <td>550464</td>\n",
       "      <td>565504</td>\n",
       "    </tr>\n",
       "    <tr>\n",
       "      <th>2</th>\n",
       "      <td>474721</td>\n",
       "      <td>425113</td>\n",
       "      <td>245284</td>\n",
       "      <td>531219</td>\n",
       "      <td>380689</td>\n",
       "      <td>219652</td>\n",
       "      <td>475707</td>\n",
       "      <td>126736</td>\n",
       "      <td>274476</td>\n",
       "      <td>594441</td>\n",
       "    </tr>\n",
       "    <tr>\n",
       "      <th>3</th>\n",
       "      <td>33124</td>\n",
       "      <td>181272</td>\n",
       "      <td>61516</td>\n",
       "      <td>52780</td>\n",
       "      <td>992016</td>\n",
       "      <td>336648</td>\n",
       "      <td>288840</td>\n",
       "      <td>114244</td>\n",
       "      <td>98020</td>\n",
       "      <td>84100</td>\n",
       "    </tr>\n",
       "    <tr>\n",
       "      <th>4</th>\n",
       "      <td>32041</td>\n",
       "      <td>42244</td>\n",
       "      <td>34189</td>\n",
       "      <td>95944</td>\n",
       "      <td>55696</td>\n",
       "      <td>45076</td>\n",
       "      <td>126496</td>\n",
       "      <td>36481</td>\n",
       "      <td>102376</td>\n",
       "      <td>287296</td>\n",
       "    </tr>\n",
       "  </tbody>\n",
       "</table>\n",
       "</div>"
      ],
      "text/plain": [
       "      AxA     AxB     AxC     AxD     BxB     BxC     BxD     CxC     CxD  \\\n",
       "0  876096   71136   63648  804024    5776    5168   65284    4624   58412   \n",
       "1  525625  654675  530700  545200  815409  660996  679056  535824  550464   \n",
       "2  474721  425113  245284  531219  380689  219652  475707  126736  274476   \n",
       "3   33124  181272   61516   52780  992016  336648  288840  114244   98020   \n",
       "4   32041   42244   34189   95944   55696   45076  126496   36481  102376   \n",
       "\n",
       "      DxD  \n",
       "0  737881  \n",
       "1  565504  \n",
       "2  594441  \n",
       "3   84100  \n",
       "4  287296  "
      ]
     },
     "execution_count": 96,
     "metadata": {},
     "output_type": "execute_result"
    }
   ],
   "source": [
    "df1 = pd.DataFrame()\n",
    "for idx1,col1 in enumerate(df.columns):\n",
    "    for idx2,col2 in enumerate(df.drop(columns=df.columns[:idx1]).columns):\n",
    "        df1[col1+'x'+col2] = df.loc[:,col1] * df.loc[:,col2]\n",
    "\n",
    "df1.head()"
   ]
  },
  {
   "cell_type": "code",
   "execution_count": 97,
   "metadata": {},
   "outputs": [
    {
     "data": {
      "text/html": [
       "<div>\n",
       "<style scoped>\n",
       "    .dataframe tbody tr th:only-of-type {\n",
       "        vertical-align: middle;\n",
       "    }\n",
       "\n",
       "    .dataframe tbody tr th {\n",
       "        vertical-align: top;\n",
       "    }\n",
       "\n",
       "    .dataframe thead th {\n",
       "        text-align: right;\n",
       "    }\n",
       "</style>\n",
       "<table border=\"1\" class=\"dataframe\">\n",
       "  <thead>\n",
       "    <tr style=\"text-align: right;\">\n",
       "      <th></th>\n",
       "      <th>A</th>\n",
       "      <th>B</th>\n",
       "      <th>C</th>\n",
       "      <th>D</th>\n",
       "      <th>AxA</th>\n",
       "      <th>AxB</th>\n",
       "      <th>AxC</th>\n",
       "      <th>AxD</th>\n",
       "      <th>BxB</th>\n",
       "      <th>BxC</th>\n",
       "      <th>BxD</th>\n",
       "      <th>CxC</th>\n",
       "      <th>CxD</th>\n",
       "      <th>DxD</th>\n",
       "    </tr>\n",
       "  </thead>\n",
       "  <tbody>\n",
       "    <tr>\n",
       "      <th>0</th>\n",
       "      <td>936</td>\n",
       "      <td>76</td>\n",
       "      <td>68</td>\n",
       "      <td>859</td>\n",
       "      <td>876096</td>\n",
       "      <td>71136</td>\n",
       "      <td>63648</td>\n",
       "      <td>804024</td>\n",
       "      <td>5776</td>\n",
       "      <td>5168</td>\n",
       "      <td>65284</td>\n",
       "      <td>4624</td>\n",
       "      <td>58412</td>\n",
       "      <td>737881</td>\n",
       "    </tr>\n",
       "    <tr>\n",
       "      <th>1</th>\n",
       "      <td>725</td>\n",
       "      <td>903</td>\n",
       "      <td>732</td>\n",
       "      <td>752</td>\n",
       "      <td>525625</td>\n",
       "      <td>654675</td>\n",
       "      <td>530700</td>\n",
       "      <td>545200</td>\n",
       "      <td>815409</td>\n",
       "      <td>660996</td>\n",
       "      <td>679056</td>\n",
       "      <td>535824</td>\n",
       "      <td>550464</td>\n",
       "      <td>565504</td>\n",
       "    </tr>\n",
       "    <tr>\n",
       "      <th>2</th>\n",
       "      <td>689</td>\n",
       "      <td>617</td>\n",
       "      <td>356</td>\n",
       "      <td>771</td>\n",
       "      <td>474721</td>\n",
       "      <td>425113</td>\n",
       "      <td>245284</td>\n",
       "      <td>531219</td>\n",
       "      <td>380689</td>\n",
       "      <td>219652</td>\n",
       "      <td>475707</td>\n",
       "      <td>126736</td>\n",
       "      <td>274476</td>\n",
       "      <td>594441</td>\n",
       "    </tr>\n",
       "    <tr>\n",
       "      <th>3</th>\n",
       "      <td>182</td>\n",
       "      <td>996</td>\n",
       "      <td>338</td>\n",
       "      <td>290</td>\n",
       "      <td>33124</td>\n",
       "      <td>181272</td>\n",
       "      <td>61516</td>\n",
       "      <td>52780</td>\n",
       "      <td>992016</td>\n",
       "      <td>336648</td>\n",
       "      <td>288840</td>\n",
       "      <td>114244</td>\n",
       "      <td>98020</td>\n",
       "      <td>84100</td>\n",
       "    </tr>\n",
       "    <tr>\n",
       "      <th>4</th>\n",
       "      <td>179</td>\n",
       "      <td>236</td>\n",
       "      <td>191</td>\n",
       "      <td>536</td>\n",
       "      <td>32041</td>\n",
       "      <td>42244</td>\n",
       "      <td>34189</td>\n",
       "      <td>95944</td>\n",
       "      <td>55696</td>\n",
       "      <td>45076</td>\n",
       "      <td>126496</td>\n",
       "      <td>36481</td>\n",
       "      <td>102376</td>\n",
       "      <td>287296</td>\n",
       "    </tr>\n",
       "  </tbody>\n",
       "</table>\n",
       "</div>"
      ],
      "text/plain": [
       "     A    B    C    D     AxA     AxB     AxC     AxD     BxB     BxC     BxD  \\\n",
       "0  936   76   68  859  876096   71136   63648  804024    5776    5168   65284   \n",
       "1  725  903  732  752  525625  654675  530700  545200  815409  660996  679056   \n",
       "2  689  617  356  771  474721  425113  245284  531219  380689  219652  475707   \n",
       "3  182  996  338  290   33124  181272   61516   52780  992016  336648  288840   \n",
       "4  179  236  191  536   32041   42244   34189   95944   55696   45076  126496   \n",
       "\n",
       "      CxC     CxD     DxD  \n",
       "0    4624   58412  737881  \n",
       "1  535824  550464  565504  \n",
       "2  126736  274476  594441  \n",
       "3  114244   98020   84100  \n",
       "4   36481  102376  287296  "
      ]
     },
     "execution_count": 97,
     "metadata": {},
     "output_type": "execute_result"
    }
   ],
   "source": [
    "df2 = df.merge(df1, left_index=True, right_index=True)\n",
    "\n",
    "df2.head()"
   ]
  },
  {
   "cell_type": "code",
   "execution_count": 98,
   "metadata": {},
   "outputs": [],
   "source": [
    "from sklearn.preprocessing import StandardScaler"
   ]
  },
  {
   "cell_type": "code",
   "execution_count": 99,
   "metadata": {},
   "outputs": [],
   "source": [
    "norm_scal = StandardScaler()"
   ]
  },
  {
   "cell_type": "code",
   "execution_count": 100,
   "metadata": {},
   "outputs": [],
   "source": [
    "df3 = pd.DataFrame(index=df2.index, columns=df2.columns)"
   ]
  },
  {
   "cell_type": "code",
   "execution_count": 101,
   "metadata": {},
   "outputs": [],
   "source": [
    "for col in df2.columns:\n",
    "    df3[col] = norm_scal.fit_transform(df2[col].values.reshape(-1,1))"
   ]
  },
  {
   "cell_type": "code",
   "execution_count": 102,
   "metadata": {},
   "outputs": [
    {
     "data": {
      "text/html": [
       "<div>\n",
       "<style scoped>\n",
       "    .dataframe tbody tr th:only-of-type {\n",
       "        vertical-align: middle;\n",
       "    }\n",
       "\n",
       "    .dataframe tbody tr th {\n",
       "        vertical-align: top;\n",
       "    }\n",
       "\n",
       "    .dataframe thead th {\n",
       "        text-align: right;\n",
       "    }\n",
       "</style>\n",
       "<table border=\"1\" class=\"dataframe\">\n",
       "  <thead>\n",
       "    <tr style=\"text-align: right;\">\n",
       "      <th></th>\n",
       "      <th>A</th>\n",
       "      <th>B</th>\n",
       "      <th>C</th>\n",
       "      <th>D</th>\n",
       "      <th>AxA</th>\n",
       "      <th>AxB</th>\n",
       "      <th>AxC</th>\n",
       "      <th>AxD</th>\n",
       "      <th>BxB</th>\n",
       "      <th>BxC</th>\n",
       "      <th>BxD</th>\n",
       "      <th>CxC</th>\n",
       "      <th>CxD</th>\n",
       "      <th>DxD</th>\n",
       "    </tr>\n",
       "  </thead>\n",
       "  <tbody>\n",
       "    <tr>\n",
       "      <th>0</th>\n",
       "      <td>1.524643</td>\n",
       "      <td>-1.472584</td>\n",
       "      <td>-1.489408</td>\n",
       "      <td>1.247081</td>\n",
       "      <td>1.849727</td>\n",
       "      <td>-0.811742</td>\n",
       "      <td>-0.837138</td>\n",
       "      <td>2.549205</td>\n",
       "      <td>-1.101843</td>\n",
       "      <td>-1.108144</td>\n",
       "      <td>-0.842511</td>\n",
       "      <td>-1.097849</td>\n",
       "      <td>-0.864636</td>\n",
       "      <td>1.366894</td>\n",
       "    </tr>\n",
       "    <tr>\n",
       "      <th>1</th>\n",
       "      <td>0.790658</td>\n",
       "      <td>1.397399</td>\n",
       "      <td>0.806733</td>\n",
       "      <td>0.874693</td>\n",
       "      <td>0.661849</td>\n",
       "      <td>1.851068</td>\n",
       "      <td>1.268851</td>\n",
       "      <td>1.361811</td>\n",
       "      <td>1.621344</td>\n",
       "      <td>1.878242</td>\n",
       "      <td>1.955959</td>\n",
       "      <td>0.681696</td>\n",
       "      <td>1.362519</td>\n",
       "      <td>0.784609</td>\n",
       "    </tr>\n",
       "    <tr>\n",
       "      <th>2</th>\n",
       "      <td>0.665429</td>\n",
       "      <td>0.404878</td>\n",
       "      <td>-0.493492</td>\n",
       "      <td>0.940818</td>\n",
       "      <td>0.489316</td>\n",
       "      <td>0.803529</td>\n",
       "      <td>-0.018121</td>\n",
       "      <td>1.297671</td>\n",
       "      <td>0.159171</td>\n",
       "      <td>-0.131467</td>\n",
       "      <td>1.028797</td>\n",
       "      <td>-0.688768</td>\n",
       "      <td>0.113325</td>\n",
       "      <td>0.882357</td>\n",
       "    </tr>\n",
       "    <tr>\n",
       "      <th>3</th>\n",
       "      <td>-1.098221</td>\n",
       "      <td>1.720142</td>\n",
       "      <td>-0.555736</td>\n",
       "      <td>-0.733190</td>\n",
       "      <td>-1.007422</td>\n",
       "      <td>-0.309169</td>\n",
       "      <td>-0.846751</td>\n",
       "      <td>-0.897239</td>\n",
       "      <td>2.215358</td>\n",
       "      <td>0.401287</td>\n",
       "      <td>0.176784</td>\n",
       "      <td>-0.730617</td>\n",
       "      <td>-0.685360</td>\n",
       "      <td>-0.841563</td>\n",
       "    </tr>\n",
       "    <tr>\n",
       "      <th>4</th>\n",
       "      <td>-1.108657</td>\n",
       "      <td>-0.917327</td>\n",
       "      <td>-1.064069</td>\n",
       "      <td>0.122955</td>\n",
       "      <td>-1.011093</td>\n",
       "      <td>-0.943582</td>\n",
       "      <td>-0.969972</td>\n",
       "      <td>-0.699218</td>\n",
       "      <td>-0.933938</td>\n",
       "      <td>-0.926419</td>\n",
       "      <td>-0.563418</td>\n",
       "      <td>-0.991127</td>\n",
       "      <td>-0.665644</td>\n",
       "      <td>-0.155171</td>\n",
       "    </tr>\n",
       "  </tbody>\n",
       "</table>\n",
       "</div>"
      ],
      "text/plain": [
       "          A         B         C         D       AxA       AxB       AxC  \\\n",
       "0  1.524643 -1.472584 -1.489408  1.247081  1.849727 -0.811742 -0.837138   \n",
       "1  0.790658  1.397399  0.806733  0.874693  0.661849  1.851068  1.268851   \n",
       "2  0.665429  0.404878 -0.493492  0.940818  0.489316  0.803529 -0.018121   \n",
       "3 -1.098221  1.720142 -0.555736 -0.733190 -1.007422 -0.309169 -0.846751   \n",
       "4 -1.108657 -0.917327 -1.064069  0.122955 -1.011093 -0.943582 -0.969972   \n",
       "\n",
       "        AxD       BxB       BxC       BxD       CxC       CxD       DxD  \n",
       "0  2.549205 -1.101843 -1.108144 -0.842511 -1.097849 -0.864636  1.366894  \n",
       "1  1.361811  1.621344  1.878242  1.955959  0.681696  1.362519  0.784609  \n",
       "2  1.297671  0.159171 -0.131467  1.028797 -0.688768  0.113325  0.882357  \n",
       "3 -0.897239  2.215358  0.401287  0.176784 -0.730617 -0.685360 -0.841563  \n",
       "4 -0.699218 -0.933938 -0.926419 -0.563418 -0.991127 -0.665644 -0.155171  "
      ]
     },
     "execution_count": 102,
     "metadata": {},
     "output_type": "execute_result"
    }
   ],
   "source": [
    "df3.head()"
   ]
  },
  {
   "cell_type": "code",
   "execution_count": 103,
   "metadata": {},
   "outputs": [
    {
     "data": {
      "text/plain": [
       "14"
      ]
     },
     "execution_count": 103,
     "metadata": {},
     "output_type": "execute_result"
    }
   ],
   "source": [
    "df3.shape[1]"
   ]
  },
  {
   "cell_type": "code",
   "execution_count": 104,
   "metadata": {},
   "outputs": [],
   "source": [
    "from sklearn.decomposition import PCA"
   ]
  },
  {
   "cell_type": "code",
   "execution_count": 105,
   "metadata": {},
   "outputs": [],
   "source": [
    "pca = PCA(n_components=df3.shape[1])"
   ]
  },
  {
   "cell_type": "code",
   "execution_count": 106,
   "metadata": {},
   "outputs": [
    {
     "data": {
      "text/plain": [
       "array([[-0.43589026, -0.15788098,  1.52213376, ..., -0.07963859,\n",
       "         0.00849475,  0.10500093],\n",
       "       [ 4.75053149, -0.6827325 , -0.89666753, ..., -0.15043615,\n",
       "        -0.14832939,  0.17828828],\n",
       "       [ 1.47734739, -1.16168224, -0.18221086, ...,  0.04287002,\n",
       "        -0.01553272, -0.14151248],\n",
       "       ...,\n",
       "       [-1.63244436,  0.95491332,  0.31121076, ..., -0.07452253,\n",
       "        -0.12813233, -0.09893741],\n",
       "       [-0.4920575 ,  0.21700632,  1.85049877, ..., -0.14109343,\n",
       "        -0.13280799, -0.10069964],\n",
       "       [-1.96807145,  0.06405901,  0.26659957, ..., -0.03700894,\n",
       "        -0.03455973, -0.12404066]])"
      ]
     },
     "execution_count": 106,
     "metadata": {},
     "output_type": "execute_result"
    }
   ],
   "source": [
    "pca.fit_transform(df3)"
   ]
  },
  {
   "cell_type": "code",
   "execution_count": 107,
   "metadata": {},
   "outputs": [],
   "source": [
    "vec_var = pca.explained_variance_"
   ]
  },
  {
   "cell_type": "code",
   "execution_count": 108,
   "metadata": {},
   "outputs": [],
   "source": [
    "pca_comp = (vec_var>1).sum()"
   ]
  },
  {
   "cell_type": "code",
   "execution_count": 109,
   "metadata": {},
   "outputs": [],
   "source": [
    "pca2 = PCA(n_components=pca_comp)"
   ]
  },
  {
   "cell_type": "code",
   "execution_count": 110,
   "metadata": {},
   "outputs": [],
   "source": [
    "mat4 = pca2.fit_transform(df3)"
   ]
  },
  {
   "cell_type": "code",
   "execution_count": 111,
   "metadata": {},
   "outputs": [
    {
     "data": {
      "text/plain": [
       "(10000, 4)"
      ]
     },
     "execution_count": 111,
     "metadata": {},
     "output_type": "execute_result"
    }
   ],
   "source": [
    "mat4.shape"
   ]
  },
  {
   "cell_type": "code",
   "execution_count": 112,
   "metadata": {},
   "outputs": [],
   "source": [
    "Z = df['A'] + df['C']*df['C']*df['C']"
   ]
  },
  {
   "cell_type": "code",
   "execution_count": 113,
   "metadata": {},
   "outputs": [
    {
     "data": {
      "text/plain": [
       "0       315368\n",
       "1    392223893\n",
       "2     45118705\n",
       "3     38614654\n",
       "4      6968050\n",
       "dtype: int32"
      ]
     },
     "execution_count": 113,
     "metadata": {},
     "output_type": "execute_result"
    }
   ],
   "source": [
    "Z.head()"
   ]
  },
  {
   "cell_type": "code",
   "execution_count": 114,
   "metadata": {},
   "outputs": [],
   "source": [
    "columns = ['col'+str(i) for i in range(mat4.shape[1]+1)]"
   ]
  },
  {
   "cell_type": "code",
   "execution_count": 115,
   "metadata": {},
   "outputs": [],
   "source": [
    "df5 = pd.DataFrame(index=df1.index, columns=columns)"
   ]
  },
  {
   "cell_type": "code",
   "execution_count": 116,
   "metadata": {},
   "outputs": [],
   "source": [
    "df5.loc[:,df5.columns[:-1]] = mat4\n",
    "df5.loc[:,df5.columns[-1]]  = Z"
   ]
  },
  {
   "cell_type": "code",
   "execution_count": 117,
   "metadata": {},
   "outputs": [
    {
     "data": {
      "text/html": [
       "<div>\n",
       "<style scoped>\n",
       "    .dataframe tbody tr th:only-of-type {\n",
       "        vertical-align: middle;\n",
       "    }\n",
       "\n",
       "    .dataframe tbody tr th {\n",
       "        vertical-align: top;\n",
       "    }\n",
       "\n",
       "    .dataframe thead th {\n",
       "        text-align: right;\n",
       "    }\n",
       "</style>\n",
       "<table border=\"1\" class=\"dataframe\">\n",
       "  <thead>\n",
       "    <tr style=\"text-align: right;\">\n",
       "      <th></th>\n",
       "      <th>col0</th>\n",
       "      <th>col1</th>\n",
       "      <th>col2</th>\n",
       "      <th>col3</th>\n",
       "      <th>col4</th>\n",
       "    </tr>\n",
       "  </thead>\n",
       "  <tbody>\n",
       "    <tr>\n",
       "      <th>0</th>\n",
       "      <td>-0.43589</td>\n",
       "      <td>-0.157881</td>\n",
       "      <td>1.52213</td>\n",
       "      <td>4.48228</td>\n",
       "      <td>315368</td>\n",
       "    </tr>\n",
       "    <tr>\n",
       "      <th>1</th>\n",
       "      <td>4.75053</td>\n",
       "      <td>-0.682732</td>\n",
       "      <td>-0.896668</td>\n",
       "      <td>-0.343822</td>\n",
       "      <td>392223893</td>\n",
       "    </tr>\n",
       "    <tr>\n",
       "      <th>2</th>\n",
       "      <td>1.47735</td>\n",
       "      <td>-1.16168</td>\n",
       "      <td>-0.182211</td>\n",
       "      <td>1.71394</td>\n",
       "      <td>45118705</td>\n",
       "    </tr>\n",
       "    <tr>\n",
       "      <th>3</th>\n",
       "      <td>-0.921408</td>\n",
       "      <td>-1.52455</td>\n",
       "      <td>-2.66489</td>\n",
       "      <td>-1.66502</td>\n",
       "      <td>38614654</td>\n",
       "    </tr>\n",
       "    <tr>\n",
       "      <th>4</th>\n",
       "      <td>-2.88949</td>\n",
       "      <td>-0.941152</td>\n",
       "      <td>0.633769</td>\n",
       "      <td>0.284991</td>\n",
       "      <td>6968050</td>\n",
       "    </tr>\n",
       "  </tbody>\n",
       "</table>\n",
       "</div>"
      ],
      "text/plain": [
       "       col0      col1      col2      col3       col4\n",
       "0  -0.43589 -0.157881   1.52213   4.48228     315368\n",
       "1   4.75053 -0.682732 -0.896668 -0.343822  392223893\n",
       "2   1.47735  -1.16168 -0.182211   1.71394   45118705\n",
       "3 -0.921408  -1.52455  -2.66489  -1.66502   38614654\n",
       "4  -2.88949 -0.941152  0.633769  0.284991    6968050"
      ]
     },
     "execution_count": 117,
     "metadata": {},
     "output_type": "execute_result"
    }
   ],
   "source": [
    "df5.head()"
   ]
  },
  {
   "cell_type": "code",
   "execution_count": null,
   "metadata": {},
   "outputs": [],
   "source": []
  },
  {
   "cell_type": "markdown",
   "metadata": {},
   "source": [
    "# NN con dati originali"
   ]
  },
  {
   "cell_type": "code",
   "execution_count": 118,
   "metadata": {},
   "outputs": [],
   "source": [
    "import torch"
   ]
  },
  {
   "cell_type": "code",
   "execution_count": 119,
   "metadata": {},
   "outputs": [
    {
     "data": {
      "text/html": [
       "<div>\n",
       "<style scoped>\n",
       "    .dataframe tbody tr th:only-of-type {\n",
       "        vertical-align: middle;\n",
       "    }\n",
       "\n",
       "    .dataframe tbody tr th {\n",
       "        vertical-align: top;\n",
       "    }\n",
       "\n",
       "    .dataframe thead th {\n",
       "        text-align: right;\n",
       "    }\n",
       "</style>\n",
       "<table border=\"1\" class=\"dataframe\">\n",
       "  <thead>\n",
       "    <tr style=\"text-align: right;\">\n",
       "      <th></th>\n",
       "      <th>A</th>\n",
       "      <th>B</th>\n",
       "      <th>C</th>\n",
       "      <th>D</th>\n",
       "    </tr>\n",
       "  </thead>\n",
       "  <tbody>\n",
       "    <tr>\n",
       "      <th>0</th>\n",
       "      <td>936</td>\n",
       "      <td>76</td>\n",
       "      <td>68</td>\n",
       "      <td>859</td>\n",
       "    </tr>\n",
       "    <tr>\n",
       "      <th>1</th>\n",
       "      <td>725</td>\n",
       "      <td>903</td>\n",
       "      <td>732</td>\n",
       "      <td>752</td>\n",
       "    </tr>\n",
       "    <tr>\n",
       "      <th>2</th>\n",
       "      <td>689</td>\n",
       "      <td>617</td>\n",
       "      <td>356</td>\n",
       "      <td>771</td>\n",
       "    </tr>\n",
       "    <tr>\n",
       "      <th>3</th>\n",
       "      <td>182</td>\n",
       "      <td>996</td>\n",
       "      <td>338</td>\n",
       "      <td>290</td>\n",
       "    </tr>\n",
       "    <tr>\n",
       "      <th>4</th>\n",
       "      <td>179</td>\n",
       "      <td>236</td>\n",
       "      <td>191</td>\n",
       "      <td>536</td>\n",
       "    </tr>\n",
       "  </tbody>\n",
       "</table>\n",
       "</div>"
      ],
      "text/plain": [
       "     A    B    C    D\n",
       "0  936   76   68  859\n",
       "1  725  903  732  752\n",
       "2  689  617  356  771\n",
       "3  182  996  338  290\n",
       "4  179  236  191  536"
      ]
     },
     "execution_count": 119,
     "metadata": {},
     "output_type": "execute_result"
    }
   ],
   "source": [
    "df.head()"
   ]
  },
  {
   "cell_type": "code",
   "execution_count": 122,
   "metadata": {},
   "outputs": [],
   "source": [
    "zscore = StandardScaler()\n",
    "df_ = pd.DataFrame(zscore.fit_transform(df))"
   ]
  },
  {
   "cell_type": "code",
   "execution_count": 123,
   "metadata": {},
   "outputs": [
    {
     "data": {
      "text/html": [
       "<div>\n",
       "<style scoped>\n",
       "    .dataframe tbody tr th:only-of-type {\n",
       "        vertical-align: middle;\n",
       "    }\n",
       "\n",
       "    .dataframe tbody tr th {\n",
       "        vertical-align: top;\n",
       "    }\n",
       "\n",
       "    .dataframe thead th {\n",
       "        text-align: right;\n",
       "    }\n",
       "</style>\n",
       "<table border=\"1\" class=\"dataframe\">\n",
       "  <thead>\n",
       "    <tr style=\"text-align: right;\">\n",
       "      <th></th>\n",
       "      <th>0</th>\n",
       "      <th>1</th>\n",
       "      <th>2</th>\n",
       "      <th>3</th>\n",
       "    </tr>\n",
       "  </thead>\n",
       "  <tbody>\n",
       "    <tr>\n",
       "      <th>0</th>\n",
       "      <td>1.524643</td>\n",
       "      <td>-1.472584</td>\n",
       "      <td>-1.489408</td>\n",
       "      <td>1.247081</td>\n",
       "    </tr>\n",
       "    <tr>\n",
       "      <th>1</th>\n",
       "      <td>0.790658</td>\n",
       "      <td>1.397399</td>\n",
       "      <td>0.806733</td>\n",
       "      <td>0.874693</td>\n",
       "    </tr>\n",
       "    <tr>\n",
       "      <th>2</th>\n",
       "      <td>0.665429</td>\n",
       "      <td>0.404878</td>\n",
       "      <td>-0.493492</td>\n",
       "      <td>0.940818</td>\n",
       "    </tr>\n",
       "    <tr>\n",
       "      <th>3</th>\n",
       "      <td>-1.098221</td>\n",
       "      <td>1.720142</td>\n",
       "      <td>-0.555736</td>\n",
       "      <td>-0.733190</td>\n",
       "    </tr>\n",
       "    <tr>\n",
       "      <th>4</th>\n",
       "      <td>-1.108657</td>\n",
       "      <td>-0.917327</td>\n",
       "      <td>-1.064069</td>\n",
       "      <td>0.122955</td>\n",
       "    </tr>\n",
       "  </tbody>\n",
       "</table>\n",
       "</div>"
      ],
      "text/plain": [
       "          0         1         2         3\n",
       "0  1.524643 -1.472584 -1.489408  1.247081\n",
       "1  0.790658  1.397399  0.806733  0.874693\n",
       "2  0.665429  0.404878 -0.493492  0.940818\n",
       "3 -1.098221  1.720142 -0.555736 -0.733190\n",
       "4 -1.108657 -0.917327 -1.064069  0.122955"
      ]
     },
     "execution_count": 123,
     "metadata": {},
     "output_type": "execute_result"
    }
   ],
   "source": [
    "df_.head()"
   ]
  },
  {
   "cell_type": "code",
   "execution_count": 124,
   "metadata": {},
   "outputs": [],
   "source": [
    "df_['Z'] = Z"
   ]
  },
  {
   "cell_type": "code",
   "execution_count": 125,
   "metadata": {},
   "outputs": [
    {
     "data": {
      "text/html": [
       "<div>\n",
       "<style scoped>\n",
       "    .dataframe tbody tr th:only-of-type {\n",
       "        vertical-align: middle;\n",
       "    }\n",
       "\n",
       "    .dataframe tbody tr th {\n",
       "        vertical-align: top;\n",
       "    }\n",
       "\n",
       "    .dataframe thead th {\n",
       "        text-align: right;\n",
       "    }\n",
       "</style>\n",
       "<table border=\"1\" class=\"dataframe\">\n",
       "  <thead>\n",
       "    <tr style=\"text-align: right;\">\n",
       "      <th></th>\n",
       "      <th>0</th>\n",
       "      <th>1</th>\n",
       "      <th>2</th>\n",
       "      <th>3</th>\n",
       "      <th>Z</th>\n",
       "    </tr>\n",
       "  </thead>\n",
       "  <tbody>\n",
       "    <tr>\n",
       "      <th>0</th>\n",
       "      <td>1.524643</td>\n",
       "      <td>-1.472584</td>\n",
       "      <td>-1.489408</td>\n",
       "      <td>1.247081</td>\n",
       "      <td>315368</td>\n",
       "    </tr>\n",
       "    <tr>\n",
       "      <th>1</th>\n",
       "      <td>0.790658</td>\n",
       "      <td>1.397399</td>\n",
       "      <td>0.806733</td>\n",
       "      <td>0.874693</td>\n",
       "      <td>392223893</td>\n",
       "    </tr>\n",
       "    <tr>\n",
       "      <th>2</th>\n",
       "      <td>0.665429</td>\n",
       "      <td>0.404878</td>\n",
       "      <td>-0.493492</td>\n",
       "      <td>0.940818</td>\n",
       "      <td>45118705</td>\n",
       "    </tr>\n",
       "    <tr>\n",
       "      <th>3</th>\n",
       "      <td>-1.098221</td>\n",
       "      <td>1.720142</td>\n",
       "      <td>-0.555736</td>\n",
       "      <td>-0.733190</td>\n",
       "      <td>38614654</td>\n",
       "    </tr>\n",
       "    <tr>\n",
       "      <th>4</th>\n",
       "      <td>-1.108657</td>\n",
       "      <td>-0.917327</td>\n",
       "      <td>-1.064069</td>\n",
       "      <td>0.122955</td>\n",
       "      <td>6968050</td>\n",
       "    </tr>\n",
       "  </tbody>\n",
       "</table>\n",
       "</div>"
      ],
      "text/plain": [
       "          0         1         2         3          Z\n",
       "0  1.524643 -1.472584 -1.489408  1.247081     315368\n",
       "1  0.790658  1.397399  0.806733  0.874693  392223893\n",
       "2  0.665429  0.404878 -0.493492  0.940818   45118705\n",
       "3 -1.098221  1.720142 -0.555736 -0.733190   38614654\n",
       "4 -1.108657 -0.917327 -1.064069  0.122955    6968050"
      ]
     },
     "execution_count": 125,
     "metadata": {},
     "output_type": "execute_result"
    }
   ],
   "source": [
    "df_.head()"
   ]
  },
  {
   "cell_type": "code",
   "execution_count": 126,
   "metadata": {},
   "outputs": [],
   "source": [
    "in_data = df_.astype(np.float32)"
   ]
  },
  {
   "cell_type": "code",
   "execution_count": 128,
   "metadata": {},
   "outputs": [],
   "source": [
    "in_data_tens = torch.from_numpy(in_data.values)"
   ]
  },
  {
   "cell_type": "code",
   "execution_count": 129,
   "metadata": {},
   "outputs": [],
   "source": [
    "from sklearn.model_selection import train_test_split"
   ]
  },
  {
   "cell_type": "code",
   "execution_count": 130,
   "metadata": {},
   "outputs": [],
   "source": [
    "in_data_tens_train, in_data_tens_cv = train_test_split(in_data_tens, test_size=0.20)"
   ]
  },
  {
   "cell_type": "code",
   "execution_count": 131,
   "metadata": {},
   "outputs": [
    {
     "data": {
      "text/plain": [
       "(torch.Size([8000, 4]),\n",
       " torch.Size([8000]),\n",
       " torch.Size([2000, 4]),\n",
       " torch.Size([2000]))"
      ]
     },
     "execution_count": 131,
     "metadata": {},
     "output_type": "execute_result"
    }
   ],
   "source": [
    "x_train = in_data_tens_train[:,:-1]\n",
    "y_train = in_data_tens_train[:,-1]\n",
    "x_cv = in_data_tens_cv[:,:-1]\n",
    "y_cv = in_data_tens_cv[:,-1]\n",
    "\n",
    "x_train.shape,y_train.shape,x_cv.shape,y_cv.shape"
   ]
  },
  {
   "cell_type": "code",
   "execution_count": null,
   "metadata": {},
   "outputs": [],
   "source": []
  },
  {
   "cell_type": "code",
   "execution_count": 132,
   "metadata": {},
   "outputs": [
    {
     "data": {
      "text/plain": [
       "tensor([1.3825e+07, 1.9610e+03, 9.4119e+08,  ..., 4.7438e+07, 2.5155e+07,\n",
       "        1.8617e+08])"
      ]
     },
     "execution_count": 132,
     "metadata": {},
     "output_type": "execute_result"
    }
   ],
   "source": [
    "y_train"
   ]
  },
  {
   "cell_type": "code",
   "execution_count": null,
   "metadata": {},
   "outputs": [],
   "source": []
  },
  {
   "cell_type": "code",
   "execution_count": 133,
   "metadata": {},
   "outputs": [],
   "source": [
    "import torch\n",
    "from torch import nn"
   ]
  },
  {
   "cell_type": "code",
   "execution_count": 134,
   "metadata": {},
   "outputs": [],
   "source": [
    "nn_model = nn.Sequential(\n",
    "    nn.Linear(x_train.shape[1],250),\n",
    "    nn.ReLU(),\n",
    "    nn.Linear(250,1),\n",
    "    nn.ReLU(),\n",
    ")"
   ]
  },
  {
   "cell_type": "code",
   "execution_count": 135,
   "metadata": {},
   "outputs": [
    {
     "data": {
      "text/plain": [
       "tensor([[0.0000],\n",
       "        [0.0160],\n",
       "        [0.3816],\n",
       "        ...,\n",
       "        [0.1398],\n",
       "        [0.0000],\n",
       "        [0.0370]], grad_fn=<ReluBackward0>)"
      ]
     },
     "execution_count": 135,
     "metadata": {},
     "output_type": "execute_result"
    }
   ],
   "source": [
    "nn_model(x_cv)"
   ]
  },
  {
   "cell_type": "code",
   "execution_count": 136,
   "metadata": {},
   "outputs": [],
   "source": [
    "error = nn.MSELoss()"
   ]
  },
  {
   "cell_type": "code",
   "execution_count": 139,
   "metadata": {},
   "outputs": [],
   "source": [
    "learning_rate = 100\n",
    "optimizer = torch.optim.SGD(nn_model.parameters(), lr = learning_rate)"
   ]
  },
  {
   "cell_type": "code",
   "execution_count": 141,
   "metadata": {},
   "outputs": [
    {
     "name": "stdout",
     "output_type": "stream",
     "text": [
      "tensor(1.4312e+17)\n",
      "tensor(1.4312e+17)\n",
      "tensor(1.4312e+17)\n",
      "tensor(1.4312e+17)\n",
      "tensor(1.4312e+17)\n",
      "tensor(1.4312e+17)\n",
      "tensor(1.4312e+17)\n",
      "tensor(1.4312e+17)\n",
      "tensor(1.4312e+17)\n",
      "tensor(1.4312e+17)\n"
     ]
    }
   ],
   "source": [
    "for i in range(1000):\n",
    "    y_pred = nn_model(x_train) #calcolo l'uscita\n",
    "    loss = error(y_pred, y_train.reshape(-1,1))  #calcolo l'errore\n",
    "    loss.backward()        #calcolo del gradiente\n",
    "    optimizer.step()       #aggiornamento dei parametri\n",
    "    optimizer.zero_grad()  #azzeramento del gradiente\n",
    "    if np.mod(i,100)==0:\n",
    "        print(loss.data)"
   ]
  },
  {
   "cell_type": "code",
   "execution_count": 142,
   "metadata": {},
   "outputs": [
    {
     "data": {
      "text/plain": [
       "(torch.Size([8000, 1]), torch.Size([8000, 1]))"
      ]
     },
     "execution_count": 142,
     "metadata": {},
     "output_type": "execute_result"
    }
   ],
   "source": [
    "y_pred.shape, y_train.reshape(-1,1).shape"
   ]
  },
  {
   "cell_type": "code",
   "execution_count": 60,
   "metadata": {},
   "outputs": [
    {
     "data": {
      "text/plain": [
       "tensor(1.0138, grad_fn=<MseLossBackward>)"
      ]
     },
     "execution_count": 60,
     "metadata": {},
     "output_type": "execute_result"
    }
   ],
   "source": [
    "error(y_pred, y_train)"
   ]
  },
  {
   "cell_type": "code",
   "execution_count": 90,
   "metadata": {},
   "outputs": [
    {
     "name": "stdout",
     "output_type": "stream",
     "text": [
      "Parameter containing:\n",
      "tensor([[ 3.3220e-01,  3.3267e-01, -3.3742e-01, -2.4557e-01],\n",
      "        [ 3.4413e+01, -3.8392e+01,  3.1942e+01, -3.6865e+01],\n",
      "        [ 5.9346e+02, -4.0683e+02,  1.7481e+01,  4.2063e+02],\n",
      "        [ 4.0019e+01,  4.7625e+01, -1.6541e+01, -4.3849e+01],\n",
      "        [ 2.6263e+03,  2.1071e+03,  2.8428e+03,  3.0673e+03],\n",
      "        [-3.2013e+02, -3.0274e+01, -3.3539e+02, -1.3158e+02],\n",
      "        [-4.7767e+03, -2.6226e+03, -8.6554e+03,  3.3441e+03],\n",
      "        [-5.1630e+03, -3.5368e+03, -9.2527e+03,  3.1289e+03],\n",
      "        [ 2.5509e+02,  2.5543e+02,  1.7682e+00, -1.0291e+02],\n",
      "        [ 4.0302e+02,  4.1188e+02,  2.7658e+02, -2.4103e+02],\n",
      "        [-1.1508e-01, -9.8981e-02, -8.0121e-02,  8.9604e-02],\n",
      "        [ 1.1449e+00,  4.2494e+01, -1.8912e+02, -5.9564e+01],\n",
      "        [ 1.0819e+03,  1.1021e+03,  1.4470e+03, -2.0250e+03],\n",
      "        [ 2.3356e+02, -2.5787e+02,  7.0079e+02,  4.2047e+01],\n",
      "        [ 1.4598e+02,  1.2092e+02,  8.7692e+01, -1.1459e+02],\n",
      "        [-5.8454e+03, -3.0572e+03, -9.9112e+03,  3.1252e+03],\n",
      "        [ 1.4812e+02,  4.9952e+02,  5.4315e+02, -2.1236e+01],\n",
      "        [ 4.8534e+02, -1.3026e+03,  2.8605e+03,  7.4591e+02],\n",
      "        [-2.6918e+03, -1.4485e+03, -4.5238e+03,  1.4123e+03],\n",
      "        [-2.3979e+02,  2.9861e+01,  8.8097e+01, -3.4957e+01],\n",
      "        [-2.2849e+03, -1.0260e+04, -1.3140e+04,  1.2084e+04],\n",
      "        [-2.3685e+00, -1.9066e+01, -1.5066e+01, -1.1545e+01],\n",
      "        [ 9.6915e-01,  3.3499e+00, -2.0491e+00, -1.4068e+00],\n",
      "        [-4.4273e+02, -1.0404e+03, -1.0498e+03, -1.8534e+03],\n",
      "        [-4.4580e+03, -2.5409e+03, -8.0519e+03,  3.4339e+03],\n",
      "        [-9.9781e+03, -5.8872e+03, -1.8508e+04,  6.0525e+03],\n",
      "        [-4.4315e+02,  6.6285e+02, -4.1424e+02,  5.3705e+02],\n",
      "        [-8.3983e+01, -3.3784e+02, -5.7387e+02, -8.3416e+01],\n",
      "        [ 2.0766e+02,  9.7997e+01,  1.9393e+02, -4.8080e+01],\n",
      "        [ 1.5755e+02,  1.3454e+02,  1.8531e+02, -6.4525e+01],\n",
      "        [ 5.7007e+02,  5.3012e+02, -1.5039e+02,  3.0961e+02],\n",
      "        [-1.9087e+03, -1.6964e+03, -7.0127e+03,  3.7794e+03],\n",
      "        [ 3.6454e+01,  5.1617e+01, -3.1809e+01, -2.2772e+01],\n",
      "        [-3.9538e+03, -2.4194e+03, -7.4448e+03,  2.3250e+03],\n",
      "        [-3.2603e+03, -2.0596e+03, -6.0184e+03,  2.0158e+03],\n",
      "        [ 2.9886e+03,  2.7743e+03, -1.1169e+03,  1.8591e+02],\n",
      "        [ 1.1870e+02,  2.3284e+02,  1.8696e+02, -7.0682e+01],\n",
      "        [-1.0889e+04, -6.8009e+03, -2.0178e+04,  6.7005e+03],\n",
      "        [ 9.1645e+02, -4.5286e+02,  1.6156e+03,  9.7031e-01],\n",
      "        [ 1.4538e+02,  1.3451e+02, -1.1507e+03, -2.5582e+02],\n",
      "        [-2.6202e+03, -1.6414e+03, -1.8071e+03,  2.7899e+03],\n",
      "        [ 7.8946e+02, -8.0997e+01, -5.2288e+02,  4.9412e+02],\n",
      "        [-8.2046e+02, -7.5326e+02, -1.9305e+03, -1.2481e+02],\n",
      "        [-4.5595e+03, -2.7686e+03, -7.8758e+03,  2.5145e+03],\n",
      "        [ 5.1019e+01,  2.7919e+02, -1.0214e+02,  1.0890e+02],\n",
      "        [ 2.4892e+02,  1.0106e+02,  3.0313e+02, -1.6342e+02],\n",
      "        [ 5.0141e+01,  6.5085e+02,  1.3717e+03, -9.4262e+02],\n",
      "        [-2.1101e+03, -2.2946e+03, -4.9637e+03,  1.0157e+03],\n",
      "        [ 4.0782e+01,  1.2167e+02, -3.3157e+02,  5.9768e+01],\n",
      "        [ 2.3969e+02,  4.8029e+02, -7.0043e+01, -3.4717e+02],\n",
      "        [ 1.1966e+03,  1.2838e+03,  1.6423e+03, -9.4450e+02],\n",
      "        [ 9.0257e+01, -2.2834e+02, -3.9916e+03, -1.4925e+03],\n",
      "        [ 9.5517e-01,  9.8622e-01, -1.0365e+00, -8.8884e-01],\n",
      "        [ 2.7373e+02,  4.0250e+02, -3.6494e+01, -1.1206e+02],\n",
      "        [ 4.8847e+02,  1.9256e+03,  5.8248e+03, -1.6338e+03],\n",
      "        [ 6.1290e+02,  6.6439e+02,  1.2017e+02, -1.4655e+02],\n",
      "        [-9.0215e+02,  4.8828e+02, -8.7542e+02, -2.1035e+03],\n",
      "        [ 9.5657e+01,  6.9995e+01,  5.8578e+00,  1.0560e+02],\n",
      "        [-4.0691e+02, -2.9789e+02, -2.4144e+02, -1.2136e+01],\n",
      "        [ 2.3099e+03, -9.5364e+02,  3.6099e+02,  6.3281e+02],\n",
      "        [-1.3245e+02,  1.6030e+02, -3.3418e+02, -1.5329e+02],\n",
      "        [-4.1759e+03, -2.1896e+03, -6.0925e+03,  1.9882e+03],\n",
      "        [ 6.9535e+02,  1.0808e+03,  1.2711e+03, -1.5465e+03],\n",
      "        [-1.1777e+02, -6.7836e+02, -4.0883e+02,  1.9790e+02],\n",
      "        [ 1.0420e+01, -1.6352e+01, -1.4256e+01,  1.6743e+01],\n",
      "        [-4.4251e-01, -5.2281e-01,  3.3057e-01, -4.3794e-01],\n",
      "        [-2.0927e+01,  7.9328e+01, -6.6817e+01, -4.7165e+01],\n",
      "        [-5.0316e+01, -1.8735e+01, -2.4607e+01,  5.1049e+01],\n",
      "        [ 2.6136e+02, -2.5324e+02, -1.8808e+01,  1.3030e+02],\n",
      "        [ 4.0308e+02,  2.6229e+02, -3.0414e+02, -1.3930e+03],\n",
      "        [ 7.3116e+01,  9.7306e+02,  1.1558e+03, -1.2039e+03],\n",
      "        [ 3.3825e+02,  6.7470e+02,  5.8572e+02, -7.5584e+02],\n",
      "        [-1.0098e+04, -7.0283e+03, -1.9128e+04,  5.4710e+03],\n",
      "        [-4.5875e+03, -2.4536e+03, -4.8547e+03,  2.9460e+02],\n",
      "        [-1.1740e+02, -4.0223e+01, -2.9614e+02,  4.4236e+01],\n",
      "        [-1.3127e+04, -8.8786e+03, -2.4677e+04,  7.5377e+03],\n",
      "        [-9.3419e+02, -1.7389e+03, -2.5690e+03,  1.1688e+03],\n",
      "        [-9.9283e+03, -6.4917e+03, -1.6976e+04,  3.5910e+03],\n",
      "        [ 4.7953e+02,  1.3181e+03,  6.3877e+02, -2.0920e+03],\n",
      "        [-2.8387e+01, -1.0596e+02,  8.6168e+00,  5.5499e+01],\n",
      "        [-9.7293e+01,  1.9700e+02, -1.3490e+02, -1.4706e+03],\n",
      "        [ 5.2904e+00,  1.8820e+03,  2.2119e+03, -3.5883e+03],\n",
      "        [-3.2103e+03, -1.8052e+03, -5.0541e+03,  1.4777e+03],\n",
      "        [-1.5583e+03,  6.9715e+03, -5.3111e+03,  1.6863e+03],\n",
      "        [-3.2621e+03, -2.5976e+03, -7.7574e+03,  2.6991e+03],\n",
      "        [-4.7847e+00, -1.4147e+01, -1.8419e+00,  1.7413e+01],\n",
      "        [ 5.2176e+00,  1.2197e+02, -2.5001e+02, -3.2277e+02],\n",
      "        [-4.2526e+02, -1.3698e+02,  2.3525e+02, -3.8140e+02],\n",
      "        [ 3.9495e+02,  1.8478e+03,  2.6481e+03, -1.1787e+03],\n",
      "        [ 6.8749e+01,  9.1574e+02,  7.5221e+02,  6.0879e+02],\n",
      "        [-6.8840e+01, -4.9814e+01,  1.4281e+01,  6.9865e+01],\n",
      "        [-2.9146e+02,  4.4436e+02, -1.4111e+02,  1.4117e+02],\n",
      "        [-9.0968e+03, -5.8254e+03, -1.7111e+04,  5.4116e+03],\n",
      "        [-4.5605e+01, -1.5559e+02, -3.0523e+02,  2.1100e+02],\n",
      "        [ 3.2863e+00,  1.3636e+01, -3.5048e+00,  2.0105e+01],\n",
      "        [-6.9205e+02,  1.5227e+03, -4.0670e+02,  5.0850e+02],\n",
      "        [-2.1162e+03,  2.2897e+03,  7.2904e+02, -2.5601e+03],\n",
      "        [-1.3733e+04, -1.0929e+04, -1.4316e+04,  9.1812e+03],\n",
      "        [ 4.0060e+02, -1.3867e+02, -4.0465e+02,  5.1075e+02],\n",
      "        [ 2.3916e+02,  4.7108e+02,  2.1675e+02, -2.9989e+02],\n",
      "        [ 2.3453e+02, -3.2331e+00, -2.9842e+02, -5.4774e+02],\n",
      "        [-5.3496e+03, -3.5301e+03, -9.6600e+03,  3.1025e+03],\n",
      "        [ 4.1286e+01,  3.7890e+01,  4.9554e+01, -4.2873e+01],\n",
      "        [ 5.4939e+00, -4.2299e+00, -9.7946e+00,  3.9596e+00],\n",
      "        [-5.6102e+03, -3.7546e+03, -2.6467e+03,  1.0133e+03],\n",
      "        [ 8.3510e+02,  5.3217e+02,  1.4367e+03, -4.6424e+02],\n",
      "        [ 1.2439e+00,  7.3188e-01, -1.9519e+00,  1.4372e+00],\n",
      "        [-1.7777e+03,  3.6513e+02, -5.3530e+03, -6.3439e+03],\n",
      "        [-4.1163e+02,  6.1064e+01,  2.4674e+02,  3.9860e+02],\n",
      "        [-7.7737e+02, -4.2834e+02, -9.9766e+02, -8.3346e+01],\n",
      "        [-1.5994e+01, -3.9727e+02, -4.3017e+01,  4.1703e+02],\n",
      "        [-2.7245e+03, -1.6759e+03, -5.2265e+03,  1.7051e+03],\n",
      "        [ 7.1081e+02,  8.1817e+01, -3.7718e+02,  9.2810e+02],\n",
      "        [ 2.5906e+01,  1.1709e+03, -3.5793e+02, -1.2944e+03],\n",
      "        [ 8.8866e+02,  5.6823e+02,  8.2460e+02, -2.4493e+02],\n",
      "        [-3.9586e+03, -1.8510e+03, -3.7904e+03,  1.7483e+03],\n",
      "        [-1.6439e+02, -2.2821e+02, -6.7740e+01, -1.8507e+02],\n",
      "        [ 2.9209e+02,  1.1093e+02,  4.9528e+01, -2.6542e+02],\n",
      "        [-6.4399e+03, -5.4431e+03, -1.0958e+04,  2.4129e+03],\n",
      "        [ 8.3431e+02,  1.2013e+03,  1.8298e+03, -2.3290e+02],\n",
      "        [ 5.8023e+01,  7.3765e+01,  2.7030e+02, -1.1648e+02],\n",
      "        [-3.9720e+02, -7.2414e+02, -5.4828e+02, -2.9498e+02],\n",
      "        [ 5.4334e+01, -2.4663e+02, -2.4491e+02, -7.0038e+01],\n",
      "        [-5.0978e+01,  1.1382e+02,  7.3913e+01,  6.2488e+01],\n",
      "        [ 2.2658e+02, -8.9226e+02, -1.3496e+03,  8.8429e+02],\n",
      "        [ 5.5525e+02,  2.3724e+03,  1.8874e+03, -2.2341e+03],\n",
      "        [-1.5064e+02,  3.2457e+02,  1.5506e+03, -8.2589e+02],\n",
      "        [ 3.3986e+02, -3.8064e+02,  3.6020e+01, -1.8522e+03],\n",
      "        [ 2.1805e+03,  2.9310e+03,  4.1635e+03, -6.0421e+02],\n",
      "        [-8.8525e+03,  6.4255e+02, -1.2418e+04,  2.5492e+03],\n",
      "        [ 1.3799e+03,  6.1668e+02, -8.9904e+02, -3.7931e+01],\n",
      "        [ 1.1380e+03,  4.3291e+03,  4.5370e+03, -2.5644e+03],\n",
      "        [ 3.1610e+00, -8.8966e+00, -9.3006e+00, -4.3942e+01],\n",
      "        [-5.2091e+02,  6.3044e+02, -2.0538e+02, -8.5053e+02],\n",
      "        [ 1.1492e+03, -1.4960e+03, -1.9760e+03, -1.6987e+03],\n",
      "        [ 9.4902e+02, -7.0467e+02,  9.9528e+02,  9.0262e+02],\n",
      "        [ 2.2819e+02, -5.0421e+01, -6.0318e+02,  2.7197e+02],\n",
      "        [-2.1269e+03,  2.4823e+03, -3.6155e+01,  1.1260e+03],\n",
      "        [ 1.6119e+03,  1.6119e+03,  4.7456e+02, -4.8040e+02],\n",
      "        [-6.8912e+03, -5.1174e+03, -1.0762e+04,  4.0904e+03],\n",
      "        [-5.0890e+01, -5.2399e+02,  3.6627e+02, -6.7144e+02],\n",
      "        [ 8.0824e+02,  3.6635e+03,  8.3227e+02, -1.8131e+02],\n",
      "        [ 7.4105e+02,  4.9841e+01,  5.1354e+01,  5.0255e+02],\n",
      "        [ 4.1335e+02,  5.4474e+02,  3.9959e+02, -6.9791e+02],\n",
      "        [ 6.7704e+02,  4.2163e+02, -1.9972e+02,  4.9419e+02],\n",
      "        [ 5.9124e+03, -2.1105e+03, -4.8994e+03,  2.2765e+03],\n",
      "        [-7.1647e+01, -1.3199e+02, -5.1685e+01, -5.6805e+01],\n",
      "        [ 9.5630e+02,  6.8834e+02,  1.5517e+03, -5.3871e+02],\n",
      "        [ 1.4579e+02,  2.7644e+02,  5.9544e+02, -2.9138e+02],\n",
      "        [ 1.0616e+03,  1.9719e+03,  1.7000e+03, -1.6951e+03],\n",
      "        [-1.9871e+02,  1.0946e+02, -1.9212e+02, -3.2923e+02],\n",
      "        [-9.3084e+00,  6.9845e+00, -1.8169e+01, -6.4452e+00],\n",
      "        [-2.0217e+02,  4.2312e+02,  9.8492e+01, -9.6126e+01],\n",
      "        [-3.7049e+00, -5.9255e+00, -3.9659e+00,  1.9914e+00],\n",
      "        [ 2.6371e+02, -7.0737e+02, -4.1128e+01,  1.3268e+03],\n",
      "        [ 2.6453e+03,  5.3164e+02,  4.8640e+03, -2.3585e+03],\n",
      "        [-8.4949e+02,  2.0916e+02, -7.9104e+02, -4.4110e+02],\n",
      "        [-2.0670e+02, -3.3897e+00, -1.4253e+02, -4.1111e+02],\n",
      "        [ 1.1708e+03,  1.1378e+03,  1.2553e+03, -9.2751e+02],\n",
      "        [-1.4532e+01,  3.5754e+00, -1.4243e+01, -3.2563e+00],\n",
      "        [ 2.1636e+02, -2.8887e+02,  2.0444e+02, -2.0548e+02],\n",
      "        [-5.4476e+03, -3.5970e+03, -1.0264e+04,  4.2796e+03],\n",
      "        [ 7.8048e+02,  4.7585e+01,  8.9280e+02, -1.8236e+02],\n",
      "        [ 2.1625e+01,  2.5625e+01, -5.9337e-01, -7.0055e+01],\n",
      "        [ 2.8992e+02,  3.2798e+02,  4.3854e+02, -4.2902e+02],\n",
      "        [-1.8334e+02,  3.1738e+01,  1.0790e+02, -1.3180e+02],\n",
      "        [-4.7141e+03, -3.7617e+03, -9.4535e+03,  5.0110e+03],\n",
      "        [-4.5188e+02, -8.5609e+01,  1.3700e+03,  5.5332e+01],\n",
      "        [ 1.1822e+02,  6.3137e+02,  5.9164e+02,  1.8540e+02],\n",
      "        [-4.0461e+03, -2.6272e+03, -5.7376e+03,  1.8171e+03],\n",
      "        [-5.4131e+03, -3.2015e+03, -9.2397e+03,  3.2602e+03],\n",
      "        [ 4.3370e+02,  5.4502e+02, -1.8629e+02,  1.0706e+02],\n",
      "        [ 2.0912e+03,  3.3689e+02,  2.0369e+03,  1.3486e+02],\n",
      "        [ 4.7383e+02,  4.9496e-01,  5.1635e+02, -6.4244e+02],\n",
      "        [ 3.0272e+02,  3.1794e+02,  1.7112e+02, -2.5900e+02],\n",
      "        [-5.6524e+02, -8.0577e+02, -1.5481e+03,  3.5982e+02],\n",
      "        [-4.9043e+02,  1.6853e+03,  1.5435e+03, -2.5160e+03],\n",
      "        [ 2.8724e+03, -2.9241e+02,  1.2649e+03,  1.6936e+03],\n",
      "        [-4.8009e+01,  2.2958e+01, -5.5296e+01,  5.1922e+01],\n",
      "        [-2.2003e+02, -2.1035e+01,  1.8593e+02,  2.9167e+02],\n",
      "        [-6.5989e+02, -3.9886e+02, -3.6557e+03, -3.0414e+02],\n",
      "        [-5.5050e+03, -3.5027e+03, -1.0343e+04,  3.3224e+03],\n",
      "        [ 1.0379e+02,  7.5648e+01,  6.5748e+01, -5.1010e+01],\n",
      "        [-3.4396e+02, -6.7711e+02,  5.8811e+01, -4.3470e+02],\n",
      "        [ 8.0056e+01,  1.4602e+02,  3.1083e+02, -3.1166e+02],\n",
      "        [ 6.6943e+02, -5.6443e+02,  1.3632e+02,  1.3200e+03],\n",
      "        [-4.2191e+03, -2.4935e+03, -7.8647e+03,  2.4158e+03],\n",
      "        [ 2.1353e+01, -3.5295e+01, -4.4200e+01,  6.3775e+01],\n",
      "        [-1.0497e+04, -5.6872e+03, -2.0056e+04,  6.7065e+03],\n",
      "        [-7.4713e+02,  5.3988e+02,  6.7793e+02, -2.6894e+02],\n",
      "        [ 1.5625e+03,  8.1962e+02,  1.2450e+03, -8.9191e+02],\n",
      "        [ 1.3057e+02,  4.1361e+02,  2.9377e+02,  1.3100e+02],\n",
      "        [-6.4774e+02, -4.4675e+02,  3.2254e+02, -5.9979e+02],\n",
      "        [ 7.7132e+01, -7.3593e+02, -9.1789e+02, -1.1864e+01],\n",
      "        [-7.8358e+03,  4.2841e+03, -1.2574e+04,  8.6188e+03],\n",
      "        [-3.4450e+03, -2.6158e+03, -8.5734e+03,  1.6667e+03],\n",
      "        [-3.6769e-02,  7.1022e-02, -2.1800e-01, -4.1949e-02],\n",
      "        [-1.3804e+02,  1.8262e+02, -6.0569e+02, -3.3972e+02],\n",
      "        [ 8.0975e+02,  9.9446e+02, -1.1359e+03,  5.3271e+02],\n",
      "        [-3.4223e+01,  3.6720e+02, -3.0765e+02,  9.2208e+02],\n",
      "        [-1.5636e+03,  4.4651e+03,  3.8141e+02, -2.1901e+03],\n",
      "        [-1.2907e+02, -1.1694e+02, -1.2817e+02,  1.5582e+02],\n",
      "        [ 4.7310e+02,  9.5805e+02,  1.9161e+03, -7.8093e+02],\n",
      "        [ 1.2622e+02,  8.5921e+02, -1.7756e+03, -1.5055e+03],\n",
      "        [-6.0793e+02, -2.5233e+02, -6.0002e+02, -1.4291e+03],\n",
      "        [-4.1212e+02, -1.8182e+02, -6.0884e+02,  2.3142e+02],\n",
      "        [ 4.3488e+03,  2.8364e+03,  7.9104e+03, -3.2559e+03],\n",
      "        [ 2.9415e+01,  3.4243e+01,  3.8884e+01, -3.4380e+01],\n",
      "        [ 1.3059e+03,  8.0954e+02,  2.6497e+03, -8.7163e+02],\n",
      "        [ 2.8408e+02,  4.1009e+02,  2.5617e+02,  8.3115e+01],\n",
      "        [-4.0725e+02, -3.3029e+02, -7.8385e+02,  3.0396e+02],\n",
      "        [ 1.2258e+03,  5.9695e+02,  6.8398e+02, -4.1252e+02],\n",
      "        [ 1.3633e+03,  2.4931e+03,  3.4738e+03,  1.6187e+03],\n",
      "        [-2.1106e+03, -1.4588e+03, -5.7385e+03,  1.0701e+03],\n",
      "        [-1.4792e-01, -1.1062e-02,  2.5894e-02,  1.0352e-02],\n",
      "        [ 5.8283e+02, -7.0109e+01, -1.9947e+01, -1.8470e+02],\n",
      "        [ 1.0966e+02, -4.8455e+01,  8.2085e+00, -6.0198e+01],\n",
      "        [ 2.4364e-01, -9.4975e-02,  7.0532e-02, -5.7560e-02],\n",
      "        [ 8.4456e+02, -1.0790e+03,  1.7228e+03,  4.8244e+02],\n",
      "        [ 1.0680e+03,  1.0559e+03,  9.8824e+02,  1.5262e+02],\n",
      "        [-2.3470e+01,  1.5175e+01, -8.0536e+01, -1.8264e+02],\n",
      "        [-9.3356e+03, -6.5482e+03, -1.7018e+04,  5.0862e+03],\n",
      "        [-5.0848e+03, -2.0330e+03, -8.2089e+03,  2.2815e+03],\n",
      "        [-4.3558e+03, -3.5771e+03, -8.5004e+03,  3.1509e+03],\n",
      "        [-5.4363e+02, -6.5168e+02, -5.0744e+01,  6.6398e+02],\n",
      "        [ 6.0976e+02, -5.7758e+02, -4.1141e+03, -2.0465e+03],\n",
      "        [ 1.4530e+02, -5.8038e+01,  1.5204e+02,  3.8910e+01],\n",
      "        [ 8.4822e+02,  1.0339e+03,  2.3222e+03, -5.9230e+02],\n",
      "        [ 1.3020e+03,  1.3574e+03, -5.2889e+02,  1.2291e+02],\n",
      "        [ 2.7073e-01, -3.0933e-01,  1.9622e+00,  3.2840e-01],\n",
      "        [ 9.7986e+01,  7.4236e+00,  1.9704e+02, -9.8702e+01],\n",
      "        [ 1.4186e+02,  4.9053e+02,  9.8345e+02,  1.5972e+03],\n",
      "        [-5.0669e+03, -8.4809e+02, -6.8463e+03, -1.0829e+03],\n",
      "        [-2.6997e+00, -1.4341e+02, -1.7455e+03,  4.1234e+01],\n",
      "        [-4.4863e+02,  4.7927e+02, -4.2402e+02, -5.2544e+02],\n",
      "        [-2.5859e+03, -3.4474e+03, -7.0219e+03,  3.6989e+02],\n",
      "        [-6.1311e+03, -3.9441e+03, -1.1664e+04,  3.6596e+03],\n",
      "        [-1.0319e+01,  7.0580e+01, -6.7510e+01,  4.4891e+01],\n",
      "        [ 8.4929e+01, -3.2390e+03, -4.2655e+03,  1.3263e+03],\n",
      "        [-6.3136e+02,  7.1610e+02, -3.1147e+02, -3.0766e+02],\n",
      "        [ 1.2593e+02,  1.1159e+02,  1.3730e+02, -7.7010e+01],\n",
      "        [-1.5563e+03, -7.3508e+02, -1.6353e+03,  1.1060e+03],\n",
      "        [-1.3888e+02, -3.7946e+02, -6.6275e+02, -1.5920e+01],\n",
      "        [-1.1015e+01, -7.6818e+00,  1.7687e+01, -2.6174e+01],\n",
      "        [ 4.9205e+01,  7.4269e+01,  3.8857e+01, -2.8366e+01],\n",
      "        [-1.1722e+04, -7.3775e+03, -2.2037e+04,  6.6776e+03],\n",
      "        [-4.0213e+01,  1.2821e+02, -1.1491e+02, -5.7663e+01],\n",
      "        [ 6.6378e+01,  9.1778e+01,  1.6661e+02, -1.0911e+02],\n",
      "        [-1.8944e+03, -1.4121e+03, -4.1077e+03,  2.6392e+03],\n",
      "        [-2.8567e+02, -2.9398e+02, -9.3143e+01, -2.0980e+02]],\n",
      "       requires_grad=True)\n",
      "Parameter containing:\n",
      "tensor([-4.5358e-01,  2.7177e+01,  7.9988e+02,  5.0331e+01,  5.9875e+03,\n",
      "         4.3523e+02, -1.0241e+04, -1.1096e+04, -1.9922e+02, -5.2207e+02,\n",
      "        -6.1559e-01,  2.5689e+02, -2.2399e+03,  6.2687e+02, -1.6293e+02,\n",
      "        -1.1697e+04,  6.6097e+02,  2.6547e+03, -5.4394e+03,  2.0753e+02,\n",
      "        -1.5569e+04,  1.4254e+01, -3.2527e+00, -1.5000e+03, -9.4753e+03,\n",
      "        -2.2389e+04,  2.1370e+03, -5.8308e+02,  3.0363e+02, -1.9144e+02,\n",
      "        -7.7437e+02, -7.2725e+03, -5.4934e+01, -8.9314e+03, -7.1885e+03,\n",
      "        -4.2496e+03, -2.3944e+02, -2.4379e+04,  1.5843e+03,  1.5380e+03,\n",
      "        -3.8613e+03,  1.8655e+03, -1.9126e+03, -9.6043e+03, -2.5148e+02,\n",
      "         3.7437e+02, -1.5877e+03, -5.3320e+03,  5.2969e+02, -4.1737e+02,\n",
      "        -1.5482e+03, -4.6693e+03,  1.4058e-01, -3.6336e+02,  5.1204e+03,\n",
      "        -7.0961e+02, -2.7267e+03,  1.5722e+02, -5.8277e+02,  4.2858e+03,\n",
      "         6.4963e+02, -7.3493e+03, -1.4660e+03, -5.5854e+02,  1.0978e+01,\n",
      "        -1.2282e-01, -6.1995e+01,  8.5523e+01,  3.4214e+02,  1.6697e+03,\n",
      "         1.1041e+03, -9.4491e+02, -2.2779e+04, -7.4571e+03, -3.0246e+02,\n",
      "        -2.9630e+04, -3.0029e+03, -2.0190e+04, -2.4821e+03,  1.1500e+02,\n",
      "         1.8796e+03,  3.9012e+03, -6.2619e+03, -8.0279e+03, -9.1320e+03,\n",
      "         1.2229e+01,  4.6916e+02,  8.6081e+02,  2.6461e+03,  9.6492e+02,\n",
      "         7.8594e+01,  9.8694e+02, -2.0659e+04,  6.9566e+02,  1.4968e+01,\n",
      "        -1.4576e+03, -4.4160e+03, -1.8909e+04,  2.7042e+03,  3.9575e+02,\n",
      "         1.0436e+03, -1.1341e+04, -8.7168e+01,  7.4813e+00, -5.2797e+03,\n",
      "        -1.5458e+03,  7.9867e-01, -8.7623e+03,  7.1075e+02, -1.0794e+03,\n",
      "         4.1932e+02, -6.2375e+03,  1.6117e+03, -1.7060e+03,  1.1417e+03,\n",
      "        -5.7932e+03,  4.7884e+02,  1.9748e+02, -1.2592e+04,  2.1157e+03,\n",
      "        -3.7877e+02, -7.1202e+02,  4.3038e+02, -1.9258e+02, -1.2783e+03,\n",
      "        -3.1407e+03,  1.4935e+03,  3.8496e+03,  5.0942e+03, -1.3754e+04,\n",
      "        -2.0096e+03,  6.5223e+03, -3.7145e+01,  2.3500e+03, -4.4227e+03,\n",
      "         1.6850e+03,  1.0432e+03, -3.8937e+03, -2.0864e+03, -1.2895e+04,\n",
      "         2.0994e+03, -3.5181e+03,  6.6704e+02, -6.6904e+02,  1.3767e+03,\n",
      "        -7.9625e+03,  1.0836e+02,  1.8503e+03, -7.5979e+02, -2.2353e+03,\n",
      "        -3.4424e+02,  2.3582e+01, -4.4378e+02, -5.5277e+00,  2.3702e+03,\n",
      "         6.1909e+03, -8.8456e+02, -3.6684e+02, -1.3486e+03, -1.7172e+01,\n",
      "         2.4677e+02, -1.1989e+04, -1.1807e+03, -4.8246e+01, -4.7265e+02,\n",
      "        -2.5272e+02, -1.0276e+04, -2.0693e+03,  7.0218e+02, -7.3399e+03,\n",
      "        -1.1136e+04, -4.5671e+02,  2.7061e+03, -1.2642e+03, -5.2834e+02,\n",
      "        -1.6185e+03,  3.8975e+03,  4.3702e+03, -4.0732e+01,  3.1663e+02,\n",
      "        -3.5852e+03, -1.2466e+04, -2.6872e+02,  1.3160e+03, -4.0796e+02,\n",
      "         1.4988e+03, -9.4865e+03, -5.7829e+01, -2.4240e+04,  8.2775e+02,\n",
      "        -1.3288e+03,  3.4653e+02,  1.4093e+03, -9.1181e+02, -1.5461e+04,\n",
      "        -9.1720e+03, -6.5356e-01, -5.4287e+02, -1.4426e+03,  2.1034e+03,\n",
      "        -5.2643e+03,  1.4007e+02,  2.0153e+03, -2.2639e+03,  4.0297e+03,\n",
      "        -7.5778e+02,  9.3463e+03, -6.4492e+01,  3.2250e+03,  3.1979e+02,\n",
      "        -9.1683e+02, -1.1327e+03,  3.6838e+03, -6.1153e+03, -4.3186e-01,\n",
      "         5.9289e+02,  1.3034e+02, -8.5869e-01,  2.1871e+03,  1.4357e+03,\n",
      "        -1.6919e+02, -2.0349e+04, -9.9739e+03, -9.9007e+03,  1.0969e+03,\n",
      "        -4.8374e+03,  1.0070e+02,  2.4799e+03,  2.8003e+03,  1.2974e+00,\n",
      "        -2.8419e+02,  1.5667e+03, -7.8583e+03, -1.4203e+03,  1.2111e+03,\n",
      "        -7.1903e+03, -1.3941e+04, -5.6314e+01, -4.0134e+03,  1.1881e+03,\n",
      "        -1.2950e+02, -2.1700e+03, -6.4103e+02,  3.0452e+01, -1.2783e+02,\n",
      "        -2.6759e+04, -1.3650e+02, -2.2382e+02, -4.4945e+03,  4.9083e+02],\n",
      "       requires_grad=True)\n",
      "Parameter containing:\n",
      "tensor([[-2.2575e-01, -2.8015e+00, -1.6856e+02, -3.7907e+01, -3.8567e+02,\n",
      "         -3.5681e+01, -2.2092e+03, -3.3240e+03, -4.2173e+00, -2.2952e+02,\n",
      "         -7.7358e-01, -1.4221e+02, -2.1276e+02, -2.1794e+02, -1.2227e+02,\n",
      "         -2.0577e+03, -3.8293e+02, -1.2620e+02, -3.0245e+03, -3.5867e+01,\n",
      "         -2.3936e+02, -4.8575e+00, -1.8081e+01, -1.9152e+01, -1.4915e+03,\n",
      "         -2.0617e+03, -3.4360e+02, -4.4627e+02, -6.0516e+02, -5.0902e+01,\n",
      "         -1.2342e+02, -6.8625e+02, -6.1632e+01, -3.5784e+03, -3.6133e+03,\n",
      "         -2.3033e+02, -8.7977e+01, -3.1056e+03, -4.0765e+02, -4.4187e+01,\n",
      "         -3.2646e+02, -3.6871e+02, -6.8575e+02, -3.0974e+03, -1.0656e+02,\n",
      "         -1.6021e+03, -2.1858e+02, -1.6211e+03, -2.1593e+02, -2.4296e+01,\n",
      "         -4.3280e+01, -4.1624e+02, -5.2752e-01, -3.0226e+01, -4.4038e+02,\n",
      "         -9.8710e+01, -2.7272e+02, -1.9336e+02, -4.6237e+02, -2.0979e+02,\n",
      "         -9.3149e+01, -2.0446e+03, -5.8224e+01, -1.2282e+02, -2.3936e+00,\n",
      "         -7.1084e+01, -1.2289e+01, -1.9659e+02, -1.3764e+02, -1.2730e+02,\n",
      "         -7.2228e+01, -1.6289e+02, -2.2137e+03, -6.3087e+02, -1.0312e+03,\n",
      "         -4.4831e+03, -6.3088e+02, -1.3507e+03, -2.2828e+02, -1.3616e+02,\n",
      "         -1.0562e+02, -2.1283e+02, -2.0072e+03, -1.3673e+02, -1.2444e+03,\n",
      "         -6.2467e+00, -9.1226e+01, -3.5459e+02, -4.1979e+02, -1.3841e+02,\n",
      "         -4.1728e+01, -2.5203e+02, -3.4211e+03, -4.2142e+02, -1.3564e+01,\n",
      "         -1.1708e+02, -1.0809e+02, -3.8084e+02, -4.5949e+02, -9.5206e+01,\n",
      "         -1.6200e+02, -2.2125e+03, -3.4521e+02, -5.9413e+00, -1.2349e+02,\n",
      "         -1.3325e+02, -1.2528e+00, -3.4493e+02, -1.9534e+02, -3.8573e+02,\n",
      "         -6.0365e+01, -3.0910e+03, -2.9407e+02, -2.8078e+02, -6.1088e+02,\n",
      "         -6.1554e+02, -2.1384e+02, -7.6845e+00, -9.9256e+02, -1.0518e+03,\n",
      "         -2.2605e+02, -1.4684e+02, -1.4763e+02, -1.4003e+02, -1.7600e+02,\n",
      "         -2.9799e+02, -2.8898e+02, -5.0845e+02, -8.2909e+02, -5.7217e+02,\n",
      "         -2.5328e+02, -5.4249e+02, -5.7191e+01, -3.4918e+02, -2.9072e+02,\n",
      "         -1.4993e+02, -4.1225e+02, -1.8965e+02, -2.1118e+02, -1.7257e+03,\n",
      "         -1.9054e+02, -1.1148e+02, -6.8114e+01, -7.7844e+01, -3.3931e+02,\n",
      "         -2.3323e+02, -1.8923e+01, -2.5938e+03, -3.3423e+02, -1.6385e+02,\n",
      "         -8.2324e+01, -5.4193e+01, -1.2182e+02, -6.1330e+01, -3.0936e+02,\n",
      "         -9.5215e+02, -1.6888e+02, -6.4542e+01, -8.3137e+01, -3.0446e+02,\n",
      "         -3.7707e+01, -1.2231e+03, -5.3848e+01, -8.4745e+00, -8.5529e+01,\n",
      "         -6.5450e+01, -9.4148e+02, -2.7976e+02, -2.8719e+02, -1.4496e+03,\n",
      "         -3.9093e+03, -1.7154e+01, -3.3580e+02, -1.9815e+02, -4.3455e+02,\n",
      "         -8.6738e+02, -2.7670e+02, -3.7842e+02, -3.6904e+00, -6.3265e+01,\n",
      "         -6.2279e+02, -3.6290e+03, -3.3385e+02, -3.8384e+02, -2.1226e+02,\n",
      "         -1.3723e+02, -3.0783e+03, -7.7051e+01, -1.8950e+03, -4.4663e+01,\n",
      "         -1.3453e+00, -9.7508e+01, -2.9383e+02, -3.6999e+02, -3.7824e+02,\n",
      "         -2.4950e+03,  1.2056e+00, -1.3965e+02, -8.8610e+01, -2.9014e+02,\n",
      "         -1.1467e+02, -1.1241e+01, -7.9641e+02, -1.6122e+02, -4.1642e+02,\n",
      "         -1.4862e+03, -2.4874e+03, -3.5929e+02, -1.3960e+03, -5.3686e+01,\n",
      "         -2.7434e+03, -8.5193e+01, -3.0905e+02, -1.6646e+03, -1.2845e+00,\n",
      "         -2.1088e+02, -2.0992e+02, -2.4483e+00, -2.8787e+02, -4.2804e+02,\n",
      "         -1.0982e+02, -2.7125e+03, -1.2899e+03, -3.1264e+03, -1.4393e+02,\n",
      "         -2.6636e+02, -6.3505e+00, -1.4894e+03, -2.0470e+02, -6.5396e+02,\n",
      "         -1.1710e+02, -1.3048e+02, -4.1940e+02, -2.4794e+02, -1.2318e+02,\n",
      "         -8.1805e+02, -3.9232e+03, -1.2014e+01, -3.6763e+02, -9.1651e+01,\n",
      "         -2.9825e+01, -1.2334e+03, -6.9400e+02, -1.0336e+02, -3.3207e+02,\n",
      "         -2.9853e+03, -9.8548e+01, -3.3126e+02, -6.8526e+02, -1.3246e+02]],\n",
      "       requires_grad=True)\n",
      "Parameter containing:\n",
      "tensor([-1160.0182], requires_grad=True)\n"
     ]
    }
   ],
   "source": [
    "for param in nn_model.parameters():\n",
    "    print(param)"
   ]
  },
  {
   "cell_type": "code",
   "execution_count": null,
   "metadata": {},
   "outputs": [],
   "source": []
  }
 ],
 "metadata": {
  "kernelspec": {
   "display_name": "Python 3",
   "language": "python",
   "name": "python3"
  },
  "language_info": {
   "codemirror_mode": {
    "name": "ipython",
    "version": 3
   },
   "file_extension": ".py",
   "mimetype": "text/x-python",
   "name": "python",
   "nbconvert_exporter": "python",
   "pygments_lexer": "ipython3",
   "version": "3.7.6"
  }
 },
 "nbformat": 4,
 "nbformat_minor": 4
}
