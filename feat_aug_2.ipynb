{
 "cells": [
  {
   "cell_type": "code",
   "execution_count": 3,
   "metadata": {},
   "outputs": [],
   "source": [
    "import pandas as pd\n",
    "import numpy as np\n",
    "from sklearn import set_config\n",
    "from sklearn.pipeline import make_pipeline\n",
    "from sklearn.preprocessing import OneHotEncoder, MinMaxScaler\n",
    "from sklearn.impute import SimpleImputer\n",
    "from sklearn.compose import make_column_transformer\n",
    "\n",
    "set_config(display='diagram')"
   ]
  },
  {
   "cell_type": "code",
   "execution_count": 4,
   "metadata": {},
   "outputs": [
    {
     "data": {
      "text/html": [
       "<div>\n",
       "<style scoped>\n",
       "    .dataframe tbody tr th:only-of-type {\n",
       "        vertical-align: middle;\n",
       "    }\n",
       "\n",
       "    .dataframe tbody tr th {\n",
       "        vertical-align: top;\n",
       "    }\n",
       "\n",
       "    .dataframe thead th {\n",
       "        text-align: right;\n",
       "    }\n",
       "</style>\n",
       "<table border=\"1\" class=\"dataframe\">\n",
       "  <thead>\n",
       "    <tr style=\"text-align: right;\">\n",
       "      <th></th>\n",
       "      <th>A</th>\n",
       "      <th>B</th>\n",
       "      <th>C</th>\n",
       "      <th>D</th>\n",
       "    </tr>\n",
       "  </thead>\n",
       "  <tbody>\n",
       "    <tr>\n",
       "      <th>0</th>\n",
       "      <td>48</td>\n",
       "      <td>19</td>\n",
       "      <td>36</td>\n",
       "      <td>31</td>\n",
       "    </tr>\n",
       "    <tr>\n",
       "      <th>1</th>\n",
       "      <td>75</td>\n",
       "      <td>35</td>\n",
       "      <td>42</td>\n",
       "      <td>34</td>\n",
       "    </tr>\n",
       "    <tr>\n",
       "      <th>2</th>\n",
       "      <td>37</td>\n",
       "      <td>79</td>\n",
       "      <td>19</td>\n",
       "      <td>38</td>\n",
       "    </tr>\n",
       "    <tr>\n",
       "      <th>3</th>\n",
       "      <td>58</td>\n",
       "      <td>88</td>\n",
       "      <td>86</td>\n",
       "      <td>53</td>\n",
       "    </tr>\n",
       "    <tr>\n",
       "      <th>4</th>\n",
       "      <td>12</td>\n",
       "      <td>90</td>\n",
       "      <td>47</td>\n",
       "      <td>97</td>\n",
       "    </tr>\n",
       "  </tbody>\n",
       "</table>\n",
       "</div>"
      ],
      "text/plain": [
       "    A   B   C   D\n",
       "0  48  19  36  31\n",
       "1  75  35  42  34\n",
       "2  37  79  19  38\n",
       "3  58  88  86  53\n",
       "4  12  90  47  97"
      ]
     },
     "execution_count": 4,
     "metadata": {},
     "output_type": "execute_result"
    }
   ],
   "source": [
    "df = pd.DataFrame(np.random.randint(0,100,size=(100, 4)), columns=list('ABCD'))\n",
    "df.head()"
   ]
  },
  {
   "cell_type": "code",
   "execution_count": 5,
   "metadata": {},
   "outputs": [
    {
     "data": {
      "text/html": [
       "<div>\n",
       "<style scoped>\n",
       "    .dataframe tbody tr th:only-of-type {\n",
       "        vertical-align: middle;\n",
       "    }\n",
       "\n",
       "    .dataframe tbody tr th {\n",
       "        vertical-align: top;\n",
       "    }\n",
       "\n",
       "    .dataframe thead th {\n",
       "        text-align: right;\n",
       "    }\n",
       "</style>\n",
       "<table border=\"1\" class=\"dataframe\">\n",
       "  <thead>\n",
       "    <tr style=\"text-align: right;\">\n",
       "      <th></th>\n",
       "      <th>AxA</th>\n",
       "      <th>AxB</th>\n",
       "      <th>AxC</th>\n",
       "      <th>AxD</th>\n",
       "      <th>BxB</th>\n",
       "      <th>BxC</th>\n",
       "      <th>BxD</th>\n",
       "      <th>CxC</th>\n",
       "      <th>CxD</th>\n",
       "      <th>DxD</th>\n",
       "    </tr>\n",
       "  </thead>\n",
       "  <tbody>\n",
       "    <tr>\n",
       "      <th>0</th>\n",
       "      <td>2304</td>\n",
       "      <td>912</td>\n",
       "      <td>1728</td>\n",
       "      <td>1488</td>\n",
       "      <td>361</td>\n",
       "      <td>684</td>\n",
       "      <td>589</td>\n",
       "      <td>1296</td>\n",
       "      <td>1116</td>\n",
       "      <td>961</td>\n",
       "    </tr>\n",
       "    <tr>\n",
       "      <th>1</th>\n",
       "      <td>5625</td>\n",
       "      <td>2625</td>\n",
       "      <td>3150</td>\n",
       "      <td>2550</td>\n",
       "      <td>1225</td>\n",
       "      <td>1470</td>\n",
       "      <td>1190</td>\n",
       "      <td>1764</td>\n",
       "      <td>1428</td>\n",
       "      <td>1156</td>\n",
       "    </tr>\n",
       "    <tr>\n",
       "      <th>2</th>\n",
       "      <td>1369</td>\n",
       "      <td>2923</td>\n",
       "      <td>703</td>\n",
       "      <td>1406</td>\n",
       "      <td>6241</td>\n",
       "      <td>1501</td>\n",
       "      <td>3002</td>\n",
       "      <td>361</td>\n",
       "      <td>722</td>\n",
       "      <td>1444</td>\n",
       "    </tr>\n",
       "    <tr>\n",
       "      <th>3</th>\n",
       "      <td>3364</td>\n",
       "      <td>5104</td>\n",
       "      <td>4988</td>\n",
       "      <td>3074</td>\n",
       "      <td>7744</td>\n",
       "      <td>7568</td>\n",
       "      <td>4664</td>\n",
       "      <td>7396</td>\n",
       "      <td>4558</td>\n",
       "      <td>2809</td>\n",
       "    </tr>\n",
       "    <tr>\n",
       "      <th>4</th>\n",
       "      <td>144</td>\n",
       "      <td>1080</td>\n",
       "      <td>564</td>\n",
       "      <td>1164</td>\n",
       "      <td>8100</td>\n",
       "      <td>4230</td>\n",
       "      <td>8730</td>\n",
       "      <td>2209</td>\n",
       "      <td>4559</td>\n",
       "      <td>9409</td>\n",
       "    </tr>\n",
       "  </tbody>\n",
       "</table>\n",
       "</div>"
      ],
      "text/plain": [
       "    AxA   AxB   AxC   AxD   BxB   BxC   BxD   CxC   CxD   DxD\n",
       "0  2304   912  1728  1488   361   684   589  1296  1116   961\n",
       "1  5625  2625  3150  2550  1225  1470  1190  1764  1428  1156\n",
       "2  1369  2923   703  1406  6241  1501  3002   361   722  1444\n",
       "3  3364  5104  4988  3074  7744  7568  4664  7396  4558  2809\n",
       "4   144  1080   564  1164  8100  4230  8730  2209  4559  9409"
      ]
     },
     "execution_count": 5,
     "metadata": {},
     "output_type": "execute_result"
    }
   ],
   "source": [
    "df1 = pd.DataFrame()\n",
    "for idx1,col1 in enumerate(df.columns):\n",
    "    for idx2,col2 in enumerate(df.drop(columns=df.columns[:idx1]).columns):\n",
    "        df1[col1+'x'+col2] = df.loc[:,col1] * df.loc[:,col2]\n",
    "\n",
    "df1.head()"
   ]
  },
  {
   "cell_type": "code",
   "execution_count": 8,
   "metadata": {},
   "outputs": [
    {
     "data": {
      "text/html": [
       "<div>\n",
       "<style scoped>\n",
       "    .dataframe tbody tr th:only-of-type {\n",
       "        vertical-align: middle;\n",
       "    }\n",
       "\n",
       "    .dataframe tbody tr th {\n",
       "        vertical-align: top;\n",
       "    }\n",
       "\n",
       "    .dataframe thead th {\n",
       "        text-align: right;\n",
       "    }\n",
       "</style>\n",
       "<table border=\"1\" class=\"dataframe\">\n",
       "  <thead>\n",
       "    <tr style=\"text-align: right;\">\n",
       "      <th></th>\n",
       "      <th>A</th>\n",
       "      <th>B</th>\n",
       "      <th>C</th>\n",
       "      <th>D</th>\n",
       "      <th>AxA</th>\n",
       "      <th>AxB</th>\n",
       "      <th>AxC</th>\n",
       "      <th>AxD</th>\n",
       "      <th>BxB</th>\n",
       "      <th>BxC</th>\n",
       "      <th>BxD</th>\n",
       "      <th>CxC</th>\n",
       "      <th>CxD</th>\n",
       "      <th>DxD</th>\n",
       "    </tr>\n",
       "  </thead>\n",
       "  <tbody>\n",
       "    <tr>\n",
       "      <th>0</th>\n",
       "      <td>48</td>\n",
       "      <td>19</td>\n",
       "      <td>36</td>\n",
       "      <td>31</td>\n",
       "      <td>2304</td>\n",
       "      <td>912</td>\n",
       "      <td>1728</td>\n",
       "      <td>1488</td>\n",
       "      <td>361</td>\n",
       "      <td>684</td>\n",
       "      <td>589</td>\n",
       "      <td>1296</td>\n",
       "      <td>1116</td>\n",
       "      <td>961</td>\n",
       "    </tr>\n",
       "    <tr>\n",
       "      <th>1</th>\n",
       "      <td>75</td>\n",
       "      <td>35</td>\n",
       "      <td>42</td>\n",
       "      <td>34</td>\n",
       "      <td>5625</td>\n",
       "      <td>2625</td>\n",
       "      <td>3150</td>\n",
       "      <td>2550</td>\n",
       "      <td>1225</td>\n",
       "      <td>1470</td>\n",
       "      <td>1190</td>\n",
       "      <td>1764</td>\n",
       "      <td>1428</td>\n",
       "      <td>1156</td>\n",
       "    </tr>\n",
       "    <tr>\n",
       "      <th>2</th>\n",
       "      <td>37</td>\n",
       "      <td>79</td>\n",
       "      <td>19</td>\n",
       "      <td>38</td>\n",
       "      <td>1369</td>\n",
       "      <td>2923</td>\n",
       "      <td>703</td>\n",
       "      <td>1406</td>\n",
       "      <td>6241</td>\n",
       "      <td>1501</td>\n",
       "      <td>3002</td>\n",
       "      <td>361</td>\n",
       "      <td>722</td>\n",
       "      <td>1444</td>\n",
       "    </tr>\n",
       "    <tr>\n",
       "      <th>3</th>\n",
       "      <td>58</td>\n",
       "      <td>88</td>\n",
       "      <td>86</td>\n",
       "      <td>53</td>\n",
       "      <td>3364</td>\n",
       "      <td>5104</td>\n",
       "      <td>4988</td>\n",
       "      <td>3074</td>\n",
       "      <td>7744</td>\n",
       "      <td>7568</td>\n",
       "      <td>4664</td>\n",
       "      <td>7396</td>\n",
       "      <td>4558</td>\n",
       "      <td>2809</td>\n",
       "    </tr>\n",
       "    <tr>\n",
       "      <th>4</th>\n",
       "      <td>12</td>\n",
       "      <td>90</td>\n",
       "      <td>47</td>\n",
       "      <td>97</td>\n",
       "      <td>144</td>\n",
       "      <td>1080</td>\n",
       "      <td>564</td>\n",
       "      <td>1164</td>\n",
       "      <td>8100</td>\n",
       "      <td>4230</td>\n",
       "      <td>8730</td>\n",
       "      <td>2209</td>\n",
       "      <td>4559</td>\n",
       "      <td>9409</td>\n",
       "    </tr>\n",
       "  </tbody>\n",
       "</table>\n",
       "</div>"
      ],
      "text/plain": [
       "    A   B   C   D   AxA   AxB   AxC   AxD   BxB   BxC   BxD   CxC   CxD   DxD\n",
       "0  48  19  36  31  2304   912  1728  1488   361   684   589  1296  1116   961\n",
       "1  75  35  42  34  5625  2625  3150  2550  1225  1470  1190  1764  1428  1156\n",
       "2  37  79  19  38  1369  2923   703  1406  6241  1501  3002   361   722  1444\n",
       "3  58  88  86  53  3364  5104  4988  3074  7744  7568  4664  7396  4558  2809\n",
       "4  12  90  47  97   144  1080   564  1164  8100  4230  8730  2209  4559  9409"
      ]
     },
     "execution_count": 8,
     "metadata": {},
     "output_type": "execute_result"
    }
   ],
   "source": [
    "df2 = df.merge(df1, left_index=True, right_index=True)\n",
    "\n",
    "df2.head()"
   ]
  },
  {
   "cell_type": "code",
   "execution_count": 10,
   "metadata": {},
   "outputs": [],
   "source": [
    "from sklearn.preprocessing import StandardScaler"
   ]
  },
  {
   "cell_type": "code",
   "execution_count": 11,
   "metadata": {},
   "outputs": [],
   "source": [
    "norm_scal = StandardScaler()"
   ]
  },
  {
   "cell_type": "code",
   "execution_count": 13,
   "metadata": {},
   "outputs": [],
   "source": [
    "df3 = pd.DataFrame(index=df2.index, columns=df2.columns)"
   ]
  },
  {
   "cell_type": "code",
   "execution_count": 14,
   "metadata": {},
   "outputs": [],
   "source": [
    "for col in df2.columns:\n",
    "    df3[col] = norm_scal.fit_transform(df2[col].values.reshape(-1,1))"
   ]
  },
  {
   "cell_type": "code",
   "execution_count": 15,
   "metadata": {},
   "outputs": [
    {
     "data": {
      "text/html": [
       "<div>\n",
       "<style scoped>\n",
       "    .dataframe tbody tr th:only-of-type {\n",
       "        vertical-align: middle;\n",
       "    }\n",
       "\n",
       "    .dataframe tbody tr th {\n",
       "        vertical-align: top;\n",
       "    }\n",
       "\n",
       "    .dataframe thead th {\n",
       "        text-align: right;\n",
       "    }\n",
       "</style>\n",
       "<table border=\"1\" class=\"dataframe\">\n",
       "  <thead>\n",
       "    <tr style=\"text-align: right;\">\n",
       "      <th></th>\n",
       "      <th>A</th>\n",
       "      <th>B</th>\n",
       "      <th>C</th>\n",
       "      <th>D</th>\n",
       "      <th>AxA</th>\n",
       "      <th>AxB</th>\n",
       "      <th>AxC</th>\n",
       "      <th>AxD</th>\n",
       "      <th>BxB</th>\n",
       "      <th>BxC</th>\n",
       "      <th>BxD</th>\n",
       "      <th>CxC</th>\n",
       "      <th>CxD</th>\n",
       "      <th>DxD</th>\n",
       "    </tr>\n",
       "  </thead>\n",
       "  <tbody>\n",
       "    <tr>\n",
       "      <th>0</th>\n",
       "      <td>-0.011301</td>\n",
       "      <td>-0.937798</td>\n",
       "      <td>-0.496650</td>\n",
       "      <td>-0.653961</td>\n",
       "      <td>-0.293826</td>\n",
       "      <td>-0.645818</td>\n",
       "      <td>-0.335355</td>\n",
       "      <td>-0.436079</td>\n",
       "      <td>-0.944951</td>\n",
       "      <td>-0.812724</td>\n",
       "      <td>-0.783813</td>\n",
       "      <td>-0.701620</td>\n",
       "      <td>-0.650584</td>\n",
       "      <td>-0.761757</td>\n",
       "    </tr>\n",
       "    <tr>\n",
       "      <th>1</th>\n",
       "      <td>0.913334</td>\n",
       "      <td>-0.409275</td>\n",
       "      <td>-0.292547</td>\n",
       "      <td>-0.549772</td>\n",
       "      <td>0.809429</td>\n",
       "      <td>0.159468</td>\n",
       "      <td>0.299125</td>\n",
       "      <td>0.075730</td>\n",
       "      <td>-0.653498</td>\n",
       "      <td>-0.419073</td>\n",
       "      <td>-0.525316</td>\n",
       "      <td>-0.547355</td>\n",
       "      <td>-0.501321</td>\n",
       "      <td>-0.698577</td>\n",
       "    </tr>\n",
       "    <tr>\n",
       "      <th>2</th>\n",
       "      <td>-0.388004</td>\n",
       "      <td>1.044163</td>\n",
       "      <td>-1.074942</td>\n",
       "      <td>-0.410853</td>\n",
       "      <td>-0.604438</td>\n",
       "      <td>0.299559</td>\n",
       "      <td>-0.792699</td>\n",
       "      <td>-0.475597</td>\n",
       "      <td>1.038546</td>\n",
       "      <td>-0.403547</td>\n",
       "      <td>0.254045</td>\n",
       "      <td>-1.009819</td>\n",
       "      <td>-0.839076</td>\n",
       "      <td>-0.605265</td>\n",
       "    </tr>\n",
       "    <tr>\n",
       "      <th>3</th>\n",
       "      <td>0.331156</td>\n",
       "      <td>1.341457</td>\n",
       "      <td>1.204207</td>\n",
       "      <td>0.110093</td>\n",
       "      <td>0.058312</td>\n",
       "      <td>1.324854</td>\n",
       "      <td>1.119220</td>\n",
       "      <td>0.328262</td>\n",
       "      <td>1.545553</td>\n",
       "      <td>2.634976</td>\n",
       "      <td>0.968889</td>\n",
       "      <td>1.309092</td>\n",
       "      <td>0.996088</td>\n",
       "      <td>-0.163007</td>\n",
       "    </tr>\n",
       "    <tr>\n",
       "      <th>4</th>\n",
       "      <td>-1.244148</td>\n",
       "      <td>1.407522</td>\n",
       "      <td>-0.122462</td>\n",
       "      <td>1.638202</td>\n",
       "      <td>-1.011390</td>\n",
       "      <td>-0.566841</td>\n",
       "      <td>-0.854719</td>\n",
       "      <td>-0.592224</td>\n",
       "      <td>1.665642</td>\n",
       "      <td>0.963212</td>\n",
       "      <td>2.717720</td>\n",
       "      <td>-0.400672</td>\n",
       "      <td>0.996567</td>\n",
       "      <td>1.975385</td>\n",
       "    </tr>\n",
       "  </tbody>\n",
       "</table>\n",
       "</div>"
      ],
      "text/plain": [
       "          A         B         C         D       AxA       AxB       AxC  \\\n",
       "0 -0.011301 -0.937798 -0.496650 -0.653961 -0.293826 -0.645818 -0.335355   \n",
       "1  0.913334 -0.409275 -0.292547 -0.549772  0.809429  0.159468  0.299125   \n",
       "2 -0.388004  1.044163 -1.074942 -0.410853 -0.604438  0.299559 -0.792699   \n",
       "3  0.331156  1.341457  1.204207  0.110093  0.058312  1.324854  1.119220   \n",
       "4 -1.244148  1.407522 -0.122462  1.638202 -1.011390 -0.566841 -0.854719   \n",
       "\n",
       "        AxD       BxB       BxC       BxD       CxC       CxD       DxD  \n",
       "0 -0.436079 -0.944951 -0.812724 -0.783813 -0.701620 -0.650584 -0.761757  \n",
       "1  0.075730 -0.653498 -0.419073 -0.525316 -0.547355 -0.501321 -0.698577  \n",
       "2 -0.475597  1.038546 -0.403547  0.254045 -1.009819 -0.839076 -0.605265  \n",
       "3  0.328262  1.545553  2.634976  0.968889  1.309092  0.996088 -0.163007  \n",
       "4 -0.592224  1.665642  0.963212  2.717720 -0.400672  0.996567  1.975385  "
      ]
     },
     "execution_count": 15,
     "metadata": {},
     "output_type": "execute_result"
    }
   ],
   "source": [
    "df3.head()"
   ]
  },
  {
   "cell_type": "code",
   "execution_count": 49,
   "metadata": {},
   "outputs": [
    {
     "data": {
      "text/plain": [
       "14"
      ]
     },
     "execution_count": 49,
     "metadata": {},
     "output_type": "execute_result"
    }
   ],
   "source": [
    "df3.shape[1]"
   ]
  },
  {
   "cell_type": "code",
   "execution_count": 17,
   "metadata": {},
   "outputs": [],
   "source": [
    "from sklearn.decomposition import PCA"
   ]
  },
  {
   "cell_type": "code",
   "execution_count": 18,
   "metadata": {},
   "outputs": [],
   "source": [
    "pca = PCA(n_components=df3.shape[1])"
   ]
  },
  {
   "cell_type": "code",
   "execution_count": 19,
   "metadata": {},
   "outputs": [
    {
     "data": {
      "text/plain": [
       "array([[-2.21577404e+00,  5.18184575e-01, -4.04737116e-01, ...,\n",
       "        -1.70988083e-01, -1.51333028e-01, -1.64708485e-03],\n",
       "       [-5.08740981e-01,  1.09262650e+00, -1.13313012e+00, ...,\n",
       "        -8.88695108e-02, -5.93335732e-02, -1.65675173e-01],\n",
       "       [-7.27736807e-01, -2.04200140e+00, -1.48600344e+00, ...,\n",
       "        -1.78544063e-02, -2.32103395e-02, -8.53356769e-02],\n",
       "       ...,\n",
       "       [-9.68094993e-01,  2.60197863e+00,  1.07377499e+00, ...,\n",
       "        -7.86599630e-02, -1.78483467e-01,  1.65925546e-02],\n",
       "       [ 7.58820050e-01,  1.12336008e+00, -8.81216598e-01, ...,\n",
       "        -2.74130917e-02, -5.54201863e-02, -1.74709836e-01],\n",
       "       [ 1.10869559e+00,  2.21544400e-01, -3.52706902e+00, ...,\n",
       "        -1.88285241e-02,  8.89061452e-02, -9.56219247e-02]])"
      ]
     },
     "execution_count": 19,
     "metadata": {},
     "output_type": "execute_result"
    }
   ],
   "source": [
    "pca.fit_transform(df3)"
   ]
  },
  {
   "cell_type": "code",
   "execution_count": 21,
   "metadata": {},
   "outputs": [],
   "source": [
    "vec_var = pca.explained_variance_"
   ]
  },
  {
   "cell_type": "code",
   "execution_count": 25,
   "metadata": {},
   "outputs": [],
   "source": [
    "pca_comp = (vec_var>1).sum()"
   ]
  },
  {
   "cell_type": "code",
   "execution_count": 26,
   "metadata": {},
   "outputs": [],
   "source": [
    "pca2 = PCA(n_components=pca_comp)"
   ]
  },
  {
   "cell_type": "code",
   "execution_count": 28,
   "metadata": {},
   "outputs": [],
   "source": [
    "df4 = pca2.fit_transform(df3)"
   ]
  },
  {
   "cell_type": "code",
   "execution_count": 32,
   "metadata": {},
   "outputs": [
    {
     "data": {
      "text/plain": [
       "(100, 4)"
      ]
     },
     "execution_count": 32,
     "metadata": {},
     "output_type": "execute_result"
    }
   ],
   "source": [
    "df4.shape"
   ]
  },
  {
   "cell_type": "code",
   "execution_count": 34,
   "metadata": {},
   "outputs": [],
   "source": [
    "Z = df['A'] + df['C']*df['C']*df['C']"
   ]
  },
  {
   "cell_type": "code",
   "execution_count": 35,
   "metadata": {},
   "outputs": [
    {
     "data": {
      "text/plain": [
       "0     46704\n",
       "1     74163\n",
       "2      6896\n",
       "3    636114\n",
       "4    103835\n",
       "dtype: int32"
      ]
     },
     "execution_count": 35,
     "metadata": {},
     "output_type": "execute_result"
    }
   ],
   "source": [
    "Z.head()"
   ]
  },
  {
   "cell_type": "code",
   "execution_count": 38,
   "metadata": {},
   "outputs": [
    {
     "data": {
      "text/plain": [
       "array([[ 0.77813434],\n",
       "       [-0.901555  ],\n",
       "       [ 1.25282916],\n",
       "       [ 0.92419429],\n",
       "       [-1.66836969],\n",
       "       [-0.75549505],\n",
       "       [ 1.43540409],\n",
       "       [-0.86504001],\n",
       "       [-0.68246508],\n",
       "       [-1.26670485],\n",
       "       [-1.30321984],\n",
       "       [ 0.55904443],\n",
       "       [ 1.1432842 ],\n",
       "       [ 1.07025423],\n",
       "       [-1.96048958],\n",
       "       [ 0.8876793 ],\n",
       "       [ 0.44949947],\n",
       "       [ 0.01131965],\n",
       "       [-0.20777027],\n",
       "       [ 0.04783463],\n",
       "       [-0.82852502],\n",
       "       [-1.08412992],\n",
       "       [ 0.85116432],\n",
       "       [-0.93806998],\n",
       "       [-1.66836969],\n",
       "       [-0.1347403 ],\n",
       "       [-0.09822531],\n",
       "       [ 0.66858939],\n",
       "       [ 1.36237412],\n",
       "       [ 1.43540409],\n",
       "       [ 0.85116432],\n",
       "       [-1.26670485],\n",
       "       [-1.23018987],\n",
       "       [-0.57292013],\n",
       "       [-0.79201004],\n",
       "       [ 0.8876793 ],\n",
       "       [ 1.28934414],\n",
       "       [-0.82852502],\n",
       "       [ 0.70510437],\n",
       "       [ 0.6320744 ],\n",
       "       [-1.26670485],\n",
       "       [-0.901555  ],\n",
       "       [-1.01109995],\n",
       "       [-0.3903452 ],\n",
       "       [-0.3903452 ],\n",
       "       [ 1.43540409],\n",
       "       [ 0.19389457],\n",
       "       [-0.1347403 ],\n",
       "       [ 0.96070927],\n",
       "       [ 1.25282916],\n",
       "       [ 1.32585913],\n",
       "       [ 0.66858939],\n",
       "       [ 0.52252944],\n",
       "       [-0.02519534],\n",
       "       [-0.68246508],\n",
       "       [-0.46337517],\n",
       "       [-0.35383021],\n",
       "       [ 0.04783463],\n",
       "       [ 0.66858939],\n",
       "       [-1.66836969],\n",
       "       [ 1.17979919],\n",
       "       [-1.55882474],\n",
       "       [-0.31731523],\n",
       "       [-1.74139967],\n",
       "       [ 0.19389457],\n",
       "       [ 1.17979919],\n",
       "       [-2.10654952],\n",
       "       [ 0.6320744 ],\n",
       "       [-1.4127648 ],\n",
       "       [-0.71898007],\n",
       "       [ 0.3764695 ],\n",
       "       [ 1.21631417],\n",
       "       [-1.23018987],\n",
       "       [ 1.3988891 ],\n",
       "       [ 0.59555942],\n",
       "       [ 0.52252944],\n",
       "       [ 1.1432842 ],\n",
       "       [ 0.04783463],\n",
       "       [-1.44927978],\n",
       "       [ 1.21631417],\n",
       "       [ 1.1432842 ],\n",
       "       [ 0.85116432],\n",
       "       [-0.3903452 ],\n",
       "       [ 1.03373924],\n",
       "       [ 0.48601446],\n",
       "       [-0.06171033],\n",
       "       [ 1.32585913],\n",
       "       [ 0.01131965],\n",
       "       [-1.74139967],\n",
       "       [-2.03351955],\n",
       "       [ 0.01131965],\n",
       "       [ 0.8876793 ],\n",
       "       [ 0.41298449],\n",
       "       [-0.68246508],\n",
       "       [ 0.33995452],\n",
       "       [-1.23018987],\n",
       "       [ 0.01131965],\n",
       "       [ 0.55904443],\n",
       "       [ 0.59555942],\n",
       "       [ 1.32585913]])"
      ]
     },
     "execution_count": 38,
     "metadata": {},
     "output_type": "execute_result"
    }
   ],
   "source": []
  },
  {
   "cell_type": "code",
   "execution_count": 37,
   "metadata": {},
   "outputs": [
    {
     "data": {
      "text/plain": [
       "array([[79],\n",
       "       [33],\n",
       "       [92],\n",
       "       [83],\n",
       "       [12],\n",
       "       [37],\n",
       "       [97],\n",
       "       [34],\n",
       "       [39],\n",
       "       [23],\n",
       "       [22],\n",
       "       [73],\n",
       "       [89],\n",
       "       [87],\n",
       "       [ 4],\n",
       "       [82],\n",
       "       [70],\n",
       "       [58],\n",
       "       [52],\n",
       "       [59],\n",
       "       [35],\n",
       "       [28],\n",
       "       [81],\n",
       "       [32],\n",
       "       [12],\n",
       "       [54],\n",
       "       [55],\n",
       "       [76],\n",
       "       [95],\n",
       "       [97],\n",
       "       [81],\n",
       "       [23],\n",
       "       [24],\n",
       "       [42],\n",
       "       [36],\n",
       "       [82],\n",
       "       [93],\n",
       "       [35],\n",
       "       [77],\n",
       "       [75],\n",
       "       [23],\n",
       "       [33],\n",
       "       [30],\n",
       "       [47],\n",
       "       [47],\n",
       "       [97],\n",
       "       [63],\n",
       "       [54],\n",
       "       [84],\n",
       "       [92],\n",
       "       [94],\n",
       "       [76],\n",
       "       [72],\n",
       "       [57],\n",
       "       [39],\n",
       "       [45],\n",
       "       [48],\n",
       "       [59],\n",
       "       [76],\n",
       "       [12],\n",
       "       [90],\n",
       "       [15],\n",
       "       [49],\n",
       "       [10],\n",
       "       [63],\n",
       "       [90],\n",
       "       [ 0],\n",
       "       [75],\n",
       "       [19],\n",
       "       [38],\n",
       "       [68],\n",
       "       [91],\n",
       "       [24],\n",
       "       [96],\n",
       "       [74],\n",
       "       [72],\n",
       "       [89],\n",
       "       [59],\n",
       "       [18],\n",
       "       [91],\n",
       "       [89],\n",
       "       [81],\n",
       "       [47],\n",
       "       [86],\n",
       "       [71],\n",
       "       [56],\n",
       "       [94],\n",
       "       [58],\n",
       "       [10],\n",
       "       [ 2],\n",
       "       [58],\n",
       "       [82],\n",
       "       [69],\n",
       "       [39],\n",
       "       [67],\n",
       "       [24],\n",
       "       [58],\n",
       "       [73],\n",
       "       [74],\n",
       "       [94]])"
      ]
     },
     "execution_count": 37,
     "metadata": {},
     "output_type": "execute_result"
    }
   ],
   "source": [
    "df2['A'].values.reshape(-1,1)"
   ]
  },
  {
   "cell_type": "code",
   "execution_count": 43,
   "metadata": {},
   "outputs": [
    {
     "data": {
      "text/plain": [
       "Index(['A', 'B', 'C', 'D', 'AxA', 'AxB', 'AxC', 'AxD', 'BxB', 'BxC', 'BxD',\n",
       "       'CxC', 'CxD', 'DxD'],\n",
       "      dtype='object')"
      ]
     },
     "execution_count": 43,
     "metadata": {},
     "output_type": "execute_result"
    }
   ],
   "source": [
    "df3.columns"
   ]
  },
  {
   "cell_type": "code",
   "execution_count": 44,
   "metadata": {},
   "outputs": [
    {
     "ename": "Exception",
     "evalue": "Data must be 1-dimensional",
     "output_type": "error",
     "traceback": [
      "\u001b[1;31m---------------------------------------------------------------------------\u001b[0m",
      "\u001b[1;31mException\u001b[0m                                 Traceback (most recent call last)",
      "\u001b[1;32m<ipython-input-44-473df57b9bc4>\u001b[0m in \u001b[0;36m<module>\u001b[1;34m\u001b[0m\n\u001b[1;32m----> 1\u001b[1;33m \u001b[0mdf3\u001b[0m\u001b[1;33m[\u001b[0m\u001b[1;34m'A'\u001b[0m\u001b[1;33m]\u001b[0m \u001b[1;33m=\u001b[0m \u001b[0mnorm_scal\u001b[0m\u001b[1;33m.\u001b[0m\u001b[0mfit_transform\u001b[0m\u001b[1;33m(\u001b[0m\u001b[0mdf2\u001b[0m\u001b[1;33m[\u001b[0m\u001b[0mcol\u001b[0m\u001b[1;33m]\u001b[0m\u001b[1;33m.\u001b[0m\u001b[0mvalues\u001b[0m\u001b[1;33m.\u001b[0m\u001b[0mreshape\u001b[0m\u001b[1;33m(\u001b[0m\u001b[1;33m-\u001b[0m\u001b[1;36m1\u001b[0m\u001b[1;33m,\u001b[0m\u001b[1;36m1\u001b[0m\u001b[1;33m)\u001b[0m\u001b[1;33m)\u001b[0m\u001b[1;33m\u001b[0m\u001b[1;33m\u001b[0m\u001b[0m\n\u001b[0m",
      "\u001b[1;32m~\\Anaconda3\\envs\\conda2020\\lib\\site-packages\\pandas\\core\\frame.py\u001b[0m in \u001b[0;36m__setitem__\u001b[1;34m(self, key, value)\u001b[0m\n\u001b[0;32m   2936\u001b[0m         \u001b[1;32melse\u001b[0m\u001b[1;33m:\u001b[0m\u001b[1;33m\u001b[0m\u001b[1;33m\u001b[0m\u001b[0m\n\u001b[0;32m   2937\u001b[0m             \u001b[1;31m# set column\u001b[0m\u001b[1;33m\u001b[0m\u001b[1;33m\u001b[0m\u001b[1;33m\u001b[0m\u001b[0m\n\u001b[1;32m-> 2938\u001b[1;33m             \u001b[0mself\u001b[0m\u001b[1;33m.\u001b[0m\u001b[0m_set_item\u001b[0m\u001b[1;33m(\u001b[0m\u001b[0mkey\u001b[0m\u001b[1;33m,\u001b[0m \u001b[0mvalue\u001b[0m\u001b[1;33m)\u001b[0m\u001b[1;33m\u001b[0m\u001b[1;33m\u001b[0m\u001b[0m\n\u001b[0m\u001b[0;32m   2939\u001b[0m \u001b[1;33m\u001b[0m\u001b[0m\n\u001b[0;32m   2940\u001b[0m     \u001b[1;32mdef\u001b[0m \u001b[0m_setitem_slice\u001b[0m\u001b[1;33m(\u001b[0m\u001b[0mself\u001b[0m\u001b[1;33m,\u001b[0m \u001b[0mkey\u001b[0m\u001b[1;33m,\u001b[0m \u001b[0mvalue\u001b[0m\u001b[1;33m)\u001b[0m\u001b[1;33m:\u001b[0m\u001b[1;33m\u001b[0m\u001b[1;33m\u001b[0m\u001b[0m\n",
      "\u001b[1;32m~\\Anaconda3\\envs\\conda2020\\lib\\site-packages\\pandas\\core\\frame.py\u001b[0m in \u001b[0;36m_set_item\u001b[1;34m(self, key, value)\u001b[0m\n\u001b[0;32m   2997\u001b[0m         \"\"\"\n\u001b[0;32m   2998\u001b[0m \u001b[1;33m\u001b[0m\u001b[0m\n\u001b[1;32m-> 2999\u001b[1;33m         \u001b[0mself\u001b[0m\u001b[1;33m.\u001b[0m\u001b[0m_ensure_valid_index\u001b[0m\u001b[1;33m(\u001b[0m\u001b[0mvalue\u001b[0m\u001b[1;33m)\u001b[0m\u001b[1;33m\u001b[0m\u001b[1;33m\u001b[0m\u001b[0m\n\u001b[0m\u001b[0;32m   3000\u001b[0m         \u001b[0mvalue\u001b[0m \u001b[1;33m=\u001b[0m \u001b[0mself\u001b[0m\u001b[1;33m.\u001b[0m\u001b[0m_sanitize_column\u001b[0m\u001b[1;33m(\u001b[0m\u001b[0mkey\u001b[0m\u001b[1;33m,\u001b[0m \u001b[0mvalue\u001b[0m\u001b[1;33m)\u001b[0m\u001b[1;33m\u001b[0m\u001b[1;33m\u001b[0m\u001b[0m\n\u001b[0;32m   3001\u001b[0m         \u001b[0mNDFrame\u001b[0m\u001b[1;33m.\u001b[0m\u001b[0m_set_item\u001b[0m\u001b[1;33m(\u001b[0m\u001b[0mself\u001b[0m\u001b[1;33m,\u001b[0m \u001b[0mkey\u001b[0m\u001b[1;33m,\u001b[0m \u001b[0mvalue\u001b[0m\u001b[1;33m)\u001b[0m\u001b[1;33m\u001b[0m\u001b[1;33m\u001b[0m\u001b[0m\n",
      "\u001b[1;32m~\\Anaconda3\\envs\\conda2020\\lib\\site-packages\\pandas\\core\\frame.py\u001b[0m in \u001b[0;36m_ensure_valid_index\u001b[1;34m(self, value)\u001b[0m\n\u001b[0;32m   3052\u001b[0m         \u001b[1;32mif\u001b[0m \u001b[1;32mnot\u001b[0m \u001b[0mlen\u001b[0m\u001b[1;33m(\u001b[0m\u001b[0mself\u001b[0m\u001b[1;33m.\u001b[0m\u001b[0mindex\u001b[0m\u001b[1;33m)\u001b[0m \u001b[1;32mand\u001b[0m \u001b[0mis_list_like\u001b[0m\u001b[1;33m(\u001b[0m\u001b[0mvalue\u001b[0m\u001b[1;33m)\u001b[0m \u001b[1;32mand\u001b[0m \u001b[0mlen\u001b[0m\u001b[1;33m(\u001b[0m\u001b[0mvalue\u001b[0m\u001b[1;33m)\u001b[0m\u001b[1;33m:\u001b[0m\u001b[1;33m\u001b[0m\u001b[1;33m\u001b[0m\u001b[0m\n\u001b[0;32m   3053\u001b[0m             \u001b[1;32mtry\u001b[0m\u001b[1;33m:\u001b[0m\u001b[1;33m\u001b[0m\u001b[1;33m\u001b[0m\u001b[0m\n\u001b[1;32m-> 3054\u001b[1;33m                 \u001b[0mvalue\u001b[0m \u001b[1;33m=\u001b[0m \u001b[0mSeries\u001b[0m\u001b[1;33m(\u001b[0m\u001b[0mvalue\u001b[0m\u001b[1;33m)\u001b[0m\u001b[1;33m\u001b[0m\u001b[1;33m\u001b[0m\u001b[0m\n\u001b[0m\u001b[0;32m   3055\u001b[0m             \u001b[1;32mexcept\u001b[0m \u001b[1;33m(\u001b[0m\u001b[0mValueError\u001b[0m\u001b[1;33m,\u001b[0m \u001b[0mNotImplementedError\u001b[0m\u001b[1;33m,\u001b[0m \u001b[0mTypeError\u001b[0m\u001b[1;33m)\u001b[0m\u001b[1;33m:\u001b[0m\u001b[1;33m\u001b[0m\u001b[1;33m\u001b[0m\u001b[0m\n\u001b[0;32m   3056\u001b[0m                 raise ValueError(\n",
      "\u001b[1;32m~\\Anaconda3\\envs\\conda2020\\lib\\site-packages\\pandas\\core\\series.py\u001b[0m in \u001b[0;36m__init__\u001b[1;34m(self, data, index, dtype, name, copy, fastpath)\u001b[0m\n\u001b[0;32m    303\u001b[0m                     \u001b[0mdata\u001b[0m \u001b[1;33m=\u001b[0m \u001b[0mdata\u001b[0m\u001b[1;33m.\u001b[0m\u001b[0mcopy\u001b[0m\u001b[1;33m(\u001b[0m\u001b[1;33m)\u001b[0m\u001b[1;33m\u001b[0m\u001b[1;33m\u001b[0m\u001b[0m\n\u001b[0;32m    304\u001b[0m             \u001b[1;32melse\u001b[0m\u001b[1;33m:\u001b[0m\u001b[1;33m\u001b[0m\u001b[1;33m\u001b[0m\u001b[0m\n\u001b[1;32m--> 305\u001b[1;33m                 \u001b[0mdata\u001b[0m \u001b[1;33m=\u001b[0m \u001b[0msanitize_array\u001b[0m\u001b[1;33m(\u001b[0m\u001b[0mdata\u001b[0m\u001b[1;33m,\u001b[0m \u001b[0mindex\u001b[0m\u001b[1;33m,\u001b[0m \u001b[0mdtype\u001b[0m\u001b[1;33m,\u001b[0m \u001b[0mcopy\u001b[0m\u001b[1;33m,\u001b[0m \u001b[0mraise_cast_failure\u001b[0m\u001b[1;33m=\u001b[0m\u001b[1;32mTrue\u001b[0m\u001b[1;33m)\u001b[0m\u001b[1;33m\u001b[0m\u001b[1;33m\u001b[0m\u001b[0m\n\u001b[0m\u001b[0;32m    306\u001b[0m \u001b[1;33m\u001b[0m\u001b[0m\n\u001b[0;32m    307\u001b[0m                 \u001b[0mdata\u001b[0m \u001b[1;33m=\u001b[0m \u001b[0mSingleBlockManager\u001b[0m\u001b[1;33m(\u001b[0m\u001b[0mdata\u001b[0m\u001b[1;33m,\u001b[0m \u001b[0mindex\u001b[0m\u001b[1;33m,\u001b[0m \u001b[0mfastpath\u001b[0m\u001b[1;33m=\u001b[0m\u001b[1;32mTrue\u001b[0m\u001b[1;33m)\u001b[0m\u001b[1;33m\u001b[0m\u001b[1;33m\u001b[0m\u001b[0m\n",
      "\u001b[1;32m~\\Anaconda3\\envs\\conda2020\\lib\\site-packages\\pandas\\core\\construction.py\u001b[0m in \u001b[0;36msanitize_array\u001b[1;34m(data, index, dtype, copy, raise_cast_failure)\u001b[0m\n\u001b[0;32m    480\u001b[0m     \u001b[1;32melif\u001b[0m \u001b[0msubarr\u001b[0m\u001b[1;33m.\u001b[0m\u001b[0mndim\u001b[0m \u001b[1;33m>\u001b[0m \u001b[1;36m1\u001b[0m\u001b[1;33m:\u001b[0m\u001b[1;33m\u001b[0m\u001b[1;33m\u001b[0m\u001b[0m\n\u001b[0;32m    481\u001b[0m         \u001b[1;32mif\u001b[0m \u001b[0misinstance\u001b[0m\u001b[1;33m(\u001b[0m\u001b[0mdata\u001b[0m\u001b[1;33m,\u001b[0m \u001b[0mnp\u001b[0m\u001b[1;33m.\u001b[0m\u001b[0mndarray\u001b[0m\u001b[1;33m)\u001b[0m\u001b[1;33m:\u001b[0m\u001b[1;33m\u001b[0m\u001b[1;33m\u001b[0m\u001b[0m\n\u001b[1;32m--> 482\u001b[1;33m             \u001b[1;32mraise\u001b[0m \u001b[0mException\u001b[0m\u001b[1;33m(\u001b[0m\u001b[1;34m\"Data must be 1-dimensional\"\u001b[0m\u001b[1;33m)\u001b[0m\u001b[1;33m\u001b[0m\u001b[1;33m\u001b[0m\u001b[0m\n\u001b[0m\u001b[0;32m    483\u001b[0m         \u001b[1;32melse\u001b[0m\u001b[1;33m:\u001b[0m\u001b[1;33m\u001b[0m\u001b[1;33m\u001b[0m\u001b[0m\n\u001b[0;32m    484\u001b[0m             \u001b[0msubarr\u001b[0m \u001b[1;33m=\u001b[0m \u001b[0mcom\u001b[0m\u001b[1;33m.\u001b[0m\u001b[0masarray_tuplesafe\u001b[0m\u001b[1;33m(\u001b[0m\u001b[0mdata\u001b[0m\u001b[1;33m,\u001b[0m \u001b[0mdtype\u001b[0m\u001b[1;33m=\u001b[0m\u001b[0mdtype\u001b[0m\u001b[1;33m)\u001b[0m\u001b[1;33m\u001b[0m\u001b[1;33m\u001b[0m\u001b[0m\n",
      "\u001b[1;31mException\u001b[0m: Data must be 1-dimensional"
     ]
    }
   ],
   "source": [
    "df3['A'] = norm_scal.fit_transform(df2[col].values.reshape(-1,1))"
   ]
  },
  {
   "cell_type": "code",
   "execution_count": 45,
   "metadata": {},
   "outputs": [
    {
     "data": {
      "text/plain": [
       "(0, 14)"
      ]
     },
     "execution_count": 45,
     "metadata": {},
     "output_type": "execute_result"
    }
   ],
   "source": [
    "df3.shape"
   ]
  },
  {
   "cell_type": "code",
   "execution_count": null,
   "metadata": {},
   "outputs": [],
   "source": []
  }
 ],
 "metadata": {
  "kernelspec": {
   "display_name": "Python 3",
   "language": "python",
   "name": "python3"
  },
  "language_info": {
   "codemirror_mode": {
    "name": "ipython",
    "version": 3
   },
   "file_extension": ".py",
   "mimetype": "text/x-python",
   "name": "python",
   "nbconvert_exporter": "python",
   "pygments_lexer": "ipython3",
   "version": "3.7.6"
  }
 },
 "nbformat": 4,
 "nbformat_minor": 4
}
