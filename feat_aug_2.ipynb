{
 "cells": [
  {
   "cell_type": "code",
   "execution_count": 1,
   "metadata": {},
   "outputs": [],
   "source": [
    "import pandas as pd\n",
    "import numpy as np\n",
    "from sklearn import set_config\n",
    "from sklearn.pipeline import make_pipeline\n",
    "from sklearn.preprocessing import OneHotEncoder, MinMaxScaler\n",
    "from sklearn.impute import SimpleImputer\n",
    "from sklearn.compose import make_column_transformer\n",
    "\n",
    "set_config(display='diagram')"
   ]
  },
  {
   "cell_type": "code",
   "execution_count": 2,
   "metadata": {},
   "outputs": [
    {
     "data": {
      "text/html": [
       "<div>\n",
       "<style scoped>\n",
       "    .dataframe tbody tr th:only-of-type {\n",
       "        vertical-align: middle;\n",
       "    }\n",
       "\n",
       "    .dataframe tbody tr th {\n",
       "        vertical-align: top;\n",
       "    }\n",
       "\n",
       "    .dataframe thead th {\n",
       "        text-align: right;\n",
       "    }\n",
       "</style>\n",
       "<table border=\"1\" class=\"dataframe\">\n",
       "  <thead>\n",
       "    <tr style=\"text-align: right;\">\n",
       "      <th></th>\n",
       "      <th>A</th>\n",
       "      <th>B</th>\n",
       "      <th>C</th>\n",
       "      <th>D</th>\n",
       "    </tr>\n",
       "  </thead>\n",
       "  <tbody>\n",
       "    <tr>\n",
       "      <th>0</th>\n",
       "      <td>80</td>\n",
       "      <td>28</td>\n",
       "      <td>84</td>\n",
       "      <td>22</td>\n",
       "    </tr>\n",
       "    <tr>\n",
       "      <th>1</th>\n",
       "      <td>6</td>\n",
       "      <td>53</td>\n",
       "      <td>9</td>\n",
       "      <td>47</td>\n",
       "    </tr>\n",
       "    <tr>\n",
       "      <th>2</th>\n",
       "      <td>43</td>\n",
       "      <td>50</td>\n",
       "      <td>86</td>\n",
       "      <td>72</td>\n",
       "    </tr>\n",
       "    <tr>\n",
       "      <th>3</th>\n",
       "      <td>35</td>\n",
       "      <td>96</td>\n",
       "      <td>60</td>\n",
       "      <td>22</td>\n",
       "    </tr>\n",
       "    <tr>\n",
       "      <th>4</th>\n",
       "      <td>72</td>\n",
       "      <td>0</td>\n",
       "      <td>36</td>\n",
       "      <td>73</td>\n",
       "    </tr>\n",
       "  </tbody>\n",
       "</table>\n",
       "</div>"
      ],
      "text/plain": [
       "    A   B   C   D\n",
       "0  80  28  84  22\n",
       "1   6  53   9  47\n",
       "2  43  50  86  72\n",
       "3  35  96  60  22\n",
       "4  72   0  36  73"
      ]
     },
     "execution_count": 2,
     "metadata": {},
     "output_type": "execute_result"
    }
   ],
   "source": [
    "df = pd.DataFrame(np.random.randint(0,100,size=(100, 4)), columns=list('ABCD'))\n",
    "df.head()"
   ]
  },
  {
   "cell_type": "code",
   "execution_count": 3,
   "metadata": {},
   "outputs": [
    {
     "data": {
      "text/html": [
       "<div>\n",
       "<style scoped>\n",
       "    .dataframe tbody tr th:only-of-type {\n",
       "        vertical-align: middle;\n",
       "    }\n",
       "\n",
       "    .dataframe tbody tr th {\n",
       "        vertical-align: top;\n",
       "    }\n",
       "\n",
       "    .dataframe thead th {\n",
       "        text-align: right;\n",
       "    }\n",
       "</style>\n",
       "<table border=\"1\" class=\"dataframe\">\n",
       "  <thead>\n",
       "    <tr style=\"text-align: right;\">\n",
       "      <th></th>\n",
       "      <th>AxA</th>\n",
       "      <th>AxB</th>\n",
       "      <th>AxC</th>\n",
       "      <th>AxD</th>\n",
       "      <th>BxB</th>\n",
       "      <th>BxC</th>\n",
       "      <th>BxD</th>\n",
       "      <th>CxC</th>\n",
       "      <th>CxD</th>\n",
       "      <th>DxD</th>\n",
       "    </tr>\n",
       "  </thead>\n",
       "  <tbody>\n",
       "    <tr>\n",
       "      <th>0</th>\n",
       "      <td>6400</td>\n",
       "      <td>2240</td>\n",
       "      <td>6720</td>\n",
       "      <td>1760</td>\n",
       "      <td>784</td>\n",
       "      <td>2352</td>\n",
       "      <td>616</td>\n",
       "      <td>7056</td>\n",
       "      <td>1848</td>\n",
       "      <td>484</td>\n",
       "    </tr>\n",
       "    <tr>\n",
       "      <th>1</th>\n",
       "      <td>36</td>\n",
       "      <td>318</td>\n",
       "      <td>54</td>\n",
       "      <td>282</td>\n",
       "      <td>2809</td>\n",
       "      <td>477</td>\n",
       "      <td>2491</td>\n",
       "      <td>81</td>\n",
       "      <td>423</td>\n",
       "      <td>2209</td>\n",
       "    </tr>\n",
       "    <tr>\n",
       "      <th>2</th>\n",
       "      <td>1849</td>\n",
       "      <td>2150</td>\n",
       "      <td>3698</td>\n",
       "      <td>3096</td>\n",
       "      <td>2500</td>\n",
       "      <td>4300</td>\n",
       "      <td>3600</td>\n",
       "      <td>7396</td>\n",
       "      <td>6192</td>\n",
       "      <td>5184</td>\n",
       "    </tr>\n",
       "    <tr>\n",
       "      <th>3</th>\n",
       "      <td>1225</td>\n",
       "      <td>3360</td>\n",
       "      <td>2100</td>\n",
       "      <td>770</td>\n",
       "      <td>9216</td>\n",
       "      <td>5760</td>\n",
       "      <td>2112</td>\n",
       "      <td>3600</td>\n",
       "      <td>1320</td>\n",
       "      <td>484</td>\n",
       "    </tr>\n",
       "    <tr>\n",
       "      <th>4</th>\n",
       "      <td>5184</td>\n",
       "      <td>0</td>\n",
       "      <td>2592</td>\n",
       "      <td>5256</td>\n",
       "      <td>0</td>\n",
       "      <td>0</td>\n",
       "      <td>0</td>\n",
       "      <td>1296</td>\n",
       "      <td>2628</td>\n",
       "      <td>5329</td>\n",
       "    </tr>\n",
       "  </tbody>\n",
       "</table>\n",
       "</div>"
      ],
      "text/plain": [
       "    AxA   AxB   AxC   AxD   BxB   BxC   BxD   CxC   CxD   DxD\n",
       "0  6400  2240  6720  1760   784  2352   616  7056  1848   484\n",
       "1    36   318    54   282  2809   477  2491    81   423  2209\n",
       "2  1849  2150  3698  3096  2500  4300  3600  7396  6192  5184\n",
       "3  1225  3360  2100   770  9216  5760  2112  3600  1320   484\n",
       "4  5184     0  2592  5256     0     0     0  1296  2628  5329"
      ]
     },
     "execution_count": 3,
     "metadata": {},
     "output_type": "execute_result"
    }
   ],
   "source": [
    "df1 = pd.DataFrame()\n",
    "for idx1,col1 in enumerate(df.columns):\n",
    "    for idx2,col2 in enumerate(df.drop(columns=df.columns[:idx1]).columns):\n",
    "        df1[col1+'x'+col2] = df.loc[:,col1] * df.loc[:,col2]\n",
    "\n",
    "df1.head()"
   ]
  },
  {
   "cell_type": "code",
   "execution_count": 4,
   "metadata": {},
   "outputs": [
    {
     "data": {
      "text/html": [
       "<div>\n",
       "<style scoped>\n",
       "    .dataframe tbody tr th:only-of-type {\n",
       "        vertical-align: middle;\n",
       "    }\n",
       "\n",
       "    .dataframe tbody tr th {\n",
       "        vertical-align: top;\n",
       "    }\n",
       "\n",
       "    .dataframe thead th {\n",
       "        text-align: right;\n",
       "    }\n",
       "</style>\n",
       "<table border=\"1\" class=\"dataframe\">\n",
       "  <thead>\n",
       "    <tr style=\"text-align: right;\">\n",
       "      <th></th>\n",
       "      <th>A</th>\n",
       "      <th>B</th>\n",
       "      <th>C</th>\n",
       "      <th>D</th>\n",
       "      <th>AxA</th>\n",
       "      <th>AxB</th>\n",
       "      <th>AxC</th>\n",
       "      <th>AxD</th>\n",
       "      <th>BxB</th>\n",
       "      <th>BxC</th>\n",
       "      <th>BxD</th>\n",
       "      <th>CxC</th>\n",
       "      <th>CxD</th>\n",
       "      <th>DxD</th>\n",
       "    </tr>\n",
       "  </thead>\n",
       "  <tbody>\n",
       "    <tr>\n",
       "      <th>0</th>\n",
       "      <td>80</td>\n",
       "      <td>28</td>\n",
       "      <td>84</td>\n",
       "      <td>22</td>\n",
       "      <td>6400</td>\n",
       "      <td>2240</td>\n",
       "      <td>6720</td>\n",
       "      <td>1760</td>\n",
       "      <td>784</td>\n",
       "      <td>2352</td>\n",
       "      <td>616</td>\n",
       "      <td>7056</td>\n",
       "      <td>1848</td>\n",
       "      <td>484</td>\n",
       "    </tr>\n",
       "    <tr>\n",
       "      <th>1</th>\n",
       "      <td>6</td>\n",
       "      <td>53</td>\n",
       "      <td>9</td>\n",
       "      <td>47</td>\n",
       "      <td>36</td>\n",
       "      <td>318</td>\n",
       "      <td>54</td>\n",
       "      <td>282</td>\n",
       "      <td>2809</td>\n",
       "      <td>477</td>\n",
       "      <td>2491</td>\n",
       "      <td>81</td>\n",
       "      <td>423</td>\n",
       "      <td>2209</td>\n",
       "    </tr>\n",
       "    <tr>\n",
       "      <th>2</th>\n",
       "      <td>43</td>\n",
       "      <td>50</td>\n",
       "      <td>86</td>\n",
       "      <td>72</td>\n",
       "      <td>1849</td>\n",
       "      <td>2150</td>\n",
       "      <td>3698</td>\n",
       "      <td>3096</td>\n",
       "      <td>2500</td>\n",
       "      <td>4300</td>\n",
       "      <td>3600</td>\n",
       "      <td>7396</td>\n",
       "      <td>6192</td>\n",
       "      <td>5184</td>\n",
       "    </tr>\n",
       "    <tr>\n",
       "      <th>3</th>\n",
       "      <td>35</td>\n",
       "      <td>96</td>\n",
       "      <td>60</td>\n",
       "      <td>22</td>\n",
       "      <td>1225</td>\n",
       "      <td>3360</td>\n",
       "      <td>2100</td>\n",
       "      <td>770</td>\n",
       "      <td>9216</td>\n",
       "      <td>5760</td>\n",
       "      <td>2112</td>\n",
       "      <td>3600</td>\n",
       "      <td>1320</td>\n",
       "      <td>484</td>\n",
       "    </tr>\n",
       "    <tr>\n",
       "      <th>4</th>\n",
       "      <td>72</td>\n",
       "      <td>0</td>\n",
       "      <td>36</td>\n",
       "      <td>73</td>\n",
       "      <td>5184</td>\n",
       "      <td>0</td>\n",
       "      <td>2592</td>\n",
       "      <td>5256</td>\n",
       "      <td>0</td>\n",
       "      <td>0</td>\n",
       "      <td>0</td>\n",
       "      <td>1296</td>\n",
       "      <td>2628</td>\n",
       "      <td>5329</td>\n",
       "    </tr>\n",
       "  </tbody>\n",
       "</table>\n",
       "</div>"
      ],
      "text/plain": [
       "    A   B   C   D   AxA   AxB   AxC   AxD   BxB   BxC   BxD   CxC   CxD   DxD\n",
       "0  80  28  84  22  6400  2240  6720  1760   784  2352   616  7056  1848   484\n",
       "1   6  53   9  47    36   318    54   282  2809   477  2491    81   423  2209\n",
       "2  43  50  86  72  1849  2150  3698  3096  2500  4300  3600  7396  6192  5184\n",
       "3  35  96  60  22  1225  3360  2100   770  9216  5760  2112  3600  1320   484\n",
       "4  72   0  36  73  5184     0  2592  5256     0     0     0  1296  2628  5329"
      ]
     },
     "execution_count": 4,
     "metadata": {},
     "output_type": "execute_result"
    }
   ],
   "source": [
    "df2 = df.merge(df1, left_index=True, right_index=True)\n",
    "\n",
    "df2.head()"
   ]
  },
  {
   "cell_type": "code",
   "execution_count": 5,
   "metadata": {},
   "outputs": [],
   "source": [
    "from sklearn.preprocessing import StandardScaler"
   ]
  },
  {
   "cell_type": "code",
   "execution_count": 6,
   "metadata": {},
   "outputs": [],
   "source": [
    "norm_scal = StandardScaler()"
   ]
  },
  {
   "cell_type": "code",
   "execution_count": 7,
   "metadata": {},
   "outputs": [],
   "source": [
    "df3 = pd.DataFrame(index=df2.index, columns=df2.columns)"
   ]
  },
  {
   "cell_type": "code",
   "execution_count": 8,
   "metadata": {},
   "outputs": [],
   "source": [
    "for col in df2.columns:\n",
    "    df3[col] = norm_scal.fit_transform(df2[col].values.reshape(-1,1))"
   ]
  },
  {
   "cell_type": "code",
   "execution_count": 9,
   "metadata": {},
   "outputs": [
    {
     "data": {
      "text/html": [
       "<div>\n",
       "<style scoped>\n",
       "    .dataframe tbody tr th:only-of-type {\n",
       "        vertical-align: middle;\n",
       "    }\n",
       "\n",
       "    .dataframe tbody tr th {\n",
       "        vertical-align: top;\n",
       "    }\n",
       "\n",
       "    .dataframe thead th {\n",
       "        text-align: right;\n",
       "    }\n",
       "</style>\n",
       "<table border=\"1\" class=\"dataframe\">\n",
       "  <thead>\n",
       "    <tr style=\"text-align: right;\">\n",
       "      <th></th>\n",
       "      <th>A</th>\n",
       "      <th>B</th>\n",
       "      <th>C</th>\n",
       "      <th>D</th>\n",
       "      <th>AxA</th>\n",
       "      <th>AxB</th>\n",
       "      <th>AxC</th>\n",
       "      <th>AxD</th>\n",
       "      <th>BxB</th>\n",
       "      <th>BxC</th>\n",
       "      <th>BxD</th>\n",
       "      <th>CxC</th>\n",
       "      <th>CxD</th>\n",
       "      <th>DxD</th>\n",
       "    </tr>\n",
       "  </thead>\n",
       "  <tbody>\n",
       "    <tr>\n",
       "      <th>0</th>\n",
       "      <td>1.068134</td>\n",
       "      <td>-0.667332</td>\n",
       "      <td>1.118562</td>\n",
       "      <td>-0.861784</td>\n",
       "      <td>1.078126</td>\n",
       "      <td>-0.070572</td>\n",
       "      <td>1.705159</td>\n",
       "      <td>-0.286968</td>\n",
       "      <td>-0.776981</td>\n",
       "      <td>-0.049964</td>\n",
       "      <td>-0.753386</td>\n",
       "      <td>1.196114</td>\n",
       "      <td>-0.297331</td>\n",
       "      <td>-0.891002</td>\n",
       "    </tr>\n",
       "    <tr>\n",
       "      <th>1</th>\n",
       "      <td>-1.531929</td>\n",
       "      <td>0.200686</td>\n",
       "      <td>-1.487594</td>\n",
       "      <td>-0.037268</td>\n",
       "      <td>-1.114075</td>\n",
       "      <td>-1.015997</td>\n",
       "      <td>-1.190595</td>\n",
       "      <td>-0.935083</td>\n",
       "      <td>-0.085455</td>\n",
       "      <td>-0.935607</td>\n",
       "      <td>0.103222</td>\n",
       "      <td>-1.158275</td>\n",
       "      <td>-0.907246</td>\n",
       "      <td>-0.332477</td>\n",
       "    </tr>\n",
       "    <tr>\n",
       "      <th>2</th>\n",
       "      <td>-0.231897</td>\n",
       "      <td>0.096524</td>\n",
       "      <td>1.188060</td>\n",
       "      <td>0.787247</td>\n",
       "      <td>-0.489552</td>\n",
       "      <td>-0.114843</td>\n",
       "      <td>0.392382</td>\n",
       "      <td>0.298878</td>\n",
       "      <td>-0.190977</td>\n",
       "      <td>0.870159</td>\n",
       "      <td>0.609878</td>\n",
       "      <td>1.310880</td>\n",
       "      <td>1.561949</td>\n",
       "      <td>0.630778</td>\n",
       "    </tr>\n",
       "    <tr>\n",
       "      <th>3</th>\n",
       "      <td>-0.512985</td>\n",
       "      <td>1.693677</td>\n",
       "      <td>0.284592</td>\n",
       "      <td>-0.861784</td>\n",
       "      <td>-0.704501</td>\n",
       "      <td>0.480352</td>\n",
       "      <td>-0.301800</td>\n",
       "      <td>-0.721091</td>\n",
       "      <td>2.102497</td>\n",
       "      <td>1.559779</td>\n",
       "      <td>-0.069927</td>\n",
       "      <td>0.029552</td>\n",
       "      <td>-0.523321</td>\n",
       "      <td>-0.891002</td>\n",
       "    </tr>\n",
       "    <tr>\n",
       "      <th>4</th>\n",
       "      <td>0.787046</td>\n",
       "      <td>-1.639513</td>\n",
       "      <td>-0.549378</td>\n",
       "      <td>0.820228</td>\n",
       "      <td>0.659252</td>\n",
       "      <td>-1.172420</td>\n",
       "      <td>-0.088072</td>\n",
       "      <td>1.246056</td>\n",
       "      <td>-1.044712</td>\n",
       "      <td>-1.160914</td>\n",
       "      <td>-1.034810</td>\n",
       "      <td>-0.748156</td>\n",
       "      <td>0.036518</td>\n",
       "      <td>0.677726</td>\n",
       "    </tr>\n",
       "  </tbody>\n",
       "</table>\n",
       "</div>"
      ],
      "text/plain": [
       "          A         B         C         D       AxA       AxB       AxC  \\\n",
       "0  1.068134 -0.667332  1.118562 -0.861784  1.078126 -0.070572  1.705159   \n",
       "1 -1.531929  0.200686 -1.487594 -0.037268 -1.114075 -1.015997 -1.190595   \n",
       "2 -0.231897  0.096524  1.188060  0.787247 -0.489552 -0.114843  0.392382   \n",
       "3 -0.512985  1.693677  0.284592 -0.861784 -0.704501  0.480352 -0.301800   \n",
       "4  0.787046 -1.639513 -0.549378  0.820228  0.659252 -1.172420 -0.088072   \n",
       "\n",
       "        AxD       BxB       BxC       BxD       CxC       CxD       DxD  \n",
       "0 -0.286968 -0.776981 -0.049964 -0.753386  1.196114 -0.297331 -0.891002  \n",
       "1 -0.935083 -0.085455 -0.935607  0.103222 -1.158275 -0.907246 -0.332477  \n",
       "2  0.298878 -0.190977  0.870159  0.609878  1.310880  1.561949  0.630778  \n",
       "3 -0.721091  2.102497  1.559779 -0.069927  0.029552 -0.523321 -0.891002  \n",
       "4  1.246056 -1.044712 -1.160914 -1.034810 -0.748156  0.036518  0.677726  "
      ]
     },
     "execution_count": 9,
     "metadata": {},
     "output_type": "execute_result"
    }
   ],
   "source": [
    "df3.head()"
   ]
  },
  {
   "cell_type": "code",
   "execution_count": 10,
   "metadata": {},
   "outputs": [
    {
     "data": {
      "text/plain": [
       "14"
      ]
     },
     "execution_count": 10,
     "metadata": {},
     "output_type": "execute_result"
    }
   ],
   "source": [
    "df3.shape[1]"
   ]
  },
  {
   "cell_type": "code",
   "execution_count": 11,
   "metadata": {},
   "outputs": [],
   "source": [
    "from sklearn.decomposition import PCA"
   ]
  },
  {
   "cell_type": "code",
   "execution_count": 12,
   "metadata": {},
   "outputs": [],
   "source": [
    "pca = PCA(n_components=df3.shape[1])"
   ]
  },
  {
   "cell_type": "code",
   "execution_count": 13,
   "metadata": {},
   "outputs": [
    {
     "data": {
      "text/plain": [
       "array([[ 7.45254267e-01, -4.07802261e-01, -3.13320401e+00, ...,\n",
       "         1.24997870e-02, -2.55584505e-03, -3.47679181e-02],\n",
       "       [-3.03258598e+00,  3.27382690e-01,  1.60186784e+00, ...,\n",
       "        -2.67728505e-01,  1.12363104e-01, -9.15033511e-02],\n",
       "       [ 1.94558144e+00, -8.54483100e-01,  4.77079443e-01, ...,\n",
       "        -2.09068639e-03,  1.75736647e-01, -1.68678334e-01],\n",
       "       ...,\n",
       "       [ 2.15317491e+00, -4.05580948e-01,  3.24078473e+00, ...,\n",
       "        -4.27060457e-02,  8.73546630e-02,  9.61256556e-02],\n",
       "       [ 7.13668355e-01,  1.61774673e+00, -1.90822670e+00, ...,\n",
       "        -4.29372342e-02,  1.31318699e-01, -1.02976876e-01],\n",
       "       [ 1.35032126e+00,  2.52086864e+00, -1.38809932e+00, ...,\n",
       "         2.40203898e-02, -2.05473776e-01, -5.79215236e-02]])"
      ]
     },
     "execution_count": 13,
     "metadata": {},
     "output_type": "execute_result"
    }
   ],
   "source": [
    "pca.fit_transform(df3)"
   ]
  },
  {
   "cell_type": "code",
   "execution_count": 14,
   "metadata": {},
   "outputs": [],
   "source": [
    "vec_var = pca.explained_variance_"
   ]
  },
  {
   "cell_type": "code",
   "execution_count": 15,
   "metadata": {},
   "outputs": [],
   "source": [
    "pca_comp = (vec_var>1).sum()"
   ]
  },
  {
   "cell_type": "code",
   "execution_count": 16,
   "metadata": {},
   "outputs": [],
   "source": [
    "pca2 = PCA(n_components=pca_comp)"
   ]
  },
  {
   "cell_type": "code",
   "execution_count": 17,
   "metadata": {},
   "outputs": [],
   "source": [
    "df4 = pca2.fit_transform(df3)"
   ]
  },
  {
   "cell_type": "code",
   "execution_count": 18,
   "metadata": {},
   "outputs": [
    {
     "data": {
      "text/plain": [
       "(100, 4)"
      ]
     },
     "execution_count": 18,
     "metadata": {},
     "output_type": "execute_result"
    }
   ],
   "source": [
    "df4.shape"
   ]
  },
  {
   "cell_type": "code",
   "execution_count": 19,
   "metadata": {},
   "outputs": [],
   "source": [
    "Z = df['A'] + df['C']*df['C']*df['C']"
   ]
  },
  {
   "cell_type": "code",
   "execution_count": 20,
   "metadata": {},
   "outputs": [
    {
     "data": {
      "text/plain": [
       "0    592784\n",
       "1       735\n",
       "2    636099\n",
       "3    216035\n",
       "4     46728\n",
       "dtype: int32"
      ]
     },
     "execution_count": 20,
     "metadata": {},
     "output_type": "execute_result"
    }
   ],
   "source": [
    "Z.head()"
   ]
  },
  {
   "cell_type": "code",
   "execution_count": null,
   "metadata": {},
   "outputs": [],
   "source": []
  },
  {
   "cell_type": "code",
   "execution_count": 37,
   "metadata": {},
   "outputs": [
    {
     "data": {
      "text/plain": [
       "array([[79],\n",
       "       [33],\n",
       "       [92],\n",
       "       [83],\n",
       "       [12],\n",
       "       [37],\n",
       "       [97],\n",
       "       [34],\n",
       "       [39],\n",
       "       [23],\n",
       "       [22],\n",
       "       [73],\n",
       "       [89],\n",
       "       [87],\n",
       "       [ 4],\n",
       "       [82],\n",
       "       [70],\n",
       "       [58],\n",
       "       [52],\n",
       "       [59],\n",
       "       [35],\n",
       "       [28],\n",
       "       [81],\n",
       "       [32],\n",
       "       [12],\n",
       "       [54],\n",
       "       [55],\n",
       "       [76],\n",
       "       [95],\n",
       "       [97],\n",
       "       [81],\n",
       "       [23],\n",
       "       [24],\n",
       "       [42],\n",
       "       [36],\n",
       "       [82],\n",
       "       [93],\n",
       "       [35],\n",
       "       [77],\n",
       "       [75],\n",
       "       [23],\n",
       "       [33],\n",
       "       [30],\n",
       "       [47],\n",
       "       [47],\n",
       "       [97],\n",
       "       [63],\n",
       "       [54],\n",
       "       [84],\n",
       "       [92],\n",
       "       [94],\n",
       "       [76],\n",
       "       [72],\n",
       "       [57],\n",
       "       [39],\n",
       "       [45],\n",
       "       [48],\n",
       "       [59],\n",
       "       [76],\n",
       "       [12],\n",
       "       [90],\n",
       "       [15],\n",
       "       [49],\n",
       "       [10],\n",
       "       [63],\n",
       "       [90],\n",
       "       [ 0],\n",
       "       [75],\n",
       "       [19],\n",
       "       [38],\n",
       "       [68],\n",
       "       [91],\n",
       "       [24],\n",
       "       [96],\n",
       "       [74],\n",
       "       [72],\n",
       "       [89],\n",
       "       [59],\n",
       "       [18],\n",
       "       [91],\n",
       "       [89],\n",
       "       [81],\n",
       "       [47],\n",
       "       [86],\n",
       "       [71],\n",
       "       [56],\n",
       "       [94],\n",
       "       [58],\n",
       "       [10],\n",
       "       [ 2],\n",
       "       [58],\n",
       "       [82],\n",
       "       [69],\n",
       "       [39],\n",
       "       [67],\n",
       "       [24],\n",
       "       [58],\n",
       "       [73],\n",
       "       [74],\n",
       "       [94]])"
      ]
     },
     "execution_count": 37,
     "metadata": {},
     "output_type": "execute_result"
    }
   ],
   "source": [
    "df2['A'].values.reshape(-1,1)"
   ]
  },
  {
   "cell_type": "code",
   "execution_count": 43,
   "metadata": {},
   "outputs": [
    {
     "data": {
      "text/plain": [
       "Index(['A', 'B', 'C', 'D', 'AxA', 'AxB', 'AxC', 'AxD', 'BxB', 'BxC', 'BxD',\n",
       "       'CxC', 'CxD', 'DxD'],\n",
       "      dtype='object')"
      ]
     },
     "execution_count": 43,
     "metadata": {},
     "output_type": "execute_result"
    }
   ],
   "source": [
    "df3.columns"
   ]
  },
  {
   "cell_type": "code",
   "execution_count": 44,
   "metadata": {},
   "outputs": [
    {
     "ename": "Exception",
     "evalue": "Data must be 1-dimensional",
     "output_type": "error",
     "traceback": [
      "\u001b[1;31m---------------------------------------------------------------------------\u001b[0m",
      "\u001b[1;31mException\u001b[0m                                 Traceback (most recent call last)",
      "\u001b[1;32m<ipython-input-44-473df57b9bc4>\u001b[0m in \u001b[0;36m<module>\u001b[1;34m\u001b[0m\n\u001b[1;32m----> 1\u001b[1;33m \u001b[0mdf3\u001b[0m\u001b[1;33m[\u001b[0m\u001b[1;34m'A'\u001b[0m\u001b[1;33m]\u001b[0m \u001b[1;33m=\u001b[0m \u001b[0mnorm_scal\u001b[0m\u001b[1;33m.\u001b[0m\u001b[0mfit_transform\u001b[0m\u001b[1;33m(\u001b[0m\u001b[0mdf2\u001b[0m\u001b[1;33m[\u001b[0m\u001b[0mcol\u001b[0m\u001b[1;33m]\u001b[0m\u001b[1;33m.\u001b[0m\u001b[0mvalues\u001b[0m\u001b[1;33m.\u001b[0m\u001b[0mreshape\u001b[0m\u001b[1;33m(\u001b[0m\u001b[1;33m-\u001b[0m\u001b[1;36m1\u001b[0m\u001b[1;33m,\u001b[0m\u001b[1;36m1\u001b[0m\u001b[1;33m)\u001b[0m\u001b[1;33m)\u001b[0m\u001b[1;33m\u001b[0m\u001b[1;33m\u001b[0m\u001b[0m\n\u001b[0m",
      "\u001b[1;32m~\\Anaconda3\\envs\\conda2020\\lib\\site-packages\\pandas\\core\\frame.py\u001b[0m in \u001b[0;36m__setitem__\u001b[1;34m(self, key, value)\u001b[0m\n\u001b[0;32m   2936\u001b[0m         \u001b[1;32melse\u001b[0m\u001b[1;33m:\u001b[0m\u001b[1;33m\u001b[0m\u001b[1;33m\u001b[0m\u001b[0m\n\u001b[0;32m   2937\u001b[0m             \u001b[1;31m# set column\u001b[0m\u001b[1;33m\u001b[0m\u001b[1;33m\u001b[0m\u001b[1;33m\u001b[0m\u001b[0m\n\u001b[1;32m-> 2938\u001b[1;33m             \u001b[0mself\u001b[0m\u001b[1;33m.\u001b[0m\u001b[0m_set_item\u001b[0m\u001b[1;33m(\u001b[0m\u001b[0mkey\u001b[0m\u001b[1;33m,\u001b[0m \u001b[0mvalue\u001b[0m\u001b[1;33m)\u001b[0m\u001b[1;33m\u001b[0m\u001b[1;33m\u001b[0m\u001b[0m\n\u001b[0m\u001b[0;32m   2939\u001b[0m \u001b[1;33m\u001b[0m\u001b[0m\n\u001b[0;32m   2940\u001b[0m     \u001b[1;32mdef\u001b[0m \u001b[0m_setitem_slice\u001b[0m\u001b[1;33m(\u001b[0m\u001b[0mself\u001b[0m\u001b[1;33m,\u001b[0m \u001b[0mkey\u001b[0m\u001b[1;33m,\u001b[0m \u001b[0mvalue\u001b[0m\u001b[1;33m)\u001b[0m\u001b[1;33m:\u001b[0m\u001b[1;33m\u001b[0m\u001b[1;33m\u001b[0m\u001b[0m\n",
      "\u001b[1;32m~\\Anaconda3\\envs\\conda2020\\lib\\site-packages\\pandas\\core\\frame.py\u001b[0m in \u001b[0;36m_set_item\u001b[1;34m(self, key, value)\u001b[0m\n\u001b[0;32m   2997\u001b[0m         \"\"\"\n\u001b[0;32m   2998\u001b[0m \u001b[1;33m\u001b[0m\u001b[0m\n\u001b[1;32m-> 2999\u001b[1;33m         \u001b[0mself\u001b[0m\u001b[1;33m.\u001b[0m\u001b[0m_ensure_valid_index\u001b[0m\u001b[1;33m(\u001b[0m\u001b[0mvalue\u001b[0m\u001b[1;33m)\u001b[0m\u001b[1;33m\u001b[0m\u001b[1;33m\u001b[0m\u001b[0m\n\u001b[0m\u001b[0;32m   3000\u001b[0m         \u001b[0mvalue\u001b[0m \u001b[1;33m=\u001b[0m \u001b[0mself\u001b[0m\u001b[1;33m.\u001b[0m\u001b[0m_sanitize_column\u001b[0m\u001b[1;33m(\u001b[0m\u001b[0mkey\u001b[0m\u001b[1;33m,\u001b[0m \u001b[0mvalue\u001b[0m\u001b[1;33m)\u001b[0m\u001b[1;33m\u001b[0m\u001b[1;33m\u001b[0m\u001b[0m\n\u001b[0;32m   3001\u001b[0m         \u001b[0mNDFrame\u001b[0m\u001b[1;33m.\u001b[0m\u001b[0m_set_item\u001b[0m\u001b[1;33m(\u001b[0m\u001b[0mself\u001b[0m\u001b[1;33m,\u001b[0m \u001b[0mkey\u001b[0m\u001b[1;33m,\u001b[0m \u001b[0mvalue\u001b[0m\u001b[1;33m)\u001b[0m\u001b[1;33m\u001b[0m\u001b[1;33m\u001b[0m\u001b[0m\n",
      "\u001b[1;32m~\\Anaconda3\\envs\\conda2020\\lib\\site-packages\\pandas\\core\\frame.py\u001b[0m in \u001b[0;36m_ensure_valid_index\u001b[1;34m(self, value)\u001b[0m\n\u001b[0;32m   3052\u001b[0m         \u001b[1;32mif\u001b[0m \u001b[1;32mnot\u001b[0m \u001b[0mlen\u001b[0m\u001b[1;33m(\u001b[0m\u001b[0mself\u001b[0m\u001b[1;33m.\u001b[0m\u001b[0mindex\u001b[0m\u001b[1;33m)\u001b[0m \u001b[1;32mand\u001b[0m \u001b[0mis_list_like\u001b[0m\u001b[1;33m(\u001b[0m\u001b[0mvalue\u001b[0m\u001b[1;33m)\u001b[0m \u001b[1;32mand\u001b[0m \u001b[0mlen\u001b[0m\u001b[1;33m(\u001b[0m\u001b[0mvalue\u001b[0m\u001b[1;33m)\u001b[0m\u001b[1;33m:\u001b[0m\u001b[1;33m\u001b[0m\u001b[1;33m\u001b[0m\u001b[0m\n\u001b[0;32m   3053\u001b[0m             \u001b[1;32mtry\u001b[0m\u001b[1;33m:\u001b[0m\u001b[1;33m\u001b[0m\u001b[1;33m\u001b[0m\u001b[0m\n\u001b[1;32m-> 3054\u001b[1;33m                 \u001b[0mvalue\u001b[0m \u001b[1;33m=\u001b[0m \u001b[0mSeries\u001b[0m\u001b[1;33m(\u001b[0m\u001b[0mvalue\u001b[0m\u001b[1;33m)\u001b[0m\u001b[1;33m\u001b[0m\u001b[1;33m\u001b[0m\u001b[0m\n\u001b[0m\u001b[0;32m   3055\u001b[0m             \u001b[1;32mexcept\u001b[0m \u001b[1;33m(\u001b[0m\u001b[0mValueError\u001b[0m\u001b[1;33m,\u001b[0m \u001b[0mNotImplementedError\u001b[0m\u001b[1;33m,\u001b[0m \u001b[0mTypeError\u001b[0m\u001b[1;33m)\u001b[0m\u001b[1;33m:\u001b[0m\u001b[1;33m\u001b[0m\u001b[1;33m\u001b[0m\u001b[0m\n\u001b[0;32m   3056\u001b[0m                 raise ValueError(\n",
      "\u001b[1;32m~\\Anaconda3\\envs\\conda2020\\lib\\site-packages\\pandas\\core\\series.py\u001b[0m in \u001b[0;36m__init__\u001b[1;34m(self, data, index, dtype, name, copy, fastpath)\u001b[0m\n\u001b[0;32m    303\u001b[0m                     \u001b[0mdata\u001b[0m \u001b[1;33m=\u001b[0m \u001b[0mdata\u001b[0m\u001b[1;33m.\u001b[0m\u001b[0mcopy\u001b[0m\u001b[1;33m(\u001b[0m\u001b[1;33m)\u001b[0m\u001b[1;33m\u001b[0m\u001b[1;33m\u001b[0m\u001b[0m\n\u001b[0;32m    304\u001b[0m             \u001b[1;32melse\u001b[0m\u001b[1;33m:\u001b[0m\u001b[1;33m\u001b[0m\u001b[1;33m\u001b[0m\u001b[0m\n\u001b[1;32m--> 305\u001b[1;33m                 \u001b[0mdata\u001b[0m \u001b[1;33m=\u001b[0m \u001b[0msanitize_array\u001b[0m\u001b[1;33m(\u001b[0m\u001b[0mdata\u001b[0m\u001b[1;33m,\u001b[0m \u001b[0mindex\u001b[0m\u001b[1;33m,\u001b[0m \u001b[0mdtype\u001b[0m\u001b[1;33m,\u001b[0m \u001b[0mcopy\u001b[0m\u001b[1;33m,\u001b[0m \u001b[0mraise_cast_failure\u001b[0m\u001b[1;33m=\u001b[0m\u001b[1;32mTrue\u001b[0m\u001b[1;33m)\u001b[0m\u001b[1;33m\u001b[0m\u001b[1;33m\u001b[0m\u001b[0m\n\u001b[0m\u001b[0;32m    306\u001b[0m \u001b[1;33m\u001b[0m\u001b[0m\n\u001b[0;32m    307\u001b[0m                 \u001b[0mdata\u001b[0m \u001b[1;33m=\u001b[0m \u001b[0mSingleBlockManager\u001b[0m\u001b[1;33m(\u001b[0m\u001b[0mdata\u001b[0m\u001b[1;33m,\u001b[0m \u001b[0mindex\u001b[0m\u001b[1;33m,\u001b[0m \u001b[0mfastpath\u001b[0m\u001b[1;33m=\u001b[0m\u001b[1;32mTrue\u001b[0m\u001b[1;33m)\u001b[0m\u001b[1;33m\u001b[0m\u001b[1;33m\u001b[0m\u001b[0m\n",
      "\u001b[1;32m~\\Anaconda3\\envs\\conda2020\\lib\\site-packages\\pandas\\core\\construction.py\u001b[0m in \u001b[0;36msanitize_array\u001b[1;34m(data, index, dtype, copy, raise_cast_failure)\u001b[0m\n\u001b[0;32m    480\u001b[0m     \u001b[1;32melif\u001b[0m \u001b[0msubarr\u001b[0m\u001b[1;33m.\u001b[0m\u001b[0mndim\u001b[0m \u001b[1;33m>\u001b[0m \u001b[1;36m1\u001b[0m\u001b[1;33m:\u001b[0m\u001b[1;33m\u001b[0m\u001b[1;33m\u001b[0m\u001b[0m\n\u001b[0;32m    481\u001b[0m         \u001b[1;32mif\u001b[0m \u001b[0misinstance\u001b[0m\u001b[1;33m(\u001b[0m\u001b[0mdata\u001b[0m\u001b[1;33m,\u001b[0m \u001b[0mnp\u001b[0m\u001b[1;33m.\u001b[0m\u001b[0mndarray\u001b[0m\u001b[1;33m)\u001b[0m\u001b[1;33m:\u001b[0m\u001b[1;33m\u001b[0m\u001b[1;33m\u001b[0m\u001b[0m\n\u001b[1;32m--> 482\u001b[1;33m             \u001b[1;32mraise\u001b[0m \u001b[0mException\u001b[0m\u001b[1;33m(\u001b[0m\u001b[1;34m\"Data must be 1-dimensional\"\u001b[0m\u001b[1;33m)\u001b[0m\u001b[1;33m\u001b[0m\u001b[1;33m\u001b[0m\u001b[0m\n\u001b[0m\u001b[0;32m    483\u001b[0m         \u001b[1;32melse\u001b[0m\u001b[1;33m:\u001b[0m\u001b[1;33m\u001b[0m\u001b[1;33m\u001b[0m\u001b[0m\n\u001b[0;32m    484\u001b[0m             \u001b[0msubarr\u001b[0m \u001b[1;33m=\u001b[0m \u001b[0mcom\u001b[0m\u001b[1;33m.\u001b[0m\u001b[0masarray_tuplesafe\u001b[0m\u001b[1;33m(\u001b[0m\u001b[0mdata\u001b[0m\u001b[1;33m,\u001b[0m \u001b[0mdtype\u001b[0m\u001b[1;33m=\u001b[0m\u001b[0mdtype\u001b[0m\u001b[1;33m)\u001b[0m\u001b[1;33m\u001b[0m\u001b[1;33m\u001b[0m\u001b[0m\n",
      "\u001b[1;31mException\u001b[0m: Data must be 1-dimensional"
     ]
    }
   ],
   "source": [
    "df3['A'] = norm_scal.fit_transform(df2[col].values.reshape(-1,1))"
   ]
  },
  {
   "cell_type": "code",
   "execution_count": 45,
   "metadata": {},
   "outputs": [
    {
     "data": {
      "text/plain": [
       "(0, 14)"
      ]
     },
     "execution_count": 45,
     "metadata": {},
     "output_type": "execute_result"
    }
   ],
   "source": [
    "df3.shape"
   ]
  },
  {
   "cell_type": "code",
   "execution_count": null,
   "metadata": {},
   "outputs": [],
   "source": []
  }
 ],
 "metadata": {
  "kernelspec": {
   "display_name": "Python 3",
   "language": "python",
   "name": "python3"
  },
  "language_info": {
   "codemirror_mode": {
    "name": "ipython",
    "version": 3
   },
   "file_extension": ".py",
   "mimetype": "text/x-python",
   "name": "python",
   "nbconvert_exporter": "python",
   "pygments_lexer": "ipython3",
   "version": "3.7.6"
  }
 },
 "nbformat": 4,
 "nbformat_minor": 4
}
