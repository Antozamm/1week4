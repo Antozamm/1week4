{
 "cells": [
  {
   "cell_type": "markdown",
   "metadata": {},
   "source": [
    "# postgreSQL copy data"
   ]
  },
  {
   "cell_type": "code",
   "execution_count": 47,
   "metadata": {},
   "outputs": [],
   "source": [
    "import psycopg2"
   ]
  },
  {
   "cell_type": "code",
   "execution_count": 48,
   "metadata": {},
   "outputs": [],
   "source": [
    "conn = psycopg2.connect(\"host=127.0.0.1 dbname=postgres user=postgres password=my_secret_password\")"
   ]
  },
  {
   "cell_type": "code",
   "execution_count": 49,
   "metadata": {},
   "outputs": [],
   "source": [
    "cur = conn.cursor()"
   ]
  },
  {
   "cell_type": "code",
   "execution_count": 50,
   "metadata": {},
   "outputs": [],
   "source": [
    "conn.autocommit=True"
   ]
  },
  {
   "cell_type": "markdown",
   "metadata": {},
   "source": [
    "Let's look if we already have some table in it"
   ]
  },
  {
   "cell_type": "code",
   "execution_count": 51,
   "metadata": {},
   "outputs": [
    {
     "name": "stdout",
     "output_type": "stream",
     "text": [
      "('postgres', 'public', 'user_table', 'BASE TABLE', None, None, None, None, None, 'YES', 'NO', None)\n"
     ]
    }
   ],
   "source": [
    "cur.execute(\"SELECT * FROM information_schema.tables WHERE table_schema='public';\")\n",
    "tbls = cur.fetchall()\n",
    "\n",
    "for tbl in tbls:\n",
    "    print(tbl)"
   ]
  },
  {
   "cell_type": "markdown",
   "metadata": {},
   "source": [
    "Let's fetch the data from **user_table**"
   ]
  },
  {
   "cell_type": "code",
   "execution_count": 10,
   "metadata": {},
   "outputs": [
    {
     "name": "stdout",
     "output_type": "stream",
     "text": [
      "('Luci', 666)\n",
      "('Jesus', 33)\n",
      "('Maddy', 13)\n",
      "('Maria', 50)\n",
      "('Julius', 72)\n",
      "('Maria', 50)\n",
      "('Julius', 72)\n",
      "('Maria', 50)\n",
      "('Julius', 72)\n",
      "('Maria', 50)\n",
      "('Julius', 72)\n",
      "('Maria', 50)\n",
      "('Julius', 72)\n"
     ]
    }
   ],
   "source": [
    "cur.execute(\"SELECT * FROM user_table\")\n",
    "ftcs = cur.fetchall()\n",
    "\n",
    "for ftc in ftcs:\n",
    "    print(ftc)"
   ]
  },
  {
   "cell_type": "code",
   "execution_count": null,
   "metadata": {},
   "outputs": [],
   "source": []
  },
  {
   "cell_type": "code",
   "execution_count": 58,
   "metadata": {},
   "outputs": [
    {
     "name": "stdout",
     "output_type": "stream",
     "text": [
      "Luci,666\n",
      "Jesus,33\n",
      "Maddy,13\n"
     ]
    }
   ],
   "source": [
    "import sys\n",
    "cur.copy_to(sys.stdout, 'user_table', sep=',')"
   ]
  },
  {
   "cell_type": "code",
   "execution_count": 13,
   "metadata": {},
   "outputs": [],
   "source": [
    "from io import StringIO"
   ]
  },
  {
   "cell_type": "code",
   "execution_count": 35,
   "metadata": {},
   "outputs": [],
   "source": [
    "f = StringIO('Maria,50\\nJulius,72\\nMtriMaria,500\\nGiulietto,2\\n')"
   ]
  },
  {
   "cell_type": "code",
   "execution_count": 36,
   "metadata": {},
   "outputs": [
    {
     "data": {
      "text/plain": [
       "0"
      ]
     },
     "execution_count": 36,
     "metadata": {},
     "output_type": "execute_result"
    }
   ],
   "source": [
    "# f.read()\n",
    "f.seek(0) #put the position of the buffer at the beginning, StringIO works like a file "
   ]
  },
  {
   "cell_type": "code",
   "execution_count": 37,
   "metadata": {},
   "outputs": [],
   "source": [
    "cur.copy_from(f, '\"user_table\"', columns=('user_name', 'age'), sep=\",\")"
   ]
  },
  {
   "cell_type": "code",
   "execution_count": 38,
   "metadata": {},
   "outputs": [
    {
     "name": "stdout",
     "output_type": "stream",
     "text": [
      "('Luci', 666)\n",
      "('Jesus', 33)\n",
      "('Maddy', 13)\n",
      "('Maria', 50)\n",
      "('Julius', 72)\n",
      "('Maria', 50)\n",
      "('Julius', 72)\n",
      "('Maria', 50)\n",
      "('Julius', 72)\n",
      "('Maria', 50)\n",
      "('Julius', 72)\n",
      "('Maria', 50)\n",
      "('Julius', 72)\n",
      "('Maria', 50)\n",
      "('Julius', 72)\n",
      "('MtriMaria', 500)\n",
      "('Giulietto', 25)\n",
      "('Maria', 50)\n",
      "('Julius', 72)\n",
      "('MtriMaria', 500)\n",
      "('Giulietto', 25)\n",
      "('Maria', 50)\n",
      "('Julius', 72)\n",
      "('MtriMaria', 500)\n",
      "('Giulietto', 25)\n",
      "('Maria', 50)\n",
      "('Julius', 72)\n",
      "('MtriMaria', 500)\n",
      "('Giulietto', 25)\n",
      "('Maria', 50)\n",
      "('Julius', 72)\n",
      "('MtriMaria', 500)\n",
      "('Giulietto', 2)\n"
     ]
    }
   ],
   "source": [
    "cur.execute(\"SELECT * FROM user_table\")\n",
    "ftcs = cur.fetchall()\n",
    "\n",
    "for ftc in ftcs:\n",
    "    print(ftc)"
   ]
  },
  {
   "cell_type": "code",
   "execution_count": 41,
   "metadata": {},
   "outputs": [
    {
     "data": {
      "text/plain": [
       "'prova\\tcazzo'"
      ]
     },
     "execution_count": 41,
     "metadata": {},
     "output_type": "execute_result"
    }
   ],
   "source": [
    "\"%s\\t%s\" %('prova', 'cazzo')"
   ]
  },
  {
   "cell_type": "code",
   "execution_count": 42,
   "metadata": {},
   "outputs": [
    {
     "data": {
      "text/plain": [
       "441.77"
      ]
     },
     "execution_count": 42,
     "metadata": {},
     "output_type": "execute_result"
    }
   ],
   "source": [
    "441.77"
   ]
  },
  {
   "cell_type": "code",
   "execution_count": 43,
   "metadata": {},
   "outputs": [
    {
     "data": {
      "text/plain": [
       "255"
      ]
     },
     "execution_count": 43,
     "metadata": {},
     "output_type": "execute_result"
    }
   ],
   "source": [
    "255"
   ]
  },
  {
   "cell_type": "code",
   "execution_count": 44,
   "metadata": {},
   "outputs": [
    {
     "data": {
      "text/plain": [
       "62.25666666666666"
      ]
     },
     "execution_count": 44,
     "metadata": {},
     "output_type": "execute_result"
    }
   ],
   "source": [
    "(441.77-255)/3"
   ]
  },
  {
   "cell_type": "code",
   "execution_count": 45,
   "metadata": {},
   "outputs": [
    {
     "data": {
      "text/plain": [
       "317"
      ]
     },
     "execution_count": 45,
     "metadata": {},
     "output_type": "execute_result"
    }
   ],
   "source": [
    "255+62"
   ]
  },
  {
   "cell_type": "code",
   "execution_count": 46,
   "metadata": {},
   "outputs": [
    {
     "data": {
      "text/plain": [
       "False"
      ]
     },
     "execution_count": 46,
     "metadata": {},
     "output_type": "execute_result"
    }
   ],
   "source": [
    "2147483647>1543537327796"
   ]
  },
  {
   "cell_type": "code",
   "execution_count": null,
   "metadata": {},
   "outputs": [],
   "source": []
  }
 ],
 "metadata": {
  "kernelspec": {
   "display_name": "Python 3",
   "language": "python",
   "name": "python3"
  },
  "language_info": {
   "codemirror_mode": {
    "name": "ipython",
    "version": 3
   },
   "file_extension": ".py",
   "mimetype": "text/x-python",
   "name": "python",
   "nbconvert_exporter": "python",
   "pygments_lexer": "ipython3",
   "version": "3.8.0"
  }
 },
 "nbformat": 4,
 "nbformat_minor": 4
}
