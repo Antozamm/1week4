{
 "cells": [
  {
   "cell_type": "code",
   "execution_count": null,
   "metadata": {},
   "outputs": [],
   "source": []
  },
  {
   "cell_type": "code",
   "execution_count": 1,
   "metadata": {},
   "outputs": [],
   "source": [
    "import psycopg2"
   ]
  },
  {
   "cell_type": "code",
   "execution_count": 34,
   "metadata": {},
   "outputs": [],
   "source": [
    "conn = psycopg2.connect(\"host=127.0.0.1 dbname=postgres user=postgres password=my_secret_password\")"
   ]
  },
  {
   "cell_type": "code",
   "execution_count": 35,
   "metadata": {},
   "outputs": [],
   "source": [
    "cur = conn.cursor()"
   ]
  },
  {
   "cell_type": "code",
   "execution_count": 36,
   "metadata": {},
   "outputs": [],
   "source": [
    "conn.autocommit=True"
   ]
  },
  {
   "cell_type": "code",
   "execution_count": 50,
   "metadata": {},
   "outputs": [],
   "source": [
    "cur.execute(\"DROP TABLE IF EXISTS test_table\")"
   ]
  },
  {
   "cell_type": "code",
   "execution_count": 44,
   "metadata": {},
   "outputs": [],
   "source": [
    "cur.execute(\"\"\"CREATE TABLE test_table (user_nr varchar PRIMARY KEY, \n",
    "                                        user_id varchar, \n",
    "                                        user_name varchar,\n",
    "                                        user_lastname varchar)\"\"\")"
   ]
  },
  {
   "cell_type": "code",
   "execution_count": 51,
   "metadata": {},
   "outputs": [],
   "source": [
    "cur.execute(\"\"\"CREATE TABLE test_table (user_nr varchar, \n",
    "                                        user_id varchar, \n",
    "                                        user_name varchar,\n",
    "                                        user_lastname varchar,\n",
    "                                        PRIMARY KEY (user_nr, user_id))\"\"\")"
   ]
  },
  {
   "cell_type": "code",
   "execution_count": 52,
   "metadata": {},
   "outputs": [],
   "source": [
    "cur.execute(\"\"\"INSERT INTO test_table ( user_nr, \n",
    "                                        user_id,\n",
    "                                        user_name,\n",
    "                                        user_lastname)\n",
    "                                        VALUES (%s,%s,%s,%s)\"\"\", (\"123\", \"AHCBN\", \"Bobby\", \"Bear\"))"
   ]
  },
  {
   "cell_type": "code",
   "execution_count": 53,
   "metadata": {},
   "outputs": [
    {
     "name": "stdout",
     "output_type": "stream",
     "text": [
      "('123', 'AHCBN', 'Bobby', 'Bear')\n"
     ]
    }
   ],
   "source": [
    "cur.execute(\"select * from test_table\")\n",
    "qr = cur.fetchall()\n",
    "\n",
    "for record in qr:\n",
    "    print(record)"
   ]
  },
  {
   "cell_type": "code",
   "execution_count": 55,
   "metadata": {},
   "outputs": [],
   "source": [
    "cur.execute(\"\"\"INSERT INTO test_table ( user_nr, \n",
    "                                        user_id,\n",
    "                                        user_name,\n",
    "                                        user_lastname)\n",
    "                                        VALUES (%s,%s,%s,%s)\n",
    "                                        ON CONFLICT (user_nr, user_id) DO UPDATE SET \n",
    "                                                                            user_name=EXCLUDED.user_name,\n",
    "                                                                            user_lastname=EXCLUDED.user_lastname\"\"\", \n",
    "            (\"123\", \"AHCBN\", \"Robert\", \"Bear\"))"
   ]
  },
  {
   "cell_type": "code",
   "execution_count": 56,
   "metadata": {},
   "outputs": [
    {
     "name": "stdout",
     "output_type": "stream",
     "text": [
      "('123', 'AHCBN', 'Robert', 'Bear')\n"
     ]
    }
   ],
   "source": [
    "cur.execute(\"select * from test_table\")\n",
    "qr = cur.fetchall()\n",
    "\n",
    "for record in qr:\n",
    "    print(record)"
   ]
  },
  {
   "cell_type": "code",
   "execution_count": null,
   "metadata": {},
   "outputs": [],
   "source": []
  },
  {
   "cell_type": "code",
   "execution_count": null,
   "metadata": {},
   "outputs": [],
   "source": []
  }
 ],
 "metadata": {
  "kernelspec": {
   "display_name": "Python 3",
   "language": "python",
   "name": "python3"
  },
  "language_info": {
   "codemirror_mode": {
    "name": "ipython",
    "version": 3
   },
   "file_extension": ".py",
   "mimetype": "text/x-python",
   "name": "python",
   "nbconvert_exporter": "python",
   "pygments_lexer": "ipython3",
   "version": "3.8.0"
  }
 },
 "nbformat": 4,
 "nbformat_minor": 4
}
