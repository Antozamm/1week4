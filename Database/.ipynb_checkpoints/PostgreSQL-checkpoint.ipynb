{
 "cells": [
  {
   "cell_type": "markdown",
   "metadata": {},
   "source": [
    "# Learn PostgreSQL basic usage\n",
    "\n",
    "In this post we see how to use a PostrgreSQL database with Python.\n",
    "\n",
    "I decided to use the **dockerized version of PostgreSQL**. I already have Docker installed on my PC. In case you need to install it, head over to [Docker](https://docs.docker.com/docker-for-windows/install/) for Windows Docker desktop version\n",
    "\n",
    "**Step 1.** Pull the image form the docker hub with \n",
    "\n",
    "'docker pull postgres'\n",
    "\n",
    "**Step 2.** Run the image docker \n",
    "\n",
    "'docker run --name test-db -e POSTGRES_PASSWORD=my_secret_password -d -p 5432:5432 postgres'\n",
    "\n",
    "The parameters:\n",
    "\n",
    "--name is the name of the container (not to confuse with the **container ID**\n",
    "\n",
    "-p is the port that is going to be open in the guest machine, port 5432 of the guest machine is forwarded to port 5432 of the host. Therefore I can connect to the guest just using the IP address **localhost:5432**\n",
    "\n",
    "To run a bash console digit in a CMD window:\n",
    "'docker exec -it <CONTAINER ID> bash'\n",
    "\n",
    "To get the <CONTAINER ID> use the command:\n",
    "'docker container ls\n",
    "\n",
    "In the bash run the psql application:\n",
    "\n",
    "    psql -U postgres\n",
    "    \n",
    "    Now we can use different command:\n",
    "    - to list the database available: \\l\n",
    "    - to list existing user: \\du\n",
    "    - to list tables (also called relations): \\dt\n",
    "    "
   ]
  },
  {
   "cell_type": "code",
   "execution_count": 3,
   "metadata": {},
   "outputs": [],
   "source": [
    "import psycopg2"
   ]
  },
  {
   "cell_type": "markdown",
   "metadata": {},
   "source": [
    "Create a connection with the database, using the database name and user I got with psql commands seen above."
   ]
  },
  {
   "cell_type": "code",
   "execution_count": 10,
   "metadata": {},
   "outputs": [],
   "source": [
    "conn = psycopg2.connect(\"host=127.0.0.1 dbname=postgres user=postgres password=my_secret_password\")"
   ]
  },
  {
   "cell_type": "code",
   "execution_count": 15,
   "metadata": {},
   "outputs": [],
   "source": [
    "conn.autocommit = True"
   ]
  },
  {
   "cell_type": "code",
   "execution_count": 18,
   "metadata": {},
   "outputs": [],
   "source": [
    "cur = conn.cursor()"
   ]
  },
  {
   "cell_type": "code",
   "execution_count": 24,
   "metadata": {},
   "outputs": [],
   "source": [
    "cur.execute(\"create table if not exists user_table (user_name varchar, age int)\")"
   ]
  },
  {
   "cell_type": "code",
   "execution_count": 26,
   "metadata": {},
   "outputs": [
    {
     "name": "stdout",
     "output_type": "stream",
     "text": [
      "[(0,)]\n"
     ]
    }
   ],
   "source": [
    "cur.execute(\"select count(*) from user_table\")\n",
    "print(cur.fetchall())"
   ]
  },
  {
   "cell_type": "code",
   "execution_count": 28,
   "metadata": {},
   "outputs": [],
   "source": [
    "cur.execute(\"INSERT INTO user_table (user_name, age) VALUES ('John', 49)\")\n",
    "cur.execute(\"INSERT INTO user_table (user_name, age) VALUES ('Jesus', 33)\")"
   ]
  },
  {
   "cell_type": "code",
   "execution_count": 31,
   "metadata": {},
   "outputs": [
    {
     "name": "stdout",
     "output_type": "stream",
     "text": [
      "[('John', 49), ('Jesus', 33)]\n"
     ]
    }
   ],
   "source": [
    "cur.execute(\"SELECT * FROM user_table\")\n",
    "print(cur.fetchall())"
   ]
  },
  {
   "cell_type": "code",
   "execution_count": null,
   "metadata": {},
   "outputs": [],
   "source": []
  }
 ],
 "metadata": {
  "kernelspec": {
   "display_name": "Python 3",
   "language": "python",
   "name": "python3"
  },
  "language_info": {
   "codemirror_mode": {
    "name": "ipython",
    "version": 3
   },
   "file_extension": ".py",
   "mimetype": "text/x-python",
   "name": "python",
   "nbconvert_exporter": "python",
   "pygments_lexer": "ipython3",
   "version": "3.8.0"
  }
 },
 "nbformat": 4,
 "nbformat_minor": 4
}
