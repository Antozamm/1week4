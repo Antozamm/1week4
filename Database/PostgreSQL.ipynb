{
 "cells": [
  {
   "cell_type": "markdown",
   "metadata": {},
   "source": [
    "# learning PostgreSQL basic usage\n",
    "\n",
    "In this post we see how to use a PostrgreSQL database with Python.\n",
    "\n",
    "I decided to use the **dockerized version of PostgreSQL**. I already have Docker installed on my PC. In case you need to install it, head over to [Docker](https://docs.docker.com/docker-for-windows/install/) for Windows Docker desktop version\n",
    "\n",
    "**Step 1.** Pull the image form the docker hub with \n",
    "\n",
    "`docker pull postgres`\n",
    "\n",
    "**Step 2.** Run the image docker \n",
    "\n",
    "`docker run --name test-db -e POSTGRES_PASSWORD=my_secret_password -d -p 5432:5432 postgres`\n",
    "\n",
    "A bit of explanations:\n",
    "\n",
    "**--name** is the name of the container (not to confuse with the **container ID**)\n",
    "\n",
    "**-p** is the port that is going to be open in the guest machine, port 5432 of the guest machine is forwarded to port 5432 of the host. Therefore I can connect to the guest just with **localhost:5432**\n",
    "\n",
    "To run a bash console in the guest machine use this command:\n",
    "`docker exec -it <CONTAINER ID> bash`\n",
    "\n",
    "To get all the \\<CONTAINER IDs> use the command:\n",
    "`docker container ls`\n",
    "\n",
    "In the bash run the psql application: `psql -U postgres`\n",
    "    \n",
    "Once you get the psgl prompt, you can use different commands:\n",
    "    - to list the database available: `\\l`\n",
    "    - to list existing user: `\\du`\n",
    "    - to list tables (also called relations): `\\dt`\n"
   ]
  },
  {
   "cell_type": "code",
   "execution_count": 3,
   "metadata": {},
   "outputs": [
    {
     "data": {
      "text/plain": [
       "125"
      ]
     },
     "execution_count": 3,
     "metadata": {},
     "output_type": "execute_result"
    }
   ],
   "source": [
    "import os\n",
    "os.system('docker run --name test-db -e POSTGRES_PASSWORD=my_secret_password -d -p 5432:5432 postgres')"
   ]
  },
  {
   "cell_type": "markdown",
   "metadata": {},
   "source": [
    "\n",
    "If the container exists already, we just need to start it:"
   ]
  },
  {
   "cell_type": "code",
   "execution_count": 4,
   "metadata": {},
   "outputs": [
    {
     "data": {
      "text/plain": [
       "0"
      ]
     },
     "execution_count": 4,
     "metadata": {},
     "output_type": "execute_result"
    }
   ],
   "source": [
    "os.system('docker container start test-db')"
   ]
  },
  {
   "cell_type": "markdown",
   "metadata": {},
   "source": [
    "We use the package **psycopg2** to communicate with PostgreSQL. You can install it with `pip install psycopg2` "
   ]
  },
  {
   "cell_type": "code",
   "execution_count": 27,
   "metadata": {},
   "outputs": [],
   "source": [
    "import psycopg2"
   ]
  },
  {
   "cell_type": "markdown",
   "metadata": {},
   "source": [
    "Create a connection with the database, using the database name and user I got with psql commands seen above."
   ]
  },
  {
   "cell_type": "code",
   "execution_count": 28,
   "metadata": {},
   "outputs": [],
   "source": [
    "conn = psycopg2.connect(\"host=127.0.0.1 dbname=postgres user=postgres password=my_secret_password\")"
   ]
  },
  {
   "cell_type": "markdown",
   "metadata": {},
   "source": [
    "PostgreSQL needs a commit command to be issued in order to save the transaction in the database. Here we are going to set **autocommit=True**, so every transaction will be autocommitted, without the need of an exciplit commit. "
   ]
  },
  {
   "cell_type": "code",
   "execution_count": 29,
   "metadata": {},
   "outputs": [],
   "source": [
    "conn.autocommit = True"
   ]
  },
  {
   "cell_type": "markdown",
   "metadata": {},
   "source": [
    "In alternativ one needs to commit any transaction with `conn.commit()`.\n",
    "\n",
    "\n",
    "Get a cursor for the database."
   ]
  },
  {
   "cell_type": "code",
   "execution_count": 30,
   "metadata": {},
   "outputs": [],
   "source": [
    "cur = conn.cursor()"
   ]
  },
  {
   "cell_type": "markdown",
   "metadata": {},
   "source": [
    "Create a table with the two fields, user_name and age"
   ]
  },
  {
   "cell_type": "code",
   "execution_count": 31,
   "metadata": {},
   "outputs": [],
   "source": [
    "cur.execute(\"create table if not exists user_table (user_name varchar, age int);\")"
   ]
  },
  {
   "cell_type": "markdown",
   "metadata": {},
   "source": [
    "Execute our first query on it, counting the records in the table\n"
   ]
  },
  {
   "cell_type": "code",
   "execution_count": 32,
   "metadata": {},
   "outputs": [
    {
     "name": "stdout",
     "output_type": "stream",
     "text": [
      "[(0,)]\n"
     ]
    }
   ],
   "source": [
    "cur.execute(\"select count(*) from user_table\")\n",
    "print(cur.fetchall())"
   ]
  },
  {
   "cell_type": "code",
   "execution_count": 33,
   "metadata": {},
   "outputs": [],
   "source": [
    "cur.execute(\"INSERT INTO user_table (user_name, age) VALUES ('Luci', 666);\")\n",
    "cur.execute(\"INSERT INTO user_table (user_name, age) VALUES ('Jesus', 33);\")"
   ]
  },
  {
   "cell_type": "code",
   "execution_count": 34,
   "metadata": {},
   "outputs": [
    {
     "name": "stdout",
     "output_type": "stream",
     "text": [
      "[('Luci', 666), ('Jesus', 33)]\n"
     ]
    }
   ],
   "source": [
    "cur.execute(\"SELECT * FROM user_table\")\n",
    "print(cur.fetchall())"
   ]
  },
  {
   "cell_type": "code",
   "execution_count": 35,
   "metadata": {},
   "outputs": [],
   "source": [
    "cur.execute(\"INSERT INTO user_table (user_name, age) VALUES ('Maddy', 13);\")"
   ]
  },
  {
   "cell_type": "code",
   "execution_count": 36,
   "metadata": {},
   "outputs": [
    {
     "name": "stdout",
     "output_type": "stream",
     "text": [
      "[('Luci', 666), ('Jesus', 33), ('Maddy', 13)]\n"
     ]
    }
   ],
   "source": [
    "cur.execute(\"SELECT * FROM user_table\")\n",
    "print(cur.fetchall())"
   ]
  },
  {
   "cell_type": "code",
   "execution_count": 37,
   "metadata": {},
   "outputs": [
    {
     "name": "stdout",
     "output_type": "stream",
     "text": [
      "('Luci', 666)\n",
      "('Jesus', 33)\n",
      "('Maddy', 13)\n"
     ]
    }
   ],
   "source": [
    "cur.execute(\"SELECT * FROM user_table\")\n",
    "for record in cur:\n",
    "    print(record)"
   ]
  },
  {
   "cell_type": "markdown",
   "metadata": {},
   "source": [
    "### Other useful commands\n",
    "\n",
    "To know the last query issued:"
   ]
  },
  {
   "cell_type": "code",
   "execution_count": 14,
   "metadata": {},
   "outputs": [
    {
     "data": {
      "text/plain": [
       "b'SELECT * FROM user_table'"
      ]
     },
     "execution_count": 14,
     "metadata": {},
     "output_type": "execute_result"
    }
   ],
   "source": [
    "cur.query"
   ]
  },
  {
   "cell_type": "markdown",
   "metadata": {},
   "source": [
    "To fetch a given number of records:"
   ]
  },
  {
   "cell_type": "code",
   "execution_count": 15,
   "metadata": {},
   "outputs": [
    {
     "data": {
      "text/plain": [
       "[('Luci', 666), ('Jesus', 33)]"
      ]
     },
     "execution_count": 15,
     "metadata": {},
     "output_type": "execute_result"
    }
   ],
   "source": [
    "cur.execute(\"SELECT * from user_table\")\n",
    "cur.fetchmany(2)"
   ]
  },
  {
   "cell_type": "markdown",
   "metadata": {},
   "source": [
    "If I fetch another element it start after the already fetched records"
   ]
  },
  {
   "cell_type": "code",
   "execution_count": 16,
   "metadata": {},
   "outputs": [
    {
     "data": {
      "text/plain": [
       "[('Maddy', 13)]"
      ]
     },
     "execution_count": 16,
     "metadata": {},
     "output_type": "execute_result"
    }
   ],
   "source": [
    "cur.fetchmany(1)"
   ]
  },
  {
   "cell_type": "markdown",
   "metadata": {},
   "source": [
    "If you want to delete the table use **drop**"
   ]
  },
  {
   "cell_type": "code",
   "execution_count": 17,
   "metadata": {},
   "outputs": [],
   "source": [
    "cur.execute('DROP TABLE user_table')"
   ]
  },
  {
   "cell_type": "markdown",
   "metadata": {},
   "source": [
    "At the end, close the cursor and the connection"
   ]
  },
  {
   "cell_type": "code",
   "execution_count": 38,
   "metadata": {},
   "outputs": [],
   "source": [
    "cur.close()\n",
    "conn.close()"
   ]
  },
  {
   "cell_type": "code",
   "execution_count": null,
   "metadata": {},
   "outputs": [],
   "source": []
  }
 ],
 "metadata": {
  "kernelspec": {
   "display_name": "Python 3",
   "language": "python",
   "name": "python3"
  },
  "language_info": {
   "codemirror_mode": {
    "name": "ipython",
    "version": 3
   },
   "file_extension": ".py",
   "mimetype": "text/x-python",
   "name": "python",
   "nbconvert_exporter": "python",
   "pygments_lexer": "ipython3",
   "version": "3.8.0"
  }
 },
 "nbformat": 4,
 "nbformat_minor": 4
}
