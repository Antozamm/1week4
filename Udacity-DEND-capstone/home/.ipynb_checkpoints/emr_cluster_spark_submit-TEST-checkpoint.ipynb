{
 "cells": [
  {
   "cell_type": "code",
   "execution_count": 1,
   "metadata": {
    "editable": true
   },
   "outputs": [],
   "source": [
    "import configparser\n",
    "from lib import emr_cluster"
   ]
  },
  {
   "cell_type": "code",
   "execution_count": 2,
   "metadata": {
    "editable": true
   },
   "outputs": [],
   "source": [
    "# Read in configurations parameters \n",
    "config_filepath = 'config.cfg'\n",
    "config = configparser.ConfigParser()\n",
    "config.read_file(open(config_filepath))"
   ]
  },
  {
   "cell_type": "code",
   "execution_count": 4,
   "metadata": {
    "editable": true
   },
   "outputs": [],
   "source": [
    "# Instantiate a EMRLoader cluster class\n",
    "emrCluster = emr_cluster_test.EMRLoader(config, keepAlive=True)"
   ]
  },
  {
   "cell_type": "code",
   "execution_count": 5,
   "metadata": {
    "editable": true
   },
   "outputs": [],
   "source": [
    "# define the python file to run in the step\n",
    "spark_script_1 = 'test/spark-emr-TEST.py'\n",
    "\n",
    "# define the 2 steps to be executed in the EMR cluster\n",
    "# after its creation\n",
    "emrCluster.custom_steps = [\n",
    "    {\n",
    "        'Name': 'Run spark_script_1',\n",
    "        'ActionOnFailure': 'CONTINUE',\n",
    "        'HadoopJarStep': {\n",
    "            'Jar': 'command-runner.jar',\n",
    "            'Args': [\n",
    "                'spark-submit',\n",
    "                '--deploy-mode', 'cluster',\n",
    "                '--py-files', 's3://helptheplanet/code/{}'.format(spark_script_1),\n",
    "                's3://helptheplanet/code/{}'.format(spark_script_1),\n",
    "            ]\n",
    "        }\n",
    "    }\n",
    "]"
   ]
  },
  {
   "cell_type": "code",
   "execution_count": 6,
   "metadata": {
    "editable": true
   },
   "outputs": [
    {
     "data": {
      "text/plain": [
       "[{'Name': 'Run spark_script_1',\n",
       "  'ActionOnFailure': 'CONTINUE',\n",
       "  'HadoopJarStep': {'Jar': 'command-runner.jar',\n",
       "   'Args': ['spark-submit',\n",
       "    '--deploy-mode',\n",
       "    'cluster',\n",
       "    '--py-files',\n",
       "    's3://helptheplanet/code/test/spark-emr-TEST.py',\n",
       "    's3://helptheplanet/code/test/spark-emr-TEST.py']}}]"
      ]
     },
     "execution_count": 6,
     "metadata": {},
     "output_type": "execute_result"
    }
   ],
   "source": [
    "emrCluster.custom_steps"
   ]
  },
  {
   "cell_type": "code",
   "execution_count": 7,
   "metadata": {
    "editable": true
   },
   "outputs": [
    {
     "name": "stderr",
     "output_type": "stream",
     "text": [
      "2021-07-26 12:21:14,444 - lib.emr_cluster_test - INFO - {'JobFlowId': 'j-1KKK5943XPTAJ', 'ResponseMetadata': {'RequestId': 'c0d51485-29ba-47b5-8ff3-bd5f70d3f648', 'HTTPStatusCode': 200, 'HTTPHeaders': {'x-amzn-requestid': 'c0d51485-29ba-47b5-8ff3-bd5f70d3f648', 'content-type': 'application/x-amz-json-1.1', 'content-length': '118', 'date': 'Mon, 26 Jul 2021 12:21:14 GMT'}, 'RetryAttempts': 0}}\n",
      "2021-07-26 12:25:02,386 - lib.emr_cluster_test - INFO - Cluster was created\n",
      "2021-07-26 12:25:02,387 - lib.emr_cluster_test - INFO - Running master node boostrap script\n",
      "2021-07-26 12:25:02,927 - lib.emr_cluster_test - INFO - {'StepIds': ['s-1IEECP5B99YEC'], 'ResponseMetadata': {'RequestId': '074cf016-3295-4d35-9e87-6886b93ff155', 'HTTPStatusCode': 200, 'HTTPHeaders': {'x-amzn-requestid': '074cf016-3295-4d35-9e87-6886b93ff155', 'content-type': 'application/x-amz-json-1.1', 'content-length': '31', 'date': 'Mon, 26 Jul 2021 12:25:02 GMT'}, 'RetryAttempts': 0}}\n",
      "2021-07-26 12:26:34,692 - lib.emr_cluster_test - INFO - \n",
      "Master node boostrap complete. Cluster available for use.\n",
      "\n",
      "2021-07-26 12:26:34,696 - lib.emr_cluster_test - INFO - Master DNS: ec2-54-190-59-143.us-west-2.compute.amazonaws.com\n"
     ]
    }
   ],
   "source": [
    "emrCluster.create_cluster()"
   ]
  },
  {
   "cell_type": "code",
   "execution_count": 10,
   "metadata": {
    "editable": true
   },
   "outputs": [
    {
     "data": {
      "text/plain": [
       "{'Cluster': {'Id': 'j-1KKK5943XPTAJ',\n",
       "  'Name': 'capstone1',\n",
       "  'Status': {'State': 'WAITING',\n",
       "   'StateChangeReason': {'Message': 'Cluster ready after last step completed.'},\n",
       "   'Timeline': {'CreationDateTime': datetime.datetime(2021, 7, 26, 12, 21, 14, 274000, tzinfo=tzlocal()),\n",
       "    'ReadyDateTime': datetime.datetime(2021, 7, 26, 12, 24, 42, 140000, tzinfo=tzlocal())}},\n",
       "  'Ec2InstanceAttributes': {'Ec2KeyName': 'emr_1',\n",
       "   'Ec2SubnetId': 'subnet-cd4bcdb5',\n",
       "   'RequestedEc2SubnetIds': ['subnet-cd4bcdb5'],\n",
       "   'Ec2AvailabilityZone': 'us-west-2b',\n",
       "   'RequestedEc2AvailabilityZones': [],\n",
       "   'IamInstanceProfile': 'EMR_EC2_DefaultRole',\n",
       "   'EmrManagedMasterSecurityGroup': 'sg-06b806eefbf5f8c63',\n",
       "   'EmrManagedSlaveSecurityGroup': 'sg-08a0fc13be045761a'},\n",
       "  'InstanceCollectionType': 'INSTANCE_GROUP',\n",
       "  'LogUri': 's3n://helptheplanet/emrlogs/',\n",
       "  'ReleaseLabel': 'emr-5.28.0',\n",
       "  'AutoTerminate': False,\n",
       "  'TerminationProtected': False,\n",
       "  'VisibleToAllUsers': True,\n",
       "  'Applications': [{'Name': 'Spark', 'Version': '2.4.4'}],\n",
       "  'Tags': [],\n",
       "  'ServiceRole': 'EMR_DefaultRole',\n",
       "  'NormalizedInstanceHours': 0,\n",
       "  'MasterPublicDnsName': 'ec2-54-190-59-143.us-west-2.compute.amazonaws.com',\n",
       "  'Configurations': [{'Classification': 'spark-env',\n",
       "    'Configurations': [{'Classification': 'export',\n",
       "      'Properties': {'PYSPARK_PYTHON': '/usr/bin/python3'}}],\n",
       "    'Properties': {}}],\n",
       "  'ScaleDownBehavior': 'TERMINATE_AT_TASK_COMPLETION',\n",
       "  'KerberosAttributes': {}},\n",
       " 'ResponseMetadata': {'RequestId': '3fb9b290-cc84-4040-bdff-7900033addf6',\n",
       "  'HTTPStatusCode': 200,\n",
       "  'HTTPHeaders': {'x-amzn-requestid': '3fb9b290-cc84-4040-bdff-7900033addf6',\n",
       "   'content-type': 'application/x-amz-json-1.1',\n",
       "   'content-length': '1339',\n",
       "   'date': 'Mon, 26 Jul 2021 12:33:42 GMT'},\n",
       "  'RetryAttempts': 0}}"
      ]
     },
     "execution_count": 10,
     "metadata": {},
     "output_type": "execute_result"
    }
   ],
   "source": [
    "emrCluster.emr_client.describe_cluster(ClusterId=emrCluster.emr_response.get(\"JobFlowId\"))"
   ]
  },
  {
   "cell_type": "code",
   "execution_count": 12,
   "metadata": {
    "editable": true
   },
   "outputs": [
    {
     "data": {
      "text/plain": [
       "{'ResponseMetadata': {'RequestId': 'e6fb7614-2905-4b04-adf9-81c6b23819fb',\n",
       "  'HTTPStatusCode': 200,\n",
       "  'HTTPHeaders': {'x-amzn-requestid': 'e6fb7614-2905-4b04-adf9-81c6b23819fb',\n",
       "   'content-type': 'application/x-amz-json-1.1',\n",
       "   'content-length': '0',\n",
       "   'date': 'Mon, 26 Jul 2021 12:41:54 GMT'},\n",
       "  'RetryAttempts': 0}}"
      ]
     },
     "execution_count": 12,
     "metadata": {},
     "output_type": "execute_result"
    }
   ],
   "source": [
    "emrCluster.emr_client.terminate_job_flows(JobFlowIds=[emrCluster.emr_response.get(\"JobFlowId\"),])"
   ]
  },
  {
   "cell_type": "code",
   "execution_count": null,
   "metadata": {
    "editable": true
   },
   "outputs": [],
   "source": []
  }
 ],
 "metadata": {
  "kernelspec": {
   "display_name": "Python 3",
   "language": "python",
   "name": "python3"
  },
  "language_info": {
   "codemirror_mode": {
    "name": "ipython",
    "version": 3
   },
   "file_extension": ".py",
   "mimetype": "text/x-python",
   "name": "python",
   "nbconvert_exporter": "python",
   "pygments_lexer": "ipython3",
   "version": "3.6.3"
  }
 },
 "nbformat": 4,
 "nbformat_minor": 4
}
