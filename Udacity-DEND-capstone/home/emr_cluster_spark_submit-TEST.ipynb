{
 "cells": [
  {
   "cell_type": "code",
   "execution_count": 1,
   "metadata": {
    "editable": true
   },
   "outputs": [],
   "source": [
    "import configparser\n",
    "from lib import emr_cluster"
   ]
  },
  {
   "cell_type": "code",
   "execution_count": 2,
   "metadata": {
    "editable": true
   },
   "outputs": [],
   "source": [
    "# Read in configurations parameters \n",
    "config_filepath = 'config.cfg'\n",
    "config = configparser.ConfigParser()\n",
    "config.read_file(open(config_filepath))"
   ]
  },
  {
   "cell_type": "code",
   "execution_count": 4,
   "metadata": {
    "editable": true
   },
   "outputs": [],
   "source": [
    "# Instantiate a EMRLoader cluster class\n",
    "emrCluster = emr_cluster.EMRLoader(config, keepAlive=True)"
   ]
  },
  {
   "cell_type": "code",
   "execution_count": 5,
   "metadata": {
    "editable": true
   },
   "outputs": [],
   "source": [
    "# define the python file to run in the step\n",
    "spark_script_1 = 'test/spark-emr-TEST.py'\n",
    "\n",
    "# define the 2 steps to be executed in the EMR cluster\n",
    "# after its creation\n",
    "emrCluster.custom_steps = [\n",
    "    {\n",
    "        'Name': 'Run spark_script_1',\n",
    "        'ActionOnFailure': 'CONTINUE',\n",
    "        'HadoopJarStep': {\n",
    "            'Jar': 'command-runner.jar',\n",
    "            'Args': [\n",
    "                'spark-submit',\n",
    "                '--deploy-mode', 'cluster',\n",
    "                '--py-files', 's3://helptheplanet/code/{}'.format(spark_script_1),\n",
    "                's3://helptheplanet/code/{}'.format(spark_script_1),\n",
    "            ]\n",
    "        }\n",
    "    }\n",
    "]"
   ]
  },
  {
   "cell_type": "code",
   "execution_count": 6,
   "metadata": {
    "editable": true
   },
   "outputs": [
    {
     "data": {
      "text/plain": [
       "[{'Name': 'Run spark_script_1',\n",
       "  'ActionOnFailure': 'CONTINUE',\n",
       "  'HadoopJarStep': {'Jar': 'command-runner.jar',\n",
       "   'Args': ['spark-submit',\n",
       "    '--deploy-mode',\n",
       "    'cluster',\n",
       "    '--py-files',\n",
       "    's3://helptheplanet/code/test/spark-emr-TEST.py',\n",
       "    's3://helptheplanet/code/test/spark-emr-TEST.py']}}]"
      ]
     },
     "execution_count": 6,
     "metadata": {},
     "output_type": "execute_result"
    }
   ],
   "source": [
    "emrCluster.custom_steps"
   ]
  },
  {
   "cell_type": "code",
   "execution_count": 7,
   "metadata": {
    "editable": true
   },
   "outputs": [
    {
     "ename": "ClientError",
     "evalue": "An error occurred (AccessDeniedException) when calling the RunJobFlow operation: User: arn:aws:iam::102287328023:user/uda_az is not authorized to perform: iam:PassRole on resource: arn:aws:iam::102287328023:role/EMR_DefaultRole with an explicit deny",
     "output_type": "error",
     "traceback": [
      "\u001b[0;31m---------------------------------------------------------------------------\u001b[0m",
      "\u001b[0;31mClientError\u001b[0m                               Traceback (most recent call last)",
      "\u001b[0;32m<ipython-input-7-b4e049250073>\u001b[0m in \u001b[0;36m<module>\u001b[0;34m()\u001b[0m\n\u001b[0;32m----> 1\u001b[0;31m \u001b[0memrCluster\u001b[0m\u001b[0;34m.\u001b[0m\u001b[0mcreate_cluster\u001b[0m\u001b[0;34m(\u001b[0m\u001b[0;34m)\u001b[0m\u001b[0;34m\u001b[0m\u001b[0m\n\u001b[0m",
      "\u001b[0;32m/home/workspace/lib/emr_cluster.py\u001b[0m in \u001b[0;36mcreate_cluster\u001b[0;34m(self)\u001b[0m\n\u001b[1;32m    142\u001b[0m \u001b[0;34m\u001b[0m\u001b[0m\n\u001b[1;32m    143\u001b[0m         \u001b[0;31m# Launch the cluster\u001b[0m\u001b[0;34m\u001b[0m\u001b[0;34m\u001b[0m\u001b[0m\n\u001b[0;32m--> 144\u001b[0;31m         \u001b[0mself\u001b[0m\u001b[0;34m.\u001b[0m\u001b[0memr_response\u001b[0m \u001b[0;34m=\u001b[0m \u001b[0mself\u001b[0m\u001b[0;34m.\u001b[0m\u001b[0mload_cluster\u001b[0m\u001b[0;34m(\u001b[0m\u001b[0;34m)\u001b[0m\u001b[0;34m\u001b[0m\u001b[0m\n\u001b[0m\u001b[1;32m    145\u001b[0m         \u001b[0mself\u001b[0m\u001b[0;34m.\u001b[0m\u001b[0memr_client\u001b[0m   \u001b[0;34m=\u001b[0m \u001b[0mself\u001b[0m\u001b[0;34m.\u001b[0m\u001b[0mboto_client\u001b[0m\u001b[0;34m(\u001b[0m\u001b[0;34m\"emr\"\u001b[0m\u001b[0;34m)\u001b[0m\u001b[0;34m\u001b[0m\u001b[0m\n\u001b[1;32m    146\u001b[0m \u001b[0;34m\u001b[0m\u001b[0m\n",
      "\u001b[0;32m/home/workspace/lib/emr_cluster.py\u001b[0m in \u001b[0;36mload_cluster\u001b[0;34m(self)\u001b[0m\n\u001b[1;32m     95\u001b[0m             \u001b[0mVisibleToAllUsers\u001b[0m\u001b[0;34m=\u001b[0m\u001b[0;32mTrue\u001b[0m\u001b[0;34m,\u001b[0m\u001b[0;34m\u001b[0m\u001b[0m\n\u001b[1;32m     96\u001b[0m             \u001b[0mJobFlowRole\u001b[0m\u001b[0;34m=\u001b[0m\u001b[0;34m'EMR_EC2_DefaultRole'\u001b[0m\u001b[0;34m,\u001b[0m\u001b[0;34m\u001b[0m\u001b[0m\n\u001b[0;32m---> 97\u001b[0;31m             \u001b[0mServiceRole\u001b[0m\u001b[0;34m=\u001b[0m\u001b[0;34m'EMR_DefaultRole'\u001b[0m\u001b[0;34m\u001b[0m\u001b[0m\n\u001b[0m\u001b[1;32m     98\u001b[0m         )\n\u001b[1;32m     99\u001b[0m \u001b[0;34m\u001b[0m\u001b[0m\n",
      "\u001b[0;32m/opt/conda/lib/python3.6/site-packages/botocore/client.py\u001b[0m in \u001b[0;36m_api_call\u001b[0;34m(self, *args, **kwargs)\u001b[0m\n\u001b[1;32m    318\u001b[0m                     \"%s() only accepts keyword arguments.\" % py_operation_name)\n\u001b[1;32m    319\u001b[0m             \u001b[0;31m# The \"self\" in this scope is referring to the BaseClient.\u001b[0m\u001b[0;34m\u001b[0m\u001b[0;34m\u001b[0m\u001b[0m\n\u001b[0;32m--> 320\u001b[0;31m             \u001b[0;32mreturn\u001b[0m \u001b[0mself\u001b[0m\u001b[0;34m.\u001b[0m\u001b[0m_make_api_call\u001b[0m\u001b[0;34m(\u001b[0m\u001b[0moperation_name\u001b[0m\u001b[0;34m,\u001b[0m \u001b[0mkwargs\u001b[0m\u001b[0;34m)\u001b[0m\u001b[0;34m\u001b[0m\u001b[0m\n\u001b[0m\u001b[1;32m    321\u001b[0m \u001b[0;34m\u001b[0m\u001b[0m\n\u001b[1;32m    322\u001b[0m         \u001b[0m_api_call\u001b[0m\u001b[0;34m.\u001b[0m\u001b[0m__name__\u001b[0m \u001b[0;34m=\u001b[0m \u001b[0mstr\u001b[0m\u001b[0;34m(\u001b[0m\u001b[0mpy_operation_name\u001b[0m\u001b[0;34m)\u001b[0m\u001b[0;34m\u001b[0m\u001b[0m\n",
      "\u001b[0;32m/opt/conda/lib/python3.6/site-packages/botocore/client.py\u001b[0m in \u001b[0;36m_make_api_call\u001b[0;34m(self, operation_name, api_params)\u001b[0m\n\u001b[1;32m    621\u001b[0m             \u001b[0merror_code\u001b[0m \u001b[0;34m=\u001b[0m \u001b[0mparsed_response\u001b[0m\u001b[0;34m.\u001b[0m\u001b[0mget\u001b[0m\u001b[0;34m(\u001b[0m\u001b[0;34m\"Error\"\u001b[0m\u001b[0;34m,\u001b[0m \u001b[0;34m{\u001b[0m\u001b[0;34m}\u001b[0m\u001b[0;34m)\u001b[0m\u001b[0;34m.\u001b[0m\u001b[0mget\u001b[0m\u001b[0;34m(\u001b[0m\u001b[0;34m\"Code\"\u001b[0m\u001b[0;34m)\u001b[0m\u001b[0;34m\u001b[0m\u001b[0m\n\u001b[1;32m    622\u001b[0m             \u001b[0merror_class\u001b[0m \u001b[0;34m=\u001b[0m \u001b[0mself\u001b[0m\u001b[0;34m.\u001b[0m\u001b[0mexceptions\u001b[0m\u001b[0;34m.\u001b[0m\u001b[0mfrom_code\u001b[0m\u001b[0;34m(\u001b[0m\u001b[0merror_code\u001b[0m\u001b[0;34m)\u001b[0m\u001b[0;34m\u001b[0m\u001b[0m\n\u001b[0;32m--> 623\u001b[0;31m             \u001b[0;32mraise\u001b[0m \u001b[0merror_class\u001b[0m\u001b[0;34m(\u001b[0m\u001b[0mparsed_response\u001b[0m\u001b[0;34m,\u001b[0m \u001b[0moperation_name\u001b[0m\u001b[0;34m)\u001b[0m\u001b[0;34m\u001b[0m\u001b[0m\n\u001b[0m\u001b[1;32m    624\u001b[0m         \u001b[0;32melse\u001b[0m\u001b[0;34m:\u001b[0m\u001b[0;34m\u001b[0m\u001b[0m\n\u001b[1;32m    625\u001b[0m             \u001b[0;32mreturn\u001b[0m \u001b[0mparsed_response\u001b[0m\u001b[0;34m\u001b[0m\u001b[0m\n",
      "\u001b[0;31mClientError\u001b[0m: An error occurred (AccessDeniedException) when calling the RunJobFlow operation: User: arn:aws:iam::102287328023:user/uda_az is not authorized to perform: iam:PassRole on resource: arn:aws:iam::102287328023:role/EMR_DefaultRole with an explicit deny"
     ]
    }
   ],
   "source": [
    "emrCluster.create_cluster()"
   ]
  },
  {
   "cell_type": "code",
   "execution_count": 10,
   "metadata": {
    "editable": true
   },
   "outputs": [
    {
     "data": {
      "text/plain": [
       "{'Cluster': {'Id': 'j-1KKK5943XPTAJ',\n",
       "  'Name': 'capstone1',\n",
       "  'Status': {'State': 'WAITING',\n",
       "   'StateChangeReason': {'Message': 'Cluster ready after last step completed.'},\n",
       "   'Timeline': {'CreationDateTime': datetime.datetime(2021, 7, 26, 12, 21, 14, 274000, tzinfo=tzlocal()),\n",
       "    'ReadyDateTime': datetime.datetime(2021, 7, 26, 12, 24, 42, 140000, tzinfo=tzlocal())}},\n",
       "  'Ec2InstanceAttributes': {'Ec2KeyName': 'emr_1',\n",
       "   'Ec2SubnetId': 'subnet-cd4bcdb5',\n",
       "   'RequestedEc2SubnetIds': ['subnet-cd4bcdb5'],\n",
       "   'Ec2AvailabilityZone': 'us-west-2b',\n",
       "   'RequestedEc2AvailabilityZones': [],\n",
       "   'IamInstanceProfile': 'EMR_EC2_DefaultRole',\n",
       "   'EmrManagedMasterSecurityGroup': 'sg-06b806eefbf5f8c63',\n",
       "   'EmrManagedSlaveSecurityGroup': 'sg-08a0fc13be045761a'},\n",
       "  'InstanceCollectionType': 'INSTANCE_GROUP',\n",
       "  'LogUri': 's3n://helptheplanet/emrlogs/',\n",
       "  'ReleaseLabel': 'emr-5.28.0',\n",
       "  'AutoTerminate': False,\n",
       "  'TerminationProtected': False,\n",
       "  'VisibleToAllUsers': True,\n",
       "  'Applications': [{'Name': 'Spark', 'Version': '2.4.4'}],\n",
       "  'Tags': [],\n",
       "  'ServiceRole': 'EMR_DefaultRole',\n",
       "  'NormalizedInstanceHours': 0,\n",
       "  'MasterPublicDnsName': 'ec2-54-190-59-143.us-west-2.compute.amazonaws.com',\n",
       "  'Configurations': [{'Classification': 'spark-env',\n",
       "    'Configurations': [{'Classification': 'export',\n",
       "      'Properties': {'PYSPARK_PYTHON': '/usr/bin/python3'}}],\n",
       "    'Properties': {}}],\n",
       "  'ScaleDownBehavior': 'TERMINATE_AT_TASK_COMPLETION',\n",
       "  'KerberosAttributes': {}},\n",
       " 'ResponseMetadata': {'RequestId': '3fb9b290-cc84-4040-bdff-7900033addf6',\n",
       "  'HTTPStatusCode': 200,\n",
       "  'HTTPHeaders': {'x-amzn-requestid': '3fb9b290-cc84-4040-bdff-7900033addf6',\n",
       "   'content-type': 'application/x-amz-json-1.1',\n",
       "   'content-length': '1339',\n",
       "   'date': 'Mon, 26 Jul 2021 12:33:42 GMT'},\n",
       "  'RetryAttempts': 0}}"
      ]
     },
     "execution_count": 10,
     "metadata": {},
     "output_type": "execute_result"
    }
   ],
   "source": [
    "emrCluster.emr_client.describe_cluster(ClusterId=emrCluster.emr_response.get(\"JobFlowId\"))"
   ]
  },
  {
   "cell_type": "code",
   "execution_count": 12,
   "metadata": {
    "editable": true
   },
   "outputs": [
    {
     "data": {
      "text/plain": [
       "{'ResponseMetadata': {'RequestId': 'e6fb7614-2905-4b04-adf9-81c6b23819fb',\n",
       "  'HTTPStatusCode': 200,\n",
       "  'HTTPHeaders': {'x-amzn-requestid': 'e6fb7614-2905-4b04-adf9-81c6b23819fb',\n",
       "   'content-type': 'application/x-amz-json-1.1',\n",
       "   'content-length': '0',\n",
       "   'date': 'Mon, 26 Jul 2021 12:41:54 GMT'},\n",
       "  'RetryAttempts': 0}}"
      ]
     },
     "execution_count": 12,
     "metadata": {},
     "output_type": "execute_result"
    }
   ],
   "source": [
    "emrCluster.emr_client.terminate_job_flows(JobFlowIds=[emrCluster.emr_response.get(\"JobFlowId\"),])"
   ]
  },
  {
   "cell_type": "code",
   "execution_count": null,
   "metadata": {
    "editable": true
   },
   "outputs": [],
   "source": []
  }
 ],
 "metadata": {
  "kernelspec": {
   "display_name": "Python 3",
   "language": "python",
   "name": "python3"
  },
  "language_info": {
   "codemirror_mode": {
    "name": "ipython",
    "version": 3
   },
   "file_extension": ".py",
   "mimetype": "text/x-python",
   "name": "python",
   "nbconvert_exporter": "python",
   "pygments_lexer": "ipython3",
   "version": "3.6.3"
  }
 },
 "nbformat": 4,
 "nbformat_minor": 4
}
