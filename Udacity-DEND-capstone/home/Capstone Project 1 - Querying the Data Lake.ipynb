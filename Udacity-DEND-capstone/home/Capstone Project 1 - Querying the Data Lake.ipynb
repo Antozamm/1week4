{
 "cells": [
  {
   "cell_type": "markdown",
   "metadata": {
    "editable": true
   },
   "source": [
    "# Querying the data lake with Apache Spark on EMR\n",
    "\n",
    "We see how to query the data lake in-place. \n",
    "\n",
    "Some exemplary queries have been given here.\n",
    "\n",
    "The queries are supposed to be run in an EMR on EC2 instances. The code to run the queries on EMR is in **emr_cluster_submit-Queries.py**, to instantiate the EMR cluster, and in **spark_4_emr_Queries.py**, containing the actual code to be run in the EMR cluster as added EMR step.\n",
    "\n",
    "The results of the queries are stored in a json file **query_results.json**.\n",
    "\n",
    "In this notebook the queries are run locally.\n",
    "\n",
    "## The queries\n",
    "Imports and visualization configuration:"
   ]
  },
  {
   "cell_type": "code",
   "execution_count": 1,
   "metadata": {
    "editable": true
   },
   "outputs": [
    {
     "data": {
      "text/html": [
       "<style> p { max-width:90% !important; } h1 {font-size:2rem!important } h2 {font-size:1.6rem!important } \n",
       "h3 {font-size:1.4rem!important } h4 {font-size:1.3rem!important }h5 {font-size:1.2rem!important }h6 {font-size:1.1rem!important }</style>"
      ],
      "text/plain": [
       "<IPython.core.display.HTML object>"
      ]
     },
     "metadata": {},
     "output_type": "display_data"
    }
   ],
   "source": [
    "import re\n",
    "import os\n",
    "import time\n",
    "import json\n",
    "import pandas as pd\n",
    "import matplotlib.pyplot as plt\n",
    "\n",
    "from pyspark.sql import SparkSession\n",
    "from pyspark.sql.functions import udf, lit, explode, split, regexp_extract, col, isnan, isnull, desc, when, sum, to_date, desc, regexp_replace, count, to_timestamp\n",
    "from pyspark.sql.types import IntegerType, TimestampType\n",
    "\n",
    "import boto3\n",
    "import configparser\n",
    "\n",
    "#import custom module\n",
    "from lib import emr_cluster\n",
    "\n",
    "#setting visualization options\n",
    "pd.set_option('display.max_colwidth', -1)\n",
    "pd.set_option('display.max_columns', None)  \n",
    "\n",
    "# modify visualization of the notebook, for easier view\n",
    "from IPython.core.display import display, HTML\n",
    "display(HTML(\"\"\"<style> p { max-width:90% !important; } h1 {font-size:2rem!important } h2 {font-size:1.6rem!important } \n",
    "h3 {font-size:1.4rem!important } h4 {font-size:1.3rem!important }h5 {font-size:1.2rem!important }h6 {font-size:1.1rem!important }</style>\"\"\"))"
   ]
  },
  {
   "cell_type": "markdown",
   "metadata": {
    "editable": true
   },
   "source": [
    "Import configuration parameters, to configure Amazon services access, paths, etc."
   ]
  },
  {
   "cell_type": "code",
   "execution_count": 2,
   "metadata": {
    "editable": true
   },
   "outputs": [],
   "source": [
    "is_local = True # work with local data or S3 data\n",
    "\n",
    "# parsing configuration parameters\n",
    "config = configparser.ConfigParser()\n",
    "\n",
    "config.read_file(open('config.cfg'))\n",
    "\n",
    "KEY     = config['AWS']['AWS_ACCESS_KEY_ID']\n",
    "SECRET  = config['AWS']['AWS_SECRET_ACCESS_KEY']\n",
    "\n",
    "S3_BUCKET         = config['S3']['S3_bucket']\n",
    "S3_LAKE_RAWDATA   = config['S3']['RAW_DATA']\n",
    "S3_PROC_DATA      = config['S3']['PROC_DATA']\n",
    "S3_PROC_DATA_JSON = config['S3']['PROC_DATA_JSON']\n",
    "S3_I94_DATA       = config['S3']['I94_DATA']\n",
    "\n",
    "if is_local:\n",
    "    S3_bucket_I94 = 'data/S3bucket_temp/I94_data' #for local testing\n",
    "else:\n",
    "    S3_bucket_I94 = os.path.join('s3a://',S3_BUCKET, S3_PROC_DATA, S3_I94_DATA)\n",
    "\n",
    "AWS_ACCESS_KEY_ID     = config['AWS']['AWS_ACCESS_KEY_ID']\n",
    "AWS_SECRET_ACCESS_KEY = config['AWS']['AWS_SECRET_ACCESS_KEY']"
   ]
  },
  {
   "cell_type": "markdown",
   "metadata": {
    "editable": true
   },
   "source": [
    "Instantiating a new SparkSession with AWS support"
   ]
  },
  {
   "cell_type": "code",
   "execution_count": 3,
   "metadata": {
    "editable": true
   },
   "outputs": [],
   "source": [
    "spark = SparkSession.builder\\\n",
    "                    .config(\"spark.jars.packages\",\"org.apache.hadoop:hadoop-aws:2.7.0\")\\\n",
    "                    .enableHiveSupport()\\\n",
    "                    .getOrCreate()"
   ]
  },
  {
   "cell_type": "markdown",
   "metadata": {
    "editable": true
   },
   "source": [
    "Setting access and secret key to allow EMR access to S3"
   ]
  },
  {
   "cell_type": "code",
   "execution_count": 4,
   "metadata": {
    "editable": true
   },
   "outputs": [],
   "source": [
    "hadoopConf = spark.sparkContext._jsc.hadoopConfiguration()\n",
    "hadoopConf.set(\"fs.s3a.access.key\", AWS_ACCESS_KEY_ID)\n",
    "hadoopConf.set(\"fs.s3a.secret.key\", AWS_SECRET_ACCESS_KEY)"
   ]
  },
  {
   "cell_type": "markdown",
   "metadata": {
    "editable": true
   },
   "source": [
    "##### Query 0. How are distribuited the arrivals in USA, in a given period?"
   ]
  },
  {
   "cell_type": "code",
   "execution_count": 5,
   "metadata": {
    "editable": true
   },
   "outputs": [
    {
     "data": {
      "text/html": [
       "<div>\n",
       "<style scoped>\n",
       "    .dataframe tbody tr th:only-of-type {\n",
       "        vertical-align: middle;\n",
       "    }\n",
       "\n",
       "    .dataframe tbody tr th {\n",
       "        vertical-align: top;\n",
       "    }\n",
       "\n",
       "    .dataframe thead th {\n",
       "        text-align: right;\n",
       "    }\n",
       "</style>\n",
       "<table border=\"1\" class=\"dataframe\">\n",
       "  <thead>\n",
       "    <tr style=\"text-align: right;\">\n",
       "      <th></th>\n",
       "      <th>arrdate</th>\n",
       "      <th>sum(count)</th>\n",
       "    </tr>\n",
       "  </thead>\n",
       "  <tbody>\n",
       "    <tr>\n",
       "      <th>0</th>\n",
       "      <td>2016-04-25</td>\n",
       "      <td>99652</td>\n",
       "    </tr>\n",
       "    <tr>\n",
       "      <th>1</th>\n",
       "      <td>2016-04-26</td>\n",
       "      <td>88100</td>\n",
       "    </tr>\n",
       "    <tr>\n",
       "      <th>2</th>\n",
       "      <td>2016-04-27</td>\n",
       "      <td>99259</td>\n",
       "    </tr>\n",
       "    <tr>\n",
       "      <th>3</th>\n",
       "      <td>2016-04-28</td>\n",
       "      <td>120971</td>\n",
       "    </tr>\n",
       "    <tr>\n",
       "      <th>4</th>\n",
       "      <td>2016-04-29</td>\n",
       "      <td>128267</td>\n",
       "    </tr>\n",
       "    <tr>\n",
       "      <th>5</th>\n",
       "      <td>2016-04-30</td>\n",
       "      <td>127155</td>\n",
       "    </tr>\n",
       "  </tbody>\n",
       "</table>\n",
       "</div>"
      ],
      "text/plain": [
       "      arrdate  sum(count)\n",
       "0  2016-04-25  99652     \n",
       "1  2016-04-26  88100     \n",
       "2  2016-04-27  99259     \n",
       "3  2016-04-28  120971    \n",
       "4  2016-04-29  128267    \n",
       "5  2016-04-30  127155    "
      ]
     },
     "execution_count": 5,
     "metadata": {},
     "output_type": "execute_result"
    }
   ],
   "source": [
    "first_day = '2016-04-25'\n",
    "last_day  = '2016-04-30'\n",
    "\n",
    "df_I94 = spark.read.format(\"parquet\").load(S3_bucket_I94).where((col('arrdate')>=first_day) & (col('arrdate')<=last_day))\n",
    "\n",
    "df_query_0 = df_I94.groupBy('arrdate').sum('count').orderBy('arrdate').toPandas()\n",
    "\n",
    "df_query_0.head(30)\n"
   ]
  },
  {
   "cell_type": "markdown",
   "metadata": {
    "editable": true
   },
   "source": [
    "<font color='red'>Interesting enough, there are apparently no filed I94 records in the days from 2016-04-01 to 2016-04-09. This is something that should be investigated further to understand if there is an error in the data.</font>"
   ]
  },
  {
   "cell_type": "markdown",
   "metadata": {
    "editable": true
   },
   "source": [
    "##### Query 1. For each port, in a given period, how many arrivals by day there are?\n",
    "\n",
    "Since the parquet data is partitioned using, in order, year, month, reading the data into a dataframe is very efficient.  "
   ]
  },
  {
   "cell_type": "code",
   "execution_count": 6,
   "metadata": {
    "editable": true
   },
   "outputs": [
    {
     "data": {
      "text/html": [
       "<div>\n",
       "<style scoped>\n",
       "    .dataframe tbody tr th:only-of-type {\n",
       "        vertical-align: middle;\n",
       "    }\n",
       "\n",
       "    .dataframe tbody tr th {\n",
       "        vertical-align: top;\n",
       "    }\n",
       "\n",
       "    .dataframe thead th {\n",
       "        text-align: right;\n",
       "    }\n",
       "</style>\n",
       "<table border=\"1\" class=\"dataframe\">\n",
       "  <thead>\n",
       "    <tr style=\"text-align: right;\">\n",
       "      <th></th>\n",
       "      <th>i94port</th>\n",
       "      <th>2016-04-20</th>\n",
       "      <th>2016-04-21</th>\n",
       "      <th>2016-04-22</th>\n",
       "      <th>2016-04-23</th>\n",
       "      <th>2016-04-24</th>\n",
       "      <th>2016-04-25</th>\n",
       "    </tr>\n",
       "  </thead>\n",
       "  <tbody>\n",
       "    <tr>\n",
       "      <th>0</th>\n",
       "      <td>BGM</td>\n",
       "      <td>6</td>\n",
       "      <td>2</td>\n",
       "      <td>7</td>\n",
       "      <td>1</td>\n",
       "      <td>7</td>\n",
       "      <td>4</td>\n",
       "    </tr>\n",
       "    <tr>\n",
       "      <th>1</th>\n",
       "      <td>FMY</td>\n",
       "      <td>118</td>\n",
       "      <td>293</td>\n",
       "      <td>347</td>\n",
       "      <td>342</td>\n",
       "      <td>123</td>\n",
       "      <td>104</td>\n",
       "    </tr>\n",
       "    <tr>\n",
       "      <th>2</th>\n",
       "      <td>DNS</td>\n",
       "      <td>0</td>\n",
       "      <td>0</td>\n",
       "      <td>1</td>\n",
       "      <td>4</td>\n",
       "      <td>1</td>\n",
       "      <td>0</td>\n",
       "    </tr>\n",
       "    <tr>\n",
       "      <th>3</th>\n",
       "      <td>MOR</td>\n",
       "      <td>2</td>\n",
       "      <td>0</td>\n",
       "      <td>0</td>\n",
       "      <td>2</td>\n",
       "      <td>0</td>\n",
       "      <td>0</td>\n",
       "    </tr>\n",
       "    <tr>\n",
       "      <th>4</th>\n",
       "      <td>HVR</td>\n",
       "      <td>0</td>\n",
       "      <td>2</td>\n",
       "      <td>1</td>\n",
       "      <td>4</td>\n",
       "      <td>2</td>\n",
       "      <td>0</td>\n",
       "    </tr>\n",
       "  </tbody>\n",
       "</table>\n",
       "</div>"
      ],
      "text/plain": [
       "  i94port  2016-04-20  2016-04-21  2016-04-22  2016-04-23  2016-04-24  \\\n",
       "0  BGM     6           2           7           1           7            \n",
       "1  FMY     118         293         347         342         123          \n",
       "2  DNS     0           0           1           4           1            \n",
       "3  MOR     2           0           0           2           0            \n",
       "4  HVR     0           2           1           4           2            \n",
       "\n",
       "   2016-04-25  \n",
       "0  4           \n",
       "1  104         \n",
       "2  0           \n",
       "3  0           \n",
       "4  0           "
      ]
     },
     "execution_count": 6,
     "metadata": {},
     "output_type": "execute_result"
    }
   ],
   "source": [
    "first_day = '2016-04-20'\n",
    "last_day  = '2016-04-25'\n",
    "\n",
    "df_I94 = spark.read.format(\"parquet\").load(S3_bucket_I94).where((col('arrdate')>=first_day) & (col('arrdate')<=last_day))\n",
    "\n",
    "retain_columns = ['i94port', 'arrdate','count']\n",
    "df_I94_port_vs_date = df_I94.select(retain_columns).groupBy('i94port').pivot('arrdate').sum('count')\n",
    "df_I94_port_vs_date = df_I94_port_vs_date.na.fill(0)\n",
    "df_I94_port_vs_date.toPandas().head()"
   ]
  },
  {
   "cell_type": "markdown",
   "metadata": {
    "editable": true
   },
   "source": [
    "###### Query 1.1. For a list of port, and given period, how many arrivals per day? "
   ]
  },
  {
   "cell_type": "code",
   "execution_count": 7,
   "metadata": {
    "editable": true
   },
   "outputs": [
    {
     "data": {
      "text/html": [
       "<div>\n",
       "<style scoped>\n",
       "    .dataframe tbody tr th:only-of-type {\n",
       "        vertical-align: middle;\n",
       "    }\n",
       "\n",
       "    .dataframe tbody tr th {\n",
       "        vertical-align: top;\n",
       "    }\n",
       "\n",
       "    .dataframe thead th {\n",
       "        text-align: right;\n",
       "    }\n",
       "</style>\n",
       "<table border=\"1\" class=\"dataframe\">\n",
       "  <thead>\n",
       "    <tr style=\"text-align: right;\">\n",
       "      <th></th>\n",
       "      <th>i94port</th>\n",
       "      <th>2016-04-20</th>\n",
       "      <th>2016-04-21</th>\n",
       "      <th>2016-04-22</th>\n",
       "      <th>2016-04-23</th>\n",
       "      <th>2016-04-24</th>\n",
       "      <th>2016-04-25</th>\n",
       "    </tr>\n",
       "  </thead>\n",
       "  <tbody>\n",
       "    <tr>\n",
       "      <th>0</th>\n",
       "      <td>SFR</td>\n",
       "      <td>4594</td>\n",
       "      <td>4798</td>\n",
       "      <td>5749</td>\n",
       "      <td>5578</td>\n",
       "      <td>5517</td>\n",
       "      <td>5641</td>\n",
       "    </tr>\n",
       "    <tr>\n",
       "      <th>1</th>\n",
       "      <td>MIA</td>\n",
       "      <td>11972</td>\n",
       "      <td>13490</td>\n",
       "      <td>13964</td>\n",
       "      <td>13983</td>\n",
       "      <td>11315</td>\n",
       "      <td>10350</td>\n",
       "    </tr>\n",
       "    <tr>\n",
       "      <th>2</th>\n",
       "      <td>LOS</td>\n",
       "      <td>10347</td>\n",
       "      <td>10615</td>\n",
       "      <td>10240</td>\n",
       "      <td>10532</td>\n",
       "      <td>9596</td>\n",
       "      <td>9932</td>\n",
       "    </tr>\n",
       "    <tr>\n",
       "      <th>3</th>\n",
       "      <td>NYC</td>\n",
       "      <td>16694</td>\n",
       "      <td>18836</td>\n",
       "      <td>20634</td>\n",
       "      <td>21083</td>\n",
       "      <td>17516</td>\n",
       "      <td>16424</td>\n",
       "    </tr>\n",
       "  </tbody>\n",
       "</table>\n",
       "</div>"
      ],
      "text/plain": [
       "  i94port  2016-04-20  2016-04-21  2016-04-22  2016-04-23  2016-04-24  \\\n",
       "0  SFR     4594        4798        5749        5578        5517         \n",
       "1  MIA     11972       13490       13964       13983       11315        \n",
       "2  LOS     10347       10615       10240       10532       9596         \n",
       "3  NYC     16694       18836       20634       21083       17516        \n",
       "\n",
       "   2016-04-25  \n",
       "0  5641        \n",
       "1  10350       \n",
       "2  9932        \n",
       "3  16424       "
      ]
     },
     "execution_count": 7,
     "metadata": {},
     "output_type": "execute_result"
    }
   ],
   "source": [
    "first_day = '2016-04-20'\n",
    "last_day  = '2016-04-25'\n",
    "\n",
    "ports_list = ['NYC', 'MIA', 'LOS', 'SFR'] #New York City, Miami, los Angeles, San Francisco\n",
    "\n",
    "df_I94 = spark.read.format(\"parquet\").load(S3_bucket_I94).where((col('arrdate')>=first_day) & (col('arrdate')<=last_day))\n",
    "df_I94 = df_I94.where(df_I94.i94port.isin(ports_list))\n",
    "\n",
    "retain_columns = ['i94port', 'arrdate', 'depdate', 'dtadfile', 'i94bir','count']\n",
    "df_I94_port_vs_date = df_I94.select(retain_columns).groupBy('i94port').pivot('arrdate').sum('count')\n",
    "df_I94_port_vs_date = df_I94_port_vs_date.na.fill(0)\n",
    "df_I94_port_vs_date.toPandas().head()"
   ]
  },
  {
   "cell_type": "markdown",
   "metadata": {
    "editable": true
   },
   "source": [
    "##### Query 2. Where are the I94 applicants **coming** from, in a given period? \n",
    "\n",
    "I want to know the 10 most represented nations"
   ]
  },
  {
   "cell_type": "code",
   "execution_count": 8,
   "metadata": {
    "editable": true
   },
   "outputs": [
    {
     "name": "stdout",
     "output_type": "stream",
     "text": [
      "+------+------+\n",
      "|i94res| count|\n",
      "+------+------+\n",
      "|   135|180136|\n",
      "|   209|141737|\n",
      "|   245|110948|\n",
      "|   582|102104|\n",
      "|   111| 97253|\n",
      "|   112| 85412|\n",
      "|   689| 76083|\n",
      "|   276| 74436|\n",
      "|   213| 65906|\n",
      "|   438| 57686|\n",
      "+------+------+\n",
      "only showing top 10 rows\n",
      "\n"
     ]
    }
   ],
   "source": [
    "first_day = '2016-04-15'\n",
    "last_day  = '2016-04-30'\n",
    "\n",
    "df_I94 = spark.read.format(\"parquet\").load(S3_bucket_I94).where((col('arrdate')>=first_day) & (col('arrdate')<=last_day))\n",
    "\n",
    "df_I94_count_visitors = df_I94.groupby(\"i94res\").count()\\\n",
    "                                .sort(col(\"count\").desc())\n",
    "df_I94_count_visitors.show(10)"
   ]
  },
  {
   "cell_type": "markdown",
   "metadata": {
    "editable": true
   },
   "source": [
    "The country codes aren't very informative, therefore I'm going to join with the dataframe **df_I94CIT_RES_multi_rows_filtered** on the field **i94res** to get the country name.\n",
    "\n",
    "Finally visualize it in a bar plot."
   ]
  },
  {
   "cell_type": "code",
   "execution_count": 9,
   "metadata": {
    "editable": true
   },
   "outputs": [
    {
     "data": {
      "image/png": "[encoded data removed]",
      "text/plain": [
       "<matplotlib.figure.Figure at 0x7fc965933198>"
      ]
     },
     "metadata": {
      "needs_background": "light"
     },
     "output_type": "display_data"
    }
   ],
   "source": [
    "# first load the country codes mapping file \n",
    "file_pathname = 'country_codes'\n",
    "S3_bucket_country_codes = os.path.join('s3a://',S3_BUCKET, S3_PROC_DATA_JSON, file_pathname )\n",
    "\n",
    "df_I94CIT_RES = spark.read.json(S3_bucket_country_codes)\n",
    "\n",
    "# join count_visitor df with port_mapping df\n",
    "df_I94_count_visitors.limit(50).join(df_I94CIT_RES.withColumnRenamed('code','i94res'), on=\"i94res\", how=\"leftouter\")\\\n",
    "                                                                        .toPandas().plot.bar(x='country', y='count', figsize=(22,6))\n",
    "plt.show()"
   ]
  },
  {
   "cell_type": "markdown",
   "metadata": {
    "editable": true
   },
   "source": [
    "As we can see, the **highest number of visitors** come from the United Kingdom\n",
    "\n",
    "##### Query 3. In the given period, what port registered the highest number of arrivals?"
   ]
  },
  {
   "cell_type": "code",
   "execution_count": 10,
   "metadata": {
    "editable": true
   },
   "outputs": [
    {
     "name": "stdout",
     "output_type": "stream",
     "text": [
      "+-------+------+\n",
      "|i94port| count|\n",
      "+-------+------+\n",
      "|    NYC|270691|\n",
      "|    MIA|190419|\n",
      "|    LOS|168991|\n",
      "|    SFR| 84952|\n",
      "|    ORL| 81976|\n",
      "|    HHW| 78090|\n",
      "|    NEW| 77083|\n",
      "|    CHI| 72433|\n",
      "|    HOU| 56813|\n",
      "|    FTL| 51986|\n",
      "+-------+------+\n",
      "only showing top 10 rows\n",
      "\n"
     ]
    }
   ],
   "source": [
    "first_day = '2016-04-15'\n",
    "last_day  = '2016-04-30'\n",
    "\n",
    "df_I94 = spark.read.format(\"parquet\").load(S3_bucket_I94).where((col('arrdate')>=first_day) & (col('arrdate')<=last_day))\n",
    "\n",
    "df_I94_total_arrivals_per_port = df_I94.groupBy('i94port').count().sort(col('count').desc())\n",
    "df_I94_total_arrivals_per_port.show(10)"
   ]
  },
  {
   "cell_type": "markdown",
   "metadata": {
    "editable": true
   },
   "source": [
    "Let's join it with the port code mapping file"
   ]
  },
  {
   "cell_type": "code",
   "execution_count": 11,
   "metadata": {
    "editable": true
   },
   "outputs": [
    {
     "data": {
      "image/png": "[encoded data removed]",
      "text/plain": [
       "<matplotlib.figure.Figure at 0x7fc9657ec860>"
      ]
     },
     "metadata": {
      "needs_background": "light"
     },
     "output_type": "display_data"
    }
   ],
   "source": [
    "# first load the port codes mapping file \n",
    "file_pathname = 'port_codes'\n",
    "S3_bucket_port_codes = os.path.join('s3a://',S3_BUCKET, S3_PROC_DATA_JSON, file_pathname )\n",
    "\n",
    "df_I94PORT = spark.read.json(S3_bucket_port_codes)\n",
    "\n",
    "df_I94_total_arrivals_per_port.limit(50).join(df_I94PORT.withColumnRenamed('code','i94port'), on='i94port', how='leftouter')\\\n",
    "                                .toPandas().plot.bar(x='city_state', y='count', figsize=(22,6))\n",
    "plt.show()"
   ]
  },
  {
   "cell_type": "markdown",
   "metadata": {
    "editable": true
   },
   "source": [
    "##### Query 4. Number of arrivals in a given city for a given period\n",
    "\n",
    "In this query the data analyst want to see how many arrivals day-by-day have been recorded in a specific city, say **Kansas city**.\n",
    "\n",
    "First we need the code corresponding to Kansas city."
   ]
  },
  {
   "cell_type": "code",
   "execution_count": 12,
   "metadata": {
    "editable": true
   },
   "outputs": [
    {
     "data": {
      "text/plain": [
       "'KAN'"
      ]
     },
     "execution_count": 12,
     "metadata": {},
     "output_type": "execute_result"
    }
   ],
   "source": [
    "city_to_query = 'KANSAS CITY'\n",
    "df_i94_port = spark.read.format('json').load('data/S3bucket_temp/port_codes').where(col('city').like(city_to_query))\n",
    "city_code = df_i94_port.select('code').collect()[0]['code']\n",
    "\n",
    "city_code"
   ]
  },
  {
   "cell_type": "code",
   "execution_count": 13,
   "metadata": {
    "editable": true
   },
   "outputs": [
    {
     "name": "stdout",
     "output_type": "stream",
     "text": [
      "+----------+--------------------+\n",
      "|   arrdate|filed_in_KANSAS CITY|\n",
      "+----------+--------------------+\n",
      "|2016-04-10|                   2|\n",
      "|2016-04-11|                   8|\n",
      "|2016-04-12|                   3|\n",
      "|2016-04-13|                  20|\n",
      "|2016-04-14|                  22|\n",
      "+----------+--------------------+\n",
      "only showing top 5 rows\n",
      "\n"
     ]
    }
   ],
   "source": [
    "first_day = '2016-04-1'\n",
    "last_day  = '2016-04-30'\n",
    "\n",
    "df_I94 = spark.read.format(\"parquet\").load(S3_bucket_I94).where((col('arrdate')>=first_day) & (col('arrdate')<=last_day))\n",
    "\n",
    "df_query_1 = df_I94.select('i94port', 'arrdate', 'count')\\\n",
    "                    .filter(col('i94port')=='KAN')\\\n",
    "                    .groupBy('arrdate')\\\n",
    "                    .count().withColumnRenamed('count', 'filed_in_'+city_to_query)\\\n",
    "                    .orderBy('arrdate')\n",
    "\n",
    "df_query_1.show(5)"
   ]
  },
  {
   "cell_type": "code",
   "execution_count": 14,
   "metadata": {
    "editable": true
   },
   "outputs": [
    {
     "data": {
      "image/png": "[encoded data removed]",
      "text/plain": [
       "<matplotlib.figure.Figure at 0x7fc965721b38>"
      ]
     },
     "metadata": {
      "needs_background": "light"
     },
     "output_type": "display_data"
    }
   ],
   "source": [
    "df_query_1.toPandas().plot.bar(x='arrdate', y=('filed_in_'+city_to_query), figsize=(15,6))\n",
    "plt.show()"
   ]
  },
  {
   "cell_type": "markdown",
   "metadata": {
    "editable": true
   },
   "source": [
    "There isn't really a recognizable pattern, nor a exceptionally high spike of record filed in one day.\n",
    "\n",
    "Out of curiosity let's repeat it for another city: New York"
   ]
  },
  {
   "cell_type": "code",
   "execution_count": 15,
   "metadata": {
    "editable": true
   },
   "outputs": [
    {
     "data": {
      "image/png": "[encoded data removed]",
      "text/plain": [
       "<matplotlib.figure.Figure at 0x7fc96554c2e8>"
      ]
     },
     "metadata": {
      "needs_background": "light"
     },
     "output_type": "display_data"
    }
   ],
   "source": [
    "city_to_query = 'NEW YORK'\n",
    "df_i94_port = spark.read.format('json').load('data/S3bucket_temp/port_codes').where(col('city').contains(city_to_query))\n",
    "city_code = df_i94_port.select('code').collect()[0]['code']\n",
    "\n",
    "first_day = '2016-04-1'\n",
    "last_day  = '2016-04-30'\n",
    "\n",
    "df_I94 = spark.read.format(\"parquet\").load(S3_bucket_I94).where((col('arrdate')>=first_day) & (col('arrdate')<=last_day))\n",
    "\n",
    "df_query_1 = df_I94.select('i94port', 'arrdate', 'count')\\\n",
    "                    .filter(col('i94port')==city_code)\\\n",
    "                    .groupBy('arrdate')\\\n",
    "                    .count().withColumnRenamed('count', 'filed_in_'+city_to_query)\\\n",
    "                    .orderBy('arrdate')\n",
    "\n",
    "df_query_1.toPandas().plot.bar(x='arrdate', y=('filed_in_'+city_to_query), figsize=(15,6))\n",
    "plt.show()"
   ]
  },
  {
   "cell_type": "markdown",
   "metadata": {
    "editable": true
   },
   "source": [
    "##### Query 5. Travelers genders\n",
    "\n",
    "- In 2020 the world population was 50.4% male and 49.6% female ([source](https://www.ined.fr/en/everything_about_population/demographic-facts-sheets/faq/more-men-or-women-in-the-world/)). Is this gender distribution mirrored in the traveler number? "
   ]
  },
  {
   "cell_type": "code",
   "execution_count": 16,
   "metadata": {
    "editable": true
   },
   "outputs": [],
   "source": [
    "df_I94 = spark.read.format(\"parquet\").load(S3_bucket_I94)\n",
    "\n",
    "df_I94_query = df_I94.select('i94port', 'gender', 'count')\\\n",
    "                     .groupBy('gender')\\\n",
    "                     .sum('count')"
   ]
  },
  {
   "cell_type": "code",
   "execution_count": 17,
   "metadata": {
    "editable": true
   },
   "outputs": [
    {
     "name": "stdout",
     "output_type": "stream",
     "text": [
      "+------+----------+\n",
      "|gender|sum(count)|\n",
      "+------+----------+\n",
      "|     F|   1302743|\n",
      "|  null|    414269|\n",
      "|     M|   1377224|\n",
      "|     U|       467|\n",
      "|     X|      1610|\n",
      "+------+----------+\n",
      "\n"
     ]
    }
   ],
   "source": [
    "df_I94_query.show()"
   ]
  },
  {
   "cell_type": "code",
   "execution_count": 18,
   "metadata": {
    "editable": true
   },
   "outputs": [
    {
     "data": {
      "text/plain": [
       "2679967"
      ]
     },
     "execution_count": 18,
     "metadata": {},
     "output_type": "execute_result"
    }
   ],
   "source": [
    "num_visitors = df_I94.filter((col('gender')==lit('M')) | (col('gender')==lit('F'))).count()\n",
    "num_visitors"
   ]
  },
  {
   "cell_type": "code",
   "execution_count": 19,
   "metadata": {
    "editable": true
   },
   "outputs": [
    {
     "name": "stdout",
     "output_type": "stream",
     "text": [
      "+------+----------+------------------+\n",
      "|gender|sum(count)|           percent|\n",
      "+------+----------+------------------+\n",
      "|     F|   1302743|48.610411993879026|\n",
      "|     M|   1377224| 51.38958800612097|\n",
      "+------+----------+------------------+\n",
      "\n"
     ]
    }
   ],
   "source": [
    "df_I94_query.filter((col('gender')==lit('M')) | (col('gender')==lit('F'))).withColumn('percent', col(\"sum(count)\")/num_visitors*100).show()"
   ]
  },
  {
   "cell_type": "markdown",
   "metadata": {
    "editable": true
   },
   "source": [
    "##### Query 6. Is there a city where the difference between male and female travelers is more evident?"
   ]
  },
  {
   "cell_type": "code",
   "execution_count": 20,
   "metadata": {
    "editable": true
   },
   "outputs": [],
   "source": [
    "df_I94_query = spark.read.format(\"parquet\").load(S3_bucket_I94)\\\n",
    "                                            .select('i94port', 'gender', 'count')\\\n",
    "                                            .groupBy('i94port')\\\n",
    "                                            .pivot('gender')\\\n",
    "                                            .sum('count')"
   ]
  },
  {
   "cell_type": "code",
   "execution_count": 21,
   "metadata": {
    "editable": true
   },
   "outputs": [
    {
     "name": "stdout",
     "output_type": "stream",
     "text": [
      "+-------+----+----+----+----+----+\n",
      "|i94port|null|   F|   M|   U|   X|\n",
      "+-------+----+----+----+----+----+\n",
      "|    FMY|1518|8087|7904|   1|   4|\n",
      "|    BGM|null|  24| 104|null|null|\n",
      "|    HEL|null|   1|   1|null|null|\n",
      "|    DNS|null|  14|  21|null|null|\n",
      "|    MOR|null|   5|   9|null|null|\n",
      "|    HVR|   1|   7|  37|null|null|\n",
      "|    FOK|null|   2|  12|null|null|\n",
      "|    SNA|   4|3414|3648|null|null|\n",
      "|    PTK|null|null|  12|null|null|\n",
      "|    SPM|2280|6755|7931|null|   7|\n",
      "+-------+----+----+----+----+----+\n",
      "only showing top 10 rows\n",
      "\n"
     ]
    }
   ],
   "source": [
    "df_I94_query.show(10)"
   ]
  },
  {
   "cell_type": "code",
   "execution_count": 22,
   "metadata": {
    "editable": true
   },
   "outputs": [
    {
     "data": {
      "image/png": "[encoded data removed]",
      "text/plain": [
       "<matplotlib.figure.Figure at 0x7fc9654f7470>"
      ]
     },
     "metadata": {
      "needs_background": "light"
     },
     "output_type": "display_data"
    }
   ],
   "source": [
    "df_I94_query.select('i94port','F','M').orderBy(col('M').desc()).limit(50).toPandas().plot.bar(x='i94port',figsize=(20,8))\n",
    "plt.show()"
   ]
  },
  {
   "cell_type": "markdown",
   "metadata": {
    "editable": true
   },
   "source": [
    "Visually, 4 cities show the biggest difference in visitors' genders:\n",
    "- in San Francisco (SFR) and Chigago (CHI) arrived more men\n",
    "- in New York (NYC) and Honolulu (HHW) arrived more women"
   ]
  },
  {
   "cell_type": "markdown",
   "metadata": {
    "editable": true
   },
   "source": [
    "##### Query 7. Find most visited city (the function)\n",
    "\n",
    "The query requests to aggregate the total number of visitors at each PORT of arrival. Additionally they will be ordered in descending order.\n",
    "\n",
    "The query load the data from the parquet files on S3. A custom time range can be defined passing the first_date and end_date arguments to the function. "
   ]
  },
  {
   "cell_type": "code",
   "execution_count": 23,
   "metadata": {
    "editable": true
   },
   "outputs": [],
   "source": [
    "def find_most_visited_cities_period(S3_bucket, year=None, month=None, start_date=None, end_date=None):\n",
    "    \"\"\"\n",
    "    Supported queries:\n",
    "    - passing only the year as parameter\n",
    "    - passing year and month\n",
    "    - passing custom start and end date in the format \"yyyy-MM-dd\"\n",
    "    \"\"\"\n",
    "    \n",
    "    if year!=None and month==None and start_date==None and end_date==None: # 1 year time range\n",
    "        start_date = str(year)+\"-01-01\"\n",
    "        end_date   = str(year)+\"-12-31\"\n",
    "        df_I94_pre = spark.read.format('parquet').load(S3_bucket).where((col('i94yr')==year))\n",
    "    \n",
    "    elif year!=None and month!=None and start_date==None and end_date==None: # 1 month time range\n",
    "        df_I94_pre = spark.read.format('parquet').load(S3_bucket).where(\n",
    "                            (col('i94yr')==year) & (col('i94mon')==month))\n",
    "        \n",
    "    elif year==None and month==None and start_date!=None and end_date!=None: # custom time range\n",
    "        df_I94_pre = spark.read.format('parquet').load(S3_bucket).where(\n",
    "                            (col('dtadfile')>=to_timestamp(lit(start_date))) & \n",
    "                            (col('dtadfile')<=to_timestamp(lit(end_date))))\n",
    "\n",
    "    df = df_I94_pre.groupBy('i94port')\\\n",
    "          .sum('count')\\\n",
    "          .sort(col('sum(count)').desc())\\\n",
    "          .withColumnRenamed('sum(count)', 'Total_Visitors')\n",
    "    \n",
    "    return df"
   ]
  },
  {
   "cell_type": "markdown",
   "metadata": {
    "editable": true
   },
   "source": [
    "*Query 1 test #1*"
   ]
  },
  {
   "cell_type": "code",
   "execution_count": 24,
   "metadata": {
    "editable": true
   },
   "outputs": [
    {
     "data": {
      "text/html": [
       "<div>\n",
       "<style scoped>\n",
       "    .dataframe tbody tr th:only-of-type {\n",
       "        vertical-align: middle;\n",
       "    }\n",
       "\n",
       "    .dataframe tbody tr th {\n",
       "        vertical-align: top;\n",
       "    }\n",
       "\n",
       "    .dataframe thead th {\n",
       "        text-align: right;\n",
       "    }\n",
       "</style>\n",
       "<table border=\"1\" class=\"dataframe\">\n",
       "  <thead>\n",
       "    <tr style=\"text-align: right;\">\n",
       "      <th></th>\n",
       "      <th>i94port</th>\n",
       "      <th>Total_Visitors</th>\n",
       "    </tr>\n",
       "  </thead>\n",
       "  <tbody>\n",
       "    <tr>\n",
       "      <th>0</th>\n",
       "      <td>NYC</td>\n",
       "      <td>485916</td>\n",
       "    </tr>\n",
       "    <tr>\n",
       "      <th>1</th>\n",
       "      <td>MIA</td>\n",
       "      <td>343941</td>\n",
       "    </tr>\n",
       "    <tr>\n",
       "      <th>2</th>\n",
       "      <td>LOS</td>\n",
       "      <td>310163</td>\n",
       "    </tr>\n",
       "    <tr>\n",
       "      <th>3</th>\n",
       "      <td>SFR</td>\n",
       "      <td>152586</td>\n",
       "    </tr>\n",
       "    <tr>\n",
       "      <th>4</th>\n",
       "      <td>ORL</td>\n",
       "      <td>149195</td>\n",
       "    </tr>\n",
       "  </tbody>\n",
       "</table>\n",
       "</div>"
      ],
      "text/plain": [
       "  i94port  Total_Visitors\n",
       "0  NYC     485916        \n",
       "1  MIA     343941        \n",
       "2  LOS     310163        \n",
       "3  SFR     152586        \n",
       "4  ORL     149195        "
      ]
     },
     "execution_count": 24,
     "metadata": {},
     "output_type": "execute_result"
    }
   ],
   "source": [
    "find_most_visited_cities_period(S3_bucket_I94, 2016, 4).toPandas().head()"
   ]
  },
  {
   "cell_type": "markdown",
   "metadata": {
    "editable": true
   },
   "source": [
    "*Query 1 test #2*"
   ]
  },
  {
   "cell_type": "code",
   "execution_count": 25,
   "metadata": {
    "editable": true
   },
   "outputs": [
    {
     "data": {
      "text/html": [
       "<div>\n",
       "<style scoped>\n",
       "    .dataframe tbody tr th:only-of-type {\n",
       "        vertical-align: middle;\n",
       "    }\n",
       "\n",
       "    .dataframe tbody tr th {\n",
       "        vertical-align: top;\n",
       "    }\n",
       "\n",
       "    .dataframe thead th {\n",
       "        text-align: right;\n",
       "    }\n",
       "</style>\n",
       "<table border=\"1\" class=\"dataframe\">\n",
       "  <thead>\n",
       "    <tr style=\"text-align: right;\">\n",
       "      <th></th>\n",
       "      <th>i94port</th>\n",
       "      <th>Total_Visitors</th>\n",
       "    </tr>\n",
       "  </thead>\n",
       "  <tbody>\n",
       "    <tr>\n",
       "      <th>0</th>\n",
       "      <td>NYC</td>\n",
       "      <td>485916</td>\n",
       "    </tr>\n",
       "    <tr>\n",
       "      <th>1</th>\n",
       "      <td>MIA</td>\n",
       "      <td>343941</td>\n",
       "    </tr>\n",
       "    <tr>\n",
       "      <th>2</th>\n",
       "      <td>LOS</td>\n",
       "      <td>310163</td>\n",
       "    </tr>\n",
       "    <tr>\n",
       "      <th>3</th>\n",
       "      <td>SFR</td>\n",
       "      <td>152586</td>\n",
       "    </tr>\n",
       "    <tr>\n",
       "      <th>4</th>\n",
       "      <td>ORL</td>\n",
       "      <td>149195</td>\n",
       "    </tr>\n",
       "  </tbody>\n",
       "</table>\n",
       "</div>"
      ],
      "text/plain": [
       "  i94port  Total_Visitors\n",
       "0  NYC     485916        \n",
       "1  MIA     343941        \n",
       "2  LOS     310163        \n",
       "3  SFR     152586        \n",
       "4  ORL     149195        "
      ]
     },
     "execution_count": 25,
     "metadata": {},
     "output_type": "execute_result"
    }
   ],
   "source": [
    "find_most_visited_cities_period(S3_bucket_I94, 2016).toPandas().head()"
   ]
  },
  {
   "cell_type": "markdown",
   "metadata": {
    "editable": true
   },
   "source": [
    "*Query 1 test #3*"
   ]
  },
  {
   "cell_type": "code",
   "execution_count": 26,
   "metadata": {
    "editable": true
   },
   "outputs": [
    {
     "data": {
      "text/html": [
       "<div>\n",
       "<style scoped>\n",
       "    .dataframe tbody tr th:only-of-type {\n",
       "        vertical-align: middle;\n",
       "    }\n",
       "\n",
       "    .dataframe tbody tr th {\n",
       "        vertical-align: top;\n",
       "    }\n",
       "\n",
       "    .dataframe thead th {\n",
       "        text-align: right;\n",
       "    }\n",
       "</style>\n",
       "<table border=\"1\" class=\"dataframe\">\n",
       "  <thead>\n",
       "    <tr style=\"text-align: right;\">\n",
       "      <th></th>\n",
       "      <th>i94port</th>\n",
       "      <th>Total_Visitors</th>\n",
       "    </tr>\n",
       "  </thead>\n",
       "  <tbody>\n",
       "    <tr>\n",
       "      <th>0</th>\n",
       "      <td>NYC</td>\n",
       "      <td>483686</td>\n",
       "    </tr>\n",
       "    <tr>\n",
       "      <th>1</th>\n",
       "      <td>MIA</td>\n",
       "      <td>341936</td>\n",
       "    </tr>\n",
       "    <tr>\n",
       "      <th>2</th>\n",
       "      <td>LOS</td>\n",
       "      <td>309009</td>\n",
       "    </tr>\n",
       "    <tr>\n",
       "      <th>3</th>\n",
       "      <td>SFR</td>\n",
       "      <td>151644</td>\n",
       "    </tr>\n",
       "    <tr>\n",
       "      <th>4</th>\n",
       "      <td>ORL</td>\n",
       "      <td>147776</td>\n",
       "    </tr>\n",
       "  </tbody>\n",
       "</table>\n",
       "</div>"
      ],
      "text/plain": [
       "  i94port  Total_Visitors\n",
       "0  NYC     483686        \n",
       "1  MIA     341936        \n",
       "2  LOS     309009        \n",
       "3  SFR     151644        \n",
       "4  ORL     147776        "
      ]
     },
     "execution_count": 26,
     "metadata": {},
     "output_type": "execute_result"
    }
   ],
   "source": [
    "find_most_visited_cities_period(S3_bucket_I94, start_date='2016-04-01', end_date='2016-04-30').toPandas().head()"
   ]
  },
  {
   "cell_type": "markdown",
   "metadata": {
    "editable": true
   },
   "source": [
    "As can be seen I get less visitors in the last test despite having the same time range although expressed differently.\n",
    "\n",
    "This is because the dataset has many **null** and some wrong date in the **dtadfile** column. \n",
    "\n",
    "## Run the queries on EMR\n",
    "Running  `python emr_cluster_submit-Queries.py` an EMR cluster is created and the file **spark_4_emr-Queries.py** is added as step in EMR taskflow.\n",
    "\n",
    "Queries results are saved in s3://helptheplanet/queries/query_results.json"
   ]
  },
  {
   "cell_type": "markdown",
   "metadata": {
    "editable": true
   },
   "source": []
  }
 ],
 "metadata": {
  "kernelspec": {
   "display_name": "Python 3",
   "language": "python",
   "name": "python3"
  },
  "language_info": {
   "codemirror_mode": {
    "name": "ipython",
    "version": 3
   },
   "file_extension": ".py",
   "mimetype": "text/x-python",
   "name": "python",
   "nbconvert_exporter": "python",
   "pygments_lexer": "ipython3",
   "version": "3.6.3"
  }
 },
 "nbformat": 4,
 "nbformat_minor": 4
}
